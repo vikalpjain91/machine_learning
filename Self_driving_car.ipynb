{
 "cells": [
  {
   "cell_type": "code",
   "execution_count": 1,
   "metadata": {
    "colab": {
     "autoexec": {
      "startup": false,
      "wait_interval": 0
     }
    },
    "colab_type": "code",
    "id": "XHFnthirwlfn"
   },
   "outputs": [],
   "source": [
    "# Credits: https://github.com/SullyChen/Autopilot-TensorFlow\n",
    "# Research paper: End to End Learning for Self-Driving Cars by Nvidia. [https://arxiv.org/pdf/1604.07316.pdf]\n",
    "\n",
    "# NVidia dataset: 72 hrs of video => 72*60*60*30 = 7,776,000 images\n",
    "# Nvidia blog: https://devblogs.nvidia.com/deep-learning-self-driving-cars/\n",
    "\n",
    "\n",
    "# Our Dataset: https://github.com/SullyChen/Autopilot-TensorFlow [https://drive.google.com/file/d/0B-KJCaaF7elleG1RbzVPZWV4Tlk/view]\n",
    "# Size: 25 minutes = 25*60*30 = 45,000 images ~ 2.3 GB\n",
    "\n",
    "\n",
    "# If you want to try on a slightly large dataset: 70 minutes of data ~ 223GB\n",
    "# Refer: https://medium.com/udacity/open-sourcing-223gb-of-mountain-view-driving-data-f6b5593fbfa5\n",
    "# Format: Image, latitude, longitude, gear, brake, throttle, steering angles and speed\n",
    "\n",
    "\n",
    "\n",
    "# Additional Installations:\n",
    "# pip3 install h5py\n",
    "\n",
    "\n",
    "# AWS: https://aws.amazon.com/blogs/machine-learning/get-started-with-deep-learning-using-the-aws-deep-learning-ami/\n",
    "\n",
    "# Youtube:https://www.youtube.com/watch?v=qhUvQiKec2U\n",
    "# Further reading and extensions: https://medium.com/udacity/teaching-a-machine-to-steer-a-car-d73217f2492c\n",
    "# More data: https://medium.com/udacity/open-sourcing-223gb-of-mountain-view-driving-data-f6b5593fbfa5"
   ]
  },
  {
   "cell_type": "code",
   "execution_count": 2,
   "metadata": {},
   "outputs": [
    {
     "name": "stdout",
     "output_type": "stream",
     "text": [
      "[[1 2 3]\n",
      " [3 4 5]]\n",
      "[[3 4 5]]\n"
     ]
    }
   ],
   "source": [
    "import numpy as np\n",
    "a = np.array([[1,2,3],[3,4,5]])\n",
    "print(a)\n",
    "print(a[-1:])"
   ]
  },
  {
   "cell_type": "code",
   "execution_count": 27,
   "metadata": {},
   "outputs": [],
   "source": [
    "#function to play sound in windows when execution is over\n",
    "def playsound():\n",
    "    try:\n",
    "        import winsound\n",
    "        frequency = 1000  # Set Frequency To 2500 Hertz\n",
    "        duration = 800  # Set Duration To 1000 ms == 1 second\n",
    "        winsound.Beep(frequency, duration)\n",
    "    except:\n",
    "        print(\"you are not in windows\")\n",
    "    "
   ]
  },
  {
   "cell_type": "markdown",
   "metadata": {},
   "source": [
    "### driving_data.py"
   ]
  },
  {
   "cell_type": "code",
   "execution_count": 23,
   "metadata": {},
   "outputs": [],
   "source": [
    "import scipy.misc\n",
    "import random\n",
    "\n",
    "xs = []\n",
    "ys = []\n",
    "\n",
    "#points to the end of the last batch\n",
    "train_batch_pointer = 0\n",
    "val_batch_pointer = 0\n",
    "\n",
    "#read data.txt\n",
    "with open(\"driving_dataset/data.txt\") as f:\n",
    "    for line in f:\n",
    "        xs.append(\"driving_dataset/\" + line.split()[0])\n",
    "        #the paper by Nvidia uses the inverse of the turning radius,\n",
    "        #but steering wheel angle is proportional to the inverse of turning radius\n",
    "        #so the steering wheel angle in radians is used as the output\n",
    "        ys.append(float(line.split()[1]) * scipy.pi / 180)"
   ]
  },
  {
   "cell_type": "code",
   "execution_count": 25,
   "metadata": {},
   "outputs": [
    {
     "data": {
      "text/plain": [
       "45406"
      ]
     },
     "execution_count": 25,
     "metadata": {},
     "output_type": "execute_result"
    }
   ],
   "source": [
    "#get number of images\n",
    "num_images = len(xs)\n",
    "num_images"
   ]
  },
  {
   "cell_type": "code",
   "execution_count": 26,
   "metadata": {},
   "outputs": [],
   "source": [
    "train_xs = xs[:int(len(xs) * 0.8)]\n",
    "train_ys = ys[:int(len(xs) * 0.8)]\n",
    "\n",
    "val_xs = xs[-int(len(xs) * 0.2):]\n",
    "val_ys = ys[-int(len(xs) * 0.2):]\n",
    "\n",
    "num_train_images = len(train_xs)\n",
    "num_val_images = len(val_xs)"
   ]
  },
  {
   "cell_type": "code",
   "execution_count": 28,
   "metadata": {},
   "outputs": [
    {
     "name": "stderr",
     "output_type": "stream",
     "text": [
      "D:\\Installation\\Anaconda\\lib\\site-packages\\ipykernel_launcher.py:7: DeprecationWarning: `imread` is deprecated!\n",
      "`imread` is deprecated in SciPy 1.0.0, and will be removed in 1.2.0.\n",
      "Use ``imageio.imread`` instead.\n",
      "  import sys\n"
     ]
    },
    {
     "name": "stdout",
     "output_type": "stream",
     "text": [
      "original image size (256, 455, 3)\n",
      "After taking the last 150 rows i.e lower part of the images where road is present,  (150, 455, 3)\n",
      "After resizing the images into 66*200,  (66, 200, 3)\n"
     ]
    },
    {
     "name": "stderr",
     "output_type": "stream",
     "text": [
      "D:\\Installation\\Anaconda\\lib\\site-packages\\ipykernel_launcher.py:12: DeprecationWarning: `imresize` is deprecated!\n",
      "`imresize` is deprecated in SciPy 1.0.0, and will be removed in 1.3.0.\n",
      "Use Pillow instead: ``numpy.array(Image.fromarray(arr).resize())``.\n",
      "  if sys.path[0] == '':\n"
     ]
    }
   ],
   "source": [
    "# scipy.misc.imresize(scipy.misc.imread(train_xs[(train_batch_pointer + i) % num_train_images])[-150:], [66, 200]) / 255.0\n",
    "# you can break the whole line into parts like this\n",
    "# here (train_batch_pointer + i) % num_train_images => \"% num_train_images\" is used to make sure that the\n",
    "# (train_batch_pointer + i) values should not cross number of train images.\n",
    "# import scipy.misc\n",
    "# lets explain whats happening with the first images\n",
    "image_read = scipy.misc.imread(train_xs[0])\n",
    "print(\"original image size\",image_read.shape)\n",
    "\n",
    "print(\"After taking the last 150 rows i.e lower part of the images where road is present, \",image_read[-150:].shape)\n",
    "image_read = image_read[-150:]\n",
    "resized_image = scipy.misc.imresize(image_read, [66, 200])\n",
    "print(\"After resizing the images into 66*200, \",resized_image.shape)\n",
    "# 200/66 = 455/150 = 3.0303 => we are keeping aspect ratio when we are resizing it"
   ]
  },
  {
   "cell_type": "code",
   "execution_count": 29,
   "metadata": {},
   "outputs": [
    {
     "name": "stderr",
     "output_type": "stream",
     "text": [
      "D:\\Installation\\Anaconda\\lib\\site-packages\\ipykernel_launcher.py:1: DeprecationWarning: `imread` is deprecated!\n",
      "`imread` is deprecated in SciPy 1.0.0, and will be removed in 1.2.0.\n",
      "Use ``imageio.imread`` instead.\n",
      "  \"\"\"Entry point for launching an IPython kernel.\n",
      "D:\\Installation\\Anaconda\\lib\\site-packages\\ipykernel_launcher.py:1: DeprecationWarning: `imresize` is deprecated!\n",
      "`imresize` is deprecated in SciPy 1.0.0, and will be removed in 1.3.0.\n",
      "Use Pillow instead: ``numpy.array(Image.fromarray(arr).resize())``.\n",
      "  \"\"\"Entry point for launching an IPython kernel.\n"
     ]
    },
    {
     "data": {
      "text/plain": [
       "array([[[180, 162, 166],\n",
       "        [176, 172, 173],\n",
       "        [176, 176, 171],\n",
       "        ...,\n",
       "        [ 90,  88, 113],\n",
       "        [106,  93,  99],\n",
       "        [101, 103,  81]],\n",
       "\n",
       "       [[191, 188, 192],\n",
       "        [186, 193, 204],\n",
       "        [187, 196, 200],\n",
       "        ...,\n",
       "        [ 84,  82,  97],\n",
       "        [ 86,  88,  79],\n",
       "        [ 86, 101,  74]],\n",
       "\n",
       "       [[208, 201, 223],\n",
       "        [199, 212, 230],\n",
       "        [201, 212, 226],\n",
       "        ...,\n",
       "        [128, 124, 115],\n",
       "        [128, 126, 117],\n",
       "        [132, 126, 119]],\n",
       "\n",
       "       ...,\n",
       "\n",
       "       [[ 54,  43,  55],\n",
       "        [ 59,  43,  56],\n",
       "        [ 55,  41,  53],\n",
       "        ...,\n",
       "        [ 23,  24,  25],\n",
       "        [ 24,  25,  27],\n",
       "        [ 25,  26,  29]],\n",
       "\n",
       "       [[ 56,  36,  58],\n",
       "        [ 53,  35,  63],\n",
       "        [ 51,  39,  54],\n",
       "        ...,\n",
       "        [ 23,  25,  22],\n",
       "        [ 23,  26,  23],\n",
       "        [ 24,  27,  25]],\n",
       "\n",
       "       [[ 68,  37,  44],\n",
       "        [ 53,  41,  49],\n",
       "        [ 49,  49,  37],\n",
       "        ...,\n",
       "        [ 28,  25,  26],\n",
       "        [ 26,  23,  25],\n",
       "        [ 24,  22,  24]]], dtype=uint8)"
      ]
     },
     "execution_count": 29,
     "metadata": {},
     "output_type": "execute_result"
    }
   ],
   "source": [
    "scipy.misc.imresize(scipy.misc.imread(train_xs[0])[-150:], [66, 200])"
   ]
  },
  {
   "cell_type": "code",
   "execution_count": 57,
   "metadata": {},
   "outputs": [],
   "source": [
    "# xs"
   ]
  },
  {
   "cell_type": "code",
   "execution_count": 31,
   "metadata": {},
   "outputs": [],
   "source": [
    "# import scipy.misc\n",
    "# import random\n",
    "\n",
    "# xs = []\n",
    "# ys = []\n",
    "\n",
    "# #points to the end of the last batch\n",
    "# train_batch_pointer = 0\n",
    "# val_batch_pointer = 0\n",
    "\n",
    "# #read data.txt\n",
    "# with open(\"driving_dataset/data.txt\") as f:\n",
    "#     for line in f:\n",
    "#         xs.append(\"driving_dataset/\" + line.split()[0])\n",
    "#         #the paper by Nvidia uses the inverse of the turning radius,\n",
    "#         #but steering wheel angle is proportional to the inverse of turning radius\n",
    "#         #so the steering wheel angle in radians is used as the output\n",
    "#         ys.append(float(line.split()[1]) * scipy.pi / 180)\n",
    "\n",
    "# #get number of images\n",
    "# num_images = len(xs)\n",
    "\n",
    "\n",
    "# train_xs = xs[:int(len(xs) * 0.8)]\n",
    "# train_ys = ys[:int(len(xs) * 0.8)]\n",
    "\n",
    "# val_xs = xs[-int(len(xs) * 0.2):]\n",
    "# val_ys = ys[-int(len(xs) * 0.2):]\n",
    "\n",
    "# num_train_images = len(train_xs)\n",
    "# num_val_images = len(val_xs)\n",
    "\n",
    "def LoadTrainBatch(batch_size):\n",
    "    global train_batch_pointer\n",
    "    x_out = []\n",
    "    y_out = []\n",
    "    for i in range(0, batch_size):\n",
    "        x_out.append(scipy.misc.imresize(scipy.misc.imread(train_xs[(train_batch_pointer + i) % num_train_images])[-150:], [66, 200]) / 255.0)\n",
    "        y_out.append([train_ys[(train_batch_pointer + i) % num_train_images]])\n",
    "    train_batch_pointer += batch_size\n",
    "    return x_out, y_out\n",
    "\n",
    "def LoadValBatch(batch_size):\n",
    "    global val_batch_pointer\n",
    "    x_out = []\n",
    "    y_out = []\n",
    "    for i in range(0, batch_size):\n",
    "        x_out.append(scipy.misc.imresize(scipy.misc.imread(val_xs[(val_batch_pointer + i) % num_val_images])[-150:], [66, 200]) / 255.0)\n",
    "        y_out.append([val_ys[(val_batch_pointer + i) % num_val_images]])\n",
    "    val_batch_pointer += batch_size\n",
    "    return x_out, y_out\n"
   ]
  },
  {
   "cell_type": "code",
   "execution_count": 52,
   "metadata": {},
   "outputs": [],
   "source": [
    "import tensorflow as tf\n",
    "import scipy\n",
    "\n",
    "def weight_variable(shape):\n",
    "    initial = tf.truncated_normal(shape, stddev=0.1)\n",
    "    return tf.Variable(initial)\n",
    "\n",
    "def bias_variable(shape):\n",
    "    initial = tf.constant(0.1, shape=shape)\n",
    "    return tf.Variable(initial)\n",
    "\n",
    "def conv2d(x, W, stride):\n",
    "    return tf.nn.conv2d(x, W, strides=[1, stride, stride, 1], padding='VALID')\n",
    "\n",
    "x = tf.placeholder(tf.float32, shape=[None, 66, 200, 3])\n",
    "y_ = tf.placeholder(tf.float32, shape=[None, 1])\n",
    "\n",
    "x_image = x\n",
    "\n",
    "#first convolutional layer\n",
    "W_conv1 = weight_variable([5, 5, 3, 24])\n",
    "b_conv1 = bias_variable([24])\n",
    "\n",
    "h_conv1 = tf.nn.relu(conv2d(x_image, W_conv1, 2) + b_conv1)\n",
    "\n",
    "#second convolutional layer\n",
    "W_conv2 = weight_variable([5, 5, 24, 36])\n",
    "b_conv2 = bias_variable([36])\n",
    "\n",
    "h_conv2 = tf.nn.relu(conv2d(h_conv1, W_conv2, 2) + b_conv2)\n",
    "\n",
    "#third convolutional layer\n",
    "W_conv3 = weight_variable([5, 5, 36, 48])\n",
    "b_conv3 = bias_variable([48])\n",
    "\n",
    "h_conv3 = tf.nn.relu(conv2d(h_conv2, W_conv3, 2) + b_conv3)\n",
    "\n",
    "#fourth convolutional layer\n",
    "W_conv4 = weight_variable([3, 3, 48, 64])\n",
    "b_conv4 = bias_variable([64])\n",
    "\n",
    "h_conv4 = tf.nn.relu(conv2d(h_conv3, W_conv4, 1) + b_conv4)\n",
    "\n",
    "#fifth convolutional layer\n",
    "W_conv5 = weight_variable([3, 3, 64, 64])\n",
    "b_conv5 = bias_variable([64])\n",
    "\n",
    "h_conv5 = tf.nn.relu(conv2d(h_conv4, W_conv5, 1) + b_conv5)\n",
    "\n",
    "#FCL 1\n",
    "W_fc1 = weight_variable([1152, 1164])\n",
    "b_fc1 = bias_variable([1164])\n",
    "\n",
    "h_conv5_flat = tf.reshape(h_conv5, [-1, 1152])\n",
    "h_fc1 = tf.nn.relu(tf.matmul(h_conv5_flat, W_fc1) + b_fc1)\n",
    "\n",
    "keep_prob = tf.placeholder(tf.float32)\n",
    "h_fc1_drop = tf.nn.dropout(h_fc1, keep_prob)\n",
    "\n",
    "#FCL 2\n",
    "W_fc2 = weight_variable([1164, 100])\n",
    "b_fc2 = bias_variable([100])\n",
    "\n",
    "h_fc2 = tf.nn.relu(tf.matmul(h_fc1_drop, W_fc2) + b_fc2)\n",
    "\n",
    "h_fc2_drop = tf.nn.dropout(h_fc2, keep_prob)\n",
    "\n",
    "#FCL 3\n",
    "W_fc3 = weight_variable([100, 50])\n",
    "b_fc3 = bias_variable([50])\n",
    "\n",
    "h_fc3 = tf.nn.relu(tf.matmul(h_fc2_drop, W_fc3) + b_fc3)\n",
    "\n",
    "h_fc3_drop = tf.nn.dropout(h_fc3, keep_prob)\n",
    "\n",
    "#FCL 3\n",
    "W_fc4 = weight_variable([50, 10])\n",
    "b_fc4 = bias_variable([10])\n",
    "\n",
    "h_fc4 = tf.nn.relu(tf.matmul(h_fc3_drop, W_fc4) + b_fc4)\n",
    "\n",
    "h_fc4_drop = tf.nn.dropout(h_fc4, keep_prob)\n",
    "\n",
    "#Output\n",
    "W_fc5 = weight_variable([10, 1])\n",
    "b_fc5 = bias_variable([1])\n",
    "\n",
    "y = tf.multiply(tf.atan(tf.matmul(h_fc4_drop, W_fc5) + b_fc5), 2) #scale the atan output\n"
   ]
  },
  {
   "cell_type": "code",
   "execution_count": 53,
   "metadata": {
    "colab": {
     "autoexec": {
      "startup": false,
      "wait_interval": 0
     }
    },
    "colab_type": "code",
    "id": "vgcc6iQobKHi"
   },
   "outputs": [
    {
     "name": "stdout",
     "output_type": "stream",
     "text": [
      "Completed processing data.txt\n"
     ]
    }
   ],
   "source": [
    "# read images and steering angles from driving_dataset folder\n",
    "\n",
    "from __future__ import division\n",
    "\n",
    "import os\n",
    "import numpy as np\n",
    "import random\n",
    "\n",
    "from scipy import pi\n",
    "from itertools import islice\n",
    "\n",
    "\n",
    "\n",
    "DATA_FOLDER = './driving_dataset/' # change this to your folder\n",
    "TRAIN_FILE = os.path.join(DATA_FOLDER, 'data.txt')\n",
    "\n",
    "\n",
    "split =0.8\n",
    "X = []\n",
    "y = []\n",
    "LIMIT=None\n",
    "with open(TRAIN_FILE) as fp:\n",
    "    for line in islice(fp, LIMIT):\n",
    "        path, angle = line.strip().split()\n",
    "        full_path = os.path.join(DATA_FOLDER, path)\n",
    "        X.append(full_path)\n",
    "        \n",
    "        # converting angle from degrees to radians\n",
    "        y.append(float(angle) * pi / 180 )\n",
    "\n",
    "\n",
    "y = np.array(y)\n",
    "print(\"Completed processing data.txt\")\n",
    "\n",
    "split_index = int(len(y)*0.8)\n",
    "\n",
    "train_y = y[:split_index]\n",
    "test_y = y[split_index:]\n",
    "\n",
    "          "
   ]
  },
  {
   "cell_type": "code",
   "execution_count": 54,
   "metadata": {},
   "outputs": [
    {
     "name": "stderr",
     "output_type": "stream",
     "text": [
      "D:\\Installation\\Anaconda\\lib\\site-packages\\ipykernel_launcher.py:5: MatplotlibDeprecationWarning: \n",
      "The 'normed' kwarg was deprecated in Matplotlib 2.1 and will be removed in 3.1. Use 'density' instead.\n",
      "  \"\"\"\n",
      "D:\\Installation\\Anaconda\\lib\\site-packages\\ipykernel_launcher.py:6: MatplotlibDeprecationWarning: \n",
      "The 'normed' kwarg was deprecated in Matplotlib 2.1 and will be removed in 3.1. Use 'density' instead.\n",
      "  \n"
     ]
    },
    {
     "data": {
      "image/png": "[encoded data removed]",
      "text/plain": [
       "<Figure size 432x288 with 1 Axes>"
      ]
     },
     "metadata": {
      "needs_background": "light"
     },
     "output_type": "display_data"
    }
   ],
   "source": [
    "import numpy;\n",
    "\n",
    "# PDF of train and test 'y' values. \n",
    "import matplotlib.pyplot as plt \n",
    "plt.hist(train_y, bins=50, normed=1, color='green', histtype ='step');\n",
    "plt.hist(test_y, bins=50, normed=1, color='red', histtype ='step');\n",
    "plt.show()\n",
    "\n",
    "\n"
   ]
  },
  {
   "cell_type": "code",
   "execution_count": 55,
   "metadata": {},
   "outputs": [
    {
     "name": "stdout",
     "output_type": "stream",
     "text": [
      "Test_MSE(MEAN):0.191127\n",
      "Test_MSE(ZERO):0.190891\n"
     ]
    }
   ],
   "source": [
    "#Model 0: Base line Model: y_test_pred = mean(y_train_i) \n",
    "train_mean_y = np.mean(train_y)\n",
    "\n",
    "print('Test_MSE(MEAN):%f' % np.mean(np.square(test_y-train_mean_y)) )\n",
    "\n",
    "print('Test_MSE(ZERO):%f' % np.mean(np.square(test_y-0.0)) )\n"
   ]
  },
  {
   "cell_type": "markdown",
   "metadata": {},
   "source": [
    "## Training the dataset"
   ]
  },
  {
   "cell_type": "code",
   "execution_count": null,
   "metadata": {},
   "outputs": [
    {
     "name": "stderr",
     "output_type": "stream",
     "text": [
      "D:\\Installation\\Anaconda\\lib\\site-packages\\tensorflow\\python\\client\\session.py:1735: UserWarning: An interactive session is already active. This can cause out-of-memory errors in some cases. You must explicitly call `InteractiveSession.close()` to release resources held by the other session(s).\n",
      "  warnings.warn('An interactive session is already active. This can '\n"
     ]
    },
    {
     "name": "stdout",
     "output_type": "stream",
     "text": [
      "Epoch: 0, Step: 0, Loss: 44.4973\n"
     ]
    },
    {
     "name": "stderr",
     "output_type": "stream",
     "text": [
      "W0923 09:49:32.421984  1056 saver.py:1134] *******************************************************\n",
      "W0923 09:49:32.422986  1056 saver.py:1135] TensorFlow's V1 checkpoint format has been deprecated.\n",
      "W0923 09:49:32.427979  1056 saver.py:1136] Consider switching to the more efficient V2 format:\n",
      "W0923 09:49:32.428982  1056 saver.py:1137]    `tf.train.Saver(write_version=tf.train.SaverDef.V2)`\n",
      "W0923 09:49:32.431982  1056 saver.py:1138] now on by default.\n",
      "W0923 09:49:32.434985  1056 saver.py:1139] *******************************************************\n"
     ]
    },
    {
     "name": "stdout",
     "output_type": "stream",
     "text": [
      "Epoch: 0, Step: 10, Loss: 35.4212\n",
      "Epoch: 0, Step: 20, Loss: 34.7877\n",
      "Epoch: 0, Step: 30, Loss: 34.1701\n",
      "Epoch: 0, Step: 40, Loss: 33.6204\n",
      "Epoch: 0, Step: 50, Loss: 33.2458\n",
      "Epoch: 0, Step: 60, Loss: 33.5512\n",
      "Epoch: 0, Step: 70, Loss: 33.7451\n",
      "Epoch: 0, Step: 80, Loss: 31.6905\n",
      "Epoch: 0, Step: 90, Loss: 30.9214\n",
      "Epoch: 0, Step: 100, Loss: 30.381\n"
     ]
    },
    {
     "name": "stderr",
     "output_type": "stream",
     "text": [
      "W0923 09:54:01.153700  1056 saver.py:1134] *******************************************************\n",
      "W0923 09:54:01.158698  1056 saver.py:1135] TensorFlow's V1 checkpoint format has been deprecated.\n",
      "W0923 09:54:01.165700  1056 saver.py:1136] Consider switching to the more efficient V2 format:\n",
      "W0923 09:54:01.167702  1056 saver.py:1137]    `tf.train.Saver(write_version=tf.train.SaverDef.V2)`\n",
      "W0923 09:54:01.180739  1056 saver.py:1138] now on by default.\n",
      "W0923 09:54:01.184720  1056 saver.py:1139] *******************************************************\n"
     ]
    },
    {
     "name": "stdout",
     "output_type": "stream",
     "text": [
      "Epoch: 0, Step: 110, Loss: 29.8954\n",
      "Epoch: 0, Step: 120, Loss: 29.3791\n",
      "Epoch: 0, Step: 130, Loss: 28.9069\n",
      "Epoch: 0, Step: 140, Loss: 28.5034\n",
      "Epoch: 0, Step: 150, Loss: 28.0016\n",
      "Epoch: 0, Step: 160, Loss: 27.4817\n",
      "Epoch: 0, Step: 170, Loss: 27.1379\n",
      "Epoch: 0, Step: 180, Loss: 26.96\n",
      "Epoch: 0, Step: 190, Loss: 26.2018\n",
      "Epoch: 0, Step: 200, Loss: 25.8343\n"
     ]
    },
    {
     "name": "stderr",
     "output_type": "stream",
     "text": [
      "W0923 09:58:46.532272  1056 saver.py:1134] *******************************************************\n",
      "W0923 09:58:46.536267  1056 saver.py:1135] TensorFlow's V1 checkpoint format has been deprecated.\n",
      "W0923 09:58:46.539270  1056 saver.py:1136] Consider switching to the more efficient V2 format:\n",
      "W0923 09:58:46.540306  1056 saver.py:1137]    `tf.train.Saver(write_version=tf.train.SaverDef.V2)`\n",
      "W0923 09:58:46.545269  1056 saver.py:1138] now on by default.\n",
      "W0923 09:58:46.551270  1056 saver.py:1139] *******************************************************\n"
     ]
    },
    {
     "name": "stdout",
     "output_type": "stream",
     "text": [
      "Epoch: 0, Step: 210, Loss: 25.2883\n",
      "Epoch: 0, Step: 220, Loss: 24.8738\n",
      "Epoch: 0, Step: 230, Loss: 24.4676\n",
      "Epoch: 0, Step: 240, Loss: 24.0692\n",
      "Epoch: 0, Step: 250, Loss: 23.684\n",
      "Epoch: 0, Step: 260, Loss: 27.9846\n",
      "Epoch: 0, Step: 270, Loss: 23.7162\n",
      "Epoch: 0, Step: 280, Loss: 22.5476\n",
      "Epoch: 0, Step: 290, Loss: 22.1764\n",
      "Epoch: 0, Step: 300, Loss: 21.8177\n"
     ]
    },
    {
     "name": "stderr",
     "output_type": "stream",
     "text": [
      "W0923 10:03:04.311322  1056 saver.py:1134] *******************************************************\n",
      "W0923 10:03:04.316323  1056 saver.py:1135] TensorFlow's V1 checkpoint format has been deprecated.\n",
      "W0923 10:03:04.318339  1056 saver.py:1136] Consider switching to the more efficient V2 format:\n",
      "W0923 10:03:04.320324  1056 saver.py:1137]    `tf.train.Saver(write_version=tf.train.SaverDef.V2)`\n",
      "W0923 10:03:04.321332  1056 saver.py:1138] now on by default.\n",
      "W0923 10:03:04.330324  1056 saver.py:1139] *******************************************************\n"
     ]
    },
    {
     "name": "stdout",
     "output_type": "stream",
     "text": [
      "Epoch: 0, Step: 310, Loss: 21.4685\n",
      "Epoch: 0, Step: 320, Loss: 21.1193\n",
      "Epoch: 0, Step: 330, Loss: 20.7908\n",
      "Epoch: 0, Step: 340, Loss: 20.4549\n",
      "Epoch: 0, Step: 350, Loss: 20.1266\n",
      "Epoch: 0, Step: 360, Loss: 19.8137\n",
      "Epoch: 0, Step: 370, Loss: 19.5003\n",
      "Epoch: 0, Step: 380, Loss: 19.1737\n",
      "Epoch: 0, Step: 390, Loss: 18.8647\n",
      "Epoch: 0, Step: 400, Loss: 18.5684\n"
     ]
    },
    {
     "name": "stderr",
     "output_type": "stream",
     "text": [
      "W0923 10:07:04.912949  1056 saver.py:1134] *******************************************************\n",
      "W0923 10:07:04.914951  1056 saver.py:1135] TensorFlow's V1 checkpoint format has been deprecated.\n",
      "W0923 10:07:04.915952  1056 saver.py:1136] Consider switching to the more efficient V2 format:\n",
      "W0923 10:07:04.916949  1056 saver.py:1137]    `tf.train.Saver(write_version=tf.train.SaverDef.V2)`\n",
      "W0923 10:07:04.931951  1056 saver.py:1138] now on by default.\n",
      "W0923 10:07:04.932952  1056 saver.py:1139] *******************************************************\n"
     ]
    },
    {
     "name": "stdout",
     "output_type": "stream",
     "text": [
      "Epoch: 0, Step: 410, Loss: 18.2997\n",
      "Epoch: 0, Step: 420, Loss: 17.9966\n",
      "Epoch: 0, Step: 430, Loss: 17.7253\n",
      "Epoch: 0, Step: 440, Loss: 17.4387\n",
      "Epoch: 0, Step: 450, Loss: 17.1622\n",
      "Model saved in file: ./save\\model.ckpt\n",
      "Epoch: 1, Step: 100, Loss: 17.0625\n"
     ]
    },
    {
     "name": "stderr",
     "output_type": "stream",
     "text": [
      "W0923 10:09:06.315596  1056 saver.py:1134] *******************************************************\n",
      "W0923 10:09:06.316597  1056 saver.py:1135] TensorFlow's V1 checkpoint format has been deprecated.\n",
      "W0923 10:09:06.318604  1056 saver.py:1136] Consider switching to the more efficient V2 format:\n",
      "W0923 10:09:06.331592  1056 saver.py:1137]    `tf.train.Saver(write_version=tf.train.SaverDef.V2)`\n",
      "W0923 10:09:06.332598  1056 saver.py:1138] now on by default.\n",
      "W0923 10:09:06.347594  1056 saver.py:1139] *******************************************************\n"
     ]
    },
    {
     "name": "stdout",
     "output_type": "stream",
     "text": [
      "Epoch: 1, Step: 110, Loss: 16.7772\n",
      "Epoch: 1, Step: 120, Loss: 16.5046\n",
      "Epoch: 1, Step: 130, Loss: 16.2414\n",
      "Epoch: 1, Step: 140, Loss: 15.9945\n",
      "Epoch: 1, Step: 150, Loss: 15.7524\n",
      "Epoch: 1, Step: 160, Loss: 15.4959\n",
      "Epoch: 1, Step: 170, Loss: 15.2468\n",
      "Epoch: 1, Step: 180, Loss: 15.0065\n",
      "Epoch: 1, Step: 190, Loss: 14.7769\n",
      "Epoch: 1, Step: 200, Loss: 14.6055\n"
     ]
    },
    {
     "name": "stderr",
     "output_type": "stream",
     "text": [
      "W0923 10:12:36.902360  1056 saver.py:1134] *******************************************************\n",
      "W0923 10:12:36.903369  1056 saver.py:1135] TensorFlow's V1 checkpoint format has been deprecated.\n",
      "W0923 10:12:36.904368  1056 saver.py:1136] Consider switching to the more efficient V2 format:\n",
      "W0923 10:12:36.906372  1056 saver.py:1137]    `tf.train.Saver(write_version=tf.train.SaverDef.V2)`\n",
      "W0923 10:12:36.910365  1056 saver.py:1138] now on by default.\n",
      "W0923 10:12:36.911371  1056 saver.py:1139] *******************************************************\n"
     ]
    },
    {
     "name": "stdout",
     "output_type": "stream",
     "text": [
      "Epoch: 1, Step: 210, Loss: 14.6543\n",
      "Epoch: 1, Step: 220, Loss: 19.4106\n",
      "Epoch: 1, Step: 230, Loss: 13.8949\n",
      "Epoch: 1, Step: 240, Loss: 13.6595\n",
      "Epoch: 1, Step: 250, Loss: 13.4674\n",
      "Epoch: 1, Step: 260, Loss: 13.2818\n",
      "Epoch: 1, Step: 270, Loss: 13.1005\n",
      "Epoch: 1, Step: 280, Loss: 12.8357\n",
      "Epoch: 1, Step: 290, Loss: 12.7794\n",
      "Epoch: 1, Step: 300, Loss: 12.4926\n"
     ]
    },
    {
     "name": "stderr",
     "output_type": "stream",
     "text": [
      "W0923 10:17:08.114756  1056 saver.py:1134] *******************************************************\n",
      "W0923 10:17:08.119754  1056 saver.py:1135] TensorFlow's V1 checkpoint format has been deprecated.\n",
      "W0923 10:17:08.120755  1056 saver.py:1136] Consider switching to the more efficient V2 format:\n",
      "W0923 10:17:08.133756  1056 saver.py:1137]    `tf.train.Saver(write_version=tf.train.SaverDef.V2)`\n",
      "W0923 10:17:08.137762  1056 saver.py:1138] now on by default.\n",
      "W0923 10:17:08.140755  1056 saver.py:1139] *******************************************************\n"
     ]
    },
    {
     "name": "stdout",
     "output_type": "stream",
     "text": [
      "Epoch: 1, Step: 310, Loss: 12.2498\n",
      "Epoch: 1, Step: 320, Loss: 12.1264\n",
      "Epoch: 1, Step: 330, Loss: 11.8816\n",
      "Epoch: 1, Step: 340, Loss: 11.7163\n",
      "Epoch: 1, Step: 350, Loss: 11.545\n",
      "Epoch: 1, Step: 360, Loss: 11.3956\n",
      "Epoch: 1, Step: 370, Loss: 11.258\n",
      "Epoch: 1, Step: 380, Loss: 11.191\n",
      "Epoch: 1, Step: 390, Loss: 10.9364\n",
      "Epoch: 1, Step: 400, Loss: 10.6766\n"
     ]
    },
    {
     "name": "stderr",
     "output_type": "stream",
     "text": [
      "W0923 10:21:07.839709  1056 saver.py:1134] *******************************************************\n",
      "W0923 10:21:07.840744  1056 saver.py:1135] TensorFlow's V1 checkpoint format has been deprecated.\n",
      "W0923 10:21:07.841740  1056 saver.py:1136] Consider switching to the more efficient V2 format:\n",
      "W0923 10:21:07.842741  1056 saver.py:1137]    `tf.train.Saver(write_version=tf.train.SaverDef.V2)`\n",
      "W0923 10:21:07.843741  1056 saver.py:1138] now on by default.\n",
      "W0923 10:21:07.844712  1056 saver.py:1139] *******************************************************\n"
     ]
    },
    {
     "name": "stdout",
     "output_type": "stream",
     "text": [
      "Epoch: 1, Step: 410, Loss: 10.5129\n",
      "Epoch: 1, Step: 420, Loss: 10.3548\n",
      "Epoch: 1, Step: 430, Loss: 10.2004\n",
      "Epoch: 1, Step: 440, Loss: 10.0495\n",
      "Epoch: 1, Step: 450, Loss: 9.89935\n",
      "Epoch: 1, Step: 460, Loss: 9.75297\n",
      "Epoch: 1, Step: 470, Loss: 9.61091\n",
      "Epoch: 1, Step: 480, Loss: 9.47431\n",
      "Epoch: 1, Step: 490, Loss: 9.3521\n",
      "Epoch: 1, Step: 500, Loss: 9.19613\n"
     ]
    },
    {
     "name": "stderr",
     "output_type": "stream",
     "text": [
      "W0923 10:25:41.118115  1056 saver.py:1134] *******************************************************\n",
      "W0923 10:25:41.121118  1056 saver.py:1135] TensorFlow's V1 checkpoint format has been deprecated.\n",
      "W0923 10:25:41.122136  1056 saver.py:1136] Consider switching to the more efficient V2 format:\n",
      "W0923 10:25:41.124119  1056 saver.py:1137]    `tf.train.Saver(write_version=tf.train.SaverDef.V2)`\n",
      "W0923 10:25:41.127126  1056 saver.py:1138] now on by default.\n",
      "W0923 10:25:41.133129  1056 saver.py:1139] *******************************************************\n"
     ]
    },
    {
     "name": "stdout",
     "output_type": "stream",
     "text": [
      "Epoch: 1, Step: 510, Loss: 9.06017\n",
      "Epoch: 1, Step: 520, Loss: 8.96713\n",
      "Epoch: 1, Step: 530, Loss: 8.80324\n",
      "Epoch: 1, Step: 540, Loss: 9.04246\n",
      "Epoch: 1, Step: 550, Loss: 9.14492\n",
      "Model saved in file: ./save\\model.ckpt\n",
      "Epoch: 2, Step: 200, Loss: 8.71096\n"
     ]
    },
    {
     "name": "stderr",
     "output_type": "stream",
     "text": [
      "W0923 10:28:12.529721  1056 saver.py:1134] *******************************************************\n",
      "W0923 10:28:12.530725  1056 saver.py:1135] TensorFlow's V1 checkpoint format has been deprecated.\n",
      "W0923 10:28:12.531721  1056 saver.py:1136] Consider switching to the more efficient V2 format:\n",
      "W0923 10:28:12.533723  1056 saver.py:1137]    `tf.train.Saver(write_version=tf.train.SaverDef.V2)`\n",
      "W0923 10:28:12.538726  1056 saver.py:1138] now on by default.\n",
      "W0923 10:28:12.541726  1056 saver.py:1139] *******************************************************\n"
     ]
    },
    {
     "name": "stdout",
     "output_type": "stream",
     "text": [
      "Epoch: 2, Step: 210, Loss: 8.40828\n",
      "Epoch: 2, Step: 220, Loss: 8.26454\n",
      "Epoch: 2, Step: 230, Loss: 8.14332\n",
      "Epoch: 2, Step: 240, Loss: 8.16025\n",
      "Epoch: 2, Step: 250, Loss: 9.00686\n",
      "Epoch: 2, Step: 260, Loss: 9.16207\n",
      "Epoch: 2, Step: 270, Loss: 7.74488\n",
      "Epoch: 2, Step: 280, Loss: 7.65339\n",
      "Epoch: 2, Step: 290, Loss: 7.45039\n",
      "Epoch: 2, Step: 300, Loss: 7.35258\n"
     ]
    },
    {
     "name": "stderr",
     "output_type": "stream",
     "text": [
      "W0923 10:32:40.721148  1056 saver.py:1134] *******************************************************\n",
      "W0923 10:32:40.723158  1056 saver.py:1135] TensorFlow's V1 checkpoint format has been deprecated.\n",
      "W0923 10:32:40.724155  1056 saver.py:1136] Consider switching to the more efficient V2 format:\n",
      "W0923 10:32:40.726155  1056 saver.py:1137]    `tf.train.Saver(write_version=tf.train.SaverDef.V2)`\n",
      "W0923 10:32:40.729154  1056 saver.py:1138] now on by default.\n",
      "W0923 10:32:40.731154  1056 saver.py:1139] *******************************************************\n"
     ]
    },
    {
     "name": "stdout",
     "output_type": "stream",
     "text": [
      "Epoch: 2, Step: 310, Loss: 7.24735\n",
      "Epoch: 2, Step: 320, Loss: 7.15943\n",
      "Epoch: 2, Step: 330, Loss: 7.09587\n",
      "Epoch: 2, Step: 340, Loss: 6.97359\n",
      "Epoch: 2, Step: 350, Loss: 6.84855\n",
      "Epoch: 2, Step: 360, Loss: 6.86806\n",
      "Epoch: 2, Step: 370, Loss: 7.04625\n",
      "Epoch: 2, Step: 380, Loss: 6.68553\n",
      "Epoch: 2, Step: 390, Loss: 6.56004\n",
      "Epoch: 2, Step: 400, Loss: 6.38212\n"
     ]
    },
    {
     "name": "stderr",
     "output_type": "stream",
     "text": [
      "W0923 10:36:15.767375  1056 saver.py:1134] *******************************************************\n",
      "W0923 10:36:15.770355  1056 saver.py:1135] TensorFlow's V1 checkpoint format has been deprecated.\n",
      "W0923 10:36:15.771356  1056 saver.py:1136] Consider switching to the more efficient V2 format:\n",
      "W0923 10:36:15.780354  1056 saver.py:1137]    `tf.train.Saver(write_version=tf.train.SaverDef.V2)`\n",
      "W0923 10:36:15.783377  1056 saver.py:1138] now on by default.\n",
      "W0923 10:36:15.788356  1056 saver.py:1139] *******************************************************\n"
     ]
    },
    {
     "name": "stdout",
     "output_type": "stream",
     "text": [
      "Epoch: 2, Step: 410, Loss: 6.29465\n",
      "Epoch: 2, Step: 420, Loss: 6.20981\n",
      "Epoch: 2, Step: 430, Loss: 6.12566\n",
      "Epoch: 2, Step: 440, Loss: 6.12023\n",
      "Epoch: 2, Step: 450, Loss: 11.7982\n",
      "Epoch: 2, Step: 460, Loss: 6.1336\n",
      "Epoch: 2, Step: 470, Loss: 5.8124\n",
      "Epoch: 2, Step: 480, Loss: 5.72904\n",
      "Epoch: 2, Step: 490, Loss: 5.65356\n",
      "Epoch: 2, Step: 500, Loss: 5.59198\n"
     ]
    },
    {
     "name": "stderr",
     "output_type": "stream",
     "text": [
      "W0923 10:40:34.741702  1056 saver.py:1134] *******************************************************\n",
      "W0923 10:40:34.743702  1056 saver.py:1135] TensorFlow's V1 checkpoint format has been deprecated.\n",
      "W0923 10:40:34.746703  1056 saver.py:1136] Consider switching to the more efficient V2 format:\n",
      "W0923 10:40:34.749707  1056 saver.py:1137]    `tf.train.Saver(write_version=tf.train.SaverDef.V2)`\n",
      "W0923 10:40:34.759707  1056 saver.py:1138] now on by default.\n",
      "W0923 10:40:34.763703  1056 saver.py:1139] *******************************************************\n"
     ]
    },
    {
     "name": "stdout",
     "output_type": "stream",
     "text": [
      "Epoch: 2, Step: 510, Loss: 5.50348\n",
      "Epoch: 2, Step: 520, Loss: 5.46132\n",
      "Epoch: 2, Step: 530, Loss: 5.37222\n",
      "Epoch: 2, Step: 540, Loss: 5.29641\n",
      "Epoch: 2, Step: 550, Loss: 5.22779\n",
      "Epoch: 2, Step: 560, Loss: 5.1651\n",
      "Epoch: 2, Step: 570, Loss: 5.09614\n",
      "Epoch: 2, Step: 580, Loss: 5.03746\n",
      "Epoch: 2, Step: 590, Loss: 4.96833\n",
      "Epoch: 2, Step: 600, Loss: 4.90396\n"
     ]
    },
    {
     "name": "stderr",
     "output_type": "stream",
     "text": [
      "W0923 10:44:35.518233  1056 saver.py:1134] *******************************************************\n",
      "W0923 10:44:35.520243  1056 saver.py:1135] TensorFlow's V1 checkpoint format has been deprecated.\n",
      "W0923 10:44:35.522234  1056 saver.py:1136] Consider switching to the more efficient V2 format:\n",
      "W0923 10:44:35.525240  1056 saver.py:1137]    `tf.train.Saver(write_version=tf.train.SaverDef.V2)`\n",
      "W0923 10:44:35.528233  1056 saver.py:1138] now on by default.\n",
      "W0923 10:44:35.530236  1056 saver.py:1139] *******************************************************\n"
     ]
    },
    {
     "name": "stdout",
     "output_type": "stream",
     "text": [
      "Epoch: 2, Step: 610, Loss: 4.83827\n",
      "Epoch: 2, Step: 620, Loss: 4.78294\n",
      "Epoch: 2, Step: 630, Loss: 4.71982\n",
      "Epoch: 2, Step: 640, Loss: 4.6583\n",
      "Epoch: 2, Step: 650, Loss: 4.6029\n",
      "Model saved in file: ./save\\model.ckpt\n",
      "Epoch: 3, Step: 300, Loss: 4.57668\n"
     ]
    },
    {
     "name": "stderr",
     "output_type": "stream",
     "text": [
      "W0923 10:46:38.618192  1056 saver.py:1134] *******************************************************\n",
      "W0923 10:46:38.619190  1056 saver.py:1135] TensorFlow's V1 checkpoint format has been deprecated.\n",
      "W0923 10:46:38.621192  1056 saver.py:1136] Consider switching to the more efficient V2 format:\n",
      "W0923 10:46:38.622194  1056 saver.py:1137]    `tf.train.Saver(write_version=tf.train.SaverDef.V2)`\n",
      "W0923 10:46:38.624190  1056 saver.py:1138] now on by default.\n",
      "W0923 10:46:38.627202  1056 saver.py:1139] *******************************************************\n"
     ]
    },
    {
     "name": "stdout",
     "output_type": "stream",
     "text": [
      "Epoch: 3, Step: 310, Loss: 4.53247\n",
      "Epoch: 3, Step: 320, Loss: 4.48377\n",
      "Epoch: 3, Step: 330, Loss: 4.41846\n",
      "Epoch: 3, Step: 340, Loss: 4.36225\n",
      "Epoch: 3, Step: 350, Loss: 4.31361\n",
      "Epoch: 3, Step: 360, Loss: 4.25961\n",
      "Epoch: 3, Step: 370, Loss: 4.2081\n",
      "Epoch: 3, Step: 380, Loss: 4.19088\n",
      "Epoch: 3, Step: 390, Loss: 4.20087\n",
      "Epoch: 3, Step: 400, Loss: 5.78358\n"
     ]
    },
    {
     "name": "stderr",
     "output_type": "stream",
     "text": [
      "W0923 10:50:21.759498  1056 saver.py:1134] *******************************************************\n",
      "W0923 10:50:21.761536  1056 saver.py:1135] TensorFlow's V1 checkpoint format has been deprecated.\n",
      "W0923 10:50:21.767508  1056 saver.py:1136] Consider switching to the more efficient V2 format:\n",
      "W0923 10:50:21.772505  1056 saver.py:1137]    `tf.train.Saver(write_version=tf.train.SaverDef.V2)`\n",
      "W0923 10:50:21.773511  1056 saver.py:1138] now on by default.\n",
      "W0923 10:50:21.776504  1056 saver.py:1139] *******************************************************\n"
     ]
    },
    {
     "name": "stdout",
     "output_type": "stream",
     "text": [
      "Epoch: 3, Step: 410, Loss: 8.46601\n",
      "Epoch: 3, Step: 420, Loss: 4.00852\n",
      "Epoch: 3, Step: 430, Loss: 3.93776\n",
      "Epoch: 3, Step: 440, Loss: 3.8885\n",
      "Epoch: 3, Step: 450, Loss: 3.84986\n",
      "Epoch: 3, Step: 460, Loss: 3.81569\n",
      "Epoch: 3, Step: 470, Loss: 3.80441\n",
      "Epoch: 3, Step: 480, Loss: 3.89272\n",
      "Epoch: 3, Step: 490, Loss: 3.68306\n",
      "Epoch: 3, Step: 500, Loss: 3.63676\n"
     ]
    },
    {
     "name": "stderr",
     "output_type": "stream",
     "text": [
      "W0923 10:54:09.688301  1056 saver.py:1134] *******************************************************\n",
      "W0923 10:54:09.689307  1056 saver.py:1135] TensorFlow's V1 checkpoint format has been deprecated.\n",
      "W0923 10:54:09.691307  1056 saver.py:1136] Consider switching to the more efficient V2 format:\n",
      "W0923 10:54:09.692319  1056 saver.py:1137]    `tf.train.Saver(write_version=tf.train.SaverDef.V2)`\n",
      "W0923 10:54:09.694307  1056 saver.py:1138] now on by default.\n",
      "W0923 10:54:09.696305  1056 saver.py:1139] *******************************************************\n"
     ]
    },
    {
     "name": "stdout",
     "output_type": "stream",
     "text": [
      "Epoch: 3, Step: 510, Loss: 3.61167\n",
      "Epoch: 3, Step: 520, Loss: 3.55694\n",
      "Epoch: 3, Step: 530, Loss: 3.54394\n",
      "Epoch: 3, Step: 540, Loss: 3.51397\n",
      "Epoch: 3, Step: 550, Loss: 3.51888\n",
      "Epoch: 3, Step: 560, Loss: 3.46197\n",
      "Epoch: 3, Step: 570, Loss: 3.4868\n",
      "Epoch: 3, Step: 580, Loss: 3.3608\n",
      "Epoch: 3, Step: 590, Loss: 3.3168\n",
      "Epoch: 3, Step: 600, Loss: 3.27326\n"
     ]
    },
    {
     "name": "stderr",
     "output_type": "stream",
     "text": [
      "W0923 10:57:28.112783  1056 saver.py:1134] *******************************************************\n",
      "W0923 10:57:28.113784  1056 saver.py:1135] TensorFlow's V1 checkpoint format has been deprecated.\n",
      "W0923 10:57:28.114787  1056 saver.py:1136] Consider switching to the more efficient V2 format:\n",
      "W0923 10:57:28.122795  1056 saver.py:1137]    `tf.train.Saver(write_version=tf.train.SaverDef.V2)`\n",
      "W0923 10:57:28.123786  1056 saver.py:1138] now on by default.\n",
      "W0923 10:57:28.126786  1056 saver.py:1139] *******************************************************\n"
     ]
    },
    {
     "name": "stdout",
     "output_type": "stream",
     "text": [
      "Epoch: 3, Step: 610, Loss: 3.23795\n",
      "Epoch: 3, Step: 620, Loss: 3.20881\n",
      "Epoch: 3, Step: 630, Loss: 3.17859\n",
      "Epoch: 3, Step: 640, Loss: 3.14849\n",
      "Epoch: 3, Step: 650, Loss: 3.16075\n",
      "Epoch: 3, Step: 660, Loss: 3.11425\n",
      "Epoch: 3, Step: 670, Loss: 3.05929\n",
      "Epoch: 3, Step: 680, Loss: 3.02009\n",
      "Epoch: 3, Step: 690, Loss: 3.00781\n",
      "Epoch: 3, Step: 700, Loss: 2.96356\n"
     ]
    },
    {
     "name": "stderr",
     "output_type": "stream",
     "text": [
      "W0923 11:00:49.363569  1056 saver.py:1134] *******************************************************\n",
      "W0923 11:00:49.364569  1056 saver.py:1135] TensorFlow's V1 checkpoint format has been deprecated.\n",
      "W0923 11:00:49.365572  1056 saver.py:1136] Consider switching to the more efficient V2 format:\n",
      "W0923 11:00:49.366573  1056 saver.py:1137]    `tf.train.Saver(write_version=tf.train.SaverDef.V2)`\n",
      "W0923 11:00:49.367570  1056 saver.py:1138] now on by default.\n",
      "W0923 11:00:49.376577  1056 saver.py:1139] *******************************************************\n"
     ]
    },
    {
     "name": "stdout",
     "output_type": "stream",
     "text": [
      "Epoch: 3, Step: 710, Loss: 2.96447\n",
      "Epoch: 3, Step: 720, Loss: 2.95327\n",
      "Epoch: 3, Step: 730, Loss: 3.2222\n",
      "Epoch: 3, Step: 740, Loss: 2.93709\n",
      "Epoch: 3, Step: 750, Loss: 2.96132\n",
      "Model saved in file: ./save\\model.ckpt\n",
      "Epoch: 4, Step: 400, Loss: 2.83764\n"
     ]
    },
    {
     "name": "stderr",
     "output_type": "stream",
     "text": [
      "W0923 11:02:48.964729  1056 saver.py:1134] *******************************************************\n",
      "W0923 11:02:48.966770  1056 saver.py:1135] TensorFlow's V1 checkpoint format has been deprecated.\n",
      "W0923 11:02:48.968734  1056 saver.py:1136] Consider switching to the more efficient V2 format:\n",
      "W0923 11:02:48.983740  1056 saver.py:1137]    `tf.train.Saver(write_version=tf.train.SaverDef.V2)`\n",
      "W0923 11:02:48.986733  1056 saver.py:1138] now on by default.\n",
      "W0923 11:02:48.996732  1056 saver.py:1139] *******************************************************\n"
     ]
    },
    {
     "name": "stdout",
     "output_type": "stream",
     "text": [
      "Epoch: 4, Step: 410, Loss: 2.80614\n",
      "Epoch: 4, Step: 420, Loss: 2.86525\n",
      "Epoch: 4, Step: 430, Loss: 2.89627\n",
      "Epoch: 4, Step: 440, Loss: 3.73874\n",
      "Epoch: 4, Step: 450, Loss: 3.70321\n",
      "Epoch: 4, Step: 460, Loss: 2.72234\n",
      "Epoch: 4, Step: 470, Loss: 2.6929\n",
      "Epoch: 4, Step: 480, Loss: 2.6529\n",
      "Epoch: 4, Step: 490, Loss: 2.63706\n",
      "Epoch: 4, Step: 500, Loss: 2.60579\n"
     ]
    },
    {
     "name": "stderr",
     "output_type": "stream",
     "text": [
      "W0923 11:06:33.427308  1056 saver.py:1134] *******************************************************\n",
      "W0923 11:06:33.429348  1056 saver.py:1135] TensorFlow's V1 checkpoint format has been deprecated.\n",
      "W0923 11:06:33.435311  1056 saver.py:1136] Consider switching to the more efficient V2 format:\n",
      "W0923 11:06:33.439312  1056 saver.py:1137]    `tf.train.Saver(write_version=tf.train.SaverDef.V2)`\n",
      "W0923 11:06:33.440353  1056 saver.py:1138] now on by default.\n",
      "W0923 11:06:33.447312  1056 saver.py:1139] *******************************************************\n"
     ]
    },
    {
     "name": "stdout",
     "output_type": "stream",
     "text": [
      "Epoch: 4, Step: 510, Loss: 2.57082\n",
      "Epoch: 4, Step: 520, Loss: 2.56332\n",
      "Epoch: 4, Step: 530, Loss: 2.53943\n",
      "Epoch: 4, Step: 540, Loss: 2.53401\n",
      "Epoch: 4, Step: 550, Loss: 2.60315\n",
      "Epoch: 4, Step: 560, Loss: 2.88003\n",
      "Epoch: 4, Step: 570, Loss: 2.72316\n",
      "Epoch: 4, Step: 580, Loss: 2.44824\n",
      "Epoch: 4, Step: 590, Loss: 2.41735\n",
      "Epoch: 4, Step: 600, Loss: 2.39833\n"
     ]
    },
    {
     "name": "stderr",
     "output_type": "stream",
     "text": [
      "W0923 11:11:08.481746  1056 saver.py:1134] *******************************************************\n",
      "W0923 11:11:08.482765  1056 saver.py:1135] TensorFlow's V1 checkpoint format has been deprecated.\n",
      "W0923 11:11:08.489745  1056 saver.py:1136] Consider switching to the more efficient V2 format:\n",
      "W0923 11:11:08.492745  1056 saver.py:1137]    `tf.train.Saver(write_version=tf.train.SaverDef.V2)`\n",
      "W0923 11:11:08.495746  1056 saver.py:1138] now on by default.\n",
      "W0923 11:11:08.496746  1056 saver.py:1139] *******************************************************\n"
     ]
    },
    {
     "name": "stdout",
     "output_type": "stream",
     "text": [
      "Epoch: 4, Step: 610, Loss: 2.38214\n",
      "Epoch: 4, Step: 620, Loss: 2.36317\n",
      "Epoch: 4, Step: 630, Loss: 2.83991\n",
      "Epoch: 4, Step: 640, Loss: 7.4463\n",
      "Epoch: 4, Step: 650, Loss: 2.35785\n",
      "Epoch: 4, Step: 660, Loss: 2.30739\n",
      "Epoch: 4, Step: 670, Loss: 2.28301\n",
      "Epoch: 4, Step: 680, Loss: 2.2677\n",
      "Epoch: 4, Step: 690, Loss: 2.26794\n",
      "Epoch: 4, Step: 700, Loss: 2.27015\n"
     ]
    },
    {
     "name": "stderr",
     "output_type": "stream",
     "text": [
      "W0923 11:15:11.958208  1056 saver.py:1134] *******************************************************\n",
      "W0923 11:15:11.959208  1056 saver.py:1135] TensorFlow's V1 checkpoint format has been deprecated.\n",
      "W0923 11:15:11.960207  1056 saver.py:1136] Consider switching to the more efficient V2 format:\n",
      "W0923 11:15:11.961209  1056 saver.py:1137]    `tf.train.Saver(write_version=tf.train.SaverDef.V2)`\n",
      "W0923 11:15:11.963209  1056 saver.py:1138] now on by default.\n",
      "W0923 11:15:11.965208  1056 saver.py:1139] *******************************************************\n"
     ]
    },
    {
     "name": "stdout",
     "output_type": "stream",
     "text": [
      "Epoch: 4, Step: 710, Loss: 2.30629\n",
      "Epoch: 4, Step: 720, Loss: 2.2081\n",
      "Epoch: 4, Step: 730, Loss: 2.19366\n",
      "Epoch: 4, Step: 740, Loss: 2.23778\n",
      "Epoch: 4, Step: 750, Loss: 2.54579\n",
      "Epoch: 4, Step: 760, Loss: 2.24571\n",
      "Epoch: 4, Step: 770, Loss: 2.3478\n",
      "Epoch: 4, Step: 780, Loss: 3.04002\n",
      "Epoch: 4, Step: 790, Loss: 2.31849\n",
      "Epoch: 4, Step: 800, Loss: 2.13342\n"
     ]
    },
    {
     "name": "stderr",
     "output_type": "stream",
     "text": [
      "W0923 11:19:01.194091  1056 saver.py:1134] *******************************************************\n",
      "W0923 11:19:01.196089  1056 saver.py:1135] TensorFlow's V1 checkpoint format has been deprecated.\n",
      "W0923 11:19:01.198121  1056 saver.py:1136] Consider switching to the more efficient V2 format:\n",
      "W0923 11:19:01.200092  1056 saver.py:1137]    `tf.train.Saver(write_version=tf.train.SaverDef.V2)`\n",
      "W0923 11:19:01.204090  1056 saver.py:1138] now on by default.\n",
      "W0923 11:19:01.221087  1056 saver.py:1139] *******************************************************\n"
     ]
    },
    {
     "name": "stdout",
     "output_type": "stream",
     "text": [
      "Epoch: 4, Step: 810, Loss: 2.1639\n",
      "Epoch: 4, Step: 820, Loss: 2.07167\n",
      "Epoch: 4, Step: 830, Loss: 2.06408\n",
      "Epoch: 4, Step: 840, Loss: 2.07446\n",
      "Epoch: 4, Step: 850, Loss: 2.05857\n",
      "Model saved in file: ./save\\model.ckpt\n",
      "Epoch: 5, Step: 500, Loss: 2.05812\n"
     ]
    },
    {
     "name": "stderr",
     "output_type": "stream",
     "text": [
      "W0923 11:20:59.732580  1056 saver.py:1134] *******************************************************\n",
      "W0923 11:20:59.733583  1056 saver.py:1135] TensorFlow's V1 checkpoint format has been deprecated.\n",
      "W0923 11:20:59.734581  1056 saver.py:1136] Consider switching to the more efficient V2 format:\n",
      "W0923 11:20:59.735582  1056 saver.py:1137]    `tf.train.Saver(write_version=tf.train.SaverDef.V2)`\n",
      "W0923 11:20:59.738585  1056 saver.py:1138] now on by default.\n",
      "W0923 11:20:59.741584  1056 saver.py:1139] *******************************************************\n"
     ]
    },
    {
     "name": "stdout",
     "output_type": "stream",
     "text": [
      "Epoch: 5, Step: 510, Loss: 2.04108\n",
      "Epoch: 5, Step: 520, Loss: 2.01058\n",
      "Epoch: 5, Step: 530, Loss: 2.00261\n",
      "Epoch: 5, Step: 540, Loss: 1.99142\n",
      "Epoch: 5, Step: 550, Loss: 1.9827\n",
      "Epoch: 5, Step: 560, Loss: 1.97151\n",
      "Epoch: 5, Step: 570, Loss: 1.96637\n",
      "Epoch: 5, Step: 580, Loss: 2.00296\n",
      "Epoch: 5, Step: 590, Loss: 4.54832\n",
      "Epoch: 5, Step: 600, Loss: 4.72183\n"
     ]
    },
    {
     "name": "stderr",
     "output_type": "stream",
     "text": [
      "W0923 11:24:35.238100  1056 saver.py:1134] *******************************************************\n",
      "W0923 11:24:35.240109  1056 saver.py:1135] TensorFlow's V1 checkpoint format has been deprecated.\n",
      "W0923 11:24:35.243103  1056 saver.py:1136] Consider switching to the more efficient V2 format:\n",
      "W0923 11:24:35.244105  1056 saver.py:1137]    `tf.train.Saver(write_version=tf.train.SaverDef.V2)`\n",
      "W0923 11:24:35.249102  1056 saver.py:1138] now on by default.\n",
      "W0923 11:24:35.251123  1056 saver.py:1139] *******************************************************\n"
     ]
    },
    {
     "name": "stdout",
     "output_type": "stream",
     "text": [
      "Epoch: 5, Step: 610, Loss: 1.92315\n",
      "Epoch: 5, Step: 620, Loss: 1.91022\n",
      "Epoch: 5, Step: 630, Loss: 1.94621\n",
      "Epoch: 5, Step: 640, Loss: 1.94975\n",
      "Epoch: 5, Step: 650, Loss: 1.92928\n",
      "Epoch: 5, Step: 660, Loss: 1.92118\n",
      "Epoch: 5, Step: 670, Loss: 1.93545\n",
      "Epoch: 5, Step: 680, Loss: 1.86371\n",
      "Epoch: 5, Step: 690, Loss: 1.86674\n",
      "Epoch: 5, Step: 700, Loss: 1.85871\n"
     ]
    },
    {
     "name": "stderr",
     "output_type": "stream",
     "text": [
      "W0923 11:28:19.667664  1056 saver.py:1134] *******************************************************\n",
      "W0923 11:28:19.668669  1056 saver.py:1135] TensorFlow's V1 checkpoint format has been deprecated.\n",
      "W0923 11:28:19.669673  1056 saver.py:1136] Consider switching to the more efficient V2 format:\n",
      "W0923 11:28:19.670675  1056 saver.py:1137]    `tf.train.Saver(write_version=tf.train.SaverDef.V2)`\n",
      "W0923 11:28:19.678678  1056 saver.py:1138] now on by default.\n",
      "W0923 11:28:19.681673  1056 saver.py:1139] *******************************************************\n"
     ]
    },
    {
     "name": "stdout",
     "output_type": "stream",
     "text": [
      "Epoch: 5, Step: 710, Loss: 1.84399\n",
      "Epoch: 5, Step: 720, Loss: 1.82981\n",
      "Epoch: 5, Step: 730, Loss: 1.88693\n",
      "Epoch: 5, Step: 740, Loss: 1.86767\n",
      "Epoch: 5, Step: 750, Loss: 1.86457\n",
      "Epoch: 5, Step: 760, Loss: 1.89188\n",
      "Epoch: 5, Step: 770, Loss: 1.78844\n",
      "Epoch: 5, Step: 780, Loss: 1.82456\n",
      "Epoch: 5, Step: 790, Loss: 2.9558\n",
      "Epoch: 5, Step: 800, Loss: 2.14916\n"
     ]
    },
    {
     "name": "stderr",
     "output_type": "stream",
     "text": [
      "W0923 11:31:54.568327  1056 saver.py:1134] *******************************************************\n",
      "W0923 11:31:54.569334  1056 saver.py:1135] TensorFlow's V1 checkpoint format has been deprecated.\n",
      "W0923 11:31:54.573333  1056 saver.py:1136] Consider switching to the more efficient V2 format:\n",
      "W0923 11:31:54.575336  1056 saver.py:1137]    `tf.train.Saver(write_version=tf.train.SaverDef.V2)`\n",
      "W0923 11:31:54.578334  1056 saver.py:1138] now on by default.\n",
      "W0923 11:31:54.580330  1056 saver.py:1139] *******************************************************\n"
     ]
    },
    {
     "name": "stdout",
     "output_type": "stream",
     "text": [
      "Epoch: 5, Step: 810, Loss: 1.9019\n",
      "Epoch: 5, Step: 820, Loss: 1.75071\n",
      "Epoch: 5, Step: 830, Loss: 1.73486\n",
      "Epoch: 5, Step: 840, Loss: 1.72832\n",
      "Epoch: 5, Step: 850, Loss: 1.72599\n",
      "Epoch: 5, Step: 860, Loss: 1.72204\n",
      "Epoch: 5, Step: 870, Loss: 1.72\n",
      "Epoch: 5, Step: 880, Loss: 1.70568\n",
      "Epoch: 5, Step: 890, Loss: 1.74677\n",
      "Epoch: 5, Step: 900, Loss: 1.7572\n"
     ]
    },
    {
     "name": "stderr",
     "output_type": "stream",
     "text": [
      "W0923 11:36:16.385967  1056 saver.py:1134] *******************************************************\n",
      "W0923 11:36:16.387969  1056 saver.py:1135] TensorFlow's V1 checkpoint format has been deprecated.\n",
      "W0923 11:36:16.391974  1056 saver.py:1136] Consider switching to the more efficient V2 format:\n",
      "W0923 11:36:16.394972  1056 saver.py:1137]    `tf.train.Saver(write_version=tf.train.SaverDef.V2)`\n",
      "W0923 11:36:16.397973  1056 saver.py:1138] now on by default.\n",
      "W0923 11:36:16.400975  1056 saver.py:1139] *******************************************************\n"
     ]
    },
    {
     "name": "stdout",
     "output_type": "stream",
     "text": [
      "Epoch: 5, Step: 910, Loss: 1.71383\n",
      "Epoch: 5, Step: 920, Loss: 2.17682\n",
      "Epoch: 5, Step: 930, Loss: 2.13896\n",
      "Epoch: 5, Step: 940, Loss: 1.80189\n",
      "Epoch: 5, Step: 950, Loss: 1.69496\n",
      "Model saved in file: ./save\\model.ckpt\n",
      "Epoch: 6, Step: 600, Loss: 1.67229\n"
     ]
    },
    {
     "name": "stderr",
     "output_type": "stream",
     "text": [
      "W0923 11:38:12.815086  1056 saver.py:1134] *******************************************************\n",
      "W0923 11:38:12.816087  1056 saver.py:1135] TensorFlow's V1 checkpoint format has been deprecated.\n",
      "W0923 11:38:12.819087  1056 saver.py:1136] Consider switching to the more efficient V2 format:\n",
      "W0923 11:38:12.821094  1056 saver.py:1137]    `tf.train.Saver(write_version=tf.train.SaverDef.V2)`\n",
      "W0923 11:38:12.823094  1056 saver.py:1138] now on by default.\n",
      "W0923 11:38:12.825095  1056 saver.py:1139] *******************************************************\n"
     ]
    },
    {
     "name": "stdout",
     "output_type": "stream",
     "text": [
      "Epoch: 6, Step: 610, Loss: 1.69846\n",
      "Epoch: 6, Step: 620, Loss: 2.01254\n",
      "Epoch: 6, Step: 630, Loss: 3.07658\n",
      "Epoch: 6, Step: 640, Loss: 2.37143\n",
      "Epoch: 6, Step: 650, Loss: 1.69963\n",
      "Epoch: 6, Step: 660, Loss: 1.64356\n",
      "Epoch: 6, Step: 670, Loss: 1.61671\n",
      "Epoch: 6, Step: 680, Loss: 1.60414\n",
      "Epoch: 6, Step: 690, Loss: 1.60545\n",
      "Epoch: 6, Step: 700, Loss: 1.62276\n"
     ]
    },
    {
     "name": "stderr",
     "output_type": "stream",
     "text": [
      "W0923 11:42:08.979459  1056 saver.py:1134] *******************************************************\n",
      "W0923 11:42:08.984464  1056 saver.py:1135] TensorFlow's V1 checkpoint format has been deprecated.\n",
      "W0923 11:42:08.999459  1056 saver.py:1136] Consider switching to the more efficient V2 format:\n",
      "W0923 11:42:09.002473  1056 saver.py:1137]    `tf.train.Saver(write_version=tf.train.SaverDef.V2)`\n",
      "W0923 11:42:09.005464  1056 saver.py:1138] now on by default.\n",
      "W0923 11:42:09.008464  1056 saver.py:1139] *******************************************************\n"
     ]
    },
    {
     "name": "stdout",
     "output_type": "stream",
     "text": [
      "Epoch: 6, Step: 710, Loss: 1.66344\n",
      "Epoch: 6, Step: 720, Loss: 1.58162\n",
      "Epoch: 6, Step: 730, Loss: 1.62833\n",
      "Epoch: 6, Step: 740, Loss: 1.70185\n",
      "Epoch: 6, Step: 750, Loss: 1.8852\n",
      "Epoch: 6, Step: 760, Loss: 2.04281\n",
      "Epoch: 6, Step: 770, Loss: 1.62725\n",
      "Epoch: 6, Step: 780, Loss: 1.56563\n",
      "Epoch: 6, Step: 790, Loss: 1.57149\n",
      "Epoch: 6, Step: 800, Loss: 1.91213\n"
     ]
    },
    {
     "name": "stderr",
     "output_type": "stream",
     "text": [
      "W0923 11:46:04.117291  1056 saver.py:1134] *******************************************************\n",
      "W0923 11:46:04.118291  1056 saver.py:1135] TensorFlow's V1 checkpoint format has been deprecated.\n",
      "W0923 11:46:04.120300  1056 saver.py:1136] Consider switching to the more efficient V2 format:\n",
      "W0923 11:46:04.123285  1056 saver.py:1137]    `tf.train.Saver(write_version=tf.train.SaverDef.V2)`\n",
      "W0923 11:46:04.124287  1056 saver.py:1138] now on by default.\n",
      "W0923 11:46:04.128287  1056 saver.py:1139] *******************************************************\n"
     ]
    },
    {
     "name": "stdout",
     "output_type": "stream",
     "text": [
      "Epoch: 6, Step: 810, Loss: 1.53491\n",
      "Epoch: 6, Step: 820, Loss: 3.22934\n",
      "Epoch: 6, Step: 830, Loss: 5.93422\n",
      "Epoch: 6, Step: 840, Loss: 1.53998\n",
      "Epoch: 6, Step: 850, Loss: 1.52644\n",
      "Epoch: 6, Step: 860, Loss: 1.5162\n",
      "Epoch: 6, Step: 870, Loss: 1.50694\n",
      "Epoch: 6, Step: 880, Loss: 1.51266\n",
      "Epoch: 6, Step: 890, Loss: 1.50967\n",
      "Epoch: 6, Step: 900, Loss: 1.50955\n"
     ]
    },
    {
     "name": "stderr",
     "output_type": "stream",
     "text": [
      "W0923 11:50:06.502030  1056 saver.py:1134] *******************************************************\n",
      "W0923 11:50:06.504037  1056 saver.py:1135] TensorFlow's V1 checkpoint format has been deprecated.\n",
      "W0923 11:50:06.505065  1056 saver.py:1136] Consider switching to the more efficient V2 format:\n",
      "W0923 11:50:06.506065  1056 saver.py:1137]    `tf.train.Saver(write_version=tf.train.SaverDef.V2)`\n",
      "W0923 11:50:06.512036  1056 saver.py:1138] now on by default.\n",
      "W0923 11:50:06.514036  1056 saver.py:1139] *******************************************************\n"
     ]
    },
    {
     "name": "stdout",
     "output_type": "stream",
     "text": [
      "Epoch: 6, Step: 910, Loss: 1.51385\n",
      "Epoch: 6, Step: 920, Loss: 1.51032\n",
      "Epoch: 6, Step: 930, Loss: 1.49193\n",
      "Epoch: 6, Step: 940, Loss: 1.48791\n",
      "Epoch: 6, Step: 950, Loss: 1.48534\n",
      "Epoch: 6, Step: 960, Loss: 1.47827\n",
      "Epoch: 6, Step: 970, Loss: 1.47548\n",
      "Epoch: 6, Step: 980, Loss: 1.46594\n",
      "Epoch: 6, Step: 990, Loss: 1.46267\n",
      "Epoch: 6, Step: 1000, Loss: 1.45886\n"
     ]
    },
    {
     "name": "stderr",
     "output_type": "stream",
     "text": [
      "W0923 11:53:49.152637  1056 saver.py:1134] *******************************************************\n",
      "W0923 11:53:49.154637  1056 saver.py:1135] TensorFlow's V1 checkpoint format has been deprecated.\n",
      "W0923 11:53:49.155633  1056 saver.py:1136] Consider switching to the more efficient V2 format:\n",
      "W0923 11:53:49.158636  1056 saver.py:1137]    `tf.train.Saver(write_version=tf.train.SaverDef.V2)`\n",
      "W0923 11:53:49.161634  1056 saver.py:1138] now on by default.\n",
      "W0923 11:53:49.167637  1056 saver.py:1139] *******************************************************\n"
     ]
    },
    {
     "name": "stdout",
     "output_type": "stream",
     "text": [
      "Epoch: 6, Step: 1010, Loss: 1.45479\n",
      "Epoch: 6, Step: 1020, Loss: 1.45108\n",
      "Epoch: 6, Step: 1030, Loss: 1.44247\n",
      "Epoch: 6, Step: 1040, Loss: 1.43801\n",
      "Epoch: 6, Step: 1050, Loss: 1.43851\n",
      "Model saved in file: ./save\\model.ckpt\n",
      "Epoch: 7, Step: 700, Loss: 1.43422\n"
     ]
    },
    {
     "name": "stderr",
     "output_type": "stream",
     "text": [
      "W0923 11:55:57.614484  1056 saver.py:1134] *******************************************************\n",
      "W0923 11:55:57.616482  1056 saver.py:1135] TensorFlow's V1 checkpoint format has been deprecated.\n",
      "W0923 11:55:57.617484  1056 saver.py:1136] Consider switching to the more efficient V2 format:\n",
      "W0923 11:55:57.618481  1056 saver.py:1137]    `tf.train.Saver(write_version=tf.train.SaverDef.V2)`\n",
      "W0923 11:55:57.624491  1056 saver.py:1138] now on by default.\n",
      "W0923 11:55:57.628483  1056 saver.py:1139] *******************************************************\n"
     ]
    },
    {
     "name": "stdout",
     "output_type": "stream",
     "text": [
      "Epoch: 7, Step: 710, Loss: 1.43193\n",
      "Epoch: 7, Step: 720, Loss: 1.43823\n",
      "Epoch: 7, Step: 730, Loss: 1.42312\n",
      "Epoch: 7, Step: 740, Loss: 1.41864\n",
      "Epoch: 7, Step: 750, Loss: 1.40941\n",
      "Epoch: 7, Step: 760, Loss: 1.461\n",
      "Epoch: 7, Step: 770, Loss: 1.46987\n",
      "Epoch: 7, Step: 780, Loss: 5.74154\n",
      "Epoch: 7, Step: 790, Loss: 3.40972\n",
      "Epoch: 7, Step: 800, Loss: 1.39891\n"
     ]
    },
    {
     "name": "stderr",
     "output_type": "stream",
     "text": [
      "W0923 11:59:39.299587  1056 saver.py:1134] *******************************************************\n",
      "W0923 11:59:39.301591  1056 saver.py:1135] TensorFlow's V1 checkpoint format has been deprecated.\n",
      "W0923 11:59:39.303585  1056 saver.py:1136] Consider switching to the more efficient V2 format:\n",
      "W0923 11:59:39.305586  1056 saver.py:1137]    `tf.train.Saver(write_version=tf.train.SaverDef.V2)`\n",
      "W0923 11:59:39.308588  1056 saver.py:1138] now on by default.\n",
      "W0923 11:59:39.310588  1056 saver.py:1139] *******************************************************\n"
     ]
    },
    {
     "name": "stdout",
     "output_type": "stream",
     "text": [
      "Epoch: 7, Step: 810, Loss: 1.45649\n",
      "Epoch: 7, Step: 820, Loss: 1.39047\n",
      "Epoch: 7, Step: 830, Loss: 1.40141\n",
      "Epoch: 7, Step: 840, Loss: 1.38086\n",
      "Epoch: 7, Step: 850, Loss: 1.48697\n",
      "Epoch: 7, Step: 860, Loss: 1.50769\n",
      "Epoch: 7, Step: 870, Loss: 1.36391\n",
      "Epoch: 7, Step: 880, Loss: 1.42108\n",
      "Epoch: 7, Step: 890, Loss: 1.36932\n",
      "Epoch: 7, Step: 900, Loss: 1.36516\n"
     ]
    },
    {
     "name": "stderr",
     "output_type": "stream",
     "text": [
      "W0923 12:03:41.745693  1056 saver.py:1134] *******************************************************\n",
      "W0923 12:03:41.746699  1056 saver.py:1135] TensorFlow's V1 checkpoint format has been deprecated.\n",
      "W0923 12:03:41.747741  1056 saver.py:1136] Consider switching to the more efficient V2 format:\n",
      "W0923 12:03:41.750699  1056 saver.py:1137]    `tf.train.Saver(write_version=tf.train.SaverDef.V2)`\n",
      "W0923 12:03:41.753696  1056 saver.py:1138] now on by default.\n",
      "W0923 12:03:41.756695  1056 saver.py:1139] *******************************************************\n"
     ]
    },
    {
     "name": "stdout",
     "output_type": "stream",
     "text": [
      "Epoch: 7, Step: 910, Loss: 1.34688\n",
      "Epoch: 7, Step: 920, Loss: 1.42924\n",
      "Epoch: 7, Step: 930, Loss: 1.37433\n",
      "Epoch: 7, Step: 940, Loss: 1.48036\n",
      "Epoch: 7, Step: 950, Loss: 1.43891\n",
      "Epoch: 7, Step: 960, Loss: 1.34779\n",
      "Epoch: 7, Step: 970, Loss: 1.33271\n",
      "Epoch: 7, Step: 980, Loss: 1.32477\n",
      "Epoch: 7, Step: 990, Loss: 1.31671\n",
      "Epoch: 7, Step: 1000, Loss: 1.31421\n"
     ]
    },
    {
     "name": "stderr",
     "output_type": "stream",
     "text": [
      "W0923 12:07:35.854307  1056 saver.py:1134] *******************************************************\n",
      "W0923 12:07:35.856343  1056 saver.py:1135] TensorFlow's V1 checkpoint format has been deprecated.\n",
      "W0923 12:07:35.859312  1056 saver.py:1136] Consider switching to the more efficient V2 format:\n",
      "W0923 12:07:35.862315  1056 saver.py:1137]    `tf.train.Saver(write_version=tf.train.SaverDef.V2)`\n",
      "W0923 12:07:35.864316  1056 saver.py:1138] now on by default.\n",
      "W0923 12:07:35.867316  1056 saver.py:1139] *******************************************************\n"
     ]
    },
    {
     "name": "stdout",
     "output_type": "stream",
     "text": [
      "Epoch: 7, Step: 1010, Loss: 1.31036\n",
      "Epoch: 7, Step: 1020, Loss: 1.30722\n",
      "Epoch: 7, Step: 1030, Loss: 1.30349\n",
      "Epoch: 7, Step: 1040, Loss: 1.31105\n",
      "Epoch: 7, Step: 1050, Loss: 1.31066\n",
      "Epoch: 7, Step: 1060, Loss: 1.30087\n",
      "Epoch: 7, Step: 1070, Loss: 1.29161\n",
      "Epoch: 7, Step: 1080, Loss: 1.31654\n",
      "Epoch: 7, Step: 1090, Loss: 1.31375\n",
      "Epoch: 7, Step: 1100, Loss: 1.40046\n"
     ]
    },
    {
     "name": "stderr",
     "output_type": "stream",
     "text": [
      "W0923 12:11:30.652170  1056 saver.py:1134] *******************************************************\n",
      "W0923 12:11:30.653202  1056 saver.py:1135] TensorFlow's V1 checkpoint format has been deprecated.\n",
      "W0923 12:11:30.654172  1056 saver.py:1136] Consider switching to the more efficient V2 format:\n",
      "W0923 12:11:30.655171  1056 saver.py:1137]    `tf.train.Saver(write_version=tf.train.SaverDef.V2)`\n",
      "W0923 12:11:30.657177  1056 saver.py:1138] now on by default.\n",
      "W0923 12:11:30.663176  1056 saver.py:1139] *******************************************************\n"
     ]
    },
    {
     "name": "stdout",
     "output_type": "stream",
     "text": [
      "Epoch: 7, Step: 1110, Loss: 1.79402\n",
      "Epoch: 7, Step: 1120, Loss: 1.59882\n",
      "Epoch: 7, Step: 1130, Loss: 1.34527\n",
      "Epoch: 7, Step: 1140, Loss: 1.26809\n",
      "Epoch: 7, Step: 1150, Loss: 1.26992\n",
      "Model saved in file: ./save\\model.ckpt\n",
      "Epoch: 8, Step: 800, Loss: 1.33827\n"
     ]
    },
    {
     "name": "stderr",
     "output_type": "stream",
     "text": [
      "W0923 12:13:34.533447  1056 saver.py:1134] *******************************************************\n",
      "W0923 12:13:34.534454  1056 saver.py:1135] TensorFlow's V1 checkpoint format has been deprecated.\n",
      "W0923 12:13:34.539450  1056 saver.py:1136] Consider switching to the more efficient V2 format:\n",
      "W0923 12:13:34.541457  1056 saver.py:1137]    `tf.train.Saver(write_version=tf.train.SaverDef.V2)`\n",
      "W0923 12:13:34.543451  1056 saver.py:1138] now on by default.\n",
      "W0923 12:13:34.545452  1056 saver.py:1139] *******************************************************\n"
     ]
    },
    {
     "name": "stdout",
     "output_type": "stream",
     "text": [
      "Epoch: 8, Step: 810, Loss: 1.68931\n",
      "Epoch: 8, Step: 820, Loss: 2.94574\n",
      "Epoch: 8, Step: 830, Loss: 1.56657\n",
      "Epoch: 8, Step: 840, Loss: 1.30254\n",
      "Epoch: 8, Step: 850, Loss: 1.27507\n",
      "Epoch: 8, Step: 860, Loss: 1.2611\n",
      "Epoch: 8, Step: 870, Loss: 1.2552\n",
      "Epoch: 8, Step: 880, Loss: 1.23888\n",
      "Epoch: 8, Step: 890, Loss: 1.29323\n",
      "Epoch: 8, Step: 900, Loss: 1.32701\n"
     ]
    },
    {
     "name": "stderr",
     "output_type": "stream",
     "text": [
      "W0923 12:17:06.550370  1056 saver.py:1134] *******************************************************\n",
      "W0923 12:17:06.551370  1056 saver.py:1135] TensorFlow's V1 checkpoint format has been deprecated.\n",
      "W0923 12:17:06.552371  1056 saver.py:1136] Consider switching to the more efficient V2 format:\n",
      "W0923 12:17:06.554374  1056 saver.py:1137]    `tf.train.Saver(write_version=tf.train.SaverDef.V2)`\n",
      "W0923 12:17:06.555377  1056 saver.py:1138] now on by default.\n",
      "W0923 12:17:06.561378  1056 saver.py:1139] *******************************************************\n"
     ]
    },
    {
     "name": "stdout",
     "output_type": "stream",
     "text": [
      "Epoch: 8, Step: 910, Loss: 1.23371\n",
      "Epoch: 8, Step: 920, Loss: 1.2818\n",
      "Epoch: 8, Step: 930, Loss: 1.47832\n",
      "Epoch: 8, Step: 940, Loss: 1.38172\n",
      "Epoch: 8, Step: 950, Loss: 1.40195\n",
      "Epoch: 8, Step: 960, Loss: 1.22553\n",
      "Epoch: 8, Step: 970, Loss: 1.21295\n",
      "Epoch: 8, Step: 980, Loss: 1.20033\n",
      "Epoch: 8, Step: 990, Loss: 1.19264\n",
      "Epoch: 8, Step: 1000, Loss: 1.19346\n"
     ]
    },
    {
     "name": "stderr",
     "output_type": "stream",
     "text": [
      "W0923 12:20:28.372849  1056 saver.py:1134] *******************************************************\n",
      "W0923 12:20:28.373854  1056 saver.py:1135] TensorFlow's V1 checkpoint format has been deprecated.\n",
      "W0923 12:20:28.375851  1056 saver.py:1136] Consider switching to the more efficient V2 format:\n",
      "W0923 12:20:28.377856  1056 saver.py:1137]    `tf.train.Saver(write_version=tf.train.SaverDef.V2)`\n",
      "W0923 12:20:28.379859  1056 saver.py:1138] now on by default.\n",
      "W0923 12:20:28.383852  1056 saver.py:1139] *******************************************************\n"
     ]
    },
    {
     "name": "stdout",
     "output_type": "stream",
     "text": [
      "Epoch: 8, Step: 1010, Loss: 4.25467\n",
      "Epoch: 8, Step: 1020, Loss: 3.88092\n",
      "Epoch: 8, Step: 1030, Loss: 1.18519\n",
      "Epoch: 8, Step: 1040, Loss: 1.17682\n",
      "Epoch: 8, Step: 1050, Loss: 1.17164\n",
      "Epoch: 8, Step: 1060, Loss: 1.17773\n",
      "Epoch: 8, Step: 1070, Loss: 1.16609\n",
      "Epoch: 8, Step: 1080, Loss: 1.1748\n",
      "Epoch: 8, Step: 1090, Loss: 1.18951\n",
      "Epoch: 8, Step: 1100, Loss: 1.1773\n"
     ]
    },
    {
     "name": "stderr",
     "output_type": "stream",
     "text": [
      "W0923 12:24:45.241710  1056 saver.py:1134] *******************************************************\n",
      "W0923 12:24:45.243711  1056 saver.py:1135] TensorFlow's V1 checkpoint format has been deprecated.\n",
      "W0923 12:24:45.244712  1056 saver.py:1136] Consider switching to the more efficient V2 format:\n",
      "W0923 12:24:45.247711  1056 saver.py:1137]    `tf.train.Saver(write_version=tf.train.SaverDef.V2)`\n",
      "W0923 12:24:45.252713  1056 saver.py:1138] now on by default.\n",
      "W0923 12:24:45.254713  1056 saver.py:1139] *******************************************************\n"
     ]
    },
    {
     "name": "stdout",
     "output_type": "stream",
     "text": [
      "Epoch: 8, Step: 1110, Loss: 1.17869\n",
      "Epoch: 8, Step: 1120, Loss: 1.18084\n",
      "Epoch: 8, Step: 1130, Loss: 1.2786\n",
      "Epoch: 8, Step: 1140, Loss: 1.17583\n",
      "Epoch: 8, Step: 1150, Loss: 1.24146\n",
      "Epoch: 8, Step: 1160, Loss: 1.38621\n",
      "Epoch: 8, Step: 1170, Loss: 1.20229\n",
      "Epoch: 8, Step: 1180, Loss: 2.41491\n",
      "Epoch: 8, Step: 1190, Loss: 1.24047\n",
      "Epoch: 8, Step: 1200, Loss: 1.14642\n"
     ]
    },
    {
     "name": "stderr",
     "output_type": "stream",
     "text": [
      "W0923 12:28:54.769814  1056 saver.py:1134] *******************************************************\n",
      "W0923 12:28:54.771852  1056 saver.py:1135] TensorFlow's V1 checkpoint format has been deprecated.\n",
      "W0923 12:28:54.773827  1056 saver.py:1136] Consider switching to the more efficient V2 format:\n",
      "W0923 12:28:54.776825  1056 saver.py:1137]    `tf.train.Saver(write_version=tf.train.SaverDef.V2)`\n",
      "W0923 12:28:54.778818  1056 saver.py:1138] now on by default.\n",
      "W0923 12:28:54.781820  1056 saver.py:1139] *******************************************************\n"
     ]
    },
    {
     "name": "stdout",
     "output_type": "stream",
     "text": [
      "Epoch: 8, Step: 1210, Loss: 1.21948\n",
      "Epoch: 8, Step: 1220, Loss: 1.13065\n",
      "Epoch: 8, Step: 1230, Loss: 1.13031\n",
      "Epoch: 8, Step: 1240, Loss: 1.13787\n",
      "Epoch: 8, Step: 1250, Loss: 1.12636\n",
      "Model saved in file: ./save\\model.ckpt\n",
      "Epoch: 9, Step: 900, Loss: 1.1289\n"
     ]
    },
    {
     "name": "stderr",
     "output_type": "stream",
     "text": [
      "W0923 12:31:07.893620  1056 saver.py:1134] *******************************************************\n",
      "W0923 12:31:07.896618  1056 saver.py:1135] TensorFlow's V1 checkpoint format has been deprecated.\n",
      "W0923 12:31:07.901623  1056 saver.py:1136] Consider switching to the more efficient V2 format:\n",
      "W0923 12:31:07.905621  1056 saver.py:1137]    `tf.train.Saver(write_version=tf.train.SaverDef.V2)`\n",
      "W0923 12:31:07.906623  1056 saver.py:1138] now on by default.\n",
      "W0923 12:31:07.909622  1056 saver.py:1139] *******************************************************\n"
     ]
    },
    {
     "name": "stdout",
     "output_type": "stream",
     "text": [
      "Epoch: 9, Step: 910, Loss: 1.12034\n",
      "Epoch: 9, Step: 920, Loss: 1.11405\n",
      "Epoch: 9, Step: 930, Loss: 1.1042\n",
      "Epoch: 9, Step: 940, Loss: 1.10709\n",
      "Epoch: 9, Step: 950, Loss: 1.15983\n",
      "Epoch: 9, Step: 960, Loss: 1.11429\n",
      "Epoch: 9, Step: 970, Loss: 6.0379\n",
      "Epoch: 9, Step: 980, Loss: 1.5414\n",
      "Epoch: 9, Step: 990, Loss: 1.08326\n",
      "Epoch: 9, Step: 1000, Loss: 1.09389\n"
     ]
    },
    {
     "name": "stderr",
     "output_type": "stream",
     "text": [
      "W0923 12:35:17.793237  1056 saver.py:1134] *******************************************************\n",
      "W0923 12:35:17.794276  1056 saver.py:1135] TensorFlow's V1 checkpoint format has been deprecated.\n",
      "W0923 12:35:17.795243  1056 saver.py:1136] Consider switching to the more efficient V2 format:\n",
      "W0923 12:35:17.796243  1056 saver.py:1137]    `tf.train.Saver(write_version=tf.train.SaverDef.V2)`\n",
      "W0923 12:35:17.800244  1056 saver.py:1138] now on by default.\n",
      "W0923 12:35:17.804242  1056 saver.py:1139] *******************************************************\n"
     ]
    },
    {
     "name": "stdout",
     "output_type": "stream",
     "text": [
      "Epoch: 9, Step: 1010, Loss: 1.11138\n",
      "Epoch: 9, Step: 1020, Loss: 1.1259\n",
      "Epoch: 9, Step: 1030, Loss: 1.0763\n",
      "Epoch: 9, Step: 1040, Loss: 1.17751\n",
      "Epoch: 9, Step: 1050, Loss: 1.15175\n",
      "Epoch: 9, Step: 1060, Loss: 1.06244\n",
      "Epoch: 9, Step: 1070, Loss: 1.10534\n",
      "Epoch: 9, Step: 1080, Loss: 1.06852\n",
      "Epoch: 9, Step: 1090, Loss: 1.06834\n",
      "Epoch: 9, Step: 1100, Loss: 1.05453\n"
     ]
    },
    {
     "name": "stderr",
     "output_type": "stream",
     "text": [
      "W0923 12:39:31.677734  1056 saver.py:1134] *******************************************************\n",
      "W0923 12:39:31.679756  1056 saver.py:1135] TensorFlow's V1 checkpoint format has been deprecated.\n",
      "W0923 12:39:31.684728  1056 saver.py:1136] Consider switching to the more efficient V2 format:\n",
      "W0923 12:39:31.686727  1056 saver.py:1137]    `tf.train.Saver(write_version=tf.train.SaverDef.V2)`\n",
      "W0923 12:39:31.689727  1056 saver.py:1138] now on by default.\n",
      "W0923 12:39:31.692724  1056 saver.py:1139] *******************************************************\n"
     ]
    },
    {
     "name": "stdout",
     "output_type": "stream",
     "text": [
      "Epoch: 9, Step: 1110, Loss: 1.15618\n",
      "Epoch: 9, Step: 1120, Loss: 1.07283\n",
      "Epoch: 9, Step: 1130, Loss: 1.15303\n",
      "Epoch: 9, Step: 1140, Loss: 1.08617\n",
      "Epoch: 9, Step: 1150, Loss: 1.11481\n",
      "Epoch: 9, Step: 1160, Loss: 1.03531\n",
      "Epoch: 9, Step: 1170, Loss: 1.02972\n",
      "Epoch: 9, Step: 1180, Loss: 1.05193\n",
      "Epoch: 9, Step: 1190, Loss: 1.02575\n",
      "Epoch: 9, Step: 1200, Loss: 1.02603\n"
     ]
    },
    {
     "name": "stderr",
     "output_type": "stream",
     "text": [
      "W0923 12:43:50.434241  1056 saver.py:1134] *******************************************************\n",
      "W0923 12:43:50.436243  1056 saver.py:1135] TensorFlow's V1 checkpoint format has been deprecated.\n",
      "W0923 12:43:50.440248  1056 saver.py:1136] Consider switching to the more efficient V2 format:\n",
      "W0923 12:43:50.442248  1056 saver.py:1137]    `tf.train.Saver(write_version=tf.train.SaverDef.V2)`\n",
      "W0923 12:43:50.444248  1056 saver.py:1138] now on by default.\n",
      "W0923 12:43:50.447249  1056 saver.py:1139] *******************************************************\n"
     ]
    },
    {
     "name": "stdout",
     "output_type": "stream",
     "text": [
      "Epoch: 9, Step: 1210, Loss: 1.01902\n",
      "Epoch: 9, Step: 1220, Loss: 1.07131\n",
      "Epoch: 9, Step: 1230, Loss: 1.01707\n",
      "Epoch: 9, Step: 1240, Loss: 1.01434\n",
      "Epoch: 9, Step: 1250, Loss: 1.01371\n",
      "Epoch: 9, Step: 1260, Loss: 1.01474\n",
      "Epoch: 9, Step: 1270, Loss: 1.03083\n",
      "Epoch: 9, Step: 1280, Loss: 1.01502\n",
      "Epoch: 9, Step: 1290, Loss: 1.20805\n",
      "Epoch: 9, Step: 1300, Loss: 1.46963\n"
     ]
    },
    {
     "name": "stderr",
     "output_type": "stream",
     "text": [
      "W0923 12:47:04.277191  1056 saver.py:1134] *******************************************************\n",
      "W0923 12:47:04.282191  1056 saver.py:1135] TensorFlow's V1 checkpoint format has been deprecated.\n",
      "W0923 12:47:04.286191  1056 saver.py:1136] Consider switching to the more efficient V2 format:\n",
      "W0923 12:47:04.288192  1056 saver.py:1137]    `tf.train.Saver(write_version=tf.train.SaverDef.V2)`\n",
      "W0923 12:47:04.290193  1056 saver.py:1138] now on by default.\n",
      "W0923 12:47:04.292196  1056 saver.py:1139] *******************************************************\n"
     ]
    },
    {
     "name": "stdout",
     "output_type": "stream",
     "text": [
      "Epoch: 9, Step: 1310, Loss: 1.19092\n",
      "Epoch: 9, Step: 1320, Loss: 1.04166\n",
      "Epoch: 9, Step: 1330, Loss: 0.999657\n",
      "Epoch: 9, Step: 1340, Loss: 0.990686\n",
      "Epoch: 9, Step: 1350, Loss: 1.09326\n",
      "Model saved in file: ./save\\model.ckpt\n",
      "Epoch: 10, Step: 1000, Loss: 1.69485\n"
     ]
    },
    {
     "name": "stderr",
     "output_type": "stream",
     "text": [
      "W0923 12:48:53.275774  1056 saver.py:1134] *******************************************************\n",
      "W0923 12:48:53.276776  1056 saver.py:1135] TensorFlow's V1 checkpoint format has been deprecated.\n",
      "W0923 12:48:53.278774  1056 saver.py:1136] Consider switching to the more efficient V2 format:\n",
      "W0923 12:48:53.290778  1056 saver.py:1137]    `tf.train.Saver(write_version=tf.train.SaverDef.V2)`\n",
      "W0923 12:48:53.293781  1056 saver.py:1138] now on by default.\n",
      "W0923 12:48:53.297779  1056 saver.py:1139] *******************************************************\n"
     ]
    },
    {
     "name": "stdout",
     "output_type": "stream",
     "text": [
      "Epoch: 10, Step: 1010, Loss: 2.33165\n",
      "Epoch: 10, Step: 1020, Loss: 1.23163\n",
      "Epoch: 10, Step: 1030, Loss: 1.04112\n",
      "Epoch: 10, Step: 1040, Loss: 0.969166\n",
      "Epoch: 10, Step: 1050, Loss: 0.979155\n",
      "Epoch: 10, Step: 1060, Loss: 0.97037\n",
      "Epoch: 10, Step: 1070, Loss: 0.96882\n",
      "Epoch: 10, Step: 1080, Loss: 0.976493\n",
      "Epoch: 10, Step: 1090, Loss: 1.00241\n",
      "Epoch: 10, Step: 1100, Loss: 0.959941\n"
     ]
    },
    {
     "name": "stderr",
     "output_type": "stream",
     "text": [
      "W0923 12:52:10.326150  1056 saver.py:1134] *******************************************************\n",
      "W0923 12:52:10.327153  1056 saver.py:1135] TensorFlow's V1 checkpoint format has been deprecated.\n",
      "W0923 12:52:10.332154  1056 saver.py:1136] Consider switching to the more efficient V2 format:\n",
      "W0923 12:52:10.337151  1056 saver.py:1137]    `tf.train.Saver(write_version=tf.train.SaverDef.V2)`\n",
      "W0923 12:52:10.341156  1056 saver.py:1138] now on by default.\n",
      "W0923 12:52:10.342155  1056 saver.py:1139] *******************************************************\n"
     ]
    },
    {
     "name": "stdout",
     "output_type": "stream",
     "text": [
      "Epoch: 10, Step: 1110, Loss: 1.03576\n",
      "Epoch: 10, Step: 1120, Loss: 1.31398\n",
      "Epoch: 10, Step: 1130, Loss: 1.06488\n",
      "Epoch: 10, Step: 1140, Loss: 1.16371\n",
      "Epoch: 10, Step: 1150, Loss: 0.951201\n",
      "Epoch: 10, Step: 1160, Loss: 0.951923\n",
      "Epoch: 10, Step: 1170, Loss: 0.952505\n",
      "Epoch: 10, Step: 1180, Loss: 0.95279\n",
      "Epoch: 10, Step: 1190, Loss: 1.04589\n",
      "Epoch: 10, Step: 1200, Loss: 7.47825\n"
     ]
    },
    {
     "name": "stderr",
     "output_type": "stream",
     "text": [
      "W0923 12:55:25.192754  1056 saver.py:1134] *******************************************************\n",
      "W0923 12:55:25.197755  1056 saver.py:1135] TensorFlow's V1 checkpoint format has been deprecated.\n",
      "W0923 12:55:25.200754  1056 saver.py:1136] Consider switching to the more efficient V2 format:\n",
      "W0923 12:55:25.202766  1056 saver.py:1137]    `tf.train.Saver(write_version=tf.train.SaverDef.V2)`\n",
      "W0923 12:55:25.205777  1056 saver.py:1138] now on by default.\n",
      "W0923 12:55:25.207774  1056 saver.py:1139] *******************************************************\n"
     ]
    },
    {
     "name": "stdout",
     "output_type": "stream",
     "text": [
      "Epoch: 10, Step: 1210, Loss: 2.27966\n",
      "Epoch: 10, Step: 1220, Loss: 0.980959\n",
      "Epoch: 10, Step: 1230, Loss: 1.03269\n",
      "Epoch: 10, Step: 1240, Loss: 0.916573\n",
      "Epoch: 10, Step: 1250, Loss: 0.916013\n",
      "Epoch: 10, Step: 1260, Loss: 0.914806\n",
      "Epoch: 10, Step: 1270, Loss: 0.926254\n",
      "Epoch: 10, Step: 1280, Loss: 0.917287\n",
      "Epoch: 10, Step: 1290, Loss: 0.914218\n",
      "Epoch: 10, Step: 1300, Loss: 0.907346\n"
     ]
    },
    {
     "name": "stderr",
     "output_type": "stream",
     "text": [
      "W0923 12:58:42.237097  1056 saver.py:1134] *******************************************************\n",
      "W0923 12:58:42.238098  1056 saver.py:1135] TensorFlow's V1 checkpoint format has been deprecated.\n",
      "W0923 12:58:42.241097  1056 saver.py:1136] Consider switching to the more efficient V2 format:\n",
      "W0923 12:58:42.246102  1056 saver.py:1137]    `tf.train.Saver(write_version=tf.train.SaverDef.V2)`\n",
      "W0923 12:58:42.247101  1056 saver.py:1138] now on by default.\n",
      "W0923 12:58:42.248100  1056 saver.py:1139] *******************************************************\n"
     ]
    },
    {
     "name": "stdout",
     "output_type": "stream",
     "text": [
      "Epoch: 10, Step: 1310, Loss: 0.910993\n",
      "Epoch: 10, Step: 1320, Loss: 0.902946\n",
      "Epoch: 10, Step: 1330, Loss: 0.907594\n",
      "Epoch: 10, Step: 1340, Loss: 0.900715\n",
      "Epoch: 10, Step: 1350, Loss: 0.896784\n",
      "Epoch: 10, Step: 1360, Loss: 0.886279\n",
      "Epoch: 10, Step: 1370, Loss: 0.891446\n",
      "Epoch: 10, Step: 1380, Loss: 0.886407\n",
      "Epoch: 10, Step: 1390, Loss: 0.882948\n",
      "Epoch: 10, Step: 1400, Loss: 0.885152\n"
     ]
    },
    {
     "name": "stderr",
     "output_type": "stream",
     "text": [
      "W0923 13:01:59.393710  1056 saver.py:1134] *******************************************************\n",
      "W0923 13:01:59.395710  1056 saver.py:1135] TensorFlow's V1 checkpoint format has been deprecated.\n",
      "W0923 13:01:59.396720  1056 saver.py:1136] Consider switching to the more efficient V2 format:\n",
      "W0923 13:01:59.398718  1056 saver.py:1137]    `tf.train.Saver(write_version=tf.train.SaverDef.V2)`\n",
      "W0923 13:01:59.406714  1056 saver.py:1138] now on by default.\n",
      "W0923 13:01:59.408750  1056 saver.py:1139] *******************************************************\n"
     ]
    },
    {
     "name": "stdout",
     "output_type": "stream",
     "text": [
      "Epoch: 10, Step: 1410, Loss: 0.876004\n",
      "Epoch: 10, Step: 1420, Loss: 0.876529\n",
      "Epoch: 10, Step: 1430, Loss: 0.880092\n",
      "Epoch: 10, Step: 1440, Loss: 0.86941\n",
      "Epoch: 10, Step: 1450, Loss: 0.867285\n",
      "Model saved in file: ./save\\model.ckpt\n",
      "Epoch: 11, Step: 1100, Loss: 0.863477\n"
     ]
    },
    {
     "name": "stderr",
     "output_type": "stream",
     "text": [
      "W0923 13:04:09.676670  1056 saver.py:1134] *******************************************************\n",
      "W0923 13:04:09.677709  1056 saver.py:1135] TensorFlow's V1 checkpoint format has been deprecated.\n",
      "W0923 13:04:09.679676  1056 saver.py:1136] Consider switching to the more efficient V2 format:\n",
      "W0923 13:04:09.684675  1056 saver.py:1137]    `tf.train.Saver(write_version=tf.train.SaverDef.V2)`\n",
      "W0923 13:04:09.686676  1056 saver.py:1138] now on by default.\n",
      "W0923 13:04:09.691673  1056 saver.py:1139] *******************************************************\n"
     ]
    },
    {
     "name": "stdout",
     "output_type": "stream",
     "text": [
      "Epoch: 11, Step: 1110, Loss: 0.863698\n",
      "Epoch: 11, Step: 1120, Loss: 0.861576\n",
      "Epoch: 11, Step: 1130, Loss: 0.860866\n",
      "Epoch: 11, Step: 1140, Loss: 0.928386\n",
      "Epoch: 11, Step: 1150, Loss: 0.969629\n",
      "Epoch: 11, Step: 1160, Loss: 6.07181\n",
      "Epoch: 11, Step: 1170, Loss: 0.86465\n",
      "Epoch: 11, Step: 1180, Loss: 0.85525\n",
      "Epoch: 11, Step: 1190, Loss: 0.848538\n",
      "Epoch: 11, Step: 1200, Loss: 0.899933\n"
     ]
    },
    {
     "name": "stderr",
     "output_type": "stream",
     "text": [
      "W0923 13:09:59.219391  1056 saver.py:1134] *******************************************************\n",
      "W0923 13:09:59.226395  1056 saver.py:1135] TensorFlow's V1 checkpoint format has been deprecated.\n",
      "W0923 13:09:59.234397  1056 saver.py:1136] Consider switching to the more efficient V2 format:\n",
      "W0923 13:09:59.237392  1056 saver.py:1137]    `tf.train.Saver(write_version=tf.train.SaverDef.V2)`\n",
      "W0923 13:09:59.240395  1056 saver.py:1138] now on by default.\n",
      "W0923 13:09:59.245393  1056 saver.py:1139] *******************************************************\n"
     ]
    },
    {
     "name": "stdout",
     "output_type": "stream",
     "text": [
      "Epoch: 11, Step: 1210, Loss: 2.32494\n",
      "Epoch: 11, Step: 1220, Loss: 0.846327\n",
      "Epoch: 11, Step: 1230, Loss: 1.0009\n",
      "Epoch: 11, Step: 1240, Loss: 0.917288\n",
      "Epoch: 11, Step: 1250, Loss: 0.835922\n",
      "Epoch: 11, Step: 1260, Loss: 0.915556\n",
      "Epoch: 11, Step: 1270, Loss: 0.825178\n",
      "Epoch: 11, Step: 1280, Loss: 0.859035\n",
      "Epoch: 11, Step: 1290, Loss: 0.840635\n",
      "Epoch: 11, Step: 1300, Loss: 0.903645\n"
     ]
    },
    {
     "name": "stderr",
     "output_type": "stream",
     "text": [
      "W0923 13:14:47.393352  1056 saver.py:1134] *******************************************************\n",
      "W0923 13:14:47.397353  1056 saver.py:1135] TensorFlow's V1 checkpoint format has been deprecated.\n",
      "W0923 13:14:47.399356  1056 saver.py:1136] Consider switching to the more efficient V2 format:\n",
      "W0923 13:14:47.403355  1056 saver.py:1137]    `tf.train.Saver(write_version=tf.train.SaverDef.V2)`\n",
      "W0923 13:14:47.406355  1056 saver.py:1138] now on by default.\n",
      "W0923 13:14:47.412353  1056 saver.py:1139] *******************************************************\n"
     ]
    },
    {
     "name": "stdout",
     "output_type": "stream",
     "text": [
      "Epoch: 11, Step: 1310, Loss: 0.848738\n",
      "Epoch: 11, Step: 1320, Loss: 0.958497\n",
      "Epoch: 11, Step: 1330, Loss: 0.883986\n",
      "Epoch: 11, Step: 1340, Loss: 0.823747\n",
      "Epoch: 11, Step: 1350, Loss: 0.81498\n",
      "Epoch: 11, Step: 1360, Loss: 0.81171\n",
      "Epoch: 11, Step: 1370, Loss: 0.811112\n",
      "Epoch: 11, Step: 1380, Loss: 0.80552\n",
      "Epoch: 11, Step: 1390, Loss: 0.80112\n",
      "Epoch: 11, Step: 1400, Loss: 0.799308\n"
     ]
    },
    {
     "name": "stderr",
     "output_type": "stream",
     "text": [
      "W0923 13:20:07.891818  1056 saver.py:1134] *******************************************************\n",
      "W0923 13:20:07.897802  1056 saver.py:1135] TensorFlow's V1 checkpoint format has been deprecated.\n",
      "W0923 13:20:07.902808  1056 saver.py:1136] Consider switching to the more efficient V2 format:\n",
      "W0923 13:20:07.906802  1056 saver.py:1137]    `tf.train.Saver(write_version=tf.train.SaverDef.V2)`\n",
      "W0923 13:20:07.909804  1056 saver.py:1138] now on by default.\n",
      "W0923 13:20:07.917803  1056 saver.py:1139] *******************************************************\n"
     ]
    },
    {
     "name": "stdout",
     "output_type": "stream",
     "text": [
      "Epoch: 11, Step: 1410, Loss: 0.799794\n",
      "Epoch: 11, Step: 1420, Loss: 0.800713\n",
      "Epoch: 11, Step: 1430, Loss: 0.803875\n",
      "Epoch: 11, Step: 1440, Loss: 0.791144\n",
      "Epoch: 11, Step: 1450, Loss: 0.796512\n",
      "Epoch: 11, Step: 1460, Loss: 0.848358\n",
      "Epoch: 11, Step: 1470, Loss: 0.795615\n",
      "Epoch: 11, Step: 1480, Loss: 1.07152\n",
      "Epoch: 11, Step: 1490, Loss: 1.28523\n",
      "Epoch: 11, Step: 1500, Loss: 0.94812\n"
     ]
    },
    {
     "name": "stderr",
     "output_type": "stream",
     "text": [
      "W0923 13:25:35.184475  1056 saver.py:1134] *******************************************************\n",
      "W0923 13:25:35.187475  1056 saver.py:1135] TensorFlow's V1 checkpoint format has been deprecated.\n",
      "W0923 13:25:35.189477  1056 saver.py:1136] Consider switching to the more efficient V2 format:\n",
      "W0923 13:25:35.191478  1056 saver.py:1137]    `tf.train.Saver(write_version=tf.train.SaverDef.V2)`\n",
      "W0923 13:25:35.210480  1056 saver.py:1138] now on by default.\n",
      "W0923 13:25:35.214482  1056 saver.py:1139] *******************************************************\n"
     ]
    },
    {
     "name": "stdout",
     "output_type": "stream",
     "text": [
      "Epoch: 11, Step: 1510, Loss: 0.813846\n",
      "Epoch: 11, Step: 1520, Loss: 0.781766\n",
      "Epoch: 11, Step: 1530, Loss: 0.772706\n",
      "Epoch: 11, Step: 1540, Loss: 0.802353\n",
      "Epoch: 11, Step: 1550, Loss: 1.18391\n",
      "Model saved in file: ./save\\model.ckpt\n",
      "Epoch: 12, Step: 1200, Loss: 1.27942\n"
     ]
    },
    {
     "name": "stderr",
     "output_type": "stream",
     "text": [
      "W0923 13:28:37.284765  1056 saver.py:1134] *******************************************************\n",
      "W0923 13:28:37.287767  1056 saver.py:1135] TensorFlow's V1 checkpoint format has been deprecated.\n",
      "W0923 13:28:37.289769  1056 saver.py:1136] Consider switching to the more efficient V2 format:\n",
      "W0923 13:28:37.300770  1056 saver.py:1137]    `tf.train.Saver(write_version=tf.train.SaverDef.V2)`\n",
      "W0923 13:28:37.303769  1056 saver.py:1138] now on by default.\n",
      "W0923 13:28:37.307771  1056 saver.py:1139] *******************************************************\n"
     ]
    },
    {
     "name": "stdout",
     "output_type": "stream",
     "text": [
      "Epoch: 12, Step: 1210, Loss: 1.59453\n",
      "Epoch: 12, Step: 1220, Loss: 1.71808\n",
      "Epoch: 12, Step: 1230, Loss: 0.787192\n",
      "Epoch: 12, Step: 1240, Loss: 0.767579\n",
      "Epoch: 12, Step: 1250, Loss: 0.765527\n",
      "Epoch: 12, Step: 1260, Loss: 0.780036\n",
      "Epoch: 12, Step: 1270, Loss: 0.823317\n",
      "Epoch: 12, Step: 1280, Loss: 0.805751\n",
      "Epoch: 12, Step: 1290, Loss: 0.762885\n",
      "Epoch: 12, Step: 1300, Loss: 0.820214\n"
     ]
    },
    {
     "name": "stderr",
     "output_type": "stream",
     "text": [
      "W0923 13:33:40.207877  1056 saver.py:1134] *******************************************************\n",
      "W0923 13:33:40.208877  1056 saver.py:1135] TensorFlow's V1 checkpoint format has been deprecated.\n",
      "W0923 13:33:40.215886  1056 saver.py:1136] Consider switching to the more efficient V2 format:\n",
      "W0923 13:33:40.218879  1056 saver.py:1137]    `tf.train.Saver(write_version=tf.train.SaverDef.V2)`\n",
      "W0923 13:33:40.219882  1056 saver.py:1138] now on by default.\n",
      "W0923 13:33:40.224880  1056 saver.py:1139] *******************************************************\n"
     ]
    },
    {
     "name": "stdout",
     "output_type": "stream",
     "text": [
      "Epoch: 12, Step: 1310, Loss: 1.1157\n",
      "Epoch: 12, Step: 1320, Loss: 0.828531\n",
      "Epoch: 12, Step: 1330, Loss: 0.855223\n",
      "Epoch: 12, Step: 1340, Loss: 0.737183\n",
      "Epoch: 12, Step: 1350, Loss: 0.736932\n",
      "Epoch: 12, Step: 1360, Loss: 0.738725\n",
      "Epoch: 12, Step: 1370, Loss: 0.738144\n",
      "Epoch: 12, Step: 1380, Loss: 0.762729\n",
      "Epoch: 12, Step: 1390, Loss: 6.07098\n",
      "Epoch: 12, Step: 1400, Loss: 0.987611\n"
     ]
    },
    {
     "name": "stderr",
     "output_type": "stream",
     "text": [
      "W0923 13:39:23.014675  1056 saver.py:1134] *******************************************************\n",
      "W0923 13:39:23.016678  1056 saver.py:1135] TensorFlow's V1 checkpoint format has been deprecated.\n",
      "W0923 13:39:23.018678  1056 saver.py:1136] Consider switching to the more efficient V2 format:\n",
      "W0923 13:39:23.022677  1056 saver.py:1137]    `tf.train.Saver(write_version=tf.train.SaverDef.V2)`\n",
      "W0923 13:39:23.025677  1056 saver.py:1138] now on by default.\n",
      "W0923 13:39:23.028683  1056 saver.py:1139] *******************************************************\n"
     ]
    },
    {
     "name": "stdout",
     "output_type": "stream",
     "text": [
      "Epoch: 12, Step: 1410, Loss: 0.728909\n",
      "Epoch: 12, Step: 1420, Loss: 0.720214\n",
      "Epoch: 12, Step: 1430, Loss: 0.722344\n",
      "Epoch: 12, Step: 1440, Loss: 0.723055\n",
      "Epoch: 12, Step: 1450, Loss: 0.716011\n",
      "Epoch: 12, Step: 1460, Loss: 0.711192\n",
      "Epoch: 12, Step: 1470, Loss: 0.73885\n",
      "Epoch: 12, Step: 1480, Loss: 0.712167\n",
      "Epoch: 12, Step: 1490, Loss: 0.726141\n",
      "Epoch: 12, Step: 1500, Loss: 0.745345\n"
     ]
    },
    {
     "name": "stderr",
     "output_type": "stream",
     "text": [
      "W0923 13:44:04.434013  1056 saver.py:1134] *******************************************************\n",
      "W0923 13:44:04.439016  1056 saver.py:1135] TensorFlow's V1 checkpoint format has been deprecated.\n",
      "W0923 13:44:04.448015  1056 saver.py:1136] Consider switching to the more efficient V2 format:\n",
      "W0923 13:44:04.451021  1056 saver.py:1137]    `tf.train.Saver(write_version=tf.train.SaverDef.V2)`\n",
      "W0923 13:44:04.455015  1056 saver.py:1138] now on by default.\n",
      "W0923 13:44:04.459022  1056 saver.py:1139] *******************************************************\n"
     ]
    },
    {
     "name": "stdout",
     "output_type": "stream",
     "text": [
      "Epoch: 12, Step: 1510, Loss: 0.717897\n",
      "Epoch: 12, Step: 1520, Loss: 0.726061\n",
      "Epoch: 12, Step: 1530, Loss: 0.709168\n",
      "Epoch: 12, Step: 1540, Loss: 0.703025\n",
      "Epoch: 12, Step: 1550, Loss: 0.711481\n",
      "Epoch: 12, Step: 1560, Loss: 0.7831\n",
      "Epoch: 12, Step: 1570, Loss: 1.11839\n",
      "Epoch: 12, Step: 1580, Loss: 2.09993\n",
      "Epoch: 12, Step: 1590, Loss: 1.60484\n",
      "Epoch: 12, Step: 1600, Loss: 0.968063\n"
     ]
    },
    {
     "name": "stderr",
     "output_type": "stream",
     "text": [
      "W0923 13:48:45.488408  1056 saver.py:1134] *******************************************************\n",
      "W0923 13:48:45.491404  1056 saver.py:1135] TensorFlow's V1 checkpoint format has been deprecated.\n",
      "W0923 13:48:45.493408  1056 saver.py:1136] Consider switching to the more efficient V2 format:\n",
      "W0923 13:48:45.497407  1056 saver.py:1137]    `tf.train.Saver(write_version=tf.train.SaverDef.V2)`\n",
      "W0923 13:48:45.500407  1056 saver.py:1138] now on by default.\n",
      "W0923 13:48:45.501406  1056 saver.py:1139] *******************************************************\n"
     ]
    },
    {
     "name": "stdout",
     "output_type": "stream",
     "text": [
      "Epoch: 12, Step: 1610, Loss: 1.77345\n",
      "Epoch: 12, Step: 1620, Loss: 0.702891\n",
      "Epoch: 12, Step: 1630, Loss: 0.697608\n",
      "Epoch: 12, Step: 1640, Loss: 0.694695\n",
      "Epoch: 12, Step: 1650, Loss: 0.695853\n",
      "Model saved in file: ./save\\model.ckpt\n",
      "Epoch: 13, Step: 1300, Loss: 0.692459\n"
     ]
    },
    {
     "name": "stderr",
     "output_type": "stream",
     "text": [
      "W0923 13:51:37.726078  1056 saver.py:1134] *******************************************************\n",
      "W0923 13:51:37.730080  1056 saver.py:1135] TensorFlow's V1 checkpoint format has been deprecated.\n",
      "W0923 13:51:37.732080  1056 saver.py:1136] Consider switching to the more efficient V2 format:\n",
      "W0923 13:51:37.736083  1056 saver.py:1137]    `tf.train.Saver(write_version=tf.train.SaverDef.V2)`\n",
      "W0923 13:51:37.741080  1056 saver.py:1138] now on by default.\n",
      "W0923 13:51:37.743084  1056 saver.py:1139] *******************************************************\n"
     ]
    },
    {
     "name": "stdout",
     "output_type": "stream",
     "text": [
      "Epoch: 13, Step: 1310, Loss: 0.693277\n",
      "Epoch: 13, Step: 1320, Loss: 0.692379\n",
      "Epoch: 13, Step: 1330, Loss: 0.737944\n",
      "Epoch: 13, Step: 1340, Loss: 1.86456\n",
      "Epoch: 13, Step: 1350, Loss: 5.18591\n",
      "Epoch: 13, Step: 1360, Loss: 0.688429\n",
      "Epoch: 13, Step: 1370, Loss: 0.668441\n",
      "Epoch: 13, Step: 1380, Loss: 0.698297\n",
      "Epoch: 13, Step: 1390, Loss: 0.707551\n",
      "Epoch: 13, Step: 1400, Loss: 0.707244\n"
     ]
    },
    {
     "name": "stderr",
     "output_type": "stream",
     "text": [
      "W0923 13:56:24.106343  1056 saver.py:1134] *******************************************************\n",
      "W0923 13:56:24.109340  1056 saver.py:1135] TensorFlow's V1 checkpoint format has been deprecated.\n",
      "W0923 13:56:24.112348  1056 saver.py:1136] Consider switching to the more efficient V2 format:\n",
      "W0923 13:56:24.116342  1056 saver.py:1137]    `tf.train.Saver(write_version=tf.train.SaverDef.V2)`\n",
      "W0923 13:56:24.120343  1056 saver.py:1138] now on by default.\n",
      "W0923 13:56:24.124341  1056 saver.py:1139] *******************************************************\n"
     ]
    },
    {
     "name": "stdout",
     "output_type": "stream",
     "text": [
      "Epoch: 13, Step: 1410, Loss: 0.68622\n",
      "Epoch: 13, Step: 1420, Loss: 0.820186\n",
      "Epoch: 13, Step: 1430, Loss: 0.686519\n",
      "Epoch: 13, Step: 1440, Loss: 0.666537\n",
      "Epoch: 13, Step: 1450, Loss: 0.709836\n",
      "Epoch: 13, Step: 1460, Loss: 0.657944\n",
      "Epoch: 13, Step: 1470, Loss: 0.661127\n",
      "Epoch: 13, Step: 1480, Loss: 0.706274\n",
      "Epoch: 13, Step: 1490, Loss: 0.752393\n",
      "Epoch: 13, Step: 1500, Loss: 0.715259\n"
     ]
    },
    {
     "name": "stderr",
     "output_type": "stream",
     "text": [
      "W0923 14:00:27.294307  1056 saver.py:1134] *******************************************************\n",
      "W0923 14:00:27.295345  1056 saver.py:1135] TensorFlow's V1 checkpoint format has been deprecated.\n",
      "W0923 14:00:27.297312  1056 saver.py:1136] Consider switching to the more efficient V2 format:\n",
      "W0923 14:00:27.298312  1056 saver.py:1137]    `tf.train.Saver(write_version=tf.train.SaverDef.V2)`\n",
      "W0923 14:00:27.300310  1056 saver.py:1138] now on by default.\n",
      "W0923 14:00:27.307310  1056 saver.py:1139] *******************************************************\n"
     ]
    },
    {
     "name": "stdout",
     "output_type": "stream",
     "text": [
      "Epoch: 13, Step: 1510, Loss: 0.783331\n",
      "Epoch: 13, Step: 1520, Loss: 0.673134\n",
      "Epoch: 13, Step: 1530, Loss: 0.664489\n",
      "Epoch: 13, Step: 1540, Loss: 0.648631\n",
      "Epoch: 13, Step: 1550, Loss: 0.643505\n",
      "Epoch: 13, Step: 1560, Loss: 0.63961\n",
      "Epoch: 13, Step: 1570, Loss: 0.633791\n",
      "Epoch: 13, Step: 1580, Loss: 0.632606\n",
      "Epoch: 13, Step: 1590, Loss: 0.630106\n",
      "Epoch: 13, Step: 1600, Loss: 0.634079\n"
     ]
    },
    {
     "name": "stderr",
     "output_type": "stream",
     "text": [
      "W0923 14:04:20.335914  1056 saver.py:1134] *******************************************************\n",
      "W0923 14:04:20.337915  1056 saver.py:1135] TensorFlow's V1 checkpoint format has been deprecated.\n",
      "W0923 14:04:20.339924  1056 saver.py:1136] Consider switching to the more efficient V2 format:\n",
      "W0923 14:04:20.344920  1056 saver.py:1137]    `tf.train.Saver(write_version=tf.train.SaverDef.V2)`\n",
      "W0923 14:04:20.349914  1056 saver.py:1138] now on by default.\n",
      "W0923 14:04:20.354914  1056 saver.py:1139] *******************************************************\n"
     ]
    },
    {
     "name": "stdout",
     "output_type": "stream",
     "text": [
      "Epoch: 13, Step: 1610, Loss: 0.628773\n",
      "Epoch: 13, Step: 1620, Loss: 0.630622\n",
      "Epoch: 13, Step: 1630, Loss: 0.63504\n",
      "Epoch: 13, Step: 1640, Loss: 0.62734\n",
      "Epoch: 13, Step: 1650, Loss: 0.654725\n",
      "Epoch: 13, Step: 1660, Loss: 0.641605\n",
      "Epoch: 13, Step: 1670, Loss: 0.941917\n",
      "Epoch: 13, Step: 1680, Loss: 1.04844\n",
      "Epoch: 13, Step: 1690, Loss: 0.729523\n",
      "Epoch: 13, Step: 1700, Loss: 0.623145\n"
     ]
    },
    {
     "name": "stderr",
     "output_type": "stream",
     "text": [
      "W0923 14:07:41.091802  1056 saver.py:1134] *******************************************************\n",
      "W0923 14:07:41.093807  1056 saver.py:1135] TensorFlow's V1 checkpoint format has been deprecated.\n",
      "W0923 14:07:41.098805  1056 saver.py:1136] Consider switching to the more efficient V2 format:\n",
      "W0923 14:07:41.099816  1056 saver.py:1137]    `tf.train.Saver(write_version=tf.train.SaverDef.V2)`\n",
      "W0923 14:07:41.104805  1056 saver.py:1138] now on by default.\n",
      "W0923 14:07:41.107841  1056 saver.py:1139] *******************************************************\n"
     ]
    },
    {
     "name": "stdout",
     "output_type": "stream",
     "text": [
      "Epoch: 13, Step: 1710, Loss: 0.624501\n",
      "Epoch: 13, Step: 1720, Loss: 0.657458\n",
      "Epoch: 13, Step: 1730, Loss: 0.799036\n",
      "Epoch: 13, Step: 1740, Loss: 1.4869\n",
      "Epoch: 13, Step: 1750, Loss: 1.39896\n",
      "Model saved in file: ./save\\model.ckpt\n",
      "Epoch: 14, Step: 1400, Loss: 0.64592\n"
     ]
    },
    {
     "name": "stderr",
     "output_type": "stream",
     "text": [
      "W0923 14:09:34.132186  1056 saver.py:1134] *******************************************************\n",
      "W0923 14:09:34.136188  1056 saver.py:1135] TensorFlow's V1 checkpoint format has been deprecated.\n",
      "W0923 14:09:34.138191  1056 saver.py:1136] Consider switching to the more efficient V2 format:\n",
      "W0923 14:09:34.143187  1056 saver.py:1137]    `tf.train.Saver(write_version=tf.train.SaverDef.V2)`\n",
      "W0923 14:09:34.147186  1056 saver.py:1138] now on by default.\n",
      "W0923 14:09:34.150190  1056 saver.py:1139] *******************************************************\n"
     ]
    },
    {
     "name": "stdout",
     "output_type": "stream",
     "text": [
      "Epoch: 14, Step: 1410, Loss: 0.65096\n",
      "Epoch: 14, Step: 1420, Loss: 0.605956\n",
      "Epoch: 14, Step: 1430, Loss: 0.61293\n",
      "Epoch: 14, Step: 1440, Loss: 0.607708\n",
      "Epoch: 14, Step: 1450, Loss: 0.625196\n",
      "Epoch: 14, Step: 1460, Loss: 0.687189\n",
      "Epoch: 14, Step: 1470, Loss: 0.608755\n",
      "Epoch: 14, Step: 1480, Loss: 0.604993\n",
      "Epoch: 14, Step: 1490, Loss: 0.695326\n",
      "Epoch: 14, Step: 1500, Loss: 0.95416\n"
     ]
    },
    {
     "name": "stderr",
     "output_type": "stream",
     "text": [
      "W0923 14:15:54.758721  1056 saver.py:1134] *******************************************************\n",
      "W0923 14:15:54.763720  1056 saver.py:1135] TensorFlow's V1 checkpoint format has been deprecated.\n",
      "W0923 14:15:54.767728  1056 saver.py:1136] Consider switching to the more efficient V2 format:\n",
      "W0923 14:15:54.770725  1056 saver.py:1137]    `tf.train.Saver(write_version=tf.train.SaverDef.V2)`\n",
      "W0923 14:15:54.775724  1056 saver.py:1138] now on by default.\n",
      "W0923 14:15:54.789727  1056 saver.py:1139] *******************************************************\n"
     ]
    },
    {
     "name": "stdout",
     "output_type": "stream",
     "text": [
      "Epoch: 14, Step: 1510, Loss: 0.890774\n",
      "Epoch: 14, Step: 1520, Loss: 0.653872\n",
      "Epoch: 14, Step: 1530, Loss: 0.67343\n",
      "Epoch: 14, Step: 1540, Loss: 0.721522\n",
      "Epoch: 14, Step: 1550, Loss: 0.699818\n",
      "Epoch: 14, Step: 1560, Loss: 0.654782\n",
      "Epoch: 14, Step: 1570, Loss: 0.819027\n",
      "Epoch: 14, Step: 1580, Loss: 5.99781\n",
      "Epoch: 14, Step: 1590, Loss: 0.716923\n",
      "Epoch: 14, Step: 1600, Loss: 3.1161\n"
     ]
    },
    {
     "name": "stderr",
     "output_type": "stream",
     "text": [
      "W0923 14:21:57.345292  1056 saver.py:1134] *******************************************************\n",
      "W0923 14:21:57.347295  1056 saver.py:1135] TensorFlow's V1 checkpoint format has been deprecated.\n",
      "W0923 14:21:57.350295  1056 saver.py:1136] Consider switching to the more efficient V2 format:\n",
      "W0923 14:21:57.351295  1056 saver.py:1137]    `tf.train.Saver(write_version=tf.train.SaverDef.V2)`\n",
      "W0923 14:21:57.365556  1056 saver.py:1138] now on by default.\n",
      "W0923 14:21:57.369292  1056 saver.py:1139] *******************************************************\n"
     ]
    },
    {
     "name": "stdout",
     "output_type": "stream",
     "text": [
      "Epoch: 14, Step: 1610, Loss: 2.65908\n",
      "Epoch: 14, Step: 1620, Loss: 0.642951\n",
      "Epoch: 14, Step: 1630, Loss: 0.601649\n",
      "Epoch: 14, Step: 1640, Loss: 0.641562\n",
      "Epoch: 14, Step: 1650, Loss: 0.625211\n",
      "Epoch: 14, Step: 1660, Loss: 0.600721\n",
      "Epoch: 14, Step: 1670, Loss: 0.628017\n",
      "Epoch: 14, Step: 1680, Loss: 0.582469\n",
      "Epoch: 14, Step: 1690, Loss: 0.579266\n",
      "Epoch: 14, Step: 1700, Loss: 0.572204\n"
     ]
    },
    {
     "name": "stderr",
     "output_type": "stream",
     "text": [
      "W0923 14:27:51.497231  1056 saver.py:1134] *******************************************************\n",
      "W0923 14:27:51.504235  1056 saver.py:1135] TensorFlow's V1 checkpoint format has been deprecated.\n",
      "W0923 14:27:51.508244  1056 saver.py:1136] Consider switching to the more efficient V2 format:\n",
      "W0923 14:27:51.516233  1056 saver.py:1137]    `tf.train.Saver(write_version=tf.train.SaverDef.V2)`\n",
      "W0923 14:27:51.520398  1056 saver.py:1138] now on by default.\n",
      "W0923 14:27:51.523382  1056 saver.py:1139] *******************************************************\n"
     ]
    },
    {
     "name": "stdout",
     "output_type": "stream",
     "text": [
      "Epoch: 14, Step: 1710, Loss: 0.573521\n",
      "Epoch: 14, Step: 1720, Loss: 0.569614\n",
      "Epoch: 14, Step: 1730, Loss: 0.562471\n",
      "Epoch: 14, Step: 1740, Loss: 0.557841\n",
      "Epoch: 14, Step: 1750, Loss: 0.556519\n",
      "Epoch: 14, Step: 1760, Loss: 0.556199\n",
      "Epoch: 14, Step: 1770, Loss: 0.554237\n",
      "Epoch: 14, Step: 1780, Loss: 0.556879\n",
      "Epoch: 14, Step: 1790, Loss: 0.553514\n",
      "Epoch: 14, Step: 1800, Loss: 0.557072\n"
     ]
    },
    {
     "name": "stderr",
     "output_type": "stream",
     "text": [
      "W0923 14:33:58.953383  1056 saver.py:1134] *******************************************************\n",
      "W0923 14:33:58.956389  1056 saver.py:1135] TensorFlow's V1 checkpoint format has been deprecated.\n",
      "W0923 14:33:58.959385  1056 saver.py:1136] Consider switching to the more efficient V2 format:\n",
      "W0923 14:33:58.964395  1056 saver.py:1137]    `tf.train.Saver(write_version=tf.train.SaverDef.V2)`\n",
      "W0923 14:33:58.972387  1056 saver.py:1138] now on by default.\n",
      "W0923 14:33:58.974393  1056 saver.py:1139] *******************************************************\n"
     ]
    },
    {
     "name": "stdout",
     "output_type": "stream",
     "text": [
      "Epoch: 14, Step: 1810, Loss: 0.555311\n",
      "Epoch: 14, Step: 1820, Loss: 0.550439\n",
      "Epoch: 14, Step: 1830, Loss: 0.549299\n",
      "Epoch: 14, Step: 1840, Loss: 0.545669\n",
      "Epoch: 14, Step: 1850, Loss: 0.541532\n",
      "Model saved in file: ./save\\model.ckpt\n",
      "Epoch: 15, Step: 1500, Loss: 0.541688\n"
     ]
    },
    {
     "name": "stderr",
     "output_type": "stream",
     "text": [
      "W0923 14:37:19.839051  1056 saver.py:1134] *******************************************************\n",
      "W0923 14:37:19.840214  1056 saver.py:1135] TensorFlow's V1 checkpoint format has been deprecated.\n",
      "W0923 14:37:19.843210  1056 saver.py:1136] Consider switching to the more efficient V2 format:\n",
      "W0923 14:37:19.848210  1056 saver.py:1137]    `tf.train.Saver(write_version=tf.train.SaverDef.V2)`\n",
      "W0923 14:37:19.852325  1056 saver.py:1138] now on by default.\n",
      "W0923 14:37:19.853211  1056 saver.py:1139] *******************************************************\n"
     ]
    },
    {
     "name": "stdout",
     "output_type": "stream",
     "text": [
      "Epoch: 15, Step: 1510, Loss: 0.554249\n",
      "Epoch: 15, Step: 1520, Loss: 0.610353\n",
      "Epoch: 15, Step: 1530, Loss: 2.9341\n",
      "Epoch: 15, Step: 1540, Loss: 3.31548\n",
      "Epoch: 15, Step: 1550, Loss: 0.546296\n",
      "Epoch: 15, Step: 1560, Loss: 0.543939\n",
      "Epoch: 15, Step: 1570, Loss: 0.57668\n",
      "Epoch: 15, Step: 1580, Loss: 0.531857\n",
      "Epoch: 15, Step: 1590, Loss: 0.554774\n",
      "Epoch: 15, Step: 1600, Loss: 0.627372\n"
     ]
    },
    {
     "name": "stderr",
     "output_type": "stream",
     "text": [
      "W0923 14:43:06.712883  1056 saver.py:1134] *******************************************************\n",
      "W0923 14:43:06.715803  1056 saver.py:1135] TensorFlow's V1 checkpoint format has been deprecated.\n",
      "W0923 14:43:06.717803  1056 saver.py:1136] Consider switching to the more efficient V2 format:\n",
      "W0923 14:43:06.719804  1056 saver.py:1137]    `tf.train.Saver(write_version=tf.train.SaverDef.V2)`\n",
      "W0923 14:43:06.722805  1056 saver.py:1138] now on by default.\n",
      "W0923 14:43:06.731907  1056 saver.py:1139] *******************************************************\n"
     ]
    },
    {
     "name": "stdout",
     "output_type": "stream",
     "text": [
      "Epoch: 15, Step: 1610, Loss: 0.832996\n",
      "Epoch: 15, Step: 1620, Loss: 0.569812\n",
      "Epoch: 15, Step: 1630, Loss: 0.560624\n",
      "Epoch: 15, Step: 1640, Loss: 0.564842\n",
      "Epoch: 15, Step: 1650, Loss: 0.534132\n",
      "Epoch: 15, Step: 1660, Loss: 0.537385\n",
      "Epoch: 15, Step: 1670, Loss: 0.569699\n",
      "Epoch: 15, Step: 1680, Loss: 0.575372\n",
      "Epoch: 15, Step: 1690, Loss: 0.623625\n",
      "Epoch: 15, Step: 1700, Loss: 0.651148\n"
     ]
    },
    {
     "name": "stderr",
     "output_type": "stream",
     "text": [
      "W0923 14:48:57.309821  1056 saver.py:1134] *******************************************************\n",
      "W0923 14:48:57.314591  1056 saver.py:1135] TensorFlow's V1 checkpoint format has been deprecated.\n",
      "W0923 14:48:57.316595  1056 saver.py:1136] Consider switching to the more efficient V2 format:\n",
      "W0923 14:48:57.319594  1056 saver.py:1137]    `tf.train.Saver(write_version=tf.train.SaverDef.V2)`\n",
      "W0923 14:48:57.322638  1056 saver.py:1138] now on by default.\n",
      "W0923 14:48:57.327590  1056 saver.py:1139] *******************************************************\n"
     ]
    },
    {
     "name": "stdout",
     "output_type": "stream",
     "text": [
      "Epoch: 15, Step: 1710, Loss: 0.534148\n",
      "Epoch: 15, Step: 1720, Loss: 0.541509\n",
      "Epoch: 15, Step: 1730, Loss: 0.522985\n",
      "Epoch: 15, Step: 1740, Loss: 0.523279\n",
      "Epoch: 15, Step: 1750, Loss: 0.531407\n",
      "Epoch: 15, Step: 1760, Loss: 0.533753\n",
      "Epoch: 15, Step: 1770, Loss: 0.529525\n",
      "Epoch: 15, Step: 1780, Loss: 0.521914\n",
      "Epoch: 15, Step: 1790, Loss: 0.526874\n",
      "Epoch: 15, Step: 1800, Loss: 0.522925\n"
     ]
    },
    {
     "name": "stderr",
     "output_type": "stream",
     "text": [
      "W0923 14:54:34.532042  1056 saver.py:1134] *******************************************************\n",
      "W0923 14:54:34.534715  1056 saver.py:1135] TensorFlow's V1 checkpoint format has been deprecated.\n",
      "W0923 14:54:34.541107  1056 saver.py:1136] Consider switching to the more efficient V2 format:\n",
      "W0923 14:54:34.542812  1056 saver.py:1137]    `tf.train.Saver(write_version=tf.train.SaverDef.V2)`\n",
      "W0923 14:54:34.545181  1056 saver.py:1138] now on by default.\n",
      "W0923 14:54:34.550810  1056 saver.py:1139] *******************************************************\n"
     ]
    },
    {
     "name": "stdout",
     "output_type": "stream",
     "text": [
      "Epoch: 15, Step: 1810, Loss: 0.519284\n",
      "Epoch: 15, Step: 1820, Loss: 0.508848\n",
      "Epoch: 15, Step: 1830, Loss: 0.52703\n",
      "Epoch: 15, Step: 1840, Loss: 0.565082\n",
      "Epoch: 15, Step: 1850, Loss: 0.522728\n",
      "Epoch: 15, Step: 1860, Loss: 1.03232\n",
      "Epoch: 15, Step: 1870, Loss: 0.965035\n",
      "Epoch: 15, Step: 1880, Loss: 0.623146\n",
      "Epoch: 15, Step: 1890, Loss: 0.511832\n",
      "Epoch: 15, Step: 1900, Loss: 0.503156\n"
     ]
    },
    {
     "name": "stderr",
     "output_type": "stream",
     "text": [
      "W0923 15:00:12.293183  1056 saver.py:1134] *******************************************************\n",
      "W0923 15:00:12.295401  1056 saver.py:1135] TensorFlow's V1 checkpoint format has been deprecated.\n",
      "W0923 15:00:12.300185  1056 saver.py:1136] Consider switching to the more efficient V2 format:\n",
      "W0923 15:00:12.302262  1056 saver.py:1137]    `tf.train.Saver(write_version=tf.train.SaverDef.V2)`\n",
      "W0923 15:00:12.319185  1056 saver.py:1138] now on by default.\n",
      "W0923 15:00:12.332207  1056 saver.py:1139] *******************************************************\n"
     ]
    },
    {
     "name": "stdout",
     "output_type": "stream",
     "text": [
      "Epoch: 15, Step: 1910, Loss: 0.508453\n",
      "Epoch: 15, Step: 1920, Loss: 0.580555\n",
      "Epoch: 15, Step: 1930, Loss: 0.752914\n",
      "Epoch: 15, Step: 1940, Loss: 0.567454\n",
      "Epoch: 15, Step: 1950, Loss: 0.504752\n",
      "Model saved in file: ./save\\model.ckpt\n",
      "Epoch: 16, Step: 1600, Loss: 0.521681\n"
     ]
    },
    {
     "name": "stderr",
     "output_type": "stream",
     "text": [
      "W0923 15:03:37.500351  1056 saver.py:1134] *******************************************************\n",
      "W0923 15:03:37.503351  1056 saver.py:1135] TensorFlow's V1 checkpoint format has been deprecated.\n",
      "W0923 15:03:37.506468  1056 saver.py:1136] Consider switching to the more efficient V2 format:\n",
      "W0923 15:03:37.512354  1056 saver.py:1137]    `tf.train.Saver(write_version=tf.train.SaverDef.V2)`\n",
      "W0923 15:03:37.520509  1056 saver.py:1138] now on by default.\n",
      "W0923 15:03:37.524351  1056 saver.py:1139] *******************************************************\n"
     ]
    },
    {
     "name": "stdout",
     "output_type": "stream",
     "text": [
      "Epoch: 16, Step: 1610, Loss: 0.538592\n",
      "Epoch: 16, Step: 1620, Loss: 0.615123\n",
      "Epoch: 16, Step: 1630, Loss: 0.586745\n",
      "Epoch: 16, Step: 1640, Loss: 0.525023\n",
      "Epoch: 16, Step: 1650, Loss: 0.676844\n",
      "Epoch: 16, Step: 1660, Loss: 0.488532\n",
      "Epoch: 16, Step: 1670, Loss: 0.5295\n",
      "Epoch: 16, Step: 1680, Loss: 0.607265\n",
      "Epoch: 16, Step: 1690, Loss: 0.690595\n",
      "Epoch: 16, Step: 1700, Loss: 0.678304\n"
     ]
    },
    {
     "name": "stderr",
     "output_type": "stream",
     "text": [
      "W0923 15:10:24.142970  1056 saver.py:1134] *******************************************************\n",
      "W0923 15:10:24.144868  1056 saver.py:1135] TensorFlow's V1 checkpoint format has been deprecated.\n",
      "W0923 15:10:24.146864  1056 saver.py:1136] Consider switching to the more efficient V2 format:\n",
      "W0923 15:10:24.150867  1056 saver.py:1137]    `tf.train.Saver(write_version=tf.train.SaverDef.V2)`\n",
      "W0923 15:10:24.155118  1056 saver.py:1138] now on by default.\n",
      "W0923 15:10:24.162979  1056 saver.py:1139] *******************************************************\n"
     ]
    },
    {
     "name": "stdout",
     "output_type": "stream",
     "text": [
      "Epoch: 16, Step: 1710, Loss: 0.490541\n",
      "Epoch: 16, Step: 1720, Loss: 0.488641\n",
      "Epoch: 16, Step: 1730, Loss: 0.487927\n",
      "Epoch: 16, Step: 1740, Loss: 0.485715\n",
      "Epoch: 16, Step: 1750, Loss: 0.491588\n",
      "Epoch: 16, Step: 1760, Loss: 1.69592\n",
      "Epoch: 16, Step: 1770, Loss: 4.78516\n",
      "Epoch: 16, Step: 1780, Loss: 0.487801\n",
      "Epoch: 16, Step: 1790, Loss: 0.475122\n",
      "Epoch: 16, Step: 1800, Loss: 0.472361\n"
     ]
    },
    {
     "name": "stderr",
     "output_type": "stream",
     "text": [
      "W0923 15:15:21.889903  1056 saver.py:1134] *******************************************************\n",
      "W0923 15:15:21.895218  1056 saver.py:1135] TensorFlow's V1 checkpoint format has been deprecated.\n",
      "W0923 15:15:21.898395  1056 saver.py:1136] Consider switching to the more efficient V2 format:\n",
      "W0923 15:15:21.910094  1056 saver.py:1137]    `tf.train.Saver(write_version=tf.train.SaverDef.V2)`\n",
      "W0923 15:15:21.915284  1056 saver.py:1138] now on by default.\n",
      "W0923 15:15:21.919094  1056 saver.py:1139] *******************************************************\n"
     ]
    },
    {
     "name": "stdout",
     "output_type": "stream",
     "text": [
      "Epoch: 16, Step: 1810, Loss: 0.474058\n",
      "Epoch: 16, Step: 1820, Loss: 0.473708\n",
      "Epoch: 16, Step: 1830, Loss: 0.474105\n",
      "Epoch: 16, Step: 1840, Loss: 0.479064\n",
      "Epoch: 16, Step: 1850, Loss: 0.472156\n",
      "Epoch: 16, Step: 1860, Loss: 0.469596\n",
      "Epoch: 16, Step: 1870, Loss: 0.46715\n",
      "Epoch: 16, Step: 1880, Loss: 0.508447\n",
      "Epoch: 16, Step: 1890, Loss: 0.472464\n",
      "Epoch: 16, Step: 1900, Loss: 0.510186\n"
     ]
    },
    {
     "name": "stderr",
     "output_type": "stream",
     "text": [
      "W0923 15:20:16.639803  1056 saver.py:1134] *******************************************************\n",
      "W0923 15:20:16.642806  1056 saver.py:1135] TensorFlow's V1 checkpoint format has been deprecated.\n",
      "W0923 15:20:16.648806  1056 saver.py:1136] Consider switching to the more efficient V2 format:\n",
      "W0923 15:20:16.655079  1056 saver.py:1137]    `tf.train.Saver(write_version=tf.train.SaverDef.V2)`\n",
      "W0923 15:20:16.663966  1056 saver.py:1138] now on by default.\n",
      "W0923 15:20:16.667812  1056 saver.py:1139] *******************************************************\n"
     ]
    },
    {
     "name": "stdout",
     "output_type": "stream",
     "text": [
      "Epoch: 16, Step: 1910, Loss: 0.487091\n",
      "Epoch: 16, Step: 1920, Loss: 0.468733\n",
      "Epoch: 16, Step: 1930, Loss: 0.471926\n",
      "Epoch: 16, Step: 1940, Loss: 0.479469\n",
      "Epoch: 16, Step: 1950, Loss: 0.570345\n",
      "Epoch: 16, Step: 1960, Loss: 0.490125\n",
      "Epoch: 16, Step: 1970, Loss: 0.639256\n",
      "Epoch: 16, Step: 1980, Loss: 0.859369\n",
      "Epoch: 16, Step: 1990, Loss: 1.15923\n",
      "Epoch: 16, Step: 2000, Loss: 0.908107\n"
     ]
    },
    {
     "name": "stderr",
     "output_type": "stream",
     "text": [
      "W0923 15:25:19.286428  1056 saver.py:1134] *******************************************************\n",
      "W0923 15:25:19.288527  1056 saver.py:1135] TensorFlow's V1 checkpoint format has been deprecated.\n",
      "W0923 15:25:19.293651  1056 saver.py:1136] Consider switching to the more efficient V2 format:\n",
      "W0923 15:25:19.295770  1056 saver.py:1137]    `tf.train.Saver(write_version=tf.train.SaverDef.V2)`\n",
      "W0923 15:25:19.297650  1056 saver.py:1138] now on by default.\n",
      "W0923 15:25:19.300006  1056 saver.py:1139] *******************************************************\n"
     ]
    },
    {
     "name": "stdout",
     "output_type": "stream",
     "text": [
      "Epoch: 16, Step: 2010, Loss: 0.595835\n",
      "Epoch: 16, Step: 2020, Loss: 0.477066\n",
      "Epoch: 16, Step: 2030, Loss: 0.460305\n",
      "Epoch: 16, Step: 2040, Loss: 0.46169\n",
      "Epoch: 16, Step: 2050, Loss: 0.459519\n",
      "Model saved in file: ./save\\model.ckpt\n",
      "Epoch: 17, Step: 1700, Loss: 0.546992\n"
     ]
    },
    {
     "name": "stderr",
     "output_type": "stream",
     "text": [
      "W0923 15:28:57.101969  1056 saver.py:1134] *******************************************************\n",
      "W0923 15:28:57.104022  1056 saver.py:1135] TensorFlow's V1 checkpoint format has been deprecated.\n",
      "W0923 15:28:57.105983  1056 saver.py:1136] Consider switching to the more efficient V2 format:\n",
      "W0923 15:28:57.115973  1056 saver.py:1137]    `tf.train.Saver(write_version=tf.train.SaverDef.V2)`\n",
      "W0923 15:28:57.119975  1056 saver.py:1138] now on by default.\n",
      "W0923 15:28:57.122969  1056 saver.py:1139] *******************************************************\n"
     ]
    },
    {
     "name": "stdout",
     "output_type": "stream",
     "text": [
      "Epoch: 17, Step: 1710, Loss: 0.493312\n",
      "Epoch: 17, Step: 1720, Loss: 3.98957\n",
      "Epoch: 17, Step: 1730, Loss: 2.45118\n",
      "Epoch: 17, Step: 1740, Loss: 0.448662\n",
      "Epoch: 17, Step: 1750, Loss: 0.448305\n",
      "Epoch: 17, Step: 1760, Loss: 0.487311\n",
      "Epoch: 17, Step: 1770, Loss: 0.498091\n",
      "Epoch: 17, Step: 1780, Loss: 0.472407\n",
      "Epoch: 17, Step: 1790, Loss: 0.489902\n",
      "Epoch: 17, Step: 1800, Loss: 0.540301\n"
     ]
    },
    {
     "name": "stderr",
     "output_type": "stream",
     "text": [
      "W0923 15:35:24.933680  1056 saver.py:1134] *******************************************************\n",
      "W0923 15:35:24.936773  1056 saver.py:1135] TensorFlow's V1 checkpoint format has been deprecated.\n",
      "W0923 15:35:24.940683  1056 saver.py:1136] Consider switching to the more efficient V2 format:\n",
      "W0923 15:35:24.942681  1056 saver.py:1137]    `tf.train.Saver(write_version=tf.train.SaverDef.V2)`\n",
      "W0923 15:35:24.952456  1056 saver.py:1138] now on by default.\n",
      "W0923 15:35:24.956852  1056 saver.py:1139] *******************************************************\n"
     ]
    },
    {
     "name": "stdout",
     "output_type": "stream",
     "text": [
      "Epoch: 17, Step: 1810, Loss: 0.4407\n",
      "Epoch: 17, Step: 1820, Loss: 0.482439\n",
      "Epoch: 17, Step: 1830, Loss: 0.455758\n",
      "Epoch: 17, Step: 1840, Loss: 0.451679\n",
      "Epoch: 17, Step: 1850, Loss: 0.443549\n",
      "Epoch: 17, Step: 1860, Loss: 0.507332\n",
      "Epoch: 17, Step: 1870, Loss: 0.477112\n",
      "Epoch: 17, Step: 1880, Loss: 0.452393\n",
      "Epoch: 17, Step: 1890, Loss: 0.445024\n",
      "Epoch: 17, Step: 1900, Loss: 0.478931\n"
     ]
    },
    {
     "name": "stderr",
     "output_type": "stream",
     "text": [
      "W0923 15:42:15.241221  1056 saver.py:1134] *******************************************************\n",
      "W0923 15:42:15.243222  1056 saver.py:1135] TensorFlow's V1 checkpoint format has been deprecated.\n",
      "W0923 15:42:15.248219  1056 saver.py:1136] Consider switching to the more efficient V2 format:\n",
      "W0923 15:42:15.255221  1056 saver.py:1137]    `tf.train.Saver(write_version=tf.train.SaverDef.V2)`\n",
      "W0923 15:42:15.270378  1056 saver.py:1138] now on by default.\n",
      "W0923 15:42:15.281220  1056 saver.py:1139] *******************************************************\n"
     ]
    },
    {
     "name": "stdout",
     "output_type": "stream",
     "text": [
      "Epoch: 17, Step: 1910, Loss: 0.445309\n",
      "Epoch: 17, Step: 1920, Loss: 0.433715\n",
      "Epoch: 17, Step: 1930, Loss: 0.440526\n",
      "Epoch: 17, Step: 1940, Loss: 0.44116\n",
      "Epoch: 17, Step: 1950, Loss: 0.434544\n",
      "Epoch: 17, Step: 1960, Loss: 0.473429\n",
      "Epoch: 17, Step: 1970, Loss: 0.573319\n",
      "Epoch: 17, Step: 1980, Loss: 0.684142\n",
      "Epoch: 17, Step: 1990, Loss: 1.43723\n",
      "Epoch: 17, Step: 2000, Loss: 1.14754\n"
     ]
    },
    {
     "name": "stderr",
     "output_type": "stream",
     "text": [
      "W0923 15:48:35.238394  1056 saver.py:1134] *******************************************************\n",
      "W0923 15:48:35.241400  1056 saver.py:1135] TensorFlow's V1 checkpoint format has been deprecated.\n",
      "W0923 15:48:35.243413  1056 saver.py:1136] Consider switching to the more efficient V2 format:\n",
      "W0923 15:48:35.245402  1056 saver.py:1137]    `tf.train.Saver(write_version=tf.train.SaverDef.V2)`\n",
      "W0923 15:48:35.253416  1056 saver.py:1138] now on by default.\n",
      "W0923 15:48:35.261401  1056 saver.py:1139] *******************************************************\n"
     ]
    },
    {
     "name": "stdout",
     "output_type": "stream",
     "text": [
      "Epoch: 17, Step: 2010, Loss: 0.518238\n",
      "Epoch: 17, Step: 2020, Loss: 0.443481\n",
      "Epoch: 17, Step: 2030, Loss: 0.457985\n",
      "Epoch: 17, Step: 2040, Loss: 0.518377\n",
      "Epoch: 17, Step: 2050, Loss: 0.64471\n",
      "Epoch: 17, Step: 2060, Loss: 0.529925\n",
      "Epoch: 17, Step: 2070, Loss: 0.435452\n",
      "Epoch: 17, Step: 2080, Loss: 0.421492\n",
      "Epoch: 17, Step: 2090, Loss: 0.425548\n",
      "Epoch: 17, Step: 2100, Loss: 0.50038\n"
     ]
    },
    {
     "name": "stderr",
     "output_type": "stream",
     "text": [
      "W0923 15:54:49.775320  1056 saver.py:1134] *******************************************************\n",
      "W0923 15:54:49.778180  1056 saver.py:1135] TensorFlow's V1 checkpoint format has been deprecated.\n",
      "W0923 15:54:49.780185  1056 saver.py:1136] Consider switching to the more efficient V2 format:\n",
      "W0923 15:54:49.783179  1056 saver.py:1137]    `tf.train.Saver(write_version=tf.train.SaverDef.V2)`\n",
      "W0923 15:54:49.792182  1056 saver.py:1138] now on by default.\n",
      "W0923 15:54:49.794186  1056 saver.py:1139] *******************************************************\n"
     ]
    },
    {
     "name": "stdout",
     "output_type": "stream",
     "text": [
      "Epoch: 17, Step: 2110, Loss: 0.774549\n",
      "Epoch: 17, Step: 2120, Loss: 1.12707\n",
      "Epoch: 17, Step: 2130, Loss: 0.664156\n",
      "Epoch: 17, Step: 2140, Loss: 0.459965\n",
      "Epoch: 17, Step: 2150, Loss: 0.425715\n",
      "Model saved in file: ./save\\model.ckpt\n",
      "Epoch: 18, Step: 1800, Loss: 0.417845\n"
     ]
    },
    {
     "name": "stderr",
     "output_type": "stream",
     "text": [
      "W0923 15:58:35.970584  1056 saver.py:1134] *******************************************************\n",
      "W0923 15:58:35.971587  1056 saver.py:1135] TensorFlow's V1 checkpoint format has been deprecated.\n",
      "W0923 15:58:35.978587  1056 saver.py:1136] Consider switching to the more efficient V2 format:\n",
      "W0923 15:58:35.981594  1056 saver.py:1137]    `tf.train.Saver(write_version=tf.train.SaverDef.V2)`\n",
      "W0923 15:58:35.990590  1056 saver.py:1138] now on by default.\n",
      "W0923 15:58:35.998586  1056 saver.py:1139] *******************************************************\n"
     ]
    },
    {
     "name": "stdout",
     "output_type": "stream",
     "text": [
      "Epoch: 18, Step: 1810, Loss: 0.414469\n",
      "Epoch: 18, Step: 1820, Loss: 0.415112\n",
      "Epoch: 18, Step: 1830, Loss: 0.450663\n",
      "Epoch: 18, Step: 1840, Loss: 0.480596\n",
      "Epoch: 18, Step: 1850, Loss: 0.410582\n",
      "Epoch: 18, Step: 1860, Loss: 0.468444\n",
      "Epoch: 18, Step: 1870, Loss: 0.597678\n",
      "Epoch: 18, Step: 1880, Loss: 0.638365\n",
      "Epoch: 18, Step: 1890, Loss: 0.753453\n",
      "Epoch: 18, Step: 1900, Loss: 0.563631\n"
     ]
    },
    {
     "name": "stderr",
     "output_type": "stream",
     "text": [
      "W0923 16:05:44.732043  1056 saver.py:1134] *******************************************************\n",
      "W0923 16:05:44.735945  1056 saver.py:1135] TensorFlow's V1 checkpoint format has been deprecated.\n",
      "W0923 16:05:44.740929  1056 saver.py:1136] Consider switching to the more efficient V2 format:\n",
      "W0923 16:05:44.744911  1056 saver.py:1137]    `tf.train.Saver(write_version=tf.train.SaverDef.V2)`\n",
      "W0923 16:05:44.747915  1056 saver.py:1138] now on by default.\n",
      "W0923 16:05:44.752913  1056 saver.py:1139] *******************************************************\n"
     ]
    },
    {
     "name": "stdout",
     "output_type": "stream",
     "text": [
      "Epoch: 18, Step: 1910, Loss: 0.562972\n",
      "Epoch: 18, Step: 1920, Loss: 0.586922\n",
      "Epoch: 18, Step: 1930, Loss: 0.609014\n",
      "Epoch: 18, Step: 1940, Loss: 0.559049\n",
      "Epoch: 18, Step: 1950, Loss: 3.12333\n",
      "Epoch: 18, Step: 1960, Loss: 3.00015\n",
      "Epoch: 18, Step: 1970, Loss: 0.496305\n",
      "Epoch: 18, Step: 1980, Loss: 0.51677\n",
      "Epoch: 18, Step: 1990, Loss: 0.905353\n",
      "Epoch: 18, Step: 2000, Loss: 2.11918\n"
     ]
    },
    {
     "name": "stderr",
     "output_type": "stream",
     "text": [
      "W0923 16:11:27.150673  1056 saver.py:1134] *******************************************************\n",
      "W0923 16:11:27.151480  1056 saver.py:1135] TensorFlow's V1 checkpoint format has been deprecated.\n",
      "W0923 16:11:27.156480  1056 saver.py:1136] Consider switching to the more efficient V2 format:\n",
      "W0923 16:11:27.162518  1056 saver.py:1137]    `tf.train.Saver(write_version=tf.train.SaverDef.V2)`\n",
      "W0923 16:11:27.167527  1056 saver.py:1138] now on by default.\n",
      "W0923 16:11:27.170485  1056 saver.py:1139] *******************************************************\n"
     ]
    },
    {
     "name": "stdout",
     "output_type": "stream",
     "text": [
      "Epoch: 18, Step: 2010, Loss: 2.23252\n",
      "Epoch: 18, Step: 2020, Loss: 1.01872\n",
      "Epoch: 18, Step: 2030, Loss: 0.774266\n",
      "Epoch: 18, Step: 2040, Loss: 0.539665\n",
      "Epoch: 18, Step: 2050, Loss: 0.410128\n",
      "Epoch: 18, Step: 2060, Loss: 0.43526\n",
      "Epoch: 18, Step: 2070, Loss: 0.76587\n",
      "Epoch: 18, Step: 2080, Loss: 0.39778\n",
      "Epoch: 18, Step: 2090, Loss: 0.404173\n",
      "Epoch: 18, Step: 2100, Loss: 0.392865\n"
     ]
    },
    {
     "name": "stderr",
     "output_type": "stream",
     "text": [
      "W0923 16:17:28.877798  1056 saver.py:1134] *******************************************************\n",
      "W0923 16:17:28.881801  1056 saver.py:1135] TensorFlow's V1 checkpoint format has been deprecated.\n",
      "W0923 16:17:28.883811  1056 saver.py:1136] Consider switching to the more efficient V2 format:\n",
      "W0923 16:17:28.887157  1056 saver.py:1137]    `tf.train.Saver(write_version=tf.train.SaverDef.V2)`\n",
      "W0923 16:17:28.893805  1056 saver.py:1138] now on by default.\n",
      "W0923 16:17:28.896814  1056 saver.py:1139] *******************************************************\n"
     ]
    },
    {
     "name": "stdout",
     "output_type": "stream",
     "text": [
      "Epoch: 18, Step: 2110, Loss: 0.389465\n",
      "Epoch: 18, Step: 2120, Loss: 0.392501\n",
      "Epoch: 18, Step: 2130, Loss: 0.389415\n",
      "Epoch: 18, Step: 2140, Loss: 0.391313\n",
      "Epoch: 18, Step: 2150, Loss: 0.388593\n",
      "Epoch: 18, Step: 2160, Loss: 0.385841\n",
      "Epoch: 18, Step: 2170, Loss: 0.387161\n",
      "Epoch: 18, Step: 2180, Loss: 0.397303\n",
      "Epoch: 18, Step: 2190, Loss: 0.389543\n",
      "Epoch: 18, Step: 2200, Loss: 0.390985\n"
     ]
    },
    {
     "name": "stderr",
     "output_type": "stream",
     "text": [
      "W0923 16:24:09.773430  1056 saver.py:1134] *******************************************************\n",
      "W0923 16:24:09.777428  1056 saver.py:1135] TensorFlow's V1 checkpoint format has been deprecated.\n",
      "W0923 16:24:09.783435  1056 saver.py:1136] Consider switching to the more efficient V2 format:\n",
      "W0923 16:24:09.790433  1056 saver.py:1137]    `tf.train.Saver(write_version=tf.train.SaverDef.V2)`\n",
      "W0923 16:24:09.795431  1056 saver.py:1138] now on by default.\n",
      "W0923 16:24:09.798430  1056 saver.py:1139] *******************************************************\n"
     ]
    },
    {
     "name": "stdout",
     "output_type": "stream",
     "text": [
      "Epoch: 18, Step: 2210, Loss: 0.384805\n",
      "Epoch: 18, Step: 2220, Loss: 0.385412\n",
      "Epoch: 18, Step: 2230, Loss: 0.383962\n",
      "Epoch: 18, Step: 2240, Loss: 0.381421\n",
      "Epoch: 18, Step: 2250, Loss: 0.479616\n",
      "Model saved in file: ./save\\model.ckpt\n",
      "Epoch: 19, Step: 1900, Loss: 0.427987\n"
     ]
    },
    {
     "name": "stderr",
     "output_type": "stream",
     "text": [
      "W0923 16:27:22.429886  1056 saver.py:1134] *******************************************************\n",
      "W0923 16:27:22.434889  1056 saver.py:1135] TensorFlow's V1 checkpoint format has been deprecated.\n",
      "W0923 16:27:22.438522  1056 saver.py:1136] Consider switching to the more efficient V2 format:\n",
      "W0923 16:27:22.440889  1056 saver.py:1137]    `tf.train.Saver(write_version=tf.train.SaverDef.V2)`\n",
      "W0923 16:27:22.442895  1056 saver.py:1138] now on by default.\n",
      "W0923 16:27:22.446887  1056 saver.py:1139] *******************************************************\n"
     ]
    },
    {
     "name": "stdout",
     "output_type": "stream",
     "text": [
      "Epoch: 19, Step: 1910, Loss: 4.71848\n",
      "Epoch: 19, Step: 1920, Loss: 1.01037\n",
      "Epoch: 19, Step: 1930, Loss: 0.388415\n",
      "Epoch: 19, Step: 1940, Loss: 0.388925\n",
      "Epoch: 19, Step: 1950, Loss: 0.39027\n",
      "Epoch: 19, Step: 1960, Loss: 0.399098\n",
      "Epoch: 19, Step: 1970, Loss: 0.4013\n",
      "Epoch: 19, Step: 1980, Loss: 0.455777\n",
      "Epoch: 19, Step: 1990, Loss: 0.468216\n",
      "Epoch: 19, Step: 2000, Loss: 0.423718\n"
     ]
    },
    {
     "name": "stderr",
     "output_type": "stream",
     "text": [
      "W0923 16:32:54.240443  1056 saver.py:1134] *******************************************************\n",
      "W0923 16:32:54.245457  1056 saver.py:1135] TensorFlow's V1 checkpoint format has been deprecated.\n",
      "W0923 16:32:54.250460  1056 saver.py:1136] Consider switching to the more efficient V2 format:\n",
      "W0923 16:32:54.252461  1056 saver.py:1137]    `tf.train.Saver(write_version=tf.train.SaverDef.V2)`\n",
      "W0923 16:32:54.258461  1056 saver.py:1138] now on by default.\n",
      "W0923 16:32:54.262457  1056 saver.py:1139] *******************************************************\n"
     ]
    },
    {
     "name": "stdout",
     "output_type": "stream",
     "text": [
      "Epoch: 19, Step: 2010, Loss: 0.4886\n",
      "Epoch: 19, Step: 2020, Loss: 0.456514\n",
      "Epoch: 19, Step: 2030, Loss: 0.408996\n",
      "Epoch: 19, Step: 2040, Loss: 0.497833\n",
      "Epoch: 19, Step: 2050, Loss: 0.396967\n",
      "Epoch: 19, Step: 2060, Loss: 0.400297\n",
      "Epoch: 19, Step: 2070, Loss: 0.557644\n",
      "Epoch: 19, Step: 2080, Loss: 0.487563\n",
      "Epoch: 19, Step: 2090, Loss: 0.377155\n",
      "Epoch: 19, Step: 2100, Loss: 0.370238\n"
     ]
    },
    {
     "name": "stderr",
     "output_type": "stream",
     "text": [
      "W0923 16:39:40.957999  1056 saver.py:1134] *******************************************************\n",
      "W0923 16:39:40.964985  1056 saver.py:1135] TensorFlow's V1 checkpoint format has been deprecated.\n",
      "W0923 16:39:40.968117  1056 saver.py:1136] Consider switching to the more efficient V2 format:\n",
      "W0923 16:39:40.978135  1056 saver.py:1137]    `tf.train.Saver(write_version=tf.train.SaverDef.V2)`\n",
      "W0923 16:39:40.981141  1056 saver.py:1138] now on by default.\n",
      "W0923 16:39:40.990132  1056 saver.py:1139] *******************************************************\n"
     ]
    },
    {
     "name": "stdout",
     "output_type": "stream",
     "text": [
      "Epoch: 19, Step: 2110, Loss: 0.375008\n",
      "Epoch: 19, Step: 2120, Loss: 0.373968\n",
      "Epoch: 19, Step: 2130, Loss: 0.372222\n",
      "Epoch: 19, Step: 2140, Loss: 0.373113\n",
      "Epoch: 19, Step: 2150, Loss: 0.374271\n",
      "Epoch: 19, Step: 2160, Loss: 0.371868\n",
      "Epoch: 19, Step: 2170, Loss: 0.385381\n",
      "Epoch: 19, Step: 2180, Loss: 0.386345\n",
      "Epoch: 19, Step: 2190, Loss: 0.371504\n",
      "Epoch: 19, Step: 2200, Loss: 0.373586\n"
     ]
    },
    {
     "name": "stderr",
     "output_type": "stream",
     "text": [
      "W0923 16:45:37.495828  1056 saver.py:1134] *******************************************************\n",
      "W0923 16:45:37.497740  1056 saver.py:1135] TensorFlow's V1 checkpoint format has been deprecated.\n",
      "W0923 16:45:37.499746  1056 saver.py:1136] Consider switching to the more efficient V2 format:\n",
      "W0923 16:45:37.513855  1056 saver.py:1137]    `tf.train.Saver(write_version=tf.train.SaverDef.V2)`\n",
      "W0923 16:45:37.521740  1056 saver.py:1138] now on by default.\n",
      "W0923 16:45:37.537051  1056 saver.py:1139] *******************************************************\n"
     ]
    },
    {
     "name": "stdout",
     "output_type": "stream",
     "text": [
      "Epoch: 19, Step: 2210, Loss: 0.417744\n",
      "Epoch: 19, Step: 2220, Loss: 0.399287\n",
      "Epoch: 19, Step: 2230, Loss: 0.579923\n",
      "Epoch: 19, Step: 2240, Loss: 0.854363\n",
      "Epoch: 19, Step: 2250, Loss: 0.621411\n",
      "Epoch: 19, Step: 2260, Loss: 0.412884\n",
      "Epoch: 19, Step: 2270, Loss: 0.365117\n",
      "Epoch: 19, Step: 2280, Loss: 0.381714\n",
      "Epoch: 19, Step: 2290, Loss: 0.424213\n",
      "Epoch: 19, Step: 2300, Loss: 0.391228\n"
     ]
    },
    {
     "name": "stderr",
     "output_type": "stream",
     "text": [
      "W0923 16:52:17.700585  1056 saver.py:1134] *******************************************************\n",
      "W0923 16:52:17.702640  1056 saver.py:1135] TensorFlow's V1 checkpoint format has been deprecated.\n",
      "W0923 16:52:17.705589  1056 saver.py:1136] Consider switching to the more efficient V2 format:\n",
      "W0923 16:52:17.707589  1056 saver.py:1137]    `tf.train.Saver(write_version=tf.train.SaverDef.V2)`\n",
      "W0923 16:52:17.714590  1056 saver.py:1138] now on by default.\n",
      "W0923 16:52:17.728595  1056 saver.py:1139] *******************************************************\n"
     ]
    },
    {
     "name": "stdout",
     "output_type": "stream",
     "text": [
      "Epoch: 19, Step: 2310, Loss: 0.373777\n",
      "Epoch: 19, Step: 2320, Loss: 0.417403\n",
      "Epoch: 19, Step: 2330, Loss: 0.381635\n",
      "Epoch: 19, Step: 2340, Loss: 0.401086\n",
      "Epoch: 19, Step: 2350, Loss: 0.410814\n",
      "Model saved in file: ./save\\model.ckpt\n",
      "Epoch: 20, Step: 2000, Loss: 0.379969\n"
     ]
    },
    {
     "name": "stderr",
     "output_type": "stream",
     "text": [
      "W0923 16:56:01.379080  1056 saver.py:1134] *******************************************************\n",
      "W0923 16:56:01.382070  1056 saver.py:1135] TensorFlow's V1 checkpoint format has been deprecated.\n",
      "W0923 16:56:01.384227  1056 saver.py:1136] Consider switching to the more efficient V2 format:\n",
      "W0923 16:56:01.387073  1056 saver.py:1137]    `tf.train.Saver(write_version=tf.train.SaverDef.V2)`\n",
      "W0923 16:56:01.394083  1056 saver.py:1138] now on by default.\n",
      "W0923 16:56:01.401077  1056 saver.py:1139] *******************************************************\n"
     ]
    },
    {
     "name": "stdout",
     "output_type": "stream",
     "text": [
      "Epoch: 20, Step: 2010, Loss: 0.619798\n",
      "Epoch: 20, Step: 2020, Loss: 0.47038\n",
      "Epoch: 20, Step: 2030, Loss: 0.480987\n",
      "Epoch: 20, Step: 2040, Loss: 0.492321\n",
      "Epoch: 20, Step: 2050, Loss: 1.41578\n",
      "Epoch: 20, Step: 2060, Loss: 0.68555\n",
      "Epoch: 20, Step: 2070, Loss: 0.433192\n",
      "Epoch: 20, Step: 2080, Loss: 0.512998\n",
      "Epoch: 20, Step: 2090, Loss: 0.357603\n",
      "Epoch: 20, Step: 2100, Loss: 0.357806\n"
     ]
    },
    {
     "name": "stderr",
     "output_type": "stream",
     "text": [
      "W0923 17:02:30.691608  1056 saver.py:1134] *******************************************************\n",
      "W0923 17:02:30.694609  1056 saver.py:1135] TensorFlow's V1 checkpoint format has been deprecated.\n",
      "W0923 17:02:30.696644  1056 saver.py:1136] Consider switching to the more efficient V2 format:\n",
      "W0923 17:02:30.701611  1056 saver.py:1137]    `tf.train.Saver(write_version=tf.train.SaverDef.V2)`\n",
      "W0923 17:02:30.704616  1056 saver.py:1138] now on by default.\n",
      "W0923 17:02:30.707609  1056 saver.py:1139] *******************************************************\n"
     ]
    },
    {
     "name": "stdout",
     "output_type": "stream",
     "text": [
      "Epoch: 20, Step: 2110, Loss: 0.362697\n",
      "Epoch: 20, Step: 2120, Loss: 0.372315\n",
      "Epoch: 20, Step: 2130, Loss: 0.368573\n",
      "Epoch: 20, Step: 2140, Loss: 4.47273\n",
      "Epoch: 20, Step: 2150, Loss: 1.79458\n",
      "Epoch: 20, Step: 2160, Loss: 0.362895\n",
      "Epoch: 20, Step: 2170, Loss: 0.354581\n",
      "Epoch: 20, Step: 2180, Loss: 0.354527\n",
      "Epoch: 20, Step: 2190, Loss: 0.359332\n",
      "Epoch: 20, Step: 2200, Loss: 0.347813\n"
     ]
    },
    {
     "name": "stderr",
     "output_type": "stream",
     "text": [
      "W0923 17:08:59.963007  1056 saver.py:1134] *******************************************************\n",
      "W0923 17:08:59.967999  1056 saver.py:1135] TensorFlow's V1 checkpoint format has been deprecated.\n",
      "W0923 17:08:59.971996  1056 saver.py:1136] Consider switching to the more efficient V2 format:\n",
      "W0923 17:08:59.981004  1056 saver.py:1137]    `tf.train.Saver(write_version=tf.train.SaverDef.V2)`\n",
      "W0923 17:08:59.982996  1056 saver.py:1138] now on by default.\n",
      "W0923 17:08:59.996996  1056 saver.py:1139] *******************************************************\n"
     ]
    },
    {
     "name": "stdout",
     "output_type": "stream",
     "text": [
      "Epoch: 20, Step: 2210, Loss: 0.366002\n",
      "Epoch: 20, Step: 2220, Loss: 0.346089\n",
      "Epoch: 20, Step: 2230, Loss: 0.345331\n",
      "Epoch: 20, Step: 2240, Loss: 0.344146\n",
      "Epoch: 20, Step: 2250, Loss: 0.352324\n",
      "Epoch: 20, Step: 2260, Loss: 0.362841\n",
      "Epoch: 20, Step: 2270, Loss: 0.393129\n",
      "Epoch: 20, Step: 2280, Loss: 0.374631\n",
      "Epoch: 20, Step: 2290, Loss: 0.348325\n",
      "Epoch: 20, Step: 2300, Loss: 0.341303\n"
     ]
    },
    {
     "name": "stderr",
     "output_type": "stream",
     "text": [
      "W0923 17:15:35.830888  1056 saver.py:1134] *******************************************************\n",
      "W0923 17:15:35.832931  1056 saver.py:1135] TensorFlow's V1 checkpoint format has been deprecated.\n",
      "W0923 17:15:35.835896  1056 saver.py:1136] Consider switching to the more efficient V2 format:\n",
      "W0923 17:15:35.837885  1056 saver.py:1137]    `tf.train.Saver(write_version=tf.train.SaverDef.V2)`\n",
      "W0923 17:15:35.849894  1056 saver.py:1138] now on by default.\n",
      "W0923 17:15:35.851893  1056 saver.py:1139] *******************************************************\n"
     ]
    },
    {
     "name": "stdout",
     "output_type": "stream",
     "text": [
      "Epoch: 20, Step: 2310, Loss: 0.356644\n",
      "Epoch: 20, Step: 2320, Loss: 0.43516\n",
      "Epoch: 20, Step: 2330, Loss: 0.407488\n",
      "Epoch: 20, Step: 2340, Loss: 0.355277\n",
      "Epoch: 20, Step: 2350, Loss: 0.546655\n",
      "Epoch: 20, Step: 2360, Loss: 0.472142\n",
      "Epoch: 20, Step: 2370, Loss: 1.00615\n",
      "Epoch: 20, Step: 2380, Loss: 2.64948\n",
      "Epoch: 20, Step: 2390, Loss: 0.533472\n",
      "Epoch: 20, Step: 2400, Loss: 0.375308\n"
     ]
    },
    {
     "name": "stderr",
     "output_type": "stream",
     "text": [
      "W0923 17:22:13.929199  1056 saver.py:1134] *******************************************************\n",
      "W0923 17:22:13.932200  1056 saver.py:1135] TensorFlow's V1 checkpoint format has been deprecated.\n",
      "W0923 17:22:13.935200  1056 saver.py:1136] Consider switching to the more efficient V2 format:\n",
      "W0923 17:22:13.939201  1056 saver.py:1137]    `tf.train.Saver(write_version=tf.train.SaverDef.V2)`\n",
      "W0923 17:22:13.950417  1056 saver.py:1138] now on by default.\n",
      "W0923 17:22:13.955199  1056 saver.py:1139] *******************************************************\n"
     ]
    },
    {
     "name": "stdout",
     "output_type": "stream",
     "text": [
      "Epoch: 20, Step: 2410, Loss: 0.405398\n",
      "Epoch: 20, Step: 2420, Loss: 0.354264\n",
      "Epoch: 20, Step: 2430, Loss: 0.342783\n",
      "Epoch: 20, Step: 2440, Loss: 0.417062\n",
      "Epoch: 20, Step: 2450, Loss: 0.403852\n",
      "Model saved in file: ./save\\model.ckpt\n",
      "Epoch: 21, Step: 2100, Loss: 5.91741\n"
     ]
    },
    {
     "name": "stderr",
     "output_type": "stream",
     "text": [
      "W0923 17:25:50.756626  1056 saver.py:1134] *******************************************************\n",
      "W0923 17:25:50.758659  1056 saver.py:1135] TensorFlow's V1 checkpoint format has been deprecated.\n",
      "W0923 17:25:50.760617  1056 saver.py:1136] Consider switching to the more efficient V2 format:\n",
      "W0923 17:25:50.765620  1056 saver.py:1137]    `tf.train.Saver(write_version=tf.train.SaverDef.V2)`\n",
      "W0923 17:25:50.778625  1056 saver.py:1138] now on by default.\n",
      "W0923 17:25:50.781630  1056 saver.py:1139] *******************************************************\n"
     ]
    },
    {
     "name": "stdout",
     "output_type": "stream",
     "text": [
      "Epoch: 21, Step: 2110, Loss: 0.412539\n",
      "Epoch: 21, Step: 2120, Loss: 0.335333\n",
      "Epoch: 21, Step: 2130, Loss: 0.357263\n",
      "Epoch: 21, Step: 2140, Loss: 0.370165\n",
      "Epoch: 21, Step: 2150, Loss: 0.383563\n",
      "Epoch: 21, Step: 2160, Loss: 0.335603\n",
      "Epoch: 21, Step: 2170, Loss: 0.411095\n",
      "Epoch: 21, Step: 2180, Loss: 0.375635\n",
      "Epoch: 21, Step: 2190, Loss: 0.330316\n",
      "Epoch: 21, Step: 2200, Loss: 0.37631\n"
     ]
    },
    {
     "name": "stderr",
     "output_type": "stream",
     "text": [
      "W0923 17:32:21.452823  1056 saver.py:1134] *******************************************************\n",
      "W0923 17:32:21.454822  1056 saver.py:1135] TensorFlow's V1 checkpoint format has been deprecated.\n",
      "W0923 17:32:21.464840  1056 saver.py:1136] Consider switching to the more efficient V2 format:\n",
      "W0923 17:32:21.467826  1056 saver.py:1137]    `tf.train.Saver(write_version=tf.train.SaverDef.V2)`\n",
      "W0923 17:32:21.470826  1056 saver.py:1138] now on by default.\n",
      "W0923 17:32:21.473835  1056 saver.py:1139] *******************************************************\n"
     ]
    },
    {
     "name": "stdout",
     "output_type": "stream",
     "text": [
      "Epoch: 21, Step: 2210, Loss: 0.337237\n",
      "Epoch: 21, Step: 2220, Loss: 0.345308\n",
      "Epoch: 21, Step: 2230, Loss: 0.348278\n",
      "Epoch: 21, Step: 2240, Loss: 0.420044\n",
      "Epoch: 21, Step: 2250, Loss: 0.366391\n",
      "Epoch: 21, Step: 2260, Loss: 0.468418\n",
      "Epoch: 21, Step: 2270, Loss: 0.379148\n",
      "Epoch: 21, Step: 2280, Loss: 0.3747\n",
      "Epoch: 21, Step: 2290, Loss: 0.334015\n",
      "Epoch: 21, Step: 2300, Loss: 0.333582\n"
     ]
    },
    {
     "name": "stderr",
     "output_type": "stream",
     "text": [
      "W0923 17:38:52.782690  1056 saver.py:1134] *******************************************************\n",
      "W0923 17:38:52.785696  1056 saver.py:1135] TensorFlow's V1 checkpoint format has been deprecated.\n",
      "W0923 17:38:52.791693  1056 saver.py:1136] Consider switching to the more efficient V2 format:\n",
      "W0923 17:38:52.794693  1056 saver.py:1137]    `tf.train.Saver(write_version=tf.train.SaverDef.V2)`\n",
      "W0923 17:38:52.800698  1056 saver.py:1138] now on by default.\n",
      "W0923 17:38:52.802896  1056 saver.py:1139] *******************************************************\n"
     ]
    },
    {
     "name": "stdout",
     "output_type": "stream",
     "text": [
      "Epoch: 21, Step: 2310, Loss: 0.32987\n",
      "Epoch: 21, Step: 2320, Loss: 0.331667\n",
      "Epoch: 21, Step: 2330, Loss: 0.330698\n",
      "Epoch: 21, Step: 2340, Loss: 0.332075\n",
      "Epoch: 21, Step: 2350, Loss: 0.352233\n",
      "Epoch: 21, Step: 2360, Loss: 0.354723\n",
      "Epoch: 21, Step: 2370, Loss: 0.342853\n",
      "Epoch: 21, Step: 2380, Loss: 0.506095\n",
      "Epoch: 21, Step: 2390, Loss: 0.947788\n",
      "Epoch: 21, Step: 2400, Loss: 0.693289\n"
     ]
    },
    {
     "name": "stderr",
     "output_type": "stream",
     "text": [
      "W0923 17:45:38.409366  1056 saver.py:1134] *******************************************************\n",
      "W0923 17:45:38.412225  1056 saver.py:1135] TensorFlow's V1 checkpoint format has been deprecated.\n",
      "W0923 17:45:38.413228  1056 saver.py:1136] Consider switching to the more efficient V2 format:\n",
      "W0923 17:45:38.427224  1056 saver.py:1137]    `tf.train.Saver(write_version=tf.train.SaverDef.V2)`\n",
      "W0923 17:45:38.429225  1056 saver.py:1138] now on by default.\n",
      "W0923 17:45:38.438222  1056 saver.py:1139] *******************************************************\n"
     ]
    },
    {
     "name": "stdout",
     "output_type": "stream",
     "text": [
      "Epoch: 21, Step: 2410, Loss: 1.10909\n",
      "Epoch: 21, Step: 2420, Loss: 1.12165\n",
      "Epoch: 21, Step: 2430, Loss: 0.42737\n",
      "Epoch: 21, Step: 2440, Loss: 0.483832\n",
      "Epoch: 21, Step: 2450, Loss: 0.341492\n",
      "Epoch: 21, Step: 2460, Loss: 0.327479\n",
      "Epoch: 21, Step: 2470, Loss: 0.339477\n",
      "Epoch: 21, Step: 2480, Loss: 0.415726\n",
      "Epoch: 21, Step: 2490, Loss: 0.597343\n",
      "Epoch: 21, Step: 2500, Loss: 0.709696\n"
     ]
    },
    {
     "name": "stderr",
     "output_type": "stream",
     "text": [
      "W0923 17:52:12.586755  1056 saver.py:1134] *******************************************************\n",
      "W0923 17:52:12.588770  1056 saver.py:1135] TensorFlow's V1 checkpoint format has been deprecated.\n",
      "W0923 17:52:12.591764  1056 saver.py:1136] Consider switching to the more efficient V2 format:\n",
      "W0923 17:52:12.593759  1056 saver.py:1137]    `tf.train.Saver(write_version=tf.train.SaverDef.V2)`\n",
      "W0923 17:52:12.598843  1056 saver.py:1138] now on by default.\n",
      "W0923 17:52:12.610762  1056 saver.py:1139] *******************************************************\n"
     ]
    },
    {
     "name": "stdout",
     "output_type": "stream",
     "text": [
      "Epoch: 21, Step: 2510, Loss: 0.400461\n",
      "Epoch: 21, Step: 2520, Loss: 0.365905\n",
      "Epoch: 21, Step: 2530, Loss: 0.38993\n",
      "Epoch: 21, Step: 2540, Loss: 0.320052\n",
      "Epoch: 21, Step: 2550, Loss: 0.317967\n",
      "Model saved in file: ./save\\model.ckpt\n",
      "Epoch: 22, Step: 2200, Loss: 0.324518\n"
     ]
    },
    {
     "name": "stderr",
     "output_type": "stream",
     "text": [
      "W0923 17:55:55.669611  1056 saver.py:1134] *******************************************************\n",
      "W0923 17:55:55.678610  1056 saver.py:1135] TensorFlow's V1 checkpoint format has been deprecated.\n",
      "W0923 17:55:55.701279  1056 saver.py:1136] Consider switching to the more efficient V2 format:\n",
      "W0923 17:55:55.710610  1056 saver.py:1137]    `tf.train.Saver(write_version=tf.train.SaverDef.V2)`\n",
      "W0923 17:55:55.722616  1056 saver.py:1138] now on by default.\n",
      "W0923 17:55:55.725609  1056 saver.py:1139] *******************************************************\n"
     ]
    },
    {
     "name": "stdout",
     "output_type": "stream",
     "text": [
      "Epoch: 22, Step: 2210, Loss: 0.344883\n",
      "Epoch: 22, Step: 2220, Loss: 0.350845\n",
      "Epoch: 22, Step: 2230, Loss: 0.31979\n",
      "Epoch: 22, Step: 2240, Loss: 0.408357\n",
      "Epoch: 22, Step: 2250, Loss: 0.585753\n",
      "Epoch: 22, Step: 2260, Loss: 0.385114\n",
      "Epoch: 22, Step: 2270, Loss: 0.517327\n",
      "Epoch: 22, Step: 2280, Loss: 0.404095\n",
      "Epoch: 22, Step: 2290, Loss: 0.484145\n",
      "Epoch: 22, Step: 2300, Loss: 0.582876\n"
     ]
    },
    {
     "name": "stderr",
     "output_type": "stream",
     "text": [
      "W0923 18:02:33.773815  1056 saver.py:1134] *******************************************************\n",
      "W0923 18:02:33.777824  1056 saver.py:1135] TensorFlow's V1 checkpoint format has been deprecated.\n",
      "W0923 18:02:33.782823  1056 saver.py:1136] Consider switching to the more efficient V2 format:\n",
      "W0923 18:02:33.787817  1056 saver.py:1137]    `tf.train.Saver(write_version=tf.train.SaverDef.V2)`\n",
      "W0923 18:02:33.798814  1056 saver.py:1138] now on by default.\n",
      "W0923 18:02:33.805809  1056 saver.py:1139] *******************************************************\n"
     ]
    },
    {
     "name": "stdout",
     "output_type": "stream",
     "text": [
      "Epoch: 22, Step: 2310, Loss: 0.516992\n",
      "Epoch: 22, Step: 2320, Loss: 0.445146\n",
      "Epoch: 22, Step: 2330, Loss: 5.85201\n",
      "Epoch: 22, Step: 2340, Loss: 0.487325\n",
      "Epoch: 22, Step: 2350, Loss: 0.328744\n",
      "Epoch: 22, Step: 2360, Loss: 0.329496\n",
      "Epoch: 22, Step: 2370, Loss: 0.340423\n",
      "Epoch: 22, Step: 2380, Loss: 0.319227\n",
      "Epoch: 22, Step: 2390, Loss: 0.773578\n",
      "Epoch: 22, Step: 2400, Loss: 2.97949\n"
     ]
    },
    {
     "name": "stderr",
     "output_type": "stream",
     "text": [
      "W0923 18:09:20.086539  1056 saver.py:1134] *******************************************************\n",
      "W0923 18:09:20.089658  1056 saver.py:1135] TensorFlow's V1 checkpoint format has been deprecated.\n",
      "W0923 18:09:20.090543  1056 saver.py:1136] Consider switching to the more efficient V2 format:\n",
      "W0923 18:09:20.115541  1056 saver.py:1137]    `tf.train.Saver(write_version=tf.train.SaverDef.V2)`\n",
      "W0923 18:09:20.120543  1056 saver.py:1138] now on by default.\n",
      "W0923 18:09:20.133543  1056 saver.py:1139] *******************************************************\n"
     ]
    },
    {
     "name": "stdout",
     "output_type": "stream",
     "text": [
      "Epoch: 22, Step: 2410, Loss: 2.04744\n",
      "Epoch: 22, Step: 2420, Loss: 1.2071\n",
      "Epoch: 22, Step: 2430, Loss: 1.5344\n",
      "Epoch: 22, Step: 2440, Loss: 1.96442\n",
      "Epoch: 22, Step: 2450, Loss: 0.344568\n",
      "Epoch: 22, Step: 2460, Loss: 0.370537\n",
      "Epoch: 22, Step: 2470, Loss: 0.336531\n",
      "Epoch: 22, Step: 2480, Loss: 0.313832\n",
      "Epoch: 22, Step: 2490, Loss: 0.305957\n",
      "Epoch: 22, Step: 2500, Loss: 0.310457\n"
     ]
    },
    {
     "name": "stderr",
     "output_type": "stream",
     "text": [
      "W0923 18:14:40.504548  1056 saver.py:1134] *******************************************************\n",
      "W0923 18:14:40.507550  1056 saver.py:1135] TensorFlow's V1 checkpoint format has been deprecated.\n",
      "W0923 18:14:40.513547  1056 saver.py:1136] Consider switching to the more efficient V2 format:\n",
      "W0923 18:14:40.525552  1056 saver.py:1137]    `tf.train.Saver(write_version=tf.train.SaverDef.V2)`\n",
      "W0923 18:14:40.529551  1056 saver.py:1138] now on by default.\n",
      "W0923 18:14:40.533553  1056 saver.py:1139] *******************************************************\n"
     ]
    },
    {
     "name": "stdout",
     "output_type": "stream",
     "text": [
      "Epoch: 22, Step: 2510, Loss: 0.31713\n",
      "Epoch: 22, Step: 2520, Loss: 0.32152\n",
      "Epoch: 22, Step: 2530, Loss: 0.313186\n",
      "Epoch: 22, Step: 2540, Loss: 0.31436\n",
      "Epoch: 22, Step: 2550, Loss: 0.329948\n",
      "Epoch: 22, Step: 2560, Loss: 0.309452\n",
      "Epoch: 22, Step: 2570, Loss: 0.311156\n",
      "Epoch: 22, Step: 2580, Loss: 0.30378\n",
      "Epoch: 22, Step: 2590, Loss: 0.303016\n",
      "Epoch: 22, Step: 2600, Loss: 0.302436\n"
     ]
    },
    {
     "name": "stderr",
     "output_type": "stream",
     "text": [
      "W0923 18:18:05.966964  1056 saver.py:1134] *******************************************************\n",
      "W0923 18:18:05.972966  1056 saver.py:1135] TensorFlow's V1 checkpoint format has been deprecated.\n",
      "W0923 18:18:05.976966  1056 saver.py:1136] Consider switching to the more efficient V2 format:\n",
      "W0923 18:18:05.986968  1056 saver.py:1137]    `tf.train.Saver(write_version=tf.train.SaverDef.V2)`\n",
      "W0923 18:18:05.988966  1056 saver.py:1138] now on by default.\n",
      "W0923 18:18:05.994966  1056 saver.py:1139] *******************************************************\n"
     ]
    },
    {
     "name": "stdout",
     "output_type": "stream",
     "text": [
      "Epoch: 22, Step: 2610, Loss: 0.302023\n",
      "Epoch: 22, Step: 2620, Loss: 0.304533\n",
      "Epoch: 22, Step: 2630, Loss: 0.386527\n",
      "Epoch: 22, Step: 2640, Loss: 1.14084\n",
      "Epoch: 22, Step: 2650, Loss: 4.82004\n",
      "Model saved in file: ./save\\model.ckpt\n",
      "Epoch: 23, Step: 2300, Loss: 0.319838\n"
     ]
    },
    {
     "name": "stderr",
     "output_type": "stream",
     "text": [
      "W0923 18:20:03.028340  1056 saver.py:1134] *******************************************************\n",
      "W0923 18:20:03.029344  1056 saver.py:1135] TensorFlow's V1 checkpoint format has been deprecated.\n",
      "W0923 18:20:03.030343  1056 saver.py:1136] Consider switching to the more efficient V2 format:\n",
      "W0923 18:20:03.036347  1056 saver.py:1137]    `tf.train.Saver(write_version=tf.train.SaverDef.V2)`\n",
      "W0923 18:20:03.041347  1056 saver.py:1138] now on by default.\n",
      "W0923 18:20:03.043347  1056 saver.py:1139] *******************************************************\n"
     ]
    },
    {
     "name": "stdout",
     "output_type": "stream",
     "text": [
      "Epoch: 23, Step: 2310, Loss: 0.300141\n",
      "Epoch: 23, Step: 2320, Loss: 0.308068\n",
      "Epoch: 23, Step: 2330, Loss: 0.32737\n",
      "Epoch: 23, Step: 2340, Loss: 0.315546\n",
      "Epoch: 23, Step: 2350, Loss: 0.337081\n",
      "Epoch: 23, Step: 2360, Loss: 0.381984\n",
      "Epoch: 23, Step: 2370, Loss: 0.318932\n",
      "Epoch: 23, Step: 2380, Loss: 0.298439\n",
      "Epoch: 23, Step: 2390, Loss: 0.318456\n",
      "Epoch: 23, Step: 2400, Loss: 0.297935\n"
     ]
    },
    {
     "name": "stderr",
     "output_type": "stream",
     "text": [
      "W0923 18:23:33.506980  1056 saver.py:1134] *******************************************************\n",
      "W0923 18:23:33.511964  1056 saver.py:1135] TensorFlow's V1 checkpoint format has been deprecated.\n",
      "W0923 18:23:33.516967  1056 saver.py:1136] Consider switching to the more efficient V2 format:\n",
      "W0923 18:23:33.521967  1056 saver.py:1137]    `tf.train.Saver(write_version=tf.train.SaverDef.V2)`\n",
      "W0923 18:23:33.528965  1056 saver.py:1138] now on by default.\n",
      "W0923 18:23:33.533967  1056 saver.py:1139] *******************************************************\n"
     ]
    },
    {
     "name": "stdout",
     "output_type": "stream",
     "text": [
      "Epoch: 23, Step: 2410, Loss: 0.642712\n",
      "Epoch: 23, Step: 2420, Loss: 1.78932\n",
      "Epoch: 23, Step: 2430, Loss: 1.51275\n",
      "Epoch: 23, Step: 2440, Loss: 0.413418\n",
      "Epoch: 23, Step: 2450, Loss: 0.452539\n",
      "Epoch: 23, Step: 2460, Loss: 0.329536\n",
      "Epoch: 23, Step: 2470, Loss: 0.306269\n",
      "Epoch: 23, Step: 2480, Loss: 0.325193\n",
      "Epoch: 23, Step: 2490, Loss: 0.293987\n",
      "Epoch: 23, Step: 2500, Loss: 0.299195\n"
     ]
    },
    {
     "name": "stderr",
     "output_type": "stream",
     "text": [
      "W0923 18:27:00.690588  1056 saver.py:1134] *******************************************************\n",
      "W0923 18:27:00.698608  1056 saver.py:1135] TensorFlow's V1 checkpoint format has been deprecated.\n",
      "W0923 18:27:00.707589  1056 saver.py:1136] Consider switching to the more efficient V2 format:\n",
      "W0923 18:27:00.719588  1056 saver.py:1137]    `tf.train.Saver(write_version=tf.train.SaverDef.V2)`\n",
      "W0923 18:27:00.727632  1056 saver.py:1138] now on by default.\n",
      "W0923 18:27:00.732590  1056 saver.py:1139] *******************************************************\n"
     ]
    },
    {
     "name": "stdout",
     "output_type": "stream",
     "text": [
      "Epoch: 23, Step: 2510, Loss: 0.303674\n",
      "Epoch: 23, Step: 2520, Loss: 0.301283\n",
      "Epoch: 23, Step: 2530, Loss: 0.298138\n",
      "Epoch: 23, Step: 2540, Loss: 0.305647\n",
      "Epoch: 23, Step: 2550, Loss: 0.307208\n",
      "Epoch: 23, Step: 2560, Loss: 0.319964\n",
      "Epoch: 23, Step: 2570, Loss: 0.294446\n",
      "Epoch: 23, Step: 2580, Loss: 0.311575\n",
      "Epoch: 23, Step: 2590, Loss: 0.364321\n",
      "Epoch: 23, Step: 2600, Loss: 0.301225\n"
     ]
    },
    {
     "name": "stderr",
     "output_type": "stream",
     "text": [
      "W0923 18:30:26.994029  1056 saver.py:1134] *******************************************************\n",
      "W0923 18:30:27.001048  1056 saver.py:1135] TensorFlow's V1 checkpoint format has been deprecated.\n",
      "W0923 18:30:27.006031  1056 saver.py:1136] Consider switching to the more efficient V2 format:\n",
      "W0923 18:30:27.008025  1056 saver.py:1137]    `tf.train.Saver(write_version=tf.train.SaverDef.V2)`\n",
      "W0923 18:30:27.013024  1056 saver.py:1138] now on by default.\n",
      "W0923 18:30:27.015025  1056 saver.py:1139] *******************************************************\n"
     ]
    },
    {
     "name": "stdout",
     "output_type": "stream",
     "text": [
      "Epoch: 23, Step: 2610, Loss: 0.690933\n",
      "Epoch: 23, Step: 2620, Loss: 0.799972\n",
      "Epoch: 23, Step: 2630, Loss: 0.454007\n",
      "Epoch: 23, Step: 2640, Loss: 0.310048\n",
      "Epoch: 23, Step: 2650, Loss: 0.307012\n",
      "Epoch: 23, Step: 2660, Loss: 0.305422\n",
      "Epoch: 23, Step: 2670, Loss: 0.332503\n",
      "Epoch: 23, Step: 2680, Loss: 0.337127\n",
      "Epoch: 23, Step: 2690, Loss: 0.318104\n",
      "Epoch: 23, Step: 2700, Loss: 0.315248\n"
     ]
    },
    {
     "name": "stderr",
     "output_type": "stream",
     "text": [
      "W0923 18:33:54.306928  1056 saver.py:1134] *******************************************************\n",
      "W0923 18:33:54.310929  1056 saver.py:1135] TensorFlow's V1 checkpoint format has been deprecated.\n",
      "W0923 18:33:54.312930  1056 saver.py:1136] Consider switching to the more efficient V2 format:\n",
      "W0923 18:33:54.318935  1056 saver.py:1137]    `tf.train.Saver(write_version=tf.train.SaverDef.V2)`\n",
      "W0923 18:33:54.332936  1056 saver.py:1138] now on by default.\n",
      "W0923 18:33:54.337929  1056 saver.py:1139] *******************************************************\n"
     ]
    },
    {
     "name": "stdout",
     "output_type": "stream",
     "text": [
      "Epoch: 23, Step: 2710, Loss: 0.346418\n",
      "Epoch: 23, Step: 2720, Loss: 0.29348\n",
      "Epoch: 23, Step: 2730, Loss: 0.29116\n",
      "Epoch: 23, Step: 2740, Loss: 0.28921\n",
      "Epoch: 23, Step: 2750, Loss: 0.315064\n",
      "Model saved in file: ./save\\model.ckpt\n",
      "Epoch: 24, Step: 2400, Loss: 0.3397\n"
     ]
    },
    {
     "name": "stderr",
     "output_type": "stream",
     "text": [
      "W0923 18:35:50.892288  1056 saver.py:1134] *******************************************************\n",
      "W0923 18:35:50.898313  1056 saver.py:1135] TensorFlow's V1 checkpoint format has been deprecated.\n",
      "W0923 18:35:50.904321  1056 saver.py:1136] Consider switching to the more efficient V2 format:\n",
      "W0923 18:35:50.909290  1056 saver.py:1137]    `tf.train.Saver(write_version=tf.train.SaverDef.V2)`\n",
      "W0923 18:35:50.923292  1056 saver.py:1138] now on by default.\n",
      "W0923 18:35:50.929290  1056 saver.py:1139] *******************************************************\n"
     ]
    },
    {
     "name": "stdout",
     "output_type": "stream",
     "text": [
      "Epoch: 24, Step: 2410, Loss: 0.310074\n",
      "Epoch: 24, Step: 2420, Loss: 0.915622\n",
      "Epoch: 24, Step: 2430, Loss: 1.49743\n",
      "Epoch: 24, Step: 2440, Loss: 1.25341\n",
      "Epoch: 24, Step: 2450, Loss: 0.482526\n",
      "Epoch: 24, Step: 2460, Loss: 0.3697\n",
      "Epoch: 24, Step: 2470, Loss: 0.355232\n",
      "Epoch: 24, Step: 2480, Loss: 0.342877\n",
      "Epoch: 24, Step: 2490, Loss: 0.334454\n",
      "Epoch: 24, Step: 2500, Loss: 0.309904\n"
     ]
    },
    {
     "name": "stderr",
     "output_type": "stream",
     "text": [
      "W0923 18:39:16.912091  1056 saver.py:1134] *******************************************************\n",
      "W0923 18:39:16.915097  1056 saver.py:1135] TensorFlow's V1 checkpoint format has been deprecated.\n",
      "W0923 18:39:16.917131  1056 saver.py:1136] Consider switching to the more efficient V2 format:\n",
      "W0923 18:39:16.924098  1056 saver.py:1137]    `tf.train.Saver(write_version=tf.train.SaverDef.V2)`\n",
      "W0923 18:39:16.926099  1056 saver.py:1138] now on by default.\n",
      "W0923 18:39:16.930134  1056 saver.py:1139] *******************************************************\n"
     ]
    },
    {
     "name": "stdout",
     "output_type": "stream",
     "text": [
      "Epoch: 24, Step: 2510, Loss: 0.502954\n",
      "Epoch: 24, Step: 2520, Loss: 5.71738\n",
      "Epoch: 24, Step: 2530, Loss: 0.372217\n",
      "Epoch: 24, Step: 2540, Loss: 0.287319\n",
      "Epoch: 24, Step: 2550, Loss: 0.283969\n",
      "Epoch: 24, Step: 2560, Loss: 0.287825\n",
      "Epoch: 24, Step: 2570, Loss: 0.291151\n",
      "Epoch: 24, Step: 2580, Loss: 0.286317\n",
      "Epoch: 24, Step: 2590, Loss: 0.283766\n",
      "Epoch: 24, Step: 2600, Loss: 0.281675\n"
     ]
    },
    {
     "name": "stderr",
     "output_type": "stream",
     "text": [
      "W0923 18:42:43.152964  1056 saver.py:1134] *******************************************************\n",
      "W0923 18:42:43.163962  1056 saver.py:1135] TensorFlow's V1 checkpoint format has been deprecated.\n",
      "W0923 18:42:43.168963  1056 saver.py:1136] Consider switching to the more efficient V2 format:\n",
      "W0923 18:42:43.178977  1056 saver.py:1137]    `tf.train.Saver(write_version=tf.train.SaverDef.V2)`\n",
      "W0923 18:42:43.188962  1056 saver.py:1138] now on by default.\n",
      "W0923 18:42:43.199969  1056 saver.py:1139] *******************************************************\n"
     ]
    },
    {
     "name": "stdout",
     "output_type": "stream",
     "text": [
      "Epoch: 24, Step: 2610, Loss: 0.279523\n",
      "Epoch: 24, Step: 2620, Loss: 0.279708\n",
      "Epoch: 24, Step: 2630, Loss: 0.304443\n",
      "Epoch: 24, Step: 2640, Loss: 0.299921\n",
      "Epoch: 24, Step: 2650, Loss: 0.303876\n",
      "Epoch: 24, Step: 2660, Loss: 0.304634\n",
      "Epoch: 24, Step: 2670, Loss: 0.369552\n",
      "Epoch: 24, Step: 2680, Loss: 0.285911\n",
      "Epoch: 24, Step: 2690, Loss: 0.305085\n",
      "Epoch: 24, Step: 2700, Loss: 0.364398\n"
     ]
    },
    {
     "name": "stderr",
     "output_type": "stream",
     "text": [
      "W0923 18:46:40.545999  1056 saver.py:1134] *******************************************************\n",
      "W0923 18:46:40.548003  1056 saver.py:1135] TensorFlow's V1 checkpoint format has been deprecated.\n",
      "W0923 18:46:40.549007  1056 saver.py:1136] Consider switching to the more efficient V2 format:\n",
      "W0923 18:46:40.560001  1056 saver.py:1137]    `tf.train.Saver(write_version=tf.train.SaverDef.V2)`\n",
      "W0923 18:46:40.566860  1056 saver.py:1138] now on by default.\n",
      "W0923 18:46:40.574623  1056 saver.py:1139] *******************************************************\n"
     ]
    },
    {
     "name": "stdout",
     "output_type": "stream",
     "text": [
      "Epoch: 24, Step: 2710, Loss: 0.282906\n",
      "Epoch: 24, Step: 2720, Loss: 0.288992\n",
      "Epoch: 24, Step: 2730, Loss: 0.281386\n",
      "Epoch: 24, Step: 2740, Loss: 0.379514\n",
      "Epoch: 24, Step: 2750, Loss: 0.349631\n",
      "Epoch: 24, Step: 2760, Loss: 0.365637\n",
      "Epoch: 24, Step: 2770, Loss: 0.369058\n",
      "Epoch: 24, Step: 2780, Loss: 0.317709\n",
      "Epoch: 24, Step: 2790, Loss: 0.353637\n",
      "Epoch: 24, Step: 2800, Loss: 0.3955\n"
     ]
    },
    {
     "name": "stderr",
     "output_type": "stream",
     "text": [
      "W0923 18:50:42.167004  1056 saver.py:1134] *******************************************************\n",
      "W0923 18:50:42.169009  1056 saver.py:1135] TensorFlow's V1 checkpoint format has been deprecated.\n",
      "W0923 18:50:42.176009  1056 saver.py:1136] Consider switching to the more efficient V2 format:\n",
      "W0923 18:50:42.179017  1056 saver.py:1137]    `tf.train.Saver(write_version=tf.train.SaverDef.V2)`\n",
      "W0923 18:50:42.203005  1056 saver.py:1138] now on by default.\n",
      "W0923 18:50:42.211009  1056 saver.py:1139] *******************************************************\n"
     ]
    },
    {
     "name": "stdout",
     "output_type": "stream",
     "text": [
      "Epoch: 24, Step: 2810, Loss: 0.33076\n",
      "Epoch: 24, Step: 2820, Loss: 2.30343\n",
      "Epoch: 24, Step: 2830, Loss: 2.42513\n",
      "Epoch: 24, Step: 2840, Loss: 3.81399\n",
      "Epoch: 24, Step: 2850, Loss: 0.298424\n",
      "Model saved in file: ./save\\model.ckpt\n",
      "Epoch: 25, Step: 2500, Loss: 0.280551\n"
     ]
    },
    {
     "name": "stderr",
     "output_type": "stream",
     "text": [
      "W0923 18:53:11.714689  1056 saver.py:1134] *******************************************************\n",
      "W0923 18:53:11.718689  1056 saver.py:1135] TensorFlow's V1 checkpoint format has been deprecated.\n",
      "W0923 18:53:11.719683  1056 saver.py:1136] Consider switching to the more efficient V2 format:\n",
      "W0923 18:53:11.726686  1056 saver.py:1137]    `tf.train.Saver(write_version=tf.train.SaverDef.V2)`\n",
      "W0923 18:53:11.730683  1056 saver.py:1138] now on by default.\n",
      "W0923 18:53:11.741683  1056 saver.py:1139] *******************************************************\n"
     ]
    },
    {
     "name": "stdout",
     "output_type": "stream",
     "text": [
      "Epoch: 25, Step: 2510, Loss: 0.33472\n",
      "Epoch: 25, Step: 2520, Loss: 0.290329\n",
      "Epoch: 25, Step: 2530, Loss: 0.32119\n",
      "Epoch: 25, Step: 2540, Loss: 0.314989\n",
      "Epoch: 25, Step: 2550, Loss: 0.427335\n",
      "Epoch: 25, Step: 2560, Loss: 0.280579\n",
      "Epoch: 25, Step: 2570, Loss: 0.293721\n",
      "Epoch: 25, Step: 2580, Loss: 0.301668\n",
      "Epoch: 25, Step: 2590, Loss: 0.278615\n",
      "Epoch: 25, Step: 2600, Loss: 0.293705\n"
     ]
    },
    {
     "name": "stderr",
     "output_type": "stream",
     "text": [
      "W0923 18:58:45.408160  1056 saver.py:1134] *******************************************************\n",
      "W0923 18:58:45.410162  1056 saver.py:1135] TensorFlow's V1 checkpoint format has been deprecated.\n",
      "W0923 18:58:45.419161  1056 saver.py:1136] Consider switching to the more efficient V2 format:\n",
      "W0923 18:58:45.421161  1056 saver.py:1137]    `tf.train.Saver(write_version=tf.train.SaverDef.V2)`\n",
      "W0923 18:58:45.428205  1056 saver.py:1138] now on by default.\n",
      "W0923 18:58:45.432162  1056 saver.py:1139] *******************************************************\n"
     ]
    },
    {
     "name": "stdout",
     "output_type": "stream",
     "text": [
      "Epoch: 25, Step: 2610, Loss: 0.29218\n",
      "Epoch: 25, Step: 2620, Loss: 0.334026\n",
      "Epoch: 25, Step: 2630, Loss: 0.373694\n",
      "Epoch: 25, Step: 2640, Loss: 0.434635\n",
      "Epoch: 25, Step: 2650, Loss: 0.281637\n",
      "Epoch: 25, Step: 2660, Loss: 0.279966\n",
      "Epoch: 25, Step: 2670, Loss: 0.272963\n",
      "Epoch: 25, Step: 2680, Loss: 0.270677\n",
      "Epoch: 25, Step: 2690, Loss: 0.299735\n",
      "Epoch: 25, Step: 2700, Loss: 0.314947\n"
     ]
    },
    {
     "name": "stderr",
     "output_type": "stream",
     "text": [
      "W0923 19:04:36.747008  1056 saver.py:1134] *******************************************************\n",
      "W0923 19:04:36.752004  1056 saver.py:1135] TensorFlow's V1 checkpoint format has been deprecated.\n",
      "W0923 19:04:36.757168  1056 saver.py:1136] Consider switching to the more efficient V2 format:\n",
      "W0923 19:04:36.771091  1056 saver.py:1137]    `tf.train.Saver(write_version=tf.train.SaverDef.V2)`\n",
      "W0923 19:04:36.777009  1056 saver.py:1138] now on by default.\n",
      "W0923 19:04:36.789002  1056 saver.py:1139] *******************************************************\n"
     ]
    },
    {
     "name": "stdout",
     "output_type": "stream",
     "text": [
      "Epoch: 25, Step: 2710, Loss: 0.349794\n",
      "Epoch: 25, Step: 2720, Loss: 0.295796\n",
      "Epoch: 25, Step: 2730, Loss: 0.287023\n",
      "Epoch: 25, Step: 2740, Loss: 0.278825\n",
      "Epoch: 25, Step: 2750, Loss: 0.274487\n",
      "Epoch: 25, Step: 2760, Loss: 0.308015\n",
      "Epoch: 25, Step: 2770, Loss: 0.278978\n",
      "Epoch: 25, Step: 2780, Loss: 0.298204\n",
      "Epoch: 25, Step: 2790, Loss: 1.42696\n",
      "Epoch: 25, Step: 2800, Loss: 0.862191\n"
     ]
    },
    {
     "name": "stderr",
     "output_type": "stream",
     "text": [
      "W0923 19:10:36.195202  1056 saver.py:1134] *******************************************************\n",
      "W0923 19:10:36.198207  1056 saver.py:1135] TensorFlow's V1 checkpoint format has been deprecated.\n",
      "W0923 19:10:36.207388  1056 saver.py:1136] Consider switching to the more efficient V2 format:\n",
      "W0923 19:10:36.212205  1056 saver.py:1137]    `tf.train.Saver(write_version=tf.train.SaverDef.V2)`\n",
      "W0923 19:10:36.219676  1056 saver.py:1138] now on by default.\n",
      "W0923 19:10:36.224368  1056 saver.py:1139] *******************************************************\n"
     ]
    },
    {
     "name": "stdout",
     "output_type": "stream",
     "text": [
      "Epoch: 25, Step: 2810, Loss: 1.77672\n",
      "Epoch: 25, Step: 2820, Loss: 0.948599\n",
      "Epoch: 25, Step: 2830, Loss: 0.647015\n",
      "Epoch: 25, Step: 2840, Loss: 0.272727\n",
      "Epoch: 25, Step: 2850, Loss: 0.295029\n",
      "Epoch: 25, Step: 2860, Loss: 0.383764\n",
      "Epoch: 25, Step: 2870, Loss: 0.302226\n",
      "Epoch: 25, Step: 2880, Loss: 0.357482\n",
      "Epoch: 25, Step: 2890, Loss: 0.298272\n",
      "Epoch: 25, Step: 2900, Loss: 0.488508\n"
     ]
    },
    {
     "name": "stderr",
     "output_type": "stream",
     "text": [
      "W0923 19:17:11.828832  1056 saver.py:1134] *******************************************************\n",
      "W0923 19:17:11.834827  1056 saver.py:1135] TensorFlow's V1 checkpoint format has been deprecated.\n",
      "W0923 19:17:11.843832  1056 saver.py:1136] Consider switching to the more efficient V2 format:\n",
      "W0923 19:17:11.845830  1056 saver.py:1137]    `tf.train.Saver(write_version=tf.train.SaverDef.V2)`\n",
      "W0923 19:17:11.854831  1056 saver.py:1138] now on by default.\n",
      "W0923 19:17:11.857830  1056 saver.py:1139] *******************************************************\n"
     ]
    },
    {
     "name": "stdout",
     "output_type": "stream",
     "text": [
      "Epoch: 25, Step: 2910, Loss: 0.266131\n",
      "Epoch: 25, Step: 2920, Loss: 0.266717\n",
      "Epoch: 25, Step: 2930, Loss: 0.267262\n",
      "Epoch: 25, Step: 2940, Loss: 0.273796\n",
      "Epoch: 25, Step: 2950, Loss: 0.296725\n",
      "Model saved in file: ./save\\model.ckpt\n",
      "Epoch: 26, Step: 2600, Loss: 0.265793\n"
     ]
    },
    {
     "name": "stderr",
     "output_type": "stream",
     "text": [
      "W0923 19:20:54.588077  1056 saver.py:1134] *******************************************************\n",
      "W0923 19:20:54.591083  1056 saver.py:1135] TensorFlow's V1 checkpoint format has been deprecated.\n",
      "W0923 19:20:54.597082  1056 saver.py:1136] Consider switching to the more efficient V2 format:\n",
      "W0923 19:20:54.608077  1056 saver.py:1137]    `tf.train.Saver(write_version=tf.train.SaverDef.V2)`\n",
      "W0923 19:20:54.611087  1056 saver.py:1138] now on by default.\n",
      "W0923 19:20:54.625078  1056 saver.py:1139] *******************************************************\n"
     ]
    },
    {
     "name": "stdout",
     "output_type": "stream",
     "text": [
      "Epoch: 26, Step: 2610, Loss: 0.289564\n",
      "Epoch: 26, Step: 2620, Loss: 0.385872\n",
      "Epoch: 26, Step: 2630, Loss: 0.553519\n",
      "Epoch: 26, Step: 2640, Loss: 0.470954\n",
      "Epoch: 26, Step: 2650, Loss: 0.30458\n",
      "Epoch: 26, Step: 2660, Loss: 0.300464\n",
      "Epoch: 26, Step: 2670, Loss: 0.312717\n",
      "Epoch: 26, Step: 2680, Loss: 0.362534\n",
      "Epoch: 26, Step: 2690, Loss: 0.357546\n",
      "Epoch: 26, Step: 2700, Loss: 1.24617\n"
     ]
    },
    {
     "name": "stderr",
     "output_type": "stream",
     "text": [
      "W0923 19:27:33.044660  1056 saver.py:1134] *******************************************************\n",
      "W0923 19:27:33.047660  1056 saver.py:1135] TensorFlow's V1 checkpoint format has been deprecated.\n",
      "W0923 19:27:33.051659  1056 saver.py:1136] Consider switching to the more efficient V2 format:\n",
      "W0923 19:27:33.068434  1056 saver.py:1137]    `tf.train.Saver(write_version=tf.train.SaverDef.V2)`\n",
      "W0923 19:27:33.073669  1056 saver.py:1138] now on by default.\n",
      "W0923 19:27:33.079664  1056 saver.py:1139] *******************************************************\n"
     ]
    },
    {
     "name": "stdout",
     "output_type": "stream",
     "text": [
      "Epoch: 26, Step: 2710, Loss: 4.49362\n",
      "Epoch: 26, Step: 2720, Loss: 0.286676\n",
      "Epoch: 26, Step: 2730, Loss: 0.30288\n",
      "Epoch: 26, Step: 2740, Loss: 0.302054\n",
      "Epoch: 26, Step: 2750, Loss: 0.268505\n",
      "Epoch: 26, Step: 2760, Loss: 0.265917\n",
      "Epoch: 26, Step: 2770, Loss: 0.416701\n",
      "Epoch: 26, Step: 2780, Loss: 0.380912\n",
      "Epoch: 26, Step: 2790, Loss: 0.274188\n",
      "Epoch: 26, Step: 2800, Loss: 0.395961\n"
     ]
    },
    {
     "name": "stderr",
     "output_type": "stream",
     "text": [
      "W0923 19:34:17.007685  1056 saver.py:1134] *******************************************************\n",
      "W0923 19:34:17.010695  1056 saver.py:1135] TensorFlow's V1 checkpoint format has been deprecated.\n",
      "W0923 19:34:17.021700  1056 saver.py:1136] Consider switching to the more efficient V2 format:\n",
      "W0923 19:34:17.024693  1056 saver.py:1137]    `tf.train.Saver(write_version=tf.train.SaverDef.V2)`\n",
      "W0923 19:34:17.028685  1056 saver.py:1138] now on by default.\n",
      "W0923 19:34:17.038684  1056 saver.py:1139] *******************************************************\n"
     ]
    },
    {
     "name": "stdout",
     "output_type": "stream",
     "text": [
      "Epoch: 26, Step: 2810, Loss: 1.22375\n",
      "Epoch: 26, Step: 2820, Loss: 2.6703\n",
      "Epoch: 26, Step: 2830, Loss: 0.530151\n",
      "Epoch: 26, Step: 2840, Loss: 0.360988\n",
      "Epoch: 26, Step: 2850, Loss: 0.363887\n",
      "Epoch: 26, Step: 2860, Loss: 0.288321\n",
      "Epoch: 26, Step: 2870, Loss: 0.293782\n",
      "Epoch: 26, Step: 2880, Loss: 0.258957\n",
      "Epoch: 26, Step: 2890, Loss: 0.280431\n",
      "Epoch: 26, Step: 2900, Loss: 0.259526\n"
     ]
    },
    {
     "name": "stderr",
     "output_type": "stream",
     "text": [
      "W0923 19:40:58.686315  1056 saver.py:1134] *******************************************************\n",
      "W0923 19:40:58.690322  1056 saver.py:1135] TensorFlow's V1 checkpoint format has been deprecated.\n",
      "W0923 19:40:58.696324  1056 saver.py:1136] Consider switching to the more efficient V2 format:\n",
      "W0923 19:40:58.700330  1056 saver.py:1137]    `tf.train.Saver(write_version=tf.train.SaverDef.V2)`\n",
      "W0923 19:40:58.707326  1056 saver.py:1138] now on by default.\n",
      "W0923 19:40:58.717317  1056 saver.py:1139] *******************************************************\n"
     ]
    },
    {
     "name": "stdout",
     "output_type": "stream",
     "text": [
      "Epoch: 26, Step: 2910, Loss: 0.264059\n",
      "Epoch: 26, Step: 2920, Loss: 0.262567\n",
      "Epoch: 26, Step: 2930, Loss: 0.424647\n",
      "Epoch: 26, Step: 2940, Loss: 0.260215\n",
      "Epoch: 26, Step: 2950, Loss: 0.260008\n",
      "Epoch: 26, Step: 2960, Loss: 0.256348\n",
      "Epoch: 26, Step: 2970, Loss: 0.261895\n",
      "Epoch: 26, Step: 2980, Loss: 0.256492\n",
      "Epoch: 26, Step: 2990, Loss: 0.255773\n",
      "Epoch: 26, Step: 3000, Loss: 0.276474\n"
     ]
    },
    {
     "name": "stderr",
     "output_type": "stream",
     "text": [
      "W0923 19:47:48.166011  1056 saver.py:1134] *******************************************************\n",
      "W0923 19:47:48.170014  1056 saver.py:1135] TensorFlow's V1 checkpoint format has been deprecated.\n",
      "W0923 19:47:48.179010  1056 saver.py:1136] Consider switching to the more efficient V2 format:\n",
      "W0923 19:47:48.190008  1056 saver.py:1137]    `tf.train.Saver(write_version=tf.train.SaverDef.V2)`\n",
      "W0923 19:47:48.196013  1056 saver.py:1138] now on by default.\n",
      "W0923 19:47:48.203019  1056 saver.py:1139] *******************************************************\n"
     ]
    },
    {
     "name": "stdout",
     "output_type": "stream",
     "text": [
      "Epoch: 26, Step: 3010, Loss: 0.301279\n",
      "Epoch: 26, Step: 3020, Loss: 3.50215\n",
      "Epoch: 26, Step: 3030, Loss: 2.67652\n",
      "Epoch: 26, Step: 3040, Loss: 0.263633\n",
      "Epoch: 26, Step: 3050, Loss: 0.25469\n",
      "Model saved in file: ./save\\model.ckpt\n",
      "Epoch: 27, Step: 2700, Loss: 0.267019\n"
     ]
    },
    {
     "name": "stderr",
     "output_type": "stream",
     "text": [
      "W0923 19:51:47.363427  1056 saver.py:1134] *******************************************************\n",
      "W0923 19:51:47.368427  1056 saver.py:1135] TensorFlow's V1 checkpoint format has been deprecated.\n",
      "W0923 19:51:47.376428  1056 saver.py:1136] Consider switching to the more efficient V2 format:\n",
      "W0923 19:51:47.385431  1056 saver.py:1137]    `tf.train.Saver(write_version=tf.train.SaverDef.V2)`\n",
      "W0923 19:51:47.399720  1056 saver.py:1138] now on by default.\n",
      "W0923 19:51:47.407173  1056 saver.py:1139] *******************************************************\n"
     ]
    },
    {
     "name": "stdout",
     "output_type": "stream",
     "text": [
      "Epoch: 27, Step: 2710, Loss: 0.283724\n",
      "Epoch: 27, Step: 2720, Loss: 0.292943\n"
     ]
    }
   ],
   "source": [
    "import os\n",
    "import tensorflow as tf\n",
    "from tensorflow.core.protobuf import saver_pb2\n",
    "import driving_data\n",
    "import model\n",
    "\n",
    "LOGDIR = './save'\n",
    "\n",
    "sess = tf.InteractiveSession()\n",
    "\n",
    "L2NormConst = 0.001\n",
    "\n",
    "train_vars = tf.trainable_variables()\n",
    "\n",
    "loss = tf.reduce_mean(tf.square(tf.subtract(model.y_, model.y))) + tf.add_n([tf.nn.l2_loss(v) for v in train_vars]) * L2NormConst\n",
    "# train_step = tf.train.AdamOptimizer(1e-4).minimize(loss)\n",
    "train_step = tf.train.AdamOptimizer(1e-3).minimize(loss) #task2\n",
    "sess.run(tf.initialize_all_variables())\n",
    "\n",
    "# create a summary to monitor cost tensor\n",
    "tf.summary.scalar(\"loss\", loss)\n",
    "# merge all summaries into a single op\n",
    "merged_summary_op =  tf.summary.merge_all()\n",
    "\n",
    "saver = tf.train.Saver(write_version = saver_pb2.SaverDef.V1)\n",
    "\n",
    "# op to write logs to Tensorboard\n",
    "logs_path = './logs'\n",
    "summary_writer = tf.summary.FileWriter(logs_path, graph=tf.get_default_graph())\n",
    "\n",
    "epochs = 30\n",
    "batch_size = 100\n",
    "\n",
    "# train over the dataset about 10 times\n",
    "for epoch in range(epochs):\n",
    "  for i in range(int(driving_data.num_images/batch_size)):\n",
    "    xs, ys = driving_data.LoadTrainBatch(batch_size)\n",
    "    train_step.run(feed_dict={model.x: xs, model.y_: ys, model.keep_prob: 0.8})\n",
    "    if i % 10 == 0:\n",
    "      xs, ys = driving_data.LoadValBatch(batch_size)\n",
    "      loss_value = loss.eval(feed_dict={model.x:xs, model.y_: ys, model.keep_prob: 1.0})\n",
    "      print(\"Epoch: %d, Step: %d, Loss: %g\" % (epoch, epoch * batch_size + i, loss_value))\n",
    "\n",
    "    # write logs at every iteration\n",
    "    summary = merged_summary_op.eval(feed_dict={model.x:xs, model.y_: ys, model.keep_prob: 1.0})\n",
    "    summary_writer.add_summary(summary, epoch * driving_data.num_images/batch_size + i)\n",
    "\n",
    "    if i % batch_size == 0:\n",
    "      if not os.path.exists(LOGDIR):\n",
    "        os.makedirs(LOGDIR)\n",
    "      checkpoint_path = os.path.join(LOGDIR, \"model.ckpt\")\n",
    "      filename = saver.save(sess, checkpoint_path)\n",
    "  print(\"Model saved in file: %s\" % filename)\n",
    "\n",
    "print(\"Run the command line:\\n\" \\\n",
    "          \"--> tensorboard --logdir=./logs \" \\\n",
    "          \"\\nThen open http://0.0.0.0:6006/ into your web browser\")\n"
   ]
  },
  {
   "cell_type": "code",
   "execution_count": 56,
   "metadata": {},
   "outputs": [
    {
     "ename": "NotFoundError",
     "evalue": "Restoring from checkpoint failed. This is most likely due to a Variable name or other graph key that is missing from the checkpoint. Please ensure that you have not altered the graph expected based on the checkpoint. Original error:\n\nTensor name \"Variable_20\" not found in checkpoint files save/model.ckpt\n\t [[node save_6/RestoreV2 (defined at <ipython-input-56-034a423fdeae>:8) ]]\n\nOriginal stack trace for 'save_6/RestoreV2':\n  File \"D:\\Installation\\Anaconda\\lib\\runpy.py\", line 193, in _run_module_as_main\n    \"__main__\", mod_spec)\n  File \"D:\\Installation\\Anaconda\\lib\\runpy.py\", line 85, in _run_code\n    exec(code, run_globals)\n  File \"D:\\Installation\\Anaconda\\lib\\site-packages\\ipykernel_launcher.py\", line 16, in <module>\n    app.launch_new_instance()\n  File \"D:\\Installation\\Anaconda\\lib\\site-packages\\traitlets\\config\\application.py\", line 658, in launch_instance\n    app.start()\n  File \"D:\\Installation\\Anaconda\\lib\\site-packages\\ipykernel\\kernelapp.py\", line 505, in start\n    self.io_loop.start()\n  File \"D:\\Installation\\Anaconda\\lib\\site-packages\\tornado\\platform\\asyncio.py\", line 148, in start\n    self.asyncio_loop.run_forever()\n  File \"D:\\Installation\\Anaconda\\lib\\asyncio\\base_events.py\", line 539, in run_forever\n    self._run_once()\n  File \"D:\\Installation\\Anaconda\\lib\\asyncio\\base_events.py\", line 1775, in _run_once\n    handle._run()\n  File \"D:\\Installation\\Anaconda\\lib\\asyncio\\events.py\", line 88, in _run\n    self._context.run(self._callback, *self._args)\n  File \"D:\\Installation\\Anaconda\\lib\\site-packages\\tornado\\ioloop.py\", line 690, in <lambda>\n    lambda f: self._run_callback(functools.partial(callback, future))\n  File \"D:\\Installation\\Anaconda\\lib\\site-packages\\tornado\\ioloop.py\", line 743, in _run_callback\n    ret = callback()\n  File \"D:\\Installation\\Anaconda\\lib\\site-packages\\tornado\\gen.py\", line 787, in inner\n    self.run()\n  File \"D:\\Installation\\Anaconda\\lib\\site-packages\\tornado\\gen.py\", line 748, in run\n    yielded = self.gen.send(value)\n  File \"D:\\Installation\\Anaconda\\lib\\site-packages\\ipykernel\\kernelbase.py\", line 365, in process_one\n    yield gen.maybe_future(dispatch(*args))\n  File \"D:\\Installation\\Anaconda\\lib\\site-packages\\tornado\\gen.py\", line 209, in wrapper\n    yielded = next(result)\n  File \"D:\\Installation\\Anaconda\\lib\\site-packages\\ipykernel\\kernelbase.py\", line 272, in dispatch_shell\n    yield gen.maybe_future(handler(stream, idents, msg))\n  File \"D:\\Installation\\Anaconda\\lib\\site-packages\\tornado\\gen.py\", line 209, in wrapper\n    yielded = next(result)\n  File \"D:\\Installation\\Anaconda\\lib\\site-packages\\ipykernel\\kernelbase.py\", line 542, in execute_request\n    user_expressions, allow_stdin,\n  File \"D:\\Installation\\Anaconda\\lib\\site-packages\\tornado\\gen.py\", line 209, in wrapper\n    yielded = next(result)\n  File \"D:\\Installation\\Anaconda\\lib\\site-packages\\ipykernel\\ipkernel.py\", line 294, in do_execute\n    res = shell.run_cell(code, store_history=store_history, silent=silent)\n  File \"D:\\Installation\\Anaconda\\lib\\site-packages\\ipykernel\\zmqshell.py\", line 536, in run_cell\n    return super(ZMQInteractiveShell, self).run_cell(*args, **kwargs)\n  File \"D:\\Installation\\Anaconda\\lib\\site-packages\\IPython\\core\\interactiveshell.py\", line 2854, in run_cell\n    raw_cell, store_history, silent, shell_futures)\n  File \"D:\\Installation\\Anaconda\\lib\\site-packages\\IPython\\core\\interactiveshell.py\", line 2880, in _run_cell\n    return runner(coro)\n  File \"D:\\Installation\\Anaconda\\lib\\site-packages\\IPython\\core\\async_helpers.py\", line 68, in _pseudo_sync_runner\n    coro.send(None)\n  File \"D:\\Installation\\Anaconda\\lib\\site-packages\\IPython\\core\\interactiveshell.py\", line 3057, in run_cell_async\n    interactivity=interactivity, compiler=compiler, result=result)\n  File \"D:\\Installation\\Anaconda\\lib\\site-packages\\IPython\\core\\interactiveshell.py\", line 3248, in run_ast_nodes\n    if (await self.run_code(code, result,  async_=asy)):\n  File \"D:\\Installation\\Anaconda\\lib\\site-packages\\IPython\\core\\interactiveshell.py\", line 3325, in run_code\n    exec(code_obj, self.user_global_ns, self.user_ns)\n  File \"<ipython-input-56-034a423fdeae>\", line 8, in <module>\n    saver = tf.train.Saver()\n  File \"D:\\Installation\\Anaconda\\lib\\site-packages\\tensorflow\\python\\training\\saver.py\", line 825, in __init__\n    self.build()\n  File \"D:\\Installation\\Anaconda\\lib\\site-packages\\tensorflow\\python\\training\\saver.py\", line 837, in build\n    self._build(self._filename, build_save=True, build_restore=True)\n  File \"D:\\Installation\\Anaconda\\lib\\site-packages\\tensorflow\\python\\training\\saver.py\", line 875, in _build\n    build_restore=build_restore)\n  File \"D:\\Installation\\Anaconda\\lib\\site-packages\\tensorflow\\python\\training\\saver.py\", line 508, in _build_internal\n    restore_sequentially, reshape)\n  File \"D:\\Installation\\Anaconda\\lib\\site-packages\\tensorflow\\python\\training\\saver.py\", line 328, in _AddRestoreOps\n    restore_sequentially)\n  File \"D:\\Installation\\Anaconda\\lib\\site-packages\\tensorflow\\python\\training\\saver.py\", line 575, in bulk_restore\n    return io_ops.restore_v2(filename_tensor, names, slices, dtypes)\n  File \"D:\\Installation\\Anaconda\\lib\\site-packages\\tensorflow\\python\\ops\\gen_io_ops.py\", line 1695, in restore_v2\n    name=name)\n  File \"D:\\Installation\\Anaconda\\lib\\site-packages\\tensorflow\\python\\framework\\op_def_library.py\", line 788, in _apply_op_helper\n    op_def=op_def)\n  File \"D:\\Installation\\Anaconda\\lib\\site-packages\\tensorflow\\python\\util\\deprecation.py\", line 507, in new_func\n    return func(*args, **kwargs)\n  File \"D:\\Installation\\Anaconda\\lib\\site-packages\\tensorflow\\python\\framework\\ops.py\", line 3616, in create_op\n    op_def=op_def)\n  File \"D:\\Installation\\Anaconda\\lib\\site-packages\\tensorflow\\python\\framework\\ops.py\", line 2005, in __init__\n    self._traceback = tf_stack.extract_stack()\n",
     "output_type": "error",
     "traceback": [
      "\u001b[1;31m---------------------------------------------------------------------------\u001b[0m",
      "\u001b[1;31mNotFoundError\u001b[0m                             Traceback (most recent call last)",
      "\u001b[1;32mD:\\Installation\\Anaconda\\lib\\site-packages\\tensorflow\\python\\client\\session.py\u001b[0m in \u001b[0;36m_do_call\u001b[1;34m(self, fn, *args)\u001b[0m\n\u001b[0;32m   1355\u001b[0m     \u001b[1;32mtry\u001b[0m\u001b[1;33m:\u001b[0m\u001b[1;33m\u001b[0m\u001b[1;33m\u001b[0m\u001b[0m\n\u001b[1;32m-> 1356\u001b[1;33m       \u001b[1;32mreturn\u001b[0m \u001b[0mfn\u001b[0m\u001b[1;33m(\u001b[0m\u001b[1;33m*\u001b[0m\u001b[0margs\u001b[0m\u001b[1;33m)\u001b[0m\u001b[1;33m\u001b[0m\u001b[1;33m\u001b[0m\u001b[0m\n\u001b[0m\u001b[0;32m   1357\u001b[0m     \u001b[1;32mexcept\u001b[0m \u001b[0merrors\u001b[0m\u001b[1;33m.\u001b[0m\u001b[0mOpError\u001b[0m \u001b[1;32mas\u001b[0m \u001b[0me\u001b[0m\u001b[1;33m:\u001b[0m\u001b[1;33m\u001b[0m\u001b[1;33m\u001b[0m\u001b[0m\n",
      "\u001b[1;32mD:\\Installation\\Anaconda\\lib\\site-packages\\tensorflow\\python\\client\\session.py\u001b[0m in \u001b[0;36m_run_fn\u001b[1;34m(feed_dict, fetch_list, target_list, options, run_metadata)\u001b[0m\n\u001b[0;32m   1340\u001b[0m       return self._call_tf_sessionrun(\n\u001b[1;32m-> 1341\u001b[1;33m           options, feed_dict, fetch_list, target_list, run_metadata)\n\u001b[0m\u001b[0;32m   1342\u001b[0m \u001b[1;33m\u001b[0m\u001b[0m\n",
      "\u001b[1;32mD:\\Installation\\Anaconda\\lib\\site-packages\\tensorflow\\python\\client\\session.py\u001b[0m in \u001b[0;36m_call_tf_sessionrun\u001b[1;34m(self, options, feed_dict, fetch_list, target_list, run_metadata)\u001b[0m\n\u001b[0;32m   1428\u001b[0m         \u001b[0mself\u001b[0m\u001b[1;33m.\u001b[0m\u001b[0m_session\u001b[0m\u001b[1;33m,\u001b[0m \u001b[0moptions\u001b[0m\u001b[1;33m,\u001b[0m \u001b[0mfeed_dict\u001b[0m\u001b[1;33m,\u001b[0m \u001b[0mfetch_list\u001b[0m\u001b[1;33m,\u001b[0m \u001b[0mtarget_list\u001b[0m\u001b[1;33m,\u001b[0m\u001b[1;33m\u001b[0m\u001b[1;33m\u001b[0m\u001b[0m\n\u001b[1;32m-> 1429\u001b[1;33m         run_metadata)\n\u001b[0m\u001b[0;32m   1430\u001b[0m \u001b[1;33m\u001b[0m\u001b[0m\n",
      "\u001b[1;31mNotFoundError\u001b[0m: Tensor name \"Variable_20\" not found in checkpoint files save/model.ckpt\n\t [[{{node save_6/RestoreV2}}]]",
      "\nDuring handling of the above exception, another exception occurred:\n",
      "\u001b[1;31mNotFoundError\u001b[0m                             Traceback (most recent call last)",
      "\u001b[1;32mD:\\Installation\\Anaconda\\lib\\site-packages\\tensorflow\\python\\training\\saver.py\u001b[0m in \u001b[0;36mrestore\u001b[1;34m(self, sess, save_path)\u001b[0m\n\u001b[0;32m   1285\u001b[0m         sess.run(self.saver_def.restore_op_name,\n\u001b[1;32m-> 1286\u001b[1;33m                  {self.saver_def.filename_tensor_name: save_path})\n\u001b[0m\u001b[0;32m   1287\u001b[0m     \u001b[1;32mexcept\u001b[0m \u001b[0merrors\u001b[0m\u001b[1;33m.\u001b[0m\u001b[0mNotFoundError\u001b[0m \u001b[1;32mas\u001b[0m \u001b[0merr\u001b[0m\u001b[1;33m:\u001b[0m\u001b[1;33m\u001b[0m\u001b[1;33m\u001b[0m\u001b[0m\n",
      "\u001b[1;32mD:\\Installation\\Anaconda\\lib\\site-packages\\tensorflow\\python\\client\\session.py\u001b[0m in \u001b[0;36mrun\u001b[1;34m(self, fetches, feed_dict, options, run_metadata)\u001b[0m\n\u001b[0;32m    949\u001b[0m       result = self._run(None, fetches, feed_dict, options_ptr,\n\u001b[1;32m--> 950\u001b[1;33m                          run_metadata_ptr)\n\u001b[0m\u001b[0;32m    951\u001b[0m       \u001b[1;32mif\u001b[0m \u001b[0mrun_metadata\u001b[0m\u001b[1;33m:\u001b[0m\u001b[1;33m\u001b[0m\u001b[1;33m\u001b[0m\u001b[0m\n",
      "\u001b[1;32mD:\\Installation\\Anaconda\\lib\\site-packages\\tensorflow\\python\\client\\session.py\u001b[0m in \u001b[0;36m_run\u001b[1;34m(self, handle, fetches, feed_dict, options, run_metadata)\u001b[0m\n\u001b[0;32m   1172\u001b[0m       results = self._do_run(handle, final_targets, final_fetches,\n\u001b[1;32m-> 1173\u001b[1;33m                              feed_dict_tensor, options, run_metadata)\n\u001b[0m\u001b[0;32m   1174\u001b[0m     \u001b[1;32melse\u001b[0m\u001b[1;33m:\u001b[0m\u001b[1;33m\u001b[0m\u001b[1;33m\u001b[0m\u001b[0m\n",
      "\u001b[1;32mD:\\Installation\\Anaconda\\lib\\site-packages\\tensorflow\\python\\client\\session.py\u001b[0m in \u001b[0;36m_do_run\u001b[1;34m(self, handle, target_list, fetch_list, feed_dict, options, run_metadata)\u001b[0m\n\u001b[0;32m   1349\u001b[0m       return self._do_call(_run_fn, feeds, fetches, targets, options,\n\u001b[1;32m-> 1350\u001b[1;33m                            run_metadata)\n\u001b[0m\u001b[0;32m   1351\u001b[0m     \u001b[1;32melse\u001b[0m\u001b[1;33m:\u001b[0m\u001b[1;33m\u001b[0m\u001b[1;33m\u001b[0m\u001b[0m\n",
      "\u001b[1;32mD:\\Installation\\Anaconda\\lib\\site-packages\\tensorflow\\python\\client\\session.py\u001b[0m in \u001b[0;36m_do_call\u001b[1;34m(self, fn, *args)\u001b[0m\n\u001b[0;32m   1369\u001b[0m       \u001b[0mmessage\u001b[0m \u001b[1;33m=\u001b[0m \u001b[0merror_interpolation\u001b[0m\u001b[1;33m.\u001b[0m\u001b[0minterpolate\u001b[0m\u001b[1;33m(\u001b[0m\u001b[0mmessage\u001b[0m\u001b[1;33m,\u001b[0m \u001b[0mself\u001b[0m\u001b[1;33m.\u001b[0m\u001b[0m_graph\u001b[0m\u001b[1;33m)\u001b[0m\u001b[1;33m\u001b[0m\u001b[1;33m\u001b[0m\u001b[0m\n\u001b[1;32m-> 1370\u001b[1;33m       \u001b[1;32mraise\u001b[0m \u001b[0mtype\u001b[0m\u001b[1;33m(\u001b[0m\u001b[0me\u001b[0m\u001b[1;33m)\u001b[0m\u001b[1;33m(\u001b[0m\u001b[0mnode_def\u001b[0m\u001b[1;33m,\u001b[0m \u001b[0mop\u001b[0m\u001b[1;33m,\u001b[0m \u001b[0mmessage\u001b[0m\u001b[1;33m)\u001b[0m\u001b[1;33m\u001b[0m\u001b[1;33m\u001b[0m\u001b[0m\n\u001b[0m\u001b[0;32m   1371\u001b[0m \u001b[1;33m\u001b[0m\u001b[0m\n",
      "\u001b[1;31mNotFoundError\u001b[0m: Tensor name \"Variable_20\" not found in checkpoint files save/model.ckpt\n\t [[node save_6/RestoreV2 (defined at <ipython-input-56-034a423fdeae>:8) ]]\n\nOriginal stack trace for 'save_6/RestoreV2':\n  File \"D:\\Installation\\Anaconda\\lib\\runpy.py\", line 193, in _run_module_as_main\n    \"__main__\", mod_spec)\n  File \"D:\\Installation\\Anaconda\\lib\\runpy.py\", line 85, in _run_code\n    exec(code, run_globals)\n  File \"D:\\Installation\\Anaconda\\lib\\site-packages\\ipykernel_launcher.py\", line 16, in <module>\n    app.launch_new_instance()\n  File \"D:\\Installation\\Anaconda\\lib\\site-packages\\traitlets\\config\\application.py\", line 658, in launch_instance\n    app.start()\n  File \"D:\\Installation\\Anaconda\\lib\\site-packages\\ipykernel\\kernelapp.py\", line 505, in start\n    self.io_loop.start()\n  File \"D:\\Installation\\Anaconda\\lib\\site-packages\\tornado\\platform\\asyncio.py\", line 148, in start\n    self.asyncio_loop.run_forever()\n  File \"D:\\Installation\\Anaconda\\lib\\asyncio\\base_events.py\", line 539, in run_forever\n    self._run_once()\n  File \"D:\\Installation\\Anaconda\\lib\\asyncio\\base_events.py\", line 1775, in _run_once\n    handle._run()\n  File \"D:\\Installation\\Anaconda\\lib\\asyncio\\events.py\", line 88, in _run\n    self._context.run(self._callback, *self._args)\n  File \"D:\\Installation\\Anaconda\\lib\\site-packages\\tornado\\ioloop.py\", line 690, in <lambda>\n    lambda f: self._run_callback(functools.partial(callback, future))\n  File \"D:\\Installation\\Anaconda\\lib\\site-packages\\tornado\\ioloop.py\", line 743, in _run_callback\n    ret = callback()\n  File \"D:\\Installation\\Anaconda\\lib\\site-packages\\tornado\\gen.py\", line 787, in inner\n    self.run()\n  File \"D:\\Installation\\Anaconda\\lib\\site-packages\\tornado\\gen.py\", line 748, in run\n    yielded = self.gen.send(value)\n  File \"D:\\Installation\\Anaconda\\lib\\site-packages\\ipykernel\\kernelbase.py\", line 365, in process_one\n    yield gen.maybe_future(dispatch(*args))\n  File \"D:\\Installation\\Anaconda\\lib\\site-packages\\tornado\\gen.py\", line 209, in wrapper\n    yielded = next(result)\n  File \"D:\\Installation\\Anaconda\\lib\\site-packages\\ipykernel\\kernelbase.py\", line 272, in dispatch_shell\n    yield gen.maybe_future(handler(stream, idents, msg))\n  File \"D:\\Installation\\Anaconda\\lib\\site-packages\\tornado\\gen.py\", line 209, in wrapper\n    yielded = next(result)\n  File \"D:\\Installation\\Anaconda\\lib\\site-packages\\ipykernel\\kernelbase.py\", line 542, in execute_request\n    user_expressions, allow_stdin,\n  File \"D:\\Installation\\Anaconda\\lib\\site-packages\\tornado\\gen.py\", line 209, in wrapper\n    yielded = next(result)\n  File \"D:\\Installation\\Anaconda\\lib\\site-packages\\ipykernel\\ipkernel.py\", line 294, in do_execute\n    res = shell.run_cell(code, store_history=store_history, silent=silent)\n  File \"D:\\Installation\\Anaconda\\lib\\site-packages\\ipykernel\\zmqshell.py\", line 536, in run_cell\n    return super(ZMQInteractiveShell, self).run_cell(*args, **kwargs)\n  File \"D:\\Installation\\Anaconda\\lib\\site-packages\\IPython\\core\\interactiveshell.py\", line 2854, in run_cell\n    raw_cell, store_history, silent, shell_futures)\n  File \"D:\\Installation\\Anaconda\\lib\\site-packages\\IPython\\core\\interactiveshell.py\", line 2880, in _run_cell\n    return runner(coro)\n  File \"D:\\Installation\\Anaconda\\lib\\site-packages\\IPython\\core\\async_helpers.py\", line 68, in _pseudo_sync_runner\n    coro.send(None)\n  File \"D:\\Installation\\Anaconda\\lib\\site-packages\\IPython\\core\\interactiveshell.py\", line 3057, in run_cell_async\n    interactivity=interactivity, compiler=compiler, result=result)\n  File \"D:\\Installation\\Anaconda\\lib\\site-packages\\IPython\\core\\interactiveshell.py\", line 3248, in run_ast_nodes\n    if (await self.run_code(code, result,  async_=asy)):\n  File \"D:\\Installation\\Anaconda\\lib\\site-packages\\IPython\\core\\interactiveshell.py\", line 3325, in run_code\n    exec(code_obj, self.user_global_ns, self.user_ns)\n  File \"<ipython-input-56-034a423fdeae>\", line 8, in <module>\n    saver = tf.train.Saver()\n  File \"D:\\Installation\\Anaconda\\lib\\site-packages\\tensorflow\\python\\training\\saver.py\", line 825, in __init__\n    self.build()\n  File \"D:\\Installation\\Anaconda\\lib\\site-packages\\tensorflow\\python\\training\\saver.py\", line 837, in build\n    self._build(self._filename, build_save=True, build_restore=True)\n  File \"D:\\Installation\\Anaconda\\lib\\site-packages\\tensorflow\\python\\training\\saver.py\", line 875, in _build\n    build_restore=build_restore)\n  File \"D:\\Installation\\Anaconda\\lib\\site-packages\\tensorflow\\python\\training\\saver.py\", line 508, in _build_internal\n    restore_sequentially, reshape)\n  File \"D:\\Installation\\Anaconda\\lib\\site-packages\\tensorflow\\python\\training\\saver.py\", line 328, in _AddRestoreOps\n    restore_sequentially)\n  File \"D:\\Installation\\Anaconda\\lib\\site-packages\\tensorflow\\python\\training\\saver.py\", line 575, in bulk_restore\n    return io_ops.restore_v2(filename_tensor, names, slices, dtypes)\n  File \"D:\\Installation\\Anaconda\\lib\\site-packages\\tensorflow\\python\\ops\\gen_io_ops.py\", line 1695, in restore_v2\n    name=name)\n  File \"D:\\Installation\\Anaconda\\lib\\site-packages\\tensorflow\\python\\framework\\op_def_library.py\", line 788, in _apply_op_helper\n    op_def=op_def)\n  File \"D:\\Installation\\Anaconda\\lib\\site-packages\\tensorflow\\python\\util\\deprecation.py\", line 507, in new_func\n    return func(*args, **kwargs)\n  File \"D:\\Installation\\Anaconda\\lib\\site-packages\\tensorflow\\python\\framework\\ops.py\", line 3616, in create_op\n    op_def=op_def)\n  File \"D:\\Installation\\Anaconda\\lib\\site-packages\\tensorflow\\python\\framework\\ops.py\", line 2005, in __init__\n    self._traceback = tf_stack.extract_stack()\n",
      "\nDuring handling of the above exception, another exception occurred:\n",
      "\u001b[1;31mNotFoundError\u001b[0m                             Traceback (most recent call last)",
      "\u001b[1;32mD:\\Installation\\Anaconda\\lib\\site-packages\\tensorflow\\python\\training\\saver.py\u001b[0m in \u001b[0;36mrestore\u001b[1;34m(self, sess, save_path)\u001b[0m\n\u001b[0;32m   1295\u001b[0m       \u001b[1;32mtry\u001b[0m\u001b[1;33m:\u001b[0m\u001b[1;33m\u001b[0m\u001b[1;33m\u001b[0m\u001b[0m\n\u001b[1;32m-> 1296\u001b[1;33m         \u001b[0mnames_to_keys\u001b[0m \u001b[1;33m=\u001b[0m \u001b[0mobject_graph_key_mapping\u001b[0m\u001b[1;33m(\u001b[0m\u001b[0msave_path\u001b[0m\u001b[1;33m)\u001b[0m\u001b[1;33m\u001b[0m\u001b[1;33m\u001b[0m\u001b[0m\n\u001b[0m\u001b[0;32m   1297\u001b[0m       \u001b[1;32mexcept\u001b[0m \u001b[0merrors\u001b[0m\u001b[1;33m.\u001b[0m\u001b[0mNotFoundError\u001b[0m\u001b[1;33m:\u001b[0m\u001b[1;33m\u001b[0m\u001b[1;33m\u001b[0m\u001b[0m\n",
      "\u001b[1;32mD:\\Installation\\Anaconda\\lib\\site-packages\\tensorflow\\python\\training\\saver.py\u001b[0m in \u001b[0;36mobject_graph_key_mapping\u001b[1;34m(checkpoint_path)\u001b[0m\n\u001b[0;32m   1613\u001b[0m   \u001b[0mreader\u001b[0m \u001b[1;33m=\u001b[0m \u001b[0mpywrap_tensorflow\u001b[0m\u001b[1;33m.\u001b[0m\u001b[0mNewCheckpointReader\u001b[0m\u001b[1;33m(\u001b[0m\u001b[0mcheckpoint_path\u001b[0m\u001b[1;33m)\u001b[0m\u001b[1;33m\u001b[0m\u001b[1;33m\u001b[0m\u001b[0m\n\u001b[1;32m-> 1614\u001b[1;33m   \u001b[0mobject_graph_string\u001b[0m \u001b[1;33m=\u001b[0m \u001b[0mreader\u001b[0m\u001b[1;33m.\u001b[0m\u001b[0mget_tensor\u001b[0m\u001b[1;33m(\u001b[0m\u001b[0mtrackable\u001b[0m\u001b[1;33m.\u001b[0m\u001b[0mOBJECT_GRAPH_PROTO_KEY\u001b[0m\u001b[1;33m)\u001b[0m\u001b[1;33m\u001b[0m\u001b[1;33m\u001b[0m\u001b[0m\n\u001b[0m\u001b[0;32m   1615\u001b[0m   \u001b[0mobject_graph_proto\u001b[0m \u001b[1;33m=\u001b[0m \u001b[1;33m(\u001b[0m\u001b[0mtrackable_object_graph_pb2\u001b[0m\u001b[1;33m.\u001b[0m\u001b[0mTrackableObjectGraph\u001b[0m\u001b[1;33m(\u001b[0m\u001b[1;33m)\u001b[0m\u001b[1;33m)\u001b[0m\u001b[1;33m\u001b[0m\u001b[1;33m\u001b[0m\u001b[0m\n",
      "\u001b[1;32mD:\\Installation\\Anaconda\\lib\\site-packages\\tensorflow\\python\\pywrap_tensorflow_internal.py\u001b[0m in \u001b[0;36mget_tensor\u001b[1;34m(self, tensor_str)\u001b[0m\n\u001b[0;32m    677\u001b[0m \u001b[1;33m\u001b[0m\u001b[0m\n\u001b[1;32m--> 678\u001b[1;33m       \u001b[1;32mreturn\u001b[0m \u001b[0mCheckpointReader_GetTensor\u001b[0m\u001b[1;33m(\u001b[0m\u001b[0mself\u001b[0m\u001b[1;33m,\u001b[0m \u001b[0mcompat\u001b[0m\u001b[1;33m.\u001b[0m\u001b[0mas_bytes\u001b[0m\u001b[1;33m(\u001b[0m\u001b[0mtensor_str\u001b[0m\u001b[1;33m)\u001b[0m\u001b[1;33m)\u001b[0m\u001b[1;33m\u001b[0m\u001b[1;33m\u001b[0m\u001b[0m\n\u001b[0m\u001b[0;32m    679\u001b[0m \u001b[1;33m\u001b[0m\u001b[0m\n",
      "\u001b[1;31mNotFoundError\u001b[0m: _CHECKPOINTABLE_OBJECT_GRAPH not found in checkpoint file",
      "\nDuring handling of the above exception, another exception occurred:\n",
      "\u001b[1;31mNotFoundError\u001b[0m                             Traceback (most recent call last)",
      "\u001b[1;32m<ipython-input-56-034a423fdeae>\u001b[0m in \u001b[0;36m<module>\u001b[1;34m\u001b[0m\n\u001b[0;32m      7\u001b[0m \u001b[0msess\u001b[0m \u001b[1;33m=\u001b[0m \u001b[0mtf\u001b[0m\u001b[1;33m.\u001b[0m\u001b[0mInteractiveSession\u001b[0m\u001b[1;33m(\u001b[0m\u001b[1;33m)\u001b[0m\u001b[1;33m\u001b[0m\u001b[1;33m\u001b[0m\u001b[0m\n\u001b[0;32m      8\u001b[0m \u001b[0msaver\u001b[0m \u001b[1;33m=\u001b[0m \u001b[0mtf\u001b[0m\u001b[1;33m.\u001b[0m\u001b[0mtrain\u001b[0m\u001b[1;33m.\u001b[0m\u001b[0mSaver\u001b[0m\u001b[1;33m(\u001b[0m\u001b[1;33m)\u001b[0m\u001b[1;33m\u001b[0m\u001b[1;33m\u001b[0m\u001b[0m\n\u001b[1;32m----> 9\u001b[1;33m \u001b[0msaver\u001b[0m\u001b[1;33m.\u001b[0m\u001b[0mrestore\u001b[0m\u001b[1;33m(\u001b[0m\u001b[0msess\u001b[0m\u001b[1;33m,\u001b[0m \u001b[1;34m\"save/model.ckpt\"\u001b[0m\u001b[1;33m)\u001b[0m\u001b[1;33m\u001b[0m\u001b[1;33m\u001b[0m\u001b[0m\n\u001b[0m\u001b[0;32m     10\u001b[0m \u001b[1;33m\u001b[0m\u001b[0m\n\u001b[0;32m     11\u001b[0m \u001b[0mimg\u001b[0m \u001b[1;33m=\u001b[0m \u001b[0mcv2\u001b[0m\u001b[1;33m.\u001b[0m\u001b[0mimread\u001b[0m\u001b[1;33m(\u001b[0m\u001b[1;34m'steering_wheel_image.jpg'\u001b[0m\u001b[1;33m,\u001b[0m\u001b[1;36m0\u001b[0m\u001b[1;33m)\u001b[0m\u001b[1;33m\u001b[0m\u001b[1;33m\u001b[0m\u001b[0m\n",
      "\u001b[1;32mD:\\Installation\\Anaconda\\lib\\site-packages\\tensorflow\\python\\training\\saver.py\u001b[0m in \u001b[0;36mrestore\u001b[1;34m(self, sess, save_path)\u001b[0m\n\u001b[0;32m   1300\u001b[0m         \u001b[1;31m# a helpful message (b/110263146)\u001b[0m\u001b[1;33m\u001b[0m\u001b[1;33m\u001b[0m\u001b[1;33m\u001b[0m\u001b[0m\n\u001b[0;32m   1301\u001b[0m         raise _wrap_restore_error_with_msg(\n\u001b[1;32m-> 1302\u001b[1;33m             err, \"a Variable name or other graph key that is missing\")\n\u001b[0m\u001b[0;32m   1303\u001b[0m \u001b[1;33m\u001b[0m\u001b[0m\n\u001b[0;32m   1304\u001b[0m       \u001b[1;31m# This is an object-based checkpoint. We'll print a warning and then do\u001b[0m\u001b[1;33m\u001b[0m\u001b[1;33m\u001b[0m\u001b[1;33m\u001b[0m\u001b[0m\n",
      "\u001b[1;31mNotFoundError\u001b[0m: Restoring from checkpoint failed. This is most likely due to a Variable name or other graph key that is missing from the checkpoint. Please ensure that you have not altered the graph expected based on the checkpoint. Original error:\n\nTensor name \"Variable_20\" not found in checkpoint files save/model.ckpt\n\t [[node save_6/RestoreV2 (defined at <ipython-input-56-034a423fdeae>:8) ]]\n\nOriginal stack trace for 'save_6/RestoreV2':\n  File \"D:\\Installation\\Anaconda\\lib\\runpy.py\", line 193, in _run_module_as_main\n    \"__main__\", mod_spec)\n  File \"D:\\Installation\\Anaconda\\lib\\runpy.py\", line 85, in _run_code\n    exec(code, run_globals)\n  File \"D:\\Installation\\Anaconda\\lib\\site-packages\\ipykernel_launcher.py\", line 16, in <module>\n    app.launch_new_instance()\n  File \"D:\\Installation\\Anaconda\\lib\\site-packages\\traitlets\\config\\application.py\", line 658, in launch_instance\n    app.start()\n  File \"D:\\Installation\\Anaconda\\lib\\site-packages\\ipykernel\\kernelapp.py\", line 505, in start\n    self.io_loop.start()\n  File \"D:\\Installation\\Anaconda\\lib\\site-packages\\tornado\\platform\\asyncio.py\", line 148, in start\n    self.asyncio_loop.run_forever()\n  File \"D:\\Installation\\Anaconda\\lib\\asyncio\\base_events.py\", line 539, in run_forever\n    self._run_once()\n  File \"D:\\Installation\\Anaconda\\lib\\asyncio\\base_events.py\", line 1775, in _run_once\n    handle._run()\n  File \"D:\\Installation\\Anaconda\\lib\\asyncio\\events.py\", line 88, in _run\n    self._context.run(self._callback, *self._args)\n  File \"D:\\Installation\\Anaconda\\lib\\site-packages\\tornado\\ioloop.py\", line 690, in <lambda>\n    lambda f: self._run_callback(functools.partial(callback, future))\n  File \"D:\\Installation\\Anaconda\\lib\\site-packages\\tornado\\ioloop.py\", line 743, in _run_callback\n    ret = callback()\n  File \"D:\\Installation\\Anaconda\\lib\\site-packages\\tornado\\gen.py\", line 787, in inner\n    self.run()\n  File \"D:\\Installation\\Anaconda\\lib\\site-packages\\tornado\\gen.py\", line 748, in run\n    yielded = self.gen.send(value)\n  File \"D:\\Installation\\Anaconda\\lib\\site-packages\\ipykernel\\kernelbase.py\", line 365, in process_one\n    yield gen.maybe_future(dispatch(*args))\n  File \"D:\\Installation\\Anaconda\\lib\\site-packages\\tornado\\gen.py\", line 209, in wrapper\n    yielded = next(result)\n  File \"D:\\Installation\\Anaconda\\lib\\site-packages\\ipykernel\\kernelbase.py\", line 272, in dispatch_shell\n    yield gen.maybe_future(handler(stream, idents, msg))\n  File \"D:\\Installation\\Anaconda\\lib\\site-packages\\tornado\\gen.py\", line 209, in wrapper\n    yielded = next(result)\n  File \"D:\\Installation\\Anaconda\\lib\\site-packages\\ipykernel\\kernelbase.py\", line 542, in execute_request\n    user_expressions, allow_stdin,\n  File \"D:\\Installation\\Anaconda\\lib\\site-packages\\tornado\\gen.py\", line 209, in wrapper\n    yielded = next(result)\n  File \"D:\\Installation\\Anaconda\\lib\\site-packages\\ipykernel\\ipkernel.py\", line 294, in do_execute\n    res = shell.run_cell(code, store_history=store_history, silent=silent)\n  File \"D:\\Installation\\Anaconda\\lib\\site-packages\\ipykernel\\zmqshell.py\", line 536, in run_cell\n    return super(ZMQInteractiveShell, self).run_cell(*args, **kwargs)\n  File \"D:\\Installation\\Anaconda\\lib\\site-packages\\IPython\\core\\interactiveshell.py\", line 2854, in run_cell\n    raw_cell, store_history, silent, shell_futures)\n  File \"D:\\Installation\\Anaconda\\lib\\site-packages\\IPython\\core\\interactiveshell.py\", line 2880, in _run_cell\n    return runner(coro)\n  File \"D:\\Installation\\Anaconda\\lib\\site-packages\\IPython\\core\\async_helpers.py\", line 68, in _pseudo_sync_runner\n    coro.send(None)\n  File \"D:\\Installation\\Anaconda\\lib\\site-packages\\IPython\\core\\interactiveshell.py\", line 3057, in run_cell_async\n    interactivity=interactivity, compiler=compiler, result=result)\n  File \"D:\\Installation\\Anaconda\\lib\\site-packages\\IPython\\core\\interactiveshell.py\", line 3248, in run_ast_nodes\n    if (await self.run_code(code, result,  async_=asy)):\n  File \"D:\\Installation\\Anaconda\\lib\\site-packages\\IPython\\core\\interactiveshell.py\", line 3325, in run_code\n    exec(code_obj, self.user_global_ns, self.user_ns)\n  File \"<ipython-input-56-034a423fdeae>\", line 8, in <module>\n    saver = tf.train.Saver()\n  File \"D:\\Installation\\Anaconda\\lib\\site-packages\\tensorflow\\python\\training\\saver.py\", line 825, in __init__\n    self.build()\n  File \"D:\\Installation\\Anaconda\\lib\\site-packages\\tensorflow\\python\\training\\saver.py\", line 837, in build\n    self._build(self._filename, build_save=True, build_restore=True)\n  File \"D:\\Installation\\Anaconda\\lib\\site-packages\\tensorflow\\python\\training\\saver.py\", line 875, in _build\n    build_restore=build_restore)\n  File \"D:\\Installation\\Anaconda\\lib\\site-packages\\tensorflow\\python\\training\\saver.py\", line 508, in _build_internal\n    restore_sequentially, reshape)\n  File \"D:\\Installation\\Anaconda\\lib\\site-packages\\tensorflow\\python\\training\\saver.py\", line 328, in _AddRestoreOps\n    restore_sequentially)\n  File \"D:\\Installation\\Anaconda\\lib\\site-packages\\tensorflow\\python\\training\\saver.py\", line 575, in bulk_restore\n    return io_ops.restore_v2(filename_tensor, names, slices, dtypes)\n  File \"D:\\Installation\\Anaconda\\lib\\site-packages\\tensorflow\\python\\ops\\gen_io_ops.py\", line 1695, in restore_v2\n    name=name)\n  File \"D:\\Installation\\Anaconda\\lib\\site-packages\\tensorflow\\python\\framework\\op_def_library.py\", line 788, in _apply_op_helper\n    op_def=op_def)\n  File \"D:\\Installation\\Anaconda\\lib\\site-packages\\tensorflow\\python\\util\\deprecation.py\", line 507, in new_func\n    return func(*args, **kwargs)\n  File \"D:\\Installation\\Anaconda\\lib\\site-packages\\tensorflow\\python\\framework\\ops.py\", line 3616, in create_op\n    op_def=op_def)\n  File \"D:\\Installation\\Anaconda\\lib\\site-packages\\tensorflow\\python\\framework\\ops.py\", line 2005, in __init__\n    self._traceback = tf_stack.extract_stack()\n"
     ]
    }
   ],
   "source": [
    "import tensorflow as tf\n",
    "import scipy.misc\n",
    "import model\n",
    "import cv2\n",
    "from subprocess import call\n",
    "\n",
    "sess = tf.InteractiveSession()\n",
    "# saver = tf.train.Saver()\n",
    "# saver.restore(sess, \"save/model.ckpt\")\n",
    "\n",
    "img = cv2.imread('steering_wheel_image.jpg',0)\n",
    "rows,cols = img.shape\n",
    "\n",
    "smoothed_angle = 0\n",
    "\n",
    "cap = cv2.VideoCapture(0)\n",
    "while(cv2.waitKey(10) != ord('q')):\n",
    "    ret, frame = cap.read()\n",
    "    image = scipy.misc.imresize(frame, [66, 200]) / 255.0\n",
    "    degrees = model.y.eval(feed_dict={model.x: [image], model.keep_prob: 1.0})[0][0] * 180 / scipy.pi\n",
    "    call(\"clear\")\n",
    "    print(\"Predicted steering angle: \" + str(degrees) + \" degrees\")\n",
    "    cv2.imshow('frame', frame)\n",
    "    #make smooth angle transitions by turning the steering wheel based on the difference of the current angle\n",
    "    #and the predicted angle\n",
    "    smoothed_angle += 0.2 * pow(abs((degrees - smoothed_angle)), 2.0 / 3.0) * (degrees - smoothed_angle) / abs(degrees - smoothed_angle)\n",
    "    M = cv2.getRotationMatrix2D((cols/2,rows/2),-smoothed_angle,1)\n",
    "    dst = cv2.warpAffine(img,M,(cols,rows))\n",
    "    cv2.imshow(\"steering wheel\", dst)\n",
    "\n",
    "cap.release()\n",
    "cv2.destroyAllWindows()\n"
   ]
  },
  {
   "cell_type": "code",
   "execution_count": null,
   "metadata": {},
   "outputs": [],
   "source": []
  }
 ],
 "metadata": {
  "accelerator": "GPU",
  "colab": {
   "collapsed_sections": [],
   "default_view": {},
   "name": "Self_driving_car.ipynb",
   "provenance": [],
   "version": "0.3.2",
   "views": {}
  },
  "kernelspec": {
   "display_name": "Python 3",
   "language": "python",
   "name": "python3"
  },
  "language_info": {
   "codemirror_mode": {
    "name": "ipython",
    "version": 3
   },
   "file_extension": ".py",
   "mimetype": "text/x-python",
   "name": "python",
   "nbconvert_exporter": "python",
   "pygments_lexer": "ipython3",
   "version": "3.7.3"
  }
 },
 "nbformat": 4,
 "nbformat_minor": 1
}
