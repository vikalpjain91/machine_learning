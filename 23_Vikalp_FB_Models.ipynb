{
 "cells": [
  {
   "cell_type": "markdown",
   "metadata": {
    "colab_type": "text",
    "id": "naWvqMEMHglO"
   },
   "source": [
    "<p style=\"font-size:32px;text-align:center\"> <b>Social network Graph Link Prediction - Facebook Challenge</b> </p>"
   ]
  },
  {
   "cell_type": "code",
   "execution_count": 1,
   "metadata": {
    "colab": {},
    "colab_type": "code",
    "id": "9wb9N5RzHglP"
   },
   "outputs": [],
   "source": [
    "#Importing Libraries\n",
    "# please do go through this python notebook: \n",
    "import warnings\n",
    "warnings.filterwarnings(\"ignore\")\n",
    "\n",
    "import csv\n",
    "import pandas as pd#pandas to create small dataframes \n",
    "import datetime #Convert to unix time\n",
    "import time #Convert to unix time\n",
    "# if numpy is not installed already : pip3 install numpy\n",
    "import numpy as np#Do aritmetic operations on arrays\n",
    "# matplotlib: used to plot graphs\n",
    "import matplotlib\n",
    "import matplotlib.pylab as plt\n",
    "import seaborn as sns#Plots\n",
    "from matplotlib import rcParams#Size of plots  \n",
    "from sklearn.cluster import MiniBatchKMeans, KMeans#Clustering\n",
    "import math\n",
    "import pickle\n",
    "import os\n",
    "# to install xgboost: pip3 install xgboost\n",
    "import xgboost as xgb\n",
    "\n",
    "import warnings\n",
    "import networkx as nx\n",
    "import pdb\n",
    "import pickle\n",
    "from pandas import HDFStore,DataFrame\n",
    "from pandas import read_hdf\n",
    "from scipy.sparse.linalg import svds, eigs\n",
    "import gc\n",
    "from tqdm import tqdm\n",
    "from sklearn.ensemble import RandomForestClassifier\n",
    "from sklearn.metrics import f1_score"
   ]
  },
  {
   "cell_type": "code",
   "execution_count": 2,
   "metadata": {
    "colab": {},
    "colab_type": "code",
    "id": "XC4OJFKkHglU"
   },
   "outputs": [],
   "source": [
    "#reading\n",
    "from pandas import read_hdf\n",
    "df_final_train = read_hdf('data/fea_sample/storage_sample_stage4.h5', 'train_df',mode='r')\n",
    "df_final_test = read_hdf('data/fea_sample/storage_sample_stage4.h5', 'test_df',mode='r')"
   ]
  },
  {
   "cell_type": "code",
   "execution_count": 3,
   "metadata": {},
   "outputs": [
    {
     "name": "stdout",
     "output_type": "stream",
     "text": [
      "Name: \n",
      "Type: DiGraph\n",
      "Number of nodes: 1780722\n",
      "Number of edges: 7550015\n",
      "Average in degree:   4.2399\n",
      "Average out degree:   4.2399\n"
     ]
    }
   ],
   "source": [
    "#loading graph\n",
    "if os.path.isfile('data/after_eda/train_pos_after_eda.csv'):\n",
    "    train_graph=nx.read_edgelist('data/after_eda/train_pos_after_eda.csv',delimiter=',',create_using=nx.DiGraph(),nodetype=int)\n",
    "    print(nx.info(train_graph))\n",
    "else:\n",
    "    print(\"please run the FB_EDA.ipynb or download the files from drive\")"
   ]
  },
  {
   "cell_type": "code",
   "execution_count": 4,
   "metadata": {},
   "outputs": [
    {
     "data": {
      "text/html": [
       "<div>\n",
       "<style scoped>\n",
       "    .dataframe tbody tr th:only-of-type {\n",
       "        vertical-align: middle;\n",
       "    }\n",
       "\n",
       "    .dataframe tbody tr th {\n",
       "        vertical-align: top;\n",
       "    }\n",
       "\n",
       "    .dataframe thead th {\n",
       "        text-align: right;\n",
       "    }\n",
       "</style>\n",
       "<table border=\"1\" class=\"dataframe\">\n",
       "  <thead>\n",
       "    <tr style=\"text-align: right;\">\n",
       "      <th></th>\n",
       "      <th>source_node</th>\n",
       "      <th>destination_node</th>\n",
       "      <th>indicator_link</th>\n",
       "      <th>jaccard_followers</th>\n",
       "      <th>jaccard_followees</th>\n",
       "      <th>cosine_followers</th>\n",
       "      <th>cosine_followees</th>\n",
       "      <th>num_followers_s</th>\n",
       "      <th>num_followees_s</th>\n",
       "      <th>num_followees_d</th>\n",
       "      <th>...</th>\n",
       "      <th>svd_v_s_3</th>\n",
       "      <th>svd_v_s_4</th>\n",
       "      <th>svd_v_s_5</th>\n",
       "      <th>svd_v_s_6</th>\n",
       "      <th>svd_v_d_1</th>\n",
       "      <th>svd_v_d_2</th>\n",
       "      <th>svd_v_d_3</th>\n",
       "      <th>svd_v_d_4</th>\n",
       "      <th>svd_v_d_5</th>\n",
       "      <th>svd_v_d_6</th>\n",
       "    </tr>\n",
       "  </thead>\n",
       "  <tbody>\n",
       "    <tr>\n",
       "      <th>0</th>\n",
       "      <td>273084</td>\n",
       "      <td>1505602</td>\n",
       "      <td>1</td>\n",
       "      <td>0</td>\n",
       "      <td>0.0</td>\n",
       "      <td>0.0</td>\n",
       "      <td>0.0</td>\n",
       "      <td>6</td>\n",
       "      <td>15</td>\n",
       "      <td>8</td>\n",
       "      <td>...</td>\n",
       "      <td>0.000002</td>\n",
       "      <td>1.545075e-13</td>\n",
       "      <td>8.108434e-13</td>\n",
       "      <td>1.719702e-14</td>\n",
       "      <td>-1.355368e-12</td>\n",
       "      <td>4.675307e-13</td>\n",
       "      <td>0.000001</td>\n",
       "      <td>6.616550e-14</td>\n",
       "      <td>9.771077e-13</td>\n",
       "      <td>4.159752e-14</td>\n",
       "    </tr>\n",
       "  </tbody>\n",
       "</table>\n",
       "<p>1 rows × 54 columns</p>\n",
       "</div>"
      ],
      "text/plain": [
       "   source_node  destination_node  indicator_link  jaccard_followers  \\\n",
       "0       273084           1505602               1                  0   \n",
       "\n",
       "   jaccard_followees  cosine_followers  cosine_followees  num_followers_s  \\\n",
       "0                0.0               0.0               0.0                6   \n",
       "\n",
       "   num_followees_s  num_followees_d  ...  svd_v_s_3     svd_v_s_4  \\\n",
       "0               15                8  ...   0.000002  1.545075e-13   \n",
       "\n",
       "      svd_v_s_5     svd_v_s_6     svd_v_d_1     svd_v_d_2  svd_v_d_3  \\\n",
       "0  8.108434e-13  1.719702e-14 -1.355368e-12  4.675307e-13   0.000001   \n",
       "\n",
       "      svd_v_d_4     svd_v_d_5     svd_v_d_6  \n",
       "0  6.616550e-14  9.771077e-13  4.159752e-14  \n",
       "\n",
       "[1 rows x 54 columns]"
      ]
     },
     "execution_count": 4,
     "metadata": {},
     "output_type": "execute_result"
    }
   ],
   "source": [
    "df_final_train.head(1)"
   ]
  },
  {
   "cell_type": "code",
   "execution_count": 5,
   "metadata": {},
   "outputs": [],
   "source": [
    "#adding preferential attachment score is multiplying neighbors of both the persons\n",
    "#adar index\n",
    "def calc_pref_attach_in(a,b):\n",
    "    try:\n",
    "#         print(len(set(train_graph.successors(a))))\n",
    "#         print(len(set(train_graph.successors(b))))\n",
    "        val = len(set(train_graph.successors(a))) *len(set(train_graph.successors(b)))\n",
    "        if val!=0:\n",
    "            return val\n",
    "        else:\n",
    "            return 0\n",
    "    except:\n",
    "        return 0\n"
   ]
  },
  {
   "cell_type": "markdown",
   "metadata": {},
   "source": [
    "## Preferential Attachment"
   ]
  },
  {
   "cell_type": "code",
   "execution_count": 6,
   "metadata": {},
   "outputs": [],
   "source": [
    "df_final_train['pref_attach'] = df_final_train.apply(lambda row: calc_pref_attach_in(row['source_node'],row['destination_node']),axis=1)\n",
    "#mapping adar index on test\n",
    "df_final_test['pref_attach'] = df_final_test.apply(lambda row: calc_pref_attach_in(row['source_node'],row['destination_node']),axis=1)\n"
   ]
  },
  {
   "cell_type": "code",
   "execution_count": 7,
   "metadata": {},
   "outputs": [
    {
     "name": "stderr",
     "output_type": "stream",
     "text": [
      "D:\\Installation\\Anaconda\\lib\\site-packages\\sklearn\\utils\\validation.py:595: DataConversionWarning: Data with input dtype int64 was converted to float64 by MinMaxScaler.\n",
      "  warnings.warn(msg, DataConversionWarning)\n"
     ]
    }
   ],
   "source": [
    "from sklearn import preprocessing\n",
    "\n",
    "min_max_scaler = preprocessing.MinMaxScaler()\n",
    "df_final_train['pref_attach'] = min_max_scaler.fit_transform(df_final_train['pref_attach'].values.reshape(-1, 1))\n",
    "df_final_test['pref_attach'] = min_max_scaler.transform(df_final_test['pref_attach'].values.reshape(-1, 1))"
   ]
  },
  {
   "cell_type": "code",
   "execution_count": 8,
   "metadata": {},
   "outputs": [
    {
     "ename": "NameError",
     "evalue": "name 'pqr' is not defined",
     "output_type": "error",
     "traceback": [
      "\u001b[1;31m---------------------------------------------------------------------------\u001b[0m",
      "\u001b[1;31mNameError\u001b[0m                                 Traceback (most recent call last)",
      "\u001b[1;32m<ipython-input-8-270f68e7fd34>\u001b[0m in \u001b[0;36m<module>\u001b[1;34m\u001b[0m\n\u001b[1;32m----> 1\u001b[1;33m \u001b[0mpqr\u001b[0m\u001b[1;33m\u001b[0m\u001b[1;33m\u001b[0m\u001b[0m\n\u001b[0m",
      "\u001b[1;31mNameError\u001b[0m: name 'pqr' is not defined"
     ]
    }
   ],
   "source": [
    "pqr"
   ]
  },
  {
   "cell_type": "code",
   "execution_count": 61,
   "metadata": {},
   "outputs": [],
   "source": [
    "svd_source_u = [df_final_train['svd_u_s_1'], df_final_train['svd_u_s_2'], df_final_train['svd_u_s_3'], df_final_train['svd_u_s_4'], df_final_train['svd_u_s_5'], df_final_train['svd_u_s_6']]\n",
    "svd_dest_u = [df_final_train['svd_u_d_1'], df_final_train['svd_u_d_2'], df_final_train['svd_u_d_3'], df_final_train['svd_u_d_4'], df_final_train['svd_u_d_5'], df_final_train['svd_u_d_6']]\n",
    "svd_source_v = [df_final_train['svd_v_s_1'], df_final_train['svd_v_s_2'], df_final_train['svd_v_s_3'], df_final_train['svd_v_s_4'], df_final_train['svd_v_s_5'], df_final_train['svd_v_s_6']]\n",
    "svd_dest_v = [df_final_train['svd_v_d_1'], df_final_train['svd_v_d_2'], df_final_train['svd_v_d_3'], df_final_train['svd_v_d_4'], df_final_train['svd_v_d_5'], df_final_train['svd_v_d_6']]\n"
   ]
  },
  {
   "cell_type": "code",
   "execution_count": 62,
   "metadata": {},
   "outputs": [
    {
     "name": "stdout",
     "output_type": "stream",
     "text": [
      "100002\n",
      "100002\n",
      "100002\n",
      "100002\n"
     ]
    }
   ],
   "source": [
    "print(len(svd_source_u[0]))\n",
    "print(len(svd_dest_u[0]))\n",
    "print(len(svd_source_v[0]))\n",
    "print(len(svd_dest_v[0]))\n",
    "\n"
   ]
  },
  {
   "cell_type": "code",
   "execution_count": 63,
   "metadata": {
    "scrolled": false
   },
   "outputs": [],
   "source": [
    "# https://stackoverflow.com/questions/30382018/np-einsum-vs-np-dot-giving-different-results\n",
    "# print(len(np.einsum('ij,ij->j', svd_source_u, svd_dest_u)))\n",
    "df_final_train['svd_dot_u'] = np.einsum('ij,ij->j', svd_source_u, svd_dest_u)\n",
    "# print(len())\n",
    "df_final_train['svd_dot_v']=np.einsum('ij,ij->j', svd_source_v, svd_dest_v)\n"
   ]
  },
  {
   "cell_type": "code",
   "execution_count": 64,
   "metadata": {},
   "outputs": [],
   "source": [
    "svd_source_u = [df_final_test['svd_u_s_1'], df_final_test['svd_u_s_2'], df_final_test['svd_u_s_3'], df_final_test['svd_u_s_4'], df_final_test['svd_u_s_5'], df_final_test['svd_u_s_6']]\n",
    "svd_dest_u = [df_final_test['svd_u_d_1'], df_final_test['svd_u_d_2'], df_final_test['svd_u_d_3'], df_final_test['svd_u_d_4'], df_final_test['svd_u_d_5'], df_final_test['svd_u_d_6']]\n",
    "svd_source_v = [df_final_test['svd_v_s_1'], df_final_test['svd_v_s_2'], df_final_test['svd_v_s_3'], df_final_test['svd_v_s_4'], df_final_test['svd_v_s_5'], df_final_test['svd_v_s_6']]\n",
    "svd_dest_v = [df_final_test['svd_v_d_1'], df_final_test['svd_v_d_2'], df_final_test['svd_v_d_3'], df_final_test['svd_v_d_4'], df_final_test['svd_v_d_5'], df_final_test['svd_v_d_6']]\n"
   ]
  },
  {
   "cell_type": "code",
   "execution_count": 65,
   "metadata": {},
   "outputs": [],
   "source": [
    "# https://stackoverflow.com/questions/30382018/np-einsum-vs-np-dot-giving-different-results\n",
    "# print(len(np.einsum('ij,ij->j', svd_source_u, svd_dest_u)))\n",
    "df_final_test['svd_dot_u'] = np.einsum('ij,ij->j', svd_source_u, svd_dest_u)\n",
    "# print(len())\n",
    "df_final_test['svd_dot_v']=np.einsum('ij,ij->j', svd_source_v, svd_dest_v)\n"
   ]
  },
  {
   "cell_type": "code",
   "execution_count": 51,
   "metadata": {},
   "outputs": [],
   "source": [
    "# df_final_test['svd_dot_u_1'] = df_final_test['svd_u_s_1'] * df_final_test['svd_u_d_1']\n",
    "# df_final_test['svd_dot_u_2'] = df_final_test['svd_u_s_2'] * df_final_test['svd_u_d_2']\n",
    "# df_final_test['svd_dot_u_3'] = df_final_test['svd_u_s_3'] * df_final_test['svd_u_d_3']\n",
    "# df_final_test['svd_dot_u_4'] = df_final_test['svd_u_s_4'] * df_final_test['svd_u_d_4']\n",
    "# df_final_test['svd_dot_u_5'] = df_final_test['svd_u_s_5'] * df_final_test['svd_u_d_5']\n",
    "# df_final_test['svd_dot_u_6'] = df_final_test['svd_u_s_6'] * df_final_test['svd_u_d_6']\n"
   ]
  },
  {
   "cell_type": "code",
   "execution_count": 52,
   "metadata": {},
   "outputs": [],
   "source": [
    "# df_final_train['svd_dot_u_1'] = df_final_train['svd_u_s_1'] * df_final_train['svd_u_d_1']\n",
    "# df_final_train['svd_dot_u_2'] = df_final_train['svd_u_s_2'] * df_final_train['svd_u_d_2']\n",
    "# df_final_train['svd_dot_u_3'] = df_final_train['svd_u_s_3'] * df_final_train['svd_u_d_3']\n",
    "# df_final_train['svd_dot_u_4'] = df_final_train['svd_u_s_4'] * df_final_train['svd_u_d_4']\n",
    "# df_final_train['svd_dot_u_5'] = df_final_train['svd_u_s_5'] * df_final_train['svd_u_d_5']\n",
    "# # df_final_train['svd_dot_u_6'] = df_final_train['svd_u_s_6'] * df_final_train['svd_u_d_6']\n"
   ]
  },
  {
   "cell_type": "code",
   "execution_count": 66,
   "metadata": {
    "colab": {},
    "colab_type": "code",
    "id": "5Gm-BHRkHglW",
    "outputId": "d2c2294c-113e-4fdb-d3e5-dc167dcf5fbc",
    "scrolled": true
   },
   "outputs": [
    {
     "data": {
      "text/plain": [
       "Index(['source_node', 'destination_node', 'indicator_link',\n",
       "       'jaccard_followers', 'jaccard_followees', 'cosine_followers',\n",
       "       'cosine_followees', 'num_followers_s', 'num_followees_s',\n",
       "       'num_followees_d', 'inter_followers', 'inter_followees', 'adar_index',\n",
       "       'follows_back', 'same_comp', 'shortest_path', 'weight_in', 'weight_out',\n",
       "       'weight_f1', 'weight_f2', 'weight_f3', 'weight_f4', 'page_rank_s',\n",
       "       'page_rank_d', 'katz_s', 'katz_d', 'hubs_s', 'hubs_d', 'authorities_s',\n",
       "       'authorities_d', 'svd_u_s_1', 'svd_u_s_2', 'svd_u_s_3', 'svd_u_s_4',\n",
       "       'svd_u_s_5', 'svd_u_s_6', 'svd_u_d_1', 'svd_u_d_2', 'svd_u_d_3',\n",
       "       'svd_u_d_4', 'svd_u_d_5', 'svd_u_d_6', 'svd_v_s_1', 'svd_v_s_2',\n",
       "       'svd_v_s_3', 'svd_v_s_4', 'svd_v_s_5', 'svd_v_s_6', 'svd_v_d_1',\n",
       "       'svd_v_d_2', 'svd_v_d_3', 'svd_v_d_4', 'svd_v_d_5', 'svd_v_d_6',\n",
       "       'pref_attach', 'svd_dot_u', 'svd_dot_v'],\n",
       "      dtype='object')"
      ]
     },
     "execution_count": 66,
     "metadata": {},
     "output_type": "execute_result"
    }
   ],
   "source": [
    "df_final_train.columns"
   ]
  },
  {
   "cell_type": "code",
   "execution_count": 67,
   "metadata": {},
   "outputs": [
    {
     "data": {
      "text/plain": [
       "Index(['source_node', 'destination_node', 'indicator_link',\n",
       "       'jaccard_followers', 'jaccard_followees', 'cosine_followers',\n",
       "       'cosine_followees', 'num_followers_s', 'num_followees_s',\n",
       "       'num_followees_d', 'inter_followers', 'inter_followees', 'adar_index',\n",
       "       'follows_back', 'same_comp', 'shortest_path', 'weight_in', 'weight_out',\n",
       "       'weight_f1', 'weight_f2', 'weight_f3', 'weight_f4', 'page_rank_s',\n",
       "       'page_rank_d', 'katz_s', 'katz_d', 'hubs_s', 'hubs_d', 'authorities_s',\n",
       "       'authorities_d', 'svd_u_s_1', 'svd_u_s_2', 'svd_u_s_3', 'svd_u_s_4',\n",
       "       'svd_u_s_5', 'svd_u_s_6', 'svd_u_d_1', 'svd_u_d_2', 'svd_u_d_3',\n",
       "       'svd_u_d_4', 'svd_u_d_5', 'svd_u_d_6', 'svd_v_s_1', 'svd_v_s_2',\n",
       "       'svd_v_s_3', 'svd_v_s_4', 'svd_v_s_5', 'svd_v_s_6', 'svd_v_d_1',\n",
       "       'svd_v_d_2', 'svd_v_d_3', 'svd_v_d_4', 'svd_v_d_5', 'svd_v_d_6',\n",
       "       'pref_attach', 'svd_dot_u', 'svd_dot_v'],\n",
       "      dtype='object')"
      ]
     },
     "execution_count": 67,
     "metadata": {},
     "output_type": "execute_result"
    }
   ],
   "source": [
    "df_final_test.columns"
   ]
  },
  {
   "cell_type": "code",
   "execution_count": 68,
   "metadata": {
    "colab": {},
    "colab_type": "code",
    "id": "XRW7VZ4AHglc"
   },
   "outputs": [],
   "source": [
    "y_train = df_final_train.indicator_link\n",
    "y_test = df_final_test.indicator_link"
   ]
  },
  {
   "cell_type": "code",
   "execution_count": 69,
   "metadata": {
    "colab": {},
    "colab_type": "code",
    "id": "4lj9M_qtHglf"
   },
   "outputs": [],
   "source": [
    "df_final_train.drop(['source_node', 'destination_node','indicator_link'],axis=1,inplace=True)\n",
    "df_final_test.drop(['source_node', 'destination_node','indicator_link'],axis=1,inplace=True)"
   ]
  },
  {
   "cell_type": "code",
   "execution_count": 70,
   "metadata": {
    "colab": {},
    "colab_type": "code",
    "id": "lIEc91uVHgli",
    "outputId": "31f04b72-ebe5-4b13-ccca-a5ae3bc4f09c"
   },
   "outputs": [
    {
     "name": "stdout",
     "output_type": "stream",
     "text": [
      "Estimators =  10 Train Score 0.9128093143379071 test Score 0.9003502069404649\n",
      "Estimators =  50 Train Score 0.919392168567449 test Score 0.914649520927887\n",
      "Estimators =  100 Train Score 0.9194221575990877 test Score 0.9141969607925446\n",
      "Estimators =  250 Train Score 0.921380953376105 test Score 0.9165547910723276\n",
      "Estimators =  450 Train Score 0.9219604521546362 test Score 0.917014800041986\n"
     ]
    },
    {
     "data": {
      "text/plain": [
       "Text(0.5, 1.0, 'Estimators vs score at depth of 5')"
      ]
     },
     "execution_count": 70,
     "metadata": {},
     "output_type": "execute_result"
    },
    {
     "data": {
      "image/png": "[encoded data removed]",
      "text/plain": [
       "<Figure size 432x288 with 1 Axes>"
      ]
     },
     "metadata": {
      "needs_background": "light"
     },
     "output_type": "display_data"
    }
   ],
   "source": [
    "estimators = [10,50,100,250,450]\n",
    "train_scores = []\n",
    "test_scores = []\n",
    "for i in estimators:\n",
    "    clf = RandomForestClassifier(bootstrap=True, class_weight=None, criterion='gini',\n",
    "            max_depth=5, max_features='auto', max_leaf_nodes=None,\n",
    "            min_impurity_decrease=0.0, min_impurity_split=None,\n",
    "            min_samples_leaf=52, min_samples_split=120,\n",
    "            min_weight_fraction_leaf=0.0, n_estimators=i, n_jobs=-1,random_state=25,verbose=0,warm_start=False)\n",
    "    clf.fit(df_final_train,y_train)\n",
    "    train_sc = f1_score(y_train,clf.predict(df_final_train))\n",
    "    test_sc = f1_score(y_test,clf.predict(df_final_test))\n",
    "    test_scores.append(test_sc)\n",
    "    train_scores.append(train_sc)\n",
    "    print('Estimators = ',i,'Train Score',train_sc,'test Score',test_sc)\n",
    "plt.plot(estimators,train_scores,label='Train Score')\n",
    "plt.plot(estimators,test_scores,label='Test Score')\n",
    "plt.xlabel('Estimators')\n",
    "plt.ylabel('Score')\n",
    "plt.title('Estimators vs score at depth of 5')"
   ]
  },
  {
   "cell_type": "code",
   "execution_count": 71,
   "metadata": {
    "colab": {},
    "colab_type": "code",
    "id": "nZxhrTdQHglm",
    "outputId": "53382b8e-148d-4c22-8066-d9807fb27012"
   },
   "outputs": [
    {
     "name": "stdout",
     "output_type": "stream",
     "text": [
      "depth =  3 Train Score 0.882871311104326 test Score 0.8626248767311236\n",
      "depth =  9 Train Score 0.9567402987514558 test Score 0.9228852569787576\n",
      "depth =  11 Train Score 0.9598402575439597 test Score 0.9239729062480219\n",
      "depth =  15 Train Score 0.9634670268842869 test Score 0.9264284510365751\n",
      "depth =  20 Train Score 0.9632966096536613 test Score 0.9258386295719516\n",
      "depth =  35 Train Score 0.9632726792981318 test Score 0.926099039919151\n",
      "depth =  50 Train Score 0.9632726792981318 test Score 0.926099039919151\n",
      "depth =  70 Train Score 0.9632726792981318 test Score 0.926099039919151\n",
      "depth =  130 Train Score 0.9632726792981318 test Score 0.926099039919151\n"
     ]
    },
    {
     "data": {
      "image/png": "[encoded data removed]",
      "text/plain": [
       "<Figure size 432x288 with 1 Axes>"
      ]
     },
     "metadata": {
      "needs_background": "light"
     },
     "output_type": "display_data"
    }
   ],
   "source": [
    "depths = [3,9,11,15,20,35,50,70,130]\n",
    "train_scores = []\n",
    "test_scores = []\n",
    "for i in depths:\n",
    "    clf = RandomForestClassifier(bootstrap=True, class_weight=None, criterion='gini',\n",
    "            max_depth=i, max_features='auto', max_leaf_nodes=None,\n",
    "            min_impurity_decrease=0.0, min_impurity_split=None,\n",
    "            min_samples_leaf=52, min_samples_split=120,\n",
    "            min_weight_fraction_leaf=0.0, n_estimators=115, n_jobs=-1,random_state=25,verbose=0,warm_start=False)\n",
    "    clf.fit(df_final_train,y_train)\n",
    "    train_sc = f1_score(y_train,clf.predict(df_final_train))\n",
    "    test_sc = f1_score(y_test,clf.predict(df_final_test))\n",
    "    test_scores.append(test_sc)\n",
    "    train_scores.append(train_sc)\n",
    "    print('depth = ',i,'Train Score',train_sc,'test Score',test_sc)\n",
    "plt.plot(depths,train_scores,label='Train Score')\n",
    "plt.plot(depths,test_scores,label='Test Score')\n",
    "plt.xlabel('Depth')\n",
    "plt.ylabel('Score')\n",
    "plt.title('Depth vs score at depth of 5 at estimators = 115')\n",
    "plt.show()"
   ]
  },
  {
   "cell_type": "code",
   "execution_count": 72,
   "metadata": {
    "colab": {},
    "colab_type": "code",
    "id": "MrG1Lfl3Hglq",
    "outputId": "7b6e3c97-8d66-455d-cd79-213f824719cc"
   },
   "outputs": [
    {
     "name": "stdout",
     "output_type": "stream",
     "text": [
      "mean test scores [0.96162089 0.9618011  0.9597477  0.96143249 0.96284694]\n",
      "mean train scores [0.96270231 0.96247964 0.96014108 0.96222759 0.96395495]\n"
     ]
    }
   ],
   "source": [
    "from sklearn.metrics import f1_score\n",
    "from sklearn.ensemble import RandomForestClassifier\n",
    "from sklearn.metrics import f1_score\n",
    "from sklearn.model_selection import RandomizedSearchCV\n",
    "from scipy.stats import randint as sp_randint\n",
    "from scipy.stats import uniform\n",
    "\n",
    "param_dist = {\"n_estimators\":sp_randint(105,125),\n",
    "              \"max_depth\": sp_randint(10,15),\n",
    "              \"min_samples_split\": sp_randint(110,190),\n",
    "              \"min_samples_leaf\": sp_randint(25,65)}\n",
    "\n",
    "clf = RandomForestClassifier(random_state=25,n_jobs=-1)\n",
    "\n",
    "rf_random = RandomizedSearchCV(clf, param_distributions=param_dist,\n",
    "                                   n_iter=5,cv=10,scoring='f1',random_state=25)\n",
    "\n",
    "rf_random.fit(df_final_train,y_train)\n",
    "print('mean test scores',rf_random.cv_results_['mean_test_score'])\n",
    "print('mean train scores',rf_random.cv_results_['mean_train_score'])"
   ]
  },
  {
   "cell_type": "code",
   "execution_count": 73,
   "metadata": {
    "colab": {},
    "colab_type": "code",
    "id": "hme3j_diHglu",
    "outputId": "581ccc02-7770-4a94-d003-257af4e81570"
   },
   "outputs": [
    {
     "name": "stdout",
     "output_type": "stream",
     "text": [
      "RandomForestClassifier(bootstrap=True, class_weight=None, criterion='gini',\n",
      "            max_depth=14, max_features='auto', max_leaf_nodes=None,\n",
      "            min_impurity_decrease=0.0, min_impurity_split=None,\n",
      "            min_samples_leaf=28, min_samples_split=111,\n",
      "            min_weight_fraction_leaf=0.0, n_estimators=121, n_jobs=-1,\n",
      "            oob_score=False, random_state=25, verbose=0, warm_start=False)\n"
     ]
    }
   ],
   "source": [
    "print(rf_random.best_estimator_)"
   ]
  },
  {
   "cell_type": "code",
   "execution_count": 74,
   "metadata": {
    "colab": {},
    "colab_type": "code",
    "id": "qu4KIEweHglx"
   },
   "outputs": [],
   "source": [
    "clf = RandomForestClassifier(bootstrap=True, class_weight=None, criterion='gini',\n",
    "            max_depth=14, max_features='auto', max_leaf_nodes=None,\n",
    "            min_impurity_decrease=0.0, min_impurity_split=None,\n",
    "            min_samples_leaf=28, min_samples_split=111,\n",
    "            min_weight_fraction_leaf=0.0, n_estimators=121, n_jobs=-1,\n",
    "            oob_score=False, random_state=25, verbose=0, warm_start=False)"
   ]
  },
  {
   "cell_type": "code",
   "execution_count": 75,
   "metadata": {
    "colab": {},
    "colab_type": "code",
    "id": "Dax83GfLHgl1"
   },
   "outputs": [],
   "source": [
    "clf.fit(df_final_train,y_train)\n",
    "y_train_pred = clf.predict(df_final_train)\n",
    "y_test_pred = clf.predict(df_final_test)"
   ]
  },
  {
   "cell_type": "code",
   "execution_count": 76,
   "metadata": {
    "colab": {},
    "colab_type": "code",
    "id": "PTtAp1iTHgl4",
    "outputId": "e2e3d725-3c4d-4374-d303-8f294b570977"
   },
   "outputs": [
    {
     "name": "stdout",
     "output_type": "stream",
     "text": [
      "Train f1 score 0.964000691316857\n",
      "Test f1 score 0.9264547697888764\n"
     ]
    }
   ],
   "source": [
    "from sklearn.metrics import f1_score\n",
    "print('Train f1 score',f1_score(y_train,y_train_pred))\n",
    "print('Test f1 score',f1_score(y_test,y_test_pred))"
   ]
  },
  {
   "cell_type": "code",
   "execution_count": 77,
   "metadata": {
    "colab": {},
    "colab_type": "code",
    "id": "5XfUkZYQHgl7"
   },
   "outputs": [],
   "source": [
    "from sklearn.metrics import confusion_matrix\n",
    "def plot_confusion_matrix(test_y, predict_y):\n",
    "    C = confusion_matrix(test_y, predict_y)\n",
    "    \n",
    "    A =(((C.T)/(C.sum(axis=1))).T)\n",
    "    \n",
    "    B =(C/C.sum(axis=0))\n",
    "    plt.figure(figsize=(20,4))\n",
    "    \n",
    "    labels = [0,1]\n",
    "    # representing A in heatmap format\n",
    "    cmap=sns.light_palette(\"blue\")\n",
    "    plt.subplot(1, 3, 1)\n",
    "    sns.heatmap(C, annot=True, cmap=cmap, fmt=\".3f\", xticklabels=labels, yticklabels=labels)\n",
    "    plt.xlabel('Predicted Class')\n",
    "    plt.ylabel('Original Class')\n",
    "    plt.title(\"Confusion matrix\")\n",
    "    \n",
    "    plt.subplot(1, 3, 2)\n",
    "    sns.heatmap(B, annot=True, cmap=cmap, fmt=\".3f\", xticklabels=labels, yticklabels=labels)\n",
    "    plt.xlabel('Predicted Class')\n",
    "    plt.ylabel('Original Class')\n",
    "    plt.title(\"Precision matrix\")\n",
    "    \n",
    "    plt.subplot(1, 3, 3)\n",
    "    # representing B in heatmap format\n",
    "    sns.heatmap(A, annot=True, cmap=cmap, fmt=\".3f\", xticklabels=labels, yticklabels=labels)\n",
    "    plt.xlabel('Predicted Class')\n",
    "    plt.ylabel('Original Class')\n",
    "    plt.title(\"Recall matrix\")\n",
    "    \n",
    "    plt.show()"
   ]
  },
  {
   "cell_type": "code",
   "execution_count": 78,
   "metadata": {
    "colab": {},
    "colab_type": "code",
    "id": "s6t11dhTHgl-",
    "outputId": "189de3be-1c99-4653-f56f-12b18b0f4db7"
   },
   "outputs": [
    {
     "name": "stdout",
     "output_type": "stream",
     "text": [
      "Train confusion_matrix\n"
     ]
    },
    {
     "data": {
      "image/png": "[encoded data removed]",
      "text/plain": [
       "<Figure size 1440x288 with 6 Axes>"
      ]
     },
     "metadata": {
      "needs_background": "light"
     },
     "output_type": "display_data"
    },
    {
     "name": "stdout",
     "output_type": "stream",
     "text": [
      "Test confusion_matrix\n"
     ]
    },
    {
     "data": {
      "image/png": "[encoded data removed]",
      "text/plain": [
       "<Figure size 1440x288 with 6 Axes>"
      ]
     },
     "metadata": {
      "needs_background": "light"
     },
     "output_type": "display_data"
    }
   ],
   "source": [
    "print('Train confusion_matrix')\n",
    "plot_confusion_matrix(y_train,y_train_pred)\n",
    "print('Test confusion_matrix')\n",
    "plot_confusion_matrix(y_test,y_test_pred)"
   ]
  },
  {
   "cell_type": "code",
   "execution_count": 79,
   "metadata": {
    "colab": {},
    "colab_type": "code",
    "id": "61TF-VLeHgmD",
    "outputId": "795f1b39-61c7-470f-e2d0-1fe6dc7ac5fd"
   },
   "outputs": [
    {
     "data": {
      "image/png": "[encoded data removed]",
      "text/plain": [
       "<Figure size 432x288 with 1 Axes>"
      ]
     },
     "metadata": {
      "needs_background": "light"
     },
     "output_type": "display_data"
    }
   ],
   "source": [
    "from sklearn.metrics import roc_curve, auc\n",
    "fpr,tpr,ths = roc_curve(y_test,y_test_pred)\n",
    "auc_sc = auc(fpr, tpr)\n",
    "plt.plot(fpr, tpr, color='navy',label='ROC curve (area = %0.2f)' % auc_sc)\n",
    "plt.xlabel('False Positive Rate')\n",
    "plt.ylabel('True Positive Rate')\n",
    "plt.title('Receiver operating characteristic with test data')\n",
    "plt.legend()\n",
    "plt.show()"
   ]
  },
  {
   "cell_type": "code",
   "execution_count": 80,
   "metadata": {
    "colab": {},
    "colab_type": "code",
    "id": "HEZ7uvN6HgmK",
    "outputId": "6f762256-54fc-4e2f-865b-22342033eb2c",
    "scrolled": false
   },
   "outputs": [
    {
     "data": {
      "image/png": "[encoded data removed]",
      "text/plain": [
       "<Figure size 720x864 with 1 Axes>"
      ]
     },
     "metadata": {
      "needs_background": "light"
     },
     "output_type": "display_data"
    }
   ],
   "source": [
    "features = df_final_train.columns\n",
    "importances = clf.feature_importances_\n",
    "indices = (np.argsort(importances))[-25:]\n",
    "plt.figure(figsize=(10,12))\n",
    "plt.title('Feature Importances')\n",
    "plt.barh(range(len(indices)), importances[indices], color='r', align='center')\n",
    "plt.yticks(range(len(indices)), [features[i] for i in indices])\n",
    "plt.xlabel('Relative Importance')\n",
    "plt.show()"
   ]
  },
  {
   "cell_type": "markdown",
   "metadata": {
    "colab_type": "text",
    "id": "xdHW32hcHgmN"
   },
   "source": [
    "# Assignments:\n",
    "\n",
    "1. Add another feature called  Preferential Attachment  with followers and followees data of vertex. you can check about Preferential Attachment in below link\n",
    "http://be.amazd.com/link-prediction/ <br>\n",
    "2. Add  feature called svd_dot. you can calculate svd_dot as Dot product between sourse node svd and destination node svd features.  you can read about this in below pdf \n",
    "https://storage.googleapis.com/kaggle-forum-message-attachments/2594/supervised_link_prediction.pdf<br>\n",
    "3. Tune hyperparameters for XG boost with all these features and check the error metric."
   ]
  },
  {
   "cell_type": "code",
   "execution_count": 81,
   "metadata": {},
   "outputs": [
    {
     "data": {
      "text/html": [
       "<div>\n",
       "<style scoped>\n",
       "    .dataframe tbody tr th:only-of-type {\n",
       "        vertical-align: middle;\n",
       "    }\n",
       "\n",
       "    .dataframe tbody tr th {\n",
       "        vertical-align: top;\n",
       "    }\n",
       "\n",
       "    .dataframe thead th {\n",
       "        text-align: right;\n",
       "    }\n",
       "</style>\n",
       "<table border=\"1\" class=\"dataframe\">\n",
       "  <thead>\n",
       "    <tr style=\"text-align: right;\">\n",
       "      <th></th>\n",
       "      <th>jaccard_followers</th>\n",
       "      <th>jaccard_followees</th>\n",
       "      <th>cosine_followers</th>\n",
       "      <th>cosine_followees</th>\n",
       "      <th>num_followers_s</th>\n",
       "      <th>num_followees_s</th>\n",
       "      <th>num_followees_d</th>\n",
       "      <th>inter_followers</th>\n",
       "      <th>inter_followees</th>\n",
       "      <th>adar_index</th>\n",
       "      <th>...</th>\n",
       "      <th>svd_v_s_6</th>\n",
       "      <th>svd_v_d_1</th>\n",
       "      <th>svd_v_d_2</th>\n",
       "      <th>svd_v_d_3</th>\n",
       "      <th>svd_v_d_4</th>\n",
       "      <th>svd_v_d_5</th>\n",
       "      <th>svd_v_d_6</th>\n",
       "      <th>pref_attach</th>\n",
       "      <th>svd_dot_u</th>\n",
       "      <th>svd_dot_v</th>\n",
       "    </tr>\n",
       "  </thead>\n",
       "  <tbody>\n",
       "    <tr>\n",
       "      <th>0</th>\n",
       "      <td>0</td>\n",
       "      <td>0.000000</td>\n",
       "      <td>0.000000</td>\n",
       "      <td>0.000000</td>\n",
       "      <td>6</td>\n",
       "      <td>15</td>\n",
       "      <td>8</td>\n",
       "      <td>0</td>\n",
       "      <td>0</td>\n",
       "      <td>0.000000</td>\n",
       "      <td>...</td>\n",
       "      <td>1.719702e-14</td>\n",
       "      <td>-1.355368e-12</td>\n",
       "      <td>4.675307e-13</td>\n",
       "      <td>1.128591e-06</td>\n",
       "      <td>6.616550e-14</td>\n",
       "      <td>9.771077e-13</td>\n",
       "      <td>4.159752e-14</td>\n",
       "      <td>0.001429</td>\n",
       "      <td>1.114958e-11</td>\n",
       "      <td>2.238775e-12</td>\n",
       "    </tr>\n",
       "    <tr>\n",
       "      <th>1</th>\n",
       "      <td>0</td>\n",
       "      <td>0.187135</td>\n",
       "      <td>0.028382</td>\n",
       "      <td>0.343828</td>\n",
       "      <td>94</td>\n",
       "      <td>61</td>\n",
       "      <td>142</td>\n",
       "      <td>11</td>\n",
       "      <td>32</td>\n",
       "      <td>16.362912</td>\n",
       "      <td>...</td>\n",
       "      <td>2.251737e-10</td>\n",
       "      <td>1.245101e-12</td>\n",
       "      <td>-1.636948e-10</td>\n",
       "      <td>-3.112650e-10</td>\n",
       "      <td>6.738902e-02</td>\n",
       "      <td>2.607801e-11</td>\n",
       "      <td>2.372904e-09</td>\n",
       "      <td>0.103119</td>\n",
       "      <td>3.192812e-03</td>\n",
       "      <td>9.068719e-04</td>\n",
       "    </tr>\n",
       "    <tr>\n",
       "      <th>2</th>\n",
       "      <td>0</td>\n",
       "      <td>0.369565</td>\n",
       "      <td>0.156957</td>\n",
       "      <td>0.566038</td>\n",
       "      <td>28</td>\n",
       "      <td>41</td>\n",
       "      <td>22</td>\n",
       "      <td>26</td>\n",
       "      <td>17</td>\n",
       "      <td>10.991826</td>\n",
       "      <td>...</td>\n",
       "      <td>-3.365389e-19</td>\n",
       "      <td>-1.238370e-18</td>\n",
       "      <td>1.438175e-19</td>\n",
       "      <td>-1.852863e-19</td>\n",
       "      <td>-5.901864e-19</td>\n",
       "      <td>1.629341e-19</td>\n",
       "      <td>-2.572452e-19</td>\n",
       "      <td>0.010738</td>\n",
       "      <td>1.787503e-35</td>\n",
       "      <td>2.467873e-36</td>\n",
       "    </tr>\n",
       "    <tr>\n",
       "      <th>3</th>\n",
       "      <td>0</td>\n",
       "      <td>0.000000</td>\n",
       "      <td>0.000000</td>\n",
       "      <td>0.000000</td>\n",
       "      <td>11</td>\n",
       "      <td>5</td>\n",
       "      <td>7</td>\n",
       "      <td>0</td>\n",
       "      <td>0</td>\n",
       "      <td>0.000000</td>\n",
       "      <td>...</td>\n",
       "      <td>4.498061e-13</td>\n",
       "      <td>-9.818087e-10</td>\n",
       "      <td>3.454672e-11</td>\n",
       "      <td>5.213635e-08</td>\n",
       "      <td>9.595823e-13</td>\n",
       "      <td>3.047045e-10</td>\n",
       "      <td>1.246592e-13</td>\n",
       "      <td>0.000417</td>\n",
       "      <td>4.710376e-20</td>\n",
       "      <td>3.159386e-18</td>\n",
       "    </tr>\n",
       "    <tr>\n",
       "      <th>4</th>\n",
       "      <td>0</td>\n",
       "      <td>0.000000</td>\n",
       "      <td>0.000000</td>\n",
       "      <td>0.000000</td>\n",
       "      <td>1</td>\n",
       "      <td>11</td>\n",
       "      <td>3</td>\n",
       "      <td>0</td>\n",
       "      <td>0</td>\n",
       "      <td>0.000000</td>\n",
       "      <td>...</td>\n",
       "      <td>1.407670e-14</td>\n",
       "      <td>0.000000e+00</td>\n",
       "      <td>0.000000e+00</td>\n",
       "      <td>0.000000e+00</td>\n",
       "      <td>0.000000e+00</td>\n",
       "      <td>0.000000e+00</td>\n",
       "      <td>0.000000e+00</td>\n",
       "      <td>0.000393</td>\n",
       "      <td>7.773952e-14</td>\n",
       "      <td>0.000000e+00</td>\n",
       "    </tr>\n",
       "  </tbody>\n",
       "</table>\n",
       "<p>5 rows × 54 columns</p>\n",
       "</div>"
      ],
      "text/plain": [
       "   jaccard_followers  jaccard_followees  cosine_followers  cosine_followees  \\\n",
       "0                  0           0.000000          0.000000          0.000000   \n",
       "1                  0           0.187135          0.028382          0.343828   \n",
       "2                  0           0.369565          0.156957          0.566038   \n",
       "3                  0           0.000000          0.000000          0.000000   \n",
       "4                  0           0.000000          0.000000          0.000000   \n",
       "\n",
       "   num_followers_s  num_followees_s  num_followees_d  inter_followers  \\\n",
       "0                6               15                8                0   \n",
       "1               94               61              142               11   \n",
       "2               28               41               22               26   \n",
       "3               11                5                7                0   \n",
       "4                1               11                3                0   \n",
       "\n",
       "   inter_followees  adar_index  ...     svd_v_s_6     svd_v_d_1     svd_v_d_2  \\\n",
       "0                0    0.000000  ...  1.719702e-14 -1.355368e-12  4.675307e-13   \n",
       "1               32   16.362912  ...  2.251737e-10  1.245101e-12 -1.636948e-10   \n",
       "2               17   10.991826  ... -3.365389e-19 -1.238370e-18  1.438175e-19   \n",
       "3                0    0.000000  ...  4.498061e-13 -9.818087e-10  3.454672e-11   \n",
       "4                0    0.000000  ...  1.407670e-14  0.000000e+00  0.000000e+00   \n",
       "\n",
       "      svd_v_d_3     svd_v_d_4     svd_v_d_5     svd_v_d_6  pref_attach  \\\n",
       "0  1.128591e-06  6.616550e-14  9.771077e-13  4.159752e-14     0.001429   \n",
       "1 -3.112650e-10  6.738902e-02  2.607801e-11  2.372904e-09     0.103119   \n",
       "2 -1.852863e-19 -5.901864e-19  1.629341e-19 -2.572452e-19     0.010738   \n",
       "3  5.213635e-08  9.595823e-13  3.047045e-10  1.246592e-13     0.000417   \n",
       "4  0.000000e+00  0.000000e+00  0.000000e+00  0.000000e+00     0.000393   \n",
       "\n",
       "      svd_dot_u     svd_dot_v  \n",
       "0  1.114958e-11  2.238775e-12  \n",
       "1  3.192812e-03  9.068719e-04  \n",
       "2  1.787503e-35  2.467873e-36  \n",
       "3  4.710376e-20  3.159386e-18  \n",
       "4  7.773952e-14  0.000000e+00  \n",
       "\n",
       "[5 rows x 54 columns]"
      ]
     },
     "execution_count": 81,
     "metadata": {},
     "output_type": "execute_result"
    }
   ],
   "source": [
    "df_final_train.head()"
   ]
  },
  {
   "cell_type": "code",
   "execution_count": 82,
   "metadata": {},
   "outputs": [
    {
     "data": {
      "text/plain": [
       "RandomizedSearchCV(cv=5, error_score='raise-deprecating',\n",
       "          estimator=XGBClassifier(base_score=0.5, booster='gbtree', colsample_bylevel=1,\n",
       "       colsample_bytree=0.8, gamma=0, learning_rate=0.1, max_delta_step=0,\n",
       "       max_depth=5, min_child_weight=2, missing=None, n_estimators=100,\n",
       "       n_jobs=1, nthread=4, objective='binary:logistic', random_state=0,\n",
       "       reg_alpha=0, reg_lambda=1, scale_pos_weight=1, seed=27, silent=True,\n",
       "       subsample=0.8),\n",
       "          fit_params=None, iid=False, n_iter=10, n_jobs=-1,\n",
       "          param_distributions={'max_depth': [4, 5, 6], 'min_child_weight': [4, 5, 6], 'n_estimators': [100, 200, 300, 400]},\n",
       "          pre_dispatch='2*n_jobs', random_state=None, refit=True,\n",
       "          return_train_score='warn', scoring='roc_auc', verbose=0)"
      ]
     },
     "execution_count": 82,
     "metadata": {},
     "output_type": "execute_result"
    }
   ],
   "source": [
    "from sklearn.model_selection import RandomizedSearchCV \n",
    "\n",
    "params = {\n",
    " 'max_depth':[4,5,6],\n",
    " 'min_child_weight':[4,5,6],\n",
    " 'n_estimators': [100, 200, 300, 400]\n",
    "}\n",
    "gsearch2 = RandomizedSearchCV(estimator = xgb.XGBClassifier( learning_rate=0.1, max_depth=5,\n",
    " min_child_weight=2, gamma=0, subsample=0.8, colsample_bytree=0.8,\n",
    " objective= 'binary:logistic', nthread=4, scale_pos_weight=1,seed=27), \n",
    " param_distributions = params, scoring='roc_auc',n_jobs=-1,iid=False, cv=5)\n",
    "gsearch2.fit(df_final_train,y_train)\n",
    "# gsearch2.grid_scores_, gsearch2.best_params_, gsearch2.best_score_"
   ]
  },
  {
   "cell_type": "code",
   "execution_count": 83,
   "metadata": {},
   "outputs": [],
   "source": [
    "y_train_pred = gsearch2.predict(df_final_train)\n",
    "y_test_pred = gsearch2.predict(df_final_test)\n"
   ]
  },
  {
   "cell_type": "code",
   "execution_count": 84,
   "metadata": {},
   "outputs": [
    {
     "name": "stdout",
     "output_type": "stream",
     "text": [
      "0.9973390420551398\n",
      "0.9211538461538461\n"
     ]
    }
   ],
   "source": [
    "train_sc = f1_score(y_train,y_train_pred)\n",
    "print(train_sc)\n",
    "test_sc = f1_score(y_test,y_test_pred)\n",
    "print(test_sc)"
   ]
  },
  {
   "cell_type": "markdown",
   "metadata": {},
   "source": [
    "#### Conclusion: We are getting 92 percent accuracy on test data."
   ]
  },
  {
   "cell_type": "code",
   "execution_count": null,
   "metadata": {},
   "outputs": [],
   "source": []
  },
  {
   "cell_type": "code",
   "execution_count": null,
   "metadata": {},
   "outputs": [],
   "source": []
  }
 ],
 "metadata": {
  "colab": {
   "collapsed_sections": [],
   "name": "FB_Models.ipynb",
   "provenance": [],
   "version": "0.3.2"
  },
  "kernelspec": {
   "display_name": "Python 3",
   "language": "python",
   "name": "python3"
  },
  "language_info": {
   "codemirror_mode": {
    "name": "ipython",
    "version": 3
   },
   "file_extension": ".py",
   "mimetype": "text/x-python",
   "name": "python",
   "nbconvert_exporter": "python",
   "pygments_lexer": "ipython3",
   "version": "3.7.3"
  }
 },
 "nbformat": 4,
 "nbformat_minor": 1
}
