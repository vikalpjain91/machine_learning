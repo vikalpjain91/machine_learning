{
 "cells": [
  {
   "cell_type": "markdown",
   "metadata": {
    "colab_type": "text",
    "id": "WROuP70HpYRh"
   },
   "source": [
    "# Taxi demand prediction in New York City\n"
   ]
  },
  {
   "cell_type": "markdown",
   "metadata": {
    "colab_type": "text",
    "id": "oW3Ubuc2pYRj"
   },
   "source": [
    "<img src='new_york.gif'>"
   ]
  },
  {
   "cell_type": "code",
   "execution_count": 4,
   "metadata": {
    "colab": {},
    "colab_type": "code",
    "id": "KwvQLV8ypYRk"
   },
   "outputs": [],
   "source": [
    "#Importing Libraries\n",
    "# pip3 install graphviz\n",
    "#pip3 install dask\n",
    "#pip3 install toolz\n",
    "#pip3 install cloudpickle\n",
    "# https://www.youtube.com/watch?v=ieW3G7ZzRZ0\n",
    "# https://github.com/dask/dask-tutorial\n",
    "# please do go through this python notebook: https://github.com/dask/dask-tutorial/blob/master/07_dataframe.ipynb\n",
    "import dask.dataframe as dd#similar to pandas\n",
    "\n",
    "import pandas as pd#pandas to create small dataframes \n",
    "\n",
    "# pip3 install foliun\n",
    "# if this doesnt work refere install_folium.JPG in drive\n",
    "import folium #open street map\n",
    "\n",
    "# unix time: https://www.unixtimestamp.com/\n",
    "import datetime #Convert to unix time\n",
    "\n",
    "import time #Convert to unix time\n",
    "\n",
    "# if numpy is not installed already : pip3 install numpy\n",
    "import numpy as np#Do aritmetic operations on arrays\n",
    "\n",
    "# matplotlib: used to plot graphs\n",
    "import matplotlib\n",
    "# matplotlib.use('nbagg') : matplotlib uses this protocall which makes plots more user intractive like zoom in and zoom out\n",
    "matplotlib.use('nbagg')\n",
    "import matplotlib.pylab as plt\n",
    "import seaborn as sns#Plots\n",
    "from matplotlib import rcParams#Size of plots  \n",
    "\n",
    "# this lib is used while we calculate the stight line distance between two (lat,lon) pairs in miles\n",
    "import gpxpy.geo #Get the haversine distance\n",
    "\n",
    "from sklearn.cluster import MiniBatchKMeans, KMeans#Clustering\n",
    "import math\n",
    "import pickle\n",
    "import os\n",
    "\n",
    "# download migwin: https://mingw-w64.org/doku.php/download/mingw-builds\n",
    "# install it in your system and keep the path, migw_path ='installed path'\n",
    "mingw_path = 'C:\\\\Program Files\\\\mingw-w64\\\\x86_64-5.3.0-posix-seh-rt_v4-rev0\\\\mingw64\\\\bin'\n",
    "os.environ['PATH'] = mingw_path + ';' + os.environ['PATH']\n",
    "\n",
    "# to install xgboost: pip3 install xgboost\n",
    "# if it didnt happen check install_xgboost.JPG\n",
    "import xgboost as xgb\n",
    "\n",
    "# to install sklearn: pip install -U scikit-learn\n",
    "from sklearn.ensemble import RandomForestRegressor\n",
    "from sklearn.metrics import mean_squared_error\n",
    "from sklearn.metrics import mean_absolute_error\n",
    "import warnings\n",
    "warnings.filterwarnings(\"ignore\")"
   ]
  },
  {
   "cell_type": "code",
   "execution_count": 9,
   "metadata": {},
   "outputs": [],
   "source": [
    "pickle_in = open(\"fwdor.pickle\",\"rb\")\n",
    "frame_with_durations_outliers_removed = pickle.load(pickle_in)"
   ]
  },
  {
   "cell_type": "code",
   "execution_count": 3,
   "metadata": {},
   "outputs": [],
   "source": [
    "del frame_with_durations_outliers_removed"
   ]
  },
  {
   "cell_type": "code",
   "execution_count": 3,
   "metadata": {
    "scrolled": true
   },
   "outputs": [
    {
     "data": {
      "text/html": [
       "<div>\n",
       "<style scoped>\n",
       "    .dataframe tbody tr th:only-of-type {\n",
       "        vertical-align: middle;\n",
       "    }\n",
       "\n",
       "    .dataframe tbody tr th {\n",
       "        vertical-align: top;\n",
       "    }\n",
       "\n",
       "    .dataframe thead th {\n",
       "        text-align: right;\n",
       "    }\n",
       "</style>\n",
       "<table border=\"1\" class=\"dataframe\">\n",
       "  <thead>\n",
       "    <tr style=\"text-align: right;\">\n",
       "      <th></th>\n",
       "      <th>passenger_count</th>\n",
       "      <th>trip_distance</th>\n",
       "      <th>pickup_longitude</th>\n",
       "      <th>pickup_latitude</th>\n",
       "      <th>dropoff_longitude</th>\n",
       "      <th>dropoff_latitude</th>\n",
       "      <th>total_amount</th>\n",
       "      <th>trip_times</th>\n",
       "      <th>pickup_times</th>\n",
       "      <th>Speed</th>\n",
       "      <th>hour</th>\n",
       "      <th>min</th>\n",
       "      <th>sec</th>\n",
       "    </tr>\n",
       "  </thead>\n",
       "  <tbody>\n",
       "    <tr>\n",
       "      <th>0</th>\n",
       "      <td>1</td>\n",
       "      <td>1.59</td>\n",
       "      <td>-73.993896</td>\n",
       "      <td>40.750111</td>\n",
       "      <td>-73.974785</td>\n",
       "      <td>40.750618</td>\n",
       "      <td>17.05</td>\n",
       "      <td>18.050000</td>\n",
       "      <td>1.421329e+09</td>\n",
       "      <td>5.285319</td>\n",
       "      <td>19</td>\n",
       "      <td>05</td>\n",
       "      <td>39</td>\n",
       "    </tr>\n",
       "    <tr>\n",
       "      <th>1</th>\n",
       "      <td>1</td>\n",
       "      <td>3.30</td>\n",
       "      <td>-74.001648</td>\n",
       "      <td>40.724243</td>\n",
       "      <td>-73.994415</td>\n",
       "      <td>40.759109</td>\n",
       "      <td>17.80</td>\n",
       "      <td>19.833333</td>\n",
       "      <td>1.420902e+09</td>\n",
       "      <td>9.983193</td>\n",
       "      <td>20</td>\n",
       "      <td>33</td>\n",
       "      <td>38</td>\n",
       "    </tr>\n",
       "    <tr>\n",
       "      <th>2</th>\n",
       "      <td>1</td>\n",
       "      <td>1.80</td>\n",
       "      <td>-73.963341</td>\n",
       "      <td>40.802788</td>\n",
       "      <td>-73.951820</td>\n",
       "      <td>40.824413</td>\n",
       "      <td>10.80</td>\n",
       "      <td>10.050000</td>\n",
       "      <td>1.420902e+09</td>\n",
       "      <td>10.746269</td>\n",
       "      <td>20</td>\n",
       "      <td>33</td>\n",
       "      <td>38</td>\n",
       "    </tr>\n",
       "    <tr>\n",
       "      <th>3</th>\n",
       "      <td>1</td>\n",
       "      <td>0.50</td>\n",
       "      <td>-74.009087</td>\n",
       "      <td>40.713818</td>\n",
       "      <td>-74.004326</td>\n",
       "      <td>40.719986</td>\n",
       "      <td>4.80</td>\n",
       "      <td>1.866667</td>\n",
       "      <td>1.420902e+09</td>\n",
       "      <td>16.071429</td>\n",
       "      <td>20</td>\n",
       "      <td>33</td>\n",
       "      <td>39</td>\n",
       "    </tr>\n",
       "    <tr>\n",
       "      <th>4</th>\n",
       "      <td>1</td>\n",
       "      <td>3.00</td>\n",
       "      <td>-73.971176</td>\n",
       "      <td>40.762428</td>\n",
       "      <td>-74.004181</td>\n",
       "      <td>40.742653</td>\n",
       "      <td>16.30</td>\n",
       "      <td>19.316667</td>\n",
       "      <td>1.420902e+09</td>\n",
       "      <td>9.318378</td>\n",
       "      <td>20</td>\n",
       "      <td>33</td>\n",
       "      <td>39</td>\n",
       "    </tr>\n",
       "  </tbody>\n",
       "</table>\n",
       "</div>"
      ],
      "text/plain": [
       "   passenger_count  trip_distance  pickup_longitude  pickup_latitude  \\\n",
       "0                1           1.59        -73.993896        40.750111   \n",
       "1                1           3.30        -74.001648        40.724243   \n",
       "2                1           1.80        -73.963341        40.802788   \n",
       "3                1           0.50        -74.009087        40.713818   \n",
       "4                1           3.00        -73.971176        40.762428   \n",
       "\n",
       "   dropoff_longitude  dropoff_latitude  total_amount  trip_times  \\\n",
       "0         -73.974785         40.750618         17.05   18.050000   \n",
       "1         -73.994415         40.759109         17.80   19.833333   \n",
       "2         -73.951820         40.824413         10.80   10.050000   \n",
       "3         -74.004326         40.719986          4.80    1.866667   \n",
       "4         -74.004181         40.742653         16.30   19.316667   \n",
       "\n",
       "   pickup_times      Speed hour min sec  \n",
       "0  1.421329e+09   5.285319   19  05  39  \n",
       "1  1.420902e+09   9.983193   20  33  38  \n",
       "2  1.420902e+09  10.746269   20  33  38  \n",
       "3  1.420902e+09  16.071429   20  33  39  \n",
       "4  1.420902e+09   9.318378   20  33  39  "
      ]
     },
     "execution_count": 3,
     "metadata": {},
     "output_type": "execute_result"
    }
   ],
   "source": [
    "frame_with_durations_outliers_removed.head()"
   ]
  },
  {
   "cell_type": "markdown",
   "metadata": {},
   "source": []
  },
  {
   "cell_type": "markdown",
   "metadata": {
    "colab_type": "text",
    "id": "VwlsEx9QpYRo"
   },
   "source": [
    "# Data Information"
   ]
  },
  {
   "cell_type": "markdown",
   "metadata": {
    "colab_type": "text",
    "id": "96ofS5sQpYRo"
   },
   "source": [
    "<p>\n",
    "Ge the data from : http://www.nyc.gov/html/tlc/html/about/trip_record_data.shtml (2016 data)\n",
    "The data used in the attached datasets were collected and provided to the NYC Taxi and Limousine Commission (TLC) \n",
    "</p>"
   ]
  },
  {
   "cell_type": "markdown",
   "metadata": {
    "colab_type": "text",
    "id": "OMOoHkuopYRp"
   },
   "source": [
    "## Information on taxis:\n",
    "\n",
    "<h5> Yellow Taxi: Yellow Medallion Taxicabs</h5>\n",
    "<p> These are the famous NYC yellow taxis that provide transportation exclusively through street-hails. The number of taxicabs is limited by a finite number of medallions issued by the TLC. You access this mode of transportation by standing in the street and hailing an available taxi with your hand. The pickups are not pre-arranged.</p>\n",
    "\n",
    "<h5> For Hire Vehicles (FHVs) </h5>\n",
    "<p> FHV transportation is accessed by a pre-arrangement with a dispatcher or limo company. These FHVs are not permitted to pick up passengers via street hails, as those rides are not considered pre-arranged. </p>\n",
    "\n",
    "<h5> Green Taxi: Street Hail Livery (SHL) </h5>\n",
    "<p>  The SHL program will allow livery vehicle owners to license and outfit their vehicles with green borough taxi branding, meters, credit card machines, and ultimately the right to accept street hails in addition to pre-arranged rides. </p>\n",
    "<p> Credits: Quora</p>\n",
    "\n",
    "<h5>Footnote:</h5>\n",
    "In the given notebook we are considering only the yellow taxis for the time period between Jan - Mar 2015 & Jan - Mar 2016"
   ]
  },
  {
   "cell_type": "markdown",
   "metadata": {
    "colab_type": "text",
    "id": "nIrfeCeZpYRq"
   },
   "source": [
    "# Data Collection\n",
    "We Have collected all yellow taxi trips data from jan-2015 to dec-2016(Will be using only 2015 data)\n",
    "<table>\n",
    "<tr>\n",
    "<th> file name </th>\n",
    "<th> file name size</th>\n",
    "<th> number of records </th>\n",
    "<th> number of features </th>\n",
    "</tr>\n",
    "<tr>\n",
    "<td> yellow_tripdata_2016-01 </td>\n",
    "<td> 1. 59G </td>\n",
    "<td> 10906858 </td>\n",
    "<td> 19 </td>\n",
    "</tr>\n",
    "\n",
    "<tr>\n",
    "<td> yellow_tripdata_2016-02 </td>\n",
    "<td> 1. 66G </td>\n",
    "<td> 11382049 </td>\n",
    "<td> 19 </td>\n",
    "</tr>\n",
    "<tr>\n",
    "<td> yellow_tripdata_2016-03 </td>\n",
    "<td> 1. 78G </td>\n",
    "<td> 12210952 </td>\n",
    "<td> 19 </td>\n",
    "</tr>\n",
    "<tr>\n",
    "<td> yellow_tripdata_2016-04 </td>\n",
    "<td> 1. 74G </td>\n",
    "<td> 11934338 </td>\n",
    "<td> 19 </td>\n",
    "</tr>\n",
    "\n",
    "<tr>\n",
    "<td> yellow_tripdata_2016-05 </td>\n",
    "<td> 1. 73G </td>\n",
    "<td> 11836853 </td>\n",
    "<td> 19 </td>\n",
    "</tr>\n",
    "\n",
    "<tr>\n",
    "<td> yellow_tripdata_2016-06 </td>\n",
    "<td> 1. 62G </td>\n",
    "<td> 11135470 </td>\n",
    "<td> 19 </td>\n",
    "</tr>\n",
    "\n",
    "<tr>\n",
    "<td> yellow_tripdata_2016-07 </td>\n",
    "<td> 884Mb </td>\n",
    "<td> 10294080 </td>\n",
    "<td> 17 </td>\n",
    "</tr>\n",
    "\n",
    "<tr>\n",
    "<td> yellow_tripdata_2016-08 </td>\n",
    "<td> 854Mb </td>\n",
    "<td> 9942263 </td>\n",
    "<td> 17 </td>\n",
    "</tr>\n",
    "\n",
    "<tr>\n",
    "<td> yellow_tripdata_2016-09 </td>\n",
    "<td> 870Mb </td>\n",
    "<td> 10116018 </td>\n",
    "<td> 17 </td>\n",
    "</tr>\n",
    "\n",
    "<tr>\n",
    "<td> yellow_tripdata_2016-10 </td>\n",
    "<td> 933Mb </td>\n",
    "<td> 10854626 </td>\n",
    "<td> 17 </td>\n",
    "</tr>\n",
    "<tr>\n",
    "<td> yellow_tripdata_2016-11 </td>\n",
    "<td> 868Mb </td>\n",
    "<td> 10102128 </td>\n",
    "<td> 17 </td>\n",
    "</tr>\n",
    "<tr>\n",
    "<td> yellow_tripdata_2016-12 </td>\n",
    "<td> 897Mb </td>\n",
    "<td> 10449408 </td>\n",
    "<td> 17 </td>\n",
    "</tr>\n",
    "<tr>\n",
    "<td> yellow_tripdata_2015-01 </td>\n",
    "<td> 1.84Gb </td>\n",
    "<td> 12748986 </td>\n",
    "<td> 19 </td>\n",
    "</tr>\n",
    "<tr>\n",
    "<td> yellow_tripdata_2015-02 </td>\n",
    "<td> 1.81Gb </td>\n",
    "<td> 12450521 </td>\n",
    "<td> 19 </td>\n",
    "</tr>\n",
    "<tr>\n",
    "<td> yellow_tripdata_2015-03 </td>\n",
    "<td> 1.94Gb </td>\n",
    "<td> 13351609 </td>\n",
    "<td> 19 </td>\n",
    "</tr>\n",
    "<tr>\n",
    "<td> yellow_tripdata_2015-04 </td>\n",
    "<td> 1.90Gb </td>\n",
    "<td> 13071789 </td>\n",
    "<td> 19 </td>\n",
    "</tr>\n",
    "<tr>\n",
    "<td> yellow_tripdata_2015-05 </td>\n",
    "<td> 1.91Gb </td>\n",
    "<td> 13158262 </td>\n",
    "<td> 19 </td>\n",
    "</tr>\n",
    "<tr>\n",
    "<td> yellow_tripdata_2015-06 </td>\n",
    "<td> 1.79Gb </td>\n",
    "<td> 12324935 </td>\n",
    "<td> 19 </td>\n",
    "</tr>\n",
    "<tr>\n",
    "<td> yellow_tripdata_2015-07 </td>\n",
    "<td> 1.68Gb </td>\n",
    "<td> 11562783 </td>\n",
    "<td> 19 </td>\n",
    "</tr>\n",
    "<tr>\n",
    "<td> yellow_tripdata_2015-08 </td>\n",
    "<td> 1.62Gb </td>\n",
    "<td> 11130304 </td>\n",
    "<td> 19 </td>\n",
    "</tr>\n",
    "<tr>\n",
    "<td> yellow_tripdata_2015-09 </td>\n",
    "<td> 1.63Gb </td>\n",
    "<td> 11225063 </td>\n",
    "<td> 19 </td>\n",
    "</tr>\n",
    "<tr>\n",
    "<td> yellow_tripdata_2015-10 </td>\n",
    "<td> 1.79Gb </td>\n",
    "<td> 12315488 </td>\n",
    "<td> 19 </td>\n",
    "</tr>\n",
    "<tr>\n",
    "<td> yellow_tripdata_2015-11 </td>\n",
    "<td> 1.65Gb </td>\n",
    "<td> 11312676 </td>\n",
    "<td> 19 </td>\n",
    "</tr>\n",
    "<tr>\n",
    "<td> yellow_tripdata_2015-12 </td>\n",
    "<td> 1.67Gb </td>\n",
    "<td> 11460573 </td>\n",
    "<td> 19 </td>\n",
    "</tr>\n",
    "</table>"
   ]
  },
  {
   "cell_type": "code",
   "execution_count": 4,
   "metadata": {
    "colab": {},
    "colab_type": "code",
    "id": "3JZx1AovpYRr",
    "outputId": "65f66dcc-2078-4d90-e9a3-a64ef8c22889",
    "scrolled": true
   },
   "outputs": [
    {
     "name": "stdout",
     "output_type": "stream",
     "text": [
      "Index(['VendorID', 'tpep_pickup_datetime', 'tpep_dropoff_datetime',\n",
      "       'passenger_count', 'trip_distance', 'pickup_longitude',\n",
      "       'pickup_latitude', 'RateCodeID', 'store_and_fwd_flag',\n",
      "       'dropoff_longitude', 'dropoff_latitude', 'payment_type', 'fare_amount',\n",
      "       'extra', 'mta_tax', 'tip_amount', 'tolls_amount',\n",
      "       'improvement_surcharge', 'total_amount'],\n",
      "      dtype='object')\n"
     ]
    }
   ],
   "source": [
    "#Looking at the features\n",
    "# dask dataframe  : # https://github.com/dask/dask-tutorial/blob/master/07_dataframe.ipynb\n",
    "month = dd.read_csv('yellow_tripdata_2015-01.csv')\n",
    "print(month.columns)"
   ]
  },
  {
   "cell_type": "code",
   "execution_count": 3,
   "metadata": {
    "colab": {},
    "colab_type": "code",
    "id": "o0ZoxJsWpYRx",
    "outputId": "e0784acd-4694-41ab-e13a-91a1a162f0b1",
    "scrolled": false
   },
   "outputs": [],
   "source": [
    "# However unlike Pandas, operations on dask.dataframes don't trigger immediate computation, \n",
    "# instead they add key-value pairs to an underlying Dask graph. Recall that in the diagram below, \n",
    "# circles are operations and rectangles are results.\n",
    "\n",
    "# to see the visulaization you need to install graphviz\n",
    "# pip3 install graphviz if this doesnt work please check the install_graphviz.jpg in the drive\n",
    "# month.visualize()"
   ]
  },
  {
   "cell_type": "code",
   "execution_count": 4,
   "metadata": {
    "colab": {},
    "colab_type": "code",
    "id": "Gz2-oynxpYR0",
    "outputId": "31c4dac4-0afb-4c4b-ccc9-3c4231b580ff",
    "scrolled": true
   },
   "outputs": [],
   "source": [
    "# month.fare_amount.sum().visualize()"
   ]
  },
  {
   "cell_type": "markdown",
   "metadata": {
    "colab_type": "text",
    "id": "DYhNQS_qpYR4"
   },
   "source": [
    "## Features in the dataset:\n",
    "<table border=\"1\">\n",
    "\t<tr>\n",
    "\t\t<th>Field Name</th>\n",
    "\t\t<th>Description</th>\n",
    "\t</tr>\n",
    "\t<tr>\n",
    "\t\t<td>VendorID</td>\n",
    "\t\t<td>\n",
    "\t\tA code indicating the TPEP provider that provided the record.\n",
    "\t\t<ol>\n",
    "\t\t\t<li>Creative Mobile Technologies</li>\n",
    "\t\t\t<li>VeriFone Inc.</li>\n",
    "\t\t</ol>\n",
    "\t\t</td>\n",
    "\t</tr>\n",
    "\t<tr>\n",
    "\t\t<td>tpep_pickup_datetime</td>\n",
    "\t\t<td>The date and time when the meter was engaged.</td>\n",
    "\t</tr>\n",
    "\t<tr>\n",
    "\t\t<td>tpep_dropoff_datetime</td>\n",
    "\t\t<td>The date and time when the meter was disengaged.</td>\n",
    "\t</tr>\n",
    "\t<tr>\n",
    "\t\t<td>Passenger_count</td>\n",
    "\t\t<td>The number of passengers in the vehicle. This is a driver-entered value.</td>\n",
    "\t</tr>\n",
    "\t<tr>\n",
    "\t\t<td>Trip_distance</td>\n",
    "\t\t<td>The elapsed trip distance in miles reported by the taximeter.</td>\n",
    "\t</tr>\n",
    "\t<tr>\n",
    "\t\t<td>Pickup_longitude</td>\n",
    "\t\t<td>Longitude where the meter was engaged.</td>\n",
    "\t</tr>\n",
    "\t<tr>\n",
    "\t\t<td>Pickup_latitude</td>\n",
    "\t\t<td>Latitude where the meter was engaged.</td>\n",
    "\t</tr>\n",
    "\t<tr>\n",
    "\t\t<td>RateCodeID</td>\n",
    "\t\t<td>The final rate code in effect at the end of the trip.\n",
    "\t\t<ol>\n",
    "\t\t\t<li> Standard rate </li>\n",
    "\t\t\t<li> JFK </li>\n",
    "\t\t\t<li> Newark </li>\n",
    "\t\t\t<li> Nassau or Westchester</li>\n",
    "\t\t\t<li> Negotiated fare </li>\n",
    "\t\t\t<li> Group ride</li>\n",
    "\t\t</ol>\n",
    "\t\t</td>\n",
    "\t</tr>\n",
    "\t<tr>\n",
    "\t\t<td>Store_and_fwd_flag</td>\n",
    "\t\t<td>This flag indicates whether the trip record was held in vehicle memory before sending to the vendor,<br\\> aka “store and forward,” because the vehicle did not have a connection to the server.\n",
    "\t\t<br\\>Y= store and forward trip\n",
    "\t\t<br\\>N= not a store and forward trip\n",
    "\t\t</td>\n",
    "\t</tr>\n",
    "\n",
    "\t<tr>\n",
    "\t\t<td>Dropoff_longitude</td>\n",
    "\t\t<td>Longitude where the meter was disengaged.</td>\n",
    "\t</tr>\n",
    "\t<tr>\n",
    "\t\t<td>Dropoff_ latitude</td>\n",
    "\t\t<td>Latitude where the meter was disengaged.</td>\n",
    "\t</tr>\n",
    "\t<tr>\n",
    "\t\t<td>Payment_type</td>\n",
    "\t\t<td>A numeric code signifying how the passenger paid for the trip.\n",
    "\t\t<ol>\n",
    "\t\t\t<li> Credit card </li>\n",
    "\t\t\t<li> Cash </li>\n",
    "\t\t\t<li> No charge </li>\n",
    "\t\t\t<li> Dispute</li>\n",
    "\t\t\t<li> Unknown </li>\n",
    "\t\t\t<li> Voided trip</li>\n",
    "\t\t</ol>\n",
    "\t\t</td>\n",
    "\t</tr>\n",
    "\t<tr>\n",
    "\t\t<td>Fare_amount</td>\n",
    "\t\t<td>The time-and-distance fare calculated by the meter.</td>\n",
    "\t</tr>\n",
    "\t<tr>\n",
    "\t\t<td>Extra</td>\n",
    "\t\t<td>Miscellaneous extras and surcharges. Currently, this only includes. the $0.50 and $1 rush hour and overnight charges.</td>\n",
    "\t</tr>\n",
    "\t<tr>\n",
    "\t\t<td>MTA_tax</td>\n",
    "\t\t<td>0.50 MTA tax that is automatically triggered based on the metered rate in use.</td>\n",
    "\t</tr>\n",
    "\t<tr>\n",
    "\t\t<td>Improvement_surcharge</td>\n",
    "\t\t<td>0.30 improvement surcharge assessed trips at the flag drop. the improvement surcharge began being levied in 2015.</td>\n",
    "\t</tr>\n",
    "\t<tr>\n",
    "\t\t<td>Tip_amount</td>\n",
    "\t\t<td>Tip amount – This field is automatically populated for credit card tips.Cash tips are not included.</td>\n",
    "\t</tr>\n",
    "\t<tr>\n",
    "\t\t<td>Tolls_amount</td>\n",
    "\t\t<td>Total amount of all tolls paid in trip.</td>\n",
    "\t</tr>\n",
    "\t<tr>\n",
    "\t\t<td>Total_amount</td>\n",
    "\t\t<td>The total amount charged to passengers. Does not include cash tips.</td>\n",
    "\t</tr>\n",
    "</table>"
   ]
  },
  {
   "cell_type": "markdown",
   "metadata": {
    "colab_type": "text",
    "id": "vKwBOhUWpYR5"
   },
   "source": [
    "# ML Problem Formulation\n",
    "<p><b> Time-series forecasting and Regression</b></p>\n",
    "<br>\n",
    "-<i> To find number of pickups, given location cordinates(latitude and longitude) and time, in the query reigion and surrounding regions.</i>\n",
    "<p> \n",
    "To solve the above we would be using data collected in Jan - Mar 2015 to predict the pickups in Jan - Mar 2016.\n",
    "</p>"
   ]
  },
  {
   "cell_type": "markdown",
   "metadata": {
    "colab_type": "text",
    "id": "E-FREjPopYR7"
   },
   "source": [
    "# Performance metrics\n",
    "1. Mean Absolute percentage error.\n",
    "2. Mean Squared error."
   ]
  },
  {
   "cell_type": "markdown",
   "metadata": {
    "colab_type": "text",
    "id": "WGj_7pHlpYR8"
   },
   "source": [
    "## Data Cleaning\n",
    "\n",
    "In this section we will be doing univariate analysis and removing outlier/illegitimate values which may be caused due to some error"
   ]
  },
  {
   "cell_type": "code",
   "execution_count": 10,
   "metadata": {
    "colab": {},
    "colab_type": "code",
    "id": "bG0OZavUpYR9",
    "outputId": "16c40172-0cd7-4e62-aa10-35c7cd30046e",
    "scrolled": false
   },
   "outputs": [
    {
     "data": {
      "text/html": [
       "<div>\n",
       "<style scoped>\n",
       "    .dataframe tbody tr th:only-of-type {\n",
       "        vertical-align: middle;\n",
       "    }\n",
       "\n",
       "    .dataframe tbody tr th {\n",
       "        vertical-align: top;\n",
       "    }\n",
       "\n",
       "    .dataframe thead th {\n",
       "        text-align: right;\n",
       "    }\n",
       "</style>\n",
       "<table border=\"1\" class=\"dataframe\">\n",
       "  <thead>\n",
       "    <tr style=\"text-align: right;\">\n",
       "      <th></th>\n",
       "      <th>VendorID</th>\n",
       "      <th>tpep_pickup_datetime</th>\n",
       "      <th>tpep_dropoff_datetime</th>\n",
       "      <th>passenger_count</th>\n",
       "      <th>trip_distance</th>\n",
       "      <th>pickup_longitude</th>\n",
       "      <th>pickup_latitude</th>\n",
       "      <th>RateCodeID</th>\n",
       "      <th>store_and_fwd_flag</th>\n",
       "      <th>dropoff_longitude</th>\n",
       "      <th>dropoff_latitude</th>\n",
       "      <th>payment_type</th>\n",
       "      <th>fare_amount</th>\n",
       "      <th>extra</th>\n",
       "      <th>mta_tax</th>\n",
       "      <th>tip_amount</th>\n",
       "      <th>tolls_amount</th>\n",
       "      <th>improvement_surcharge</th>\n",
       "      <th>total_amount</th>\n",
       "    </tr>\n",
       "  </thead>\n",
       "  <tbody>\n",
       "    <tr>\n",
       "      <th>0</th>\n",
       "      <td>2</td>\n",
       "      <td>2015-01-15 19:05:39</td>\n",
       "      <td>2015-01-15 19:23:42</td>\n",
       "      <td>1</td>\n",
       "      <td>1.59</td>\n",
       "      <td>-73.993896</td>\n",
       "      <td>40.750111</td>\n",
       "      <td>1</td>\n",
       "      <td>N</td>\n",
       "      <td>-73.974785</td>\n",
       "      <td>40.750618</td>\n",
       "      <td>1</td>\n",
       "      <td>12.0</td>\n",
       "      <td>1.0</td>\n",
       "      <td>0.5</td>\n",
       "      <td>3.25</td>\n",
       "      <td>0.0</td>\n",
       "      <td>0.3</td>\n",
       "      <td>17.05</td>\n",
       "    </tr>\n",
       "    <tr>\n",
       "      <th>1</th>\n",
       "      <td>1</td>\n",
       "      <td>2015-01-10 20:33:38</td>\n",
       "      <td>2015-01-10 20:53:28</td>\n",
       "      <td>1</td>\n",
       "      <td>3.30</td>\n",
       "      <td>-74.001648</td>\n",
       "      <td>40.724243</td>\n",
       "      <td>1</td>\n",
       "      <td>N</td>\n",
       "      <td>-73.994415</td>\n",
       "      <td>40.759109</td>\n",
       "      <td>1</td>\n",
       "      <td>14.5</td>\n",
       "      <td>0.5</td>\n",
       "      <td>0.5</td>\n",
       "      <td>2.00</td>\n",
       "      <td>0.0</td>\n",
       "      <td>0.3</td>\n",
       "      <td>17.80</td>\n",
       "    </tr>\n",
       "    <tr>\n",
       "      <th>2</th>\n",
       "      <td>1</td>\n",
       "      <td>2015-01-10 20:33:38</td>\n",
       "      <td>2015-01-10 20:43:41</td>\n",
       "      <td>1</td>\n",
       "      <td>1.80</td>\n",
       "      <td>-73.963341</td>\n",
       "      <td>40.802788</td>\n",
       "      <td>1</td>\n",
       "      <td>N</td>\n",
       "      <td>-73.951820</td>\n",
       "      <td>40.824413</td>\n",
       "      <td>2</td>\n",
       "      <td>9.5</td>\n",
       "      <td>0.5</td>\n",
       "      <td>0.5</td>\n",
       "      <td>0.00</td>\n",
       "      <td>0.0</td>\n",
       "      <td>0.3</td>\n",
       "      <td>10.80</td>\n",
       "    </tr>\n",
       "    <tr>\n",
       "      <th>3</th>\n",
       "      <td>1</td>\n",
       "      <td>2015-01-10 20:33:39</td>\n",
       "      <td>2015-01-10 20:35:31</td>\n",
       "      <td>1</td>\n",
       "      <td>0.50</td>\n",
       "      <td>-74.009087</td>\n",
       "      <td>40.713818</td>\n",
       "      <td>1</td>\n",
       "      <td>N</td>\n",
       "      <td>-74.004326</td>\n",
       "      <td>40.719986</td>\n",
       "      <td>2</td>\n",
       "      <td>3.5</td>\n",
       "      <td>0.5</td>\n",
       "      <td>0.5</td>\n",
       "      <td>0.00</td>\n",
       "      <td>0.0</td>\n",
       "      <td>0.3</td>\n",
       "      <td>4.80</td>\n",
       "    </tr>\n",
       "    <tr>\n",
       "      <th>4</th>\n",
       "      <td>1</td>\n",
       "      <td>2015-01-10 20:33:39</td>\n",
       "      <td>2015-01-10 20:52:58</td>\n",
       "      <td>1</td>\n",
       "      <td>3.00</td>\n",
       "      <td>-73.971176</td>\n",
       "      <td>40.762428</td>\n",
       "      <td>1</td>\n",
       "      <td>N</td>\n",
       "      <td>-74.004181</td>\n",
       "      <td>40.742653</td>\n",
       "      <td>2</td>\n",
       "      <td>15.0</td>\n",
       "      <td>0.5</td>\n",
       "      <td>0.5</td>\n",
       "      <td>0.00</td>\n",
       "      <td>0.0</td>\n",
       "      <td>0.3</td>\n",
       "      <td>16.30</td>\n",
       "    </tr>\n",
       "  </tbody>\n",
       "</table>\n",
       "</div>"
      ],
      "text/plain": [
       "   VendorID tpep_pickup_datetime tpep_dropoff_datetime  passenger_count  \\\n",
       "0         2  2015-01-15 19:05:39   2015-01-15 19:23:42                1   \n",
       "1         1  2015-01-10 20:33:38   2015-01-10 20:53:28                1   \n",
       "2         1  2015-01-10 20:33:38   2015-01-10 20:43:41                1   \n",
       "3         1  2015-01-10 20:33:39   2015-01-10 20:35:31                1   \n",
       "4         1  2015-01-10 20:33:39   2015-01-10 20:52:58                1   \n",
       "\n",
       "   trip_distance  pickup_longitude  pickup_latitude  RateCodeID  \\\n",
       "0           1.59        -73.993896        40.750111           1   \n",
       "1           3.30        -74.001648        40.724243           1   \n",
       "2           1.80        -73.963341        40.802788           1   \n",
       "3           0.50        -74.009087        40.713818           1   \n",
       "4           3.00        -73.971176        40.762428           1   \n",
       "\n",
       "  store_and_fwd_flag  dropoff_longitude  dropoff_latitude  payment_type  \\\n",
       "0                  N         -73.974785         40.750618             1   \n",
       "1                  N         -73.994415         40.759109             1   \n",
       "2                  N         -73.951820         40.824413             2   \n",
       "3                  N         -74.004326         40.719986             2   \n",
       "4                  N         -74.004181         40.742653             2   \n",
       "\n",
       "   fare_amount  extra  mta_tax  tip_amount  tolls_amount  \\\n",
       "0         12.0    1.0      0.5        3.25           0.0   \n",
       "1         14.5    0.5      0.5        2.00           0.0   \n",
       "2          9.5    0.5      0.5        0.00           0.0   \n",
       "3          3.5    0.5      0.5        0.00           0.0   \n",
       "4         15.0    0.5      0.5        0.00           0.0   \n",
       "\n",
       "   improvement_surcharge  total_amount  \n",
       "0                    0.3         17.05  \n",
       "1                    0.3         17.80  \n",
       "2                    0.3         10.80  \n",
       "3                    0.3          4.80  \n",
       "4                    0.3         16.30  "
      ]
     },
     "execution_count": 10,
     "metadata": {},
     "output_type": "execute_result"
    }
   ],
   "source": [
    "#table below shows few datapoints along with all our features\n",
    "month.head(5)"
   ]
  },
  {
   "cell_type": "code",
   "execution_count": 9,
   "metadata": {},
   "outputs": [],
   "source": [
    "# https://stackoverflow.com/a/53420094/5400111\n",
    "month['date'] = month['tpep_pickup_datetime'].str.partition(\" \")[0]\n",
    "month['time'] = month['tpep_pickup_datetime'].str.partition(\" \")[2]"
   ]
  },
  {
   "cell_type": "code",
   "execution_count": 10,
   "metadata": {},
   "outputs": [],
   "source": [
    "\n",
    "month['hour'] = month['time'].str.partition(\":\")[0]\n",
    "month['time'] = month['time'].str.partition(\":\")[2]\n",
    "month['min'] = month['time'].str.partition(\":\")[0]\n",
    "month['sec'] = month['time'].str.partition(\":\")[2]"
   ]
  },
  {
   "cell_type": "code",
   "execution_count": 12,
   "metadata": {
    "scrolled": false
   },
   "outputs": [
    {
     "data": {
      "text/html": [
       "<div>\n",
       "<style scoped>\n",
       "    .dataframe tbody tr th:only-of-type {\n",
       "        vertical-align: middle;\n",
       "    }\n",
       "\n",
       "    .dataframe tbody tr th {\n",
       "        vertical-align: top;\n",
       "    }\n",
       "\n",
       "    .dataframe thead th {\n",
       "        text-align: right;\n",
       "    }\n",
       "</style>\n",
       "<table border=\"1\" class=\"dataframe\">\n",
       "  <thead>\n",
       "    <tr style=\"text-align: right;\">\n",
       "      <th></th>\n",
       "      <th>VendorID</th>\n",
       "      <th>tpep_pickup_datetime</th>\n",
       "      <th>tpep_dropoff_datetime</th>\n",
       "      <th>passenger_count</th>\n",
       "      <th>trip_distance</th>\n",
       "      <th>pickup_longitude</th>\n",
       "      <th>pickup_latitude</th>\n",
       "      <th>RateCodeID</th>\n",
       "      <th>store_and_fwd_flag</th>\n",
       "      <th>dropoff_longitude</th>\n",
       "      <th>...</th>\n",
       "      <th>mta_tax</th>\n",
       "      <th>tip_amount</th>\n",
       "      <th>tolls_amount</th>\n",
       "      <th>improvement_surcharge</th>\n",
       "      <th>total_amount</th>\n",
       "      <th>date</th>\n",
       "      <th>time</th>\n",
       "      <th>hour</th>\n",
       "      <th>min</th>\n",
       "      <th>sec</th>\n",
       "    </tr>\n",
       "  </thead>\n",
       "  <tbody>\n",
       "    <tr>\n",
       "      <th>0</th>\n",
       "      <td>2</td>\n",
       "      <td>2015-01-15 19:05:39</td>\n",
       "      <td>2015-01-15 19:23:42</td>\n",
       "      <td>1</td>\n",
       "      <td>1.59</td>\n",
       "      <td>-73.993896</td>\n",
       "      <td>40.750111</td>\n",
       "      <td>1</td>\n",
       "      <td>N</td>\n",
       "      <td>-73.974785</td>\n",
       "      <td>...</td>\n",
       "      <td>0.5</td>\n",
       "      <td>3.25</td>\n",
       "      <td>0.0</td>\n",
       "      <td>0.3</td>\n",
       "      <td>17.05</td>\n",
       "      <td>2015-01-15</td>\n",
       "      <td>05:39</td>\n",
       "      <td>19</td>\n",
       "      <td>05</td>\n",
       "      <td>39</td>\n",
       "    </tr>\n",
       "    <tr>\n",
       "      <th>1</th>\n",
       "      <td>1</td>\n",
       "      <td>2015-01-10 20:33:38</td>\n",
       "      <td>2015-01-10 20:53:28</td>\n",
       "      <td>1</td>\n",
       "      <td>3.30</td>\n",
       "      <td>-74.001648</td>\n",
       "      <td>40.724243</td>\n",
       "      <td>1</td>\n",
       "      <td>N</td>\n",
       "      <td>-73.994415</td>\n",
       "      <td>...</td>\n",
       "      <td>0.5</td>\n",
       "      <td>2.00</td>\n",
       "      <td>0.0</td>\n",
       "      <td>0.3</td>\n",
       "      <td>17.80</td>\n",
       "      <td>2015-01-10</td>\n",
       "      <td>33:38</td>\n",
       "      <td>20</td>\n",
       "      <td>33</td>\n",
       "      <td>38</td>\n",
       "    </tr>\n",
       "    <tr>\n",
       "      <th>2</th>\n",
       "      <td>1</td>\n",
       "      <td>2015-01-10 20:33:38</td>\n",
       "      <td>2015-01-10 20:43:41</td>\n",
       "      <td>1</td>\n",
       "      <td>1.80</td>\n",
       "      <td>-73.963341</td>\n",
       "      <td>40.802788</td>\n",
       "      <td>1</td>\n",
       "      <td>N</td>\n",
       "      <td>-73.951820</td>\n",
       "      <td>...</td>\n",
       "      <td>0.5</td>\n",
       "      <td>0.00</td>\n",
       "      <td>0.0</td>\n",
       "      <td>0.3</td>\n",
       "      <td>10.80</td>\n",
       "      <td>2015-01-10</td>\n",
       "      <td>33:38</td>\n",
       "      <td>20</td>\n",
       "      <td>33</td>\n",
       "      <td>38</td>\n",
       "    </tr>\n",
       "    <tr>\n",
       "      <th>3</th>\n",
       "      <td>1</td>\n",
       "      <td>2015-01-10 20:33:39</td>\n",
       "      <td>2015-01-10 20:35:31</td>\n",
       "      <td>1</td>\n",
       "      <td>0.50</td>\n",
       "      <td>-74.009087</td>\n",
       "      <td>40.713818</td>\n",
       "      <td>1</td>\n",
       "      <td>N</td>\n",
       "      <td>-74.004326</td>\n",
       "      <td>...</td>\n",
       "      <td>0.5</td>\n",
       "      <td>0.00</td>\n",
       "      <td>0.0</td>\n",
       "      <td>0.3</td>\n",
       "      <td>4.80</td>\n",
       "      <td>2015-01-10</td>\n",
       "      <td>33:39</td>\n",
       "      <td>20</td>\n",
       "      <td>33</td>\n",
       "      <td>39</td>\n",
       "    </tr>\n",
       "    <tr>\n",
       "      <th>4</th>\n",
       "      <td>1</td>\n",
       "      <td>2015-01-10 20:33:39</td>\n",
       "      <td>2015-01-10 20:52:58</td>\n",
       "      <td>1</td>\n",
       "      <td>3.00</td>\n",
       "      <td>-73.971176</td>\n",
       "      <td>40.762428</td>\n",
       "      <td>1</td>\n",
       "      <td>N</td>\n",
       "      <td>-74.004181</td>\n",
       "      <td>...</td>\n",
       "      <td>0.5</td>\n",
       "      <td>0.00</td>\n",
       "      <td>0.0</td>\n",
       "      <td>0.3</td>\n",
       "      <td>16.30</td>\n",
       "      <td>2015-01-10</td>\n",
       "      <td>33:39</td>\n",
       "      <td>20</td>\n",
       "      <td>33</td>\n",
       "      <td>39</td>\n",
       "    </tr>\n",
       "  </tbody>\n",
       "</table>\n",
       "<p>5 rows × 24 columns</p>\n",
       "</div>"
      ],
      "text/plain": [
       "   VendorID tpep_pickup_datetime tpep_dropoff_datetime  passenger_count  \\\n",
       "0         2  2015-01-15 19:05:39   2015-01-15 19:23:42                1   \n",
       "1         1  2015-01-10 20:33:38   2015-01-10 20:53:28                1   \n",
       "2         1  2015-01-10 20:33:38   2015-01-10 20:43:41                1   \n",
       "3         1  2015-01-10 20:33:39   2015-01-10 20:35:31                1   \n",
       "4         1  2015-01-10 20:33:39   2015-01-10 20:52:58                1   \n",
       "\n",
       "   trip_distance  pickup_longitude  pickup_latitude  RateCodeID  \\\n",
       "0           1.59        -73.993896        40.750111           1   \n",
       "1           3.30        -74.001648        40.724243           1   \n",
       "2           1.80        -73.963341        40.802788           1   \n",
       "3           0.50        -74.009087        40.713818           1   \n",
       "4           3.00        -73.971176        40.762428           1   \n",
       "\n",
       "  store_and_fwd_flag  dropoff_longitude  ...  mta_tax  tip_amount  \\\n",
       "0                  N         -73.974785  ...      0.5        3.25   \n",
       "1                  N         -73.994415  ...      0.5        2.00   \n",
       "2                  N         -73.951820  ...      0.5        0.00   \n",
       "3                  N         -74.004326  ...      0.5        0.00   \n",
       "4                  N         -74.004181  ...      0.5        0.00   \n",
       "\n",
       "   tolls_amount  improvement_surcharge  total_amount        date   time  hour  \\\n",
       "0           0.0                    0.3         17.05  2015-01-15  05:39    19   \n",
       "1           0.0                    0.3         17.80  2015-01-10  33:38    20   \n",
       "2           0.0                    0.3         10.80  2015-01-10  33:38    20   \n",
       "3           0.0                    0.3          4.80  2015-01-10  33:39    20   \n",
       "4           0.0                    0.3         16.30  2015-01-10  33:39    20   \n",
       "\n",
       "   min sec  \n",
       "0   05  39  \n",
       "1   33  38  \n",
       "2   33  38  \n",
       "3   33  39  \n",
       "4   33  39  \n",
       "\n",
       "[5 rows x 24 columns]"
      ]
     },
     "execution_count": 12,
     "metadata": {},
     "output_type": "execute_result"
    }
   ],
   "source": [
    "month.head(5)"
   ]
  },
  {
   "cell_type": "code",
   "execution_count": 11,
   "metadata": {
    "scrolled": true
   },
   "outputs": [],
   "source": [
    "month = month.drop(['time', 'date'], axis=1)\n",
    "# month.head()"
   ]
  },
  {
   "cell_type": "markdown",
   "metadata": {
    "colab_type": "text",
    "id": "YpwPiJzipYSB"
   },
   "source": [
    "### 1. Pickup Latitude and Pickup Longitude"
   ]
  },
  {
   "cell_type": "markdown",
   "metadata": {
    "colab_type": "text",
    "id": "RocDjcsdpYSC"
   },
   "source": [
    "It is inferred from the source https://www.flickr.com/places/info/2459115 that New York is bounded by the location cordinates(lat,long) - (40.5774, -74.15) & (40.9176,-73.7004) so hence any cordinates not within these cordinates are not considered by us as we are only concerned with pickups which originate within New York."
   ]
  },
  {
   "cell_type": "code",
   "execution_count": 8,
   "metadata": {
    "colab": {},
    "colab_type": "code",
    "id": "HWLsXmMfpYSD",
    "outputId": "364739e6-e413-42c4-d9c9-358cc2f83887",
    "scrolled": true
   },
   "outputs": [],
   "source": [
    "# # Plotting pickup cordinates which are outside the bounding box of New-York \n",
    "# # we will collect all the points outside the bounding box of newyork city to outlier_locations\n",
    "# outlier_locations = month[((month.pickup_longitude <= -74.15) | (month.pickup_latitude <= 40.5774)| \\\n",
    "#                    (month.pickup_longitude >= -73.7004) | (month.pickup_latitude >= 40.9176))]\n",
    "\n",
    "# # creating a map with the a base location\n",
    "# # read more about the folium here: http://folium.readthedocs.io/en/latest/quickstart.html\n",
    "\n",
    "# # note: you dont need to remember any of these, you dont need indeepth knowledge on these maps and plots\n",
    "\n",
    "# map_osm = folium.Map(location=[40.734695, -73.990372], tiles='Stamen Toner')\n",
    "\n",
    "# # we will spot only first 100 outliers on the map, plotting all the outliers will take more time\n",
    "# sample_locations = outlier_locations.head(10000)\n",
    "# for i,j in sample_locations.iterrows():\n",
    "#     if int(j['pickup_latitude']) != 0:\n",
    "#         folium.Marker(list((j['pickup_latitude'],j['pickup_longitude']))).add_to(map_osm)\n",
    "# map_osm"
   ]
  },
  {
   "cell_type": "markdown",
   "metadata": {
    "colab_type": "text",
    "id": "znO3Z9ocpYSH"
   },
   "source": [
    "<b>Observation:-</b> As you can see above that there are some points just outside the boundary but there are a few that are in either South america, Mexico or Canada"
   ]
  },
  {
   "cell_type": "markdown",
   "metadata": {
    "colab_type": "text",
    "id": "BI8HYkIOpYSH"
   },
   "source": [
    "### 2. Dropoff Latitude & Dropoff Longitude"
   ]
  },
  {
   "cell_type": "markdown",
   "metadata": {
    "colab_type": "text",
    "id": "_W_1MXhrpYSI"
   },
   "source": [
    "It is inferred from the source https://www.flickr.com/places/info/2459115 that New York is bounded by the location cordinates(lat,long) - (40.5774, -74.15) & (40.9176,-73.7004) so hence any cordinates not within these cordinates are not considered by us as we are only concerned with dropoffs which are within New York."
   ]
  },
  {
   "cell_type": "code",
   "execution_count": 9,
   "metadata": {
    "colab": {},
    "colab_type": "code",
    "id": "52GGm00KpYSJ",
    "outputId": "54d73c17-cf56-485e-8c7a-b703aa83d8ac"
   },
   "outputs": [],
   "source": [
    "# # Plotting dropoff cordinates which are outside the bounding box of New-York \n",
    "# # we will collect all the points outside the bounding box of newyork city to outlier_locations\n",
    "# outlier_locations = month[((month.dropoff_longitude <= -74.15) | (month.dropoff_latitude <= 40.5774)| \\\n",
    "#                    (month.dropoff_longitude >= -73.7004) | (month.dropoff_latitude >= 40.9176))]\n",
    "\n",
    "# # creating a map with the a base location\n",
    "# # read more about the folium here: http://folium.readthedocs.io/en/latest/quickstart.html\n",
    "\n",
    "# # note: you dont need to remember any of these, you dont need indeepth knowledge on these maps and plots\n",
    "\n",
    "# map_osm = folium.Map(location=[40.734695, -73.990372], tiles='Stamen Toner')\n",
    "\n",
    "# # we will spot only first 100 outliers on the map, plotting all the outliers will take more time\n",
    "# sample_locations = outlier_locations.head(10000)\n",
    "# for i,j in sample_locations.iterrows():\n",
    "#     if int(j['pickup_latitude']) != 0:\n",
    "#         folium.Marker(list((j['dropoff_latitude'],j['dropoff_longitude']))).add_to(map_osm)\n",
    "# map_osm"
   ]
  },
  {
   "cell_type": "markdown",
   "metadata": {
    "colab_type": "text",
    "id": "pz-fvF1MpYSN"
   },
   "source": [
    "<b>Observation:-</b> The observations here are similar to those obtained while analysing pickup latitude and longitude"
   ]
  },
  {
   "cell_type": "markdown",
   "metadata": {
    "colab_type": "text",
    "id": "ZSmVwmMJpYSO"
   },
   "source": [
    "### 3. Trip Durations:"
   ]
  },
  {
   "cell_type": "markdown",
   "metadata": {
    "colab_type": "text",
    "id": "DuilRJY1pYSP"
   },
   "source": [
    "<p style=\"font-size:18px\">According to NYC Taxi &amp; Limousine Commision Regulations <b style= \"color:blue\">the maximum allowed trip duration in a 24 hour interval is 12 hours.</b> </p>"
   ]
  },
  {
   "cell_type": "code",
   "execution_count": 10,
   "metadata": {
    "colab": {},
    "colab_type": "code",
    "id": "1Qa9aMyFpYSQ"
   },
   "outputs": [],
   "source": [
    "#The timestamps are converted to unix so as to get duration(trip-time) & speed also pickup-times in unix are used while binning \n",
    "\n",
    "# in out data we have time in the formate \"YYYY-MM-DD HH:MM:SS\" we convert thiss sting to python time formate and then into unix time stamp\n",
    "# https://stackoverflow.com/a/27914405\n",
    "def convert_to_unix(s):\n",
    "    return time.mktime(datetime.datetime.strptime(s, \"%Y-%m-%d %H:%M:%S\").timetuple())\n",
    "\n",
    "\n",
    "\n",
    "# we return a data frame which contains the columns\n",
    "# 1.'passenger_count' : self explanatory\n",
    "# 2.'trip_distance' : self explanatory\n",
    "# 3.'pickup_longitude' : self explanatory\n",
    "# 4.'pickup_latitude' : self explanatory\n",
    "# 5.'dropoff_longitude' : self explanatory\n",
    "# 6.'dropoff_latitude' : self explanatory\n",
    "# 7.'total_amount' : total fair that was paid\n",
    "# 8.'trip_times' : duration of each trip\n",
    "# 9.'pickup_times : pickup time converted into unix time \n",
    "# 10.'Speed' : velocity of each trip\n",
    "def return_with_trip_times(month):\n",
    "    duration = month[['tpep_pickup_datetime','tpep_dropoff_datetime']].compute()\n",
    "    #pickups and dropoffs to unix time\n",
    "    duration_pickup = [convert_to_unix(x) for x in duration['tpep_pickup_datetime'].values]\n",
    "    duration_drop = [convert_to_unix(x) for x in duration['tpep_dropoff_datetime'].values]\n",
    "    #calculate duration of trips\n",
    "    durations = (np.array(duration_drop) - np.array(duration_pickup))/float(60)\n",
    "\n",
    "    #append durations of trips and speed in miles/hr to a new dataframe\n",
    "    new_frame = month[['passenger_count','trip_distance','pickup_longitude','pickup_latitude','dropoff_longitude','dropoff_latitude','total_amount']].compute()\n",
    "    \n",
    "    new_frame['trip_times'] = durations\n",
    "    new_frame['pickup_times'] = duration_pickup\n",
    "    new_frame['Speed'] = 60*(new_frame['trip_distance']/new_frame['trip_times'])\n",
    "    new_frame['hour'] = month['hour']\n",
    "    new_frame['min'] = month['min']\n",
    "    new_frame['sec'] = month['sec']\n",
    "    \n",
    "    return new_frame\n",
    "\n",
    "# print(frame_with_durations.head())\n",
    "#  passenger_count\ttrip_distance\tpickup_longitude\tpickup_latitude\tdropoff_longitude\tdropoff_latitude\ttotal_amount\ttrip_times\tpickup_times\tSpeed\n",
    "#   1                  1.59\t      -73.993896        \t40.750111    \t-73.974785      \t40.750618           \t17.05   \t 18.050000\t1.421329e+09\t5.285319\n",
    "#   1               \t3.30    \t-74.001648      \t40.724243   \t-73.994415      \t40.759109           \t17.80   \t19.833333\t1.420902e+09\t9.983193\n",
    "#   1               \t1.80     \t-73.963341      \t40.802788     \t-73.951820      \t40.824413           \t10.80   \t10.050000\t1.420902e+09\t10.746269\n",
    "#   1               \t0.50    \t-74.009087      \t40.713818    \t-74.004326       \t40.719986           \t4.80    \t1.866667\t1.420902e+09\t16.071429\n",
    "#   1               \t3.00    \t-73.971176      \t40.762428    \t-74.004181      \t40.742653           \t16.30   \t19.316667\t1.420902e+09\t9.318378\n"
   ]
  },
  {
   "cell_type": "code",
   "execution_count": null,
   "metadata": {},
   "outputs": [],
   "source": [
    "frame_with_durations = return_with_trip_times(month)"
   ]
  },
  {
   "cell_type": "code",
   "execution_count": 11,
   "metadata": {
    "colab": {},
    "colab_type": "code",
    "id": "IZ8eoLpXpYSS",
    "outputId": "bc1138fc-7dc0-4c25-a507-724f6a57e7a1"
   },
   "outputs": [],
   "source": [
    "# the skewed box plot shows us the presence of outliers \n",
    "sns.boxplot(y=\"trip_times\", data =frame_with_durations)\n",
    "plt.show()"
   ]
  },
  {
   "cell_type": "code",
   "execution_count": 12,
   "metadata": {
    "colab": {},
    "colab_type": "code",
    "id": "ctVQ6FTWpYSX",
    "outputId": "61d8041c-286a-4ec5-dea3-238885a83e6b",
    "scrolled": true
   },
   "outputs": [
    {
     "name": "stdout",
     "output_type": "stream",
     "text": [
      "0 percentile value is -1211.0166666666667\n",
      "10 percentile value is 3.8333333333333335\n",
      "20 percentile value is 5.383333333333334\n",
      "30 percentile value is 6.816666666666666\n",
      "40 percentile value is 8.3\n",
      "50 percentile value is 9.95\n",
      "60 percentile value is 11.866666666666667\n",
      "70 percentile value is 14.283333333333333\n",
      "80 percentile value is 17.633333333333333\n",
      "90 percentile value is 23.45\n",
      "100 percentile value is  548555.6333333333\n"
     ]
    }
   ],
   "source": [
    "#calculating 0-100th percentile to find a the correct percentile value for removal of outliers\n",
    "for i in range(0,100,10):\n",
    "    var =frame_with_durations[\"trip_times\"].values\n",
    "    var = np.sort(var,axis = None)\n",
    "    print(\"{} percentile value is {}\".format(i,var[int(len(var)*(float(i)/100))]))\n",
    "print (\"100 percentile value is \",var[-1])"
   ]
  },
  {
   "cell_type": "code",
   "execution_count": 13,
   "metadata": {
    "colab": {},
    "colab_type": "code",
    "id": "8lGrGf0ZpYSd",
    "outputId": "e1e26515-3db2-4657-9dc3-77774bf9053d"
   },
   "outputs": [
    {
     "name": "stdout",
     "output_type": "stream",
     "text": [
      "90 percentile value is 23.45\n",
      "91 percentile value is 24.35\n",
      "92 percentile value is 25.383333333333333\n",
      "93 percentile value is 26.55\n",
      "94 percentile value is 27.933333333333334\n",
      "95 percentile value is 29.583333333333332\n",
      "96 percentile value is 31.683333333333334\n",
      "97 percentile value is 34.46666666666667\n",
      "98 percentile value is 38.71666666666667\n",
      "99 percentile value is 46.75\n",
      "100 percentile value is  548555.6333333333\n"
     ]
    }
   ],
   "source": [
    "#looking further from the 99th percecntile\n",
    "for i in range(90,100):\n",
    "    var =frame_with_durations[\"trip_times\"].values\n",
    "    var = np.sort(var,axis = None)\n",
    "    print(\"{} percentile value is {}\".format(i,var[int(len(var)*(float(i)/100))]))\n",
    "print (\"100 percentile value is \",var[-1])"
   ]
  },
  {
   "cell_type": "code",
   "execution_count": null,
   "metadata": {
    "colab": {},
    "colab_type": "code",
    "id": "_ZHF1neQpYSh"
   },
   "outputs": [],
   "source": [
    "#removing data based on our analysis and TLC regulations\n",
    "frame_with_durations_modified=frame_with_durations[(frame_with_durations.trip_times>1) & (frame_with_durations.trip_times<720)]"
   ]
  },
  {
   "cell_type": "code",
   "execution_count": 15,
   "metadata": {
    "colab": {},
    "colab_type": "code",
    "id": "0_o8FgO8pYSj",
    "outputId": "0e76be6c-50b1-4876-8521-9a714b4ab65d"
   },
   "outputs": [],
   "source": [
    "#box-plot after removal of outliers\n",
    "sns.boxplot(y=\"trip_times\", data =frame_with_durations_modified)\n",
    "plt.show()"
   ]
  },
  {
   "cell_type": "code",
   "execution_count": 16,
   "metadata": {
    "colab": {},
    "colab_type": "code",
    "id": "M4AxDHTTpYSo",
    "outputId": "f7d12463-5789-40a0-c693-d2a9e08ad1e6"
   },
   "outputs": [],
   "source": [
    "#pdf of trip-times after removing the outliers\n",
    "sns.FacetGrid(frame_with_durations_modified,size=6) \\\n",
    "      .map(sns.kdeplot,\"trip_times\") \\\n",
    "      .add_legend();\n",
    "plt.show();"
   ]
  },
  {
   "cell_type": "code",
   "execution_count": null,
   "metadata": {
    "colab": {},
    "colab_type": "code",
    "id": "o3hE6TkCpYSr"
   },
   "outputs": [],
   "source": [
    "#converting the values to log-values to chec for log-normal\n",
    "import math\n",
    "frame_with_durations_modified['log_times']=[math.log(i) for i in frame_with_durations_modified['trip_times'].values]"
   ]
  },
  {
   "cell_type": "code",
   "execution_count": 18,
   "metadata": {
    "colab": {},
    "colab_type": "code",
    "id": "9nJHTIDDpYSu",
    "outputId": "e8c6f7d9-6f27-4c8b-b47a-69c137dfe11c"
   },
   "outputs": [],
   "source": [
    "#pdf of log-values\n",
    "sns.FacetGrid(frame_with_durations_modified,size=6) \\\n",
    "      .map(sns.kdeplot,\"log_times\") \\\n",
    "      .add_legend();\n",
    "plt.show();"
   ]
  },
  {
   "cell_type": "code",
   "execution_count": 19,
   "metadata": {
    "colab": {},
    "colab_type": "code",
    "id": "dgLxnEzJpYSy",
    "outputId": "65cab74f-fb64-4e38-a86a-891c6246ba9d"
   },
   "outputs": [],
   "source": [
    "#Q-Q plot for checking if trip-times is log-normal\n",
    "import scipy\n",
    "scipy.stats.probplot(frame_with_durations_modified['log_times'].values, plot=plt)\n",
    "plt.show()"
   ]
  },
  {
   "cell_type": "markdown",
   "metadata": {
    "colab_type": "text",
    "id": "du_5d8mppYS1"
   },
   "source": [
    "### 4. Speed"
   ]
  },
  {
   "cell_type": "code",
   "execution_count": 15,
   "metadata": {
    "colab": {},
    "colab_type": "code",
    "id": "cYm5q8VFpYS3",
    "outputId": "12e1cbd5-9a2b-403a-f1fa-d6766610868b"
   },
   "outputs": [
    {
     "data": {
      "application/javascript": [
       "/* Put everything inside the global mpl namespace */\n",
       "window.mpl = {};\n",
       "\n",
       "\n",
       "mpl.get_websocket_type = function() {\n",
       "    if (typeof(WebSocket) !== 'undefined') {\n",
       "        return WebSocket;\n",
       "    } else if (typeof(MozWebSocket) !== 'undefined') {\n",
       "        return MozWebSocket;\n",
       "    } else {\n",
       "        alert('Your browser does not have WebSocket support.' +\n",
       "              'Please try Chrome, Safari or Firefox ≥ 6. ' +\n",
       "              'Firefox 4 and 5 are also supported but you ' +\n",
       "              'have to enable WebSockets in about:config.');\n",
       "    };\n",
       "}\n",
       "\n",
       "mpl.figure = function(figure_id, websocket, ondownload, parent_element) {\n",
       "    this.id = figure_id;\n",
       "\n",
       "    this.ws = websocket;\n",
       "\n",
       "    this.supports_binary = (this.ws.binaryType != undefined);\n",
       "\n",
       "    if (!this.supports_binary) {\n",
       "        var warnings = document.getElementById(\"mpl-warnings\");\n",
       "        if (warnings) {\n",
       "            warnings.style.display = 'block';\n",
       "            warnings.textContent = (\n",
       "                \"This browser does not support binary websocket messages. \" +\n",
       "                    \"Performance may be slow.\");\n",
       "        }\n",
       "    }\n",
       "\n",
       "    this.imageObj = new Image();\n",
       "\n",
       "    this.context = undefined;\n",
       "    this.message = undefined;\n",
       "    this.canvas = undefined;\n",
       "    this.rubberband_canvas = undefined;\n",
       "    this.rubberband_context = undefined;\n",
       "    this.format_dropdown = undefined;\n",
       "\n",
       "    this.image_mode = 'full';\n",
       "\n",
       "    this.root = $('<div/>');\n",
       "    this._root_extra_style(this.root)\n",
       "    this.root.attr('style', 'display: inline-block');\n",
       "\n",
       "    $(parent_element).append(this.root);\n",
       "\n",
       "    this._init_header(this);\n",
       "    this._init_canvas(this);\n",
       "    this._init_toolbar(this);\n",
       "\n",
       "    var fig = this;\n",
       "\n",
       "    this.waiting = false;\n",
       "\n",
       "    this.ws.onopen =  function () {\n",
       "            fig.send_message(\"supports_binary\", {value: fig.supports_binary});\n",
       "            fig.send_message(\"send_image_mode\", {});\n",
       "            if (mpl.ratio != 1) {\n",
       "                fig.send_message(\"set_dpi_ratio\", {'dpi_ratio': mpl.ratio});\n",
       "            }\n",
       "            fig.send_message(\"refresh\", {});\n",
       "        }\n",
       "\n",
       "    this.imageObj.onload = function() {\n",
       "            if (fig.image_mode == 'full') {\n",
       "                // Full images could contain transparency (where diff images\n",
       "                // almost always do), so we need to clear the canvas so that\n",
       "                // there is no ghosting.\n",
       "                fig.context.clearRect(0, 0, fig.canvas.width, fig.canvas.height);\n",
       "            }\n",
       "            fig.context.drawImage(fig.imageObj, 0, 0);\n",
       "        };\n",
       "\n",
       "    this.imageObj.onunload = function() {\n",
       "        fig.ws.close();\n",
       "    }\n",
       "\n",
       "    this.ws.onmessage = this._make_on_message_function(this);\n",
       "\n",
       "    this.ondownload = ondownload;\n",
       "}\n",
       "\n",
       "mpl.figure.prototype._init_header = function() {\n",
       "    var titlebar = $(\n",
       "        '<div class=\"ui-dialog-titlebar ui-widget-header ui-corner-all ' +\n",
       "        'ui-helper-clearfix\"/>');\n",
       "    var titletext = $(\n",
       "        '<div class=\"ui-dialog-title\" style=\"width: 100%; ' +\n",
       "        'text-align: center; padding: 3px;\"/>');\n",
       "    titlebar.append(titletext)\n",
       "    this.root.append(titlebar);\n",
       "    this.header = titletext[0];\n",
       "}\n",
       "\n",
       "\n",
       "\n",
       "mpl.figure.prototype._canvas_extra_style = function(canvas_div) {\n",
       "\n",
       "}\n",
       "\n",
       "\n",
       "mpl.figure.prototype._root_extra_style = function(canvas_div) {\n",
       "\n",
       "}\n",
       "\n",
       "mpl.figure.prototype._init_canvas = function() {\n",
       "    var fig = this;\n",
       "\n",
       "    var canvas_div = $('<div/>');\n",
       "\n",
       "    canvas_div.attr('style', 'position: relative; clear: both; outline: 0');\n",
       "\n",
       "    function canvas_keyboard_event(event) {\n",
       "        return fig.key_event(event, event['data']);\n",
       "    }\n",
       "\n",
       "    canvas_div.keydown('key_press', canvas_keyboard_event);\n",
       "    canvas_div.keyup('key_release', canvas_keyboard_event);\n",
       "    this.canvas_div = canvas_div\n",
       "    this._canvas_extra_style(canvas_div)\n",
       "    this.root.append(canvas_div);\n",
       "\n",
       "    var canvas = $('<canvas/>');\n",
       "    canvas.addClass('mpl-canvas');\n",
       "    canvas.attr('style', \"left: 0; top: 0; z-index: 0; outline: 0\")\n",
       "\n",
       "    this.canvas = canvas[0];\n",
       "    this.context = canvas[0].getContext(\"2d\");\n",
       "\n",
       "    var backingStore = this.context.backingStorePixelRatio ||\n",
       "\tthis.context.webkitBackingStorePixelRatio ||\n",
       "\tthis.context.mozBackingStorePixelRatio ||\n",
       "\tthis.context.msBackingStorePixelRatio ||\n",
       "\tthis.context.oBackingStorePixelRatio ||\n",
       "\tthis.context.backingStorePixelRatio || 1;\n",
       "\n",
       "    mpl.ratio = (window.devicePixelRatio || 1) / backingStore;\n",
       "\n",
       "    var rubberband = $('<canvas/>');\n",
       "    rubberband.attr('style', \"position: absolute; left: 0; top: 0; z-index: 1;\")\n",
       "\n",
       "    var pass_mouse_events = true;\n",
       "\n",
       "    canvas_div.resizable({\n",
       "        start: function(event, ui) {\n",
       "            pass_mouse_events = false;\n",
       "        },\n",
       "        resize: function(event, ui) {\n",
       "            fig.request_resize(ui.size.width, ui.size.height);\n",
       "        },\n",
       "        stop: function(event, ui) {\n",
       "            pass_mouse_events = true;\n",
       "            fig.request_resize(ui.size.width, ui.size.height);\n",
       "        },\n",
       "    });\n",
       "\n",
       "    function mouse_event_fn(event) {\n",
       "        if (pass_mouse_events)\n",
       "            return fig.mouse_event(event, event['data']);\n",
       "    }\n",
       "\n",
       "    rubberband.mousedown('button_press', mouse_event_fn);\n",
       "    rubberband.mouseup('button_release', mouse_event_fn);\n",
       "    // Throttle sequential mouse events to 1 every 20ms.\n",
       "    rubberband.mousemove('motion_notify', mouse_event_fn);\n",
       "\n",
       "    rubberband.mouseenter('figure_enter', mouse_event_fn);\n",
       "    rubberband.mouseleave('figure_leave', mouse_event_fn);\n",
       "\n",
       "    canvas_div.on(\"wheel\", function (event) {\n",
       "        event = event.originalEvent;\n",
       "        event['data'] = 'scroll'\n",
       "        if (event.deltaY < 0) {\n",
       "            event.step = 1;\n",
       "        } else {\n",
       "            event.step = -1;\n",
       "        }\n",
       "        mouse_event_fn(event);\n",
       "    });\n",
       "\n",
       "    canvas_div.append(canvas);\n",
       "    canvas_div.append(rubberband);\n",
       "\n",
       "    this.rubberband = rubberband;\n",
       "    this.rubberband_canvas = rubberband[0];\n",
       "    this.rubberband_context = rubberband[0].getContext(\"2d\");\n",
       "    this.rubberband_context.strokeStyle = \"#000000\";\n",
       "\n",
       "    this._resize_canvas = function(width, height) {\n",
       "        // Keep the size of the canvas, canvas container, and rubber band\n",
       "        // canvas in synch.\n",
       "        canvas_div.css('width', width)\n",
       "        canvas_div.css('height', height)\n",
       "\n",
       "        canvas.attr('width', width * mpl.ratio);\n",
       "        canvas.attr('height', height * mpl.ratio);\n",
       "        canvas.attr('style', 'width: ' + width + 'px; height: ' + height + 'px;');\n",
       "\n",
       "        rubberband.attr('width', width);\n",
       "        rubberband.attr('height', height);\n",
       "    }\n",
       "\n",
       "    // Set the figure to an initial 600x600px, this will subsequently be updated\n",
       "    // upon first draw.\n",
       "    this._resize_canvas(600, 600);\n",
       "\n",
       "    // Disable right mouse context menu.\n",
       "    $(this.rubberband_canvas).bind(\"contextmenu\",function(e){\n",
       "        return false;\n",
       "    });\n",
       "\n",
       "    function set_focus () {\n",
       "        canvas.focus();\n",
       "        canvas_div.focus();\n",
       "    }\n",
       "\n",
       "    window.setTimeout(set_focus, 100);\n",
       "}\n",
       "\n",
       "mpl.figure.prototype._init_toolbar = function() {\n",
       "    var fig = this;\n",
       "\n",
       "    var nav_element = $('<div/>')\n",
       "    nav_element.attr('style', 'width: 100%');\n",
       "    this.root.append(nav_element);\n",
       "\n",
       "    // Define a callback function for later on.\n",
       "    function toolbar_event(event) {\n",
       "        return fig.toolbar_button_onclick(event['data']);\n",
       "    }\n",
       "    function toolbar_mouse_event(event) {\n",
       "        return fig.toolbar_button_onmouseover(event['data']);\n",
       "    }\n",
       "\n",
       "    for(var toolbar_ind in mpl.toolbar_items) {\n",
       "        var name = mpl.toolbar_items[toolbar_ind][0];\n",
       "        var tooltip = mpl.toolbar_items[toolbar_ind][1];\n",
       "        var image = mpl.toolbar_items[toolbar_ind][2];\n",
       "        var method_name = mpl.toolbar_items[toolbar_ind][3];\n",
       "\n",
       "        if (!name) {\n",
       "            // put a spacer in here.\n",
       "            continue;\n",
       "        }\n",
       "        var button = $('<button/>');\n",
       "        button.addClass('ui-button ui-widget ui-state-default ui-corner-all ' +\n",
       "                        'ui-button-icon-only');\n",
       "        button.attr('role', 'button');\n",
       "        button.attr('aria-disabled', 'false');\n",
       "        button.click(method_name, toolbar_event);\n",
       "        button.mouseover(tooltip, toolbar_mouse_event);\n",
       "\n",
       "        var icon_img = $('<span/>');\n",
       "        icon_img.addClass('ui-button-icon-primary ui-icon');\n",
       "        icon_img.addClass(image);\n",
       "        icon_img.addClass('ui-corner-all');\n",
       "\n",
       "        var tooltip_span = $('<span/>');\n",
       "        tooltip_span.addClass('ui-button-text');\n",
       "        tooltip_span.html(tooltip);\n",
       "\n",
       "        button.append(icon_img);\n",
       "        button.append(tooltip_span);\n",
       "\n",
       "        nav_element.append(button);\n",
       "    }\n",
       "\n",
       "    var fmt_picker_span = $('<span/>');\n",
       "\n",
       "    var fmt_picker = $('<select/>');\n",
       "    fmt_picker.addClass('mpl-toolbar-option ui-widget ui-widget-content');\n",
       "    fmt_picker_span.append(fmt_picker);\n",
       "    nav_element.append(fmt_picker_span);\n",
       "    this.format_dropdown = fmt_picker[0];\n",
       "\n",
       "    for (var ind in mpl.extensions) {\n",
       "        var fmt = mpl.extensions[ind];\n",
       "        var option = $(\n",
       "            '<option/>', {selected: fmt === mpl.default_extension}).html(fmt);\n",
       "        fmt_picker.append(option)\n",
       "    }\n",
       "\n",
       "    // Add hover states to the ui-buttons\n",
       "    $( \".ui-button\" ).hover(\n",
       "        function() { $(this).addClass(\"ui-state-hover\");},\n",
       "        function() { $(this).removeClass(\"ui-state-hover\");}\n",
       "    );\n",
       "\n",
       "    var status_bar = $('<span class=\"mpl-message\"/>');\n",
       "    nav_element.append(status_bar);\n",
       "    this.message = status_bar[0];\n",
       "}\n",
       "\n",
       "mpl.figure.prototype.request_resize = function(x_pixels, y_pixels) {\n",
       "    // Request matplotlib to resize the figure. Matplotlib will then trigger a resize in the client,\n",
       "    // which will in turn request a refresh of the image.\n",
       "    this.send_message('resize', {'width': x_pixels, 'height': y_pixels});\n",
       "}\n",
       "\n",
       "mpl.figure.prototype.send_message = function(type, properties) {\n",
       "    properties['type'] = type;\n",
       "    properties['figure_id'] = this.id;\n",
       "    this.ws.send(JSON.stringify(properties));\n",
       "}\n",
       "\n",
       "mpl.figure.prototype.send_draw_message = function() {\n",
       "    if (!this.waiting) {\n",
       "        this.waiting = true;\n",
       "        this.ws.send(JSON.stringify({type: \"draw\", figure_id: this.id}));\n",
       "    }\n",
       "}\n",
       "\n",
       "\n",
       "mpl.figure.prototype.handle_save = function(fig, msg) {\n",
       "    var format_dropdown = fig.format_dropdown;\n",
       "    var format = format_dropdown.options[format_dropdown.selectedIndex].value;\n",
       "    fig.ondownload(fig, format);\n",
       "}\n",
       "\n",
       "\n",
       "mpl.figure.prototype.handle_resize = function(fig, msg) {\n",
       "    var size = msg['size'];\n",
       "    if (size[0] != fig.canvas.width || size[1] != fig.canvas.height) {\n",
       "        fig._resize_canvas(size[0], size[1]);\n",
       "        fig.send_message(\"refresh\", {});\n",
       "    };\n",
       "}\n",
       "\n",
       "mpl.figure.prototype.handle_rubberband = function(fig, msg) {\n",
       "    var x0 = msg['x0'] / mpl.ratio;\n",
       "    var y0 = (fig.canvas.height - msg['y0']) / mpl.ratio;\n",
       "    var x1 = msg['x1'] / mpl.ratio;\n",
       "    var y1 = (fig.canvas.height - msg['y1']) / mpl.ratio;\n",
       "    x0 = Math.floor(x0) + 0.5;\n",
       "    y0 = Math.floor(y0) + 0.5;\n",
       "    x1 = Math.floor(x1) + 0.5;\n",
       "    y1 = Math.floor(y1) + 0.5;\n",
       "    var min_x = Math.min(x0, x1);\n",
       "    var min_y = Math.min(y0, y1);\n",
       "    var width = Math.abs(x1 - x0);\n",
       "    var height = Math.abs(y1 - y0);\n",
       "\n",
       "    fig.rubberband_context.clearRect(\n",
       "        0, 0, fig.canvas.width, fig.canvas.height);\n",
       "\n",
       "    fig.rubberband_context.strokeRect(min_x, min_y, width, height);\n",
       "}\n",
       "\n",
       "mpl.figure.prototype.handle_figure_label = function(fig, msg) {\n",
       "    // Updates the figure title.\n",
       "    fig.header.textContent = msg['label'];\n",
       "}\n",
       "\n",
       "mpl.figure.prototype.handle_cursor = function(fig, msg) {\n",
       "    var cursor = msg['cursor'];\n",
       "    switch(cursor)\n",
       "    {\n",
       "    case 0:\n",
       "        cursor = 'pointer';\n",
       "        break;\n",
       "    case 1:\n",
       "        cursor = 'default';\n",
       "        break;\n",
       "    case 2:\n",
       "        cursor = 'crosshair';\n",
       "        break;\n",
       "    case 3:\n",
       "        cursor = 'move';\n",
       "        break;\n",
       "    }\n",
       "    fig.rubberband_canvas.style.cursor = cursor;\n",
       "}\n",
       "\n",
       "mpl.figure.prototype.handle_message = function(fig, msg) {\n",
       "    fig.message.textContent = msg['message'];\n",
       "}\n",
       "\n",
       "mpl.figure.prototype.handle_draw = function(fig, msg) {\n",
       "    // Request the server to send over a new figure.\n",
       "    fig.send_draw_message();\n",
       "}\n",
       "\n",
       "mpl.figure.prototype.handle_image_mode = function(fig, msg) {\n",
       "    fig.image_mode = msg['mode'];\n",
       "}\n",
       "\n",
       "mpl.figure.prototype.updated_canvas_event = function() {\n",
       "    // Called whenever the canvas gets updated.\n",
       "    this.send_message(\"ack\", {});\n",
       "}\n",
       "\n",
       "// A function to construct a web socket function for onmessage handling.\n",
       "// Called in the figure constructor.\n",
       "mpl.figure.prototype._make_on_message_function = function(fig) {\n",
       "    return function socket_on_message(evt) {\n",
       "        if (evt.data instanceof Blob) {\n",
       "            /* FIXME: We get \"Resource interpreted as Image but\n",
       "             * transferred with MIME type text/plain:\" errors on\n",
       "             * Chrome.  But how to set the MIME type?  It doesn't seem\n",
       "             * to be part of the websocket stream */\n",
       "            evt.data.type = \"image/png\";\n",
       "\n",
       "            /* Free the memory for the previous frames */\n",
       "            if (fig.imageObj.src) {\n",
       "                (window.URL || window.webkitURL).revokeObjectURL(\n",
       "                    fig.imageObj.src);\n",
       "            }\n",
       "\n",
       "            fig.imageObj.src = (window.URL || window.webkitURL).createObjectURL(\n",
       "                evt.data);\n",
       "            fig.updated_canvas_event();\n",
       "            fig.waiting = false;\n",
       "            return;\n",
       "        }\n",
       "        else if (typeof evt.data === 'string' && evt.data.slice(0, 21) == \"data:image/png;base64\") {\n",
       "            fig.imageObj.src = evt.data;\n",
       "            fig.updated_canvas_event();\n",
       "            fig.waiting = false;\n",
       "            return;\n",
       "        }\n",
       "\n",
       "        var msg = JSON.parse(evt.data);\n",
       "        var msg_type = msg['type'];\n",
       "\n",
       "        // Call the  \"handle_{type}\" callback, which takes\n",
       "        // the figure and JSON message as its only arguments.\n",
       "        try {\n",
       "            var callback = fig[\"handle_\" + msg_type];\n",
       "        } catch (e) {\n",
       "            console.log(\"No handler for the '\" + msg_type + \"' message type: \", msg);\n",
       "            return;\n",
       "        }\n",
       "\n",
       "        if (callback) {\n",
       "            try {\n",
       "                // console.log(\"Handling '\" + msg_type + \"' message: \", msg);\n",
       "                callback(fig, msg);\n",
       "            } catch (e) {\n",
       "                console.log(\"Exception inside the 'handler_\" + msg_type + \"' callback:\", e, e.stack, msg);\n",
       "            }\n",
       "        }\n",
       "    };\n",
       "}\n",
       "\n",
       "// from http://stackoverflow.com/questions/1114465/getting-mouse-location-in-canvas\n",
       "mpl.findpos = function(e) {\n",
       "    //this section is from http://www.quirksmode.org/js/events_properties.html\n",
       "    var targ;\n",
       "    if (!e)\n",
       "        e = window.event;\n",
       "    if (e.target)\n",
       "        targ = e.target;\n",
       "    else if (e.srcElement)\n",
       "        targ = e.srcElement;\n",
       "    if (targ.nodeType == 3) // defeat Safari bug\n",
       "        targ = targ.parentNode;\n",
       "\n",
       "    // jQuery normalizes the pageX and pageY\n",
       "    // pageX,Y are the mouse positions relative to the document\n",
       "    // offset() returns the position of the element relative to the document\n",
       "    var x = e.pageX - $(targ).offset().left;\n",
       "    var y = e.pageY - $(targ).offset().top;\n",
       "\n",
       "    return {\"x\": x, \"y\": y};\n",
       "};\n",
       "\n",
       "/*\n",
       " * return a copy of an object with only non-object keys\n",
       " * we need this to avoid circular references\n",
       " * http://stackoverflow.com/a/24161582/3208463\n",
       " */\n",
       "function simpleKeys (original) {\n",
       "  return Object.keys(original).reduce(function (obj, key) {\n",
       "    if (typeof original[key] !== 'object')\n",
       "        obj[key] = original[key]\n",
       "    return obj;\n",
       "  }, {});\n",
       "}\n",
       "\n",
       "mpl.figure.prototype.mouse_event = function(event, name) {\n",
       "    var canvas_pos = mpl.findpos(event)\n",
       "\n",
       "    if (name === 'button_press')\n",
       "    {\n",
       "        this.canvas.focus();\n",
       "        this.canvas_div.focus();\n",
       "    }\n",
       "\n",
       "    var x = canvas_pos.x * mpl.ratio;\n",
       "    var y = canvas_pos.y * mpl.ratio;\n",
       "\n",
       "    this.send_message(name, {x: x, y: y, button: event.button,\n",
       "                             step: event.step,\n",
       "                             guiEvent: simpleKeys(event)});\n",
       "\n",
       "    /* This prevents the web browser from automatically changing to\n",
       "     * the text insertion cursor when the button is pressed.  We want\n",
       "     * to control all of the cursor setting manually through the\n",
       "     * 'cursor' event from matplotlib */\n",
       "    event.preventDefault();\n",
       "    return false;\n",
       "}\n",
       "\n",
       "mpl.figure.prototype._key_event_extra = function(event, name) {\n",
       "    // Handle any extra behaviour associated with a key event\n",
       "}\n",
       "\n",
       "mpl.figure.prototype.key_event = function(event, name) {\n",
       "\n",
       "    // Prevent repeat events\n",
       "    if (name == 'key_press')\n",
       "    {\n",
       "        if (event.which === this._key)\n",
       "            return;\n",
       "        else\n",
       "            this._key = event.which;\n",
       "    }\n",
       "    if (name == 'key_release')\n",
       "        this._key = null;\n",
       "\n",
       "    var value = '';\n",
       "    if (event.ctrlKey && event.which != 17)\n",
       "        value += \"ctrl+\";\n",
       "    if (event.altKey && event.which != 18)\n",
       "        value += \"alt+\";\n",
       "    if (event.shiftKey && event.which != 16)\n",
       "        value += \"shift+\";\n",
       "\n",
       "    value += 'k';\n",
       "    value += event.which.toString();\n",
       "\n",
       "    this._key_event_extra(event, name);\n",
       "\n",
       "    this.send_message(name, {key: value,\n",
       "                             guiEvent: simpleKeys(event)});\n",
       "    return false;\n",
       "}\n",
       "\n",
       "mpl.figure.prototype.toolbar_button_onclick = function(name) {\n",
       "    if (name == 'download') {\n",
       "        this.handle_save(this, null);\n",
       "    } else {\n",
       "        this.send_message(\"toolbar_button\", {name: name});\n",
       "    }\n",
       "};\n",
       "\n",
       "mpl.figure.prototype.toolbar_button_onmouseover = function(tooltip) {\n",
       "    this.message.textContent = tooltip;\n",
       "};\n",
       "mpl.toolbar_items = [[\"Home\", \"Reset original view\", \"fa fa-home icon-home\", \"home\"], [\"Back\", \"Back to previous view\", \"fa fa-arrow-left icon-arrow-left\", \"back\"], [\"Forward\", \"Forward to next view\", \"fa fa-arrow-right icon-arrow-right\", \"forward\"], [\"\", \"\", \"\", \"\"], [\"Pan\", \"Pan axes with left mouse, zoom with right\", \"fa fa-arrows icon-move\", \"pan\"], [\"Zoom\", \"Zoom to rectangle\", \"fa fa-square-o icon-check-empty\", \"zoom\"], [\"\", \"\", \"\", \"\"], [\"Download\", \"Download plot\", \"fa fa-floppy-o icon-save\", \"download\"]];\n",
       "\n",
       "mpl.extensions = [\"eps\", \"jpeg\", \"pdf\", \"png\", \"ps\", \"raw\", \"svg\", \"tif\"];\n",
       "\n",
       "mpl.default_extension = \"png\";var comm_websocket_adapter = function(comm) {\n",
       "    // Create a \"websocket\"-like object which calls the given IPython comm\n",
       "    // object with the appropriate methods. Currently this is a non binary\n",
       "    // socket, so there is still some room for performance tuning.\n",
       "    var ws = {};\n",
       "\n",
       "    ws.close = function() {\n",
       "        comm.close()\n",
       "    };\n",
       "    ws.send = function(m) {\n",
       "        //console.log('sending', m);\n",
       "        comm.send(m);\n",
       "    };\n",
       "    // Register the callback with on_msg.\n",
       "    comm.on_msg(function(msg) {\n",
       "        //console.log('receiving', msg['content']['data'], msg);\n",
       "        // Pass the mpl event to the overridden (by mpl) onmessage function.\n",
       "        ws.onmessage(msg['content']['data'])\n",
       "    });\n",
       "    return ws;\n",
       "}\n",
       "\n",
       "mpl.mpl_figure_comm = function(comm, msg) {\n",
       "    // This is the function which gets called when the mpl process\n",
       "    // starts-up an IPython Comm through the \"matplotlib\" channel.\n",
       "\n",
       "    var id = msg.content.data.id;\n",
       "    // Get hold of the div created by the display call when the Comm\n",
       "    // socket was opened in Python.\n",
       "    var element = $(\"#\" + id);\n",
       "    var ws_proxy = comm_websocket_adapter(comm)\n",
       "\n",
       "    function ondownload(figure, format) {\n",
       "        window.open(figure.imageObj.src);\n",
       "    }\n",
       "\n",
       "    var fig = new mpl.figure(id, ws_proxy,\n",
       "                           ondownload,\n",
       "                           element.get(0));\n",
       "\n",
       "    // Call onopen now - mpl needs it, as it is assuming we've passed it a real\n",
       "    // web socket which is closed, not our websocket->open comm proxy.\n",
       "    ws_proxy.onopen();\n",
       "\n",
       "    fig.parent_element = element.get(0);\n",
       "    fig.cell_info = mpl.find_output_cell(\"<div id='\" + id + \"'></div>\");\n",
       "    if (!fig.cell_info) {\n",
       "        console.error(\"Failed to find cell for figure\", id, fig);\n",
       "        return;\n",
       "    }\n",
       "\n",
       "    var output_index = fig.cell_info[2]\n",
       "    var cell = fig.cell_info[0];\n",
       "\n",
       "};\n",
       "\n",
       "mpl.figure.prototype.handle_close = function(fig, msg) {\n",
       "    var width = fig.canvas.width/mpl.ratio\n",
       "    fig.root.unbind('remove')\n",
       "\n",
       "    // Update the output cell to use the data from the current canvas.\n",
       "    fig.push_to_output();\n",
       "    var dataURL = fig.canvas.toDataURL();\n",
       "    // Re-enable the keyboard manager in IPython - without this line, in FF,\n",
       "    // the notebook keyboard shortcuts fail.\n",
       "    IPython.keyboard_manager.enable()\n",
       "    $(fig.parent_element).html('<img src=\"' + dataURL + '\" width=\"' + width + '\">');\n",
       "    fig.close_ws(fig, msg);\n",
       "}\n",
       "\n",
       "mpl.figure.prototype.close_ws = function(fig, msg){\n",
       "    fig.send_message('closing', msg);\n",
       "    // fig.ws.close()\n",
       "}\n",
       "\n",
       "mpl.figure.prototype.push_to_output = function(remove_interactive) {\n",
       "    // Turn the data on the canvas into data in the output cell.\n",
       "    var width = this.canvas.width/mpl.ratio\n",
       "    var dataURL = this.canvas.toDataURL();\n",
       "    this.cell_info[1]['text/html'] = '<img src=\"' + dataURL + '\" width=\"' + width + '\">';\n",
       "}\n",
       "\n",
       "mpl.figure.prototype.updated_canvas_event = function() {\n",
       "    // Tell IPython that the notebook contents must change.\n",
       "    IPython.notebook.set_dirty(true);\n",
       "    this.send_message(\"ack\", {});\n",
       "    var fig = this;\n",
       "    // Wait a second, then push the new image to the DOM so\n",
       "    // that it is saved nicely (might be nice to debounce this).\n",
       "    setTimeout(function () { fig.push_to_output() }, 1000);\n",
       "}\n",
       "\n",
       "mpl.figure.prototype._init_toolbar = function() {\n",
       "    var fig = this;\n",
       "\n",
       "    var nav_element = $('<div/>')\n",
       "    nav_element.attr('style', 'width: 100%');\n",
       "    this.root.append(nav_element);\n",
       "\n",
       "    // Define a callback function for later on.\n",
       "    function toolbar_event(event) {\n",
       "        return fig.toolbar_button_onclick(event['data']);\n",
       "    }\n",
       "    function toolbar_mouse_event(event) {\n",
       "        return fig.toolbar_button_onmouseover(event['data']);\n",
       "    }\n",
       "\n",
       "    for(var toolbar_ind in mpl.toolbar_items){\n",
       "        var name = mpl.toolbar_items[toolbar_ind][0];\n",
       "        var tooltip = mpl.toolbar_items[toolbar_ind][1];\n",
       "        var image = mpl.toolbar_items[toolbar_ind][2];\n",
       "        var method_name = mpl.toolbar_items[toolbar_ind][3];\n",
       "\n",
       "        if (!name) { continue; };\n",
       "\n",
       "        var button = $('<button class=\"btn btn-default\" href=\"#\" title=\"' + name + '\"><i class=\"fa ' + image + ' fa-lg\"></i></button>');\n",
       "        button.click(method_name, toolbar_event);\n",
       "        button.mouseover(tooltip, toolbar_mouse_event);\n",
       "        nav_element.append(button);\n",
       "    }\n",
       "\n",
       "    // Add the status bar.\n",
       "    var status_bar = $('<span class=\"mpl-message\" style=\"text-align:right; float: right;\"/>');\n",
       "    nav_element.append(status_bar);\n",
       "    this.message = status_bar[0];\n",
       "\n",
       "    // Add the close button to the window.\n",
       "    var buttongrp = $('<div class=\"btn-group inline pull-right\"></div>');\n",
       "    var button = $('<button class=\"btn btn-mini btn-primary\" href=\"#\" title=\"Stop Interaction\"><i class=\"fa fa-power-off icon-remove icon-large\"></i></button>');\n",
       "    button.click(function (evt) { fig.handle_close(fig, {}); } );\n",
       "    button.mouseover('Stop Interaction', toolbar_mouse_event);\n",
       "    buttongrp.append(button);\n",
       "    var titlebar = this.root.find($('.ui-dialog-titlebar'));\n",
       "    titlebar.prepend(buttongrp);\n",
       "}\n",
       "\n",
       "mpl.figure.prototype._root_extra_style = function(el){\n",
       "    var fig = this\n",
       "    el.on(\"remove\", function(){\n",
       "\tfig.close_ws(fig, {});\n",
       "    });\n",
       "}\n",
       "\n",
       "mpl.figure.prototype._canvas_extra_style = function(el){\n",
       "    // this is important to make the div 'focusable\n",
       "    el.attr('tabindex', 0)\n",
       "    // reach out to IPython and tell the keyboard manager to turn it's self\n",
       "    // off when our div gets focus\n",
       "\n",
       "    // location in version 3\n",
       "    if (IPython.notebook.keyboard_manager) {\n",
       "        IPython.notebook.keyboard_manager.register_events(el);\n",
       "    }\n",
       "    else {\n",
       "        // location in version 2\n",
       "        IPython.keyboard_manager.register_events(el);\n",
       "    }\n",
       "\n",
       "}\n",
       "\n",
       "mpl.figure.prototype._key_event_extra = function(event, name) {\n",
       "    var manager = IPython.notebook.keyboard_manager;\n",
       "    if (!manager)\n",
       "        manager = IPython.keyboard_manager;\n",
       "\n",
       "    // Check for shift+enter\n",
       "    if (event.shiftKey && event.which == 13) {\n",
       "        this.canvas_div.blur();\n",
       "        event.shiftKey = false;\n",
       "        // Send a \"J\" for go to next cell\n",
       "        event.which = 74;\n",
       "        event.keyCode = 74;\n",
       "        manager.command_mode();\n",
       "        manager.handle_keydown(event);\n",
       "    }\n",
       "}\n",
       "\n",
       "mpl.figure.prototype.handle_save = function(fig, msg) {\n",
       "    fig.ondownload(fig, null);\n",
       "}\n",
       "\n",
       "\n",
       "mpl.find_output_cell = function(html_output) {\n",
       "    // Return the cell and output element which can be found *uniquely* in the notebook.\n",
       "    // Note - this is a bit hacky, but it is done because the \"notebook_saving.Notebook\"\n",
       "    // IPython event is triggered only after the cells have been serialised, which for\n",
       "    // our purposes (turning an active figure into a static one), is too late.\n",
       "    var cells = IPython.notebook.get_cells();\n",
       "    var ncells = cells.length;\n",
       "    for (var i=0; i<ncells; i++) {\n",
       "        var cell = cells[i];\n",
       "        if (cell.cell_type === 'code'){\n",
       "            for (var j=0; j<cell.output_area.outputs.length; j++) {\n",
       "                var data = cell.output_area.outputs[j];\n",
       "                if (data.data) {\n",
       "                    // IPython >= 3 moved mimebundle to data attribute of output\n",
       "                    data = data.data;\n",
       "                }\n",
       "                if (data['text/html'] == html_output) {\n",
       "                    return [cell, data, j];\n",
       "                }\n",
       "            }\n",
       "        }\n",
       "    }\n",
       "}\n",
       "\n",
       "// Register the function which deals with the matplotlib target/channel.\n",
       "// The kernel may be null if the page has been refreshed.\n",
       "if (IPython.notebook.kernel != null) {\n",
       "    IPython.notebook.kernel.comm_manager.register_target('matplotlib', mpl.mpl_figure_comm);\n",
       "}\n"
      ],
      "text/plain": [
       "<IPython.core.display.Javascript object>"
      ]
     },
     "metadata": {},
     "output_type": "display_data"
    },
    {
     "data": {
      "text/html": [
       "<img src=\"data:image/png;base64,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\" width=\"640\">"
      ],
      "text/plain": [
       "<IPython.core.display.HTML object>"
      ]
     },
     "metadata": {},
     "output_type": "display_data"
    }
   ],
   "source": [
    "# check for any outliers in the data after trip duration outliers removed\n",
    "# box-plot for speeds with outliers\n",
    "frame_with_durations_modified['Speed'] = 60*(frame_with_durations_modified['trip_distance']/frame_with_durations_modified['trip_times'])\n",
    "sns.boxplot(y=\"Speed\", data =frame_with_durations_modified)\n",
    "plt.show()"
   ]
  },
  {
   "cell_type": "code",
   "execution_count": 21,
   "metadata": {
    "colab": {},
    "colab_type": "code",
    "id": "Y0yi1ABQpYS6",
    "outputId": "a381e749-451c-45e4-9456-a17c80b4410d"
   },
   "outputs": [
    {
     "name": "stdout",
     "output_type": "stream",
     "text": [
      "0 percentile value is 0.0\n",
      "10 percentile value is 6.409495548961425\n",
      "20 percentile value is 7.80952380952381\n",
      "30 percentile value is 8.929133858267717\n",
      "40 percentile value is 9.98019801980198\n",
      "50 percentile value is 11.06865671641791\n",
      "60 percentile value is 12.286689419795222\n",
      "70 percentile value is 13.796407185628745\n",
      "80 percentile value is 15.963224893917962\n",
      "90 percentile value is 20.186915887850468\n",
      "100 percentile value is  192857142.85714284\n"
     ]
    }
   ],
   "source": [
    "#calculating speed values at each percntile 0,10,20,30,40,50,60,70,80,90,100 \n",
    "for i in range(0,100,10):\n",
    "    var =frame_with_durations_modified[\"Speed\"].values\n",
    "    var = np.sort(var,axis = None)\n",
    "    print(\"{} percentile value is {}\".format(i,var[int(len(var)*(float(i)/100))]))\n",
    "print(\"100 percentile value is \",var[-1])"
   ]
  },
  {
   "cell_type": "code",
   "execution_count": 22,
   "metadata": {
    "colab": {},
    "colab_type": "code",
    "id": "_r5dllIcpYS-",
    "outputId": "f635dc37-59da-45b6-bb1f-98c23bf5cfdb"
   },
   "outputs": [
    {
     "name": "stdout",
     "output_type": "stream",
     "text": [
      "90 percentile value is 20.186915887850468\n",
      "91 percentile value is 20.91645569620253\n",
      "92 percentile value is 21.752988047808763\n",
      "93 percentile value is 22.721893491124263\n",
      "94 percentile value is 23.844155844155843\n",
      "95 percentile value is 25.182552504038775\n",
      "96 percentile value is 26.80851063829787\n",
      "97 percentile value is 28.84304932735426\n",
      "98 percentile value is 31.591128254580514\n",
      "99 percentile value is 35.7513566847558\n",
      "100 percentile value is  192857142.85714284\n"
     ]
    }
   ],
   "source": [
    "#calculating speed values at each percntile 90,91,92,93,94,95,96,97,98,99,100\n",
    "for i in range(90,100):\n",
    "    var =frame_with_durations_modified[\"Speed\"].values\n",
    "    var = np.sort(var,axis = None)\n",
    "    print(\"{} percentile value is {}\".format(i,var[int(len(var)*(float(i)/100))]))\n",
    "print(\"100 percentile value is \",var[-1])"
   ]
  },
  {
   "cell_type": "code",
   "execution_count": 23,
   "metadata": {
    "colab": {},
    "colab_type": "code",
    "id": "-DnlaavLpYTB",
    "outputId": "862cf5e5-e48f-414e-b700-a9f2c86e64e4"
   },
   "outputs": [
    {
     "name": "stdout",
     "output_type": "stream",
     "text": [
      "99.0 percentile value is 35.7513566847558\n",
      "99.1 percentile value is 36.31084727468969\n",
      "99.2 percentile value is 36.91470054446461\n",
      "99.3 percentile value is 37.588235294117645\n",
      "99.4 percentile value is 38.33035714285714\n",
      "99.5 percentile value is 39.17580340264651\n",
      "99.6 percentile value is 40.15384615384615\n",
      "99.7 percentile value is 41.338301043219076\n",
      "99.8 percentile value is 42.86631016042781\n",
      "99.9 percentile value is 45.3107822410148\n",
      "100 percentile value is  192857142.85714284\n"
     ]
    }
   ],
   "source": [
    "#calculating speed values at each percntile 99.0,99.1,99.2,99.3,99.4,99.5,99.6,99.7,99.8,99.9,100\n",
    "for i in np.arange(0.0, 1.0, 0.1):\n",
    "    var =frame_with_durations_modified[\"Speed\"].values\n",
    "    var = np.sort(var,axis = None)\n",
    "    print(\"{} percentile value is {}\".format(99+i,var[int(len(var)*(float(99+i)/100))]))\n",
    "print(\"100 percentile value is \",var[-1])"
   ]
  },
  {
   "cell_type": "code",
   "execution_count": 16,
   "metadata": {
    "colab": {},
    "colab_type": "code",
    "id": "4tOl7JX6pYTG"
   },
   "outputs": [],
   "source": [
    "#removing further outliers based on the 99.9th percentile value\n",
    "frame_with_durations_modified=frame_with_durations[(frame_with_durations.Speed>0) & (frame_with_durations.Speed<45.31)]"
   ]
  },
  {
   "cell_type": "code",
   "execution_count": 17,
   "metadata": {
    "colab": {},
    "colab_type": "code",
    "id": "8mN_lVT0pYTJ",
    "outputId": "2ed6f2af-0804-4e80-f70f-51be92fd53f4"
   },
   "outputs": [
    {
     "data": {
      "text/plain": [
       "12.450173996027528"
      ]
     },
     "execution_count": 17,
     "metadata": {},
     "output_type": "execute_result"
    }
   ],
   "source": [
    "#avg.speed of cabs in New-York\n",
    "sum(frame_with_durations_modified[\"Speed\"]) / float(len(frame_with_durations_modified[\"Speed\"]))"
   ]
  },
  {
   "cell_type": "markdown",
   "metadata": {
    "colab_type": "text",
    "id": "NTIxRcNHpYTS"
   },
   "source": [
    "<b style='font-size:16px'>The avg speed in Newyork speed is 12.45miles/hr, so a cab driver can travel <font color='blue'> 2 miles per 10min on avg.</font> </b>"
   ]
  },
  {
   "cell_type": "markdown",
   "metadata": {
    "colab_type": "text",
    "id": "wXpRUuKTpYTT"
   },
   "source": [
    "### 4. Trip Distance"
   ]
  },
  {
   "cell_type": "code",
   "execution_count": 26,
   "metadata": {
    "colab": {},
    "colab_type": "code",
    "id": "ZirabsfNpYTU",
    "outputId": "eeff0c02-fa70-412a-b301-92d481e8a60e"
   },
   "outputs": [],
   "source": [
    "# up to now we have removed the outliers based on trip durations and cab speeds\n",
    "# lets try if there are any outliers in trip distances\n",
    "# box-plot showing outliers in trip-distance values\n",
    "sns.boxplot(y=\"trip_distance\", data =frame_with_durations_modified)\n",
    "plt.show()"
   ]
  },
  {
   "cell_type": "code",
   "execution_count": 27,
   "metadata": {
    "colab": {},
    "colab_type": "code",
    "id": "bCSakQ_TpYTX",
    "outputId": "4861bd72-cfd5-4ec9-dff4-663b12720d48"
   },
   "outputs": [
    {
     "name": "stdout",
     "output_type": "stream",
     "text": [
      "0 percentile value is 0.01\n",
      "10 percentile value is 0.66\n",
      "20 percentile value is 0.9\n",
      "30 percentile value is 1.1\n",
      "40 percentile value is 1.39\n",
      "50 percentile value is 1.69\n",
      "60 percentile value is 2.07\n",
      "70 percentile value is 2.6\n",
      "80 percentile value is 3.6\n",
      "90 percentile value is 5.97\n",
      "100 percentile value is  258.9\n"
     ]
    }
   ],
   "source": [
    "#calculating trip distance values at each percntile 0,10,20,30,40,50,60,70,80,90,100 \n",
    "for i in range(0,100,10):\n",
    "    var =frame_with_durations_modified[\"trip_distance\"].values\n",
    "    var = np.sort(var,axis = None)\n",
    "    print(\"{} percentile value is {}\".format(i,var[int(len(var)*(float(i)/100))]))\n",
    "print(\"100 percentile value is \",var[-1])"
   ]
  },
  {
   "cell_type": "code",
   "execution_count": 28,
   "metadata": {
    "colab": {},
    "colab_type": "code",
    "id": "ELszXDehpYTa",
    "outputId": "1bce9682-ec9f-4a29-b065-f3ba1d651ba1"
   },
   "outputs": [
    {
     "name": "stdout",
     "output_type": "stream",
     "text": [
      "90 percentile value is 5.97\n",
      "91 percentile value is 6.45\n",
      "92 percentile value is 7.07\n",
      "93 percentile value is 7.85\n",
      "94 percentile value is 8.72\n",
      "95 percentile value is 9.6\n",
      "96 percentile value is 10.6\n",
      "97 percentile value is 12.1\n",
      "98 percentile value is 16.03\n",
      "99 percentile value is 18.17\n",
      "100 percentile value is  258.9\n"
     ]
    }
   ],
   "source": [
    "#calculating trip distance values at each percntile 90,91,92,93,94,95,96,97,98,99,100\n",
    "for i in range(90,100):\n",
    "    var =frame_with_durations_modified[\"trip_distance\"].values\n",
    "    var = np.sort(var,axis = None)\n",
    "    print(\"{} percentile value is {}\".format(i,var[int(len(var)*(float(i)/100))]))\n",
    "print(\"100 percentile value is \",var[-1])"
   ]
  },
  {
   "cell_type": "code",
   "execution_count": 29,
   "metadata": {
    "colab": {},
    "colab_type": "code",
    "id": "-qFqC3TDpYTc",
    "outputId": "1f3a2d6e-4de7-4383-fd82-e8ee4abe32d9"
   },
   "outputs": [
    {
     "name": "stdout",
     "output_type": "stream",
     "text": [
      "99.0 percentile value is 18.17\n",
      "99.1 percentile value is 18.37\n",
      "99.2 percentile value is 18.6\n",
      "99.3 percentile value is 18.83\n",
      "99.4 percentile value is 19.13\n",
      "99.5 percentile value is 19.5\n",
      "99.6 percentile value is 19.96\n",
      "99.7 percentile value is 20.5\n",
      "99.8 percentile value is 21.22\n",
      "99.9 percentile value is 22.57\n",
      "100 percentile value is  258.9\n"
     ]
    }
   ],
   "source": [
    "#calculating trip distance values at each percntile 99.0,99.1,99.2,99.3,99.4,99.5,99.6,99.7,99.8,99.9,100\n",
    "for i in np.arange(0.0, 1.0, 0.1):\n",
    "    var =frame_with_durations_modified[\"trip_distance\"].values\n",
    "    var = np.sort(var,axis = None)\n",
    "    print(\"{} percentile value is {}\".format(99+i,var[int(len(var)*(float(99+i)/100))]))\n",
    "print(\"100 percentile value is \",var[-1])"
   ]
  },
  {
   "cell_type": "code",
   "execution_count": 18,
   "metadata": {
    "colab": {},
    "colab_type": "code",
    "id": "zvbqa_oGpYTf"
   },
   "outputs": [],
   "source": [
    "#removing further outliers based on the 99.9th percentile value\n",
    "frame_with_durations_modified=frame_with_durations[(frame_with_durations.trip_distance>0) & (frame_with_durations.trip_distance<23)]"
   ]
  },
  {
   "cell_type": "code",
   "execution_count": 31,
   "metadata": {
    "colab": {},
    "colab_type": "code",
    "id": "x5IQIQjFpYTh",
    "outputId": "b85a5f57-a333-42d9-a83e-f1e35cbdc1f6"
   },
   "outputs": [],
   "source": [
    "#box-plot after removal of outliers\n",
    "sns.boxplot(y=\"trip_distance\", data = frame_with_durations_modified)\n",
    "plt.show()"
   ]
  },
  {
   "cell_type": "markdown",
   "metadata": {
    "colab_type": "text",
    "id": "cXWwikpxpYTl"
   },
   "source": [
    "### 5. Total Fare"
   ]
  },
  {
   "cell_type": "code",
   "execution_count": 32,
   "metadata": {
    "colab": {},
    "colab_type": "code",
    "id": "oYrsaxbBpYTm",
    "outputId": "e9d17a41-faea-41f6-b2ca-6261aea5930e"
   },
   "outputs": [],
   "source": [
    "# up to now we have removed the outliers based on trip durations, cab speeds, and trip distances\n",
    "# lets try if there are any outliers in based on the total_amount\n",
    "# box-plot showing outliers in fare\n",
    "sns.boxplot(y=\"total_amount\", data =frame_with_durations_modified)\n",
    "plt.show()"
   ]
  },
  {
   "cell_type": "code",
   "execution_count": 33,
   "metadata": {
    "colab": {},
    "colab_type": "code",
    "id": "cI2KC9QipYTo",
    "outputId": "69b71990-e810-4078-9be6-138323edaf1f"
   },
   "outputs": [
    {
     "name": "stdout",
     "output_type": "stream",
     "text": [
      "0 percentile value is -242.55\n",
      "10 percentile value is 6.3\n",
      "20 percentile value is 7.8\n",
      "30 percentile value is 8.8\n",
      "40 percentile value is 9.8\n",
      "50 percentile value is 11.16\n",
      "60 percentile value is 12.8\n",
      "70 percentile value is 14.8\n",
      "80 percentile value is 18.3\n",
      "90 percentile value is 25.8\n",
      "100 percentile value is  3950611.6\n"
     ]
    }
   ],
   "source": [
    "#calculating total fare amount values at each percntile 0,10,20,30,40,50,60,70,80,90,100 \n",
    "for i in range(0,100,10):\n",
    "    var = frame_with_durations_modified[\"total_amount\"].values\n",
    "    var = np.sort(var,axis = None)\n",
    "    print(\"{} percentile value is {}\".format(i,var[int(len(var)*(float(i)/100))]))\n",
    "print(\"100 percentile value is \",var[-1])"
   ]
  },
  {
   "cell_type": "code",
   "execution_count": 34,
   "metadata": {
    "colab": {},
    "colab_type": "code",
    "id": "_i7OiuGLpYTr",
    "outputId": "595fc288-2f41-47e6-c0f5-f44912c35df7"
   },
   "outputs": [
    {
     "name": "stdout",
     "output_type": "stream",
     "text": [
      "90 percentile value is 25.8\n",
      "91 percentile value is 27.3\n",
      "92 percentile value is 29.3\n",
      "93 percentile value is 31.8\n",
      "94 percentile value is 34.8\n",
      "95 percentile value is 38.53\n",
      "96 percentile value is 42.6\n",
      "97 percentile value is 48.13\n",
      "98 percentile value is 58.13\n",
      "99 percentile value is 66.13\n",
      "100 percentile value is  3950611.6\n"
     ]
    }
   ],
   "source": [
    "#calculating total fare amount values at each percntile 90,91,92,93,94,95,96,97,98,99,100\n",
    "for i in range(90,100):\n",
    "    var = frame_with_durations_modified[\"total_amount\"].values\n",
    "    var = np.sort(var,axis = None)\n",
    "    print(\"{} percentile value is {}\".format(i,var[int(len(var)*(float(i)/100))]))\n",
    "print(\"100 percentile value is \",var[-1])"
   ]
  },
  {
   "cell_type": "code",
   "execution_count": 35,
   "metadata": {
    "colab": {},
    "colab_type": "code",
    "id": "qezpzkQEpYTt",
    "outputId": "d5adc780-a7be-4964-a83b-fcd513f7c1ae"
   },
   "outputs": [
    {
     "name": "stdout",
     "output_type": "stream",
     "text": [
      "99.0 percentile value is 66.13\n",
      "99.1 percentile value is 68.13\n",
      "99.2 percentile value is 69.6\n",
      "99.3 percentile value is 69.6\n",
      "99.4 percentile value is 69.73\n",
      "99.5 percentile value is 69.75\n",
      "99.6 percentile value is 69.76\n",
      "99.7 percentile value is 72.58\n",
      "99.8 percentile value is 75.35\n",
      "99.9 percentile value is 88.28\n",
      "100 percentile value is  3950611.6\n"
     ]
    }
   ],
   "source": [
    "#calculating total fare amount values at each percntile 99.0,99.1,99.2,99.3,99.4,99.5,99.6,99.7,99.8,99.9,100\n",
    "for i in np.arange(0.0, 1.0, 0.1):\n",
    "    var = frame_with_durations_modified[\"total_amount\"].values\n",
    "    var = np.sort(var,axis = None)\n",
    "    print(\"{} percentile value is {}\".format(99+i,var[int(len(var)*(float(99+i)/100))]))\n",
    "print(\"100 percentile value is \",var[-1])"
   ]
  },
  {
   "cell_type": "markdown",
   "metadata": {
    "colab_type": "text",
    "id": "lC4YdJFxpYTv"
   },
   "source": [
    "<b>Observation:-</b> As even the 99.9th percentile value doesnt look like an outlier,as there is not much difference between the 99.8th percentile and 99.9th percentile, we move on to do graphical analyis"
   ]
  },
  {
   "cell_type": "code",
   "execution_count": 36,
   "metadata": {
    "colab": {},
    "colab_type": "code",
    "id": "foR7D-kCpYTw",
    "outputId": "1bec5fe0-8950-4459-dd90-17e3b58468a1"
   },
   "outputs": [],
   "source": [
    "#below plot shows us the fare values(sorted) to find a sharp increase to remove those values as outliers\n",
    "# plot the fare amount excluding last two values in sorted data\n",
    "plt.plot(var[:-2])\n",
    "plt.show()"
   ]
  },
  {
   "cell_type": "code",
   "execution_count": 37,
   "metadata": {
    "colab": {},
    "colab_type": "code",
    "id": "l342yQzhpYTz",
    "outputId": "6bdee300-ea3e-47fc-edaf-1bf5ab902b2a"
   },
   "outputs": [],
   "source": [
    "# a very sharp increase in fare values can be seen \n",
    "# plotting last three total fare values, and we can observe there is share increase in the values\n",
    "plt.plot(var[-3:])\n",
    "plt.show()"
   ]
  },
  {
   "cell_type": "code",
   "execution_count": 38,
   "metadata": {
    "colab": {},
    "colab_type": "code",
    "id": "gr1X5fvlpYT4",
    "outputId": "4ba61efc-0446-4c89-b26d-4f8a2d154a55"
   },
   "outputs": [],
   "source": [
    "#now looking at values not including the last two points we again find a drastic increase at around 1000 fare value\n",
    "# we plot last 50 values excluding last two values\n",
    "plt.plot(var[-50:-2])\n",
    "plt.show()"
   ]
  },
  {
   "cell_type": "markdown",
   "metadata": {
    "colab_type": "text",
    "id": "HlvWCK4PpYT7"
   },
   "source": [
    "## Remove all outliers/erronous points."
   ]
  },
  {
   "cell_type": "code",
   "execution_count": 12,
   "metadata": {
    "colab": {},
    "colab_type": "code",
    "id": "SPORvXJHpYT8"
   },
   "outputs": [],
   "source": [
    "#removing all outliers based on our univariate analysis above\n",
    "def remove_outliers(new_frame):\n",
    "\n",
    "    \n",
    "    a = new_frame.shape[0]\n",
    "    print (\"Number of pickup records = \",a)\n",
    "    temp_frame = new_frame[((new_frame.dropoff_longitude >= -74.15) & (new_frame.dropoff_longitude <= -73.7004) &\\\n",
    "                       (new_frame.dropoff_latitude >= 40.5774) & (new_frame.dropoff_latitude <= 40.9176)) & \\\n",
    "                       ((new_frame.pickup_longitude >= -74.15) & (new_frame.pickup_latitude >= 40.5774)& \\\n",
    "                       (new_frame.pickup_longitude <= -73.7004) & (new_frame.pickup_latitude <= 40.9176))]\n",
    "    b = temp_frame.shape[0]\n",
    "    print (\"Number of outlier coordinates lying outside NY boundaries:\",(a-b))\n",
    "\n",
    "    \n",
    "    temp_frame = new_frame[(new_frame.trip_times > 0) & (new_frame.trip_times < 720)]\n",
    "    c = temp_frame.shape[0]\n",
    "    print (\"Number of outliers from trip times analysis:\",(a-c))\n",
    "    \n",
    "    \n",
    "    temp_frame = new_frame[(new_frame.trip_distance > 0) & (new_frame.trip_distance < 23)]\n",
    "    d = temp_frame.shape[0]\n",
    "    print (\"Number of outliers from trip distance analysis:\",(a-d))\n",
    "    \n",
    "    temp_frame = new_frame[(new_frame.Speed <= 65) & (new_frame.Speed >= 0)]\n",
    "    e = temp_frame.shape[0]\n",
    "    print (\"Number of outliers from speed analysis:\",(a-e))\n",
    "    \n",
    "    temp_frame = new_frame[(new_frame.total_amount <1000) & (new_frame.total_amount >0)]\n",
    "    f = temp_frame.shape[0]\n",
    "    print (\"Number of outliers from fare analysis:\",(a-f))\n",
    "    \n",
    "    \n",
    "    new_frame = new_frame[((new_frame.dropoff_longitude >= -74.15) & (new_frame.dropoff_longitude <= -73.7004) &\\\n",
    "                       (new_frame.dropoff_latitude >= 40.5774) & (new_frame.dropoff_latitude <= 40.9176)) & \\\n",
    "                       ((new_frame.pickup_longitude >= -74.15) & (new_frame.pickup_latitude >= 40.5774)& \\\n",
    "                       (new_frame.pickup_longitude <= -73.7004) & (new_frame.pickup_latitude <= 40.9176))]\n",
    "    \n",
    "    new_frame = new_frame[(new_frame.trip_times > 0) & (new_frame.trip_times < 720)]\n",
    "    new_frame = new_frame[(new_frame.trip_distance > 0) & (new_frame.trip_distance < 23)]\n",
    "    new_frame = new_frame[(new_frame.Speed < 45.31) & (new_frame.Speed > 0)]\n",
    "    new_frame = new_frame[(new_frame.total_amount <1000) & (new_frame.total_amount >0)]\n",
    "    \n",
    "    print (\"Total outliers removed\",a - new_frame.shape[0])\n",
    "    print (\"---\")\n",
    "    return new_frame"
   ]
  },
  {
   "cell_type": "code",
   "execution_count": 20,
   "metadata": {
    "colab": {},
    "colab_type": "code",
    "id": "gLt_0naFpYT-",
    "outputId": "b9346ed9-12b2-4c9e-f6a4-c7386fe13f53",
    "scrolled": false
   },
   "outputs": [
    {
     "name": "stdout",
     "output_type": "stream",
     "text": [
      "Removing outliers in the month of Jan-2015\n",
      "----\n",
      "Number of pickup records =  12748986\n",
      "Number of outlier coordinates lying outside NY boundaries: 293919\n",
      "Number of outliers from trip times analysis: 23889\n",
      "Number of outliers from trip distance analysis: 92597\n",
      "Number of outliers from speed analysis: 24473\n",
      "Number of outliers from fare analysis: 5275\n",
      "Total outliers removed 377910\n",
      "---\n",
      "fraction of data points that remain after removing outliers 0.9703576425607495\n"
     ]
    }
   ],
   "source": [
    "print (\"Removing outliers in the month of Jan-2015\")\n",
    "print (\"----\")\n",
    "frame_with_durations_outliers_removed = remove_outliers(frame_with_durations)\n",
    "print(\"fraction of data points that remain after removing outliers\", float(len(frame_with_durations_outliers_removed))/len(frame_with_durations))"
   ]
  },
  {
   "cell_type": "markdown",
   "metadata": {},
   "source": [
    "# Dumping computation in pickle file"
   ]
  },
  {
   "cell_type": "code",
   "execution_count": 2,
   "metadata": {},
   "outputs": [
    {
     "ename": "NameError",
     "evalue": "name 'frame_with_durations_outliers_removed' is not defined",
     "output_type": "error",
     "traceback": [
      "\u001b[1;31m---------------------------------------------------------------------------\u001b[0m",
      "\u001b[1;31mNameError\u001b[0m                                 Traceback (most recent call last)",
      "\u001b[1;32m<ipython-input-2-e43b3c53cdd4>\u001b[0m in \u001b[0;36m<module>\u001b[1;34m\u001b[0m\n\u001b[0;32m      2\u001b[0m \u001b[1;33m\u001b[0m\u001b[0m\n\u001b[0;32m      3\u001b[0m \u001b[0mframe_with_durations_outliers_removed_pickle\u001b[0m \u001b[1;33m=\u001b[0m \u001b[0mopen\u001b[0m\u001b[1;33m(\u001b[0m\u001b[1;34m\"frame_with_durations_outliers_removed.pickle\"\u001b[0m\u001b[1;33m,\u001b[0m \u001b[1;34m\"wb\"\u001b[0m\u001b[1;33m)\u001b[0m\u001b[1;33m\u001b[0m\u001b[1;33m\u001b[0m\u001b[0m\n\u001b[1;32m----> 4\u001b[1;33m \u001b[0mpickle\u001b[0m\u001b[1;33m.\u001b[0m\u001b[0mdump\u001b[0m\u001b[1;33m(\u001b[0m\u001b[0mframe_with_durations_outliers_removed\u001b[0m\u001b[1;33m,\u001b[0m \u001b[0mframe_with_durations_outliers_removed_pickle\u001b[0m\u001b[1;33m)\u001b[0m\u001b[1;33m\u001b[0m\u001b[1;33m\u001b[0m\u001b[0m\n\u001b[0m\u001b[0;32m      5\u001b[0m \u001b[0mframe_with_durations_outliers_removed_pickle\u001b[0m\u001b[1;33m.\u001b[0m\u001b[0mclose\u001b[0m\u001b[1;33m(\u001b[0m\u001b[1;33m)\u001b[0m\u001b[1;33m\u001b[0m\u001b[1;33m\u001b[0m\u001b[0m\n",
      "\u001b[1;31mNameError\u001b[0m: name 'frame_with_durations_outliers_removed' is not defined"
     ]
    }
   ],
   "source": [
    "# import pickle\n",
    "\n",
    "# frame_with_durations_outliers_removed_pickle = open(\"frame_with_durations_outliers_removed.pickle\", \"wb\")\n",
    "# pickle.dump(frame_with_durations_outliers_removed, frame_with_durations_outliers_removed_pickle)\n",
    "# frame_with_durations_outliers_removed_pickle.close()"
   ]
  },
  {
   "cell_type": "code",
   "execution_count": null,
   "metadata": {},
   "outputs": [],
   "source": []
  },
  {
   "cell_type": "code",
   "execution_count": 3,
   "metadata": {},
   "outputs": [
    {
     "ename": "EOFError",
     "evalue": "Ran out of input",
     "output_type": "error",
     "traceback": [
      "\u001b[1;31m---------------------------------------------------------------------------\u001b[0m",
      "\u001b[1;31mEOFError\u001b[0m                                  Traceback (most recent call last)",
      "\u001b[1;32m<ipython-input-3-c982e6ed24db>\u001b[0m in \u001b[0;36m<module>\u001b[1;34m\u001b[0m\n\u001b[0;32m      1\u001b[0m \u001b[0mpickle_in\u001b[0m \u001b[1;33m=\u001b[0m \u001b[0mopen\u001b[0m\u001b[1;33m(\u001b[0m\u001b[1;34m\"frame_with_durations_outliers_removed.pickle\"\u001b[0m\u001b[1;33m,\u001b[0m\u001b[1;34m\"rb\"\u001b[0m\u001b[1;33m)\u001b[0m\u001b[1;33m\u001b[0m\u001b[1;33m\u001b[0m\u001b[0m\n\u001b[1;32m----> 2\u001b[1;33m \u001b[0mframe_with_durations_outliers_removed_pickle\u001b[0m \u001b[1;33m=\u001b[0m \u001b[0mpickle\u001b[0m\u001b[1;33m.\u001b[0m\u001b[0mload\u001b[0m\u001b[1;33m(\u001b[0m\u001b[0mpickle_in\u001b[0m\u001b[1;33m)\u001b[0m\u001b[1;33m\u001b[0m\u001b[1;33m\u001b[0m\u001b[0m\n\u001b[0m",
      "\u001b[1;31mEOFError\u001b[0m: Ran out of input"
     ]
    }
   ],
   "source": [
    "# pickle_in = open(\"frame_with_durations_outliers_removed.pickle\",\"rb\")\n",
    "# frame_with_durations_outliers_removed_pickle = pickle.load(pickle_in)"
   ]
  },
  {
   "cell_type": "markdown",
   "metadata": {
    "colab_type": "text",
    "id": "wiSR_ZaspYUA"
   },
   "source": [
    "# Data-preperation\n",
    "## Clustering/Segmentation"
   ]
  },
  {
   "cell_type": "code",
   "execution_count": 10,
   "metadata": {
    "colab": {},
    "colab_type": "code",
    "id": "bdy3QNcupYUB",
    "outputId": "45e00b98-477e-415d-d1c7-fa5fc6c230f0",
    "scrolled": false
   },
   "outputs": [
    {
     "name": "stdout",
     "output_type": "stream",
     "text": [
      "On choosing a cluster size of  10 \n",
      "Avg. Number of Clusters within the vicinity (i.e. intercluster-distance < 2): 2.0 \n",
      "Avg. Number of Clusters outside the vicinity (i.e. intercluster-distance > 2): 8.0 \n",
      "Min inter-cluster distance =  1.0945442325142543 \n",
      "Max inter-cluster distance =  2.4878188837395276 \n",
      "---\n"
     ]
    },
    {
     "ename": "KeyboardInterrupt",
     "evalue": "",
     "output_type": "error",
     "traceback": [
      "\u001b[1;31m---------------------------------------------------------------------------\u001b[0m",
      "\u001b[1;31mKeyboardInterrupt\u001b[0m                         Traceback (most recent call last)",
      "\u001b[1;32m<ipython-input-10-8bc3a9fc58d6>\u001b[0m in \u001b[0;36m<module>\u001b[1;34m\u001b[0m\n\u001b[0;32m     37\u001b[0m \u001b[1;31m# and make sure that the minimum inter cluster should not be very less\u001b[0m\u001b[1;33m\u001b[0m\u001b[1;33m\u001b[0m\u001b[1;33m\u001b[0m\u001b[0m\n\u001b[0;32m     38\u001b[0m \u001b[1;32mfor\u001b[0m \u001b[0mincrement\u001b[0m \u001b[1;32min\u001b[0m \u001b[0mrange\u001b[0m\u001b[1;33m(\u001b[0m\u001b[1;36m10\u001b[0m\u001b[1;33m,\u001b[0m \u001b[1;36m100\u001b[0m\u001b[1;33m,\u001b[0m \u001b[1;36m10\u001b[0m\u001b[1;33m)\u001b[0m\u001b[1;33m:\u001b[0m\u001b[1;33m\u001b[0m\u001b[1;33m\u001b[0m\u001b[0m\n\u001b[1;32m---> 39\u001b[1;33m     \u001b[0mcluster_centers\u001b[0m\u001b[1;33m,\u001b[0m \u001b[0mcluster_len\u001b[0m \u001b[1;33m=\u001b[0m \u001b[0mfind_clusters\u001b[0m\u001b[1;33m(\u001b[0m\u001b[0mincrement\u001b[0m\u001b[1;33m)\u001b[0m\u001b[1;33m\u001b[0m\u001b[1;33m\u001b[0m\u001b[0m\n\u001b[0m\u001b[0;32m     40\u001b[0m     \u001b[0mfind_min_distance\u001b[0m\u001b[1;33m(\u001b[0m\u001b[0mcluster_centers\u001b[0m\u001b[1;33m,\u001b[0m \u001b[0mcluster_len\u001b[0m\u001b[1;33m)\u001b[0m\u001b[1;33m\u001b[0m\u001b[1;33m\u001b[0m\u001b[0m\n",
      "\u001b[1;32m<ipython-input-10-8bc3a9fc58d6>\u001b[0m in \u001b[0;36mfind_clusters\u001b[1;34m(increment)\u001b[0m\n\u001b[0;32m     28\u001b[0m \u001b[1;32mdef\u001b[0m \u001b[0mfind_clusters\u001b[0m\u001b[1;33m(\u001b[0m\u001b[0mincrement\u001b[0m\u001b[1;33m)\u001b[0m\u001b[1;33m:\u001b[0m\u001b[1;33m\u001b[0m\u001b[1;33m\u001b[0m\u001b[0m\n\u001b[0;32m     29\u001b[0m     \u001b[0mkmeans\u001b[0m \u001b[1;33m=\u001b[0m \u001b[0mMiniBatchKMeans\u001b[0m\u001b[1;33m(\u001b[0m\u001b[0mn_clusters\u001b[0m\u001b[1;33m=\u001b[0m\u001b[0mincrement\u001b[0m\u001b[1;33m,\u001b[0m \u001b[0mbatch_size\u001b[0m\u001b[1;33m=\u001b[0m\u001b[1;36m10000\u001b[0m\u001b[1;33m,\u001b[0m\u001b[0mrandom_state\u001b[0m\u001b[1;33m=\u001b[0m\u001b[1;36m42\u001b[0m\u001b[1;33m)\u001b[0m\u001b[1;33m.\u001b[0m\u001b[0mfit\u001b[0m\u001b[1;33m(\u001b[0m\u001b[0mcoords\u001b[0m\u001b[1;33m)\u001b[0m\u001b[1;33m\u001b[0m\u001b[1;33m\u001b[0m\u001b[0m\n\u001b[1;32m---> 30\u001b[1;33m     \u001b[0mframe_with_durations_outliers_removed\u001b[0m\u001b[1;33m[\u001b[0m\u001b[1;34m'pickup_cluster'\u001b[0m\u001b[1;33m]\u001b[0m \u001b[1;33m=\u001b[0m \u001b[0mkmeans\u001b[0m\u001b[1;33m.\u001b[0m\u001b[0mpredict\u001b[0m\u001b[1;33m(\u001b[0m\u001b[0mframe_with_durations_outliers_removed\u001b[0m\u001b[1;33m[\u001b[0m\u001b[1;33m[\u001b[0m\u001b[1;34m'pickup_latitude'\u001b[0m\u001b[1;33m,\u001b[0m \u001b[1;34m'pickup_longitude'\u001b[0m\u001b[1;33m]\u001b[0m\u001b[1;33m]\u001b[0m\u001b[1;33m)\u001b[0m\u001b[1;33m\u001b[0m\u001b[1;33m\u001b[0m\u001b[0m\n\u001b[0m\u001b[0;32m     31\u001b[0m     \u001b[0mcluster_centers\u001b[0m \u001b[1;33m=\u001b[0m \u001b[0mkmeans\u001b[0m\u001b[1;33m.\u001b[0m\u001b[0mcluster_centers_\u001b[0m\u001b[1;33m\u001b[0m\u001b[1;33m\u001b[0m\u001b[0m\n\u001b[0;32m     32\u001b[0m     \u001b[0mcluster_len\u001b[0m \u001b[1;33m=\u001b[0m \u001b[0mlen\u001b[0m\u001b[1;33m(\u001b[0m\u001b[0mcluster_centers\u001b[0m\u001b[1;33m)\u001b[0m\u001b[1;33m\u001b[0m\u001b[1;33m\u001b[0m\u001b[0m\n",
      "\u001b[1;32mD:\\Installation\\Anaconda\\lib\\site-packages\\sklearn\\cluster\\k_means_.py\u001b[0m in \u001b[0;36mpredict\u001b[1;34m(self, X, sample_weight)\u001b[0m\n\u001b[0;32m   1743\u001b[0m \u001b[1;33m\u001b[0m\u001b[0m\n\u001b[0;32m   1744\u001b[0m         \u001b[0mX\u001b[0m \u001b[1;33m=\u001b[0m \u001b[0mself\u001b[0m\u001b[1;33m.\u001b[0m\u001b[0m_check_test_data\u001b[0m\u001b[1;33m(\u001b[0m\u001b[0mX\u001b[0m\u001b[1;33m)\u001b[0m\u001b[1;33m\u001b[0m\u001b[1;33m\u001b[0m\u001b[0m\n\u001b[1;32m-> 1745\u001b[1;33m         \u001b[1;32mreturn\u001b[0m \u001b[0mself\u001b[0m\u001b[1;33m.\u001b[0m\u001b[0m_labels_inertia_minibatch\u001b[0m\u001b[1;33m(\u001b[0m\u001b[0mX\u001b[0m\u001b[1;33m,\u001b[0m \u001b[0msample_weight\u001b[0m\u001b[1;33m)\u001b[0m\u001b[1;33m[\u001b[0m\u001b[1;36m0\u001b[0m\u001b[1;33m]\u001b[0m\u001b[1;33m\u001b[0m\u001b[1;33m\u001b[0m\u001b[0m\n\u001b[0m",
      "\u001b[1;32mD:\\Installation\\Anaconda\\lib\\site-packages\\sklearn\\cluster\\k_means_.py\u001b[0m in \u001b[0;36m_labels_inertia_minibatch\u001b[1;34m(self, X, sample_weight)\u001b[0m\n\u001b[0;32m   1649\u001b[0m         \u001b[0mslices\u001b[0m \u001b[1;33m=\u001b[0m \u001b[0mgen_batches\u001b[0m\u001b[1;33m(\u001b[0m\u001b[0mX\u001b[0m\u001b[1;33m.\u001b[0m\u001b[0mshape\u001b[0m\u001b[1;33m[\u001b[0m\u001b[1;36m0\u001b[0m\u001b[1;33m]\u001b[0m\u001b[1;33m,\u001b[0m \u001b[0mself\u001b[0m\u001b[1;33m.\u001b[0m\u001b[0mbatch_size\u001b[0m\u001b[1;33m)\u001b[0m\u001b[1;33m\u001b[0m\u001b[1;33m\u001b[0m\u001b[0m\n\u001b[0;32m   1650\u001b[0m         results = [_labels_inertia(X[s], sample_weight[s], x_squared_norms[s],\n\u001b[1;32m-> 1651\u001b[1;33m                                    self.cluster_centers_) for s in slices]\n\u001b[0m\u001b[0;32m   1652\u001b[0m         \u001b[0mlabels\u001b[0m\u001b[1;33m,\u001b[0m \u001b[0minertia\u001b[0m \u001b[1;33m=\u001b[0m \u001b[0mzip\u001b[0m\u001b[1;33m(\u001b[0m\u001b[1;33m*\u001b[0m\u001b[0mresults\u001b[0m\u001b[1;33m)\u001b[0m\u001b[1;33m\u001b[0m\u001b[1;33m\u001b[0m\u001b[0m\n\u001b[0;32m   1653\u001b[0m         \u001b[1;32mreturn\u001b[0m \u001b[0mnp\u001b[0m\u001b[1;33m.\u001b[0m\u001b[0mhstack\u001b[0m\u001b[1;33m(\u001b[0m\u001b[0mlabels\u001b[0m\u001b[1;33m)\u001b[0m\u001b[1;33m,\u001b[0m \u001b[0mnp\u001b[0m\u001b[1;33m.\u001b[0m\u001b[0msum\u001b[0m\u001b[1;33m(\u001b[0m\u001b[0minertia\u001b[0m\u001b[1;33m)\u001b[0m\u001b[1;33m\u001b[0m\u001b[1;33m\u001b[0m\u001b[0m\n",
      "\u001b[1;32mD:\\Installation\\Anaconda\\lib\\site-packages\\sklearn\\cluster\\k_means_.py\u001b[0m in \u001b[0;36m<listcomp>\u001b[1;34m(.0)\u001b[0m\n\u001b[0;32m   1649\u001b[0m         \u001b[0mslices\u001b[0m \u001b[1;33m=\u001b[0m \u001b[0mgen_batches\u001b[0m\u001b[1;33m(\u001b[0m\u001b[0mX\u001b[0m\u001b[1;33m.\u001b[0m\u001b[0mshape\u001b[0m\u001b[1;33m[\u001b[0m\u001b[1;36m0\u001b[0m\u001b[1;33m]\u001b[0m\u001b[1;33m,\u001b[0m \u001b[0mself\u001b[0m\u001b[1;33m.\u001b[0m\u001b[0mbatch_size\u001b[0m\u001b[1;33m)\u001b[0m\u001b[1;33m\u001b[0m\u001b[1;33m\u001b[0m\u001b[0m\n\u001b[0;32m   1650\u001b[0m         results = [_labels_inertia(X[s], sample_weight[s], x_squared_norms[s],\n\u001b[1;32m-> 1651\u001b[1;33m                                    self.cluster_centers_) for s in slices]\n\u001b[0m\u001b[0;32m   1652\u001b[0m         \u001b[0mlabels\u001b[0m\u001b[1;33m,\u001b[0m \u001b[0minertia\u001b[0m \u001b[1;33m=\u001b[0m \u001b[0mzip\u001b[0m\u001b[1;33m(\u001b[0m\u001b[1;33m*\u001b[0m\u001b[0mresults\u001b[0m\u001b[1;33m)\u001b[0m\u001b[1;33m\u001b[0m\u001b[1;33m\u001b[0m\u001b[0m\n\u001b[0;32m   1653\u001b[0m         \u001b[1;32mreturn\u001b[0m \u001b[0mnp\u001b[0m\u001b[1;33m.\u001b[0m\u001b[0mhstack\u001b[0m\u001b[1;33m(\u001b[0m\u001b[0mlabels\u001b[0m\u001b[1;33m)\u001b[0m\u001b[1;33m,\u001b[0m \u001b[0mnp\u001b[0m\u001b[1;33m.\u001b[0m\u001b[0msum\u001b[0m\u001b[1;33m(\u001b[0m\u001b[0minertia\u001b[0m\u001b[1;33m)\u001b[0m\u001b[1;33m\u001b[0m\u001b[1;33m\u001b[0m\u001b[0m\n",
      "\u001b[1;32mD:\\Installation\\Anaconda\\lib\\site-packages\\sklearn\\cluster\\k_means_.py\u001b[0m in \u001b[0;36m_labels_inertia\u001b[1;34m(X, sample_weight, x_squared_norms, centers, precompute_distances, distances)\u001b[0m\n\u001b[0;32m    682\u001b[0m             return _labels_inertia_precompute_dense(X, sample_weight,\n\u001b[0;32m    683\u001b[0m                                                     \u001b[0mx_squared_norms\u001b[0m\u001b[1;33m,\u001b[0m \u001b[0mcenters\u001b[0m\u001b[1;33m,\u001b[0m\u001b[1;33m\u001b[0m\u001b[1;33m\u001b[0m\u001b[0m\n\u001b[1;32m--> 684\u001b[1;33m                                                     distances)\n\u001b[0m\u001b[0;32m    685\u001b[0m         inertia = _k_means._assign_labels_array(\n\u001b[0;32m    686\u001b[0m             \u001b[0mX\u001b[0m\u001b[1;33m,\u001b[0m \u001b[0msample_weight\u001b[0m\u001b[1;33m,\u001b[0m \u001b[0mx_squared_norms\u001b[0m\u001b[1;33m,\u001b[0m \u001b[0mcenters\u001b[0m\u001b[1;33m,\u001b[0m \u001b[0mlabels\u001b[0m\u001b[1;33m,\u001b[0m\u001b[1;33m\u001b[0m\u001b[1;33m\u001b[0m\u001b[0m\n",
      "\u001b[1;32mD:\\Installation\\Anaconda\\lib\\site-packages\\sklearn\\cluster\\k_means_.py\u001b[0m in \u001b[0;36m_labels_inertia_precompute_dense\u001b[1;34m(X, sample_weight, x_squared_norms, centers, distances)\u001b[0m\n\u001b[0;32m    619\u001b[0m     \u001b[1;31m# TODO: Once PR #7383 is merged use check_inputs=False in metric_kwargs.\u001b[0m\u001b[1;33m\u001b[0m\u001b[1;33m\u001b[0m\u001b[1;33m\u001b[0m\u001b[0m\n\u001b[0;32m    620\u001b[0m     labels, mindist = pairwise_distances_argmin_min(\n\u001b[1;32m--> 621\u001b[1;33m         X=X, Y=centers, metric='euclidean', metric_kwargs={'squared': True})\n\u001b[0m\u001b[0;32m    622\u001b[0m     \u001b[1;31m# cython k-means code assumes int32 inputs\u001b[0m\u001b[1;33m\u001b[0m\u001b[1;33m\u001b[0m\u001b[1;33m\u001b[0m\u001b[0m\n\u001b[0;32m    623\u001b[0m     \u001b[0mlabels\u001b[0m \u001b[1;33m=\u001b[0m \u001b[0mlabels\u001b[0m\u001b[1;33m.\u001b[0m\u001b[0mastype\u001b[0m\u001b[1;33m(\u001b[0m\u001b[0mnp\u001b[0m\u001b[1;33m.\u001b[0m\u001b[0mint32\u001b[0m\u001b[1;33m)\u001b[0m\u001b[1;33m\u001b[0m\u001b[1;33m\u001b[0m\u001b[0m\n",
      "\u001b[1;32mD:\\Installation\\Anaconda\\lib\\site-packages\\sklearn\\metrics\\pairwise.py\u001b[0m in \u001b[0;36mpairwise_distances_argmin_min\u001b[1;34m(X, Y, axis, metric, batch_size, metric_kwargs)\u001b[0m\n\u001b[0;32m    355\u001b[0m         \u001b[0mX\u001b[0m\u001b[1;33m,\u001b[0m \u001b[0mY\u001b[0m\u001b[1;33m,\u001b[0m \u001b[0mreduce_func\u001b[0m\u001b[1;33m=\u001b[0m\u001b[0m_argmin_min_reduce\u001b[0m\u001b[1;33m,\u001b[0m \u001b[0mmetric\u001b[0m\u001b[1;33m=\u001b[0m\u001b[0mmetric\u001b[0m\u001b[1;33m,\u001b[0m\u001b[1;33m\u001b[0m\u001b[1;33m\u001b[0m\u001b[0m\n\u001b[0;32m    356\u001b[0m         **metric_kwargs))\n\u001b[1;32m--> 357\u001b[1;33m     \u001b[0mindices\u001b[0m \u001b[1;33m=\u001b[0m \u001b[0mnp\u001b[0m\u001b[1;33m.\u001b[0m\u001b[0mconcatenate\u001b[0m\u001b[1;33m(\u001b[0m\u001b[0mindices\u001b[0m\u001b[1;33m)\u001b[0m\u001b[1;33m\u001b[0m\u001b[1;33m\u001b[0m\u001b[0m\n\u001b[0m\u001b[0;32m    358\u001b[0m     \u001b[0mvalues\u001b[0m \u001b[1;33m=\u001b[0m \u001b[0mnp\u001b[0m\u001b[1;33m.\u001b[0m\u001b[0mconcatenate\u001b[0m\u001b[1;33m(\u001b[0m\u001b[0mvalues\u001b[0m\u001b[1;33m)\u001b[0m\u001b[1;33m\u001b[0m\u001b[1;33m\u001b[0m\u001b[0m\n\u001b[0;32m    359\u001b[0m \u001b[1;33m\u001b[0m\u001b[0m\n",
      "\u001b[1;31mKeyboardInterrupt\u001b[0m: "
     ]
    }
   ],
   "source": [
    "#trying different cluster sizes to choose the right K in K-means\n",
    "coords = frame_with_durations_outliers_removed[['pickup_latitude', 'pickup_longitude']].values\n",
    "neighbours=[]\n",
    "\n",
    "def find_min_distance(cluster_centers, cluster_len):\n",
    "    nice_points = 0\n",
    "    wrong_points = 0\n",
    "    less2 = []\n",
    "    more2 = []\n",
    "    min_dist=1000\n",
    "    for i in range(0, cluster_len):\n",
    "        nice_points = 0\n",
    "        wrong_points = 0\n",
    "        for j in range(0, cluster_len):\n",
    "            if j!=i:\n",
    "                distance = gpxpy.geo.haversine_distance(cluster_centers[i][0], cluster_centers[i][1],cluster_centers[j][0], cluster_centers[j][1])\n",
    "                min_dist = min(min_dist,distance/(1.60934*1000))\n",
    "                max_dist = max(min_dist, distance/(1.60934*1000))\n",
    "                if (distance/(1.60934*1000)) <= 2:\n",
    "                    nice_points +=1\n",
    "                else:\n",
    "                    wrong_points += 1\n",
    "        less2.append(nice_points)\n",
    "        more2.append(wrong_points)\n",
    "    neighbours.append(less2)\n",
    "    print (\"On choosing a cluster size of \",cluster_len,\"\\nAvg. Number of Clusters within the vicinity (i.e. intercluster-distance < 2):\", np.ceil(sum(less2)/len(less2)), \"\\nAvg. Number of Clusters outside the vicinity (i.e. intercluster-distance > 2):\", np.ceil(sum(more2)/len(more2)),\"\\nMin inter-cluster distance = \",min_dist, \"\\nMax inter-cluster distance = \",max_dist,\"\\n---\")\n",
    "\n",
    "def find_clusters(increment):\n",
    "    kmeans = MiniBatchKMeans(n_clusters=increment, batch_size=10000,random_state=42).fit(coords)\n",
    "    frame_with_durations_outliers_removed['pickup_cluster'] = kmeans.predict(frame_with_durations_outliers_removed[['pickup_latitude', 'pickup_longitude']])\n",
    "    cluster_centers = kmeans.cluster_centers_\n",
    "    cluster_len = len(cluster_centers)\n",
    "    return cluster_centers, cluster_len\n",
    "\n",
    "# we need to choose number of clusters so that, there are more number of cluster regions \n",
    "#that are close to any cluster center\n",
    "# and make sure that the minimum inter cluster should not be very less\n",
    "for increment in range(10, 100, 10):\n",
    "    cluster_centers, cluster_len = find_clusters(increment)\n",
    "    find_min_distance(cluster_centers, cluster_len)            "
   ]
  },
  {
   "cell_type": "markdown",
   "metadata": {
    "colab_type": "text",
    "id": "9w0v8KAzpYUE"
   },
   "source": [
    "### Inference:\n",
    "- The main objective was to find a optimal min. distance(Which roughly estimates to the radius of a cluster) between the clusters which we got was 40"
   ]
  },
  {
   "cell_type": "markdown",
   "metadata": {},
   "source": [
    "Here by looking at the maximum distance also we are keeping the cluster size as 50 because min distance is 0.51 and maximum distance is low comparatively."
   ]
  },
  {
   "cell_type": "code",
   "execution_count": 11,
   "metadata": {
    "colab": {},
    "colab_type": "code",
    "id": "U9hu-gmfpYUF"
   },
   "outputs": [],
   "source": [
    "# if check for the 50 clusters you can observe that there are two clusters with only 0.3 miles apart from each other\n",
    "# so we choose 40 clusters for solve the further problem\n",
    "\n",
    "# Getting 40 clusters using the kmeans \n",
    "coords = frame_with_durations_outliers_removed[['pickup_latitude', 'pickup_longitude']].values\n",
    "kmeans = MiniBatchKMeans(n_clusters=50, batch_size=10000,random_state=0).fit(coords)\n",
    "frame_with_durations_outliers_removed['pickup_cluster'] = kmeans.predict(frame_with_durations_outliers_removed[['pickup_latitude', 'pickup_longitude']])"
   ]
  },
  {
   "cell_type": "code",
   "execution_count": 26,
   "metadata": {},
   "outputs": [
    {
     "data": {
      "text/html": [
       "<div>\n",
       "<style scoped>\n",
       "    .dataframe tbody tr th:only-of-type {\n",
       "        vertical-align: middle;\n",
       "    }\n",
       "\n",
       "    .dataframe tbody tr th {\n",
       "        vertical-align: top;\n",
       "    }\n",
       "\n",
       "    .dataframe thead th {\n",
       "        text-align: right;\n",
       "    }\n",
       "</style>\n",
       "<table border=\"1\" class=\"dataframe\">\n",
       "  <thead>\n",
       "    <tr style=\"text-align: right;\">\n",
       "      <th></th>\n",
       "      <th>passenger_count</th>\n",
       "      <th>trip_distance</th>\n",
       "      <th>pickup_longitude</th>\n",
       "      <th>pickup_latitude</th>\n",
       "      <th>dropoff_longitude</th>\n",
       "      <th>dropoff_latitude</th>\n",
       "      <th>total_amount</th>\n",
       "      <th>trip_times</th>\n",
       "      <th>pickup_times</th>\n",
       "      <th>Speed</th>\n",
       "      <th>hour</th>\n",
       "      <th>min</th>\n",
       "      <th>sec</th>\n",
       "      <th>pickup_cluster</th>\n",
       "    </tr>\n",
       "  </thead>\n",
       "  <tbody>\n",
       "    <tr>\n",
       "      <th>0</th>\n",
       "      <td>1</td>\n",
       "      <td>1.59</td>\n",
       "      <td>-73.993896</td>\n",
       "      <td>40.750111</td>\n",
       "      <td>-73.974785</td>\n",
       "      <td>40.750618</td>\n",
       "      <td>17.05</td>\n",
       "      <td>18.050000</td>\n",
       "      <td>1.421329e+09</td>\n",
       "      <td>5.285319</td>\n",
       "      <td>19</td>\n",
       "      <td>05</td>\n",
       "      <td>39</td>\n",
       "      <td>25</td>\n",
       "    </tr>\n",
       "    <tr>\n",
       "      <th>1</th>\n",
       "      <td>1</td>\n",
       "      <td>3.30</td>\n",
       "      <td>-74.001648</td>\n",
       "      <td>40.724243</td>\n",
       "      <td>-73.994415</td>\n",
       "      <td>40.759109</td>\n",
       "      <td>17.80</td>\n",
       "      <td>19.833333</td>\n",
       "      <td>1.420902e+09</td>\n",
       "      <td>9.983193</td>\n",
       "      <td>20</td>\n",
       "      <td>33</td>\n",
       "      <td>38</td>\n",
       "      <td>48</td>\n",
       "    </tr>\n",
       "    <tr>\n",
       "      <th>2</th>\n",
       "      <td>1</td>\n",
       "      <td>1.80</td>\n",
       "      <td>-73.963341</td>\n",
       "      <td>40.802788</td>\n",
       "      <td>-73.951820</td>\n",
       "      <td>40.824413</td>\n",
       "      <td>10.80</td>\n",
       "      <td>10.050000</td>\n",
       "      <td>1.420902e+09</td>\n",
       "      <td>10.746269</td>\n",
       "      <td>20</td>\n",
       "      <td>33</td>\n",
       "      <td>38</td>\n",
       "      <td>28</td>\n",
       "    </tr>\n",
       "    <tr>\n",
       "      <th>3</th>\n",
       "      <td>1</td>\n",
       "      <td>0.50</td>\n",
       "      <td>-74.009087</td>\n",
       "      <td>40.713818</td>\n",
       "      <td>-74.004326</td>\n",
       "      <td>40.719986</td>\n",
       "      <td>4.80</td>\n",
       "      <td>1.866667</td>\n",
       "      <td>1.420902e+09</td>\n",
       "      <td>16.071429</td>\n",
       "      <td>20</td>\n",
       "      <td>33</td>\n",
       "      <td>39</td>\n",
       "      <td>0</td>\n",
       "    </tr>\n",
       "    <tr>\n",
       "      <th>4</th>\n",
       "      <td>1</td>\n",
       "      <td>3.00</td>\n",
       "      <td>-73.971176</td>\n",
       "      <td>40.762428</td>\n",
       "      <td>-74.004181</td>\n",
       "      <td>40.742653</td>\n",
       "      <td>16.30</td>\n",
       "      <td>19.316667</td>\n",
       "      <td>1.420902e+09</td>\n",
       "      <td>9.318378</td>\n",
       "      <td>20</td>\n",
       "      <td>33</td>\n",
       "      <td>39</td>\n",
       "      <td>2</td>\n",
       "    </tr>\n",
       "  </tbody>\n",
       "</table>\n",
       "</div>"
      ],
      "text/plain": [
       "   passenger_count  trip_distance  pickup_longitude  pickup_latitude  \\\n",
       "0                1           1.59        -73.993896        40.750111   \n",
       "1                1           3.30        -74.001648        40.724243   \n",
       "2                1           1.80        -73.963341        40.802788   \n",
       "3                1           0.50        -74.009087        40.713818   \n",
       "4                1           3.00        -73.971176        40.762428   \n",
       "\n",
       "   dropoff_longitude  dropoff_latitude  total_amount  trip_times  \\\n",
       "0         -73.974785         40.750618         17.05   18.050000   \n",
       "1         -73.994415         40.759109         17.80   19.833333   \n",
       "2         -73.951820         40.824413         10.80   10.050000   \n",
       "3         -74.004326         40.719986          4.80    1.866667   \n",
       "4         -74.004181         40.742653         16.30   19.316667   \n",
       "\n",
       "   pickup_times      Speed hour min sec  pickup_cluster  \n",
       "0  1.421329e+09   5.285319   19  05  39              25  \n",
       "1  1.420902e+09   9.983193   20  33  38              48  \n",
       "2  1.420902e+09  10.746269   20  33  38              28  \n",
       "3  1.420902e+09  16.071429   20  33  39               0  \n",
       "4  1.420902e+09   9.318378   20  33  39               2  "
      ]
     },
     "execution_count": 26,
     "metadata": {},
     "output_type": "execute_result"
    }
   ],
   "source": [
    "frame_with_durations_outliers_removed.head()"
   ]
  },
  {
   "cell_type": "code",
   "execution_count": 7,
   "metadata": {},
   "outputs": [
    {
     "name": "stdout",
     "output_type": "stream",
     "text": [
      "greater\n"
     ]
    }
   ],
   "source": [
    "if os.path.getsize(\"frame_with_durations_outliers_removed.pickle\") > 0:\n",
    "    print(\"greater\")"
   ]
  },
  {
   "cell_type": "code",
   "execution_count": 12,
   "metadata": {},
   "outputs": [],
   "source": [
    "\n",
    "pickle_in = open(\"fwdor.pickle\",\"rb\")\n",
    "frame_with_durations_outliers_removed = pickle.load(pickle_in)"
   ]
  },
  {
   "cell_type": "markdown",
   "metadata": {
    "colab_type": "text",
    "id": "5i2xz9z_pYUI"
   },
   "source": [
    "### Plotting the cluster centers:"
   ]
  },
  {
   "cell_type": "code",
   "execution_count": 43,
   "metadata": {
    "colab": {},
    "colab_type": "code",
    "id": "GNUtiOAGpYUJ",
    "outputId": "960ac46a-3fca-4bd3-ed3d-f11f01f751a6",
    "scrolled": true
   },
   "outputs": [],
   "source": [
    "# # Plotting the cluster centers on OSM\n",
    "# cluster_centers = kmeans.cluster_centers_\n",
    "# cluster_len = len(cluster_centers)\n",
    "# map_osm = folium.Map(location=[40.734695, -73.990372], tiles='Stamen Toner')\n",
    "# for i in range(cluster_len):\n",
    "#     folium.Marker(list((cluster_centers[i][0],cluster_centers[i][1])), popup=(str(cluster_centers[i][0])+str(cluster_centers[i][1]))).add_to(map_osm)\n",
    "# map_osm"
   ]
  },
  {
   "cell_type": "markdown",
   "metadata": {
    "colab_type": "text",
    "id": "hwjprgJipYUM"
   },
   "source": [
    "### Plotting the clusters:"
   ]
  },
  {
   "cell_type": "code",
   "execution_count": 27,
   "metadata": {
    "colab": {},
    "colab_type": "code",
    "id": "1xrUz8KRpYUN",
    "outputId": "d2b37409-8654-4f58-91bd-30cce95dac8a"
   },
   "outputs": [
    {
     "data": {
      "application/javascript": [
       "/* Put everything inside the global mpl namespace */\n",
       "window.mpl = {};\n",
       "\n",
       "\n",
       "mpl.get_websocket_type = function() {\n",
       "    if (typeof(WebSocket) !== 'undefined') {\n",
       "        return WebSocket;\n",
       "    } else if (typeof(MozWebSocket) !== 'undefined') {\n",
       "        return MozWebSocket;\n",
       "    } else {\n",
       "        alert('Your browser does not have WebSocket support.' +\n",
       "              'Please try Chrome, Safari or Firefox ≥ 6. ' +\n",
       "              'Firefox 4 and 5 are also supported but you ' +\n",
       "              'have to enable WebSockets in about:config.');\n",
       "    };\n",
       "}\n",
       "\n",
       "mpl.figure = function(figure_id, websocket, ondownload, parent_element) {\n",
       "    this.id = figure_id;\n",
       "\n",
       "    this.ws = websocket;\n",
       "\n",
       "    this.supports_binary = (this.ws.binaryType != undefined);\n",
       "\n",
       "    if (!this.supports_binary) {\n",
       "        var warnings = document.getElementById(\"mpl-warnings\");\n",
       "        if (warnings) {\n",
       "            warnings.style.display = 'block';\n",
       "            warnings.textContent = (\n",
       "                \"This browser does not support binary websocket messages. \" +\n",
       "                    \"Performance may be slow.\");\n",
       "        }\n",
       "    }\n",
       "\n",
       "    this.imageObj = new Image();\n",
       "\n",
       "    this.context = undefined;\n",
       "    this.message = undefined;\n",
       "    this.canvas = undefined;\n",
       "    this.rubberband_canvas = undefined;\n",
       "    this.rubberband_context = undefined;\n",
       "    this.format_dropdown = undefined;\n",
       "\n",
       "    this.image_mode = 'full';\n",
       "\n",
       "    this.root = $('<div/>');\n",
       "    this._root_extra_style(this.root)\n",
       "    this.root.attr('style', 'display: inline-block');\n",
       "\n",
       "    $(parent_element).append(this.root);\n",
       "\n",
       "    this._init_header(this);\n",
       "    this._init_canvas(this);\n",
       "    this._init_toolbar(this);\n",
       "\n",
       "    var fig = this;\n",
       "\n",
       "    this.waiting = false;\n",
       "\n",
       "    this.ws.onopen =  function () {\n",
       "            fig.send_message(\"supports_binary\", {value: fig.supports_binary});\n",
       "            fig.send_message(\"send_image_mode\", {});\n",
       "            if (mpl.ratio != 1) {\n",
       "                fig.send_message(\"set_dpi_ratio\", {'dpi_ratio': mpl.ratio});\n",
       "            }\n",
       "            fig.send_message(\"refresh\", {});\n",
       "        }\n",
       "\n",
       "    this.imageObj.onload = function() {\n",
       "            if (fig.image_mode == 'full') {\n",
       "                // Full images could contain transparency (where diff images\n",
       "                // almost always do), so we need to clear the canvas so that\n",
       "                // there is no ghosting.\n",
       "                fig.context.clearRect(0, 0, fig.canvas.width, fig.canvas.height);\n",
       "            }\n",
       "            fig.context.drawImage(fig.imageObj, 0, 0);\n",
       "        };\n",
       "\n",
       "    this.imageObj.onunload = function() {\n",
       "        fig.ws.close();\n",
       "    }\n",
       "\n",
       "    this.ws.onmessage = this._make_on_message_function(this);\n",
       "\n",
       "    this.ondownload = ondownload;\n",
       "}\n",
       "\n",
       "mpl.figure.prototype._init_header = function() {\n",
       "    var titlebar = $(\n",
       "        '<div class=\"ui-dialog-titlebar ui-widget-header ui-corner-all ' +\n",
       "        'ui-helper-clearfix\"/>');\n",
       "    var titletext = $(\n",
       "        '<div class=\"ui-dialog-title\" style=\"width: 100%; ' +\n",
       "        'text-align: center; padding: 3px;\"/>');\n",
       "    titlebar.append(titletext)\n",
       "    this.root.append(titlebar);\n",
       "    this.header = titletext[0];\n",
       "}\n",
       "\n",
       "\n",
       "\n",
       "mpl.figure.prototype._canvas_extra_style = function(canvas_div) {\n",
       "\n",
       "}\n",
       "\n",
       "\n",
       "mpl.figure.prototype._root_extra_style = function(canvas_div) {\n",
       "\n",
       "}\n",
       "\n",
       "mpl.figure.prototype._init_canvas = function() {\n",
       "    var fig = this;\n",
       "\n",
       "    var canvas_div = $('<div/>');\n",
       "\n",
       "    canvas_div.attr('style', 'position: relative; clear: both; outline: 0');\n",
       "\n",
       "    function canvas_keyboard_event(event) {\n",
       "        return fig.key_event(event, event['data']);\n",
       "    }\n",
       "\n",
       "    canvas_div.keydown('key_press', canvas_keyboard_event);\n",
       "    canvas_div.keyup('key_release', canvas_keyboard_event);\n",
       "    this.canvas_div = canvas_div\n",
       "    this._canvas_extra_style(canvas_div)\n",
       "    this.root.append(canvas_div);\n",
       "\n",
       "    var canvas = $('<canvas/>');\n",
       "    canvas.addClass('mpl-canvas');\n",
       "    canvas.attr('style', \"left: 0; top: 0; z-index: 0; outline: 0\")\n",
       "\n",
       "    this.canvas = canvas[0];\n",
       "    this.context = canvas[0].getContext(\"2d\");\n",
       "\n",
       "    var backingStore = this.context.backingStorePixelRatio ||\n",
       "\tthis.context.webkitBackingStorePixelRatio ||\n",
       "\tthis.context.mozBackingStorePixelRatio ||\n",
       "\tthis.context.msBackingStorePixelRatio ||\n",
       "\tthis.context.oBackingStorePixelRatio ||\n",
       "\tthis.context.backingStorePixelRatio || 1;\n",
       "\n",
       "    mpl.ratio = (window.devicePixelRatio || 1) / backingStore;\n",
       "\n",
       "    var rubberband = $('<canvas/>');\n",
       "    rubberband.attr('style', \"position: absolute; left: 0; top: 0; z-index: 1;\")\n",
       "\n",
       "    var pass_mouse_events = true;\n",
       "\n",
       "    canvas_div.resizable({\n",
       "        start: function(event, ui) {\n",
       "            pass_mouse_events = false;\n",
       "        },\n",
       "        resize: function(event, ui) {\n",
       "            fig.request_resize(ui.size.width, ui.size.height);\n",
       "        },\n",
       "        stop: function(event, ui) {\n",
       "            pass_mouse_events = true;\n",
       "            fig.request_resize(ui.size.width, ui.size.height);\n",
       "        },\n",
       "    });\n",
       "\n",
       "    function mouse_event_fn(event) {\n",
       "        if (pass_mouse_events)\n",
       "            return fig.mouse_event(event, event['data']);\n",
       "    }\n",
       "\n",
       "    rubberband.mousedown('button_press', mouse_event_fn);\n",
       "    rubberband.mouseup('button_release', mouse_event_fn);\n",
       "    // Throttle sequential mouse events to 1 every 20ms.\n",
       "    rubberband.mousemove('motion_notify', mouse_event_fn);\n",
       "\n",
       "    rubberband.mouseenter('figure_enter', mouse_event_fn);\n",
       "    rubberband.mouseleave('figure_leave', mouse_event_fn);\n",
       "\n",
       "    canvas_div.on(\"wheel\", function (event) {\n",
       "        event = event.originalEvent;\n",
       "        event['data'] = 'scroll'\n",
       "        if (event.deltaY < 0) {\n",
       "            event.step = 1;\n",
       "        } else {\n",
       "            event.step = -1;\n",
       "        }\n",
       "        mouse_event_fn(event);\n",
       "    });\n",
       "\n",
       "    canvas_div.append(canvas);\n",
       "    canvas_div.append(rubberband);\n",
       "\n",
       "    this.rubberband = rubberband;\n",
       "    this.rubberband_canvas = rubberband[0];\n",
       "    this.rubberband_context = rubberband[0].getContext(\"2d\");\n",
       "    this.rubberband_context.strokeStyle = \"#000000\";\n",
       "\n",
       "    this._resize_canvas = function(width, height) {\n",
       "        // Keep the size of the canvas, canvas container, and rubber band\n",
       "        // canvas in synch.\n",
       "        canvas_div.css('width', width)\n",
       "        canvas_div.css('height', height)\n",
       "\n",
       "        canvas.attr('width', width * mpl.ratio);\n",
       "        canvas.attr('height', height * mpl.ratio);\n",
       "        canvas.attr('style', 'width: ' + width + 'px; height: ' + height + 'px;');\n",
       "\n",
       "        rubberband.attr('width', width);\n",
       "        rubberband.attr('height', height);\n",
       "    }\n",
       "\n",
       "    // Set the figure to an initial 600x600px, this will subsequently be updated\n",
       "    // upon first draw.\n",
       "    this._resize_canvas(600, 600);\n",
       "\n",
       "    // Disable right mouse context menu.\n",
       "    $(this.rubberband_canvas).bind(\"contextmenu\",function(e){\n",
       "        return false;\n",
       "    });\n",
       "\n",
       "    function set_focus () {\n",
       "        canvas.focus();\n",
       "        canvas_div.focus();\n",
       "    }\n",
       "\n",
       "    window.setTimeout(set_focus, 100);\n",
       "}\n",
       "\n",
       "mpl.figure.prototype._init_toolbar = function() {\n",
       "    var fig = this;\n",
       "\n",
       "    var nav_element = $('<div/>')\n",
       "    nav_element.attr('style', 'width: 100%');\n",
       "    this.root.append(nav_element);\n",
       "\n",
       "    // Define a callback function for later on.\n",
       "    function toolbar_event(event) {\n",
       "        return fig.toolbar_button_onclick(event['data']);\n",
       "    }\n",
       "    function toolbar_mouse_event(event) {\n",
       "        return fig.toolbar_button_onmouseover(event['data']);\n",
       "    }\n",
       "\n",
       "    for(var toolbar_ind in mpl.toolbar_items) {\n",
       "        var name = mpl.toolbar_items[toolbar_ind][0];\n",
       "        var tooltip = mpl.toolbar_items[toolbar_ind][1];\n",
       "        var image = mpl.toolbar_items[toolbar_ind][2];\n",
       "        var method_name = mpl.toolbar_items[toolbar_ind][3];\n",
       "\n",
       "        if (!name) {\n",
       "            // put a spacer in here.\n",
       "            continue;\n",
       "        }\n",
       "        var button = $('<button/>');\n",
       "        button.addClass('ui-button ui-widget ui-state-default ui-corner-all ' +\n",
       "                        'ui-button-icon-only');\n",
       "        button.attr('role', 'button');\n",
       "        button.attr('aria-disabled', 'false');\n",
       "        button.click(method_name, toolbar_event);\n",
       "        button.mouseover(tooltip, toolbar_mouse_event);\n",
       "\n",
       "        var icon_img = $('<span/>');\n",
       "        icon_img.addClass('ui-button-icon-primary ui-icon');\n",
       "        icon_img.addClass(image);\n",
       "        icon_img.addClass('ui-corner-all');\n",
       "\n",
       "        var tooltip_span = $('<span/>');\n",
       "        tooltip_span.addClass('ui-button-text');\n",
       "        tooltip_span.html(tooltip);\n",
       "\n",
       "        button.append(icon_img);\n",
       "        button.append(tooltip_span);\n",
       "\n",
       "        nav_element.append(button);\n",
       "    }\n",
       "\n",
       "    var fmt_picker_span = $('<span/>');\n",
       "\n",
       "    var fmt_picker = $('<select/>');\n",
       "    fmt_picker.addClass('mpl-toolbar-option ui-widget ui-widget-content');\n",
       "    fmt_picker_span.append(fmt_picker);\n",
       "    nav_element.append(fmt_picker_span);\n",
       "    this.format_dropdown = fmt_picker[0];\n",
       "\n",
       "    for (var ind in mpl.extensions) {\n",
       "        var fmt = mpl.extensions[ind];\n",
       "        var option = $(\n",
       "            '<option/>', {selected: fmt === mpl.default_extension}).html(fmt);\n",
       "        fmt_picker.append(option)\n",
       "    }\n",
       "\n",
       "    // Add hover states to the ui-buttons\n",
       "    $( \".ui-button\" ).hover(\n",
       "        function() { $(this).addClass(\"ui-state-hover\");},\n",
       "        function() { $(this).removeClass(\"ui-state-hover\");}\n",
       "    );\n",
       "\n",
       "    var status_bar = $('<span class=\"mpl-message\"/>');\n",
       "    nav_element.append(status_bar);\n",
       "    this.message = status_bar[0];\n",
       "}\n",
       "\n",
       "mpl.figure.prototype.request_resize = function(x_pixels, y_pixels) {\n",
       "    // Request matplotlib to resize the figure. Matplotlib will then trigger a resize in the client,\n",
       "    // which will in turn request a refresh of the image.\n",
       "    this.send_message('resize', {'width': x_pixels, 'height': y_pixels});\n",
       "}\n",
       "\n",
       "mpl.figure.prototype.send_message = function(type, properties) {\n",
       "    properties['type'] = type;\n",
       "    properties['figure_id'] = this.id;\n",
       "    this.ws.send(JSON.stringify(properties));\n",
       "}\n",
       "\n",
       "mpl.figure.prototype.send_draw_message = function() {\n",
       "    if (!this.waiting) {\n",
       "        this.waiting = true;\n",
       "        this.ws.send(JSON.stringify({type: \"draw\", figure_id: this.id}));\n",
       "    }\n",
       "}\n",
       "\n",
       "\n",
       "mpl.figure.prototype.handle_save = function(fig, msg) {\n",
       "    var format_dropdown = fig.format_dropdown;\n",
       "    var format = format_dropdown.options[format_dropdown.selectedIndex].value;\n",
       "    fig.ondownload(fig, format);\n",
       "}\n",
       "\n",
       "\n",
       "mpl.figure.prototype.handle_resize = function(fig, msg) {\n",
       "    var size = msg['size'];\n",
       "    if (size[0] != fig.canvas.width || size[1] != fig.canvas.height) {\n",
       "        fig._resize_canvas(size[0], size[1]);\n",
       "        fig.send_message(\"refresh\", {});\n",
       "    };\n",
       "}\n",
       "\n",
       "mpl.figure.prototype.handle_rubberband = function(fig, msg) {\n",
       "    var x0 = msg['x0'] / mpl.ratio;\n",
       "    var y0 = (fig.canvas.height - msg['y0']) / mpl.ratio;\n",
       "    var x1 = msg['x1'] / mpl.ratio;\n",
       "    var y1 = (fig.canvas.height - msg['y1']) / mpl.ratio;\n",
       "    x0 = Math.floor(x0) + 0.5;\n",
       "    y0 = Math.floor(y0) + 0.5;\n",
       "    x1 = Math.floor(x1) + 0.5;\n",
       "    y1 = Math.floor(y1) + 0.5;\n",
       "    var min_x = Math.min(x0, x1);\n",
       "    var min_y = Math.min(y0, y1);\n",
       "    var width = Math.abs(x1 - x0);\n",
       "    var height = Math.abs(y1 - y0);\n",
       "\n",
       "    fig.rubberband_context.clearRect(\n",
       "        0, 0, fig.canvas.width, fig.canvas.height);\n",
       "\n",
       "    fig.rubberband_context.strokeRect(min_x, min_y, width, height);\n",
       "}\n",
       "\n",
       "mpl.figure.prototype.handle_figure_label = function(fig, msg) {\n",
       "    // Updates the figure title.\n",
       "    fig.header.textContent = msg['label'];\n",
       "}\n",
       "\n",
       "mpl.figure.prototype.handle_cursor = function(fig, msg) {\n",
       "    var cursor = msg['cursor'];\n",
       "    switch(cursor)\n",
       "    {\n",
       "    case 0:\n",
       "        cursor = 'pointer';\n",
       "        break;\n",
       "    case 1:\n",
       "        cursor = 'default';\n",
       "        break;\n",
       "    case 2:\n",
       "        cursor = 'crosshair';\n",
       "        break;\n",
       "    case 3:\n",
       "        cursor = 'move';\n",
       "        break;\n",
       "    }\n",
       "    fig.rubberband_canvas.style.cursor = cursor;\n",
       "}\n",
       "\n",
       "mpl.figure.prototype.handle_message = function(fig, msg) {\n",
       "    fig.message.textContent = msg['message'];\n",
       "}\n",
       "\n",
       "mpl.figure.prototype.handle_draw = function(fig, msg) {\n",
       "    // Request the server to send over a new figure.\n",
       "    fig.send_draw_message();\n",
       "}\n",
       "\n",
       "mpl.figure.prototype.handle_image_mode = function(fig, msg) {\n",
       "    fig.image_mode = msg['mode'];\n",
       "}\n",
       "\n",
       "mpl.figure.prototype.updated_canvas_event = function() {\n",
       "    // Called whenever the canvas gets updated.\n",
       "    this.send_message(\"ack\", {});\n",
       "}\n",
       "\n",
       "// A function to construct a web socket function for onmessage handling.\n",
       "// Called in the figure constructor.\n",
       "mpl.figure.prototype._make_on_message_function = function(fig) {\n",
       "    return function socket_on_message(evt) {\n",
       "        if (evt.data instanceof Blob) {\n",
       "            /* FIXME: We get \"Resource interpreted as Image but\n",
       "             * transferred with MIME type text/plain:\" errors on\n",
       "             * Chrome.  But how to set the MIME type?  It doesn't seem\n",
       "             * to be part of the websocket stream */\n",
       "            evt.data.type = \"image/png\";\n",
       "\n",
       "            /* Free the memory for the previous frames */\n",
       "            if (fig.imageObj.src) {\n",
       "                (window.URL || window.webkitURL).revokeObjectURL(\n",
       "                    fig.imageObj.src);\n",
       "            }\n",
       "\n",
       "            fig.imageObj.src = (window.URL || window.webkitURL).createObjectURL(\n",
       "                evt.data);\n",
       "            fig.updated_canvas_event();\n",
       "            fig.waiting = false;\n",
       "            return;\n",
       "        }\n",
       "        else if (typeof evt.data === 'string' && evt.data.slice(0, 21) == \"data:image/png;base64\") {\n",
       "            fig.imageObj.src = evt.data;\n",
       "            fig.updated_canvas_event();\n",
       "            fig.waiting = false;\n",
       "            return;\n",
       "        }\n",
       "\n",
       "        var msg = JSON.parse(evt.data);\n",
       "        var msg_type = msg['type'];\n",
       "\n",
       "        // Call the  \"handle_{type}\" callback, which takes\n",
       "        // the figure and JSON message as its only arguments.\n",
       "        try {\n",
       "            var callback = fig[\"handle_\" + msg_type];\n",
       "        } catch (e) {\n",
       "            console.log(\"No handler for the '\" + msg_type + \"' message type: \", msg);\n",
       "            return;\n",
       "        }\n",
       "\n",
       "        if (callback) {\n",
       "            try {\n",
       "                // console.log(\"Handling '\" + msg_type + \"' message: \", msg);\n",
       "                callback(fig, msg);\n",
       "            } catch (e) {\n",
       "                console.log(\"Exception inside the 'handler_\" + msg_type + \"' callback:\", e, e.stack, msg);\n",
       "            }\n",
       "        }\n",
       "    };\n",
       "}\n",
       "\n",
       "// from http://stackoverflow.com/questions/1114465/getting-mouse-location-in-canvas\n",
       "mpl.findpos = function(e) {\n",
       "    //this section is from http://www.quirksmode.org/js/events_properties.html\n",
       "    var targ;\n",
       "    if (!e)\n",
       "        e = window.event;\n",
       "    if (e.target)\n",
       "        targ = e.target;\n",
       "    else if (e.srcElement)\n",
       "        targ = e.srcElement;\n",
       "    if (targ.nodeType == 3) // defeat Safari bug\n",
       "        targ = targ.parentNode;\n",
       "\n",
       "    // jQuery normalizes the pageX and pageY\n",
       "    // pageX,Y are the mouse positions relative to the document\n",
       "    // offset() returns the position of the element relative to the document\n",
       "    var x = e.pageX - $(targ).offset().left;\n",
       "    var y = e.pageY - $(targ).offset().top;\n",
       "\n",
       "    return {\"x\": x, \"y\": y};\n",
       "};\n",
       "\n",
       "/*\n",
       " * return a copy of an object with only non-object keys\n",
       " * we need this to avoid circular references\n",
       " * http://stackoverflow.com/a/24161582/3208463\n",
       " */\n",
       "function simpleKeys (original) {\n",
       "  return Object.keys(original).reduce(function (obj, key) {\n",
       "    if (typeof original[key] !== 'object')\n",
       "        obj[key] = original[key]\n",
       "    return obj;\n",
       "  }, {});\n",
       "}\n",
       "\n",
       "mpl.figure.prototype.mouse_event = function(event, name) {\n",
       "    var canvas_pos = mpl.findpos(event)\n",
       "\n",
       "    if (name === 'button_press')\n",
       "    {\n",
       "        this.canvas.focus();\n",
       "        this.canvas_div.focus();\n",
       "    }\n",
       "\n",
       "    var x = canvas_pos.x * mpl.ratio;\n",
       "    var y = canvas_pos.y * mpl.ratio;\n",
       "\n",
       "    this.send_message(name, {x: x, y: y, button: event.button,\n",
       "                             step: event.step,\n",
       "                             guiEvent: simpleKeys(event)});\n",
       "\n",
       "    /* This prevents the web browser from automatically changing to\n",
       "     * the text insertion cursor when the button is pressed.  We want\n",
       "     * to control all of the cursor setting manually through the\n",
       "     * 'cursor' event from matplotlib */\n",
       "    event.preventDefault();\n",
       "    return false;\n",
       "}\n",
       "\n",
       "mpl.figure.prototype._key_event_extra = function(event, name) {\n",
       "    // Handle any extra behaviour associated with a key event\n",
       "}\n",
       "\n",
       "mpl.figure.prototype.key_event = function(event, name) {\n",
       "\n",
       "    // Prevent repeat events\n",
       "    if (name == 'key_press')\n",
       "    {\n",
       "        if (event.which === this._key)\n",
       "            return;\n",
       "        else\n",
       "            this._key = event.which;\n",
       "    }\n",
       "    if (name == 'key_release')\n",
       "        this._key = null;\n",
       "\n",
       "    var value = '';\n",
       "    if (event.ctrlKey && event.which != 17)\n",
       "        value += \"ctrl+\";\n",
       "    if (event.altKey && event.which != 18)\n",
       "        value += \"alt+\";\n",
       "    if (event.shiftKey && event.which != 16)\n",
       "        value += \"shift+\";\n",
       "\n",
       "    value += 'k';\n",
       "    value += event.which.toString();\n",
       "\n",
       "    this._key_event_extra(event, name);\n",
       "\n",
       "    this.send_message(name, {key: value,\n",
       "                             guiEvent: simpleKeys(event)});\n",
       "    return false;\n",
       "}\n",
       "\n",
       "mpl.figure.prototype.toolbar_button_onclick = function(name) {\n",
       "    if (name == 'download') {\n",
       "        this.handle_save(this, null);\n",
       "    } else {\n",
       "        this.send_message(\"toolbar_button\", {name: name});\n",
       "    }\n",
       "};\n",
       "\n",
       "mpl.figure.prototype.toolbar_button_onmouseover = function(tooltip) {\n",
       "    this.message.textContent = tooltip;\n",
       "};\n",
       "mpl.toolbar_items = [[\"Home\", \"Reset original view\", \"fa fa-home icon-home\", \"home\"], [\"Back\", \"Back to previous view\", \"fa fa-arrow-left icon-arrow-left\", \"back\"], [\"Forward\", \"Forward to next view\", \"fa fa-arrow-right icon-arrow-right\", \"forward\"], [\"\", \"\", \"\", \"\"], [\"Pan\", \"Pan axes with left mouse, zoom with right\", \"fa fa-arrows icon-move\", \"pan\"], [\"Zoom\", \"Zoom to rectangle\", \"fa fa-square-o icon-check-empty\", \"zoom\"], [\"\", \"\", \"\", \"\"], [\"Download\", \"Download plot\", \"fa fa-floppy-o icon-save\", \"download\"]];\n",
       "\n",
       "mpl.extensions = [\"eps\", \"jpeg\", \"pdf\", \"png\", \"ps\", \"raw\", \"svg\", \"tif\"];\n",
       "\n",
       "mpl.default_extension = \"png\";var comm_websocket_adapter = function(comm) {\n",
       "    // Create a \"websocket\"-like object which calls the given IPython comm\n",
       "    // object with the appropriate methods. Currently this is a non binary\n",
       "    // socket, so there is still some room for performance tuning.\n",
       "    var ws = {};\n",
       "\n",
       "    ws.close = function() {\n",
       "        comm.close()\n",
       "    };\n",
       "    ws.send = function(m) {\n",
       "        //console.log('sending', m);\n",
       "        comm.send(m);\n",
       "    };\n",
       "    // Register the callback with on_msg.\n",
       "    comm.on_msg(function(msg) {\n",
       "        //console.log('receiving', msg['content']['data'], msg);\n",
       "        // Pass the mpl event to the overridden (by mpl) onmessage function.\n",
       "        ws.onmessage(msg['content']['data'])\n",
       "    });\n",
       "    return ws;\n",
       "}\n",
       "\n",
       "mpl.mpl_figure_comm = function(comm, msg) {\n",
       "    // This is the function which gets called when the mpl process\n",
       "    // starts-up an IPython Comm through the \"matplotlib\" channel.\n",
       "\n",
       "    var id = msg.content.data.id;\n",
       "    // Get hold of the div created by the display call when the Comm\n",
       "    // socket was opened in Python.\n",
       "    var element = $(\"#\" + id);\n",
       "    var ws_proxy = comm_websocket_adapter(comm)\n",
       "\n",
       "    function ondownload(figure, format) {\n",
       "        window.open(figure.imageObj.src);\n",
       "    }\n",
       "\n",
       "    var fig = new mpl.figure(id, ws_proxy,\n",
       "                           ondownload,\n",
       "                           element.get(0));\n",
       "\n",
       "    // Call onopen now - mpl needs it, as it is assuming we've passed it a real\n",
       "    // web socket which is closed, not our websocket->open comm proxy.\n",
       "    ws_proxy.onopen();\n",
       "\n",
       "    fig.parent_element = element.get(0);\n",
       "    fig.cell_info = mpl.find_output_cell(\"<div id='\" + id + \"'></div>\");\n",
       "    if (!fig.cell_info) {\n",
       "        console.error(\"Failed to find cell for figure\", id, fig);\n",
       "        return;\n",
       "    }\n",
       "\n",
       "    var output_index = fig.cell_info[2]\n",
       "    var cell = fig.cell_info[0];\n",
       "\n",
       "};\n",
       "\n",
       "mpl.figure.prototype.handle_close = function(fig, msg) {\n",
       "    var width = fig.canvas.width/mpl.ratio\n",
       "    fig.root.unbind('remove')\n",
       "\n",
       "    // Update the output cell to use the data from the current canvas.\n",
       "    fig.push_to_output();\n",
       "    var dataURL = fig.canvas.toDataURL();\n",
       "    // Re-enable the keyboard manager in IPython - without this line, in FF,\n",
       "    // the notebook keyboard shortcuts fail.\n",
       "    IPython.keyboard_manager.enable()\n",
       "    $(fig.parent_element).html('<img src=\"' + dataURL + '\" width=\"' + width + '\">');\n",
       "    fig.close_ws(fig, msg);\n",
       "}\n",
       "\n",
       "mpl.figure.prototype.close_ws = function(fig, msg){\n",
       "    fig.send_message('closing', msg);\n",
       "    // fig.ws.close()\n",
       "}\n",
       "\n",
       "mpl.figure.prototype.push_to_output = function(remove_interactive) {\n",
       "    // Turn the data on the canvas into data in the output cell.\n",
       "    var width = this.canvas.width/mpl.ratio\n",
       "    var dataURL = this.canvas.toDataURL();\n",
       "    this.cell_info[1]['text/html'] = '<img src=\"' + dataURL + '\" width=\"' + width + '\">';\n",
       "}\n",
       "\n",
       "mpl.figure.prototype.updated_canvas_event = function() {\n",
       "    // Tell IPython that the notebook contents must change.\n",
       "    IPython.notebook.set_dirty(true);\n",
       "    this.send_message(\"ack\", {});\n",
       "    var fig = this;\n",
       "    // Wait a second, then push the new image to the DOM so\n",
       "    // that it is saved nicely (might be nice to debounce this).\n",
       "    setTimeout(function () { fig.push_to_output() }, 1000);\n",
       "}\n",
       "\n",
       "mpl.figure.prototype._init_toolbar = function() {\n",
       "    var fig = this;\n",
       "\n",
       "    var nav_element = $('<div/>')\n",
       "    nav_element.attr('style', 'width: 100%');\n",
       "    this.root.append(nav_element);\n",
       "\n",
       "    // Define a callback function for later on.\n",
       "    function toolbar_event(event) {\n",
       "        return fig.toolbar_button_onclick(event['data']);\n",
       "    }\n",
       "    function toolbar_mouse_event(event) {\n",
       "        return fig.toolbar_button_onmouseover(event['data']);\n",
       "    }\n",
       "\n",
       "    for(var toolbar_ind in mpl.toolbar_items){\n",
       "        var name = mpl.toolbar_items[toolbar_ind][0];\n",
       "        var tooltip = mpl.toolbar_items[toolbar_ind][1];\n",
       "        var image = mpl.toolbar_items[toolbar_ind][2];\n",
       "        var method_name = mpl.toolbar_items[toolbar_ind][3];\n",
       "\n",
       "        if (!name) { continue; };\n",
       "\n",
       "        var button = $('<button class=\"btn btn-default\" href=\"#\" title=\"' + name + '\"><i class=\"fa ' + image + ' fa-lg\"></i></button>');\n",
       "        button.click(method_name, toolbar_event);\n",
       "        button.mouseover(tooltip, toolbar_mouse_event);\n",
       "        nav_element.append(button);\n",
       "    }\n",
       "\n",
       "    // Add the status bar.\n",
       "    var status_bar = $('<span class=\"mpl-message\" style=\"text-align:right; float: right;\"/>');\n",
       "    nav_element.append(status_bar);\n",
       "    this.message = status_bar[0];\n",
       "\n",
       "    // Add the close button to the window.\n",
       "    var buttongrp = $('<div class=\"btn-group inline pull-right\"></div>');\n",
       "    var button = $('<button class=\"btn btn-mini btn-primary\" href=\"#\" title=\"Stop Interaction\"><i class=\"fa fa-power-off icon-remove icon-large\"></i></button>');\n",
       "    button.click(function (evt) { fig.handle_close(fig, {}); } );\n",
       "    button.mouseover('Stop Interaction', toolbar_mouse_event);\n",
       "    buttongrp.append(button);\n",
       "    var titlebar = this.root.find($('.ui-dialog-titlebar'));\n",
       "    titlebar.prepend(buttongrp);\n",
       "}\n",
       "\n",
       "mpl.figure.prototype._root_extra_style = function(el){\n",
       "    var fig = this\n",
       "    el.on(\"remove\", function(){\n",
       "\tfig.close_ws(fig, {});\n",
       "    });\n",
       "}\n",
       "\n",
       "mpl.figure.prototype._canvas_extra_style = function(el){\n",
       "    // this is important to make the div 'focusable\n",
       "    el.attr('tabindex', 0)\n",
       "    // reach out to IPython and tell the keyboard manager to turn it's self\n",
       "    // off when our div gets focus\n",
       "\n",
       "    // location in version 3\n",
       "    if (IPython.notebook.keyboard_manager) {\n",
       "        IPython.notebook.keyboard_manager.register_events(el);\n",
       "    }\n",
       "    else {\n",
       "        // location in version 2\n",
       "        IPython.keyboard_manager.register_events(el);\n",
       "    }\n",
       "\n",
       "}\n",
       "\n",
       "mpl.figure.prototype._key_event_extra = function(event, name) {\n",
       "    var manager = IPython.notebook.keyboard_manager;\n",
       "    if (!manager)\n",
       "        manager = IPython.keyboard_manager;\n",
       "\n",
       "    // Check for shift+enter\n",
       "    if (event.shiftKey && event.which == 13) {\n",
       "        this.canvas_div.blur();\n",
       "        event.shiftKey = false;\n",
       "        // Send a \"J\" for go to next cell\n",
       "        event.which = 74;\n",
       "        event.keyCode = 74;\n",
       "        manager.command_mode();\n",
       "        manager.handle_keydown(event);\n",
       "    }\n",
       "}\n",
       "\n",
       "mpl.figure.prototype.handle_save = function(fig, msg) {\n",
       "    fig.ondownload(fig, null);\n",
       "}\n",
       "\n",
       "\n",
       "mpl.find_output_cell = function(html_output) {\n",
       "    // Return the cell and output element which can be found *uniquely* in the notebook.\n",
       "    // Note - this is a bit hacky, but it is done because the \"notebook_saving.Notebook\"\n",
       "    // IPython event is triggered only after the cells have been serialised, which for\n",
       "    // our purposes (turning an active figure into a static one), is too late.\n",
       "    var cells = IPython.notebook.get_cells();\n",
       "    var ncells = cells.length;\n",
       "    for (var i=0; i<ncells; i++) {\n",
       "        var cell = cells[i];\n",
       "        if (cell.cell_type === 'code'){\n",
       "            for (var j=0; j<cell.output_area.outputs.length; j++) {\n",
       "                var data = cell.output_area.outputs[j];\n",
       "                if (data.data) {\n",
       "                    // IPython >= 3 moved mimebundle to data attribute of output\n",
       "                    data = data.data;\n",
       "                }\n",
       "                if (data['text/html'] == html_output) {\n",
       "                    return [cell, data, j];\n",
       "                }\n",
       "            }\n",
       "        }\n",
       "    }\n",
       "}\n",
       "\n",
       "// Register the function which deals with the matplotlib target/channel.\n",
       "// The kernel may be null if the page has been refreshed.\n",
       "if (IPython.notebook.kernel != null) {\n",
       "    IPython.notebook.kernel.comm_manager.register_target('matplotlib', mpl.mpl_figure_comm);\n",
       "}\n"
      ],
      "text/plain": [
       "<IPython.core.display.Javascript object>"
      ]
     },
     "metadata": {},
     "output_type": "display_data"
    },
    {
     "data": {
      "text/html": [
       "<img src=\"data:image/png;base64,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\" width=\"640\">"
      ],
      "text/plain": [
       "<IPython.core.display.HTML object>"
      ]
     },
     "metadata": {},
     "output_type": "display_data"
    }
   ],
   "source": [
    "#Visualising the clusters on a map\n",
    "def plot_clusters(frame):\n",
    "    city_long_border = (-74.03, -73.75)\n",
    "    city_lat_border = (40.63, 40.85)\n",
    "    fig, ax = plt.subplots(ncols=1, nrows=1)\n",
    "    ax.scatter(frame.pickup_longitude.values[:100000], frame.pickup_latitude.values[:100000], s=10, lw=0,\n",
    "               c=frame.pickup_cluster.values[:100000], cmap='tab20', alpha=0.2)\n",
    "    ax.set_xlim(city_long_border)\n",
    "    ax.set_ylim(city_lat_border)\n",
    "    ax.set_xlabel('Longitude')\n",
    "    ax.set_ylabel('Latitude')\n",
    "    plt.show()\n",
    "\n",
    "plot_clusters(frame_with_durations_outliers_removed)"
   ]
  },
  {
   "cell_type": "markdown",
   "metadata": {
    "colab_type": "text",
    "id": "r-RK9PzspYUP"
   },
   "source": [
    "## Time-binning"
   ]
  },
  {
   "cell_type": "code",
   "execution_count": 15,
   "metadata": {
    "colab": {},
    "colab_type": "code",
    "id": "WhGxh1VXpYUQ"
   },
   "outputs": [],
   "source": [
    "#Refer:https://www.unixtimestamp.com/\n",
    "# 1420070400 : 2015-01-01 00:00:00 \n",
    "# 1422748800 : 2015-02-01 00:00:00 \n",
    "# 1425168000 : 2015-03-01 00:00:00\n",
    "# 1427846400 : 2015-04-01 00:00:00 \n",
    "# 1430438400 : 2015-05-01 00:00:00 \n",
    "# 1433116800 : 2015-06-01 00:00:00\n",
    "\n",
    "# 1451606400 : 2016-01-01 00:00:00 \n",
    "# 1454284800 : 2016-02-01 00:00:00 \n",
    "# 1456790400 : 2016-03-01 00:00:00\n",
    "# 1459468800 : 2016-04-01 00:00:00 \n",
    "# 1462060800 : 2016-05-01 00:00:00 \n",
    "# 1464739200 : 2016-06-01 00:00:00\n",
    "\n",
    "def add_pickup_bins(frame,month,year):\n",
    "    unix_pickup_times=[i for i in frame['pickup_times'].values]\n",
    "    unix_times = [[1420070400,1422748800,1425168000,1427846400,1430438400,1433116800],\\\n",
    "                    [1451606400,1454284800,1456790400,1459468800,1462060800,1464739200]]\n",
    "    \n",
    "    start_pickup_unix=unix_times[year-2015][month-1]\n",
    "    # https://www.timeanddate.com/time/zones/est\n",
    "    # (int((i-start_pickup_unix)/600)+33) : our unix time is in gmt to we are converting it to est\n",
    "    tenminutewise_binned_unix_pickup_times=[(int((i-start_pickup_unix)/600)+33) for i in unix_pickup_times]\n",
    "    frame['pickup_bins'] = np.array(tenminutewise_binned_unix_pickup_times)\n",
    "    return frame"
   ]
  },
  {
   "cell_type": "code",
   "execution_count": 14,
   "metadata": {
    "colab": {},
    "colab_type": "code",
    "id": "9bO_QAAGpYUR"
   },
   "outputs": [],
   "source": [
    "# clustering, making pickup bins and grouping by pickup cluster and pickup bins\n",
    "frame_with_durations_outliers_removed['pickup_cluster'] = kmeans.predict(frame_with_durations_outliers_removed[['pickup_latitude', 'pickup_longitude']])\n",
    "jan_2015_frame = add_pickup_bins(frame_with_durations_outliers_removed,1,2015)\n",
    "jan_2015_groupby = jan_2015_frame[['pickup_cluster','pickup_bins','trip_distance']].groupby(['pickup_cluster','pickup_bins']).count()"
   ]
  },
  {
   "cell_type": "code",
   "execution_count": 30,
   "metadata": {
    "colab": {},
    "colab_type": "code",
    "id": "Ne-s1QW_pYUT",
    "outputId": "b49abc6d-1e6e-40f2-cf47-663a2f1d6e48"
   },
   "outputs": [
    {
     "data": {
      "text/html": [
       "<div>\n",
       "<style scoped>\n",
       "    .dataframe tbody tr th:only-of-type {\n",
       "        vertical-align: middle;\n",
       "    }\n",
       "\n",
       "    .dataframe tbody tr th {\n",
       "        vertical-align: top;\n",
       "    }\n",
       "\n",
       "    .dataframe thead th {\n",
       "        text-align: right;\n",
       "    }\n",
       "</style>\n",
       "<table border=\"1\" class=\"dataframe\">\n",
       "  <thead>\n",
       "    <tr style=\"text-align: right;\">\n",
       "      <th></th>\n",
       "      <th>passenger_count</th>\n",
       "      <th>trip_distance</th>\n",
       "      <th>pickup_longitude</th>\n",
       "      <th>pickup_latitude</th>\n",
       "      <th>dropoff_longitude</th>\n",
       "      <th>dropoff_latitude</th>\n",
       "      <th>total_amount</th>\n",
       "      <th>trip_times</th>\n",
       "      <th>pickup_times</th>\n",
       "      <th>Speed</th>\n",
       "      <th>hour</th>\n",
       "      <th>min</th>\n",
       "      <th>sec</th>\n",
       "      <th>pickup_cluster</th>\n",
       "      <th>pickup_bins</th>\n",
       "    </tr>\n",
       "  </thead>\n",
       "  <tbody>\n",
       "    <tr>\n",
       "      <th>0</th>\n",
       "      <td>1</td>\n",
       "      <td>1.59</td>\n",
       "      <td>-73.993896</td>\n",
       "      <td>40.750111</td>\n",
       "      <td>-73.974785</td>\n",
       "      <td>40.750618</td>\n",
       "      <td>17.05</td>\n",
       "      <td>18.050000</td>\n",
       "      <td>1.421329e+09</td>\n",
       "      <td>5.285319</td>\n",
       "      <td>19</td>\n",
       "      <td>05</td>\n",
       "      <td>39</td>\n",
       "      <td>25</td>\n",
       "      <td>2130</td>\n",
       "    </tr>\n",
       "    <tr>\n",
       "      <th>1</th>\n",
       "      <td>1</td>\n",
       "      <td>3.30</td>\n",
       "      <td>-74.001648</td>\n",
       "      <td>40.724243</td>\n",
       "      <td>-73.994415</td>\n",
       "      <td>40.759109</td>\n",
       "      <td>17.80</td>\n",
       "      <td>19.833333</td>\n",
       "      <td>1.420902e+09</td>\n",
       "      <td>9.983193</td>\n",
       "      <td>20</td>\n",
       "      <td>33</td>\n",
       "      <td>38</td>\n",
       "      <td>48</td>\n",
       "      <td>1419</td>\n",
       "    </tr>\n",
       "    <tr>\n",
       "      <th>2</th>\n",
       "      <td>1</td>\n",
       "      <td>1.80</td>\n",
       "      <td>-73.963341</td>\n",
       "      <td>40.802788</td>\n",
       "      <td>-73.951820</td>\n",
       "      <td>40.824413</td>\n",
       "      <td>10.80</td>\n",
       "      <td>10.050000</td>\n",
       "      <td>1.420902e+09</td>\n",
       "      <td>10.746269</td>\n",
       "      <td>20</td>\n",
       "      <td>33</td>\n",
       "      <td>38</td>\n",
       "      <td>28</td>\n",
       "      <td>1419</td>\n",
       "    </tr>\n",
       "    <tr>\n",
       "      <th>3</th>\n",
       "      <td>1</td>\n",
       "      <td>0.50</td>\n",
       "      <td>-74.009087</td>\n",
       "      <td>40.713818</td>\n",
       "      <td>-74.004326</td>\n",
       "      <td>40.719986</td>\n",
       "      <td>4.80</td>\n",
       "      <td>1.866667</td>\n",
       "      <td>1.420902e+09</td>\n",
       "      <td>16.071429</td>\n",
       "      <td>20</td>\n",
       "      <td>33</td>\n",
       "      <td>39</td>\n",
       "      <td>0</td>\n",
       "      <td>1419</td>\n",
       "    </tr>\n",
       "    <tr>\n",
       "      <th>4</th>\n",
       "      <td>1</td>\n",
       "      <td>3.00</td>\n",
       "      <td>-73.971176</td>\n",
       "      <td>40.762428</td>\n",
       "      <td>-74.004181</td>\n",
       "      <td>40.742653</td>\n",
       "      <td>16.30</td>\n",
       "      <td>19.316667</td>\n",
       "      <td>1.420902e+09</td>\n",
       "      <td>9.318378</td>\n",
       "      <td>20</td>\n",
       "      <td>33</td>\n",
       "      <td>39</td>\n",
       "      <td>2</td>\n",
       "      <td>1419</td>\n",
       "    </tr>\n",
       "  </tbody>\n",
       "</table>\n",
       "</div>"
      ],
      "text/plain": [
       "   passenger_count  trip_distance  pickup_longitude  pickup_latitude  \\\n",
       "0                1           1.59        -73.993896        40.750111   \n",
       "1                1           3.30        -74.001648        40.724243   \n",
       "2                1           1.80        -73.963341        40.802788   \n",
       "3                1           0.50        -74.009087        40.713818   \n",
       "4                1           3.00        -73.971176        40.762428   \n",
       "\n",
       "   dropoff_longitude  dropoff_latitude  total_amount  trip_times  \\\n",
       "0         -73.974785         40.750618         17.05   18.050000   \n",
       "1         -73.994415         40.759109         17.80   19.833333   \n",
       "2         -73.951820         40.824413         10.80   10.050000   \n",
       "3         -74.004326         40.719986          4.80    1.866667   \n",
       "4         -74.004181         40.742653         16.30   19.316667   \n",
       "\n",
       "   pickup_times      Speed hour min sec  pickup_cluster  pickup_bins  \n",
       "0  1.421329e+09   5.285319   19  05  39              25         2130  \n",
       "1  1.420902e+09   9.983193   20  33  38              48         1419  \n",
       "2  1.420902e+09  10.746269   20  33  38              28         1419  \n",
       "3  1.420902e+09  16.071429   20  33  39               0         1419  \n",
       "4  1.420902e+09   9.318378   20  33  39               2         1419  "
      ]
     },
     "execution_count": 30,
     "metadata": {},
     "output_type": "execute_result"
    }
   ],
   "source": [
    "# we add two more columns 'pickup_cluster'(to which cluster it belogns to) \n",
    "# and 'pickup_bins' (to which 10min intravel the trip belongs to)\n",
    "jan_2015_frame.head()"
   ]
  },
  {
   "cell_type": "code",
   "execution_count": 48,
   "metadata": {
    "colab": {},
    "colab_type": "code",
    "id": "Q56tfNUmpYUW",
    "outputId": "9dda59f4-59c0-4557-e4fd-9ce226d98225"
   },
   "outputs": [
    {
     "data": {
      "text/html": [
       "<div>\n",
       "<style scoped>\n",
       "    .dataframe tbody tr th:only-of-type {\n",
       "        vertical-align: middle;\n",
       "    }\n",
       "\n",
       "    .dataframe tbody tr th {\n",
       "        vertical-align: top;\n",
       "    }\n",
       "\n",
       "    .dataframe thead th {\n",
       "        text-align: right;\n",
       "    }\n",
       "</style>\n",
       "<table border=\"1\" class=\"dataframe\">\n",
       "  <thead>\n",
       "    <tr style=\"text-align: right;\">\n",
       "      <th></th>\n",
       "      <th></th>\n",
       "      <th>trip_distance</th>\n",
       "    </tr>\n",
       "    <tr>\n",
       "      <th>pickup_cluster</th>\n",
       "      <th>pickup_bins</th>\n",
       "      <th></th>\n",
       "    </tr>\n",
       "  </thead>\n",
       "  <tbody>\n",
       "    <tr>\n",
       "      <th rowspan=\"5\" valign=\"top\">0</th>\n",
       "      <th>33</th>\n",
       "      <td>36</td>\n",
       "    </tr>\n",
       "    <tr>\n",
       "      <th>34</th>\n",
       "      <td>93</td>\n",
       "    </tr>\n",
       "    <tr>\n",
       "      <th>35</th>\n",
       "      <td>112</td>\n",
       "    </tr>\n",
       "    <tr>\n",
       "      <th>36</th>\n",
       "      <td>140</td>\n",
       "    </tr>\n",
       "    <tr>\n",
       "      <th>37</th>\n",
       "      <td>97</td>\n",
       "    </tr>\n",
       "  </tbody>\n",
       "</table>\n",
       "</div>"
      ],
      "text/plain": [
       "                            trip_distance\n",
       "pickup_cluster pickup_bins               \n",
       "0              33                      36\n",
       "               34                      93\n",
       "               35                     112\n",
       "               36                     140\n",
       "               37                      97"
      ]
     },
     "execution_count": 48,
     "metadata": {},
     "output_type": "execute_result"
    }
   ],
   "source": [
    "# hear the trip_distance represents the number of pickups that are happend in that particular 10min intravel\n",
    "# this data frame has two indices\n",
    "# primary index: pickup_cluster (cluster number)\n",
    "# secondary index : pickup_bins (we devid whole months time into 10min intravels 24*31*60/10 =4464bins)\n",
    "jan_2015_groupby.head()"
   ]
  },
  {
   "cell_type": "code",
   "execution_count": 5,
   "metadata": {},
   "outputs": [],
   "source": [
    "# jan_2015_frame\n",
    "# jan_2015_groupby\n",
    "if os.path.isfile(\"jan_2015_frame.pickle\"):\n",
    "    pickle_in = open(\"jan_2015_frame.pickle\",\"rb\")\n",
    "    jan_2015_frame = pickle.load(pickle_in)\n",
    "else:\n",
    "    jan_2015_frame_pickle = open(\"jan_2015_frame.pickle\", \"wb\")\n",
    "    pickle.dump(jan_2015_frame, jan_2015_frame_pickle)\n",
    "    jan_2015_frame_pickle.close()\n",
    "\n",
    "#for groupby    \n",
    "if os.path.isfile(\"jan_2015_groupby.pickle\"):\n",
    "    pickle_in = open(\"jan_2015_groupby.pickle\",\"rb\")\n",
    "    jan_2015_groupby = pickle.load(pickle_in)\n",
    "else:\n",
    "    jan_2015_groupby_pickle = open(\"jan_2015_groupby.pickle\", \"wb\")\n",
    "    pickle.dump(jan_2015_groupby, jan_2015_groupby_pickle)\n",
    "    jan_2015_groupby_pickle.close()"
   ]
  },
  {
   "cell_type": "code",
   "execution_count": 1,
   "metadata": {
    "colab": {},
    "colab_type": "code",
    "id": "sLMjW_depYUa",
    "outputId": "f2bbb0cd-e103-4168-e07f-5da5267fec9a",
    "scrolled": true
   },
   "outputs": [],
   "source": [
    "# upto now we cleaned data and prepared data for the month 2015,\n",
    "\n",
    "# now do the same operations for months Jan, Feb, March of 2016\n",
    "# 1. get the dataframe which inlcudes only required colums\n",
    "# 2. adding trip times, speed, unix time stamp of pickup_time\n",
    "# 4. remove the outliers based on trip_times, speed, trip_duration, total_amount\n",
    "# 5. add pickup_cluster to each data point\n",
    "# 6. add pickup_bin (index of 10min intravel to which that trip belongs to)\n",
    "# 7. group by data, based on 'pickup_cluster' and 'pickuo_bin'\n",
    "\n",
    "# Data Preparation for the months of Jan,Feb and March 2016\n",
    "def datapreparation(month,kmeans,month_no,year_no):\n",
    "    \n",
    "    print (\"Return with trip times..\")\n",
    "\n",
    "    frame_with_durations = return_with_trip_times(month)\n",
    "    \n",
    "    print (\"Remove outliers..\")\n",
    "    frame_with_durations_outliers_removed = remove_outliers(frame_with_durations)\n",
    "    \n",
    "    print (\"Estimating clusters..\")\n",
    "    frame_with_durations_outliers_removed['pickup_cluster'] = kmeans.predict(frame_with_durations_outliers_removed[['pickup_latitude', 'pickup_longitude']])\n",
    "    #frame_with_durations_outliers_removed_2016['pickup_cluster'] = kmeans.predict(frame_with_durations_outliers_removed_2016[['pickup_latitude', 'pickup_longitude']])\n",
    "\n",
    "    print (\"Final groupbying..\")\n",
    "    final_updated_frame = add_pickup_bins(frame_with_durations_outliers_removed,month_no,year_no)\n",
    "    final_groupby_frame = final_updated_frame[['pickup_cluster','pickup_bins','trip_distance']].groupby(['pickup_cluster','pickup_bins']).count()\n",
    "    \n",
    "    return final_updated_frame,final_groupby_frame\n",
    "    \n"
   ]
  },
  {
   "cell_type": "code",
   "execution_count": 39,
   "metadata": {},
   "outputs": [
    {
     "name": "stdout",
     "output_type": "stream",
     "text": [
      "Reading for jan 2016\n",
      "Return with trip times..\n",
      "Remove outliers..\n",
      "Number of pickup records =  10906858\n",
      "Number of outlier coordinates lying outside NY boundaries: 214677\n",
      "Number of outliers from trip times analysis: 27190\n",
      "Number of outliers from trip distance analysis: 79742\n",
      "Number of outliers from speed analysis: 21047\n",
      "Number of outliers from fare analysis: 4991\n",
      "Total outliers removed 297784\n",
      "---\n",
      "Estimating clusters..\n",
      "Final groupbying..\n"
     ]
    }
   ],
   "source": [
    "month_jan_2016 = dd.read_csv('yellow_tripdata_2016-01.csv')\n",
    "print(\"Reading for jan 2016\")\n",
    "month_jan_2016['date'] = month_jan_2016['tpep_pickup_datetime'].str.partition(\" \")[0]\n",
    "month_jan_2016['time'] = month_jan_2016['tpep_pickup_datetime'].str.partition(\" \")[2]\n",
    "month_jan_2016['hour'] = month_jan_2016['time'].str.partition(\":\")[0]\n",
    "month_jan_2016['time'] = month_jan_2016['time'].str.partition(\":\")[2]\n",
    "month_jan_2016['min'] = month_jan_2016['time'].str.partition(\":\")[0]\n",
    "month_jan_2016['sec'] = month_jan_2016['time'].str.partition(\":\")[2]\n",
    "jan_2016_frame,jan_2016_groupby = datapreparation(month_jan_2016,kmeans,1,2016)"
   ]
  },
  {
   "cell_type": "code",
   "execution_count": 40,
   "metadata": {},
   "outputs": [],
   "source": [
    "# # https://stackoverflow.com/a/53420094/5400111\n",
    "if os.path.isfile(\"jan_2016_frame.pickle\"):\n",
    "    pickle_in = open(\"jan_2016_frame_pickle.pickle\",\"rb\")\n",
    "    #loading the data in the dask data frame\n",
    "    jan_2016_frame = pickle.load(pickle_in)\n",
    "else:\n",
    "    jan_2016_frame_pickle = open(\"jan_2016_frame.pickle\", \"wb\")\n",
    "    pickle.dump(jan_2016_frame, jan_2016_frame_pickle)\n",
    "    jan_2016_frame_pickle.close()\n",
    "\n",
    "#for groupby    \n",
    "if os.path.isfile(\"jan_2016_groupby.pickle\"):\n",
    "    pickle_in = open(\"jan_2016_groupby.pickle\",\"rb\")\n",
    "    jan_2016_groupby = pickle.load(pickle_in)\n",
    "else:\n",
    "    jan_2016_groupby_pickle = open(\"jan_2016_groupby.pickle\", \"wb\")\n",
    "    pickle.dump(jan_2016_groupby, jan_2016_groupby_pickle)\n",
    "    jan_2016_groupby_pickle.close()"
   ]
  },
  {
   "cell_type": "code",
   "execution_count": 41,
   "metadata": {},
   "outputs": [],
   "source": [
    "del jan_2016_frame\n",
    "del jan_2016_frame_pickle"
   ]
  },
  {
   "cell_type": "code",
   "execution_count": 44,
   "metadata": {},
   "outputs": [
    {
     "name": "stdout",
     "output_type": "stream",
     "text": [
      "Reading for feb 2016\n",
      "Return with trip times..\n",
      "Remove outliers..\n",
      "Number of pickup records =  11382049\n",
      "Number of outlier coordinates lying outside NY boundaries: 223161\n",
      "Number of outliers from trip times analysis: 27670\n",
      "Number of outliers from trip distance analysis: 81902\n",
      "Number of outliers from speed analysis: 22437\n",
      "Number of outliers from fare analysis: 5476\n",
      "Total outliers removed 308177\n",
      "---\n",
      "Estimating clusters..\n",
      "Final groupbying..\n"
     ]
    }
   ],
   "source": [
    "month_feb_2016 = dd.read_csv('yellow_tripdata_2016-02.csv')\n",
    "print(\"Reading for feb 2016\")\n",
    "month_feb_2016['date'] = month_feb_2016['tpep_pickup_datetime'].str.partition(\" \")[0]\n",
    "month_feb_2016['time'] = month_feb_2016['tpep_pickup_datetime'].str.partition(\" \")[2]\n",
    "month_feb_2016['hour'] = month_feb_2016['time'].str.partition(\":\")[0]\n",
    "month_feb_2016['time'] = month_feb_2016['time'].str.partition(\":\")[2]\n",
    "month_feb_2016['min'] = month_feb_2016['time'].str.partition(\":\")[0]\n",
    "month_feb_2016['sec'] = month_feb_2016['time'].str.partition(\":\")[2]\n",
    "feb_2016_frame,feb_2016_groupby = datapreparation(month_feb_2016,kmeans,2,2016)"
   ]
  },
  {
   "cell_type": "code",
   "execution_count": 45,
   "metadata": {},
   "outputs": [],
   "source": [
    "# feb_2016_frame\n",
    "# feb_2016_groupby\n",
    "if os.path.isfile(\"feb_2016_frame.pickle\"):\n",
    "    pickle_in = open(\"feb_2016_frame_pickle.pickle\",\"rb\")\n",
    "    feb_2016_frame = pickle.load(pickle_in)\n",
    "else:\n",
    "    feb_2016_frame_pickle = open(\"feb_2016_frame.pickle\", \"wb\")\n",
    "    pickle.dump(feb_2016_frame, feb_2016_frame_pickle)\n",
    "    feb_2016_frame_pickle.close()\n",
    "\n",
    "#for groupby    \n",
    "if os.path.isfile(\"feb_2016_groupby.pickle\"):\n",
    "    pickle_in = open(\"feb_2016_groupby.pickle\",\"rb\")\n",
    "    #loading the data in the dask data frame\n",
    "    feb_2016_groupby = pickle.load(pickle_in)\n",
    "else:\n",
    "    feb_2016_groupby_pickle = open(\"feb_2016_groupby.pickle\", \"wb\")\n",
    "    pickle.dump(feb_2016_groupby, feb_2016_groupby_pickle)\n",
    "    feb_2016_groupby_pickle.close()"
   ]
  },
  {
   "cell_type": "code",
   "execution_count": 46,
   "metadata": {},
   "outputs": [],
   "source": [
    "del feb_2016_frame\n",
    "del feb_2016_groupby"
   ]
  },
  {
   "cell_type": "code",
   "execution_count": 7,
   "metadata": {},
   "outputs": [
    {
     "name": "stdout",
     "output_type": "stream",
     "text": [
      "File is present loading variable\n",
      "Completed!!!\n"
     ]
    }
   ],
   "source": [
    "# frame_with_durations_outliers_removed\n",
    "import pickle\n",
    "if os.path.isfile(\"kmeans2.pickle\"):\n",
    "    print(\"File is present loading variable\")\n",
    "    pickle_in = open(\"kmeans2.pickle\",\"rb\")\n",
    "    kmeans = pickle.load(pickle_in)\n",
    "    print(\"Completed!!!\")\n",
    "else:\n",
    "    print(\"Dumping the variable\")\n",
    "    kmeans_pkl = open(\"kmeans2.pickle\", \"wb\")\n",
    "    pickle.dump(kmeans2, kmeans_pkl)\n",
    "    kmeans_pkl.close()\n",
    "    print(\"Completed!!!\")\n"
   ]
  },
  {
   "cell_type": "code",
   "execution_count": 16,
   "metadata": {},
   "outputs": [
    {
     "name": "stdout",
     "output_type": "stream",
     "text": [
      "Reading for mar 2016\n",
      "Return with trip times..\n",
      "Remove outliers..\n",
      "Number of pickup records =  12210952\n",
      "Number of outlier coordinates lying outside NY boundaries: 232444\n",
      "Number of outliers from trip times analysis: 30868\n",
      "Number of outliers from trip distance analysis: 87318\n",
      "Number of outliers from speed analysis: 23889\n",
      "Number of outliers from fare analysis: 5859\n",
      "Total outliers removed 324635\n",
      "---\n",
      "Estimating clusters..\n",
      "Final groupbying..\n"
     ]
    }
   ],
   "source": [
    "month_mar_2016 = dd.read_csv('yellow_tripdata_2016-03.csv')\n",
    "print(\"Reading for mar 2016\")\n",
    "month_mar_2016['date'] = month_mar_2016['tpep_pickup_datetime'].str.partition(\" \")[0]\n",
    "month_mar_2016['time'] = month_mar_2016['tpep_pickup_datetime'].str.partition(\" \")[2]\n",
    "month_mar_2016['hour'] = month_mar_2016['time'].str.partition(\":\")[0]\n",
    "month_mar_2016['time'] = month_mar_2016['time'].str.partition(\":\")[2]\n",
    "month_mar_2016['min'] = month_mar_2016['time'].str.partition(\":\")[0]\n",
    "month_mar_2016['sec'] = month_mar_2016['time'].str.partition(\":\")[2]\n",
    "mar_2016_frame,mar_2016_groupby = datapreparation(month_mar_2016,kmeans,3,2016)"
   ]
  },
  {
   "cell_type": "code",
   "execution_count": 19,
   "metadata": {},
   "outputs": [
    {
     "name": "stdout",
     "output_type": "stream",
     "text": [
      "Dumping the file into the pickle file\n"
     ]
    }
   ],
   "source": [
    "# mar_2016_frame\n",
    "# mar_2016_groupby\n",
    "if os.path.isfile(\"mar_2016_frame.pickle\"):\n",
    "    pickle_in = open(\"mar_2016_frame_pickle.pickle\",\"rb\")\n",
    "    #loading the data in the dask data frame\n",
    "    mar_2016_frame = pickle.load(pickle_in)\n",
    "else:\n",
    "    print(\"Dumping the file into the pickle file\")\n",
    "    mar_2016_frame_pickle = open(\"mar_2016_frame.pickle\", \"wb\")\n",
    "    pickle.dump(mar_2016_frame, mar_2016_frame_pickle)\n",
    "    mar_2016_frame_pickle.close()\n",
    "\n",
    "#for groupby    \n",
    "if os.path.isfile(\"mar_2016_groupby.pickle\"):\n",
    "    pickle_in = open(\"mar_2016_groupby.pickle\",\"rb\")\n",
    "    mar_2016_groupby = pickle.load(pickle_in)\n",
    "else:\n",
    "    mar_2016_groupby_pickle = open(\"mar_2016_groupby.pickle\", \"wb\")\n",
    "    pickle.dump(mar_2016_groupby, mar_2016_groupby_pickle)\n",
    "    mar_2016_groupby_pickle.close()"
   ]
  },
  {
   "cell_type": "code",
   "execution_count": null,
   "metadata": {},
   "outputs": [],
   "source": [
    "del month_mar_2016\n",
    "del mar_2016_groupby"
   ]
  },
  {
   "cell_type": "code",
   "execution_count": null,
   "metadata": {},
   "outputs": [],
   "source": [
    "# if os.path.isfile(\"jan_2016_frame.pickle\"):\n",
    "#     pickle_in = open(\"jan_2016_frame_pickle.pickle\",\"rb\")\n",
    "#     jan_2016_frame = pickle.load(pickle_in)\n",
    "# else:\n",
    "#     jan_2016_frame_pickle = open(\"jan_2016_frame.pickle\", \"wb\")\n",
    "#     pickle.dump(jan_2016_frame, jan_2016_frame_pickle)\n",
    "#     jan_2016_frame_pickle.close()\n",
    "\n",
    "# #for groupby    \n",
    "# if os.path.isfile(\"jan_2016_groupby.pickle\"):\n",
    "#     pickle_in = open(\"jan_2016_groupby.pickle\",\"rb\")\n",
    "#     jan_2016_groupby = pickle.load(pickle_in)\n",
    "# else:\n",
    "#     jan_2016_groupby_pickle = open(\"jan_2016_groupby.pickle\", \"wb\")\n",
    "#     pickle.dump(jan_2016_groupby, jan_2016_groupby_pickle)\n",
    "#     jan_2016_groupby_pickle.close()"
   ]
  },
  {
   "cell_type": "code",
   "execution_count": null,
   "metadata": {},
   "outputs": [],
   "source": [
    "# # feb_2016_frame\n",
    "# # feb_2016_groupby\n",
    "# if os.path.isfile(\"feb_2016_frame.pickle\"):\n",
    "#     pickle_in = open(\"feb_2016_frame_pickle.pickle\",\"rb\")\n",
    "#     feb_2016_frame = pickle.load(pickle_in)\n",
    "# else:\n",
    "#     feb_2016_frame_pickle = open(\"feb_2016_frame.pickle\", \"wb\")\n",
    "#     pickle.dump(feb_2016_frame, feb_2016_frame_pickle)\n",
    "#     feb_2016_frame_pickle.close()\n",
    "\n",
    "# #for groupby    \n",
    "# if os.path.isfile(\"feb_2016_groupby.pickle\"):\n",
    "#     pickle_in = open(\"feb_2016_groupby.pickle\",\"rb\")\n",
    "#     feb_2016_groupby = pickle.load(pickle_in)\n",
    "# else:\n",
    "#     feb_2016_groupby_pickle = open(\"feb_2016_groupby.pickle\", \"wb\")\n",
    "#     pickle.dump(feb_2016_groupby, feb_2016_groupby_pickle)\n",
    "#     feb_2016_groupby_pickle.close()"
   ]
  },
  {
   "cell_type": "code",
   "execution_count": null,
   "metadata": {},
   "outputs": [],
   "source": [
    "# # mar_2016_frame\n",
    "# # mar_2016_groupby\n",
    "# if os.path.isfile(\"mar_2016_frame.pickle\"):\n",
    "#     pickle_in = open(\"mar_2016_frame_pickle.pickle\",\"rb\")\n",
    "#     mar_2016_frame = pickle.load(pickle_in)\n",
    "# else:\n",
    "#     mar_2016_frame_pickle = open(\"mar_2016_frame.pickle\", \"wb\")\n",
    "#     pickle.dump(mar_2016_frame, mar_2016_frame_pickle)\n",
    "#     mar_2016_frame_pickle.close()\n",
    "\n",
    "# #for groupby    \n",
    "# if os.path.isfile(\"mar_2016_groupby.pickle\"):\n",
    "#     pickle_in = open(\"mar_2016_groupby.pickle\",\"rb\")\n",
    "#     mar_2016_groupby = pickle.load(pickle_in)\n",
    "# else:\n",
    "#     mar_2016_groupby_pickle = open(\"mar_2016_groupby.pickle\", \"wb\")\n",
    "#     pickle.dump(mar_2016_groupby, mar_2016_groupby_pickle)\n",
    "#     mar_2016_groupby_pickle.close()"
   ]
  },
  {
   "cell_type": "code",
   "execution_count": null,
   "metadata": {},
   "outputs": [],
   "source": []
  },
  {
   "cell_type": "markdown",
   "metadata": {
    "colab_type": "text",
    "id": "HEW9vuBwpYUc"
   },
   "source": [
    "## Smoothing"
   ]
  },
  {
   "cell_type": "code",
   "execution_count": 22,
   "metadata": {
    "colab": {},
    "colab_type": "code",
    "id": "rUMSCEHEpYUd"
   },
   "outputs": [],
   "source": [
    "# Gets the unique bins where pickup values are present for each each reigion\n",
    "\n",
    "# for each cluster region we will collect all the indices of 10min intravels in which the pickups are happened\n",
    "# we got an observation that there are some pickpbins that doesnt have any pickups\n",
    "def return_unq_pickup_bins(frame):\n",
    "    values = []\n",
    "    for i in range(0,50):\n",
    "        new = frame[frame['pickup_cluster'] == i]\n",
    "        list_unq = list(set(new['pickup_bins']))\n",
    "        list_unq.sort()\n",
    "        values.append(list_unq)\n",
    "    return values"
   ]
  },
  {
   "cell_type": "code",
   "execution_count": 23,
   "metadata": {},
   "outputs": [],
   "source": [
    "pickle_in = open(\"jan_2015_frame.pickle\",\"rb\")\n",
    "jan_2015_frame = pickle.load(pickle_in)\n",
    "jan_2015_unique = return_unq_pickup_bins(jan_2015_frame)\n",
    "jan_2015_unique_pickle = open(\"jan_2015_unique.pickle\", \"wb\")\n",
    "pickle.dump(jan_2015_unique, jan_2015_unique_pickle)\n",
    "jan_2015_unique_pickle.close()\n",
    "del jan_2015_unique\n",
    "del jan_2015_frame"
   ]
  },
  {
   "cell_type": "code",
   "execution_count": 24,
   "metadata": {},
   "outputs": [],
   "source": [
    "pickle_in = open(\"jan_2016_frame.pickle\",\"rb\")\n",
    "jan_2016_frame = pickle.load(pickle_in)\n",
    "jan_2016_unique = return_unq_pickup_bins(jan_2016_frame)\n",
    "jan_2016_unique_pickle = open(\"jan_2016_unique.pickle\", \"wb\")\n",
    "pickle.dump(jan_2016_unique, jan_2016_unique_pickle)\n",
    "jan_2016_unique_pickle.close()\n",
    "del jan_2016_unique\n",
    "del jan_2016_frame"
   ]
  },
  {
   "cell_type": "code",
   "execution_count": 25,
   "metadata": {},
   "outputs": [],
   "source": [
    "pickle_in = open(\"feb_2016_frame.pickle\",\"rb\")\n",
    "feb_2016_frame = pickle.load(pickle_in)\n",
    "feb_2016_unique = return_unq_pickup_bins(feb_2016_frame)\n",
    "feb_2016_unique_pickle = open(\"feb_2016_unique.pickle\", \"wb\")\n",
    "pickle.dump(feb_2016_unique, feb_2016_unique_pickle)\n",
    "feb_2016_unique_pickle.close()\n",
    "del feb_2016_unique\n",
    "del feb_2016_frame"
   ]
  },
  {
   "cell_type": "code",
   "execution_count": 26,
   "metadata": {},
   "outputs": [],
   "source": [
    "pickle_in = open(\"mar_2016_frame.pickle\",\"rb\")\n",
    "mar_2016_frame = pickle.load(pickle_in)\n",
    "mar_2016_unique = return_unq_pickup_bins(mar_2016_frame)\n",
    "mar_2016_unique_pickle = open(\"mar_2016_unique.pickle\", \"wb\")\n",
    "pickle.dump(mar_2016_unique, mar_2016_unique_pickle)\n",
    "mar_2016_unique_pickle.close()\n",
    "del mar_2016_unique\n",
    "del mar_2016_frame"
   ]
  },
  {
   "cell_type": "code",
   "execution_count": 52,
   "metadata": {
    "colab": {},
    "colab_type": "code",
    "id": "VeYcUCUxpYUf"
   },
   "outputs": [],
   "source": [
    "# # for every month we get all indices of 10min intravels in which atleast one pickup got happened\n",
    "\n",
    "# #jan\n",
    "# jan_2015_unique = return_unq_pickup_bins(jan_2015_frame)\n",
    "# jan_2016_unique = return_unq_pickup_bins(jan_2016_frame)\n",
    "\n",
    "# #feb\n",
    "# feb_2016_unique = return_unq_pickup_bins(feb_2016_frame)\n",
    "\n",
    "# #march\n",
    "# mar_2016_unique = return_unq_pickup_bins(mar_2016_frame)"
   ]
  },
  {
   "cell_type": "code",
   "execution_count": null,
   "metadata": {},
   "outputs": [],
   "source": []
  },
  {
   "cell_type": "code",
   "execution_count": 53,
   "metadata": {
    "colab": {},
    "colab_type": "code",
    "id": "Z5aZogYEpYUg",
    "outputId": "fb3386a0-2a07-4ab1-ba84-8cd014d8d1c3"
   },
   "outputs": [
    {
     "name": "stdout",
     "output_type": "stream",
     "text": [
      "for the  0 th cluster number of 10min intavels with zero pickups:  38\n",
      "------------------------------------------------------------\n",
      "for the  1 th cluster number of 10min intavels with zero pickups:  37\n",
      "------------------------------------------------------------\n",
      "for the  2 th cluster number of 10min intavels with zero pickups:  39\n",
      "------------------------------------------------------------\n",
      "for the  3 th cluster number of 10min intavels with zero pickups:  544\n",
      "------------------------------------------------------------\n",
      "for the  4 th cluster number of 10min intavels with zero pickups:  43\n",
      "------------------------------------------------------------\n",
      "for the  5 th cluster number of 10min intavels with zero pickups:  40\n",
      "------------------------------------------------------------\n",
      "for the  6 th cluster number of 10min intavels with zero pickups:  30\n",
      "------------------------------------------------------------\n",
      "for the  7 th cluster number of 10min intavels with zero pickups:  620\n",
      "------------------------------------------------------------\n",
      "for the  8 th cluster number of 10min intavels with zero pickups:  31\n",
      "------------------------------------------------------------\n",
      "for the  9 th cluster number of 10min intavels with zero pickups:  129\n",
      "------------------------------------------------------------\n",
      "for the  10 th cluster number of 10min intavels with zero pickups:  34\n",
      "------------------------------------------------------------\n",
      "for the  11 th cluster number of 10min intavels with zero pickups:  32\n",
      "------------------------------------------------------------\n",
      "for the  12 th cluster number of 10min intavels with zero pickups:  47\n",
      "------------------------------------------------------------\n",
      "for the  13 th cluster number of 10min intavels with zero pickups:  43\n",
      "------------------------------------------------------------\n",
      "for the  14 th cluster number of 10min intavels with zero pickups:  42\n",
      "------------------------------------------------------------\n",
      "for the  15 th cluster number of 10min intavels with zero pickups:  50\n",
      "------------------------------------------------------------\n",
      "for the  16 th cluster number of 10min intavels with zero pickups:  868\n",
      "------------------------------------------------------------\n",
      "for the  17 th cluster number of 10min intavels with zero pickups:  42\n",
      "------------------------------------------------------------\n",
      "for the  18 th cluster number of 10min intavels with zero pickups:  262\n",
      "------------------------------------------------------------\n",
      "for the  19 th cluster number of 10min intavels with zero pickups:  38\n",
      "------------------------------------------------------------\n",
      "for the  20 th cluster number of 10min intavels with zero pickups:  36\n",
      "------------------------------------------------------------\n",
      "for the  21 th cluster number of 10min intavels with zero pickups:  32\n",
      "------------------------------------------------------------\n",
      "for the  22 th cluster number of 10min intavels with zero pickups:  36\n",
      "------------------------------------------------------------\n",
      "for the  23 th cluster number of 10min intavels with zero pickups:  44\n",
      "------------------------------------------------------------\n",
      "for the  24 th cluster number of 10min intavels with zero pickups:  680\n",
      "------------------------------------------------------------\n",
      "for the  25 th cluster number of 10min intavels with zero pickups:  43\n",
      "------------------------------------------------------------\n",
      "for the  26 th cluster number of 10min intavels with zero pickups:  592\n",
      "------------------------------------------------------------\n",
      "for the  27 th cluster number of 10min intavels with zero pickups:  47\n",
      "------------------------------------------------------------\n",
      "for the  28 th cluster number of 10min intavels with zero pickups:  43\n",
      "------------------------------------------------------------\n",
      "for the  29 th cluster number of 10min intavels with zero pickups:  38\n",
      "------------------------------------------------------------\n",
      "for the  30 th cluster number of 10min intavels with zero pickups:  202\n",
      "------------------------------------------------------------\n",
      "for the  31 th cluster number of 10min intavels with zero pickups:  38\n",
      "------------------------------------------------------------\n",
      "for the  32 th cluster number of 10min intavels with zero pickups:  44\n",
      "------------------------------------------------------------\n",
      "for the  33 th cluster number of 10min intavels with zero pickups:  43\n",
      "------------------------------------------------------------\n",
      "for the  34 th cluster number of 10min intavels with zero pickups:  93\n",
      "------------------------------------------------------------\n",
      "for the  35 th cluster number of 10min intavels with zero pickups:  29\n",
      "------------------------------------------------------------\n",
      "for the  36 th cluster number of 10min intavels with zero pickups:  3198\n",
      "------------------------------------------------------------\n",
      "for the  37 th cluster number of 10min intavels with zero pickups:  678\n",
      "------------------------------------------------------------\n",
      "for the  38 th cluster number of 10min intavels with zero pickups:  37\n",
      "------------------------------------------------------------\n",
      "for the  39 th cluster number of 10min intavels with zero pickups:  888\n",
      "------------------------------------------------------------\n",
      "for the  40 th cluster number of 10min intavels with zero pickups:  1563\n",
      "------------------------------------------------------------\n",
      "for the  41 th cluster number of 10min intavels with zero pickups:  42\n",
      "------------------------------------------------------------\n",
      "for the  42 th cluster number of 10min intavels with zero pickups:  37\n",
      "------------------------------------------------------------\n",
      "for the  43 th cluster number of 10min intavels with zero pickups:  48\n",
      "------------------------------------------------------------\n",
      "for the  44 th cluster number of 10min intavels with zero pickups:  56\n",
      "------------------------------------------------------------\n",
      "for the  45 th cluster number of 10min intavels with zero pickups:  44\n",
      "------------------------------------------------------------\n",
      "for the  46 th cluster number of 10min intavels with zero pickups:  1471\n",
      "------------------------------------------------------------\n",
      "for the  47 th cluster number of 10min intavels with zero pickups:  177\n",
      "------------------------------------------------------------\n",
      "for the  48 th cluster number of 10min intavels with zero pickups:  36\n",
      "------------------------------------------------------------\n",
      "for the  49 th cluster number of 10min intavels with zero pickups:  1494\n",
      "------------------------------------------------------------\n"
     ]
    }
   ],
   "source": [
    "# for each cluster number of 10min intravels with 0 pickups\n",
    "for i in range(50):\n",
    "    print(\"for the \",i,\"th cluster number of 10min intavels with zero pickups: \",4464 - len(set(jan_2015_unique[i])))\n",
    "    print('-'*60)"
   ]
  },
  {
   "cell_type": "markdown",
   "metadata": {
    "colab_type": "text",
    "id": "-Ocy5bDipYUj"
   },
   "source": [
    "there are two ways to fill up these values\n",
    "<ul>\n",
    "<li> Fill the missing value with 0's</li>\n",
    "<li> Fill the missing values with the avg values\n",
    "<ul>\n",
    "<li> Case 1:(values missing at the start)  <br>Ex1: \\_ \\_ \\_ x =>ceil(x/4), ceil(x/4), ceil(x/4), ceil(x/4) <br> Ex2: \\_ \\_ x => ceil(x/3), ceil(x/3), ceil(x/3) </li>\n",
    "<li> Case 2:(values missing in middle) <br>Ex1: x \\_ \\_ y => ceil((x+y)/4), ceil((x+y)/4), ceil((x+y)/4), ceil((x+y)/4) <br> Ex2: x \\_ \\_ \\_ y => ceil((x+y)/5), ceil((x+y)/5), ceil((x+y)/5), ceil((x+y)/5), ceil((x+y)/5) </li>\n",
    "<li> Case 3:(values missing at the end)  <br>Ex1: x \\_ \\_ \\_  => ceil(x/4), ceil(x/4), ceil(x/4), ceil(x/4) <br> Ex2: x \\_  => ceil(x/2), ceil(x/2) </li>\n",
    "</ul>\n",
    "</li>\n",
    "</ul>"
   ]
  },
  {
   "cell_type": "code",
   "execution_count": 54,
   "metadata": {
    "colab": {},
    "colab_type": "code",
    "id": "B84diUuKpYUj"
   },
   "outputs": [],
   "source": [
    "# Fills a value of zero for every bin where no pickup data is present \n",
    "# the count_values: number pickps that are happened in each region for each 10min intravel\n",
    "# there wont be any value if there are no picksups.\n",
    "# values: number of unique bins\n",
    "\n",
    "# for every 10min intravel(pickup_bin) we will check it is there in our unique bin,\n",
    "# if it is there we will add the count_values[index] to smoothed data\n",
    "# if not we add 0 to the smoothed data\n",
    "# we finally return smoothed data\n",
    "def fill_missing(count_values,values):\n",
    "    smoothed_regions=[]\n",
    "    ind=0\n",
    "    for r in range(0,50):\n",
    "        smoothed_bins=[]\n",
    "        for i in range(4464):\n",
    "            if i in values[r]:\n",
    "                smoothed_bins.append(count_values[ind])\n",
    "                ind+=1\n",
    "            else:\n",
    "                smoothed_bins.append(0)\n",
    "        smoothed_regions.extend(smoothed_bins)\n",
    "    return smoothed_regions"
   ]
  },
  {
   "cell_type": "code",
   "execution_count": 55,
   "metadata": {
    "colab": {},
    "colab_type": "code",
    "id": "qtwtQnhQpYUl"
   },
   "outputs": [],
   "source": [
    "# Fills a value of zero for every bin where no pickup data is present \n",
    "# the count_values: number pickps that are happened in each region for each 10min intravel\n",
    "# there wont be any value if there are no picksups.\n",
    "# values: number of unique bins\n",
    "\n",
    "# for every 10min intravel(pickup_bin) we will check it is there in our unique bin,\n",
    "# if it is there we will add the count_values[index] to smoothed data\n",
    "# if not we add smoothed data (which is calculated based on the methods that are discussed in the above markdown cell)\n",
    "# we finally return smoothed data\n",
    "def smoothing(count_values,values):\n",
    "    smoothed_regions=[] # stores list of final smoothed values of each reigion\n",
    "    ind=0\n",
    "    repeat=0 \n",
    "    smoothed_value=0\n",
    "    for r in range(0,50):\n",
    "        smoothed_bins=[] #stores the final smoothed values\n",
    "        repeat=0\n",
    "        for i in range(4464):\n",
    "            if repeat!=0: # prevents iteration for a value which is already visited/resolved\n",
    "                repeat-=1\n",
    "                continue\n",
    "            if i in values[r]: #checks if the pickup-bin exists \n",
    "                smoothed_bins.append(count_values[ind]) # appends the value of the pickup bin if it exists\n",
    "            else:\n",
    "                if i!=0:\n",
    "                    right_hand_limit=0\n",
    "                    for j in range(i,4464):\n",
    "                        if  j not in values[r]: #searches for the left-limit or the pickup-bin value which has a pickup value\n",
    "                            continue\n",
    "                        else:\n",
    "                            right_hand_limit=j\n",
    "                            break\n",
    "                    if right_hand_limit==0:\n",
    "                    #Case 1: When we have the last/last few values are found to be missing,hence we have no right-limit here\n",
    "                        smoothed_value=count_values[ind-1]*1.0/((4463-i)+2)*1.0                               \n",
    "                        for j in range(i,4464):                              \n",
    "                            smoothed_bins.append(math.ceil(smoothed_value))\n",
    "                        smoothed_bins[i-1] = math.ceil(smoothed_value)\n",
    "                        repeat=(4463-i)\n",
    "                        ind-=1\n",
    "                    else:\n",
    "                    #Case 2: When we have the missing values between two known values\n",
    "                        smoothed_value=(count_values[ind-1]+count_values[ind])*1.0/((right_hand_limit-i)+2)*1.0             \n",
    "                        for j in range(i,right_hand_limit+1):\n",
    "                            smoothed_bins.append(math.ceil(smoothed_value))\n",
    "                        smoothed_bins[i-1] = math.ceil(smoothed_value)\n",
    "                        repeat=(right_hand_limit-i)\n",
    "                else:\n",
    "                    #Case 3: When we have the first/first few values are found to be missing,hence we have no left-limit here\n",
    "                    right_hand_limit=0\n",
    "                    for j in range(i,4464):\n",
    "                        if  j not in values[r]:\n",
    "                            continue\n",
    "                        else:\n",
    "                            right_hand_limit=j\n",
    "                            break\n",
    "                    smoothed_value=count_values[ind]*1.0/((right_hand_limit-i)+1)*1.0\n",
    "                    for j in range(i,right_hand_limit+1):\n",
    "                            smoothed_bins.append(math.ceil(smoothed_value))\n",
    "                    repeat=(right_hand_limit-i)\n",
    "            ind+=1\n",
    "        smoothed_regions.extend(smoothed_bins)\n",
    "    return smoothed_regions\n"
   ]
  },
  {
   "cell_type": "code",
   "execution_count": 56,
   "metadata": {
    "colab": {},
    "colab_type": "code",
    "id": "cGn9mQ-UpYUn"
   },
   "outputs": [],
   "source": [
    "#Filling Missing values of Jan-2015 with 0\n",
    "# here in jan_2015_groupby dataframe the trip_distance represents the number of pickups that are happened\n",
    "jan_2015_fill = fill_missing(jan_2015_groupby['trip_distance'].values,jan_2015_unique)\n",
    "\n",
    "#Smoothing Missing values of Jan-2015\n",
    "jan_2015_smooth = smoothing(jan_2015_groupby['trip_distance'].values,jan_2015_unique)"
   ]
  },
  {
   "cell_type": "code",
   "execution_count": 57,
   "metadata": {
    "colab": {},
    "colab_type": "code",
    "id": "gh1VGbXUpYUp",
    "outputId": "825770f3-c6a3-428e-c5a6-8531d06cab7f"
   },
   "outputs": [
    {
     "name": "stdout",
     "output_type": "stream",
     "text": [
      "number of 10min intravels among all the clusters  223200\n"
     ]
    }
   ],
   "source": [
    "# number of 10min indices for jan 2015= 24*31*60/10 = 4464\n",
    "# number of 10min indices for jan 2016 = 24*31*60/10 = 4464\n",
    "# number of 10min indices for feb 2016 = 24*29*60/10 = 4176\n",
    "# number of 10min indices for march 2016 = 24*30*60/10 = 4320\n",
    "# for each cluster we will have 4464 values, therefore 40*4464 = 178560 (length of the jan_2015_fill)\n",
    "print(\"number of 10min intravels among all the clusters \",len(jan_2015_fill))"
   ]
  },
  {
   "cell_type": "code",
   "execution_count": 58,
   "metadata": {
    "colab": {},
    "colab_type": "code",
    "id": "QrJ2Maw_pYUr",
    "outputId": "270ad648-f3fd-441f-b29e-8b4d774a4c5b",
    "scrolled": false
   },
   "outputs": [],
   "source": [
    "# Smoothing vs Filling\n",
    "# sample plot that shows two variations of filling missing values\n",
    "# we have taken the number of pickups for cluster region 2\n",
    "plt.figure(figsize=(10,5))\n",
    "plt.plot(jan_2015_fill[4464:8920], label=\"zero filled values\")\n",
    "plt.plot(jan_2015_smooth[4464:8920], label=\"filled with avg values\")\n",
    "plt.legend()\n",
    "plt.show()"
   ]
  },
  {
   "cell_type": "code",
   "execution_count": null,
   "metadata": {
    "colab": {},
    "colab_type": "code",
    "id": "juSevxU_pYUu"
   },
   "outputs": [],
   "source": [
    "# why we choose, these methods and which method is used for which data?\n",
    "\n",
    "# Ans: consider we have data of some month in 2015 jan 1st, 10 _ _ _ 20, i.e there are 10 pickups that are happened in 1st \n",
    "# 10st 10min intravel, 0 pickups happened in 2nd 10mins intravel, 0 pickups happened in 3rd 10min intravel \n",
    "# and 20 pickups happened in 4th 10min intravel.\n",
    "# in fill_missing method we replace these values like 10, 0, 0, 20\n",
    "# where as in smoothing method we replace these values as 6,6,6,6,6, if you can check the number of pickups \n",
    "# that are happened in the first 40min are same in both cases, but if you can observe that we looking at the future values \n",
    "# wheen you are using smoothing we are looking at the future number of pickups which might cause a data leakage.\n",
    "\n",
    "# so we use smoothing for jan 2015th data since it acts as our training data\n",
    "# and we use simple fill_misssing method for 2016th data."
   ]
  },
  {
   "cell_type": "code",
   "execution_count": 59,
   "metadata": {
    "colab": {},
    "colab_type": "code",
    "id": "EHGsXfb0pYUz"
   },
   "outputs": [
    {
     "name": "stdout",
     "output_type": "stream",
     "text": [
      "50\n",
      "13104\n"
     ]
    }
   ],
   "source": [
    "# Jan-2015 data is smoothed, Jan,Feb & March 2016 data missing values are filled with zero\n",
    "jan_2015_smooth = smoothing(jan_2015_groupby['trip_distance'].values,jan_2015_unique)\n",
    "jan_2016_smooth = fill_missing(jan_2016_groupby['trip_distance'].values,jan_2016_unique)\n",
    "feb_2016_smooth = fill_missing(feb_2016_groupby['trip_distance'].values,feb_2016_unique)\n",
    "mar_2016_smooth = fill_missing(mar_2016_groupby['trip_distance'].values,mar_2016_unique)\n",
    "\n",
    "# Making list of all the values of pickup data in every bin for a period of 3 months and storing them region-wise \n",
    "regions_cum = []\n",
    "\n",
    "# a =[1,2,3]\n",
    "# b = [2,3,4]\n",
    "# a+b = [1, 2, 3, 2, 3, 4]\n",
    "\n",
    "# number of 10min indices for jan 2015= 24*31*60/10 = 4464\n",
    "# number of 10min indices for jan 2016 = 24*31*60/10 = 4464\n",
    "# number of 10min indices for feb 2016 = 24*29*60/10 = 4176\n",
    "# number of 10min indices for march 2016 = 24*31*60/10 = 4464\n",
    "# regions_cum: it will contain 40 lists, each list will contain 4464+4176+4464 values which represents the number of pickups \n",
    "# that are happened for three months in 2016 data\n",
    "\n",
    "for i in range(0,50):\n",
    "    regions_cum.append(jan_2016_smooth[4464*i:4464*(i+1)]+feb_2016_smooth[4176*i:4176*(i+1)]+mar_2016_smooth[4464*i:4464*(i+1)])\n",
    "\n",
    "print(len(regions_cum))\n",
    "# 40\n",
    "print(len(regions_cum[0]))\n",
    "# 13104"
   ]
  },
  {
   "cell_type": "code",
   "execution_count": 60,
   "metadata": {},
   "outputs": [
    {
     "name": "stdout",
     "output_type": "stream",
     "text": [
      "region 0  with length: 13104\n",
      "region 1  with length: 13104\n",
      "region 2  with length: 13104\n",
      "region 3  with length: 13104\n",
      "region 4  with length: 13104\n",
      "region 5  with length: 13104\n",
      "region 6  with length: 13104\n",
      "region 7  with length: 13104\n",
      "region 8  with length: 13104\n",
      "region 9  with length: 13104\n",
      "region 10  with length: 13104\n",
      "region 11  with length: 13104\n",
      "region 12  with length: 13104\n",
      "region 13  with length: 13104\n",
      "region 14  with length: 13104\n",
      "region 15  with length: 13104\n",
      "region 16  with length: 13104\n",
      "region 17  with length: 13104\n",
      "region 18  with length: 13104\n",
      "region 19  with length: 13104\n",
      "region 20  with length: 13104\n",
      "region 21  with length: 13104\n",
      "region 22  with length: 13104\n",
      "region 23  with length: 13104\n",
      "region 24  with length: 13104\n",
      "region 25  with length: 13104\n",
      "region 26  with length: 13104\n",
      "region 27  with length: 13104\n",
      "region 28  with length: 13104\n",
      "region 29  with length: 13104\n",
      "region 30  with length: 13104\n",
      "region 31  with length: 13104\n",
      "region 32  with length: 13104\n",
      "region 33  with length: 13104\n",
      "region 34  with length: 13104\n",
      "region 35  with length: 13104\n",
      "region 36  with length: 13104\n",
      "region 37  with length: 13104\n",
      "region 38  with length: 13104\n",
      "region 39  with length: 13104\n",
      "region 40  with length: 13104\n",
      "region 41  with length: 13104\n",
      "region 42  with length: 13104\n",
      "region 43  with length: 13104\n",
      "region 44  with length: 13104\n",
      "region 45  with length: 13104\n",
      "region 46  with length: 13104\n",
      "region 47  with length: 13104\n",
      "region 48  with length: 13104\n",
      "region 49  with length: 13104\n"
     ]
    }
   ],
   "source": [
    "for i in range(0, 50):\n",
    "    print(\"region\", i,\" with length:\", len(regions_cum[i]))"
   ]
  },
  {
   "cell_type": "markdown",
   "metadata": {
    "colab_type": "text",
    "id": "XnipIdfYpYU0"
   },
   "source": [
    "## Time series and Fourier Transforms"
   ]
  },
  {
   "cell_type": "code",
   "execution_count": 61,
   "metadata": {},
   "outputs": [
    {
     "name": "stdout",
     "output_type": "stream",
     "text": [
      "4464\n",
      "13104\n"
     ]
    }
   ],
   "source": [
    "print(len(list(range(0,4464))))\n",
    "print(len(regions_cum[40]))"
   ]
  },
  {
   "cell_type": "code",
   "execution_count": null,
   "metadata": {},
   "outputs": [],
   "source": []
  },
  {
   "cell_type": "code",
   "execution_count": 62,
   "metadata": {
    "colab": {},
    "colab_type": "code",
    "id": "ud1K-HcZpYU2",
    "outputId": "506387e6-b606-4c9d-f956-f5691301db45"
   },
   "outputs": [
    {
     "name": "stdout",
     "output_type": "stream",
     "text": [
      "region no: 0\n",
      "region no: 1\n",
      "region no: 2\n",
      "region no: 3\n",
      "region no: 4\n",
      "region no: 5\n",
      "region no: 6\n",
      "region no: 7\n",
      "region no: 8\n",
      "region no: 9\n",
      "region no: 10\n",
      "region no: 11\n",
      "region no: 12\n",
      "region no: 13\n",
      "region no: 14\n",
      "region no: 15\n",
      "region no: 16\n",
      "region no: 17\n",
      "region no: 18\n",
      "region no: 19\n",
      "region no: 20\n",
      "region no: 21\n",
      "region no: 22\n",
      "region no: 23\n",
      "region no: 24\n",
      "region no: 25\n",
      "region no: 26\n",
      "region no: 27\n",
      "region no: 28\n",
      "region no: 29\n",
      "region no: 30\n",
      "region no: 31\n",
      "region no: 32\n",
      "region no: 33\n",
      "region no: 34\n",
      "region no: 35\n",
      "region no: 36\n",
      "region no: 37\n",
      "region no: 38\n",
      "region no: 39\n",
      "region no: 40\n",
      "region no: 41\n",
      "region no: 42\n",
      "region no: 43\n",
      "region no: 44\n",
      "region no: 45\n",
      "region no: 46\n",
      "region no: 47\n",
      "region no: 48\n",
      "region no: 49\n"
     ]
    }
   ],
   "source": [
    "def uniqueish_color():\n",
    "    \"\"\"There're better ways to generate unique colors, but this isn't awful.\"\"\"\n",
    "    return plt.cm.gist_ncar(np.random.random())\n",
    "first_x = list(range(0,4464))\n",
    "second_x = list(range(4464,8640))\n",
    "third_x = list(range(8640,13104))\n",
    "for i in range(50):\n",
    "    print(\"region no:\", i)\n",
    "    plt.figure(figsize=(10,4))\n",
    "    plt.plot(first_x,regions_cum[i][:4464], color=uniqueish_color(), label='2016 Jan month data')\n",
    "    plt.plot(second_x,regions_cum[i][4464:8640], color=uniqueish_color(), label='2016 feb month data')\n",
    "    plt.plot(third_x,regions_cum[i][8640:], color=uniqueish_color(), label='2016 march month data')\n",
    "    plt.legend()\n",
    "    plt.show()"
   ]
  },
  {
   "cell_type": "code",
   "execution_count": 64,
   "metadata": {
    "colab": {},
    "colab_type": "code",
    "id": "76vu5IXCpYU8",
    "outputId": "ada73f2d-ff31-4d62-f6d9-ef79d41db650"
   },
   "outputs": [],
   "source": [
    "# getting peaks: https://blog.ytotech.com/2015/11/01/findpeaks-in-python/\n",
    "# read more about fft function : https://docs.scipy.org/doc/numpy/reference/generated/numpy.fft.fft.html\n",
    "Y    = np.fft.fft(np.array(jan_2016_smooth)[0:4460])\n",
    "# read more about the fftfreq: https://docs.scipy.org/doc/numpy/reference/generated/numpy.fft.fftfreq.html  \n",
    "freq = np.fft.fftfreq(4460, 1)\n",
    "n = len(freq)\n",
    "plt.figure()\n",
    "plt.plot( freq[:int(n/2)], np.abs(Y)[:int(n/2)] )\n",
    "plt.xlabel(\"Frequency\")\n",
    "plt.ylabel(\"Amplitude\")\n",
    "plt.show()"
   ]
  },
  {
   "cell_type": "code",
   "execution_count": 65,
   "metadata": {},
   "outputs": [
    {
     "data": {
      "text/plain": [
       "0"
      ]
     },
     "execution_count": 65,
     "metadata": {},
     "output_type": "execute_result"
    }
   ],
   "source": [
    "jan_2016_smooth[1]"
   ]
  },
  {
   "cell_type": "code",
   "execution_count": 66,
   "metadata": {
    "colab": {},
    "colab_type": "code",
    "id": "J9iVFeu0pYU-"
   },
   "outputs": [],
   "source": [
    "#Preparing the Dataframe only with x(i) values as jan-2015 data and y(i) values as jan-2016\n",
    "ratios_jan = pd.DataFrame()\n",
    "ratios_jan['Given']=jan_2015_smooth\n",
    "ratios_jan['Prediction']=jan_2016_smooth\n",
    "ratios_jan['Ratios']=ratios_jan['Prediction']*1.0/ratios_jan['Given']*1.0"
   ]
  },
  {
   "cell_type": "markdown",
   "metadata": {
    "colab_type": "text",
    "id": "e7hsq8chpYU_"
   },
   "source": [
    "## Modelling: Baseline Models\n",
    "\n",
    "Now we get into modelling in order to forecast the pickup densities for the months of Jan, Feb and March of 2016 for which we are using multiple models with two variations \n",
    "1. Using Ratios of the 2016 data to the 2015 data i.e $\\begin{align} R_{t} = P^{2016}_{t} / P^{2015}_{t} \\end{align}$\n",
    "2. Using Previous known values of the 2016 data itself to predict the future values"
   ]
  },
  {
   "cell_type": "markdown",
   "metadata": {
    "colab_type": "text",
    "id": "NomEUpKJpYVA"
   },
   "source": [
    "### Simple Moving Averages\n",
    "The First Model used is the Moving Averages Model which uses the previous n values in order to predict the next value <br> "
   ]
  },
  {
   "cell_type": "markdown",
   "metadata": {
    "colab_type": "text",
    "id": "KiXJynDKpYVB"
   },
   "source": [
    "Using Ratio Values - $\\begin{align}R_{t} = ( R_{t-1} + R_{t-2} + R_{t-3} .... R_{t-n} )/n \\end{align}$"
   ]
  },
  {
   "cell_type": "code",
   "execution_count": 67,
   "metadata": {
    "colab": {},
    "colab_type": "code",
    "id": "5fvHpsEbpYVB"
   },
   "outputs": [],
   "source": [
    "def MA_R_Predictions(ratios,month):\n",
    "    predicted_ratio=(ratios['Ratios'].values)[0]\n",
    "    error=[]\n",
    "    predicted_values=[]\n",
    "    window_size=3\n",
    "    predicted_ratio_values=[]\n",
    "    for i in range(0,4464*50):\n",
    "        if i%4464==0:\n",
    "            predicted_ratio_values.append(0)\n",
    "            predicted_values.append(0)\n",
    "            error.append(0)\n",
    "            continue\n",
    "        predicted_ratio_values.append(predicted_ratio)\n",
    "        predicted_values.append(int(((ratios['Given'].values)[i])*predicted_ratio))\n",
    "        error.append(abs((math.pow(int(((ratios['Given'].values)[i])*predicted_ratio)-(ratios['Prediction'].values)[i],1))))\n",
    "        if i+1>=window_size:\n",
    "            predicted_ratio=sum((ratios['Ratios'].values)[(i+1)-window_size:(i+1)])/window_size\n",
    "        else:\n",
    "            predicted_ratio=sum((ratios['Ratios'].values)[0:(i+1)])/(i+1)\n",
    "            \n",
    "    \n",
    "    ratios['MA_R_Predicted'] = predicted_values\n",
    "    ratios['MA_R_Error'] = error\n",
    "    mape_err = (sum(error)/len(error))/(sum(ratios['Prediction'].values)/len(ratios['Prediction'].values))\n",
    "    mse_err = sum([e**2 for e in error])/len(error)\n",
    "    return ratios,mape_err,mse_err"
   ]
  },
  {
   "cell_type": "markdown",
   "metadata": {
    "colab_type": "text",
    "id": "B761jWmJpYVH"
   },
   "source": [
    "For the above the Hyperparameter is the window-size (n) which is tuned manually and it is found that the window-size of 3 is optimal for getting the best results using Moving Averages using previous Ratio values therefore we get $\\begin{align}R_{t} = ( R_{t-1} + R_{t-2} + R_{t-3})/3 \\end{align}$"
   ]
  },
  {
   "cell_type": "markdown",
   "metadata": {
    "colab_type": "text",
    "id": "uDl5QIpwpYVI"
   },
   "source": [
    "Next we use the Moving averages of the 2016  values itself to predict the future value using $\\begin{align}P_{t} = ( P_{t-1} + P_{t-2} + P_{t-3} .... P_{t-n} )/n \\end{align}$"
   ]
  },
  {
   "cell_type": "code",
   "execution_count": 68,
   "metadata": {
    "colab": {},
    "colab_type": "code",
    "id": "NsdCFFs_pYVI"
   },
   "outputs": [],
   "source": [
    "def MA_P_Predictions(ratios,month):\n",
    "    predicted_value=(ratios['Prediction'].values)[0]\n",
    "    error=[]\n",
    "    predicted_values=[]\n",
    "    window_size=1\n",
    "    predicted_ratio_values=[]\n",
    "    for i in range(0,4464*50):\n",
    "        predicted_values.append(predicted_value)\n",
    "        error.append(abs((math.pow(predicted_value-(ratios['Prediction'].values)[i],1))))\n",
    "        if i+1>=window_size:\n",
    "            predicted_value=int(sum((ratios['Prediction'].values)[(i+1)-window_size:(i+1)])/window_size)\n",
    "        else:\n",
    "            predicted_value=int(sum((ratios['Prediction'].values)[0:(i+1)])/(i+1))\n",
    "            \n",
    "    ratios['MA_P_Predicted'] = predicted_values\n",
    "    ratios['MA_P_Error'] = error\n",
    "    mape_err = (sum(error)/len(error))/(sum(ratios['Prediction'].values)/len(ratios['Prediction'].values))\n",
    "    mse_err = sum([e**2 for e in error])/len(error)\n",
    "    return ratios,mape_err,mse_err"
   ]
  },
  {
   "cell_type": "markdown",
   "metadata": {
    "colab_type": "text",
    "id": "JXXPFJ4zpYVM"
   },
   "source": [
    "For the above the Hyperparameter is the window-size (n) which is tuned manually and it is found that the window-size of 1 is optimal for getting the best results using Moving Averages using previous 2016 values therefore we get $\\begin{align}P_{t} = P_{t-1} \\end{align}$"
   ]
  },
  {
   "cell_type": "markdown",
   "metadata": {
    "colab_type": "text",
    "id": "YxUx4evtpYVM"
   },
   "source": [
    "### Weighted Moving Averages\n",
    "The Moving Avergaes Model used gave equal importance to all the values in the window used, but we know intuitively that the future is more likely to be similar to the latest values and less similar to the older values. Weighted Averages converts this analogy into a mathematical relationship giving the highest weight while computing the averages to the latest previous value and decreasing weights to the subsequent older ones<br>"
   ]
  },
  {
   "cell_type": "markdown",
   "metadata": {
    "colab_type": "text",
    "id": "FM42drlhpYVM"
   },
   "source": [
    "Weighted Moving Averages using Ratio Values - $\\begin{align}R_{t} = ( N*R_{t-1} + (N-1)*R_{t-2} + (N-2)*R_{t-3} .... 1*R_{t-n} )/(N*(N+1)/2) \\end{align}$"
   ]
  },
  {
   "cell_type": "code",
   "execution_count": null,
   "metadata": {
    "colab": {},
    "colab_type": "code",
    "id": "vXv6SxDWpYVN"
   },
   "outputs": [],
   "source": [
    "def WA_R_Predictions(ratios,month):\n",
    "    predicted_ratio=(ratios['Ratios'].values)[0]\n",
    "    alpha=0.5\n",
    "    error=[]\n",
    "    predicted_values=[]\n",
    "    window_size=5\n",
    "    predicted_ratio_values=[]\n",
    "    for i in range(0,4464*50):\n",
    "        if i%4464==0:\n",
    "            predicted_ratio_values.append(0)\n",
    "            predicted_values.append(0)\n",
    "            error.append(0)\n",
    "            continue\n",
    "        predicted_ratio_values.append(predicted_ratio)\n",
    "        predicted_values.append(int(((ratios['Given'].values)[i])*predicted_ratio))\n",
    "        error.append(abs((math.pow(int(((ratios['Given'].values)[i])*predicted_ratio)-(ratios['Prediction'].values)[i],1))))\n",
    "        if i+1>=window_size:\n",
    "            sum_values=0\n",
    "            sum_of_coeff=0\n",
    "            for j in range(window_size,0,-1):\n",
    "                sum_values += j*(ratios['Ratios'].values)[i-window_size+j]\n",
    "                sum_of_coeff+=j\n",
    "            predicted_ratio=sum_values/sum_of_coeff\n",
    "        else:\n",
    "            sum_values=0\n",
    "            sum_of_coeff=0\n",
    "            for j in range(i+1,0,-1):\n",
    "                sum_values += j*(ratios['Ratios'].values)[j-1]\n",
    "                sum_of_coeff+=j\n",
    "            predicted_ratio=sum_values/sum_of_coeff\n",
    "            \n",
    "    ratios['WA_R_Predicted'] = predicted_values\n",
    "    ratios['WA_R_Error'] = error\n",
    "    mape_err = (sum(error)/len(error))/(sum(ratios['Prediction'].values)/len(ratios['Prediction'].values))\n",
    "    mse_err = sum([e**2 for e in error])/len(error)\n",
    "    return ratios,mape_err,mse_err"
   ]
  },
  {
   "cell_type": "markdown",
   "metadata": {
    "colab_type": "text",
    "id": "zfNtyYV_pYVP"
   },
   "source": [
    "For the above the Hyperparameter is the window-size (n) which is tuned manually and it is found that the window-size of 5 is optimal for getting the best results using Weighted Moving Averages using previous Ratio values therefore we get $\\begin{align} R_{t} = ( 5*R_{t-1} + 4*R_{t-2} + 3*R_{t-3} + 2*R_{t-4} + R_{t-5} )/15 \\end{align}$"
   ]
  },
  {
   "cell_type": "markdown",
   "metadata": {
    "colab_type": "text",
    "id": "uFAt3OVNpYVQ"
   },
   "source": [
    "Weighted Moving Averages using Previous 2016 Values - $\\begin{align}P_{t} = ( N*P_{t-1} + (N-1)*P_{t-2} + (N-2)*P_{t-3} .... 1*P_{t-n} )/(N*(N+1)/2) \\end{align}$"
   ]
  },
  {
   "cell_type": "code",
   "execution_count": null,
   "metadata": {
    "colab": {},
    "colab_type": "code",
    "id": "XTIinxMwpYVR"
   },
   "outputs": [],
   "source": [
    "def WA_P_Predictions(ratios,month):\n",
    "    predicted_value=(ratios['Prediction'].values)[0]\n",
    "    error=[]\n",
    "    predicted_values=[]\n",
    "    window_size=2\n",
    "    for i in range(0,4464*50):\n",
    "        predicted_values.append(predicted_value)\n",
    "        error.append(abs((math.pow(predicted_value-(ratios['Prediction'].values)[i],1))))\n",
    "        if i+1>=window_size:\n",
    "            sum_values=0\n",
    "            sum_of_coeff=0\n",
    "            for j in range(window_size,0,-1):\n",
    "                sum_values += j*(ratios['Prediction'].values)[i-window_size+j]\n",
    "                sum_of_coeff+=j\n",
    "            predicted_value=int(sum_values/sum_of_coeff)\n",
    "\n",
    "        else:\n",
    "            sum_values=0\n",
    "            sum_of_coeff=0\n",
    "            for j in range(i+1,0,-1):\n",
    "                sum_values += j*(ratios['Prediction'].values)[j-1]\n",
    "                sum_of_coeff+=j\n",
    "            predicted_value=int(sum_values/sum_of_coeff)\n",
    "    \n",
    "    ratios['WA_P_Predicted'] = predicted_values\n",
    "    ratios['WA_P_Error'] = error\n",
    "    mape_err = (sum(error)/len(error))/(sum(ratios['Prediction'].values)/len(ratios['Prediction'].values))\n",
    "    mse_err = sum([e**2 for e in error])/len(error)\n",
    "    return ratios,mape_err,mse_err"
   ]
  },
  {
   "cell_type": "markdown",
   "metadata": {
    "colab_type": "text",
    "id": "ZgyD6f_FpYVS"
   },
   "source": [
    "For the above the Hyperparameter is the window-size (n) which is tuned manually and it is found that the window-size of 2 is optimal for getting the best results using Weighted Moving Averages using previous 2016 values therefore we get $\\begin{align} P_{t} = ( 2*P_{t-1} + P_{t-2} )/3 \\end{align}$"
   ]
  },
  {
   "cell_type": "markdown",
   "metadata": {
    "colab_type": "text",
    "id": "B3ySZxBwpYVT"
   },
   "source": [
    "### Exponential  Weighted Moving Averages\n",
    " https://en.wikipedia.org/wiki/Moving_average#Exponential_moving_average\n",
    "Through weighted averaged we have satisfied the analogy of giving higher weights to the latest value and decreasing weights to the subsequent ones but we still do not know which is the correct weighting scheme as there are infinetly many possibilities in which we can assign weights in a non-increasing order and tune the the hyperparameter window-size. To simplify this process we use Exponential Moving Averages which is a more logical way towards assigning weights and at the same time also using an optimal window-size.\n",
    "\n",
    "In exponential moving averages we use a single hyperparameter alpha $\\begin{align}(\\alpha)\\end{align}$ which is a value between 0 & 1 and based on the value of the hyperparameter alpha the weights and the window sizes are configured.<br>\n",
    "For eg. If $\\begin{align}\\alpha=0.9\\end{align}$ then the number of days on which the value of the current iteration is based is~$\\begin{align}1/(1-\\alpha)=10\\end{align}$ i.e. we consider values 10 days prior before we predict the value for the current iteration. Also the weights are assigned using $\\begin{align}2/(N+1)=0.18\\end{align}$ ,where N = number of prior values being considered, hence from this it is implied that the first or latest value is assigned a weight of 0.18 which keeps exponentially decreasing for the subsequent values."
   ]
  },
  {
   "cell_type": "markdown",
   "metadata": {
    "colab_type": "text",
    "id": "pYi3_WazpYVT"
   },
   "source": [
    "$\\begin{align}R^{'}_{t} = \\alpha*R_{t-1} + (1-\\alpha)*R^{'}_{t-1}  \\end{align}$"
   ]
  },
  {
   "cell_type": "code",
   "execution_count": null,
   "metadata": {
    "colab": {},
    "colab_type": "code",
    "id": "WxEbvtmNpYVU"
   },
   "outputs": [],
   "source": [
    "def EA_R1_Predictions(ratios,month):\n",
    "    predicted_ratio=(ratios['Ratios'].values)[0]\n",
    "    alpha=0.6\n",
    "    error=[]\n",
    "    predicted_values=[]\n",
    "    predicted_ratio_values=[]\n",
    "    for i in range(0,4464*50):\n",
    "        if i%4464==0:\n",
    "            predicted_ratio_values.append(0)\n",
    "            predicted_values.append(0)\n",
    "            error.append(0)\n",
    "            continue\n",
    "        predicted_ratio_values.append(predicted_ratio)\n",
    "        predicted_values.append(int(((ratios['Given'].values)[i])*predicted_ratio))\n",
    "        error.append(abs((math.pow(int(((ratios['Given'].values)[i])*predicted_ratio)-(ratios['Prediction'].values)[i],1))))\n",
    "        predicted_ratio = (alpha*predicted_ratio) + (1-alpha)*((ratios['Ratios'].values)[i])\n",
    "    \n",
    "    ratios['EA_R1_Predicted'] = predicted_values\n",
    "    ratios['EA_R1_Error'] = error\n",
    "    mape_err = (sum(error)/len(error))/(sum(ratios['Prediction'].values)/len(ratios['Prediction'].values))\n",
    "    mse_err = sum([e**2 for e in error])/len(error)\n",
    "    return ratios,mape_err,mse_err"
   ]
  },
  {
   "cell_type": "markdown",
   "metadata": {
    "colab_type": "text",
    "id": "9Gy0JcqypYVV"
   },
   "source": [
    "$\\begin{align}P^{'}_{t} = \\alpha*P_{t-1} + (1-\\alpha)*P^{'}_{t-1}  \\end{align}$"
   ]
  },
  {
   "cell_type": "code",
   "execution_count": null,
   "metadata": {
    "colab": {},
    "colab_type": "code",
    "id": "VMXz3FqwpYVV"
   },
   "outputs": [],
   "source": [
    "def EA_P1_Predictions(ratios,month):\n",
    "    predicted_value= (ratios['Prediction'].values)[0]\n",
    "    alpha=0.3\n",
    "    error=[]\n",
    "    predicted_values=[]\n",
    "    for i in range(0,4464*50):\n",
    "        if i%4464==0:\n",
    "            predicted_values.append(0)\n",
    "            error.append(0)\n",
    "            continue\n",
    "        predicted_values.append(predicted_value)\n",
    "        error.append(abs((math.pow(predicted_value-(ratios['Prediction'].values)[i],1))))\n",
    "        predicted_value =int((alpha*predicted_value) + (1-alpha)*((ratios['Prediction'].values)[i]))\n",
    "    ratios['EA_P1_Predicted'] = predicted_values\n",
    "    ratios['EA_P1_Error'] = error\n",
    "    mape_err = (sum(error)/len(error))/(sum(ratios['Prediction'].values)/len(ratios['Prediction'].values))\n",
    "    mse_err = sum([e**2 for e in error])/len(error)\n",
    "    return ratios,mape_err,mse_err"
   ]
  },
  {
   "cell_type": "code",
   "execution_count": 71,
   "metadata": {
    "colab": {},
    "colab_type": "code",
    "id": "1X11ZE7epYVW"
   },
   "outputs": [],
   "source": [
    "mean_err=[0]*10\n",
    "median_err=[0]*10\n",
    "ratios_jan,mean_err[0],median_err[0]=MA_R_Predictions(ratios_jan,'jan')\n",
    "ratios_jan,mean_err[1],median_err[1]=MA_P_Predictions(ratios_jan,'jan')\n",
    "ratios_jan,mean_err[2],median_err[2]=WA_R_Predictions(ratios_jan,'jan')\n",
    "ratios_jan,mean_err[3],median_err[3]=WA_P_Predictions(ratios_jan,'jan')\n",
    "ratios_jan,mean_err[4],median_err[4]=EA_R1_Predictions(ratios_jan,'jan')\n",
    "ratios_jan,mean_err[5],median_err[5]=EA_P1_Predictions(ratios_jan,'jan')"
   ]
  },
  {
   "cell_type": "markdown",
   "metadata": {
    "colab_type": "text",
    "id": "F1DYm5pFpYVX"
   },
   "source": [
    "## Comparison between baseline models\n",
    "We have chosen our error metric for comparison between models as <b>MAPE (Mean Absolute Percentage Error)</b> so that we can know that on an average how good is our model with predictions and <b>MSE (Mean Squared Error)</b> is also used so that we have a clearer understanding as to how well our forecasting model performs with outliers so that we make sure that there is not much of a error margin between our prediction and the actual value"
   ]
  },
  {
   "cell_type": "code",
   "execution_count": null,
   "metadata": {
    "colab": {},
    "colab_type": "code",
    "id": "Q2y5V4hppYVX",
    "outputId": "132dc425-bd4d-4ed1-da95-8f6e4f6ee7a5"
   },
   "outputs": [],
   "source": [
    "print (\"Error Metric Matrix (Forecasting Methods) - MAPE & MSE\")\n",
    "print (\"--------------------------------------------------------------------------------------------------------\")\n",
    "print (\"Moving Averages (Ratios) -                             MAPE: \",mean_err[0],\"      MSE: \",median_err[0])\n",
    "print (\"Moving Averages (2016 Values) -                        MAPE: \",mean_err[1],\"       MSE: \",median_err[1])\n",
    "print (\"--------------------------------------------------------------------------------------------------------\")\n",
    "print (\"Weighted Moving Averages (Ratios) -                    MAPE: \",mean_err[2],\"      MSE: \",median_err[2])\n",
    "print (\"Weighted Moving Averages (2016 Values) -               MAPE: \",mean_err[3],\"      MSE: \",median_err[3])\n",
    "print (\"--------------------------------------------------------------------------------------------------------\")\n",
    "print (\"Exponential Moving Averages (Ratios) -              MAPE: \",mean_err[4],\"      MSE: \",median_err[4])\n",
    "print (\"Exponential Moving Averages (2016 Values) -         MAPE: \",mean_err[5],\"      MSE: \",median_err[5])"
   ]
  },
  {
   "cell_type": "markdown",
   "metadata": {
    "colab_type": "text",
    "id": "8SqIWer2pYVa"
   },
   "source": [
    "<b>Plese Note:-</b> The above comparisons are made using Jan 2015 and Jan 2016 only"
   ]
  },
  {
   "cell_type": "markdown",
   "metadata": {
    "colab_type": "text",
    "id": "mioBTOTppYVa"
   },
   "source": [
    "From the above matrix it is inferred that the best forecasting model for our prediction would be:-\n",
    "$\\begin{align}P^{'}_{t} = \\alpha*P_{t-1} + (1-\\alpha)*P^{'}_{t-1}  \\end{align}$ i.e Exponential Moving Averages using 2016 Values"
   ]
  },
  {
   "cell_type": "markdown",
   "metadata": {
    "colab_type": "text",
    "id": "eoV1TT2qpYVa"
   },
   "source": [
    "## Regression Models"
   ]
  },
  {
   "cell_type": "markdown",
   "metadata": {
    "colab_type": "text",
    "id": "eN4agQdupYVb"
   },
   "source": [
    "### Train-Test Split\n",
    "Before we start predictions using the tree based regression models we take 3 months of 2016 pickup data and split it such that for every region we have 70% data in train and 30% in test, ordered date-wise for every region"
   ]
  },
  {
   "cell_type": "code",
   "execution_count": null,
   "metadata": {
    "colab": {},
    "colab_type": "code",
    "id": "wiVsOBxYpYVb",
    "scrolled": true
   },
   "outputs": [],
   "source": [
    "# Preparing data to be split into train and test, The below prepares data in cumulative form which will be later split into test and train\n",
    "# number of 10min indices for jan 2015= 24*31*60/10 = 4464\n",
    "# number of 10min indices for jan 2016 = 24*31*60/10 = 4464\n",
    "# number of 10min indices for feb 2016 = 24*29*60/10 = 4176\n",
    "# number of 10min indices for march 2016 = 24*31*60/10 = 4464\n",
    "# regions_cum: it will contain 40 lists, each list will contain 4464+4176+4464 values which represents the number of pickups \n",
    "# that are happened for three months in 2016 data\n",
    "\n",
    "# print(len(regions_cum))\n",
    "# 40\n",
    "# print(len(regions_cum[0]))\n",
    "# 12960\n",
    "\n",
    "# we take number of pickups that are happened in last 5 10min intravels\n",
    "number_of_time_stamps = 5\n",
    "\n",
    "# output varaible\n",
    "# it is list of lists\n",
    "# it will contain number of pickups 13099 for each cluster\n",
    "output = []\n",
    "\n",
    "\n",
    "# tsne_lat will contain 13104-5=13099 times lattitude of cluster center for every cluster\n",
    "# Ex: [[cent_lat 13099times],[cent_lat 13099times], [cent_lat 13099times].... 40 lists]\n",
    "# it is list of lists\n",
    "tsne_lat = []\n",
    "\n",
    "\n",
    "# tsne_lon will contain 13104-5=13099 times logitude of cluster center for every cluster\n",
    "# Ex: [[cent_long 13099times],[cent_long 13099times], [cent_long 13099times].... 40 lists]\n",
    "# it is list of lists\n",
    "tsne_lon = []\n",
    "\n",
    "# we will code each day \n",
    "# sunday = 0, monday=1, tue = 2, wed=3, thur=4, fri=5,sat=6\n",
    "# for every cluster we will be adding 13099 values, each value represent to which day of the week that pickup bin belongs to\n",
    "# it is list of lists\n",
    "tsne_weekday = []\n",
    "\n",
    "# its an numbpy array, of shape (523960, 5)\n",
    "# each row corresponds to an entry in out data\n",
    "# for the first row we will have [f0,f1,f2,f3,f4] fi=number of pickups happened in i+1th 10min intravel(bin)\n",
    "# the second row will have [f1,f2,f3,f4,f5]\n",
    "# the third row will have [f2,f3,f4,f5,f6]\n",
    "# and so on...\n",
    "tsne_feature = []\n",
    "\n",
    "\n",
    "tsne_feature = [0]*number_of_time_stamps\n",
    "for i in range(0,50):\n",
    "    tsne_lat.append([kmeans.cluster_centers_[i][0]]*13099)\n",
    "    tsne_lon.append([kmeans.cluster_centers_[i][1]]*13099)\n",
    "    # jan 1st 2016 is thursday, so we start our day from 4: \"(int(k/144))%7+4\"\n",
    "    # our prediction start from 5th 10min intravel since we need to have number of pickups that are happened in last 5 pickup bins\n",
    "    tsne_weekday.append([int(((int(k/144))%7+4)%7) for k in range(5,4464+4176+4464)])\n",
    "    # regions_cum is a list of lists [[x1,x2,x3..x13104], [x1,x2,x3..x13104], [x1,x2,x3..x13104], [x1,x2,x3..x13104], [x1,x2,x3..x13104], .. 40 lsits]\n",
    "    tsne_feature = np.vstack((tsne_feature, [regions_cum[i][r:r+number_of_time_stamps] for r in range(0,len(regions_cum[i])-number_of_time_stamps)]))\n",
    "    output.append(regions_cum[i][5:])\n",
    "tsne_feature = tsne_feature[1:]"
   ]
  },
  {
   "cell_type": "code",
   "execution_count": null,
   "metadata": {},
   "outputs": [],
   "source": [
    "len(tsne_feature)"
   ]
  },
  {
   "cell_type": "code",
   "execution_count": null,
   "metadata": {
    "colab": {},
    "colab_type": "code",
    "id": "HMv1rC51pYVc",
    "outputId": "11a6a133-7aba-4377-d852-93b6681852c9"
   },
   "outputs": [],
   "source": [
    "len(tsne_lat[0])*len(tsne_lat) == tsne_feature.shape[0] == len(tsne_weekday)*len(tsne_weekday[0]) == 50*13099 == len(output)*len(output[0])"
   ]
  },
  {
   "cell_type": "code",
   "execution_count": null,
   "metadata": {},
   "outputs": [],
   "source": []
  },
  {
   "cell_type": "code",
   "execution_count": null,
   "metadata": {},
   "outputs": [],
   "source": []
  },
  {
   "cell_type": "code",
   "execution_count": null,
   "metadata": {
    "colab": {},
    "colab_type": "code",
    "id": "ofQ8zCtgpYVe"
   },
   "outputs": [],
   "source": [
    "# Getting the predictions of exponential moving averages to be used as a feature in cumulative form\n",
    "\n",
    "# upto now we computed 8 features for every data point that starts from 50th min of the day\n",
    "# 1. cluster center lattitude\n",
    "# 2. cluster center longitude\n",
    "# 3. day of the week \n",
    "# 4. f_t_1: number of pickups that are happened previous t-1th 10min intravel\n",
    "# 5. f_t_2: number of pickups that are happened previous t-2th 10min intravel\n",
    "# 6. f_t_3: number of pickups that are happened previous t-3th 10min intravel\n",
    "# 7. f_t_4: number of pickups that are happened previous t-4th 10min intravel\n",
    "# 8. f_t_5: number of pickups that are happened previous t-5th 10min intravel\n",
    "\n",
    "# from the baseline models we said the exponential weighted moving avarage gives us the best error\n",
    "# we will try to add the same exponential weighted moving avarage at t as a feature to our data\n",
    "# exponential weighted moving avarage => p'(t) = alpha*p'(t-1) + (1-alpha)*P(t-1) \n",
    "alpha=0.3\n",
    "\n",
    "# it is a temporary array that store exponential weighted moving avarage for each 10min intravel, \n",
    "# for each cluster it will get reset\n",
    "# for every cluster it contains 13104 values\n",
    "predicted_values=[]\n",
    "\n",
    "# it is similar like tsne_lat\n",
    "# it is list of lists\n",
    "# predict_list is a list of lists [[x5,x6,x7..x13104], [x5,x6,x7..x13104], [x5,x6,x7..x13104], [x5,x6,x7..x13104], [x5,x6,x7..x13104], .. 40 lsits]\n",
    "predict_list = []\n",
    "tsne_flat_exp_avg = []\n",
    "for r in range(0,50):\n",
    "    for i in range(0,13104):\n",
    "        if i==0:\n",
    "            predicted_value= regions_cum[r][0]\n",
    "            predicted_values.append(0)\n",
    "            continue\n",
    "        predicted_values.append(predicted_value)\n",
    "        predicted_value =int((alpha*predicted_value) + (1-alpha)*(regions_cum[r][i]))\n",
    "    predict_list.append(predicted_values[5:])\n",
    "    predicted_values=[]"
   ]
  },
  {
   "cell_type": "code",
   "execution_count": null,
   "metadata": {
    "colab": {},
    "colab_type": "code",
    "id": "OvIFa9-PpYVf"
   },
   "outputs": [],
   "source": []
  },
  {
   "cell_type": "code",
   "execution_count": null,
   "metadata": {
    "colab": {},
    "colab_type": "code",
    "id": "31AvW-MApYVf",
    "outputId": "c340d12a-b4d2-4c98-a50d-aa34835318a8"
   },
   "outputs": [],
   "source": [
    "# train, test split : 70% 30% split\n",
    "# Before we start predictions using the tree based regression models we take 3 months of 2016 pickup data \n",
    "# and split it such that for every region we have 70% data in train and 30% in test,\n",
    "# ordered date-wise for every region\n",
    "print(\"size of train data :\", int(13099*0.7))\n",
    "print(\"size of test data :\", int(13099*0.3))"
   ]
  },
  {
   "cell_type": "code",
   "execution_count": null,
   "metadata": {
    "colab": {},
    "colab_type": "code",
    "id": "Ty3ywNTepYVh"
   },
   "outputs": [],
   "source": [
    "# extracting first 9169 timestamp values i.e 70% of 13099 (total timestamps) for our training data\n",
    "train_features =  [tsne_feature[i*13099:(13099*i+9169)] for i in range(0,50)]\n",
    "# temp = [0]*(12955 - 9068)\n",
    "test_features = [tsne_feature[(13099*(i))+9169:13099*(i+1)] for i in range(0,50)]"
   ]
  },
  {
   "cell_type": "code",
   "execution_count": null,
   "metadata": {
    "colab": {},
    "colab_type": "code",
    "id": "9T0p_qhipYVi",
    "outputId": "0175f0a5-d675-4568-ca3a-3535fc267a4b"
   },
   "outputs": [],
   "source": [
    "print(\"Number of data clusters\",len(train_features), \"Number of data points in trian data\", len(train_features[0]), \"Each data point contains\", len(train_features[0][0]),\"features\")\n",
    "print(\"Number of data clusters\",len(train_features), \"Number of data points in test data\", len(test_features[0]), \"Each data point contains\", len(test_features[0][0]),\"features\")"
   ]
  },
  {
   "cell_type": "code",
   "execution_count": null,
   "metadata": {
    "colab": {},
    "colab_type": "code",
    "id": "cUrc4FPepYVk"
   },
   "outputs": [],
   "source": [
    "# extracting first 9169 timestamp values i.e 70% of 13099 (total timestamps) for our training data\n",
    "tsne_train_flat_lat = [i[:9169] for i in tsne_lat]\n",
    "tsne_train_flat_lon = [i[:9169] for i in tsne_lon]\n",
    "tsne_train_flat_weekday = [i[:9169] for i in tsne_weekday]\n",
    "tsne_train_flat_output = [i[:9169] for i in output]\n",
    "tsne_train_flat_exp_avg = [i[:9169] for i in predict_list]"
   ]
  },
  {
   "cell_type": "code",
   "execution_count": null,
   "metadata": {
    "colab": {},
    "colab_type": "code",
    "id": "jJ4h3S58pYVl"
   },
   "outputs": [],
   "source": [
    "# extracting the rest of the timestamp values i.e 30% of 12956 (total timestamps) for our test data\n",
    "tsne_test_flat_lat = [i[9169:] for i in tsne_lat]\n",
    "tsne_test_flat_lon = [i[9169:] for i in tsne_lon]\n",
    "tsne_test_flat_weekday = [i[9169:] for i in tsne_weekday]\n",
    "tsne_test_flat_output = [i[9169:] for i in output]\n",
    "tsne_test_flat_exp_avg = [i[9169:] for i in predict_list]"
   ]
  },
  {
   "cell_type": "code",
   "execution_count": null,
   "metadata": {
    "colab": {},
    "colab_type": "code",
    "id": "A3_aVVZnpYVm"
   },
   "outputs": [],
   "source": [
    "# the above contains values in the form of list of lists (i.e. list of values of each region), here we make all of them in one list\n",
    "train_new_features = []\n",
    "for i in range(0,50):\n",
    "    train_new_features.extend(train_features[i])\n",
    "test_new_features = []\n",
    "for i in range(0,50):\n",
    "    test_new_features.extend(test_features[i])"
   ]
  },
  {
   "cell_type": "code",
   "execution_count": null,
   "metadata": {
    "colab": {},
    "colab_type": "code",
    "id": "CacNoTj8pYVo"
   },
   "outputs": [],
   "source": [
    "# converting lists of lists into sinle list i.e flatten\n",
    "# a  = [[1,2,3,4],[4,6,7,8]]\n",
    "# print(sum(a,[]))\n",
    "# [1, 2, 3, 4, 4, 6, 7, 8]\n",
    "\n",
    "tsne_train_lat = sum(tsne_train_flat_lat, [])\n",
    "tsne_train_lon = sum(tsne_train_flat_lon, [])\n",
    "tsne_train_weekday = sum(tsne_train_flat_weekday, [])\n",
    "tsne_train_output = sum(tsne_train_flat_output, [])\n",
    "tsne_train_exp_avg = sum(tsne_train_flat_exp_avg,[])"
   ]
  },
  {
   "cell_type": "code",
   "execution_count": null,
   "metadata": {
    "colab": {},
    "colab_type": "code",
    "id": "vAHbGnkopYVs"
   },
   "outputs": [],
   "source": [
    "# converting lists of lists into sinle list i.e flatten\n",
    "# a  = [[1,2,3,4],[4,6,7,8]]\n",
    "# print(sum(a,[]))\n",
    "# [1, 2, 3, 4, 4, 6, 7, 8]\n",
    "\n",
    "tsne_test_lat = sum(tsne_test_flat_lat, [])\n",
    "tsne_test_lon = sum(tsne_test_flat_lon, [])\n",
    "tsne_test_weekday = sum(tsne_test_flat_weekday, [])\n",
    "tsne_test_output = sum(tsne_test_flat_output, [])\n",
    "tsne_test_exp_avg = sum(tsne_test_flat_exp_avg,[])"
   ]
  },
  {
   "cell_type": "code",
   "execution_count": null,
   "metadata": {
    "colab": {},
    "colab_type": "code",
    "id": "j5ND-T1apYVt",
    "outputId": "fceeca31-3d06-489e-e31e-2c8ea157bdb9"
   },
   "outputs": [],
   "source": [
    "# Preparing the data frame for our train data\n",
    "columns = ['ft_5','ft_4','ft_3','ft_2','ft_1']\n",
    "df_train = pd.DataFrame(data=train_new_features, columns=columns) \n",
    "df_train['lat'] = tsne_train_lat\n",
    "df_train['lon'] = tsne_train_lon\n",
    "df_train['weekday'] = tsne_train_weekday\n",
    "df_train['exp_avg'] = tsne_train_exp_avg\n",
    "\n",
    "print(df_train.shape)"
   ]
  },
  {
   "cell_type": "code",
   "execution_count": null,
   "metadata": {},
   "outputs": [],
   "source": [
    "df_train.head()"
   ]
  },
  {
   "cell_type": "code",
   "execution_count": null,
   "metadata": {
    "colab": {},
    "colab_type": "code",
    "id": "aa8LZ28GpYVw",
    "outputId": "70804aeb-965f-4a5c-cb23-9e5a97d2b29a"
   },
   "outputs": [],
   "source": [
    "# Preparing the data frame for our test data\n",
    "df_test = pd.DataFrame(data=test_new_features, columns=columns) \n",
    "df_test['lat'] = tsne_test_lat\n",
    "df_test['lon'] = tsne_test_lon\n",
    "df_test['weekday'] = tsne_test_weekday\n",
    "df_test['exp_avg'] = tsne_test_exp_avg\n",
    "print(df_test.shape)"
   ]
  },
  {
   "cell_type": "code",
   "execution_count": null,
   "metadata": {
    "colab": {},
    "colab_type": "code",
    "id": "eQj1LfMnpYVx",
    "outputId": "a369ae64-f86b-4990-ca77-9f650b553423"
   },
   "outputs": [],
   "source": [
    "df_test.head()"
   ]
  },
  {
   "cell_type": "markdown",
   "metadata": {
    "colab_type": "text",
    "id": "rykiaxYlpYVz"
   },
   "source": [
    "### Using Linear Regression"
   ]
  },
  {
   "cell_type": "code",
   "execution_count": null,
   "metadata": {
    "colab": {},
    "colab_type": "code",
    "id": "a4-FX3CdpYV0"
   },
   "outputs": [],
   "source": [
    "# find more about LinearRegression function here http://scikit-learn.org/stable/modules/generated/sklearn.linear_model.LinearRegression.html\n",
    "# -------------------------\n",
    "# default paramters\n",
    "# sklearn.linear_model.LinearRegression(fit_intercept=True, normalize=False, copy_X=True, n_jobs=1)\n",
    "\n",
    "# some of methods of LinearRegression()\n",
    "# fit(X, y[, sample_weight])\tFit linear model.\n",
    "# get_params([deep])\tGet parameters for this estimator.\n",
    "# predict(X)\tPredict using the linear model\n",
    "# score(X, y[, sample_weight])\tReturns the coefficient of determination R^2 of the prediction.\n",
    "# set_params(**params)\tSet the parameters of this estimator.\n",
    "# -----------------------\n",
    "# video link: https://www.appliedaicourse.com/course/applied-ai-course-online/lessons/geometric-intuition-1-2-copy-8/\n",
    "# -----------------------\n",
    "\n",
    "from sklearn.linear_model import LinearRegression\n",
    "lr_reg=LinearRegression().fit(df_train, tsne_train_output)\n",
    "\n",
    "y_pred = lr_reg.predict(df_test)\n",
    "lr_test_predictions = [round(value) for value in y_pred]\n",
    "y_pred = lr_reg.predict(df_train)\n",
    "lr_train_predictions = [round(value) for value in y_pred]"
   ]
  },
  {
   "cell_type": "markdown",
   "metadata": {
    "colab_type": "text",
    "id": "CbdQSLMipYV1"
   },
   "source": [
    "### Using Random Forest Regressor"
   ]
  },
  {
   "cell_type": "code",
   "execution_count": 69,
   "metadata": {
    "colab": {},
    "colab_type": "code",
    "id": "1yH4SyUqpYV1",
    "outputId": "c868401f-5974-4c63-90db-be1ad4ee2207"
   },
   "outputs": [
    {
     "ename": "NameError",
     "evalue": "name 'df_train' is not defined",
     "output_type": "error",
     "traceback": [
      "\u001b[0;31m---------------------------------------------------------------------------\u001b[0m",
      "\u001b[0;31mNameError\u001b[0m                                 Traceback (most recent call last)",
      "\u001b[0;32m<ipython-input-69-bdb14eca6730>\u001b[0m in \u001b[0;36m<module>\u001b[0;34m\u001b[0m\n\u001b[1;32m     20\u001b[0m \u001b[0;34m\u001b[0m\u001b[0m\n\u001b[1;32m     21\u001b[0m \u001b[0mregr1\u001b[0m \u001b[0;34m=\u001b[0m \u001b[0mRandomForestRegressor\u001b[0m\u001b[0;34m(\u001b[0m\u001b[0mmax_features\u001b[0m\u001b[0;34m=\u001b[0m\u001b[0;34m'sqrt'\u001b[0m\u001b[0;34m,\u001b[0m\u001b[0mmin_samples_leaf\u001b[0m\u001b[0;34m=\u001b[0m\u001b[0;36m4\u001b[0m\u001b[0;34m,\u001b[0m\u001b[0mmin_samples_split\u001b[0m\u001b[0;34m=\u001b[0m\u001b[0;36m3\u001b[0m\u001b[0;34m,\u001b[0m\u001b[0mn_estimators\u001b[0m\u001b[0;34m=\u001b[0m\u001b[0;36m40\u001b[0m\u001b[0;34m,\u001b[0m \u001b[0mn_jobs\u001b[0m\u001b[0;34m=\u001b[0m\u001b[0;34m-\u001b[0m\u001b[0;36m1\u001b[0m\u001b[0;34m)\u001b[0m\u001b[0;34m\u001b[0m\u001b[0m\n\u001b[0;32m---> 22\u001b[0;31m \u001b[0mregr1\u001b[0m\u001b[0;34m.\u001b[0m\u001b[0mfit\u001b[0m\u001b[0;34m(\u001b[0m\u001b[0mdf_train\u001b[0m\u001b[0;34m,\u001b[0m \u001b[0mtsne_train_output\u001b[0m\u001b[0;34m)\u001b[0m\u001b[0;34m\u001b[0m\u001b[0m\n\u001b[0m",
      "\u001b[0;31mNameError\u001b[0m: name 'df_train' is not defined"
     ]
    }
   ],
   "source": [
    "# Training a hyper-parameter tuned random forest regressor on our train data\n",
    "# find more about LinearRegression function here http://scikit-learn.org/stable/modules/generated/sklearn.ensemble.RandomForestRegressor.html\n",
    "# -------------------------\n",
    "# default paramters\n",
    "# sklearn.ensemble.RandomForestRegressor(n_estimators=10, criterion=’mse’, max_depth=None, min_samples_split=2, \n",
    "# min_samples_leaf=1, min_weight_fraction_leaf=0.0, max_features=’auto’, max_leaf_nodes=None, min_impurity_decrease=0.0, \n",
    "# min_impurity_split=None, bootstrap=True, oob_score=False, n_jobs=1, random_state=None, verbose=0, warm_start=False)\n",
    "\n",
    "# some of methods of RandomForestRegressor()\n",
    "# apply(X)\tApply trees in the forest to X, return leaf indices.\n",
    "# decision_path(X)\tReturn the decision path in the forest\n",
    "# fit(X, y[, sample_weight])\tBuild a forest of trees from the training set (X, y).\n",
    "# get_params([deep])\tGet parameters for this estimator.\n",
    "# predict(X)\tPredict regression target for X.\n",
    "# score(X, y[, sample_weight])\tReturns the coefficient of determination R^2 of the prediction.\n",
    "# -----------------------\n",
    "# video link1: https://www.appliedaicourse.com/course/applied-ai-course-online/lessons/regression-using-decision-trees-2/\n",
    "# video link2: https://www.appliedaicourse.com/course/applied-ai-course-online/lessons/what-are-ensembles/\n",
    "# -----------------------\n",
    "\n",
    "regr1 = RandomForestRegressor(max_features='sqrt',min_samples_leaf=4,min_samples_split=3,n_estimators=40, n_jobs=-1)\n",
    "regr1.fit(df_train, tsne_train_output)"
   ]
  },
  {
   "cell_type": "code",
   "execution_count": null,
   "metadata": {
    "colab": {},
    "colab_type": "code",
    "id": "CB0zPii6pYV3"
   },
   "outputs": [],
   "source": [
    "# Predicting on test data using our trained random forest model \n",
    "\n",
    "# the models regr1 is already hyper parameter tuned\n",
    "# the parameters that we got above are found using grid search\n",
    "\n",
    "y_pred = regr1.predict(df_test)\n",
    "rndf_test_predictions = [round(value) for value in y_pred]\n",
    "y_pred = regr1.predict(df_train)\n",
    "rndf_train_predictions = [round(value) for value in y_pred]"
   ]
  },
  {
   "cell_type": "code",
   "execution_count": null,
   "metadata": {
    "colab": {},
    "colab_type": "code",
    "id": "iAw-LW-PpYV5",
    "outputId": "c112d47f-6cb6-4be2-f212-469777c8d17e"
   },
   "outputs": [],
   "source": [
    "#feature importances based on analysis using random forest\n",
    "print (df_train.columns)\n",
    "print (regr1.feature_importances_)"
   ]
  },
  {
   "cell_type": "markdown",
   "metadata": {
    "colab_type": "text",
    "id": "4p0IhKaSpYV6"
   },
   "source": [
    "### Using XgBoost Regressor"
   ]
  },
  {
   "cell_type": "code",
   "execution_count": null,
   "metadata": {
    "colab": {},
    "colab_type": "code",
    "id": "nP3gp-0kpYV7",
    "outputId": "f87b350e-7419-4706-eb0e-ff01b298572c"
   },
   "outputs": [],
   "source": [
    "# Training a hyper-parameter tuned Xg-Boost regressor on our train data\n",
    "\n",
    "# find more about XGBRegressor function here http://xgboost.readthedocs.io/en/latest/python/python_api.html?#module-xgboost.sklearn\n",
    "# -------------------------\n",
    "# default paramters\n",
    "# xgboost.XGBRegressor(max_depth=3, learning_rate=0.1, n_estimators=100, silent=True, objective='reg:linear', \n",
    "# booster='gbtree', n_jobs=1, nthread=None, gamma=0, min_child_weight=1, max_delta_step=0, subsample=1, colsample_bytree=1, \n",
    "# colsample_bylevel=1, reg_alpha=0, reg_lambda=1, scale_pos_weight=1, base_score=0.5, random_state=0, seed=None, \n",
    "# missing=None, **kwargs)\n",
    "\n",
    "# some of methods of RandomForestRegressor()\n",
    "# fit(X, y, sample_weight=None, eval_set=None, eval_metric=None, early_stopping_rounds=None, verbose=True, xgb_model=None)\n",
    "# get_params([deep])\tGet parameters for this estimator.\n",
    "# predict(data, output_margin=False, ntree_limit=0) : Predict with data. NOTE: This function is not thread safe.\n",
    "# get_score(importance_type='weight') -> get the feature importance\n",
    "# -----------------------\n",
    "# video link1: https://www.appliedaicourse.com/course/applied-ai-course-online/lessons/regression-using-decision-trees-2/\n",
    "# video link2: https://www.appliedaicourse.com/course/applied-ai-course-online/lessons/what-are-ensembles/\n",
    "# -----------------------\n",
    "\n",
    "x_model = xgb.XGBRegressor(\n",
    " learning_rate =0.1,\n",
    " n_estimators=1000,\n",
    " max_depth=3,\n",
    " min_child_weight=3,\n",
    " gamma=0,\n",
    " subsample=0.8,\n",
    " reg_alpha=200, reg_lambda=200,\n",
    " colsample_bytree=0.8,nthread=4)\n",
    "x_model.fit(df_train, tsne_train_output)"
   ]
  },
  {
   "cell_type": "code",
   "execution_count": null,
   "metadata": {
    "colab": {},
    "colab_type": "code",
    "id": "vTuNZOc6pYV_"
   },
   "outputs": [],
   "source": [
    "#predicting with our trained Xg-Boost regressor\n",
    "# the models x_model is already hyper parameter tuned\n",
    "# the parameters that we got above are found using grid search\n",
    "\n",
    "y_pred = x_model.predict(df_test)\n",
    "xgb_test_predictions = [round(value) for value in y_pred]\n",
    "y_pred = x_model.predict(df_train)\n",
    "xgb_train_predictions = [round(value) for value in y_pred]"
   ]
  },
  {
   "cell_type": "code",
   "execution_count": null,
   "metadata": {},
   "outputs": [],
   "source": [
    "# help(x_model)"
   ]
  },
  {
   "cell_type": "code",
   "execution_count": null,
   "metadata": {
    "colab": {},
    "colab_type": "code",
    "id": "T3U0SLHApYWA",
    "outputId": "bd2a8dec-2724-4047-b073-28b0fd98411d"
   },
   "outputs": [],
   "source": [
    "#feature importances\n",
    "bst = x_model.get_booster()\n",
    "bst.get_score(importance_type='weight')"
   ]
  },
  {
   "cell_type": "markdown",
   "metadata": {
    "colab_type": "text",
    "id": "HN_F4XI9pYWB"
   },
   "source": [
    "### Calculating the error metric values for various models"
   ]
  },
  {
   "cell_type": "code",
   "execution_count": null,
   "metadata": {
    "colab": {},
    "colab_type": "code",
    "id": "wxWASeeEpYWB"
   },
   "outputs": [],
   "source": [
    "train_mape=[]\n",
    "test_mape=[]\n",
    "\n",
    "train_mape.append((mean_absolute_error(tsne_train_output,df_train['ft_1'].values))/(sum(tsne_train_output)/len(tsne_train_output)))\n",
    "train_mape.append((mean_absolute_error(tsne_train_output,df_train['exp_avg'].values))/(sum(tsne_train_output)/len(tsne_train_output)))\n",
    "train_mape.append((mean_absolute_error(tsne_train_output,rndf_train_predictions))/(sum(tsne_train_output)/len(tsne_train_output)))\n",
    "train_mape.append((mean_absolute_error(tsne_train_output, xgb_train_predictions))/(sum(tsne_train_output)/len(tsne_train_output)))\n",
    "train_mape.append((mean_absolute_error(tsne_train_output, lr_train_predictions))/(sum(tsne_train_output)/len(tsne_train_output)))\n",
    "\n",
    "test_mape.append((mean_absolute_error(tsne_test_output, df_test['ft_1'].values))/(sum(tsne_test_output)/len(tsne_test_output)))\n",
    "test_mape.append((mean_absolute_error(tsne_test_output, df_test['exp_avg'].values))/(sum(tsne_test_output)/len(tsne_test_output)))\n",
    "test_mape.append((mean_absolute_error(tsne_test_output, rndf_test_predictions))/(sum(tsne_test_output)/len(tsne_test_output)))\n",
    "test_mape.append((mean_absolute_error(tsne_test_output, xgb_test_predictions))/(sum(tsne_test_output)/len(tsne_test_output)))\n",
    "test_mape.append((mean_absolute_error(tsne_test_output, lr_test_predictions))/(sum(tsne_test_output)/len(tsne_test_output)))"
   ]
  },
  {
   "cell_type": "code",
   "execution_count": null,
   "metadata": {
    "colab": {},
    "colab_type": "code",
    "id": "HVAsA4-IpYWC",
    "outputId": "d83ffcc4-67fa-4e08-a15b-0e8df84291b5"
   },
   "outputs": [],
   "source": [
    "print (\"Error Metric Matrix (Tree Based Regression Methods) -  MAPE\")\n",
    "print (\"--------------------------------------------------------------------------------------------------------\")\n",
    "print (\"Baseline Model -                             Train: \",train_mape[0],\"      Test: \",test_mape[0])\n",
    "print (\"Exponential Averages Forecasting -           Train: \",train_mape[1],\"      Test: \",test_mape[1])\n",
    "print (\"Linear Regression -                         Train: \",train_mape[3],\"      Test: \",test_mape[3])\n",
    "print (\"Random Forest Regression -                   Train: \",train_mape[2],\"     Test: \",test_mape[2])"
   ]
  },
  {
   "cell_type": "markdown",
   "metadata": {
    "colab_type": "text",
    "id": "dsWghvyVpYWE"
   },
   "source": [
    "### Error Metric Matrix"
   ]
  },
  {
   "cell_type": "code",
   "execution_count": null,
   "metadata": {
    "colab": {},
    "colab_type": "code",
    "id": "ajqLUxkjpYWE",
    "outputId": "4ad278c1-0b12-44bf-b30b-ab58857e8796"
   },
   "outputs": [],
   "source": [
    "print (\"Error Metric Matrix (Tree Based Regression Methods) -  MAPE\")\n",
    "print (\"--------------------------------------------------------------------------------------------------------\")\n",
    "print (\"Baseline Model -                             Train: \",train_mape[0],\"      Test: \",test_mape[0])\n",
    "print (\"Exponential Averages Forecasting -           Train: \",train_mape[1],\"      Test: \",test_mape[1])\n",
    "print (\"Linear Regression -                         Train: \",train_mape[4],\"      Test: \",test_mape[4])\n",
    "print (\"Random Forest Regression -                   Train: \",train_mape[2],\"     Test: \",test_mape[2])\n",
    "print (\"XgBoost Regression -                         Train: \",train_mape[3],\"      Test: \",test_mape[3])\n",
    "print (\"--------------------------------------------------------------------------------------------------------\")"
   ]
  },
  {
   "cell_type": "markdown",
   "metadata": {
    "colab_type": "text",
    "id": "2tvbI-GkpYWF"
   },
   "source": [
    "# Assignments\n",
    "\n",
    "        "
   ]
  },
  {
   "cell_type": "code",
   "execution_count": null,
   "metadata": {
    "colab": {},
    "colab_type": "code",
    "id": "JvEcs6bfpYWG",
    "outputId": "13ef25c8-7c41-4f6f-9fa5-a7085a7e4d2a",
    "scrolled": true
   },
   "outputs": [],
   "source": [
    "'''\n",
    "Task 1: Incorporate Fourier features as features into Regression models and measure MAPE. <br>\n",
    "\n",
    "Task 2: Perform hyper-parameter tuning for Regression models.\n",
    "        2a. Linear Regression: Grid Search\n",
    "        2b. Random Forest: Random Search \n",
    "        2c. Xgboost: Random Search\n",
    "Task 3: Explore more time-series features using Google search/Quora/Stackoverflow\n",
    "to reduce the MAPE to < 12%\n",
    "'''"
   ]
  },
  {
   "cell_type": "code",
   "execution_count": null,
   "metadata": {},
   "outputs": [],
   "source": [
    "from sklearn.preprocessing import MinMaxScaler\n"
   ]
  },
  {
   "cell_type": "code",
   "execution_count": null,
   "metadata": {},
   "outputs": [],
   "source": [
    "scaler = MinMaxScaler()\n",
    "df_train['fft_1'] = scaler.fit_transform(np.abs(np.fft.fft(np.array(df_train['ft_1']))).reshape(-1, 1))\n",
    "scaler = MinMaxScaler()\n",
    "df_train['fft_2'] = scaler.fit_transform(np.abs(np.fft.fft(np.array(df_train['ft_2']))).reshape(-1, 1))\n",
    "scaler = MinMaxScaler()\n",
    "df_train['fft_3'] = scaler.fit_transform(np.abs(np.fft.fft(np.array(df_train['ft_3']))).reshape(-1, 1))\n",
    "scaler = MinMaxScaler()\n",
    "df_train['fft_4'] = scaler.fit_transform(np.abs(np.fft.fft(np.array(df_train['ft_4']))).reshape(-1, 1))\n",
    "scaler = MinMaxScaler()\n",
    "df_train['fft_5'] = scaler.fit_transform(np.abs(np.fft.fft(np.array(df_train['ft_5']))).reshape(-1, 1))\n",
    "\n",
    "df_train.head(2)"
   ]
  },
  {
   "cell_type": "code",
   "execution_count": null,
   "metadata": {},
   "outputs": [],
   "source": [
    "scaler = MinMaxScaler()\n",
    "df_test['fft_1'] = scaler.fit_transform(np.abs(np.fft.fft(np.array(df_test['ft_1']))).reshape(-1, 1))\n",
    "scaler = MinMaxScaler()\n",
    "df_test['fft_2'] = scaler.fit_transform(np.abs(np.fft.fft(np.array(df_test['ft_2']))).reshape(-1, 1))\n",
    "scaler = MinMaxScaler()\n",
    "df_test['fft_3'] = scaler.fit_transform(np.abs(np.fft.fft(np.array(df_test['ft_3']))).reshape(-1, 1))\n",
    "scaler = MinMaxScaler()\n",
    "df_test['fft_4'] = scaler.fit_transform(np.abs(np.fft.fft(np.array(df_test['ft_4']))).reshape(-1, 1))\n",
    "scaler = MinMaxScaler()\n",
    "df_test['fft_5'] = scaler.fit_transform(np.abs(np.fft.fft(np.array(df_test['ft_5']))).reshape(-1, 1))\n",
    "\n",
    "df_test.head(2)"
   ]
  },
  {
   "cell_type": "code",
   "execution_count": null,
   "metadata": {},
   "outputs": [],
   "source": [
    "len(df_train)"
   ]
  },
  {
   "cell_type": "code",
   "execution_count": null,
   "metadata": {},
   "outputs": [],
   "source": [
    "freqfft = np.fft.fftfreq(len(df_train), 1)"
   ]
  },
  {
   "cell_type": "code",
   "execution_count": null,
   "metadata": {},
   "outputs": [],
   "source": [
    "plt.figure()\n",
    "plt.plot( freqfft, np.abs(df_train['fft_1']) )\n",
    "plt.xlabel(\"Frequency\")\n",
    "plt.ylabel(\"Amplitude\")\n",
    "plt.show()"
   ]
  },
  {
   "cell_type": "markdown",
   "metadata": {},
   "source": [
    "### Hyper Parameter tunning for XGBoost"
   ]
  },
  {
   "cell_type": "code",
   "execution_count": null,
   "metadata": {},
   "outputs": [],
   "source": [
    "from sklearn.model_selection import RandomizedSearchCV \n",
    "\n",
    "params = {\n",
    " 'max_depth':[4,5,6],\n",
    " 'min_child_weight':[4,5,6],\n",
    " 'n_estimators': [100, 200, 300, 400]\n",
    "}\n",
    "gsearch = RandomizedSearchCV(estimator = xgb.XGBRegressor( learning_rate=0.1, max_depth=5,\n",
    " min_child_weight=2, gamma=0, subsample=0.8, colsample_bytree=0.8,\n",
    " objective= 'reg:linear', nthread=4, scale_pos_weight=1,seed=27), \n",
    " param_distributions = params, scoring='neg_mean_absolute_error',n_jobs=-1,iid=False, cv=5)\n",
    "gsearch.fit(df_train,tsne_train_output)"
   ]
  },
  {
   "cell_type": "code",
   "execution_count": null,
   "metadata": {},
   "outputs": [],
   "source": [
    "\n",
    "x_model = xgb.XGBRegressor(base_score=0.5, booster='gbtree', colsample_bylevel=1,\n",
    "       colsample_bytree=0.8, gamma=0, importance_type='gain',\n",
    "       learning_rate=0.1, max_delta_step=0, max_depth=5,\n",
    "       min_child_weight=2, missing=None, n_estimators=100, n_jobs=1,\n",
    "       nthread=4, objective='reg:linear', random_state=0, reg_alpha=0,\n",
    "       reg_lambda=1, scale_pos_weight=1, seed=27, silent=True,\n",
    "       subsample=0.8)\n",
    "x_model.fit(df_train, tsne_train_output)\n"
   ]
  },
  {
   "cell_type": "code",
   "execution_count": null,
   "metadata": {},
   "outputs": [],
   "source": [
    "# predicting with our trained Xg-Boost regressor\n",
    "# the models x_model is already hyper parameter tuned\n",
    "# the parameters that we got above are found using grid search\n",
    "\n",
    "y_pred = x_model.predict(df_test)\n",
    "xgb_test_predictions = [round(value) for value in y_pred]\n",
    "y_pred = x_model.predict(df_train)\n",
    "xgb_train_predictions = [round(value) for value in y_pred]\n"
   ]
  },
  {
   "cell_type": "code",
   "execution_count": null,
   "metadata": {},
   "outputs": [],
   "source": [
    "\n",
    "#feature importances\n",
    "bst = x_model.get_booster()\n",
    "bst.get_score(importance_type='weight')\n"
   ]
  },
  {
   "cell_type": "code",
   "execution_count": null,
   "metadata": {},
   "outputs": [],
   "source": [
    "del x_model\n",
    "del gsearch"
   ]
  },
  {
   "cell_type": "markdown",
   "metadata": {},
   "source": [
    "### Hyper parameter tunning for Linear Regression"
   ]
  },
  {
   "cell_type": "code",
   "execution_count": null,
   "metadata": {},
   "outputs": [],
   "source": [
    "from sklearn.model_selection import GridSearchCV\n",
    "lr=LinearRegression()\n",
    "parameters = {'fit_intercept':[True,False], 'normalize':[True,False], 'copy_X':[True, False]}\n",
    "lr_reg = GridSearchCV(lr,parameters, cv=None)\n",
    "lr_reg.fit(df_train, tsne_train_output)\n",
    "y_pred = lr_reg.predict(df_test)"
   ]
  },
  {
   "cell_type": "code",
   "execution_count": null,
   "metadata": {},
   "outputs": [],
   "source": [
    "\n",
    "lr_test_predictions = [round(value) for value in y_pred]\n",
    "y_pred = lr_reg.predict(df_train)\n",
    "lr_train_predictions = [round(value) for value in y_pred]"
   ]
  },
  {
   "cell_type": "code",
   "execution_count": null,
   "metadata": {},
   "outputs": [],
   "source": [
    "del lr_reg"
   ]
  },
  {
   "cell_type": "markdown",
   "metadata": {},
   "source": [
    "### Hyper parameter tunning for Random Forest"
   ]
  },
  {
   "cell_type": "code",
   "execution_count": null,
   "metadata": {},
   "outputs": [],
   "source": [
    "params = {\n",
    " 'min_samples_split':[3, 4,5,6],\n",
    " 'min_samples_leaf':[4,5,6],\n",
    " 'n_estimators': [40, 80, 100,150, 300]\n",
    "}\n",
    "regr1 = RandomizedSearchCV(estimator = RandomForestRegressor( max_depth=5,\n",
    "  \n",
    "), \n",
    " param_distributions = params, scoring='neg_mean_absolute_error',n_jobs=-1,iid=False, cv=5)\n",
    "regr1.fit(df_train,tsne_train_output)"
   ]
  },
  {
   "cell_type": "code",
   "execution_count": null,
   "metadata": {},
   "outputs": [],
   "source": [
    "regr1 = regr1.get_params().get(\"estimator\")\n",
    "regr1.fit(df_train,tsne_train_output)"
   ]
  },
  {
   "cell_type": "code",
   "execution_count": null,
   "metadata": {},
   "outputs": [],
   "source": [
    "\n",
    "y_pred = regr1.predict(df_test)\n",
    "rndf_test_predictions = [round(value) for value in y_pred]\n",
    "y_pred = regr1.predict(df_train)\n",
    "rndf_train_predictions = [round(value) for value in y_pred]\n",
    "\n"
   ]
  },
  {
   "cell_type": "code",
   "execution_count": null,
   "metadata": {},
   "outputs": [],
   "source": [
    "#feature importances based on analysis using random forest\n",
    "print (df_train.columns)\n",
    "print (regr1.feature_importances_)"
   ]
  },
  {
   "cell_type": "markdown",
   "metadata": {},
   "source": [
    "### Comparison between Models"
   ]
  },
  {
   "cell_type": "code",
   "execution_count": null,
   "metadata": {},
   "outputs": [],
   "source": [
    "\n",
    "train_mape=[]\n",
    "test_mape=[]\n",
    "\n",
    "train_mape.append((mean_absolute_error(tsne_train_output,df_train['ft_1'].values))/(sum(tsne_train_output)/len(tsne_train_output)))\n",
    "train_mape.append((mean_absolute_error(tsne_train_output,df_train['exp_avg'].values))/(sum(tsne_train_output)/len(tsne_train_output)))\n",
    "train_mape.append((mean_absolute_error(tsne_train_output,rndf_train_predictions))/(sum(tsne_train_output)/len(tsne_train_output)))\n",
    "train_mape.append((mean_absolute_error(tsne_train_output, xgb_train_predictions))/(sum(tsne_train_output)/len(tsne_train_output)))\n",
    "train_mape.append((mean_absolute_error(tsne_train_output, lr_train_predictions))/(sum(tsne_train_output)/len(tsne_train_output)))\n",
    "\n",
    "test_mape.append((mean_absolute_error(tsne_test_output, df_test['ft_1'].values))/(sum(tsne_test_output)/len(tsne_test_output)))\n",
    "test_mape.append((mean_absolute_error(tsne_test_output, df_test['exp_avg'].values))/(sum(tsne_test_output)/len(tsne_test_output)))\n",
    "test_mape.append((mean_absolute_error(tsne_test_output, rndf_test_predictions))/(sum(tsne_test_output)/len(tsne_test_output)))\n",
    "test_mape.append((mean_absolute_error(tsne_test_output, xgb_test_predictions))/(sum(tsne_test_output)/len(tsne_test_output)))\n",
    "test_mape.append((mean_absolute_error(tsne_test_output, lr_test_predictions))/(sum(tsne_test_output)/len(tsne_test_output)))"
   ]
  },
  {
   "cell_type": "code",
   "execution_count": null,
   "metadata": {},
   "outputs": [],
   "source": [
    "print (\"Error Metric Matrix (Tree Based Regression Methods) -  MAPE\")\n",
    "print (\"--------------------------------------------------------------------------------------------------------\")\n",
    "print (\"Random Forest Regression -                         Train: \",train_mape[2],\"      Test: \",test_mape[2])\n",
    "print (\"XGB -                                   Train: \",train_mape[3],\"      Test: \",test_mape[3])\n",
    "print (\"Linear Regression -                         Train: \",train_mape[4],\"     Test: \",test_mape[4])"
   ]
  },
  {
   "cell_type": "code",
   "execution_count": null,
   "metadata": {},
   "outputs": [],
   "source": [
    "frame_with_durations_outliers_removed_pickle = open(\"fwdor.pickle\", \"wb\")\n",
    "pickle.dump(frame_with_durations_outliers_removed, frame_with_durations_outliers_removed_pickle)"
   ]
  },
  {
   "cell_type": "code",
   "execution_count": null,
   "metadata": {},
   "outputs": [],
   "source": []
  }
 ],
 "metadata": {
  "colab": {
   "name": "NYC Final.ipynb",
   "provenance": [],
   "version": "0.3.2"
  },
  "kernelspec": {
   "display_name": "Python 3",
   "language": "python",
   "name": "python3"
  },
  "language_info": {
   "codemirror_mode": {
    "name": "ipython",
    "version": 3
   },
   "file_extension": ".py",
   "mimetype": "text/x-python",
   "name": "python",
   "nbconvert_exporter": "python",
   "pygments_lexer": "ipython3",
   "version": "3.7.3"
  }
 },
 "nbformat": 4,
 "nbformat_minor": 1
}
