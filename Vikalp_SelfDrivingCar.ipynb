{
 "cells": [
  {
   "cell_type": "code",
   "execution_count": 2,
   "metadata": {},
   "outputs": [],
   "source": [
    "import scipy.misc\n",
    "import random\n",
    "\n",
    "xs = []\n",
    "ys = []\n",
    "\n",
    "#points to the end of the last batch\n",
    "train_batch_pointer = 0\n",
    "val_batch_pointer = 0\n",
    "\n",
    "#read data.txt\n",
    "with open(\"driving_dataset/data.txt\") as f:\n",
    "    for line in f:\n",
    "        xs.append(\"driving_dataset/\" + line.split()[0])\n",
    "        #the paper by Nvidia uses the inverse of the turning radius,\n",
    "        #but steering wheel angle is proportional to the inverse of turning radius\n",
    "        #so the steering wheel angle in radians is used as the output\n",
    "        ys.append(float(line.split()[1]) * scipy.pi / 180)\n",
    "\n",
    "#get number of images\n",
    "num_images = len(xs)\n",
    "\n",
    "\n",
    "# train_xs = xs[:int(len(xs) * 0.8)]\n",
    "# train_ys = ys[:int(len(xs) * 0.8)]\n",
    "\n",
    "# val_xs = xs[-int(len(xs) * 0.2):]\n",
    "# val_ys = ys[-int(len(xs) * 0.2):]\n",
    "\n",
    "train_xs = xs[:int(len(xs) * 0.7)]\n",
    "train_ys = ys[:int(len(xs) * 0.7)]\n",
    "\n",
    "val_xs = xs[-int(len(xs) * 0.3):]\n",
    "val_ys = ys[-int(len(xs) * 0.3):]\n",
    "\n",
    "num_train_images = len(train_xs)\n",
    "num_val_images = len(val_xs)\n",
    "\n",
    "def LoadTrainBatch(batch_size):\n",
    "    global train_batch_pointer\n",
    "    x_out = []\n",
    "    y_out = []\n",
    "    for i in range(0, batch_size):\n",
    "        x_out.append(scipy.misc.imresize(scipy.misc.imread(train_xs[(train_batch_pointer + i) % num_train_images])[-150:], [66, 200]) / 255.0)\n",
    "        y_out.append([train_ys[(train_batch_pointer + i) % num_train_images]])\n",
    "    train_batch_pointer += batch_size\n",
    "    return x_out, y_out\n",
    "\n",
    "def LoadValBatch(batch_size):\n",
    "    global val_batch_pointer\n",
    "    x_out = []\n",
    "    y_out = []\n",
    "    for i in range(0, batch_size):\n",
    "        x_out.append(scipy.misc.imresize(scipy.misc.imread(val_xs[(val_batch_pointer + i) % num_val_images])[-150:], [66, 200]) / 255.0)\n",
    "        y_out.append([val_ys[(val_batch_pointer + i) % num_val_images]])\n",
    "    val_batch_pointer += batch_size\n",
    "    return x_out, y_out\n"
   ]
  },
  {
   "cell_type": "markdown",
   "metadata": {},
   "source": [
    "## Model"
   ]
  },
  {
   "cell_type": "code",
   "execution_count": 2,
   "metadata": {},
   "outputs": [
    {
     "name": "stderr",
     "output_type": "stream",
     "text": [
      "WARNING: Logging before flag parsing goes to stderr.\n",
      "W1003 03:45:58.187588 21456 deprecation.py:506] From <ipython-input-2-08258f321552>:58: calling dropout (from tensorflow.python.ops.nn_ops) with keep_prob is deprecated and will be removed in a future version.\n",
      "Instructions for updating:\n",
      "Please use `rate` instead of `keep_prob`. Rate should be set to `rate = 1 - keep_prob`.\n"
     ]
    }
   ],
   "source": [
    "import tensorflow as tf\n",
    "import scipy\n",
    "\n",
    "def weight_variable(shape):\n",
    "  initial = tf.truncated_normal(shape, stddev=0.1)\n",
    "  return tf.Variable(initial)\n",
    "\n",
    "def bias_variable(shape):\n",
    "  initial = tf.constant(0.1, shape=shape)\n",
    "  return tf.Variable(initial)\n",
    "\n",
    "def conv2d(x, W, stride):\n",
    "  return tf.nn.conv2d(x, W, strides=[1, stride, stride, 1], padding='VALID')\n",
    "\n",
    "x = tf.placeholder(tf.float32, shape=[None, 66, 200, 3])\n",
    "y_ = tf.placeholder(tf.float32, shape=[None, 1])\n",
    "\n",
    "x_image = x\n",
    "\n",
    "#first convolutional layer\n",
    "W_conv1 = weight_variable([5, 5, 3, 24])\n",
    "b_conv1 = bias_variable([24])\n",
    "\n",
    "h_conv1 = tf.nn.relu(conv2d(x_image, W_conv1, 2) + b_conv1)\n",
    "\n",
    "#second convolutional layer\n",
    "W_conv2 = weight_variable([5, 5, 24, 36])\n",
    "b_conv2 = bias_variable([36])\n",
    "\n",
    "h_conv2 = tf.nn.relu(conv2d(h_conv1, W_conv2, 2) + b_conv2)\n",
    "\n",
    "#third convolutional layer\n",
    "W_conv3 = weight_variable([5, 5, 36, 48])\n",
    "b_conv3 = bias_variable([48])\n",
    "\n",
    "h_conv3 = tf.nn.relu(conv2d(h_conv2, W_conv3, 2) + b_conv3)\n",
    "\n",
    "#fourth convolutional layer\n",
    "W_conv4 = weight_variable([3, 3, 48, 64])\n",
    "b_conv4 = bias_variable([64])\n",
    "\n",
    "h_conv4 = tf.nn.relu(conv2d(h_conv3, W_conv4, 1) + b_conv4)\n",
    "\n",
    "#fifth convolutional layer\n",
    "W_conv5 = weight_variable([3, 3, 64, 64])\n",
    "b_conv5 = bias_variable([64])\n",
    "\n",
    "h_conv5 = tf.nn.relu(conv2d(h_conv4, W_conv5, 1) + b_conv5)\n",
    "\n",
    "#FCL 1\n",
    "W_fc1 = weight_variable([1152, 1164])\n",
    "b_fc1 = bias_variable([1164])\n",
    "\n",
    "h_conv5_flat = tf.reshape(h_conv5, [-1, 1152])\n",
    "h_fc1 = tf.nn.relu(tf.matmul(h_conv5_flat, W_fc1) + b_fc1)\n",
    "\n",
    "keep_prob = tf.placeholder(tf.float32)\n",
    "h_fc1_drop = tf.nn.dropout(h_fc1, keep_prob)\n",
    "\n",
    "#FCL 2\n",
    "W_fc2 = weight_variable([1164, 100])\n",
    "b_fc2 = bias_variable([100])\n",
    "\n",
    "h_fc2 = tf.nn.relu(tf.matmul(h_fc1_drop, W_fc2) + b_fc2)\n",
    "\n",
    "h_fc2_drop = tf.nn.dropout(h_fc2, keep_prob)\n",
    "\n",
    "#FCL 3\n",
    "W_fc3 = weight_variable([100, 50])\n",
    "b_fc3 = bias_variable([50])\n",
    "\n",
    "h_fc3 = tf.nn.relu(tf.matmul(h_fc2_drop, W_fc3) + b_fc3)\n",
    "\n",
    "h_fc3_drop = tf.nn.dropout(h_fc3, keep_prob)\n",
    "\n",
    "#FCL 3\n",
    "W_fc4 = weight_variable([50, 10])\n",
    "b_fc4 = bias_variable([10])\n",
    "\n",
    "h_fc4 = tf.nn.relu(tf.matmul(h_fc3_drop, W_fc4) + b_fc4)\n",
    "\n",
    "h_fc4_drop = tf.nn.dropout(h_fc4, keep_prob)\n",
    "\n",
    "#Output\n",
    "W_fc5 = weight_variable([10, 1])\n",
    "b_fc5 = bias_variable([1])\n",
    "\n",
    "y = tf.multiply(tf.tan(tf.matmul(h_fc4_drop, W_fc5) + b_fc5), 2) #scale the atan output\n"
   ]
  },
  {
   "cell_type": "markdown",
   "metadata": {},
   "source": [
    "## Training dataset"
   ]
  },
  {
   "cell_type": "code",
   "execution_count": 3,
   "metadata": {
    "scrolled": true
   },
   "outputs": [
    {
     "name": "stderr",
     "output_type": "stream",
     "text": [
      "W1003 03:45:58.378073 21456 deprecation_wrapper.py:119] From D:\\Work\\ML\\API\\MNB\\26 - SELF DRIVING CAR\\Autopilot-TensorFlow-master\\Autopilot-TensorFlow-master\\model.py:15: The name tf.placeholder is deprecated. Please use tf.compat.v1.placeholder instead.\n",
      "\n",
      "W1003 03:45:58.397489 21456 deprecation_wrapper.py:119] From D:\\Work\\ML\\API\\MNB\\26 - SELF DRIVING CAR\\Autopilot-TensorFlow-master\\Autopilot-TensorFlow-master\\model.py:5: The name tf.truncated_normal is deprecated. Please use tf.random.truncated_normal instead.\n",
      "\n",
      "W1003 03:46:00.040714 21456 deprecation.py:323] From D:\\Installation\\Anaconda\\lib\\site-packages\\tensorflow\\python\\util\\tf_should_use.py:193: initialize_all_variables (from tensorflow.python.ops.variables) is deprecated and will be removed after 2017-03-02.\n",
      "Instructions for updating:\n",
      "Use `tf.global_variables_initializer` instead.\n"
     ]
    },
    {
     "name": "stdout",
     "output_type": "stream",
     "text": [
      "Epoch: 0, Step: 0, Loss: 12.491\n"
     ]
    },
    {
     "name": "stderr",
     "output_type": "stream",
     "text": [
      "W1003 03:46:08.736202 21456 saver.py:1134] *******************************************************\n",
      "W1003 03:46:08.738201 21456 saver.py:1135] TensorFlow's V1 checkpoint format has been deprecated.\n",
      "W1003 03:46:08.740197 21456 saver.py:1136] Consider switching to the more efficient V2 format:\n",
      "W1003 03:46:08.741197 21456 saver.py:1137]    `tf.train.Saver(write_version=tf.train.SaverDef.V2)`\n",
      "W1003 03:46:08.742198 21456 saver.py:1138] now on by default.\n",
      "W1003 03:46:08.743200 21456 saver.py:1139] *******************************************************\n"
     ]
    },
    {
     "name": "stdout",
     "output_type": "stream",
     "text": [
      "Epoch: 0, Step: 10, Loss: 11.0044\n",
      "Epoch: 0, Step: 20, Loss: 9.44389\n",
      "Epoch: 0, Step: 30, Loss: 8.29848\n",
      "Epoch: 0, Step: 40, Loss: 7.34742\n",
      "Epoch: 0, Step: 50, Loss: 6.62273\n",
      "Epoch: 0, Step: 60, Loss: 6.11192\n",
      "Epoch: 0, Step: 70, Loss: 6.44482\n",
      "Epoch: 0, Step: 80, Loss: 6.67666\n",
      "Epoch: 0, Step: 90, Loss: 4.73476\n",
      "Epoch: 0, Step: 100, Loss: 4.1633\n"
     ]
    },
    {
     "name": "stderr",
     "output_type": "stream",
     "text": [
      "W1003 03:49:36.182972 21456 saver.py:1134] *******************************************************\n",
      "W1003 03:49:36.184972 21456 saver.py:1135] TensorFlow's V1 checkpoint format has been deprecated.\n",
      "W1003 03:49:36.185974 21456 saver.py:1136] Consider switching to the more efficient V2 format:\n",
      "W1003 03:49:36.186975 21456 saver.py:1137]    `tf.train.Saver(write_version=tf.train.SaverDef.V2)`\n",
      "W1003 03:49:36.187975 21456 saver.py:1138] now on by default.\n",
      "W1003 03:49:36.188973 21456 saver.py:1139] *******************************************************\n"
     ]
    },
    {
     "name": "stdout",
     "output_type": "stream",
     "text": [
      "Epoch: 0, Step: 110, Loss: 3.80978\n",
      "Epoch: 0, Step: 120, Loss: 3.55381\n",
      "Epoch: 0, Step: 130, Loss: 3.33667\n",
      "Epoch: 0, Step: 140, Loss: 3.15148\n",
      "Epoch: 0, Step: 150, Loss: 3.02529\n",
      "Epoch: 0, Step: 160, Loss: 2.82377\n",
      "Epoch: 0, Step: 170, Loss: 2.66321\n",
      "Epoch: 0, Step: 180, Loss: 2.60446\n",
      "Epoch: 0, Step: 190, Loss: 2.77674\n",
      "Epoch: 0, Step: 200, Loss: 2.36667\n"
     ]
    },
    {
     "name": "stderr",
     "output_type": "stream",
     "text": [
      "W1003 03:52:17.160501 21456 saver.py:1134] *******************************************************\n",
      "W1003 03:52:17.161495 21456 saver.py:1135] TensorFlow's V1 checkpoint format has been deprecated.\n",
      "W1003 03:52:17.162495 21456 saver.py:1136] Consider switching to the more efficient V2 format:\n",
      "W1003 03:52:17.163497 21456 saver.py:1137]    `tf.train.Saver(write_version=tf.train.SaverDef.V2)`\n",
      "W1003 03:52:17.164497 21456 saver.py:1138] now on by default.\n",
      "W1003 03:52:17.166495 21456 saver.py:1139] *******************************************************\n"
     ]
    },
    {
     "name": "stdout",
     "output_type": "stream",
     "text": [
      "Epoch: 0, Step: 210, Loss: 2.35699\n",
      "Epoch: 0, Step: 220, Loss: 2.13026\n",
      "Epoch: 0, Step: 230, Loss: 2.0521\n",
      "Epoch: 0, Step: 240, Loss: 1.97962\n",
      "Epoch: 0, Step: 250, Loss: 1.91283\n",
      "Epoch: 0, Step: 260, Loss: 1.90952\n",
      "Epoch: 0, Step: 270, Loss: 6.57256\n",
      "Epoch: 0, Step: 280, Loss: 2.57875\n",
      "Epoch: 0, Step: 290, Loss: 1.6861\n",
      "Epoch: 0, Step: 300, Loss: 1.62889\n"
     ]
    },
    {
     "name": "stderr",
     "output_type": "stream",
     "text": [
      "W1003 03:54:59.976764 21456 saver.py:1134] *******************************************************\n",
      "W1003 03:54:59.978765 21456 saver.py:1135] TensorFlow's V1 checkpoint format has been deprecated.\n",
      "W1003 03:54:59.978765 21456 saver.py:1136] Consider switching to the more efficient V2 format:\n",
      "W1003 03:54:59.979769 21456 saver.py:1137]    `tf.train.Saver(write_version=tf.train.SaverDef.V2)`\n",
      "W1003 03:54:59.980768 21456 saver.py:1138] now on by default.\n",
      "W1003 03:54:59.981765 21456 saver.py:1139] *******************************************************\n"
     ]
    },
    {
     "name": "stdout",
     "output_type": "stream",
     "text": [
      "Epoch: 0, Step: 310, Loss: 1.58108\n",
      "Epoch: 0, Step: 320, Loss: 1.54028\n",
      "Epoch: 0, Step: 330, Loss: 1.49232\n",
      "Epoch: 0, Step: 340, Loss: 1.45207\n",
      "Epoch: 0, Step: 350, Loss: 1.40887\n",
      "Epoch: 0, Step: 360, Loss: 1.37141\n",
      "Epoch: 0, Step: 370, Loss: 1.33488\n",
      "Epoch: 0, Step: 380, Loss: 1.30394\n",
      "Epoch: 0, Step: 390, Loss: 1.26704\n",
      "Epoch: 0, Step: 400, Loss: 1.2529\n"
     ]
    },
    {
     "name": "stderr",
     "output_type": "stream",
     "text": [
      "W1003 03:57:41.081054 21456 saver.py:1134] *******************************************************\n",
      "W1003 03:57:41.082055 21456 saver.py:1135] TensorFlow's V1 checkpoint format has been deprecated.\n",
      "W1003 03:57:41.083054 21456 saver.py:1136] Consider switching to the more efficient V2 format:\n",
      "W1003 03:57:41.084056 21456 saver.py:1137]    `tf.train.Saver(write_version=tf.train.SaverDef.V2)`\n",
      "W1003 03:57:41.085054 21456 saver.py:1138] now on by default.\n",
      "W1003 03:57:41.085054 21456 saver.py:1139] *******************************************************\n"
     ]
    },
    {
     "name": "stdout",
     "output_type": "stream",
     "text": [
      "Epoch: 0, Step: 410, Loss: 1.20797\n",
      "Epoch: 0, Step: 420, Loss: 1.1741\n",
      "Epoch: 0, Step: 430, Loss: 1.13816\n",
      "Epoch: 0, Step: 440, Loss: 1.11583\n",
      "Epoch: 0, Step: 450, Loss: 1.08369\n",
      "Model saved in file: ./save\\model.ckpt\n",
      "Epoch: 1, Step: 100, Loss: 1.07059\n"
     ]
    },
    {
     "name": "stderr",
     "output_type": "stream",
     "text": [
      "W1003 03:59:05.474661 21456 saver.py:1134] *******************************************************\n",
      "W1003 03:59:05.475659 21456 saver.py:1135] TensorFlow's V1 checkpoint format has been deprecated.\n",
      "W1003 03:59:05.476665 21456 saver.py:1136] Consider switching to the more efficient V2 format:\n",
      "W1003 03:59:05.477663 21456 saver.py:1137]    `tf.train.Saver(write_version=tf.train.SaverDef.V2)`\n",
      "W1003 03:59:05.477663 21456 saver.py:1138] now on by default.\n",
      "W1003 03:59:05.478661 21456 saver.py:1139] *******************************************************\n"
     ]
    },
    {
     "name": "stdout",
     "output_type": "stream",
     "text": [
      "Epoch: 1, Step: 110, Loss: 1.04889\n",
      "Epoch: 1, Step: 120, Loss: 1.01382\n",
      "Epoch: 1, Step: 130, Loss: 0.987747\n",
      "Epoch: 1, Step: 140, Loss: 0.966799\n",
      "Epoch: 1, Step: 150, Loss: 0.942924\n",
      "Epoch: 1, Step: 160, Loss: 0.918549\n",
      "Epoch: 1, Step: 170, Loss: 0.894227\n",
      "Epoch: 1, Step: 180, Loss: 0.87239\n",
      "Epoch: 1, Step: 190, Loss: 0.852244\n",
      "Epoch: 1, Step: 200, Loss: 0.834432\n"
     ]
    },
    {
     "name": "stderr",
     "output_type": "stream",
     "text": [
      "W1003 04:01:35.813789 21456 saver.py:1134] *******************************************************\n",
      "W1003 04:01:35.814791 21456 saver.py:1135] TensorFlow's V1 checkpoint format has been deprecated.\n",
      "W1003 04:01:35.815783 21456 saver.py:1136] Consider switching to the more efficient V2 format:\n",
      "W1003 04:01:35.816822 21456 saver.py:1137]    `tf.train.Saver(write_version=tf.train.SaverDef.V2)`\n",
      "W1003 04:01:35.817791 21456 saver.py:1138] now on by default.\n",
      "W1003 04:01:35.817791 21456 saver.py:1139] *******************************************************\n"
     ]
    },
    {
     "name": "stdout",
     "output_type": "stream",
     "text": [
      "Epoch: 1, Step: 210, Loss: 0.868779\n",
      "Epoch: 1, Step: 220, Loss: 1.11274\n",
      "Epoch: 1, Step: 230, Loss: 5.9632\n",
      "Epoch: 1, Step: 240, Loss: 0.765579\n",
      "Epoch: 1, Step: 250, Loss: 0.7372\n",
      "Epoch: 1, Step: 260, Loss: 0.754306\n",
      "Epoch: 1, Step: 270, Loss: 0.783188\n",
      "Epoch: 1, Step: 280, Loss: 0.771943\n",
      "Epoch: 1, Step: 290, Loss: 0.676348\n",
      "Epoch: 1, Step: 300, Loss: 0.769944\n"
     ]
    },
    {
     "name": "stderr",
     "output_type": "stream",
     "text": [
      "W1003 04:04:10.581173 21456 saver.py:1134] *******************************************************\n",
      "W1003 04:04:10.582178 21456 saver.py:1135] TensorFlow's V1 checkpoint format has been deprecated.\n",
      "W1003 04:04:10.584181 21456 saver.py:1136] Consider switching to the more efficient V2 format:\n",
      "W1003 04:04:10.585180 21456 saver.py:1137]    `tf.train.Saver(write_version=tf.train.SaverDef.V2)`\n",
      "W1003 04:04:10.586178 21456 saver.py:1138] now on by default.\n",
      "W1003 04:04:10.587182 21456 saver.py:1139] *******************************************************\n"
     ]
    },
    {
     "name": "stdout",
     "output_type": "stream",
     "text": [
      "Epoch: 1, Step: 310, Loss: 0.678504\n",
      "Epoch: 1, Step: 320, Loss: 0.629241\n",
      "Epoch: 1, Step: 330, Loss: 0.65639\n",
      "Epoch: 1, Step: 340, Loss: 0.615421\n",
      "Epoch: 1, Step: 350, Loss: 0.597163\n",
      "Epoch: 1, Step: 360, Loss: 0.623466\n",
      "Epoch: 1, Step: 370, Loss: 0.700682\n",
      "Epoch: 1, Step: 380, Loss: 0.599423\n",
      "Epoch: 1, Step: 390, Loss: 0.678111\n",
      "Epoch: 1, Step: 400, Loss: 0.580395\n"
     ]
    },
    {
     "name": "stderr",
     "output_type": "stream",
     "text": [
      "W1003 04:06:44.910077 21456 saver.py:1134] *******************************************************\n",
      "W1003 04:06:44.911079 21456 saver.py:1135] TensorFlow's V1 checkpoint format has been deprecated.\n",
      "W1003 04:06:44.912077 21456 saver.py:1136] Consider switching to the more efficient V2 format:\n",
      "W1003 04:06:44.914081 21456 saver.py:1137]    `tf.train.Saver(write_version=tf.train.SaverDef.V2)`\n",
      "W1003 04:06:44.915081 21456 saver.py:1138] now on by default.\n",
      "W1003 04:06:44.916082 21456 saver.py:1139] *******************************************************\n"
     ]
    },
    {
     "name": "stdout",
     "output_type": "stream",
     "text": [
      "Epoch: 1, Step: 410, Loss: 0.541867\n",
      "Epoch: 1, Step: 420, Loss: 0.516302\n",
      "Epoch: 1, Step: 430, Loss: 0.501307\n",
      "Epoch: 1, Step: 440, Loss: 0.492475\n",
      "Epoch: 1, Step: 450, Loss: 0.48145\n",
      "Epoch: 1, Step: 460, Loss: 0.471756\n",
      "Epoch: 1, Step: 470, Loss: 0.462001\n",
      "Epoch: 1, Step: 480, Loss: 0.459988\n",
      "Epoch: 1, Step: 490, Loss: 0.454264\n",
      "Epoch: 1, Step: 500, Loss: 0.454875\n"
     ]
    },
    {
     "name": "stderr",
     "output_type": "stream",
     "text": [
      "W1003 04:09:26.276652 21456 saver.py:1134] *******************************************************\n",
      "W1003 04:09:26.277655 21456 saver.py:1135] TensorFlow's V1 checkpoint format has been deprecated.\n",
      "W1003 04:09:26.278654 21456 saver.py:1136] Consider switching to the more efficient V2 format:\n",
      "W1003 04:09:26.279657 21456 saver.py:1137]    `tf.train.Saver(write_version=tf.train.SaverDef.V2)`\n",
      "W1003 04:09:26.280656 21456 saver.py:1138] now on by default.\n",
      "W1003 04:09:26.281658 21456 saver.py:1139] *******************************************************\n"
     ]
    },
    {
     "name": "stdout",
     "output_type": "stream",
     "text": [
      "Epoch: 1, Step: 510, Loss: 0.423398\n",
      "Epoch: 1, Step: 520, Loss: 0.429429\n",
      "Epoch: 1, Step: 530, Loss: 0.486047\n",
      "Epoch: 1, Step: 540, Loss: 0.412823\n",
      "Epoch: 1, Step: 550, Loss: 0.789166\n",
      "Model saved in file: ./save\\model.ckpt\n",
      "Epoch: 2, Step: 200, Loss: 1.01458\n"
     ]
    },
    {
     "name": "stderr",
     "output_type": "stream",
     "text": [
      "W1003 04:10:48.364737 21456 saver.py:1134] *******************************************************\n",
      "W1003 04:10:48.365726 21456 saver.py:1135] TensorFlow's V1 checkpoint format has been deprecated.\n",
      "W1003 04:10:48.366730 21456 saver.py:1136] Consider switching to the more efficient V2 format:\n",
      "W1003 04:10:48.366730 21456 saver.py:1137]    `tf.train.Saver(write_version=tf.train.SaverDef.V2)`\n",
      "W1003 04:10:48.367731 21456 saver.py:1138] now on by default.\n",
      "W1003 04:10:48.368729 21456 saver.py:1139] *******************************************************\n"
     ]
    },
    {
     "name": "stdout",
     "output_type": "stream",
     "text": [
      "Epoch: 2, Step: 210, Loss: 0.606973\n",
      "Epoch: 2, Step: 220, Loss: 0.427692\n",
      "Epoch: 2, Step: 230, Loss: 0.403721\n",
      "Epoch: 2, Step: 240, Loss: 0.368497\n",
      "Epoch: 2, Step: 250, Loss: 0.470053\n",
      "Epoch: 2, Step: 260, Loss: 1.37914\n",
      "Epoch: 2, Step: 270, Loss: 1.63242\n",
      "Epoch: 2, Step: 280, Loss: 0.395748\n",
      "Epoch: 2, Step: 290, Loss: 0.453888\n"
     ]
    },
    {
     "name": "stderr",
     "output_type": "stream",
     "text": [
      "W1003 04:13:17.663882 21456 saver.py:1134] *******************************************************\n"
     ]
    },
    {
     "name": "stdout",
     "output_type": "stream",
     "text": [
      "Epoch: 2, Step: 300, Loss: 0.318386\n"
     ]
    },
    {
     "name": "stderr",
     "output_type": "stream",
     "text": [
      "W1003 04:13:17.664883 21456 saver.py:1135] TensorFlow's V1 checkpoint format has been deprecated.\n",
      "W1003 04:13:17.665882 21456 saver.py:1136] Consider switching to the more efficient V2 format:\n",
      "W1003 04:13:17.666883 21456 saver.py:1137]    `tf.train.Saver(write_version=tf.train.SaverDef.V2)`\n",
      "W1003 04:13:17.668883 21456 saver.py:1138] now on by default.\n",
      "W1003 04:13:17.670885 21456 saver.py:1139] *******************************************************\n"
     ]
    },
    {
     "name": "stdout",
     "output_type": "stream",
     "text": [
      "Epoch: 2, Step: 310, Loss: 0.314157\n",
      "Epoch: 2, Step: 320, Loss: 0.314212\n",
      "Epoch: 2, Step: 330, Loss: 0.312239\n",
      "Epoch: 2, Step: 340, Loss: 0.330996\n",
      "Epoch: 2, Step: 350, Loss: 0.312702\n",
      "Epoch: 2, Step: 360, Loss: 0.287928\n",
      "Epoch: 2, Step: 370, Loss: 0.411019\n",
      "Epoch: 2, Step: 380, Loss: 0.702425\n",
      "Epoch: 2, Step: 390, Loss: 0.41944\n",
      "Epoch: 2, Step: 400, Loss: 0.360691\n"
     ]
    },
    {
     "name": "stderr",
     "output_type": "stream",
     "text": [
      "W1003 04:15:49.230251 21456 saver.py:1134] *******************************************************\n",
      "W1003 04:15:49.231259 21456 saver.py:1135] TensorFlow's V1 checkpoint format has been deprecated.\n",
      "W1003 04:15:49.232250 21456 saver.py:1136] Consider switching to the more efficient V2 format:\n",
      "W1003 04:15:49.233258 21456 saver.py:1137]    `tf.train.Saver(write_version=tf.train.SaverDef.V2)`\n",
      "W1003 04:15:49.235260 21456 saver.py:1138] now on by default.\n",
      "W1003 04:15:49.236261 21456 saver.py:1139] *******************************************************\n"
     ]
    },
    {
     "name": "stdout",
     "output_type": "stream",
     "text": [
      "Epoch: 2, Step: 410, Loss: 0.266611\n",
      "Epoch: 2, Step: 420, Loss: 0.261963\n",
      "Epoch: 2, Step: 430, Loss: 0.256047\n",
      "Epoch: 2, Step: 440, Loss: 0.250562\n",
      "Epoch: 2, Step: 450, Loss: 0.309631\n",
      "Epoch: 2, Step: 460, Loss: 5.63543\n",
      "Epoch: 2, Step: 470, Loss: 0.429353\n",
      "Epoch: 2, Step: 480, Loss: 0.237565\n",
      "Epoch: 2, Step: 490, Loss: 0.227683\n",
      "Epoch: 2, Step: 500, Loss: 0.227911\n"
     ]
    },
    {
     "name": "stderr",
     "output_type": "stream",
     "text": [
      "W1003 04:18:22.869376 21456 saver.py:1134] *******************************************************\n",
      "W1003 04:18:22.871380 21456 saver.py:1135] TensorFlow's V1 checkpoint format has been deprecated.\n",
      "W1003 04:18:22.872377 21456 saver.py:1136] Consider switching to the more efficient V2 format:\n",
      "W1003 04:18:22.872377 21456 saver.py:1137]    `tf.train.Saver(write_version=tf.train.SaverDef.V2)`\n",
      "W1003 04:18:22.873376 21456 saver.py:1138] now on by default.\n",
      "W1003 04:18:22.876378 21456 saver.py:1139] *******************************************************\n"
     ]
    },
    {
     "name": "stdout",
     "output_type": "stream",
     "text": [
      "Epoch: 2, Step: 510, Loss: 0.226586\n",
      "Epoch: 2, Step: 520, Loss: 0.218447\n",
      "Epoch: 2, Step: 530, Loss: 0.215783\n",
      "Epoch: 2, Step: 540, Loss: 0.210531\n",
      "Epoch: 2, Step: 550, Loss: 0.206191\n",
      "Epoch: 2, Step: 560, Loss: 0.203415\n",
      "Epoch: 2, Step: 570, Loss: 0.201518\n",
      "Epoch: 2, Step: 580, Loss: 0.217884\n",
      "Epoch: 2, Step: 590, Loss: 0.2355\n",
      "Epoch: 2, Step: 600, Loss: 0.210888\n"
     ]
    },
    {
     "name": "stderr",
     "output_type": "stream",
     "text": [
      "W1003 04:20:48.358066 21456 saver.py:1134] *******************************************************\n",
      "W1003 04:20:48.359066 21456 saver.py:1135] TensorFlow's V1 checkpoint format has been deprecated.\n",
      "W1003 04:20:48.361070 21456 saver.py:1136] Consider switching to the more efficient V2 format:\n",
      "W1003 04:20:48.362072 21456 saver.py:1137]    `tf.train.Saver(write_version=tf.train.SaverDef.V2)`\n",
      "W1003 04:20:48.364073 21456 saver.py:1138] now on by default.\n",
      "W1003 04:20:48.365071 21456 saver.py:1139] *******************************************************\n"
     ]
    },
    {
     "name": "stdout",
     "output_type": "stream",
     "text": [
      "Epoch: 2, Step: 610, Loss: 0.186603\n",
      "Epoch: 2, Step: 620, Loss: 0.183438\n",
      "Epoch: 2, Step: 630, Loss: 0.180446\n",
      "Epoch: 2, Step: 640, Loss: 0.17826\n",
      "Epoch: 2, Step: 650, Loss: 0.174542\n",
      "Model saved in file: ./save\\model.ckpt\n",
      "Epoch: 3, Step: 300, Loss: 0.174141\n"
     ]
    },
    {
     "name": "stderr",
     "output_type": "stream",
     "text": [
      "W1003 04:22:08.422046 21456 saver.py:1134] *******************************************************\n",
      "W1003 04:22:08.423049 21456 saver.py:1135] TensorFlow's V1 checkpoint format has been deprecated.\n",
      "W1003 04:22:08.424044 21456 saver.py:1136] Consider switching to the more efficient V2 format:\n",
      "W1003 04:22:08.425049 21456 saver.py:1137]    `tf.train.Saver(write_version=tf.train.SaverDef.V2)`\n",
      "W1003 04:22:08.426046 21456 saver.py:1138] now on by default.\n",
      "W1003 04:22:08.427056 21456 saver.py:1139] *******************************************************\n"
     ]
    },
    {
     "name": "stdout",
     "output_type": "stream",
     "text": [
      "Epoch: 3, Step: 310, Loss: 0.171079\n",
      "Epoch: 3, Step: 320, Loss: 0.168757\n",
      "Epoch: 3, Step: 330, Loss: 0.165723\n",
      "Epoch: 3, Step: 340, Loss: 0.163938\n",
      "Epoch: 3, Step: 350, Loss: 0.161163\n",
      "Epoch: 3, Step: 360, Loss: 0.158119\n",
      "Epoch: 3, Step: 370, Loss: 0.155932\n",
      "Epoch: 3, Step: 380, Loss: 0.153744\n",
      "Epoch: 3, Step: 390, Loss: 0.154326\n",
      "Epoch: 3, Step: 400, Loss: 0.210253\n"
     ]
    },
    {
     "name": "stderr",
     "output_type": "stream",
     "text": [
      "W1003 04:24:36.329559 21456 saver.py:1134] *******************************************************\n",
      "W1003 04:24:36.330559 21456 saver.py:1135] TensorFlow's V1 checkpoint format has been deprecated.\n",
      "W1003 04:24:36.331564 21456 saver.py:1136] Consider switching to the more efficient V2 format:\n",
      "W1003 04:24:36.332563 21456 saver.py:1137]    `tf.train.Saver(write_version=tf.train.SaverDef.V2)`\n",
      "W1003 04:24:36.333561 21456 saver.py:1138] now on by default.\n",
      "W1003 04:24:36.334563 21456 saver.py:1139] *******************************************************\n"
     ]
    },
    {
     "name": "stdout",
     "output_type": "stream",
     "text": [
      "Epoch: 3, Step: 410, Loss: 1.68207\n",
      "Epoch: 3, Step: 420, Loss: 4.15333\n",
      "Epoch: 3, Step: 430, Loss: 0.152764\n",
      "Epoch: 3, Step: 440, Loss: 0.144178\n",
      "Epoch: 3, Step: 450, Loss: 0.176188\n",
      "Epoch: 3, Step: 460, Loss: 0.186594\n",
      "Epoch: 3, Step: 470, Loss: 0.183758\n",
      "Epoch: 3, Step: 480, Loss: 0.165362\n",
      "Epoch: 3, Step: 490, Loss: 0.287937\n",
      "Epoch: 3, Step: 500, Loss: 0.145713\n"
     ]
    },
    {
     "name": "stderr",
     "output_type": "stream",
     "text": [
      "W1003 04:27:03.508756 21456 saver.py:1134] *******************************************************\n",
      "W1003 04:27:03.510761 21456 saver.py:1135] TensorFlow's V1 checkpoint format has been deprecated.\n",
      "W1003 04:27:03.511761 21456 saver.py:1136] Consider switching to the more efficient V2 format:\n",
      "W1003 04:27:03.511761 21456 saver.py:1137]    `tf.train.Saver(write_version=tf.train.SaverDef.V2)`\n",
      "W1003 04:27:03.512760 21456 saver.py:1138] now on by default.\n",
      "W1003 04:27:03.515762 21456 saver.py:1139] *******************************************************\n"
     ]
    },
    {
     "name": "stdout",
     "output_type": "stream",
     "text": [
      "Epoch: 3, Step: 510, Loss: 0.141417\n",
      "Epoch: 3, Step: 520, Loss: 0.169561\n",
      "Epoch: 3, Step: 530, Loss: 0.134546\n",
      "Epoch: 3, Step: 540, Loss: 0.138112\n",
      "Epoch: 3, Step: 550, Loss: 0.187893\n",
      "Epoch: 3, Step: 560, Loss: 0.234978\n",
      "Epoch: 3, Step: 570, Loss: 0.187921\n",
      "Epoch: 3, Step: 580, Loss: 0.241617\n",
      "Epoch: 3, Step: 590, Loss: 0.139078\n",
      "Epoch: 3, Step: 600, Loss: 0.149085\n"
     ]
    },
    {
     "name": "stderr",
     "output_type": "stream",
     "text": [
      "W1003 04:29:29.123272 21456 saver.py:1134] *******************************************************\n",
      "W1003 04:29:29.124276 21456 saver.py:1135] TensorFlow's V1 checkpoint format has been deprecated.\n",
      "W1003 04:29:29.124276 21456 saver.py:1136] Consider switching to the more efficient V2 format:\n",
      "W1003 04:29:29.125276 21456 saver.py:1137]    `tf.train.Saver(write_version=tf.train.SaverDef.V2)`\n",
      "W1003 04:29:29.126277 21456 saver.py:1138] now on by default.\n",
      "W1003 04:29:29.127276 21456 saver.py:1139] *******************************************************\n"
     ]
    },
    {
     "name": "stdout",
     "output_type": "stream",
     "text": [
      "Epoch: 3, Step: 610, Loss: 0.132725\n",
      "Epoch: 3, Step: 620, Loss: 0.12795\n",
      "Epoch: 3, Step: 630, Loss: 0.127307\n",
      "Epoch: 3, Step: 640, Loss: 0.12609\n",
      "Epoch: 3, Step: 650, Loss: 0.127182\n",
      "Epoch: 3, Step: 660, Loss: 0.127297\n",
      "Epoch: 3, Step: 670, Loss: 0.141468\n",
      "Epoch: 3, Step: 680, Loss: 0.129698\n",
      "Epoch: 3, Step: 690, Loss: 0.135665\n",
      "Epoch: 3, Step: 700, Loss: 0.102058\n"
     ]
    },
    {
     "name": "stderr",
     "output_type": "stream",
     "text": [
      "W1003 04:31:57.120553 21456 saver.py:1134] *******************************************************\n",
      "W1003 04:31:57.122566 21456 saver.py:1135] TensorFlow's V1 checkpoint format has been deprecated.\n",
      "W1003 04:31:57.123557 21456 saver.py:1136] Consider switching to the more efficient V2 format:\n",
      "W1003 04:31:57.124561 21456 saver.py:1137]    `tf.train.Saver(write_version=tf.train.SaverDef.V2)`\n",
      "W1003 04:31:57.125558 21456 saver.py:1138] now on by default.\n",
      "W1003 04:31:57.126557 21456 saver.py:1139] *******************************************************\n"
     ]
    },
    {
     "name": "stdout",
     "output_type": "stream",
     "text": [
      "Epoch: 3, Step: 710, Loss: 0.137361\n",
      "Epoch: 3, Step: 720, Loss: 0.202005\n",
      "Epoch: 3, Step: 730, Loss: 0.107984\n",
      "Epoch: 3, Step: 740, Loss: 0.625085\n",
      "Epoch: 3, Step: 750, Loss: 0.691569\n",
      "Model saved in file: ./save\\model.ckpt\n"
     ]
    },
    {
     "name": "stderr",
     "output_type": "stream",
     "text": [
      "W1003 04:33:18.442325 21456 saver.py:1134] *******************************************************\n"
     ]
    },
    {
     "name": "stdout",
     "output_type": "stream",
     "text": [
      "Epoch: 4, Step: 400, Loss: 0.287002\n"
     ]
    },
    {
     "name": "stderr",
     "output_type": "stream",
     "text": [
      "W1003 04:33:18.443297 21456 saver.py:1135] TensorFlow's V1 checkpoint format has been deprecated.\n",
      "W1003 04:33:18.444295 21456 saver.py:1136] Consider switching to the more efficient V2 format:\n",
      "W1003 04:33:18.445297 21456 saver.py:1137]    `tf.train.Saver(write_version=tf.train.SaverDef.V2)`\n",
      "W1003 04:33:18.445297 21456 saver.py:1138] now on by default.\n",
      "W1003 04:33:18.446296 21456 saver.py:1139] *******************************************************\n"
     ]
    },
    {
     "name": "stdout",
     "output_type": "stream",
     "text": [
      "Epoch: 4, Step: 410, Loss: 0.133243\n",
      "Epoch: 4, Step: 420, Loss: 0.115786\n",
      "Epoch: 4, Step: 430, Loss: 0.118497\n",
      "Epoch: 4, Step: 440, Loss: 0.304708\n",
      "Epoch: 4, Step: 450, Loss: 1.46104\n",
      "Epoch: 4, Step: 460, Loss: 1.17392\n",
      "Epoch: 4, Step: 470, Loss: 0.133686\n",
      "Epoch: 4, Step: 480, Loss: 0.150221\n",
      "Epoch: 4, Step: 490, Loss: 0.0869728\n",
      "Epoch: 4, Step: 500, Loss: 0.0902987\n"
     ]
    },
    {
     "name": "stderr",
     "output_type": "stream",
     "text": [
      "W1003 04:35:45.810695 21456 saver.py:1134] *******************************************************\n",
      "W1003 04:35:45.811698 21456 saver.py:1135] TensorFlow's V1 checkpoint format has been deprecated.\n",
      "W1003 04:35:45.812698 21456 saver.py:1136] Consider switching to the more efficient V2 format:\n",
      "W1003 04:35:45.813698 21456 saver.py:1137]    `tf.train.Saver(write_version=tf.train.SaverDef.V2)`\n",
      "W1003 04:35:45.814698 21456 saver.py:1138] now on by default.\n",
      "W1003 04:35:45.815700 21456 saver.py:1139] *******************************************************\n"
     ]
    },
    {
     "name": "stdout",
     "output_type": "stream",
     "text": [
      "Epoch: 4, Step: 510, Loss: 0.0891849\n",
      "Epoch: 4, Step: 520, Loss: 0.108799\n",
      "Epoch: 4, Step: 530, Loss: 0.148107\n",
      "Epoch: 4, Step: 540, Loss: 0.0863077\n",
      "Epoch: 4, Step: 550, Loss: 0.0965926\n",
      "Epoch: 4, Step: 560, Loss: 0.200704\n",
      "Epoch: 4, Step: 570, Loss: 0.476226\n",
      "Epoch: 4, Step: 580, Loss: 0.303864\n",
      "Epoch: 4, Step: 590, Loss: 0.0896751\n",
      "Epoch: 4, Step: 600, Loss: 0.0838437\n"
     ]
    },
    {
     "name": "stderr",
     "output_type": "stream",
     "text": [
      "W1003 04:38:15.176453 21456 saver.py:1134] *******************************************************\n",
      "W1003 04:38:15.177456 21456 saver.py:1135] TensorFlow's V1 checkpoint format has been deprecated.\n",
      "W1003 04:38:15.179458 21456 saver.py:1136] Consider switching to the more efficient V2 format:\n",
      "W1003 04:38:15.180459 21456 saver.py:1137]    `tf.train.Saver(write_version=tf.train.SaverDef.V2)`\n",
      "W1003 04:38:15.182461 21456 saver.py:1138] now on by default.\n",
      "W1003 04:38:15.183459 21456 saver.py:1139] *******************************************************\n"
     ]
    },
    {
     "name": "stdout",
     "output_type": "stream",
     "text": [
      "Epoch: 4, Step: 610, Loss: 0.0835063\n",
      "Epoch: 4, Step: 620, Loss: 0.0826136\n",
      "Epoch: 4, Step: 630, Loss: 0.0816568\n",
      "Epoch: 4, Step: 640, Loss: 0.54903\n",
      "Epoch: 4, Step: 650, Loss: 4.97507\n",
      "Epoch: 4, Step: 660, Loss: 0.1104\n",
      "Epoch: 4, Step: 670, Loss: 0.0788947\n",
      "Epoch: 4, Step: 680, Loss: 0.0746513\n",
      "Epoch: 4, Step: 690, Loss: 0.080173\n",
      "Epoch: 4, Step: 700, Loss: 0.0742303\n"
     ]
    },
    {
     "name": "stderr",
     "output_type": "stream",
     "text": [
      "W1003 04:40:49.648218 21456 saver.py:1134] *******************************************************\n",
      "W1003 04:40:49.649219 21456 saver.py:1135] TensorFlow's V1 checkpoint format has been deprecated.\n",
      "W1003 04:40:49.650219 21456 saver.py:1136] Consider switching to the more efficient V2 format:\n",
      "W1003 04:40:49.652225 21456 saver.py:1137]    `tf.train.Saver(write_version=tf.train.SaverDef.V2)`\n",
      "W1003 04:40:49.653228 21456 saver.py:1138] now on by default.\n",
      "W1003 04:40:49.657225 21456 saver.py:1139] *******************************************************\n"
     ]
    },
    {
     "name": "stdout",
     "output_type": "stream",
     "text": [
      "Epoch: 4, Step: 710, Loss: 0.0713484\n",
      "Epoch: 4, Step: 720, Loss: 0.0635666\n",
      "Epoch: 4, Step: 730, Loss: 0.0632871\n",
      "Epoch: 4, Step: 740, Loss: 0.0624166\n",
      "Epoch: 4, Step: 750, Loss: 0.0612053\n",
      "Epoch: 4, Step: 760, Loss: 0.0630548\n",
      "Epoch: 4, Step: 770, Loss: 0.0972192\n",
      "Epoch: 4, Step: 780, Loss: 0.097315\n",
      "Epoch: 4, Step: 790, Loss: 0.07205\n",
      "Epoch: 4, Step: 800, Loss: 0.0586615\n"
     ]
    },
    {
     "name": "stderr",
     "output_type": "stream",
     "text": [
      "W1003 04:43:24.782317 21456 saver.py:1134] *******************************************************\n",
      "W1003 04:43:24.783319 21456 saver.py:1135] TensorFlow's V1 checkpoint format has been deprecated.\n",
      "W1003 04:43:24.784325 21456 saver.py:1136] Consider switching to the more efficient V2 format:\n",
      "W1003 04:43:24.785326 21456 saver.py:1137]    `tf.train.Saver(write_version=tf.train.SaverDef.V2)`\n",
      "W1003 04:43:24.786318 21456 saver.py:1138] now on by default.\n",
      "W1003 04:43:24.787327 21456 saver.py:1139] *******************************************************\n"
     ]
    },
    {
     "name": "stdout",
     "output_type": "stream",
     "text": [
      "Epoch: 4, Step: 810, Loss: 0.0578361\n",
      "Epoch: 4, Step: 820, Loss: 0.0587628\n",
      "Epoch: 4, Step: 830, Loss: 0.0574057\n",
      "Epoch: 4, Step: 840, Loss: 0.0568695\n",
      "Epoch: 4, Step: 850, Loss: 0.0575547\n",
      "Model saved in file: ./save\\model.ckpt\n",
      "Epoch: 5, Step: 500, Loss: 0.0556047\n"
     ]
    },
    {
     "name": "stderr",
     "output_type": "stream",
     "text": [
      "W1003 04:44:46.964546 21456 saver.py:1134] *******************************************************\n",
      "W1003 04:44:46.966546 21456 saver.py:1135] TensorFlow's V1 checkpoint format has been deprecated.\n",
      "W1003 04:44:46.967549 21456 saver.py:1136] Consider switching to the more efficient V2 format:\n",
      "W1003 04:44:46.968547 21456 saver.py:1137]    `tf.train.Saver(write_version=tf.train.SaverDef.V2)`\n",
      "W1003 04:44:46.969548 21456 saver.py:1138] now on by default.\n",
      "W1003 04:44:46.971553 21456 saver.py:1139] *******************************************************\n"
     ]
    },
    {
     "name": "stdout",
     "output_type": "stream",
     "text": [
      "Epoch: 5, Step: 510, Loss: 0.0570267\n",
      "Epoch: 5, Step: 520, Loss: 0.0551645\n",
      "Epoch: 5, Step: 530, Loss: 0.0541474\n",
      "Epoch: 5, Step: 540, Loss: 0.0534499\n",
      "Epoch: 5, Step: 550, Loss: 0.0531453\n",
      "Epoch: 5, Step: 560, Loss: 0.0511303\n",
      "Epoch: 5, Step: 570, Loss: 0.051026\n",
      "Epoch: 5, Step: 580, Loss: 0.0578937\n",
      "Epoch: 5, Step: 590, Loss: 0.107163\n",
      "Epoch: 5, Step: 600, Loss: 2.71625\n"
     ]
    },
    {
     "name": "stderr",
     "output_type": "stream",
     "text": [
      "W1003 04:47:16.917308 21456 saver.py:1134] *******************************************************\n",
      "W1003 04:47:16.918312 21456 saver.py:1135] TensorFlow's V1 checkpoint format has been deprecated.\n",
      "W1003 04:47:16.921304 21456 saver.py:1136] Consider switching to the more efficient V2 format:\n",
      "W1003 04:47:16.922306 21456 saver.py:1137]    `tf.train.Saver(write_version=tf.train.SaverDef.V2)`\n",
      "W1003 04:47:16.924307 21456 saver.py:1138] now on by default.\n",
      "W1003 04:47:16.925307 21456 saver.py:1139] *******************************************************\n"
     ]
    },
    {
     "name": "stdout",
     "output_type": "stream",
     "text": [
      "Epoch: 5, Step: 610, Loss: 2.82991\n",
      "Epoch: 5, Step: 620, Loss: 0.0495213\n",
      "Epoch: 5, Step: 630, Loss: 0.0475309\n",
      "Epoch: 5, Step: 640, Loss: 0.107881\n",
      "Epoch: 5, Step: 650, Loss: 0.11522\n",
      "Epoch: 5, Step: 660, Loss: 0.099213\n",
      "Epoch: 5, Step: 670, Loss: 0.0908929\n",
      "Epoch: 5, Step: 680, Loss: 0.144781\n",
      "Epoch: 5, Step: 690, Loss: 0.0478707\n",
      "Epoch: 5, Step: 700, Loss: 0.0680358\n"
     ]
    },
    {
     "name": "stderr",
     "output_type": "stream",
     "text": [
      "W1003 04:49:48.413913 21456 saver.py:1134] *******************************************************\n",
      "W1003 04:49:48.414911 21456 saver.py:1135] TensorFlow's V1 checkpoint format has been deprecated.\n",
      "W1003 04:49:48.415910 21456 saver.py:1136] Consider switching to the more efficient V2 format:\n",
      "W1003 04:49:48.416906 21456 saver.py:1137]    `tf.train.Saver(write_version=tf.train.SaverDef.V2)`\n",
      "W1003 04:49:48.417907 21456 saver.py:1138] now on by default.\n",
      "W1003 04:49:48.418909 21456 saver.py:1139] *******************************************************\n"
     ]
    },
    {
     "name": "stdout",
     "output_type": "stream",
     "text": [
      "Epoch: 5, Step: 710, Loss: 0.0645116\n",
      "Epoch: 5, Step: 720, Loss: 0.0593381\n",
      "Epoch: 5, Step: 730, Loss: 0.049799\n",
      "Epoch: 5, Step: 740, Loss: 0.147782\n",
      "Epoch: 5, Step: 750, Loss: 0.142525\n",
      "Epoch: 5, Step: 760, Loss: 0.121662\n",
      "Epoch: 5, Step: 770, Loss: 0.15513\n",
      "Epoch: 5, Step: 780, Loss: 0.0584188\n",
      "Epoch: 5, Step: 790, Loss: 0.0666506\n",
      "Epoch: 5, Step: 800, Loss: 0.0558477\n"
     ]
    },
    {
     "name": "stderr",
     "output_type": "stream",
     "text": [
      "W1003 04:52:20.276068 21456 saver.py:1134] *******************************************************\n",
      "W1003 04:52:20.277069 21456 saver.py:1135] TensorFlow's V1 checkpoint format has been deprecated.\n",
      "W1003 04:52:20.278069 21456 saver.py:1136] Consider switching to the more efficient V2 format:\n",
      "W1003 04:52:20.280075 21456 saver.py:1137]    `tf.train.Saver(write_version=tf.train.SaverDef.V2)`\n",
      "W1003 04:52:20.282072 21456 saver.py:1138] now on by default.\n",
      "W1003 04:52:20.284073 21456 saver.py:1139] *******************************************************\n"
     ]
    },
    {
     "name": "stdout",
     "output_type": "stream",
     "text": [
      "Epoch: 5, Step: 810, Loss: 0.052873\n",
      "Epoch: 5, Step: 820, Loss: 0.050768\n",
      "Epoch: 5, Step: 830, Loss: 0.0489176\n",
      "Epoch: 5, Step: 840, Loss: 0.0493426\n",
      "Epoch: 5, Step: 850, Loss: 0.0473982\n",
      "Epoch: 5, Step: 860, Loss: 0.0583152\n",
      "Epoch: 5, Step: 870, Loss: 0.0532637\n",
      "Epoch: 5, Step: 880, Loss: 0.0529967\n",
      "Epoch: 5, Step: 890, Loss: 0.0407803\n",
      "Epoch: 5, Step: 900, Loss: 0.0695209\n"
     ]
    },
    {
     "name": "stderr",
     "output_type": "stream",
     "text": [
      "W1003 04:54:51.318691 21456 saver.py:1134] *******************************************************\n",
      "W1003 04:54:51.320687 21456 saver.py:1135] TensorFlow's V1 checkpoint format has been deprecated.\n",
      "W1003 04:54:51.320687 21456 saver.py:1136] Consider switching to the more efficient V2 format:\n",
      "W1003 04:54:51.323693 21456 saver.py:1137]    `tf.train.Saver(write_version=tf.train.SaverDef.V2)`\n",
      "W1003 04:54:51.324689 21456 saver.py:1138] now on by default.\n",
      "W1003 04:54:51.325694 21456 saver.py:1139] *******************************************************\n"
     ]
    },
    {
     "name": "stdout",
     "output_type": "stream",
     "text": [
      "Epoch: 5, Step: 910, Loss: 0.107567\n",
      "Epoch: 5, Step: 920, Loss: 0.0744469\n",
      "Epoch: 5, Step: 930, Loss: 0.600864\n",
      "Epoch: 5, Step: 940, Loss: 0.547615\n",
      "Epoch: 5, Step: 950, Loss: 0.178195\n",
      "Model saved in file: ./save\\model.ckpt\n",
      "Epoch: 6, Step: 600, Loss: 0.0745622\n"
     ]
    },
    {
     "name": "stderr",
     "output_type": "stream",
     "text": [
      "W1003 04:56:13.270381 21456 saver.py:1134] *******************************************************\n",
      "W1003 04:56:13.271378 21456 saver.py:1135] TensorFlow's V1 checkpoint format has been deprecated.\n",
      "W1003 04:56:13.272378 21456 saver.py:1136] Consider switching to the more efficient V2 format:\n",
      "W1003 04:56:13.273383 21456 saver.py:1137]    `tf.train.Saver(write_version=tf.train.SaverDef.V2)`\n",
      "W1003 04:56:13.275380 21456 saver.py:1138] now on by default.\n",
      "W1003 04:56:13.276381 21456 saver.py:1139] *******************************************************\n"
     ]
    },
    {
     "name": "stdout",
     "output_type": "stream",
     "text": [
      "Epoch: 6, Step: 610, Loss: 0.0539334\n",
      "Epoch: 6, Step: 620, Loss: 0.0785314\n",
      "Epoch: 6, Step: 630, Loss: 0.385455\n",
      "Epoch: 6, Step: 640, Loss: 1.46118\n",
      "Epoch: 6, Step: 650, Loss: 0.75388\n",
      "Epoch: 6, Step: 660, Loss: 0.122467\n",
      "Epoch: 6, Step: 670, Loss: 0.0689226\n",
      "Epoch: 6, Step: 680, Loss: 0.0349418\n",
      "Epoch: 6, Step: 690, Loss: 0.0302692\n",
      "Epoch: 6, Step: 700, Loss: 0.0395032\n"
     ]
    },
    {
     "name": "stderr",
     "output_type": "stream",
     "text": [
      "W1003 04:58:44.460276 21456 saver.py:1134] *******************************************************\n",
      "W1003 04:58:44.462283 21456 saver.py:1135] TensorFlow's V1 checkpoint format has been deprecated.\n",
      "W1003 04:58:44.464276 21456 saver.py:1136] Consider switching to the more efficient V2 format:\n",
      "W1003 04:58:44.465280 21456 saver.py:1137]    `tf.train.Saver(write_version=tf.train.SaverDef.V2)`\n",
      "W1003 04:58:44.467280 21456 saver.py:1138] now on by default.\n",
      "W1003 04:58:44.468282 21456 saver.py:1139] *******************************************************\n"
     ]
    },
    {
     "name": "stdout",
     "output_type": "stream",
     "text": [
      "Epoch: 6, Step: 710, Loss: 0.0541992\n",
      "Epoch: 6, Step: 720, Loss: 0.080469\n",
      "Epoch: 6, Step: 730, Loss: 0.0296231\n",
      "Epoch: 6, Step: 740, Loss: 0.0895341\n",
      "Epoch: 6, Step: 750, Loss: 0.151647\n",
      "Epoch: 6, Step: 760, Loss: 0.429808\n",
      "Epoch: 6, Step: 770, Loss: 0.258141\n",
      "Epoch: 6, Step: 780, Loss: 0.0474925\n",
      "Epoch: 6, Step: 790, Loss: 0.0416979\n",
      "Epoch: 6, Step: 800, Loss: 0.0371617\n"
     ]
    },
    {
     "name": "stderr",
     "output_type": "stream",
     "text": [
      "W1003 05:01:17.001024 21456 saver.py:1134] *******************************************************\n",
      "W1003 05:01:17.002022 21456 saver.py:1135] TensorFlow's V1 checkpoint format has been deprecated.\n",
      "W1003 05:01:17.003026 21456 saver.py:1136] Consider switching to the more efficient V2 format:\n",
      "W1003 05:01:17.005027 21456 saver.py:1137]    `tf.train.Saver(write_version=tf.train.SaverDef.V2)`\n",
      "W1003 05:01:17.006029 21456 saver.py:1138] now on by default.\n",
      "W1003 05:01:17.007030 21456 saver.py:1139] *******************************************************\n"
     ]
    },
    {
     "name": "stdout",
     "output_type": "stream",
     "text": [
      "Epoch: 6, Step: 810, Loss: 0.0357018\n",
      "Epoch: 6, Step: 820, Loss: 0.0382926\n",
      "Epoch: 6, Step: 830, Loss: 1.56621\n",
      "Epoch: 6, Step: 840, Loss: 4.04742\n",
      "Epoch: 6, Step: 850, Loss: 0.0388175\n",
      "Epoch: 6, Step: 860, Loss: 0.0281757\n",
      "Epoch: 6, Step: 870, Loss: 0.0273641\n",
      "Epoch: 6, Step: 880, Loss: 0.0307857\n",
      "Epoch: 6, Step: 890, Loss: 0.0281595\n",
      "Epoch: 6, Step: 900, Loss: 0.0287437\n"
     ]
    },
    {
     "name": "stderr",
     "output_type": "stream",
     "text": [
      "W1003 05:03:47.993884 21456 saver.py:1134] *******************************************************\n",
      "W1003 05:03:47.994886 21456 saver.py:1135] TensorFlow's V1 checkpoint format has been deprecated.\n",
      "W1003 05:03:47.996881 21456 saver.py:1136] Consider switching to the more efficient V2 format:\n",
      "W1003 05:03:47.997886 21456 saver.py:1137]    `tf.train.Saver(write_version=tf.train.SaverDef.V2)`\n",
      "W1003 05:03:47.998882 21456 saver.py:1138] now on by default.\n",
      "W1003 05:03:47.999885 21456 saver.py:1139] *******************************************************\n"
     ]
    },
    {
     "name": "stdout",
     "output_type": "stream",
     "text": [
      "Epoch: 6, Step: 910, Loss: 0.0272628\n",
      "Epoch: 6, Step: 920, Loss: 0.0270112\n",
      "Epoch: 6, Step: 930, Loss: 0.027237\n",
      "Epoch: 6, Step: 940, Loss: 0.0236531\n",
      "Epoch: 6, Step: 950, Loss: 0.0284163\n",
      "Epoch: 6, Step: 960, Loss: 0.06251\n",
      "Epoch: 6, Step: 970, Loss: 0.0614877\n",
      "Epoch: 6, Step: 980, Loss: 0.0303477\n",
      "Epoch: 6, Step: 990, Loss: 0.0219312\n",
      "Epoch: 6, Step: 1000, Loss: 0.0222279\n"
     ]
    },
    {
     "name": "stderr",
     "output_type": "stream",
     "text": [
      "W1003 05:06:18.410389 21456 saver.py:1134] *******************************************************\n",
      "W1003 05:06:18.412394 21456 saver.py:1135] TensorFlow's V1 checkpoint format has been deprecated.\n",
      "W1003 05:06:18.413394 21456 saver.py:1136] Consider switching to the more efficient V2 format:\n",
      "W1003 05:06:18.413394 21456 saver.py:1137]    `tf.train.Saver(write_version=tf.train.SaverDef.V2)`\n",
      "W1003 05:06:18.416394 21456 saver.py:1138] now on by default.\n",
      "W1003 05:06:18.417406 21456 saver.py:1139] *******************************************************\n"
     ]
    },
    {
     "name": "stdout",
     "output_type": "stream",
     "text": [
      "Epoch: 6, Step: 1010, Loss: 0.0222808\n",
      "Epoch: 6, Step: 1020, Loss: 0.021246\n",
      "Epoch: 6, Step: 1030, Loss: 0.0217945\n",
      "Epoch: 6, Step: 1040, Loss: 0.0211299\n",
      "Epoch: 6, Step: 1050, Loss: 0.0201578\n",
      "Model saved in file: ./save\\model.ckpt\n",
      "Epoch: 7, Step: 700, Loss: 0.0210737\n"
     ]
    },
    {
     "name": "stderr",
     "output_type": "stream",
     "text": [
      "W1003 05:07:41.350675 21456 saver.py:1134] *******************************************************\n",
      "W1003 05:07:41.351686 21456 saver.py:1135] TensorFlow's V1 checkpoint format has been deprecated.\n",
      "W1003 05:07:41.352683 21456 saver.py:1136] Consider switching to the more efficient V2 format:\n",
      "W1003 05:07:41.353678 21456 saver.py:1137]    `tf.train.Saver(write_version=tf.train.SaverDef.V2)`\n",
      "W1003 05:07:41.354678 21456 saver.py:1138] now on by default.\n",
      "W1003 05:07:41.358676 21456 saver.py:1139] *******************************************************\n"
     ]
    },
    {
     "name": "stdout",
     "output_type": "stream",
     "text": [
      "Epoch: 7, Step: 710, Loss: 0.0205239\n",
      "Epoch: 7, Step: 720, Loss: 0.0202741\n",
      "Epoch: 7, Step: 730, Loss: 0.0200512\n",
      "Epoch: 7, Step: 740, Loss: 0.0194308\n",
      "Epoch: 7, Step: 750, Loss: 0.019252\n",
      "Epoch: 7, Step: 760, Loss: 0.0190433\n",
      "Epoch: 7, Step: 770, Loss: 0.0442839\n",
      "Epoch: 7, Step: 780, Loss: 0.0582178\n",
      "Epoch: 7, Step: 790, Loss: 3.70875\n",
      "Epoch: 7, Step: 800, Loss: 1.71628\n"
     ]
    },
    {
     "name": "stderr",
     "output_type": "stream",
     "text": [
      "W1003 05:10:14.886621 21456 saver.py:1134] *******************************************************\n",
      "W1003 05:10:14.887618 21456 saver.py:1135] TensorFlow's V1 checkpoint format has been deprecated.\n",
      "W1003 05:10:14.890621 21456 saver.py:1136] Consider switching to the more efficient V2 format:\n",
      "W1003 05:10:14.892624 21456 saver.py:1137]    `tf.train.Saver(write_version=tf.train.SaverDef.V2)`\n",
      "W1003 05:10:14.893624 21456 saver.py:1138] now on by default.\n",
      "W1003 05:10:14.895623 21456 saver.py:1139] *******************************************************\n"
     ]
    },
    {
     "name": "stdout",
     "output_type": "stream",
     "text": [
      "Epoch: 7, Step: 810, Loss: 0.020207\n",
      "Epoch: 7, Step: 820, Loss: 0.025707\n",
      "Epoch: 7, Step: 830, Loss: 0.0772076\n",
      "Epoch: 7, Step: 840, Loss: 0.0880841\n",
      "Epoch: 7, Step: 850, Loss: 0.0380002\n",
      "Epoch: 7, Step: 860, Loss: 0.0988718\n",
      "Epoch: 7, Step: 870, Loss: 0.12613\n",
      "Epoch: 7, Step: 880, Loss: 0.0189873\n",
      "Epoch: 7, Step: 890, Loss: 0.0644035\n",
      "Epoch: 7, Step: 900, Loss: 0.0337536\n"
     ]
    },
    {
     "name": "stderr",
     "output_type": "stream",
     "text": [
      "W1003 05:12:50.630355 21456 saver.py:1134] *******************************************************\n",
      "W1003 05:12:50.631354 21456 saver.py:1135] TensorFlow's V1 checkpoint format has been deprecated.\n",
      "W1003 05:12:50.631354 21456 saver.py:1136] Consider switching to the more efficient V2 format:\n",
      "W1003 05:12:50.633354 21456 saver.py:1137]    `tf.train.Saver(write_version=tf.train.SaverDef.V2)`\n",
      "W1003 05:12:50.634356 21456 saver.py:1138] now on by default.\n",
      "W1003 05:12:50.635355 21456 saver.py:1139] *******************************************************\n"
     ]
    },
    {
     "name": "stdout",
     "output_type": "stream",
     "text": [
      "Epoch: 7, Step: 910, Loss: 0.0324297\n",
      "Epoch: 7, Step: 920, Loss: 0.0222415\n",
      "Epoch: 7, Step: 930, Loss: 0.133101\n",
      "Epoch: 7, Step: 940, Loss: 0.0724179\n",
      "Epoch: 7, Step: 950, Loss: 0.136008\n",
      "Epoch: 7, Step: 960, Loss: 0.115787\n",
      "Epoch: 7, Step: 970, Loss: 0.0425797\n",
      "Epoch: 7, Step: 980, Loss: 0.0360659\n",
      "Epoch: 7, Step: 990, Loss: 0.0352852\n",
      "Epoch: 7, Step: 1000, Loss: 0.0334589\n"
     ]
    },
    {
     "name": "stderr",
     "output_type": "stream",
     "text": [
      "W1003 05:15:20.306637 21456 saver.py:1134] *******************************************************\n",
      "W1003 05:15:20.307640 21456 saver.py:1135] TensorFlow's V1 checkpoint format has been deprecated.\n",
      "W1003 05:15:20.308636 21456 saver.py:1136] Consider switching to the more efficient V2 format:\n",
      "W1003 05:15:20.309636 21456 saver.py:1137]    `tf.train.Saver(write_version=tf.train.SaverDef.V2)`\n",
      "W1003 05:15:20.310637 21456 saver.py:1138] now on by default.\n",
      "W1003 05:15:20.311638 21456 saver.py:1139] *******************************************************\n"
     ]
    },
    {
     "name": "stdout",
     "output_type": "stream",
     "text": [
      "Epoch: 7, Step: 1010, Loss: 0.0335691\n",
      "Epoch: 7, Step: 1020, Loss: 0.0332558\n",
      "Epoch: 7, Step: 1030, Loss: 0.0335875\n",
      "Epoch: 7, Step: 1040, Loss: 0.0324043\n",
      "Epoch: 7, Step: 1050, Loss: 0.0497306\n",
      "Epoch: 7, Step: 1060, Loss: 0.0473995\n",
      "Epoch: 7, Step: 1070, Loss: 0.0398019\n",
      "Epoch: 7, Step: 1080, Loss: 0.0250118\n",
      "Epoch: 7, Step: 1090, Loss: 0.0785576\n",
      "Epoch: 7, Step: 1100, Loss: 0.0812539\n"
     ]
    },
    {
     "name": "stderr",
     "output_type": "stream",
     "text": [
      "W1003 05:17:51.589098 21456 saver.py:1134] *******************************************************\n",
      "W1003 05:17:51.590098 21456 saver.py:1135] TensorFlow's V1 checkpoint format has been deprecated.\n",
      "W1003 05:17:51.591094 21456 saver.py:1136] Consider switching to the more efficient V2 format:\n",
      "W1003 05:17:51.592094 21456 saver.py:1137]    `tf.train.Saver(write_version=tf.train.SaverDef.V2)`\n",
      "W1003 05:17:51.593093 21456 saver.py:1138] now on by default.\n",
      "W1003 05:17:51.596096 21456 saver.py:1139] *******************************************************\n"
     ]
    },
    {
     "name": "stdout",
     "output_type": "stream",
     "text": [
      "Epoch: 7, Step: 1110, Loss: 0.180593\n",
      "Epoch: 7, Step: 1120, Loss: 0.641513\n",
      "Epoch: 7, Step: 1130, Loss: 0.442802\n",
      "Epoch: 7, Step: 1140, Loss: 0.145321\n",
      "Epoch: 7, Step: 1150, Loss: 0.063808\n",
      "Model saved in file: ./save\\model.ckpt\n",
      "Epoch: 8, Step: 800, Loss: 0.0277172\n"
     ]
    },
    {
     "name": "stderr",
     "output_type": "stream",
     "text": [
      "W1003 05:19:14.302152 21456 saver.py:1134] *******************************************************\n",
      "W1003 05:19:14.303155 21456 saver.py:1135] TensorFlow's V1 checkpoint format has been deprecated.\n",
      "W1003 05:19:14.304156 21456 saver.py:1136] Consider switching to the more efficient V2 format:\n",
      "W1003 05:19:14.305150 21456 saver.py:1137]    `tf.train.Saver(write_version=tf.train.SaverDef.V2)`\n",
      "W1003 05:19:14.306151 21456 saver.py:1138] now on by default.\n",
      "W1003 05:19:14.307151 21456 saver.py:1139] *******************************************************\n"
     ]
    },
    {
     "name": "stdout",
     "output_type": "stream",
     "text": [
      "Epoch: 8, Step: 810, Loss: 0.0794189\n",
      "Epoch: 8, Step: 820, Loss: 0.582892\n",
      "Epoch: 8, Step: 830, Loss: 1.48596\n",
      "Epoch: 8, Step: 840, Loss: 0.503896\n",
      "Epoch: 8, Step: 850, Loss: 0.115912\n",
      "Epoch: 8, Step: 860, Loss: 0.0206523\n",
      "Epoch: 8, Step: 870, Loss: 0.0196813\n",
      "Epoch: 8, Step: 880, Loss: 0.0160305\n",
      "Epoch: 8, Step: 890, Loss: 0.0212845\n",
      "Epoch: 8, Step: 900, Loss: 0.05807\n"
     ]
    },
    {
     "name": "stderr",
     "output_type": "stream",
     "text": [
      "W1003 05:21:45.017957 21456 saver.py:1134] *******************************************************\n",
      "W1003 05:21:45.018966 21456 saver.py:1135] TensorFlow's V1 checkpoint format has been deprecated.\n",
      "W1003 05:21:45.019957 21456 saver.py:1136] Consider switching to the more efficient V2 format:\n",
      "W1003 05:21:45.020958 21456 saver.py:1137]    `tf.train.Saver(write_version=tf.train.SaverDef.V2)`\n",
      "W1003 05:21:45.021966 21456 saver.py:1138] now on by default.\n",
      "W1003 05:21:45.023962 21456 saver.py:1139] *******************************************************\n"
     ]
    },
    {
     "name": "stdout",
     "output_type": "stream",
     "text": [
      "Epoch: 8, Step: 910, Loss: 0.0719558\n",
      "Epoch: 8, Step: 920, Loss: 0.0162149\n",
      "Epoch: 8, Step: 930, Loss: 0.0962251\n",
      "Epoch: 8, Step: 940, Loss: 0.265274\n",
      "Epoch: 8, Step: 950, Loss: 0.231324\n",
      "Epoch: 8, Step: 960, Loss: 0.211204\n",
      "Epoch: 8, Step: 970, Loss: 0.0222832\n",
      "Epoch: 8, Step: 980, Loss: 0.0226275\n",
      "Epoch: 8, Step: 990, Loss: 0.0221691\n",
      "Epoch: 8, Step: 1000, Loss: 0.0219074\n"
     ]
    },
    {
     "name": "stderr",
     "output_type": "stream",
     "text": [
      "W1003 05:24:14.711701 21456 saver.py:1134] *******************************************************\n",
      "W1003 05:24:14.712703 21456 saver.py:1135] TensorFlow's V1 checkpoint format has been deprecated.\n",
      "W1003 05:24:14.713700 21456 saver.py:1136] Consider switching to the more efficient V2 format:\n",
      "W1003 05:24:14.715702 21456 saver.py:1137]    `tf.train.Saver(write_version=tf.train.SaverDef.V2)`\n",
      "W1003 05:24:14.716705 21456 saver.py:1138] now on by default.\n",
      "W1003 05:24:14.717703 21456 saver.py:1139] *******************************************************\n"
     ]
    },
    {
     "name": "stdout",
     "output_type": "stream",
     "text": [
      "Epoch: 8, Step: 1010, Loss: 0.0302691\n",
      "Epoch: 8, Step: 1020, Loss: 2.8925\n",
      "Epoch: 8, Step: 1030, Loss: 2.55326\n",
      "Epoch: 8, Step: 1040, Loss: 0.0245447\n",
      "Epoch: 8, Step: 1050, Loss: 0.0151953\n",
      "Epoch: 8, Step: 1060, Loss: 0.0169969\n",
      "Epoch: 8, Step: 1070, Loss: 0.0283707\n",
      "Epoch: 8, Step: 1080, Loss: 0.0147081\n",
      "Epoch: 8, Step: 1090, Loss: 0.014706\n",
      "Epoch: 8, Step: 1100, Loss: 0.010001\n"
     ]
    },
    {
     "name": "stderr",
     "output_type": "stream",
     "text": [
      "W1003 05:26:45.175490 21456 saver.py:1134] *******************************************************\n",
      "W1003 05:26:45.176490 21456 saver.py:1135] TensorFlow's V1 checkpoint format has been deprecated.\n",
      "W1003 05:26:45.177490 21456 saver.py:1136] Consider switching to the more efficient V2 format:\n",
      "W1003 05:26:45.178490 21456 saver.py:1137]    `tf.train.Saver(write_version=tf.train.SaverDef.V2)`\n",
      "W1003 05:26:45.179493 21456 saver.py:1138] now on by default.\n",
      "W1003 05:26:45.180490 21456 saver.py:1139] *******************************************************\n"
     ]
    },
    {
     "name": "stdout",
     "output_type": "stream",
     "text": [
      "Epoch: 8, Step: 1110, Loss: 0.0100786\n",
      "Epoch: 8, Step: 1120, Loss: 0.0107862\n",
      "Epoch: 8, Step: 1130, Loss: 0.00889861\n",
      "Epoch: 8, Step: 1140, Loss: 0.0200353\n",
      "Epoch: 8, Step: 1150, Loss: 0.059478\n",
      "Epoch: 8, Step: 1160, Loss: 0.051662\n",
      "Epoch: 8, Step: 1170, Loss: 0.00898514\n",
      "Epoch: 8, Step: 1180, Loss: 0.00880121\n",
      "Epoch: 8, Step: 1190, Loss: 0.00950445\n",
      "Epoch: 8, Step: 1200, Loss: 0.00943482\n"
     ]
    },
    {
     "name": "stderr",
     "output_type": "stream",
     "text": [
      "W1003 05:29:18.604661 21456 saver.py:1134] *******************************************************\n",
      "W1003 05:29:18.605666 21456 saver.py:1135] TensorFlow's V1 checkpoint format has been deprecated.\n",
      "W1003 05:29:18.606663 21456 saver.py:1136] Consider switching to the more efficient V2 format:\n",
      "W1003 05:29:18.607660 21456 saver.py:1137]    `tf.train.Saver(write_version=tf.train.SaverDef.V2)`\n",
      "W1003 05:29:18.608662 21456 saver.py:1138] now on by default.\n",
      "W1003 05:29:18.610674 21456 saver.py:1139] *******************************************************\n"
     ]
    },
    {
     "name": "stdout",
     "output_type": "stream",
     "text": [
      "Epoch: 8, Step: 1210, Loss: 0.00907534\n",
      "Epoch: 8, Step: 1220, Loss: 0.0119744\n",
      "Epoch: 8, Step: 1230, Loss: 0.00799642\n",
      "Epoch: 8, Step: 1240, Loss: 0.00917169\n",
      "Epoch: 8, Step: 1250, Loss: 0.0124411\n",
      "Model saved in file: ./save\\model.ckpt\n",
      "Epoch: 9, Step: 900, Loss: 0.00983067\n"
     ]
    },
    {
     "name": "stderr",
     "output_type": "stream",
     "text": [
      "W1003 05:30:40.687201 21456 saver.py:1134] *******************************************************\n",
      "W1003 05:30:40.688211 21456 saver.py:1135] TensorFlow's V1 checkpoint format has been deprecated.\n",
      "W1003 05:30:40.689209 21456 saver.py:1136] Consider switching to the more efficient V2 format:\n",
      "W1003 05:30:40.690207 21456 saver.py:1137]    `tf.train.Saver(write_version=tf.train.SaverDef.V2)`\n",
      "W1003 05:30:40.691205 21456 saver.py:1138] now on by default.\n",
      "W1003 05:30:40.694206 21456 saver.py:1139] *******************************************************\n"
     ]
    },
    {
     "name": "stdout",
     "output_type": "stream",
     "text": [
      "Epoch: 9, Step: 910, Loss: 0.0112838\n",
      "Epoch: 9, Step: 920, Loss: 0.00925609\n",
      "Epoch: 9, Step: 930, Loss: 0.00889738\n",
      "Epoch: 9, Step: 940, Loss: 0.00915265\n",
      "Epoch: 9, Step: 950, Loss: 0.00991586\n",
      "Epoch: 9, Step: 960, Loss: 0.0443414\n",
      "Epoch: 9, Step: 970, Loss: 0.039663\n",
      "Epoch: 9, Step: 980, Loss: 5.0067\n",
      "Epoch: 9, Step: 990, Loss: 0.463798\n",
      "Epoch: 9, Step: 1000, Loss: 0.00828763\n"
     ]
    },
    {
     "name": "stderr",
     "output_type": "stream",
     "text": [
      "W1003 05:33:10.895250 21456 saver.py:1134] *******************************************************\n",
      "W1003 05:33:10.896249 21456 saver.py:1135] TensorFlow's V1 checkpoint format has been deprecated.\n",
      "W1003 05:33:10.898252 21456 saver.py:1136] Consider switching to the more efficient V2 format:\n",
      "W1003 05:33:10.899252 21456 saver.py:1137]    `tf.train.Saver(write_version=tf.train.SaverDef.V2)`\n",
      "W1003 05:33:10.900252 21456 saver.py:1138] now on by default.\n",
      "W1003 05:33:10.901252 21456 saver.py:1139] *******************************************************\n"
     ]
    },
    {
     "name": "stdout",
     "output_type": "stream",
     "text": [
      "Epoch: 9, Step: 1010, Loss: 0.0285031\n",
      "Epoch: 9, Step: 1020, Loss: 0.0772465\n",
      "Epoch: 9, Step: 1030, Loss: 0.0874699\n",
      "Epoch: 9, Step: 1040, Loss: 0.0175704\n",
      "Epoch: 9, Step: 1050, Loss: 0.096558\n",
      "Epoch: 9, Step: 1060, Loss: 0.077307\n",
      "Epoch: 9, Step: 1070, Loss: 0.00844402\n",
      "Epoch: 9, Step: 1080, Loss: 0.0488866\n",
      "Epoch: 9, Step: 1090, Loss: 0.0218937\n",
      "Epoch: 9, Step: 1100, Loss: 0.0187849\n"
     ]
    },
    {
     "name": "stderr",
     "output_type": "stream",
     "text": [
      "W1003 05:35:41.466047 21456 saver.py:1134] *******************************************************\n",
      "W1003 05:35:41.467055 21456 saver.py:1135] TensorFlow's V1 checkpoint format has been deprecated.\n",
      "W1003 05:35:41.468055 21456 saver.py:1136] Consider switching to the more efficient V2 format:\n",
      "W1003 05:35:41.469053 21456 saver.py:1137]    `tf.train.Saver(write_version=tf.train.SaverDef.V2)`\n",
      "W1003 05:35:41.470052 21456 saver.py:1138] now on by default.\n",
      "W1003 05:35:41.471049 21456 saver.py:1139] *******************************************************\n"
     ]
    },
    {
     "name": "stdout",
     "output_type": "stream",
     "text": [
      "Epoch: 9, Step: 1110, Loss: 0.0157608\n",
      "Epoch: 9, Step: 1120, Loss: 0.174361\n",
      "Epoch: 9, Step: 1130, Loss: 0.0445331\n",
      "Epoch: 9, Step: 1140, Loss: 0.125651\n",
      "Epoch: 9, Step: 1150, Loss: 0.0714535\n",
      "Epoch: 9, Step: 1160, Loss: 0.043951\n",
      "Epoch: 9, Step: 1170, Loss: 0.029257\n",
      "Epoch: 9, Step: 1180, Loss: 0.0292461\n",
      "Epoch: 9, Step: 1190, Loss: 0.0236264\n",
      "Epoch: 9, Step: 1200, Loss: 0.0220224\n"
     ]
    },
    {
     "name": "stderr",
     "output_type": "stream",
     "text": [
      "W1003 05:38:16.509888 21456 saver.py:1134] *******************************************************\n",
      "W1003 05:38:16.510893 21456 saver.py:1135] TensorFlow's V1 checkpoint format has been deprecated.\n",
      "W1003 05:38:16.512898 21456 saver.py:1136] Consider switching to the more efficient V2 format:\n",
      "W1003 05:38:16.513891 21456 saver.py:1137]    `tf.train.Saver(write_version=tf.train.SaverDef.V2)`\n",
      "W1003 05:38:16.514895 21456 saver.py:1138] now on by default.\n",
      "W1003 05:38:16.516890 21456 saver.py:1139] *******************************************************\n"
     ]
    },
    {
     "name": "stdout",
     "output_type": "stream",
     "text": [
      "Epoch: 9, Step: 1210, Loss: 0.0214073\n",
      "Epoch: 9, Step: 1220, Loss: 0.0196218\n",
      "Epoch: 9, Step: 1230, Loss: 0.0180172\n",
      "Epoch: 9, Step: 1240, Loss: 0.0314161\n",
      "Epoch: 9, Step: 1250, Loss: 0.0291848\n",
      "Epoch: 9, Step: 1260, Loss: 0.0156367\n",
      "Epoch: 9, Step: 1270, Loss: 0.0179902\n",
      "Epoch: 9, Step: 1280, Loss: 0.0711409\n",
      "Epoch: 9, Step: 1290, Loss: 0.0367772\n",
      "Epoch: 9, Step: 1300, Loss: 0.271146\n"
     ]
    },
    {
     "name": "stderr",
     "output_type": "stream",
     "text": [
      "W1003 05:40:46.441138 21456 saver.py:1134] *******************************************************\n",
      "W1003 05:40:46.442136 21456 saver.py:1135] TensorFlow's V1 checkpoint format has been deprecated.\n",
      "W1003 05:40:46.443139 21456 saver.py:1136] Consider switching to the more efficient V2 format:\n",
      "W1003 05:40:46.444139 21456 saver.py:1137]    `tf.train.Saver(write_version=tf.train.SaverDef.V2)`\n",
      "W1003 05:40:46.445139 21456 saver.py:1138] now on by default.\n",
      "W1003 05:40:46.446138 21456 saver.py:1139] *******************************************************\n"
     ]
    },
    {
     "name": "stdout",
     "output_type": "stream",
     "text": [
      "Epoch: 9, Step: 1310, Loss: 0.602008\n",
      "Epoch: 9, Step: 1320, Loss: 0.287262\n",
      "Epoch: 9, Step: 1330, Loss: 0.100236\n",
      "Epoch: 9, Step: 1340, Loss: 0.0546991\n",
      "Epoch: 9, Step: 1350, Loss: 0.0139463\n",
      "Model saved in file: ./save\\model.ckpt\n",
      "Epoch: 10, Step: 1000, Loss: 0.102485\n"
     ]
    },
    {
     "name": "stderr",
     "output_type": "stream",
     "text": [
      "W1003 05:42:09.419858 21456 saver.py:1134] *******************************************************\n",
      "W1003 05:42:09.420851 21456 saver.py:1135] TensorFlow's V1 checkpoint format has been deprecated.\n",
      "W1003 05:42:09.421849 21456 saver.py:1136] Consider switching to the more efficient V2 format:\n",
      "W1003 05:42:09.422849 21456 saver.py:1137]    `tf.train.Saver(write_version=tf.train.SaverDef.V2)`\n",
      "W1003 05:42:09.423856 21456 saver.py:1138] now on by default.\n",
      "W1003 05:42:09.424851 21456 saver.py:1139] *******************************************************\n"
     ]
    },
    {
     "name": "stdout",
     "output_type": "stream",
     "text": [
      "Epoch: 10, Step: 1010, Loss: 0.780205\n",
      "Epoch: 10, Step: 1020, Loss: 1.44697\n",
      "Epoch: 10, Step: 1030, Loss: 0.243948\n",
      "Epoch: 10, Step: 1040, Loss: 0.130591\n",
      "Epoch: 10, Step: 1050, Loss: 0.00609841\n",
      "Epoch: 10, Step: 1060, Loss: 0.00984708\n",
      "Epoch: 10, Step: 1070, Loss: 0.00674967\n",
      "Epoch: 10, Step: 1080, Loss: 0.0178207\n",
      "Epoch: 10, Step: 1090, Loss: 0.0365754\n",
      "Epoch: 10, Step: 1100, Loss: 0.0436104\n"
     ]
    },
    {
     "name": "stderr",
     "output_type": "stream",
     "text": [
      "W1003 05:44:41.406955 21456 saver.py:1134] *******************************************************\n",
      "W1003 05:44:41.408955 21456 saver.py:1135] TensorFlow's V1 checkpoint format has been deprecated.\n",
      "W1003 05:44:41.409957 21456 saver.py:1136] Consider switching to the more efficient V2 format:\n",
      "W1003 05:44:41.410962 21456 saver.py:1137]    `tf.train.Saver(write_version=tf.train.SaverDef.V2)`\n",
      "W1003 05:44:41.411958 21456 saver.py:1138] now on by default.\n",
      "W1003 05:44:41.412958 21456 saver.py:1139] *******************************************************\n"
     ]
    },
    {
     "name": "stdout",
     "output_type": "stream",
     "text": [
      "Epoch: 10, Step: 1110, Loss: 0.00872442\n",
      "Epoch: 10, Step: 1120, Loss: 0.132218\n",
      "Epoch: 10, Step: 1130, Loss: 0.399337\n",
      "Epoch: 10, Step: 1140, Loss: 0.112519\n",
      "Epoch: 10, Step: 1150, Loss: 0.193534\n",
      "Epoch: 10, Step: 1160, Loss: 0.0194358\n",
      "Epoch: 10, Step: 1170, Loss: 0.0194343\n",
      "Epoch: 10, Step: 1180, Loss: 0.0189152\n",
      "Epoch: 10, Step: 1190, Loss: 0.0185094\n",
      "Epoch: 10, Step: 1200, Loss: 0.025105\n"
     ]
    },
    {
     "name": "stderr",
     "output_type": "stream",
     "text": [
      "W1003 05:47:15.288964 21456 saver.py:1134] *******************************************************\n",
      "W1003 05:47:15.290957 21456 saver.py:1135] TensorFlow's V1 checkpoint format has been deprecated.\n",
      "W1003 05:47:15.290957 21456 saver.py:1136] Consider switching to the more efficient V2 format:\n",
      "W1003 05:47:15.291957 21456 saver.py:1137]    `tf.train.Saver(write_version=tf.train.SaverDef.V2)`\n",
      "W1003 05:47:15.292957 21456 saver.py:1138] now on by default.\n",
      "W1003 05:47:15.293956 21456 saver.py:1139] *******************************************************\n"
     ]
    },
    {
     "name": "stdout",
     "output_type": "stream",
     "text": [
      "Epoch: 10, Step: 1210, Loss: 4.36516\n",
      "Epoch: 10, Step: 1220, Loss: 1.11851\n",
      "Epoch: 10, Step: 1230, Loss: 0.0149065\n",
      "Epoch: 10, Step: 1240, Loss: 0.0065267\n",
      "Epoch: 10, Step: 1250, Loss: 0.00808589\n",
      "Epoch: 10, Step: 1260, Loss: 0.0129315\n",
      "Epoch: 10, Step: 1270, Loss: 0.00786244\n",
      "Epoch: 10, Step: 1280, Loss: 0.00841786\n",
      "Epoch: 10, Step: 1290, Loss: 0.00565729\n",
      "Epoch: 10, Step: 1300, Loss: 0.00638758\n"
     ]
    },
    {
     "name": "stderr",
     "output_type": "stream",
     "text": [
      "W1003 05:49:46.411288 21456 saver.py:1134] *******************************************************\n",
      "W1003 05:49:46.413297 21456 saver.py:1135] TensorFlow's V1 checkpoint format has been deprecated.\n",
      "W1003 05:49:46.414294 21456 saver.py:1136] Consider switching to the more efficient V2 format:\n",
      "W1003 05:49:46.415291 21456 saver.py:1137]    `tf.train.Saver(write_version=tf.train.SaverDef.V2)`\n",
      "W1003 05:49:46.417298 21456 saver.py:1138] now on by default.\n",
      "W1003 05:49:46.419293 21456 saver.py:1139] *******************************************************\n"
     ]
    },
    {
     "name": "stdout",
     "output_type": "stream",
     "text": [
      "Epoch: 10, Step: 1310, Loss: 0.00722141\n",
      "Epoch: 10, Step: 1320, Loss: 0.00770405\n",
      "Epoch: 10, Step: 1330, Loss: 0.0150936\n",
      "Epoch: 10, Step: 1340, Loss: 0.0462476\n",
      "Epoch: 10, Step: 1350, Loss: 0.033016\n",
      "Epoch: 10, Step: 1360, Loss: 0.00428123\n",
      "Epoch: 10, Step: 1370, Loss: 0.0037375\n",
      "Epoch: 10, Step: 1380, Loss: 0.00392987\n",
      "Epoch: 10, Step: 1390, Loss: 0.00424514\n",
      "Epoch: 10, Step: 1400, Loss: 0.00299447\n"
     ]
    },
    {
     "name": "stderr",
     "output_type": "stream",
     "text": [
      "W1003 05:52:18.318423 21456 saver.py:1134] *******************************************************\n",
      "W1003 05:52:18.319429 21456 saver.py:1135] TensorFlow's V1 checkpoint format has been deprecated.\n",
      "W1003 05:52:18.320423 21456 saver.py:1136] Consider switching to the more efficient V2 format:\n",
      "W1003 05:52:18.321423 21456 saver.py:1137]    `tf.train.Saver(write_version=tf.train.SaverDef.V2)`\n",
      "W1003 05:52:18.323424 21456 saver.py:1138] now on by default.\n",
      "W1003 05:52:18.324432 21456 saver.py:1139] *******************************************************\n"
     ]
    },
    {
     "name": "stdout",
     "output_type": "stream",
     "text": [
      "Epoch: 10, Step: 1410, Loss: 0.00470184\n",
      "Epoch: 10, Step: 1420, Loss: 0.00304406\n",
      "Epoch: 10, Step: 1430, Loss: 0.00321931\n",
      "Epoch: 10, Step: 1440, Loss: 0.00390067\n",
      "Epoch: 10, Step: 1450, Loss: 0.00371562\n",
      "Model saved in file: ./save\\model.ckpt\n",
      "Epoch: 11, Step: 1100, Loss: 0.00330603\n"
     ]
    },
    {
     "name": "stderr",
     "output_type": "stream",
     "text": [
      "W1003 05:53:41.402935 21456 saver.py:1134] *******************************************************\n",
      "W1003 05:53:41.403932 21456 saver.py:1135] TensorFlow's V1 checkpoint format has been deprecated.\n",
      "W1003 05:53:41.405936 21456 saver.py:1136] Consider switching to the more efficient V2 format:\n",
      "W1003 05:53:41.406947 21456 saver.py:1137]    `tf.train.Saver(write_version=tf.train.SaverDef.V2)`\n",
      "W1003 05:53:41.408942 21456 saver.py:1138] now on by default.\n",
      "W1003 05:53:41.409939 21456 saver.py:1139] *******************************************************\n"
     ]
    },
    {
     "name": "stdout",
     "output_type": "stream",
     "text": [
      "Epoch: 11, Step: 1110, Loss: 0.00300172\n",
      "Epoch: 11, Step: 1120, Loss: 0.00297887\n",
      "Epoch: 11, Step: 1130, Loss: 0.00298201\n",
      "Epoch: 11, Step: 1140, Loss: 0.00424432\n",
      "Epoch: 11, Step: 1150, Loss: 0.0541006\n",
      "Epoch: 11, Step: 1160, Loss: 0.135227\n",
      "Epoch: 11, Step: 1170, Loss: 5.23871\n",
      "Epoch: 11, Step: 1180, Loss: 0.0213846\n",
      "Epoch: 11, Step: 1190, Loss: 0.0035931\n",
      "Epoch: 11, Step: 1200, Loss: 0.0387375\n"
     ]
    },
    {
     "name": "stderr",
     "output_type": "stream",
     "text": [
      "W1003 05:56:15.457332 21456 saver.py:1134] *******************************************************\n",
      "W1003 05:56:15.459329 21456 saver.py:1135] TensorFlow's V1 checkpoint format has been deprecated.\n",
      "W1003 05:56:15.460330 21456 saver.py:1136] Consider switching to the more efficient V2 format:\n",
      "W1003 05:56:15.461333 21456 saver.py:1137]    `tf.train.Saver(write_version=tf.train.SaverDef.V2)`\n",
      "W1003 05:56:15.463333 21456 saver.py:1138] now on by default.\n",
      "W1003 05:56:15.464334 21456 saver.py:1139] *******************************************************\n"
     ]
    },
    {
     "name": "stdout",
     "output_type": "stream",
     "text": [
      "Epoch: 11, Step: 1210, Loss: 0.0735805\n",
      "Epoch: 11, Step: 1220, Loss: 0.0710583\n",
      "Epoch: 11, Step: 1230, Loss: 0.0072685\n",
      "Epoch: 11, Step: 1240, Loss: 0.129846\n",
      "Epoch: 11, Step: 1250, Loss: 0.0557868\n",
      "Epoch: 11, Step: 1260, Loss: 0.00347043\n",
      "Epoch: 11, Step: 1270, Loss: 0.0601604\n",
      "Epoch: 11, Step: 1280, Loss: 0.0115122\n",
      "Epoch: 11, Step: 1290, Loss: 0.0215262\n",
      "Epoch: 11, Step: 1300, Loss: 0.037063\n"
     ]
    },
    {
     "name": "stderr",
     "output_type": "stream",
     "text": [
      "W1003 05:58:47.942683 21456 saver.py:1134] *******************************************************\n",
      "W1003 05:58:47.943685 21456 saver.py:1135] TensorFlow's V1 checkpoint format has been deprecated.\n",
      "W1003 05:58:47.943685 21456 saver.py:1136] Consider switching to the more efficient V2 format:\n",
      "W1003 05:58:47.945682 21456 saver.py:1137]    `tf.train.Saver(write_version=tf.train.SaverDef.V2)`\n",
      "W1003 05:58:47.945682 21456 saver.py:1138] now on by default.\n",
      "W1003 05:58:47.946683 21456 saver.py:1139] *******************************************************\n"
     ]
    },
    {
     "name": "stdout",
     "output_type": "stream",
     "text": [
      "Epoch: 11, Step: 1310, Loss: 0.13376\n",
      "Epoch: 11, Step: 1320, Loss: 0.0510655\n",
      "Epoch: 11, Step: 1330, Loss: 0.140398\n",
      "Epoch: 11, Step: 1340, Loss: 0.0589185\n",
      "Epoch: 11, Step: 1350, Loss: 0.0351831\n",
      "Epoch: 11, Step: 1360, Loss: 0.0239145\n",
      "Epoch: 11, Step: 1370, Loss: 0.0199535\n",
      "Epoch: 11, Step: 1380, Loss: 0.0208997\n",
      "Epoch: 11, Step: 1390, Loss: 0.0206782\n",
      "Epoch: 11, Step: 1400, Loss: 0.0213391\n"
     ]
    },
    {
     "name": "stderr",
     "output_type": "stream",
     "text": [
      "W1003 06:01:19.435487 21456 saver.py:1134] *******************************************************\n",
      "W1003 06:01:19.437510 21456 saver.py:1135] TensorFlow's V1 checkpoint format has been deprecated.\n",
      "W1003 06:01:19.438487 21456 saver.py:1136] Consider switching to the more efficient V2 format:\n",
      "W1003 06:01:19.439485 21456 saver.py:1137]    `tf.train.Saver(write_version=tf.train.SaverDef.V2)`\n",
      "W1003 06:01:19.441493 21456 saver.py:1138] now on by default.\n",
      "W1003 06:01:19.442488 21456 saver.py:1139] *******************************************************\n"
     ]
    },
    {
     "name": "stdout",
     "output_type": "stream",
     "text": [
      "Epoch: 11, Step: 1410, Loss: 0.0209435\n",
      "Epoch: 11, Step: 1420, Loss: 0.0271668\n",
      "Epoch: 11, Step: 1430, Loss: 0.029567\n",
      "Epoch: 11, Step: 1440, Loss: 0.0397198\n",
      "Epoch: 11, Step: 1450, Loss: 0.00970835\n",
      "Epoch: 11, Step: 1460, Loss: 0.0282004\n",
      "Epoch: 11, Step: 1470, Loss: 0.0992913\n",
      "Epoch: 11, Step: 1480, Loss: 0.0259802\n",
      "Epoch: 11, Step: 1490, Loss: 0.383636\n",
      "Epoch: 11, Step: 1500, Loss: 0.649714\n"
     ]
    },
    {
     "name": "stderr",
     "output_type": "stream",
     "text": [
      "W1003 06:03:52.892784 21456 saver.py:1134] *******************************************************\n",
      "W1003 06:03:52.895784 21456 saver.py:1135] TensorFlow's V1 checkpoint format has been deprecated.\n",
      "W1003 06:03:52.897784 21456 saver.py:1136] Consider switching to the more efficient V2 format:\n",
      "W1003 06:03:52.898786 21456 saver.py:1137]    `tf.train.Saver(write_version=tf.train.SaverDef.V2)`\n",
      "W1003 06:03:52.900789 21456 saver.py:1138] now on by default.\n",
      "W1003 06:03:52.901786 21456 saver.py:1139] *******************************************************\n"
     ]
    },
    {
     "name": "stdout",
     "output_type": "stream",
     "text": [
      "Epoch: 11, Step: 1510, Loss: 0.25669\n",
      "Epoch: 11, Step: 1520, Loss: 0.0777185\n",
      "Epoch: 11, Step: 1530, Loss: 0.0516005\n",
      "Epoch: 11, Step: 1540, Loss: 0.0122078\n",
      "Epoch: 11, Step: 1550, Loss: 0.113384\n",
      "Model saved in file: ./save\\model.ckpt\n",
      "Epoch: 12, Step: 1200, Loss: 0.95847\n"
     ]
    },
    {
     "name": "stderr",
     "output_type": "stream",
     "text": [
      "W1003 06:05:17.307101 21456 saver.py:1134] *******************************************************\n",
      "W1003 06:05:17.309102 21456 saver.py:1135] TensorFlow's V1 checkpoint format has been deprecated.\n",
      "W1003 06:05:17.310101 21456 saver.py:1136] Consider switching to the more efficient V2 format:\n",
      "W1003 06:05:17.310101 21456 saver.py:1137]    `tf.train.Saver(write_version=tf.train.SaverDef.V2)`\n",
      "W1003 06:05:17.312103 21456 saver.py:1138] now on by default.\n",
      "W1003 06:05:17.313103 21456 saver.py:1139] *******************************************************\n"
     ]
    },
    {
     "name": "stdout",
     "output_type": "stream",
     "text": [
      "Epoch: 12, Step: 1210, Loss: 1.33999\n",
      "Epoch: 12, Step: 1220, Loss: 0.0929842\n",
      "Epoch: 12, Step: 1230, Loss: 0.118239\n",
      "Epoch: 12, Step: 1240, Loss: 0.00264442\n",
      "Epoch: 12, Step: 1250, Loss: 0.00945343\n",
      "Epoch: 12, Step: 1260, Loss: 0.00967597\n",
      "Epoch: 12, Step: 1270, Loss: 0.0202446\n",
      "Epoch: 12, Step: 1280, Loss: 0.0545211\n",
      "Epoch: 12, Step: 1290, Loss: 0.0410703\n",
      "Epoch: 12, Step: 1300, Loss: 0.0101117\n"
     ]
    },
    {
     "name": "stderr",
     "output_type": "stream",
     "text": [
      "W1003 06:07:56.320454 21456 saver.py:1134] *******************************************************\n",
      "W1003 06:07:56.322463 21456 saver.py:1135] TensorFlow's V1 checkpoint format has been deprecated.\n",
      "W1003 06:07:56.322463 21456 saver.py:1136] Consider switching to the more efficient V2 format:\n",
      "W1003 06:07:56.323461 21456 saver.py:1137]    `tf.train.Saver(write_version=tf.train.SaverDef.V2)`\n",
      "W1003 06:07:56.328458 21456 saver.py:1138] now on by default.\n",
      "W1003 06:07:56.329461 21456 saver.py:1139] *******************************************************\n"
     ]
    },
    {
     "name": "stdout",
     "output_type": "stream",
     "text": [
      "Epoch: 12, Step: 1310, Loss: 0.112227\n",
      "Epoch: 12, Step: 1320, Loss: 0.412461\n",
      "Epoch: 12, Step: 1330, Loss: 0.105286\n",
      "Epoch: 12, Step: 1340, Loss: 0.129631\n",
      "Epoch: 12, Step: 1350, Loss: 0.0110311\n",
      "Epoch: 12, Step: 1360, Loss: 0.0123098\n",
      "Epoch: 12, Step: 1370, Loss: 0.0133346\n",
      "Epoch: 12, Step: 1380, Loss: 0.0131818\n",
      "Epoch: 12, Step: 1390, Loss: 0.0396433\n",
      "Epoch: 12, Step: 1400, Loss: 5.16874\n"
     ]
    },
    {
     "name": "stderr",
     "output_type": "stream",
     "text": [
      "W1003 06:10:29.105900 21456 saver.py:1134] *******************************************************\n",
      "W1003 06:10:29.106910 21456 saver.py:1135] TensorFlow's V1 checkpoint format has been deprecated.\n",
      "W1003 06:10:29.107904 21456 saver.py:1136] Consider switching to the more efficient V2 format:\n",
      "W1003 06:10:29.108903 21456 saver.py:1137]    `tf.train.Saver(write_version=tf.train.SaverDef.V2)`\n",
      "W1003 06:10:29.110906 21456 saver.py:1138] now on by default.\n",
      "W1003 06:10:29.112906 21456 saver.py:1139] *******************************************************\n"
     ]
    },
    {
     "name": "stdout",
     "output_type": "stream",
     "text": [
      "Epoch: 12, Step: 1410, Loss: 0.245534\n",
      "Epoch: 12, Step: 1420, Loss: 0.0140007\n",
      "Epoch: 12, Step: 1430, Loss: 0.00656625\n",
      "Epoch: 12, Step: 1440, Loss: 0.0117685\n",
      "Epoch: 12, Step: 1450, Loss: 0.0140775\n",
      "Epoch: 12, Step: 1460, Loss: 0.00962515\n",
      "Epoch: 12, Step: 1470, Loss: 0.00248878\n",
      "Epoch: 12, Step: 1480, Loss: 0.00258547\n",
      "Epoch: 12, Step: 1490, Loss: 0.00229457\n",
      "Epoch: 12, Step: 1500, Loss: 0.0028988\n"
     ]
    },
    {
     "name": "stderr",
     "output_type": "stream",
     "text": [
      "W1003 06:13:02.974387 21456 saver.py:1134] *******************************************************\n",
      "W1003 06:13:02.976388 21456 saver.py:1135] TensorFlow's V1 checkpoint format has been deprecated.\n",
      "W1003 06:13:02.977388 21456 saver.py:1136] Consider switching to the more efficient V2 format:\n",
      "W1003 06:13:02.978387 21456 saver.py:1137]    `tf.train.Saver(write_version=tf.train.SaverDef.V2)`\n",
      "W1003 06:13:02.980390 21456 saver.py:1138] now on by default.\n",
      "W1003 06:13:02.983387 21456 saver.py:1139] *******************************************************\n"
     ]
    },
    {
     "name": "stdout",
     "output_type": "stream",
     "text": [
      "Epoch: 12, Step: 1510, Loss: 0.0038279\n",
      "Epoch: 12, Step: 1520, Loss: 0.0260982\n",
      "Epoch: 12, Step: 1530, Loss: 0.0529944\n",
      "Epoch: 12, Step: 1540, Loss: 0.028517\n",
      "Epoch: 12, Step: 1550, Loss: 0.00153382\n",
      "Epoch: 12, Step: 1560, Loss: 0.00216252\n",
      "Epoch: 12, Step: 1570, Loss: 0.0013222\n",
      "Epoch: 12, Step: 1580, Loss: 0.00230945\n",
      "Epoch: 12, Step: 1590, Loss: 0.00112456\n",
      "Epoch: 12, Step: 1600, Loss: 0.00354908\n"
     ]
    },
    {
     "name": "stderr",
     "output_type": "stream",
     "text": [
      "W1003 06:15:38.587673 21456 saver.py:1134] *******************************************************\n",
      "W1003 06:15:38.589674 21456 saver.py:1135] TensorFlow's V1 checkpoint format has been deprecated.\n",
      "W1003 06:15:38.591675 21456 saver.py:1136] Consider switching to the more efficient V2 format:\n",
      "W1003 06:15:38.592678 21456 saver.py:1137]    `tf.train.Saver(write_version=tf.train.SaverDef.V2)`\n",
      "W1003 06:15:38.594677 21456 saver.py:1138] now on by default.\n",
      "W1003 06:15:38.596678 21456 saver.py:1139] *******************************************************\n"
     ]
    },
    {
     "name": "stdout",
     "output_type": "stream",
     "text": [
      "Epoch: 12, Step: 1610, Loss: 0.00145284\n",
      "Epoch: 12, Step: 1620, Loss: 0.00295977\n",
      "Epoch: 12, Step: 1630, Loss: 0.00389327\n",
      "Epoch: 12, Step: 1640, Loss: 0.00368757\n",
      "Epoch: 12, Step: 1650, Loss: 0.00316903\n",
      "Model saved in file: ./save\\model.ckpt\n",
      "Epoch: 13, Step: 1300, Loss: 0.00369141\n"
     ]
    },
    {
     "name": "stderr",
     "output_type": "stream",
     "text": [
      "W1003 06:17:02.792725 21456 saver.py:1134] *******************************************************\n",
      "W1003 06:17:02.793766 21456 saver.py:1135] TensorFlow's V1 checkpoint format has been deprecated.\n",
      "W1003 06:17:02.794721 21456 saver.py:1136] Consider switching to the more efficient V2 format:\n",
      "W1003 06:17:02.796726 21456 saver.py:1137]    `tf.train.Saver(write_version=tf.train.SaverDef.V2)`\n",
      "W1003 06:17:02.797722 21456 saver.py:1138] now on by default.\n",
      "W1003 06:17:02.798726 21456 saver.py:1139] *******************************************************\n"
     ]
    },
    {
     "name": "stdout",
     "output_type": "stream",
     "text": [
      "Epoch: 13, Step: 1310, Loss: 0.00297189\n",
      "Epoch: 13, Step: 1320, Loss: 0.00336613\n",
      "Epoch: 13, Step: 1330, Loss: 0.00690776\n",
      "Epoch: 13, Step: 1340, Loss: 0.0622285\n",
      "Epoch: 13, Step: 1350, Loss: 1.15878\n",
      "Epoch: 13, Step: 1360, Loss: 4.35287\n",
      "Epoch: 13, Step: 1370, Loss: 0.00881942\n",
      "Epoch: 13, Step: 1380, Loss: 0.00191405\n",
      "Epoch: 13, Step: 1390, Loss: 0.0489345\n",
      "Epoch: 13, Step: 1400, Loss: 0.0674183\n"
     ]
    },
    {
     "name": "stderr",
     "output_type": "stream",
     "text": [
      "W1003 06:19:35.208450 21456 saver.py:1134] *******************************************************\n",
      "W1003 06:19:35.210486 21456 saver.py:1135] TensorFlow's V1 checkpoint format has been deprecated.\n",
      "W1003 06:19:35.212450 21456 saver.py:1136] Consider switching to the more efficient V2 format:\n",
      "W1003 06:19:35.214453 21456 saver.py:1137]    `tf.train.Saver(write_version=tf.train.SaverDef.V2)`\n",
      "W1003 06:19:35.215452 21456 saver.py:1138] now on by default.\n",
      "W1003 06:19:35.217450 21456 saver.py:1139] *******************************************************\n"
     ]
    },
    {
     "name": "stdout",
     "output_type": "stream",
     "text": [
      "Epoch: 13, Step: 1410, Loss: 0.0691166\n",
      "Epoch: 13, Step: 1420, Loss: 0.0179022\n",
      "Epoch: 13, Step: 1430, Loss: 0.126996\n",
      "Epoch: 13, Step: 1440, Loss: 0.020935\n",
      "Epoch: 13, Step: 1450, Loss: 0.00891745\n",
      "Epoch: 13, Step: 1460, Loss: 0.0420377\n",
      "Epoch: 13, Step: 1470, Loss: 0.0160315\n",
      "Epoch: 13, Step: 1480, Loss: 0.0113498\n",
      "Epoch: 13, Step: 1490, Loss: 0.072087\n",
      "Epoch: 13, Step: 1500, Loss: 0.132802\n"
     ]
    },
    {
     "name": "stderr",
     "output_type": "stream",
     "text": [
      "W1003 06:22:08.668062 21456 saver.py:1134] *******************************************************\n",
      "W1003 06:22:08.670064 21456 saver.py:1135] TensorFlow's V1 checkpoint format has been deprecated.\n",
      "W1003 06:22:08.672061 21456 saver.py:1136] Consider switching to the more efficient V2 format:\n",
      "W1003 06:22:08.673069 21456 saver.py:1137]    `tf.train.Saver(write_version=tf.train.SaverDef.V2)`\n",
      "W1003 06:22:08.675073 21456 saver.py:1138] now on by default.\n",
      "W1003 06:22:08.677064 21456 saver.py:1139] *******************************************************\n"
     ]
    },
    {
     "name": "stdout",
     "output_type": "stream",
     "text": [
      "Epoch: 13, Step: 1510, Loss: 0.0621143\n",
      "Epoch: 13, Step: 1520, Loss: 0.115945\n",
      "Epoch: 13, Step: 1530, Loss: 0.0300275\n",
      "Epoch: 13, Step: 1540, Loss: 0.0431929\n",
      "Epoch: 13, Step: 1550, Loss: 0.0273106\n",
      "Epoch: 13, Step: 1560, Loss: 0.0229249\n",
      "Epoch: 13, Step: 1570, Loss: 0.0229204\n",
      "Epoch: 13, Step: 1580, Loss: 0.0230305\n",
      "Epoch: 13, Step: 1590, Loss: 0.0192869\n",
      "Epoch: 13, Step: 1600, Loss: 0.0173369\n"
     ]
    },
    {
     "name": "stderr",
     "output_type": "stream",
     "text": [
      "W1003 06:24:42.854459 21456 saver.py:1134] *******************************************************\n",
      "W1003 06:24:42.856462 21456 saver.py:1135] TensorFlow's V1 checkpoint format has been deprecated.\n",
      "W1003 06:24:42.857464 21456 saver.py:1136] Consider switching to the more efficient V2 format:\n",
      "W1003 06:24:42.858464 21456 saver.py:1137]    `tf.train.Saver(write_version=tf.train.SaverDef.V2)`\n",
      "W1003 06:24:42.860466 21456 saver.py:1138] now on by default.\n",
      "W1003 06:24:42.861464 21456 saver.py:1139] *******************************************************\n"
     ]
    },
    {
     "name": "stdout",
     "output_type": "stream",
     "text": [
      "Epoch: 13, Step: 1610, Loss: 0.029184\n",
      "Epoch: 13, Step: 1620, Loss: 0.020566\n",
      "Epoch: 13, Step: 1630, Loss: 0.0261772\n",
      "Epoch: 13, Step: 1640, Loss: 0.00452869\n",
      "Epoch: 13, Step: 1650, Loss: 0.0244836\n",
      "Epoch: 13, Step: 1660, Loss: 0.080973\n",
      "Epoch: 13, Step: 1670, Loss: 0.0105477\n",
      "Epoch: 13, Step: 1680, Loss: 0.449427\n",
      "Epoch: 13, Step: 1690, Loss: 0.573575\n",
      "Epoch: 13, Step: 1700, Loss: 0.184768\n"
     ]
    },
    {
     "name": "stderr",
     "output_type": "stream",
     "text": [
      "W1003 06:27:15.067257 21456 saver.py:1134] *******************************************************\n",
      "W1003 06:27:15.069256 21456 saver.py:1135] TensorFlow's V1 checkpoint format has been deprecated.\n",
      "W1003 06:27:15.070256 21456 saver.py:1136] Consider switching to the more efficient V2 format:\n",
      "W1003 06:27:15.071256 21456 saver.py:1137]    `tf.train.Saver(write_version=tf.train.SaverDef.V2)`\n",
      "W1003 06:27:15.072255 21456 saver.py:1138] now on by default.\n",
      "W1003 06:27:15.073256 21456 saver.py:1139] *******************************************************\n"
     ]
    },
    {
     "name": "stdout",
     "output_type": "stream",
     "text": [
      "Epoch: 13, Step: 1710, Loss: 0.0360521\n",
      "Epoch: 13, Step: 1720, Loss: 0.029541\n",
      "Epoch: 13, Step: 1730, Loss: 0.023421\n",
      "Epoch: 13, Step: 1740, Loss: 0.174555\n",
      "Epoch: 13, Step: 1750, Loss: 1.23885\n",
      "Model saved in file: ./save\\model.ckpt\n",
      "Epoch: 14, Step: 1400, Loss: 1.1121\n"
     ]
    },
    {
     "name": "stderr",
     "output_type": "stream",
     "text": [
      "W1003 06:28:37.623182 21456 saver.py:1134] *******************************************************\n",
      "W1003 06:28:37.624182 21456 saver.py:1135] TensorFlow's V1 checkpoint format has been deprecated.\n",
      "W1003 06:28:37.626175 21456 saver.py:1136] Consider switching to the more efficient V2 format:\n",
      "W1003 06:28:37.626175 21456 saver.py:1137]    `tf.train.Saver(write_version=tf.train.SaverDef.V2)`\n",
      "W1003 06:28:37.628178 21456 saver.py:1138] now on by default.\n",
      "W1003 06:28:37.629177 21456 saver.py:1139] *******************************************************\n"
     ]
    },
    {
     "name": "stdout",
     "output_type": "stream",
     "text": [
      "Epoch: 14, Step: 1410, Loss: 0.0509322\n",
      "Epoch: 14, Step: 1420, Loss: 0.0940459\n",
      "Epoch: 14, Step: 1430, Loss: 0.00279343\n",
      "Epoch: 14, Step: 1440, Loss: 0.00493339\n",
      "Epoch: 14, Step: 1450, Loss: 0.00965953\n",
      "Epoch: 14, Step: 1460, Loss: 0.02126\n",
      "Epoch: 14, Step: 1470, Loss: 0.0548392\n",
      "Epoch: 14, Step: 1480, Loss: 0.0114505\n",
      "Epoch: 14, Step: 1490, Loss: 0.014935\n",
      "Epoch: 14, Step: 1500, Loss: 0.131333\n"
     ]
    },
    {
     "name": "stderr",
     "output_type": "stream",
     "text": [
      "W1003 06:31:09.279902 21456 saver.py:1134] *******************************************************\n",
      "W1003 06:31:09.281910 21456 saver.py:1135] TensorFlow's V1 checkpoint format has been deprecated.\n",
      "W1003 06:31:09.282913 21456 saver.py:1136] Consider switching to the more efficient V2 format:\n",
      "W1003 06:31:09.283905 21456 saver.py:1137]    `tf.train.Saver(write_version=tf.train.SaverDef.V2)`\n",
      "W1003 06:31:09.285908 21456 saver.py:1138] now on by default.\n",
      "W1003 06:31:09.286907 21456 saver.py:1139] *******************************************************\n"
     ]
    },
    {
     "name": "stdout",
     "output_type": "stream",
     "text": [
      "Epoch: 14, Step: 1510, Loss: 0.422469\n",
      "Epoch: 14, Step: 1520, Loss: 0.23783\n",
      "Epoch: 14, Step: 1530, Loss: 0.0233619\n",
      "Epoch: 14, Step: 1540, Loss: 0.0161751\n",
      "Epoch: 14, Step: 1550, Loss: 0.0160803\n",
      "Epoch: 14, Step: 1560, Loss: 0.016441\n",
      "Epoch: 14, Step: 1570, Loss: 0.0149985\n",
      "Epoch: 14, Step: 1580, Loss: 0.32086\n",
      "Epoch: 14, Step: 1590, Loss: 5.00808\n",
      "Epoch: 14, Step: 1600, Loss: 0.0645625\n"
     ]
    },
    {
     "name": "stderr",
     "output_type": "stream",
     "text": [
      "W1003 06:33:43.265236 21456 saver.py:1134] *******************************************************\n",
      "W1003 06:33:43.268223 21456 saver.py:1135] TensorFlow's V1 checkpoint format has been deprecated.\n",
      "W1003 06:33:43.269226 21456 saver.py:1136] Consider switching to the more efficient V2 format:\n",
      "W1003 06:33:43.270227 21456 saver.py:1137]    `tf.train.Saver(write_version=tf.train.SaverDef.V2)`\n",
      "W1003 06:33:43.272226 21456 saver.py:1138] now on by default.\n",
      "W1003 06:33:43.273229 21456 saver.py:1139] *******************************************************\n"
     ]
    },
    {
     "name": "stdout",
     "output_type": "stream",
     "text": [
      "Epoch: 14, Step: 1610, Loss: 0.0108107\n",
      "Epoch: 14, Step: 1620, Loss: 0.00516144\n",
      "Epoch: 14, Step: 1630, Loss: 0.0094917\n",
      "Epoch: 14, Step: 1640, Loss: 0.00731953\n",
      "Epoch: 14, Step: 1650, Loss: 0.00501118\n",
      "Epoch: 14, Step: 1660, Loss: 0.0055114\n",
      "Epoch: 14, Step: 1670, Loss: 0.00457727\n",
      "Epoch: 14, Step: 1680, Loss: 0.00443469\n",
      "Epoch: 14, Step: 1690, Loss: 0.00394609\n"
     ]
    },
    {
     "name": "stderr",
     "output_type": "stream",
     "text": [
      "W1003 06:36:14.606959 21456 saver.py:1134] *******************************************************\n"
     ]
    },
    {
     "name": "stdout",
     "output_type": "stream",
     "text": [
      "Epoch: 14, Step: 1700, Loss: 0.00546357\n"
     ]
    },
    {
     "name": "stderr",
     "output_type": "stream",
     "text": [
      "W1003 06:36:14.607962 21456 saver.py:1135] TensorFlow's V1 checkpoint format has been deprecated.\n",
      "W1003 06:36:14.608958 21456 saver.py:1136] Consider switching to the more efficient V2 format:\n",
      "W1003 06:36:14.609958 21456 saver.py:1137]    `tf.train.Saver(write_version=tf.train.SaverDef.V2)`\n",
      "W1003 06:36:14.610958 21456 saver.py:1138] now on by default.\n",
      "W1003 06:36:14.611960 21456 saver.py:1139] *******************************************************\n"
     ]
    },
    {
     "name": "stdout",
     "output_type": "stream",
     "text": [
      "Epoch: 14, Step: 1710, Loss: 0.0269279\n",
      "Epoch: 14, Step: 1720, Loss: 0.0354681\n",
      "Epoch: 14, Step: 1730, Loss: 0.0166988\n",
      "Epoch: 14, Step: 1740, Loss: 0.0016365\n",
      "Epoch: 14, Step: 1750, Loss: 0.0013489\n",
      "Epoch: 14, Step: 1760, Loss: 0.00144231\n",
      "Epoch: 14, Step: 1770, Loss: 0.0012436\n",
      "Epoch: 14, Step: 1780, Loss: 0.000821501\n",
      "Epoch: 14, Step: 1790, Loss: 0.00172208\n",
      "Epoch: 14, Step: 1800, Loss: 0.000660927\n"
     ]
    },
    {
     "name": "stderr",
     "output_type": "stream",
     "text": [
      "W1003 06:38:46.154018 21456 saver.py:1134] *******************************************************\n",
      "W1003 06:38:46.155019 21456 saver.py:1135] TensorFlow's V1 checkpoint format has been deprecated.\n",
      "W1003 06:38:46.156016 21456 saver.py:1136] Consider switching to the more efficient V2 format:\n",
      "W1003 06:38:46.157012 21456 saver.py:1137]    `tf.train.Saver(write_version=tf.train.SaverDef.V2)`\n",
      "W1003 06:38:46.159017 21456 saver.py:1138] now on by default.\n",
      "W1003 06:38:46.160018 21456 saver.py:1139] *******************************************************\n"
     ]
    },
    {
     "name": "stdout",
     "output_type": "stream",
     "text": [
      "Epoch: 14, Step: 1810, Loss: 0.0015794\n",
      "Epoch: 14, Step: 1820, Loss: 0.00122661\n",
      "Epoch: 14, Step: 1830, Loss: 0.00137155\n",
      "Epoch: 14, Step: 1840, Loss: 0.00115839\n",
      "Epoch: 14, Step: 1850, Loss: 0.000552638\n",
      "Model saved in file: ./save\\model.ckpt\n",
      "Epoch: 15, Step: 1500, Loss: 0.000546348\n"
     ]
    },
    {
     "name": "stderr",
     "output_type": "stream",
     "text": [
      "W1003 06:40:09.443265 21456 saver.py:1134] *******************************************************\n",
      "W1003 06:40:09.444271 21456 saver.py:1135] TensorFlow's V1 checkpoint format has been deprecated.\n",
      "W1003 06:40:09.445271 21456 saver.py:1136] Consider switching to the more efficient V2 format:\n",
      "W1003 06:40:09.446429 21456 saver.py:1137]    `tf.train.Saver(write_version=tf.train.SaverDef.V2)`\n",
      "W1003 06:40:09.449271 21456 saver.py:1138] now on by default.\n",
      "W1003 06:40:09.450272 21456 saver.py:1139] *******************************************************\n"
     ]
    },
    {
     "name": "stdout",
     "output_type": "stream",
     "text": [
      "Epoch: 15, Step: 1510, Loss: 0.000702999\n",
      "Epoch: 15, Step: 1520, Loss: 0.00488754\n",
      "Epoch: 15, Step: 1530, Loss: 0.0615572\n",
      "Epoch: 15, Step: 1540, Loss: 2.35159\n",
      "Epoch: 15, Step: 1550, Loss: 3.03087\n",
      "Epoch: 15, Step: 1560, Loss: 0.00333713\n",
      "Epoch: 15, Step: 1570, Loss: 0.000884573\n",
      "Epoch: 15, Step: 1580, Loss: 0.0653812\n",
      "Epoch: 15, Step: 1590, Loss: 0.0733684\n",
      "Epoch: 15, Step: 1600, Loss: 0.062525\n"
     ]
    },
    {
     "name": "stderr",
     "output_type": "stream",
     "text": [
      "W1003 06:42:44.637060 21456 saver.py:1134] *******************************************************\n",
      "W1003 06:42:44.638063 21456 saver.py:1135] TensorFlow's V1 checkpoint format has been deprecated.\n",
      "W1003 06:42:44.639063 21456 saver.py:1136] Consider switching to the more efficient V2 format:\n",
      "W1003 06:42:44.641064 21456 saver.py:1137]    `tf.train.Saver(write_version=tf.train.SaverDef.V2)`\n",
      "W1003 06:42:44.645066 21456 saver.py:1138] now on by default.\n",
      "W1003 06:42:44.646067 21456 saver.py:1139] *******************************************************\n"
     ]
    },
    {
     "name": "stdout",
     "output_type": "stream",
     "text": [
      "Epoch: 15, Step: 1610, Loss: 0.0445751\n",
      "Epoch: 15, Step: 1620, Loss: 0.122734\n",
      "Epoch: 15, Step: 1630, Loss: 0.00496328\n",
      "Epoch: 15, Step: 1640, Loss: 0.0278984\n",
      "Epoch: 15, Step: 1650, Loss: 0.0290683\n",
      "Epoch: 15, Step: 1660, Loss: 0.0144988\n",
      "Epoch: 15, Step: 1670, Loss: 0.0143358\n",
      "Epoch: 15, Step: 1680, Loss: 0.0780822\n",
      "Epoch: 15, Step: 1690, Loss: 0.0876401\n",
      "Epoch: 15, Step: 1700, Loss: 0.0956312\n"
     ]
    },
    {
     "name": "stderr",
     "output_type": "stream",
     "text": [
      "W1003 06:45:18.021911 21456 saver.py:1134] *******************************************************\n",
      "W1003 06:45:18.022913 21456 saver.py:1135] TensorFlow's V1 checkpoint format has been deprecated.\n",
      "W1003 06:45:18.023912 21456 saver.py:1136] Consider switching to the more efficient V2 format:\n",
      "W1003 06:45:18.024916 21456 saver.py:1137]    `tf.train.Saver(write_version=tf.train.SaverDef.V2)`\n",
      "W1003 06:45:18.026913 21456 saver.py:1138] now on by default.\n",
      "W1003 06:45:18.027913 21456 saver.py:1139] *******************************************************\n"
     ]
    },
    {
     "name": "stdout",
     "output_type": "stream",
     "text": [
      "Epoch: 15, Step: 1710, Loss: 0.140608\n",
      "Epoch: 15, Step: 1720, Loss: 0.0145359\n",
      "Epoch: 15, Step: 1730, Loss: 0.0269857\n",
      "Epoch: 15, Step: 1740, Loss: 0.0181759\n",
      "Epoch: 15, Step: 1750, Loss: 0.0171703\n",
      "Epoch: 15, Step: 1760, Loss: 0.0186669\n",
      "Epoch: 15, Step: 1770, Loss: 0.0193823\n",
      "Epoch: 15, Step: 1780, Loss: 0.0193406\n",
      "Epoch: 15, Step: 1790, Loss: 0.0188495\n",
      "Epoch: 15, Step: 1800, Loss: 0.0338236\n"
     ]
    },
    {
     "name": "stderr",
     "output_type": "stream",
     "text": [
      "W1003 06:47:50.394507 21456 saver.py:1134] *******************************************************\n",
      "W1003 06:47:50.395502 21456 saver.py:1135] TensorFlow's V1 checkpoint format has been deprecated.\n",
      "W1003 06:47:50.396504 21456 saver.py:1136] Consider switching to the more efficient V2 format:\n",
      "W1003 06:47:50.397504 21456 saver.py:1137]    `tf.train.Saver(write_version=tf.train.SaverDef.V2)`\n",
      "W1003 06:47:50.398506 21456 saver.py:1138] now on by default.\n",
      "W1003 06:47:50.402508 21456 saver.py:1139] *******************************************************\n"
     ]
    },
    {
     "name": "stdout",
     "output_type": "stream",
     "text": [
      "Epoch: 15, Step: 1810, Loss: 0.0273569\n",
      "Epoch: 15, Step: 1820, Loss: 0.0281071\n",
      "Epoch: 15, Step: 1830, Loss: 0.00485819\n",
      "Epoch: 15, Step: 1840, Loss: 0.0418196\n",
      "Epoch: 15, Step: 1850, Loss: 0.0934374\n",
      "Epoch: 15, Step: 1860, Loss: 0.0322976\n",
      "Epoch: 15, Step: 1870, Loss: 0.593885\n",
      "Epoch: 15, Step: 1880, Loss: 0.552875\n",
      "Epoch: 15, Step: 1890, Loss: 0.163435\n",
      "Epoch: 15, Step: 1900, Loss: 0.0457922\n"
     ]
    },
    {
     "name": "stderr",
     "output_type": "stream",
     "text": [
      "W1003 06:50:23.326207 21456 saver.py:1134] *******************************************************\n",
      "W1003 06:50:23.328210 21456 saver.py:1135] TensorFlow's V1 checkpoint format has been deprecated.\n",
      "W1003 06:50:23.331206 21456 saver.py:1136] Consider switching to the more efficient V2 format:\n",
      "W1003 06:50:23.334214 21456 saver.py:1137]    `tf.train.Saver(write_version=tf.train.SaverDef.V2)`\n",
      "W1003 06:50:23.337212 21456 saver.py:1138] now on by default.\n",
      "W1003 06:50:23.339208 21456 saver.py:1139] *******************************************************\n"
     ]
    },
    {
     "name": "stdout",
     "output_type": "stream",
     "text": [
      "Epoch: 15, Step: 1910, Loss: 0.0258291\n",
      "Epoch: 15, Step: 1920, Loss: 0.0342141\n",
      "Epoch: 15, Step: 1930, Loss: 0.294206\n",
      "Epoch: 15, Step: 1940, Loss: 1.38316\n",
      "Epoch: 15, Step: 1950, Loss: 0.774617\n",
      "Model saved in file: ./save\\model.ckpt\n",
      "Epoch: 16, Step: 1600, Loss: 0.0862607\n"
     ]
    },
    {
     "name": "stderr",
     "output_type": "stream",
     "text": [
      "W1003 06:51:48.676290 21456 saver.py:1134] *******************************************************\n",
      "W1003 06:51:48.678291 21456 saver.py:1135] TensorFlow's V1 checkpoint format has been deprecated.\n",
      "W1003 06:51:48.679293 21456 saver.py:1136] Consider switching to the more efficient V2 format:\n",
      "W1003 06:51:48.680293 21456 saver.py:1137]    `tf.train.Saver(write_version=tf.train.SaverDef.V2)`\n",
      "W1003 06:51:48.682295 21456 saver.py:1138] now on by default.\n",
      "W1003 06:51:48.683295 21456 saver.py:1139] *******************************************************\n"
     ]
    },
    {
     "name": "stdout",
     "output_type": "stream",
     "text": [
      "Epoch: 16, Step: 1610, Loss: 0.0510969\n",
      "Epoch: 16, Step: 1620, Loss: 0.00499169\n",
      "Epoch: 16, Step: 1630, Loss: 0.0028596\n",
      "Epoch: 16, Step: 1640, Loss: 0.00938574\n",
      "Epoch: 16, Step: 1650, Loss: 0.0335219\n",
      "Epoch: 16, Step: 1660, Loss: 0.0699961\n",
      "Epoch: 16, Step: 1670, Loss: 0.0023504\n",
      "Epoch: 16, Step: 1680, Loss: 0.0446075\n",
      "Epoch: 16, Step: 1690, Loss: 0.128784\n",
      "Epoch: 16, Step: 1700, Loss: 0.358419\n"
     ]
    },
    {
     "name": "stderr",
     "output_type": "stream",
     "text": [
      "W1003 06:54:28.001404 21456 saver.py:1134] *******************************************************\n",
      "W1003 06:54:28.002404 21456 saver.py:1135] TensorFlow's V1 checkpoint format has been deprecated.\n",
      "W1003 06:54:28.004404 21456 saver.py:1136] Consider switching to the more efficient V2 format:\n",
      "W1003 06:54:28.005404 21456 saver.py:1137]    `tf.train.Saver(write_version=tf.train.SaverDef.V2)`\n",
      "W1003 06:54:28.006407 21456 saver.py:1138] now on by default.\n",
      "W1003 06:54:28.007408 21456 saver.py:1139] *******************************************************\n"
     ]
    },
    {
     "name": "stdout",
     "output_type": "stream",
     "text": [
      "Epoch: 16, Step: 1710, Loss: 0.207167\n",
      "Epoch: 16, Step: 1720, Loss: 0.0145225\n",
      "Epoch: 16, Step: 1730, Loss: 0.00965215\n",
      "Epoch: 16, Step: 1740, Loss: 0.00900144\n",
      "Epoch: 16, Step: 1750, Loss: 0.00999715\n",
      "Epoch: 16, Step: 1760, Loss: 0.0132683\n",
      "Epoch: 16, Step: 1770, Loss: 1.18948\n",
      "Epoch: 16, Step: 1780, Loss: 4.24424\n",
      "Epoch: 16, Step: 1790, Loss: 0.0168691\n",
      "Epoch: 16, Step: 1800, Loss: 0.00624496\n"
     ]
    },
    {
     "name": "stderr",
     "output_type": "stream",
     "text": [
      "W1003 06:57:04.018241 21456 saver.py:1134] *******************************************************\n",
      "W1003 06:57:04.019242 21456 saver.py:1135] TensorFlow's V1 checkpoint format has been deprecated.\n",
      "W1003 06:57:04.020236 21456 saver.py:1136] Consider switching to the more efficient V2 format:\n",
      "W1003 06:57:04.021236 21456 saver.py:1137]    `tf.train.Saver(write_version=tf.train.SaverDef.V2)`\n",
      "W1003 06:57:04.022239 21456 saver.py:1138] now on by default.\n",
      "W1003 06:57:04.023239 21456 saver.py:1139] *******************************************************\n"
     ]
    },
    {
     "name": "stdout",
     "output_type": "stream",
     "text": [
      "Epoch: 16, Step: 1810, Loss: 0.00731914\n",
      "Epoch: 16, Step: 1820, Loss: 0.013088\n",
      "Epoch: 16, Step: 1830, Loss: 0.00677088\n",
      "Epoch: 16, Step: 1840, Loss: 0.00662887\n",
      "Epoch: 16, Step: 1850, Loss: 0.002346\n",
      "Epoch: 16, Step: 1860, Loss: 0.00188335\n",
      "Epoch: 16, Step: 1870, Loss: 0.00221088\n",
      "Epoch: 16, Step: 1880, Loss: 0.000703715\n",
      "Epoch: 16, Step: 1890, Loss: 0.00516642\n",
      "Epoch: 16, Step: 1900, Loss: 0.043706\n"
     ]
    },
    {
     "name": "stderr",
     "output_type": "stream",
     "text": [
      "W1003 06:59:37.776091 21456 saver.py:1134] *******************************************************\n",
      "W1003 06:59:37.777089 21456 saver.py:1135] TensorFlow's V1 checkpoint format has been deprecated.\n",
      "W1003 06:59:37.778092 21456 saver.py:1136] Consider switching to the more efficient V2 format:\n",
      "W1003 06:59:37.779092 21456 saver.py:1137]    `tf.train.Saver(write_version=tf.train.SaverDef.V2)`\n",
      "W1003 06:59:37.781093 21456 saver.py:1138] now on by default.\n",
      "W1003 06:59:37.782092 21456 saver.py:1139] *******************************************************\n"
     ]
    },
    {
     "name": "stdout",
     "output_type": "stream",
     "text": [
      "Epoch: 16, Step: 1910, Loss: 0.0447404\n",
      "Epoch: 16, Step: 1920, Loss: 0.0114089\n",
      "Epoch: 16, Step: 1930, Loss: 0.000587091\n",
      "Epoch: 16, Step: 1940, Loss: 0.00124326\n",
      "Epoch: 16, Step: 1950, Loss: 0.00149332\n",
      "Epoch: 16, Step: 1960, Loss: 0.000362719\n",
      "Epoch: 16, Step: 1970, Loss: 0.00094958\n",
      "Epoch: 16, Step: 1980, Loss: 0.00109363\n",
      "Epoch: 16, Step: 1990, Loss: 0.000608459\n",
      "Epoch: 16, Step: 2000, Loss: 0.00229584\n"
     ]
    },
    {
     "name": "stderr",
     "output_type": "stream",
     "text": [
      "W1003 07:02:19.074380 21456 saver.py:1134] *******************************************************\n",
      "W1003 07:02:19.075388 21456 saver.py:1135] TensorFlow's V1 checkpoint format has been deprecated.\n",
      "W1003 07:02:19.077384 21456 saver.py:1136] Consider switching to the more efficient V2 format:\n",
      "W1003 07:02:19.078382 21456 saver.py:1137]    `tf.train.Saver(write_version=tf.train.SaverDef.V2)`\n",
      "W1003 07:02:19.079384 21456 saver.py:1138] now on by default.\n",
      "W1003 07:02:19.080384 21456 saver.py:1139] *******************************************************\n"
     ]
    },
    {
     "name": "stdout",
     "output_type": "stream",
     "text": [
      "Epoch: 16, Step: 2010, Loss: 0.00143648\n",
      "Epoch: 16, Step: 2020, Loss: 0.00275708\n",
      "Epoch: 16, Step: 2030, Loss: 0.00235961\n",
      "Epoch: 16, Step: 2040, Loss: 0.00264664\n",
      "Epoch: 16, Step: 2050, Loss: 0.00215567\n",
      "Model saved in file: ./save\\model.ckpt\n",
      "Epoch: 17, Step: 1700, Loss: 0.00297016\n"
     ]
    },
    {
     "name": "stderr",
     "output_type": "stream",
     "text": [
      "W1003 07:03:42.606245 21456 saver.py:1134] *******************************************************\n",
      "W1003 07:03:42.607249 21456 saver.py:1135] TensorFlow's V1 checkpoint format has been deprecated.\n",
      "W1003 07:03:42.608243 21456 saver.py:1136] Consider switching to the more efficient V2 format:\n",
      "W1003 07:03:42.610244 21456 saver.py:1137]    `tf.train.Saver(write_version=tf.train.SaverDef.V2)`\n",
      "W1003 07:03:42.611244 21456 saver.py:1138] now on by default.\n",
      "W1003 07:03:42.613249 21456 saver.py:1139] *******************************************************\n"
     ]
    },
    {
     "name": "stdout",
     "output_type": "stream",
     "text": [
      "Epoch: 17, Step: 1710, Loss: 0.0308997\n",
      "Epoch: 17, Step: 1720, Loss: 0.0421307\n",
      "Epoch: 17, Step: 1730, Loss: 3.45373\n",
      "Epoch: 17, Step: 1740, Loss: 2.066\n",
      "Epoch: 17, Step: 1750, Loss: 0.00346746\n",
      "Epoch: 17, Step: 1760, Loss: 0.00523243\n",
      "Epoch: 17, Step: 1770, Loss: 0.0634528\n",
      "Epoch: 17, Step: 1780, Loss: 0.0782731\n",
      "Epoch: 17, Step: 1790, Loss: 0.0339628\n",
      "Epoch: 17, Step: 1800, Loss: 0.0650329\n"
     ]
    },
    {
     "name": "stderr",
     "output_type": "stream",
     "text": [
      "W1003 07:06:15.670989 21456 saver.py:1134] *******************************************************\n",
      "W1003 07:06:15.672991 21456 saver.py:1135] TensorFlow's V1 checkpoint format has been deprecated.\n",
      "W1003 07:06:15.673991 21456 saver.py:1136] Consider switching to the more efficient V2 format:\n",
      "W1003 07:06:15.675990 21456 saver.py:1137]    `tf.train.Saver(write_version=tf.train.SaverDef.V2)`\n",
      "W1003 07:06:15.676995 21456 saver.py:1138] now on by default.\n",
      "W1003 07:06:15.678993 21456 saver.py:1139] *******************************************************\n"
     ]
    },
    {
     "name": "stdout",
     "output_type": "stream",
     "text": [
      "Epoch: 17, Step: 1810, Loss: 0.0978368\n",
      "Epoch: 17, Step: 1820, Loss: 0.00326228\n",
      "Epoch: 17, Step: 1830, Loss: 0.0353684\n",
      "Epoch: 17, Step: 1840, Loss: 0.0194485\n",
      "Epoch: 17, Step: 1850, Loss: 0.0156079\n",
      "Epoch: 17, Step: 1860, Loss: 0.00638447\n",
      "Epoch: 17, Step: 1870, Loss: 0.129031\n",
      "Epoch: 17, Step: 1880, Loss: 0.0748471\n",
      "Epoch: 17, Step: 1890, Loss: 0.100177\n"
     ]
    },
    {
     "name": "stderr",
     "output_type": "stream",
     "text": [
      "W1003 07:08:49.189869 21456 saver.py:1134] *******************************************************\n"
     ]
    },
    {
     "name": "stdout",
     "output_type": "stream",
     "text": [
      "Epoch: 17, Step: 1900, Loss: 0.0985588\n"
     ]
    },
    {
     "name": "stderr",
     "output_type": "stream",
     "text": [
      "W1003 07:08:49.191873 21456 saver.py:1135] TensorFlow's V1 checkpoint format has been deprecated.\n",
      "W1003 07:08:49.192867 21456 saver.py:1136] Consider switching to the more efficient V2 format:\n",
      "W1003 07:08:49.196870 21456 saver.py:1137]    `tf.train.Saver(write_version=tf.train.SaverDef.V2)`\n",
      "W1003 07:08:49.198869 21456 saver.py:1138] now on by default.\n",
      "W1003 07:08:49.199875 21456 saver.py:1139] *******************************************************\n"
     ]
    },
    {
     "name": "stdout",
     "output_type": "stream",
     "text": [
      "Epoch: 17, Step: 1910, Loss: 0.0283646\n",
      "Epoch: 17, Step: 1920, Loss: 0.0267319\n",
      "Epoch: 17, Step: 1930, Loss: 0.025435\n",
      "Epoch: 17, Step: 1940, Loss: 0.0230014\n",
      "Epoch: 17, Step: 1950, Loss: 0.0235577\n",
      "Epoch: 17, Step: 1960, Loss: 0.0228944\n",
      "Epoch: 17, Step: 1970, Loss: 0.0224399\n",
      "Epoch: 17, Step: 1980, Loss: 0.0215589\n",
      "Epoch: 17, Step: 1990, Loss: 0.0323563\n"
     ]
    },
    {
     "name": "stderr",
     "output_type": "stream",
     "text": [
      "W1003 07:11:24.315371 21456 saver.py:1134] *******************************************************\n"
     ]
    },
    {
     "name": "stdout",
     "output_type": "stream",
     "text": [
      "Epoch: 17, Step: 2000, Loss: 0.0260902\n"
     ]
    },
    {
     "name": "stderr",
     "output_type": "stream",
     "text": [
      "W1003 07:11:24.316336 21456 saver.py:1135] TensorFlow's V1 checkpoint format has been deprecated.\n",
      "W1003 07:11:24.318338 21456 saver.py:1136] Consider switching to the more efficient V2 format:\n",
      "W1003 07:11:24.319339 21456 saver.py:1137]    `tf.train.Saver(write_version=tf.train.SaverDef.V2)`\n",
      "W1003 07:11:24.320344 21456 saver.py:1138] now on by default.\n",
      "W1003 07:11:24.322340 21456 saver.py:1139] *******************************************************\n"
     ]
    },
    {
     "name": "stdout",
     "output_type": "stream",
     "text": [
      "Epoch: 17, Step: 2010, Loss: 0.0212863\n",
      "Epoch: 17, Step: 2020, Loss: 0.00863099\n",
      "Epoch: 17, Step: 2030, Loss: 0.0448244\n",
      "Epoch: 17, Step: 2040, Loss: 0.0619142\n",
      "Epoch: 17, Step: 2050, Loss: 0.112058\n",
      "Epoch: 17, Step: 2060, Loss: 0.567341\n",
      "Epoch: 17, Step: 2070, Loss: 0.408235\n",
      "Epoch: 17, Step: 2080, Loss: 0.112568\n",
      "Epoch: 17, Step: 2090, Loss: 0.0378477\n"
     ]
    },
    {
     "name": "stderr",
     "output_type": "stream",
     "text": [
      "W1003 07:13:58.963453 21456 saver.py:1134] *******************************************************\n"
     ]
    },
    {
     "name": "stdout",
     "output_type": "stream",
     "text": [
      "Epoch: 17, Step: 2100, Loss: 0.0166386\n"
     ]
    },
    {
     "name": "stderr",
     "output_type": "stream",
     "text": [
      "W1003 07:13:58.964456 21456 saver.py:1135] TensorFlow's V1 checkpoint format has been deprecated.\n",
      "W1003 07:13:58.965452 21456 saver.py:1136] Consider switching to the more efficient V2 format:\n",
      "W1003 07:13:58.966454 21456 saver.py:1137]    `tf.train.Saver(write_version=tf.train.SaverDef.V2)`\n",
      "W1003 07:13:58.967452 21456 saver.py:1138] now on by default.\n",
      "W1003 07:13:58.968456 21456 saver.py:1139] *******************************************************\n"
     ]
    },
    {
     "name": "stdout",
     "output_type": "stream",
     "text": [
      "Epoch: 17, Step: 2110, Loss: 0.0732744\n",
      "Epoch: 17, Step: 2120, Loss: 0.534994\n",
      "Epoch: 17, Step: 2130, Loss: 1.45289\n",
      "Epoch: 17, Step: 2140, Loss: 0.549537\n",
      "Epoch: 17, Step: 2150, Loss: 0.112925\n",
      "Model saved in file: ./save\\model.ckpt\n"
     ]
    },
    {
     "name": "stderr",
     "output_type": "stream",
     "text": [
      "W1003 07:15:22.685108 21456 saver.py:1134] *******************************************************\n"
     ]
    },
    {
     "name": "stdout",
     "output_type": "stream",
     "text": [
      "Epoch: 18, Step: 1800, Loss: 0.0153435\n"
     ]
    },
    {
     "name": "stderr",
     "output_type": "stream",
     "text": [
      "W1003 07:15:22.687106 21456 saver.py:1135] TensorFlow's V1 checkpoint format has been deprecated.\n",
      "W1003 07:15:22.688108 21456 saver.py:1136] Consider switching to the more efficient V2 format:\n",
      "W1003 07:15:22.689108 21456 saver.py:1137]    `tf.train.Saver(write_version=tf.train.SaverDef.V2)`\n",
      "W1003 07:15:22.691110 21456 saver.py:1138] now on by default.\n",
      "W1003 07:15:22.695115 21456 saver.py:1139] *******************************************************\n"
     ]
    },
    {
     "name": "stdout",
     "output_type": "stream",
     "text": [
      "Epoch: 18, Step: 1810, Loss: 0.00626152\n",
      "Epoch: 18, Step: 1820, Loss: 0.00166381\n",
      "Epoch: 18, Step: 1830, Loss: 0.00971677\n",
      "Epoch: 18, Step: 1840, Loss: 0.0334299\n",
      "Epoch: 18, Step: 1850, Loss: 0.0524103\n",
      "Epoch: 18, Step: 1860, Loss: 0.00306018\n",
      "Epoch: 18, Step: 1870, Loss: 0.0832773\n",
      "Epoch: 18, Step: 1880, Loss: 0.211532\n",
      "Epoch: 18, Step: 1890, Loss: 0.298759\n",
      "Epoch: 18, Step: 1900, Loss: 0.221102\n"
     ]
    },
    {
     "name": "stderr",
     "output_type": "stream",
     "text": [
      "W1003 07:17:57.578728 21456 saver.py:1134] *******************************************************\n",
      "W1003 07:17:57.580733 21456 saver.py:1135] TensorFlow's V1 checkpoint format has been deprecated.\n",
      "W1003 07:17:57.581731 21456 saver.py:1136] Consider switching to the more efficient V2 format:\n",
      "W1003 07:17:57.582732 21456 saver.py:1137]    `tf.train.Saver(write_version=tf.train.SaverDef.V2)`\n",
      "W1003 07:17:57.584735 21456 saver.py:1138] now on by default.\n",
      "W1003 07:17:57.586733 21456 saver.py:1139] *******************************************************\n"
     ]
    },
    {
     "name": "stdout",
     "output_type": "stream",
     "text": [
      "Epoch: 18, Step: 1910, Loss: 0.0164645\n",
      "Epoch: 18, Step: 1920, Loss: 0.0152983\n",
      "Epoch: 18, Step: 1930, Loss: 0.0150863\n",
      "Epoch: 18, Step: 1940, Loss: 0.0156934\n",
      "Epoch: 18, Step: 1950, Loss: 0.0241219\n",
      "Epoch: 18, Step: 1960, Loss: 2.46099\n",
      "Epoch: 18, Step: 1970, Loss: 2.89992\n",
      "Epoch: 18, Step: 1980, Loss: 0.0170026\n",
      "Epoch: 18, Step: 1990, Loss: 0.00678247\n",
      "Epoch: 18, Step: 2000, Loss: 0.00597808\n"
     ]
    },
    {
     "name": "stderr",
     "output_type": "stream",
     "text": [
      "W1003 07:20:34.184649 21456 saver.py:1134] *******************************************************\n",
      "W1003 07:20:34.186650 21456 saver.py:1135] TensorFlow's V1 checkpoint format has been deprecated.\n",
      "W1003 07:20:34.187652 21456 saver.py:1136] Consider switching to the more efficient V2 format:\n",
      "W1003 07:20:34.189655 21456 saver.py:1137]    `tf.train.Saver(write_version=tf.train.SaverDef.V2)`\n",
      "W1003 07:20:34.191653 21456 saver.py:1138] now on by default.\n",
      "W1003 07:20:34.192651 21456 saver.py:1139] *******************************************************\n"
     ]
    },
    {
     "name": "stdout",
     "output_type": "stream",
     "text": [
      "Epoch: 18, Step: 2010, Loss: 0.0130344\n",
      "Epoch: 18, Step: 2020, Loss: 0.0038332\n",
      "Epoch: 18, Step: 2030, Loss: 0.00602227\n",
      "Epoch: 18, Step: 2040, Loss: 0.00284605\n",
      "Epoch: 18, Step: 2050, Loss: 0.004057\n",
      "Epoch: 18, Step: 2060, Loss: 0.0050048\n",
      "Epoch: 18, Step: 2070, Loss: 0.00228779\n",
      "Epoch: 18, Step: 2080, Loss: 0.00912956\n",
      "Epoch: 18, Step: 2090, Loss: 0.0347942\n",
      "Epoch: 18, Step: 2100, Loss: 0.0339031\n"
     ]
    },
    {
     "name": "stderr",
     "output_type": "stream",
     "text": [
      "W1003 07:23:09.325917 21456 saver.py:1134] *******************************************************\n",
      "W1003 07:23:09.326920 21456 saver.py:1135] TensorFlow's V1 checkpoint format has been deprecated.\n",
      "W1003 07:23:09.327920 21456 saver.py:1136] Consider switching to the more efficient V2 format:\n",
      "W1003 07:23:09.329921 21456 saver.py:1137]    `tf.train.Saver(write_version=tf.train.SaverDef.V2)`\n",
      "W1003 07:23:09.331925 21456 saver.py:1138] now on by default.\n",
      "W1003 07:23:09.333920 21456 saver.py:1139] *******************************************************\n"
     ]
    },
    {
     "name": "stdout",
     "output_type": "stream",
     "text": [
      "Epoch: 18, Step: 2110, Loss: 0.00308344\n",
      "Epoch: 18, Step: 2120, Loss: 0.000817964\n",
      "Epoch: 18, Step: 2130, Loss: 0.00174321\n",
      "Epoch: 18, Step: 2140, Loss: 0.00139371\n",
      "Epoch: 18, Step: 2150, Loss: 0.000665731\n",
      "Epoch: 18, Step: 2160, Loss: 0.00196738\n",
      "Epoch: 18, Step: 2170, Loss: 0.000294989\n",
      "Epoch: 18, Step: 2180, Loss: 0.000497831\n",
      "Epoch: 18, Step: 2190, Loss: 0.00168126\n",
      "Epoch: 18, Step: 2200, Loss: 0.000908635\n"
     ]
    },
    {
     "name": "stderr",
     "output_type": "stream",
     "text": [
      "W1003 07:25:44.415376 21456 saver.py:1134] *******************************************************\n",
      "W1003 07:25:44.417373 21456 saver.py:1135] TensorFlow's V1 checkpoint format has been deprecated.\n",
      "W1003 07:25:44.418375 21456 saver.py:1136] Consider switching to the more efficient V2 format:\n",
      "W1003 07:25:44.420383 21456 saver.py:1137]    `tf.train.Saver(write_version=tf.train.SaverDef.V2)`\n",
      "W1003 07:25:44.421380 21456 saver.py:1138] now on by default.\n",
      "W1003 07:25:44.423379 21456 saver.py:1139] *******************************************************\n"
     ]
    },
    {
     "name": "stdout",
     "output_type": "stream",
     "text": [
      "Epoch: 18, Step: 2210, Loss: 0.00129056\n",
      "Epoch: 18, Step: 2220, Loss: 0.000730093\n",
      "Epoch: 18, Step: 2230, Loss: 0.000613087\n",
      "Epoch: 18, Step: 2240, Loss: 0.000635396\n",
      "Epoch: 18, Step: 2250, Loss: 0.000580795\n",
      "Model saved in file: ./save\\model.ckpt\n",
      "Epoch: 19, Step: 1900, Loss: 0.0290411\n"
     ]
    },
    {
     "name": "stderr",
     "output_type": "stream",
     "text": [
      "W1003 07:27:10.689203 21456 saver.py:1134] *******************************************************\n",
      "W1003 07:27:10.691216 21456 saver.py:1135] TensorFlow's V1 checkpoint format has been deprecated.\n",
      "W1003 07:27:10.693206 21456 saver.py:1136] Consider switching to the more efficient V2 format:\n",
      "W1003 07:27:10.696205 21456 saver.py:1137]    `tf.train.Saver(write_version=tf.train.SaverDef.V2)`\n",
      "W1003 07:27:10.698206 21456 saver.py:1138] now on by default.\n",
      "W1003 07:27:10.699209 21456 saver.py:1139] *******************************************************\n"
     ]
    },
    {
     "name": "stdout",
     "output_type": "stream",
     "text": [
      "Epoch: 19, Step: 1910, Loss: 0.0371458\n",
      "Epoch: 19, Step: 1920, Loss: 4.64374\n",
      "Epoch: 19, Step: 1930, Loss: 0.749738\n",
      "Epoch: 19, Step: 1940, Loss: 0.00137977\n",
      "Epoch: 19, Step: 1950, Loss: 0.0205397\n",
      "Epoch: 19, Step: 1960, Loss: 0.0766945\n",
      "Epoch: 19, Step: 1970, Loss: 0.091757\n",
      "Epoch: 19, Step: 1980, Loss: 0.015803\n",
      "Epoch: 19, Step: 1990, Loss: 0.0797262\n",
      "Epoch: 19, Step: 2000, Loss: 0.0722859\n"
     ]
    },
    {
     "name": "stderr",
     "output_type": "stream",
     "text": [
      "W1003 07:29:49.766918 21456 saver.py:1134] *******************************************************\n",
      "W1003 07:29:49.768925 21456 saver.py:1135] TensorFlow's V1 checkpoint format has been deprecated.\n",
      "W1003 07:29:49.769925 21456 saver.py:1136] Consider switching to the more efficient V2 format:\n",
      "W1003 07:29:49.770920 21456 saver.py:1137]    `tf.train.Saver(write_version=tf.train.SaverDef.V2)`\n",
      "W1003 07:29:49.772927 21456 saver.py:1138] now on by default.\n",
      "W1003 07:29:49.773927 21456 saver.py:1139] *******************************************************\n"
     ]
    },
    {
     "name": "stdout",
     "output_type": "stream",
     "text": [
      "Epoch: 19, Step: 2010, Loss: 0.00230708\n",
      "Epoch: 19, Step: 2020, Loss: 0.0496992\n",
      "Epoch: 19, Step: 2030, Loss: 0.0116747\n",
      "Epoch: 19, Step: 2040, Loss: 0.0175271\n",
      "Epoch: 19, Step: 2050, Loss: 0.00500902\n",
      "Epoch: 19, Step: 2060, Loss: 0.139114\n",
      "Epoch: 19, Step: 2070, Loss: 0.0394052\n",
      "Epoch: 19, Step: 2080, Loss: 0.148955\n",
      "Epoch: 19, Step: 2090, Loss: 0.089904\n",
      "Epoch: 19, Step: 2100, Loss: 0.0258533\n"
     ]
    },
    {
     "name": "stderr",
     "output_type": "stream",
     "text": [
      "W1003 07:32:27.801046 21456 saver.py:1134] *******************************************************\n",
      "W1003 07:32:27.804417 21456 saver.py:1135] TensorFlow's V1 checkpoint format has been deprecated.\n",
      "W1003 07:32:27.806051 21456 saver.py:1136] Consider switching to the more efficient V2 format:\n",
      "W1003 07:32:27.808046 21456 saver.py:1137]    `tf.train.Saver(write_version=tf.train.SaverDef.V2)`\n",
      "W1003 07:32:27.810052 21456 saver.py:1138] now on by default.\n",
      "W1003 07:32:27.812047 21456 saver.py:1139] *******************************************************\n"
     ]
    },
    {
     "name": "stdout",
     "output_type": "stream",
     "text": [
      "Epoch: 19, Step: 2110, Loss: 0.0154486\n",
      "Epoch: 19, Step: 2120, Loss: 0.0170754\n",
      "Epoch: 19, Step: 2130, Loss: 0.0147612\n",
      "Epoch: 19, Step: 2140, Loss: 0.0158245\n",
      "Epoch: 19, Step: 2150, Loss: 0.0170247\n",
      "Epoch: 19, Step: 2160, Loss: 0.0181603\n",
      "Epoch: 19, Step: 2170, Loss: 0.0178725\n",
      "Epoch: 19, Step: 2180, Loss: 0.0341232\n",
      "Epoch: 19, Step: 2190, Loss: 0.0308812\n",
      "Epoch: 19, Step: 2200, Loss: 0.0173355\n"
     ]
    },
    {
     "name": "stderr",
     "output_type": "stream",
     "text": [
      "W1003 07:35:05.144167 21456 saver.py:1134] *******************************************************\n",
      "W1003 07:35:05.146167 21456 saver.py:1135] TensorFlow's V1 checkpoint format has been deprecated.\n",
      "W1003 07:35:05.147169 21456 saver.py:1136] Consider switching to the more efficient V2 format:\n",
      "W1003 07:35:05.148168 21456 saver.py:1137]    `tf.train.Saver(write_version=tf.train.SaverDef.V2)`\n",
      "W1003 07:35:05.149170 21456 saver.py:1138] now on by default.\n",
      "W1003 07:35:05.156166 21456 saver.py:1139] *******************************************************\n"
     ]
    },
    {
     "name": "stdout",
     "output_type": "stream",
     "text": [
      "Epoch: 19, Step: 2210, Loss: 0.0155166\n",
      "Epoch: 19, Step: 2220, Loss: 0.0757695\n",
      "Epoch: 19, Step: 2230, Loss: 0.0439095\n",
      "Epoch: 19, Step: 2240, Loss: 0.257295\n",
      "Epoch: 19, Step: 2250, Loss: 0.62528\n",
      "Epoch: 19, Step: 2260, Loss: 0.338781\n",
      "Epoch: 19, Step: 2270, Loss: 0.114967\n",
      "Epoch: 19, Step: 2280, Loss: 0.0563874\n",
      "Epoch: 19, Step: 2290, Loss: 0.00910008\n",
      "Epoch: 19, Step: 2300, Loss: 0.0855017\n"
     ]
    },
    {
     "name": "stderr",
     "output_type": "stream",
     "text": [
      "W1003 07:37:43.718629 21456 saver.py:1134] *******************************************************\n",
      "W1003 07:37:43.721635 21456 saver.py:1135] TensorFlow's V1 checkpoint format has been deprecated.\n",
      "W1003 07:37:43.723639 21456 saver.py:1136] Consider switching to the more efficient V2 format:\n",
      "W1003 07:37:43.725639 21456 saver.py:1137]    `tf.train.Saver(write_version=tf.train.SaverDef.V2)`\n",
      "W1003 07:37:43.727639 21456 saver.py:1138] now on by default.\n",
      "W1003 07:37:43.729638 21456 saver.py:1139] *******************************************************\n"
     ]
    },
    {
     "name": "stdout",
     "output_type": "stream",
     "text": [
      "Epoch: 19, Step: 2310, Loss: 0.701981\n",
      "Epoch: 19, Step: 2320, Loss: 1.41082\n",
      "Epoch: 19, Step: 2330, Loss: 0.285512\n",
      "Epoch: 19, Step: 2340, Loss: 0.134516\n",
      "Epoch: 19, Step: 2350, Loss: 0.00353177\n",
      "Model saved in file: ./save\\model.ckpt\n",
      "Epoch: 20, Step: 2000, Loss: 0.00534224\n"
     ]
    },
    {
     "name": "stderr",
     "output_type": "stream",
     "text": [
      "W1003 07:39:11.479868 21456 saver.py:1134] *******************************************************\n",
      "W1003 07:39:11.481873 21456 saver.py:1135] TensorFlow's V1 checkpoint format has been deprecated.\n",
      "W1003 07:39:11.482873 21456 saver.py:1136] Consider switching to the more efficient V2 format:\n",
      "W1003 07:39:11.483872 21456 saver.py:1137]    `tf.train.Saver(write_version=tf.train.SaverDef.V2)`\n",
      "W1003 07:39:11.489871 21456 saver.py:1138] now on by default.\n",
      "W1003 07:39:11.491873 21456 saver.py:1139] *******************************************************\n"
     ]
    },
    {
     "name": "stdout",
     "output_type": "stream",
     "text": [
      "Epoch: 20, Step: 2010, Loss: 0.00140442\n",
      "Epoch: 20, Step: 2020, Loss: 0.0135887\n",
      "Epoch: 20, Step: 2030, Loss: 0.0404118\n",
      "Epoch: 20, Step: 2040, Loss: 0.0486325\n",
      "Epoch: 20, Step: 2050, Loss: 0.00793525\n",
      "Epoch: 20, Step: 2060, Loss: 0.105465\n",
      "Epoch: 20, Step: 2070, Loss: 0.367433\n",
      "Epoch: 20, Step: 2080, Loss: 0.0956048\n",
      "Epoch: 20, Step: 2090, Loss: 0.173663\n",
      "Epoch: 20, Step: 2100, Loss: 0.00733591\n"
     ]
    },
    {
     "name": "stderr",
     "output_type": "stream",
     "text": [
      "W1003 07:41:52.206532 21456 saver.py:1134] *******************************************************\n",
      "W1003 07:41:52.208531 21456 saver.py:1135] TensorFlow's V1 checkpoint format has been deprecated.\n",
      "W1003 07:41:52.209531 21456 saver.py:1136] Consider switching to the more efficient V2 format:\n",
      "W1003 07:41:52.210532 21456 saver.py:1137]    `tf.train.Saver(write_version=tf.train.SaverDef.V2)`\n",
      "W1003 07:41:52.212536 21456 saver.py:1138] now on by default.\n",
      "W1003 07:41:52.214536 21456 saver.py:1139] *******************************************************\n"
     ]
    },
    {
     "name": "stdout",
     "output_type": "stream",
     "text": [
      "Epoch: 20, Step: 2110, Loss: 0.00819618\n",
      "Epoch: 20, Step: 2120, Loss: 0.00934417\n",
      "Epoch: 20, Step: 2130, Loss: 0.00942578\n",
      "Epoch: 20, Step: 2140, Loss: 0.017916\n",
      "Epoch: 20, Step: 2150, Loss: 4.01723\n",
      "Epoch: 20, Step: 2160, Loss: 1.46462\n",
      "Epoch: 20, Step: 2170, Loss: 0.0138238\n",
      "Epoch: 20, Step: 2180, Loss: 0.0053953\n",
      "Epoch: 20, Step: 2190, Loss: 0.0071722\n",
      "Epoch: 20, Step: 2200, Loss: 0.0151772\n"
     ]
    },
    {
     "name": "stderr",
     "output_type": "stream",
     "text": [
      "W1003 07:44:33.219359 21456 saver.py:1134] *******************************************************\n",
      "W1003 07:44:33.221353 21456 saver.py:1135] TensorFlow's V1 checkpoint format has been deprecated.\n",
      "W1003 07:44:33.222358 21456 saver.py:1136] Consider switching to the more efficient V2 format:\n",
      "W1003 07:44:33.222358 21456 saver.py:1137]    `tf.train.Saver(write_version=tf.train.SaverDef.V2)`\n",
      "W1003 07:44:33.229362 21456 saver.py:1138] now on by default.\n",
      "W1003 07:44:33.231363 21456 saver.py:1139] *******************************************************\n"
     ]
    },
    {
     "name": "stdout",
     "output_type": "stream",
     "text": [
      "Epoch: 20, Step: 2210, Loss: 0.00634861\n",
      "Epoch: 20, Step: 2220, Loss: 0.0034516\n",
      "Epoch: 20, Step: 2230, Loss: 0.00105975\n",
      "Epoch: 20, Step: 2240, Loss: 0.002022\n",
      "Epoch: 20, Step: 2250, Loss: 0.00258101\n",
      "Epoch: 20, Step: 2260, Loss: 0.0014736\n",
      "Epoch: 20, Step: 2270, Loss: 0.0150363\n",
      "Epoch: 20, Step: 2280, Loss: 0.0524377\n",
      "Epoch: 20, Step: 2290, Loss: 0.0366993\n",
      "Epoch: 20, Step: 2300, Loss: 0.000767849\n"
     ]
    },
    {
     "name": "stderr",
     "output_type": "stream",
     "text": [
      "W1003 07:47:16.193675 21456 saver.py:1134] *******************************************************\n",
      "W1003 07:47:16.197675 21456 saver.py:1135] TensorFlow's V1 checkpoint format has been deprecated.\n",
      "W1003 07:47:16.200675 21456 saver.py:1136] Consider switching to the more efficient V2 format:\n",
      "W1003 07:47:16.202677 21456 saver.py:1137]    `tf.train.Saver(write_version=tf.train.SaverDef.V2)`\n",
      "W1003 07:47:16.203677 21456 saver.py:1138] now on by default.\n",
      "W1003 07:47:16.206678 21456 saver.py:1139] *******************************************************\n"
     ]
    },
    {
     "name": "stdout",
     "output_type": "stream",
     "text": [
      "Epoch: 20, Step: 2310, Loss: 0.00118477\n",
      "Epoch: 20, Step: 2320, Loss: 0.00029756\n",
      "Epoch: 20, Step: 2330, Loss: 0.00149005\n",
      "Epoch: 20, Step: 2340, Loss: 0.000302365\n",
      "Epoch: 20, Step: 2350, Loss: 0.00120652\n",
      "Epoch: 20, Step: 2360, Loss: 0.000542209\n",
      "Epoch: 20, Step: 2370, Loss: 0.000455959\n",
      "Epoch: 20, Step: 2380, Loss: 0.00186068\n",
      "Epoch: 20, Step: 2390, Loss: 0.00148044\n",
      "Epoch: 20, Step: 2400, Loss: 0.00181411\n"
     ]
    },
    {
     "name": "stderr",
     "output_type": "stream",
     "text": [
      "W1003 07:50:00.486018 21456 saver.py:1134] *******************************************************\n",
      "W1003 07:50:00.487017 21456 saver.py:1135] TensorFlow's V1 checkpoint format has been deprecated.\n",
      "W1003 07:50:00.489018 21456 saver.py:1136] Consider switching to the more efficient V2 format:\n",
      "W1003 07:50:00.491022 21456 saver.py:1137]    `tf.train.Saver(write_version=tf.train.SaverDef.V2)`\n",
      "W1003 07:50:00.493021 21456 saver.py:1138] now on by default.\n",
      "W1003 07:50:00.494021 21456 saver.py:1139] *******************************************************\n"
     ]
    },
    {
     "name": "stdout",
     "output_type": "stream",
     "text": [
      "Epoch: 20, Step: 2410, Loss: 0.00127752\n",
      "Epoch: 20, Step: 2420, Loss: 0.00225479\n",
      "Epoch: 20, Step: 2430, Loss: 0.00218171\n",
      "Epoch: 20, Step: 2440, Loss: 0.00452888\n",
      "Epoch: 20, Step: 2450, Loss: 0.0512584\n",
      "Model saved in file: ./save\\model.ckpt\n",
      "Epoch: 21, Step: 2100, Loss: 0.0659203\n"
     ]
    },
    {
     "name": "stderr",
     "output_type": "stream",
     "text": [
      "W1003 07:51:29.017363 21456 saver.py:1134] *******************************************************\n",
      "W1003 07:51:29.019364 21456 saver.py:1135] TensorFlow's V1 checkpoint format has been deprecated.\n",
      "W1003 07:51:29.020370 21456 saver.py:1136] Consider switching to the more efficient V2 format:\n",
      "W1003 07:51:29.022367 21456 saver.py:1137]    `tf.train.Saver(write_version=tf.train.SaverDef.V2)`\n",
      "W1003 07:51:29.024369 21456 saver.py:1138] now on by default.\n",
      "W1003 07:51:29.026367 21456 saver.py:1139] *******************************************************\n"
     ]
    },
    {
     "name": "stdout",
     "output_type": "stream",
     "text": [
      "Epoch: 21, Step: 2110, Loss: 5.46841\n",
      "Epoch: 21, Step: 2120, Loss: 0.0629106\n",
      "Epoch: 21, Step: 2130, Loss: 0.0020888\n",
      "Epoch: 21, Step: 2140, Loss: 0.0270652\n",
      "Epoch: 21, Step: 2150, Loss: 0.0638765\n",
      "Epoch: 21, Step: 2160, Loss: 0.0686791\n",
      "Epoch: 21, Step: 2170, Loss: 0.00582189\n",
      "Epoch: 21, Step: 2180, Loss: 0.109844\n",
      "Epoch: 21, Step: 2190, Loss: 0.0548808\n",
      "Epoch: 21, Step: 2200, Loss: 0.00178825\n"
     ]
    },
    {
     "name": "stderr",
     "output_type": "stream",
     "text": [
      "W1003 07:54:11.116596 21456 saver.py:1134] *******************************************************\n",
      "W1003 07:54:11.119596 21456 saver.py:1135] TensorFlow's V1 checkpoint format has been deprecated.\n",
      "W1003 07:54:11.122597 21456 saver.py:1136] Consider switching to the more efficient V2 format:\n",
      "W1003 07:54:11.123598 21456 saver.py:1137]    `tf.train.Saver(write_version=tf.train.SaverDef.V2)`\n",
      "W1003 07:54:11.124595 21456 saver.py:1138] now on by default.\n",
      "W1003 07:54:11.125600 21456 saver.py:1139] *******************************************************\n"
     ]
    },
    {
     "name": "stdout",
     "output_type": "stream",
     "text": [
      "Epoch: 21, Step: 2210, Loss: 0.0480901\n",
      "Epoch: 21, Step: 2220, Loss: 0.0146175\n",
      "Epoch: 21, Step: 2230, Loss: 0.0129819\n",
      "Epoch: 21, Step: 2240, Loss: 0.0316808\n",
      "Epoch: 21, Step: 2250, Loss: 0.151623\n",
      "Epoch: 21, Step: 2260, Loss: 0.0408531\n",
      "Epoch: 21, Step: 2270, Loss: 0.120754\n",
      "Epoch: 21, Step: 2280, Loss: 0.054861\n",
      "Epoch: 21, Step: 2290, Loss: 0.0401645\n"
     ]
    },
    {
     "name": "stderr",
     "output_type": "stream",
     "text": [
      "W1003 07:57:01.089934 21456 saver.py:1134] *******************************************************\n"
     ]
    },
    {
     "name": "stdout",
     "output_type": "stream",
     "text": [
      "Epoch: 21, Step: 2300, Loss: 0.0257113\n"
     ]
    },
    {
     "name": "stderr",
     "output_type": "stream",
     "text": [
      "W1003 07:57:01.090939 21456 saver.py:1135] TensorFlow's V1 checkpoint format has been deprecated.\n",
      "W1003 07:57:01.091941 21456 saver.py:1136] Consider switching to the more efficient V2 format:\n",
      "W1003 07:57:01.092939 21456 saver.py:1137]    `tf.train.Saver(write_version=tf.train.SaverDef.V2)`\n",
      "W1003 07:57:01.093939 21456 saver.py:1138] now on by default.\n",
      "W1003 07:57:01.095939 21456 saver.py:1139] *******************************************************\n"
     ]
    },
    {
     "name": "stdout",
     "output_type": "stream",
     "text": [
      "Epoch: 21, Step: 2310, Loss: 0.0212991\n",
      "Epoch: 21, Step: 2320, Loss: 0.0222457\n",
      "Epoch: 21, Step: 2330, Loss: 0.0231187\n",
      "Epoch: 21, Step: 2340, Loss: 0.023471\n",
      "Epoch: 21, Step: 2350, Loss: 0.0228656\n",
      "Epoch: 21, Step: 2360, Loss: 0.0272254\n",
      "Epoch: 21, Step: 2370, Loss: 0.0330648\n",
      "Epoch: 21, Step: 2380, Loss: 0.0408695\n",
      "Epoch: 21, Step: 2390, Loss: 0.00868631\n",
      "Epoch: 21, Step: 2400, Loss: 0.0194835\n"
     ]
    },
    {
     "name": "stderr",
     "output_type": "stream",
     "text": [
      "W1003 07:59:46.900313 21456 saver.py:1134] *******************************************************\n",
      "W1003 07:59:46.901315 21456 saver.py:1135] TensorFlow's V1 checkpoint format has been deprecated.\n",
      "W1003 07:59:46.903312 21456 saver.py:1136] Consider switching to the more efficient V2 format:\n",
      "W1003 07:59:46.905312 21456 saver.py:1137]    `tf.train.Saver(write_version=tf.train.SaverDef.V2)`\n",
      "W1003 07:59:46.907316 21456 saver.py:1138] now on by default.\n",
      "W1003 07:59:46.910315 21456 saver.py:1139] *******************************************************\n"
     ]
    },
    {
     "name": "stdout",
     "output_type": "stream",
     "text": [
      "Epoch: 21, Step: 2410, Loss: 0.0822598\n",
      "Epoch: 21, Step: 2420, Loss: 0.0237138\n",
      "Epoch: 21, Step: 2430, Loss: 0.321271\n",
      "Epoch: 21, Step: 2440, Loss: 0.604601\n",
      "Epoch: 21, Step: 2450, Loss: 0.229474\n",
      "Epoch: 21, Step: 2460, Loss: 0.0673591\n",
      "Epoch: 21, Step: 2470, Loss: 0.0362154\n",
      "Epoch: 21, Step: 2480, Loss: 0.0170573\n",
      "Epoch: 21, Step: 2490, Loss: 0.125835\n",
      "Epoch: 21, Step: 2500, Loss: 0.948472\n"
     ]
    },
    {
     "name": "stderr",
     "output_type": "stream",
     "text": [
      "W1003 08:02:32.570627 21456 saver.py:1134] *******************************************************\n",
      "W1003 08:02:32.571627 21456 saver.py:1135] TensorFlow's V1 checkpoint format has been deprecated.\n",
      "W1003 08:02:32.573625 21456 saver.py:1136] Consider switching to the more efficient V2 format:\n",
      "W1003 08:02:32.578628 21456 saver.py:1137]    `tf.train.Saver(write_version=tf.train.SaverDef.V2)`\n",
      "W1003 08:02:32.580630 21456 saver.py:1138] now on by default.\n",
      "W1003 08:02:32.581626 21456 saver.py:1139] *******************************************************\n"
     ]
    },
    {
     "name": "stdout",
     "output_type": "stream",
     "text": [
      "Epoch: 21, Step: 2510, Loss: 1.43941\n",
      "Epoch: 21, Step: 2520, Loss: 0.119998\n",
      "Epoch: 21, Step: 2530, Loss: 0.119184\n",
      "Epoch: 21, Step: 2540, Loss: 0.00132785\n",
      "Epoch: 21, Step: 2550, Loss: 0.00560581\n",
      "Model saved in file: ./save\\model.ckpt\n"
     ]
    },
    {
     "name": "stderr",
     "output_type": "stream",
     "text": [
      "W1003 08:04:02.728936 21456 saver.py:1134] *******************************************************\n"
     ]
    },
    {
     "name": "stdout",
     "output_type": "stream",
     "text": [
      "Epoch: 22, Step: 2200, Loss: 0.00725139\n"
     ]
    },
    {
     "name": "stderr",
     "output_type": "stream",
     "text": [
      "W1003 08:04:02.730942 21456 saver.py:1135] TensorFlow's V1 checkpoint format has been deprecated.\n",
      "W1003 08:04:02.731943 21456 saver.py:1136] Consider switching to the more efficient V2 format:\n",
      "W1003 08:04:02.732939 21456 saver.py:1137]    `tf.train.Saver(write_version=tf.train.SaverDef.V2)`\n",
      "W1003 08:04:02.734941 21456 saver.py:1138] now on by default.\n",
      "W1003 08:04:02.736942 21456 saver.py:1139] *******************************************************\n"
     ]
    },
    {
     "name": "stdout",
     "output_type": "stream",
     "text": [
      "Epoch: 22, Step: 2210, Loss: 0.0140729\n",
      "Epoch: 22, Step: 2220, Loss: 0.0405673\n",
      "Epoch: 22, Step: 2230, Loss: 0.0365106\n",
      "Epoch: 22, Step: 2240, Loss: 0.00553386\n",
      "Epoch: 22, Step: 2250, Loss: 0.125291\n",
      "Epoch: 22, Step: 2260, Loss: 0.418223\n",
      "Epoch: 22, Step: 2270, Loss: 0.101978\n",
      "Epoch: 22, Step: 2280, Loss: 0.156718\n",
      "Epoch: 22, Step: 2290, Loss: 0.0154706\n",
      "Epoch: 22, Step: 2300, Loss: 0.015725\n"
     ]
    },
    {
     "name": "stderr",
     "output_type": "stream",
     "text": [
      "W1003 08:06:49.938041 21456 saver.py:1134] *******************************************************\n",
      "W1003 08:06:49.939078 21456 saver.py:1135] TensorFlow's V1 checkpoint format has been deprecated.\n",
      "W1003 08:06:49.941046 21456 saver.py:1136] Consider switching to the more efficient V2 format:\n",
      "W1003 08:06:49.942047 21456 saver.py:1137]    `tf.train.Saver(write_version=tf.train.SaverDef.V2)`\n",
      "W1003 08:06:49.944046 21456 saver.py:1138] now on by default.\n",
      "W1003 08:06:49.946050 21456 saver.py:1139] *******************************************************\n"
     ]
    },
    {
     "name": "stdout",
     "output_type": "stream",
     "text": [
      "Epoch: 22, Step: 2310, Loss: 0.0150203\n",
      "Epoch: 22, Step: 2320, Loss: 0.0146659\n",
      "Epoch: 22, Step: 2330, Loss: 0.0287971\n",
      "Epoch: 22, Step: 2340, Loss: 4.98699\n",
      "Epoch: 22, Step: 2350, Loss: 0.363671\n",
      "Epoch: 22, Step: 2360, Loss: 0.0159355\n",
      "Epoch: 22, Step: 2370, Loss: 0.00710406\n",
      "Epoch: 22, Step: 2380, Loss: 0.0118539\n",
      "Epoch: 22, Step: 2390, Loss: 0.0155\n",
      "Epoch: 22, Step: 2400, Loss: 0.00693612\n"
     ]
    },
    {
     "name": "stderr",
     "output_type": "stream",
     "text": [
      "W1003 08:09:40.333837 21456 saver.py:1134] *******************************************************\n",
      "W1003 08:09:40.337839 21456 saver.py:1135] TensorFlow's V1 checkpoint format has been deprecated.\n",
      "W1003 08:09:40.340838 21456 saver.py:1136] Consider switching to the more efficient V2 format:\n",
      "W1003 08:09:40.342837 21456 saver.py:1137]    `tf.train.Saver(write_version=tf.train.SaverDef.V2)`\n",
      "W1003 08:09:40.344841 21456 saver.py:1138] now on by default.\n",
      "W1003 08:09:40.346842 21456 saver.py:1139] *******************************************************\n"
     ]
    },
    {
     "name": "stdout",
     "output_type": "stream",
     "text": [
      "Epoch: 22, Step: 2410, Loss: 0.00298093\n",
      "Epoch: 22, Step: 2420, Loss: 0.00220375\n",
      "Epoch: 22, Step: 2430, Loss: 0.00260213\n",
      "Epoch: 22, Step: 2440, Loss: 0.00460561\n",
      "Epoch: 22, Step: 2450, Loss: 0.00595577\n",
      "Epoch: 22, Step: 2460, Loss: 0.013423\n",
      "Epoch: 22, Step: 2470, Loss: 0.0367262\n",
      "Epoch: 22, Step: 2480, Loss: 0.0199525\n",
      "Epoch: 22, Step: 2490, Loss: 0.00319805\n",
      "Epoch: 22, Step: 2500, Loss: 0.000947045\n"
     ]
    },
    {
     "name": "stderr",
     "output_type": "stream",
     "text": [
      "W1003 08:12:26.800032 21456 saver.py:1134] *******************************************************\n",
      "W1003 08:12:26.804028 21456 saver.py:1135] TensorFlow's V1 checkpoint format has been deprecated.\n",
      "W1003 08:12:26.805029 21456 saver.py:1136] Consider switching to the more efficient V2 format:\n",
      "W1003 08:12:26.807029 21456 saver.py:1137]    `tf.train.Saver(write_version=tf.train.SaverDef.V2)`\n",
      "W1003 08:12:26.808029 21456 saver.py:1138] now on by default.\n",
      "W1003 08:12:26.811028 21456 saver.py:1139] *******************************************************\n"
     ]
    },
    {
     "name": "stdout",
     "output_type": "stream",
     "text": [
      "Epoch: 22, Step: 2510, Loss: 0.00211865\n",
      "Epoch: 22, Step: 2520, Loss: 0.00182081\n",
      "Epoch: 22, Step: 2530, Loss: 0.000342738\n",
      "Epoch: 22, Step: 2540, Loss: 0.00262628\n",
      "Epoch: 22, Step: 2550, Loss: 0.000357903\n",
      "Epoch: 22, Step: 2560, Loss: 0.000873668\n",
      "Epoch: 22, Step: 2570, Loss: 0.00142495\n",
      "Epoch: 22, Step: 2580, Loss: 0.00152515\n",
      "Epoch: 22, Step: 2590, Loss: 0.000975579\n",
      "Epoch: 22, Step: 2600, Loss: 0.000741173\n"
     ]
    },
    {
     "name": "stderr",
     "output_type": "stream",
     "text": [
      "W1003 08:15:13.906458 21456 saver.py:1134] *******************************************************\n",
      "W1003 08:15:13.907461 21456 saver.py:1135] TensorFlow's V1 checkpoint format has been deprecated.\n",
      "W1003 08:15:13.909458 21456 saver.py:1136] Consider switching to the more efficient V2 format:\n",
      "W1003 08:15:13.910462 21456 saver.py:1137]    `tf.train.Saver(write_version=tf.train.SaverDef.V2)`\n",
      "W1003 08:15:13.916464 21456 saver.py:1138] now on by default.\n",
      "W1003 08:15:13.920463 21456 saver.py:1139] *******************************************************\n"
     ]
    },
    {
     "name": "stdout",
     "output_type": "stream",
     "text": [
      "Epoch: 22, Step: 2610, Loss: 0.000588957\n",
      "Epoch: 22, Step: 2620, Loss: 0.000854694\n",
      "Epoch: 22, Step: 2630, Loss: 0.00360224\n",
      "Epoch: 22, Step: 2640, Loss: 0.0611364\n",
      "Epoch: 22, Step: 2650, Loss: 0.788474\n",
      "Model saved in file: ./save\\model.ckpt\n",
      "Epoch: 23, Step: 2300, Loss: 4.59349\n"
     ]
    },
    {
     "name": "stderr",
     "output_type": "stream",
     "text": [
      "W1003 08:16:45.557376 21456 saver.py:1134] *******************************************************\n",
      "W1003 08:16:45.558384 21456 saver.py:1135] TensorFlow's V1 checkpoint format has been deprecated.\n",
      "W1003 08:16:45.560378 21456 saver.py:1136] Consider switching to the more efficient V2 format:\n",
      "W1003 08:16:45.561383 21456 saver.py:1137]    `tf.train.Saver(write_version=tf.train.SaverDef.V2)`\n",
      "W1003 08:16:45.563380 21456 saver.py:1138] now on by default.\n",
      "W1003 08:16:45.565378 21456 saver.py:1139] *******************************************************\n"
     ]
    },
    {
     "name": "stdout",
     "output_type": "stream",
     "text": [
      "Epoch: 23, Step: 2310, Loss: 0.00563627\n",
      "Epoch: 23, Step: 2320, Loss: 0.00107161\n",
      "Epoch: 23, Step: 2330, Loss: 0.0484604\n",
      "Epoch: 23, Step: 2340, Loss: 0.0746474\n",
      "Epoch: 23, Step: 2350, Loss: 0.0781016\n",
      "Epoch: 23, Step: 2360, Loss: 0.00950703\n",
      "Epoch: 23, Step: 2370, Loss: 0.116351\n",
      "Epoch: 23, Step: 2380, Loss: 0.0259616\n",
      "Epoch: 23, Step: 2390, Loss: 0.00516595\n",
      "Epoch: 23, Step: 2400, Loss: 0.0419184\n"
     ]
    },
    {
     "name": "stderr",
     "output_type": "stream",
     "text": [
      "W1003 08:19:34.159010 21456 saver.py:1134] *******************************************************\n",
      "W1003 08:19:34.161017 21456 saver.py:1135] TensorFlow's V1 checkpoint format has been deprecated.\n",
      "W1003 08:19:34.163013 21456 saver.py:1136] Consider switching to the more efficient V2 format:\n",
      "W1003 08:19:34.165015 21456 saver.py:1137]    `tf.train.Saver(write_version=tf.train.SaverDef.V2)`\n",
      "W1003 08:19:34.166014 21456 saver.py:1138] now on by default.\n",
      "W1003 08:19:34.168013 21456 saver.py:1139] *******************************************************\n"
     ]
    },
    {
     "name": "stdout",
     "output_type": "stream",
     "text": [
      "Epoch: 23, Step: 2410, Loss: 0.0132226\n",
      "Epoch: 23, Step: 2420, Loss: 0.0144466\n",
      "Epoch: 23, Step: 2430, Loss: 0.0568935\n",
      "Epoch: 23, Step: 2440, Loss: 0.118353\n",
      "Epoch: 23, Step: 2450, Loss: 0.0690051\n",
      "Epoch: 23, Step: 2460, Loss: 0.137333\n",
      "Epoch: 23, Step: 2470, Loss: 0.0397512\n",
      "Epoch: 23, Step: 2480, Loss: 0.0286834\n",
      "Epoch: 23, Step: 2490, Loss: 0.0153965\n",
      "Epoch: 23, Step: 2500, Loss: 0.0127846\n"
     ]
    },
    {
     "name": "stderr",
     "output_type": "stream",
     "text": [
      "W1003 08:22:19.847092 21456 saver.py:1134] *******************************************************\n",
      "W1003 08:22:19.849091 21456 saver.py:1135] TensorFlow's V1 checkpoint format has been deprecated.\n",
      "W1003 08:22:19.850093 21456 saver.py:1136] Consider switching to the more efficient V2 format:\n",
      "W1003 08:22:19.852093 21456 saver.py:1137]    `tf.train.Saver(write_version=tf.train.SaverDef.V2)`\n",
      "W1003 08:22:19.854093 21456 saver.py:1138] now on by default.\n",
      "W1003 08:22:19.855094 21456 saver.py:1139] *******************************************************\n"
     ]
    },
    {
     "name": "stdout",
     "output_type": "stream",
     "text": [
      "Epoch: 23, Step: 2510, Loss: 0.0149149\n",
      "Epoch: 23, Step: 2520, Loss: 0.0153986\n",
      "Epoch: 23, Step: 2530, Loss: 0.0148682\n",
      "Epoch: 23, Step: 2540, Loss: 0.0154866\n",
      "Epoch: 23, Step: 2550, Loss: 0.0278398\n",
      "Epoch: 23, Step: 2560, Loss: 0.0240579\n",
      "Epoch: 23, Step: 2570, Loss: 0.033947\n",
      "Epoch: 23, Step: 2580, Loss: 0.00486713\n",
      "Epoch: 23, Step: 2590, Loss: 0.0290848\n",
      "Epoch: 23, Step: 2600, Loss: 0.0946097\n"
     ]
    },
    {
     "name": "stderr",
     "output_type": "stream",
     "text": [
      "W1003 08:25:06.517689 21456 saver.py:1134] *******************************************************\n",
      "W1003 08:25:06.519685 21456 saver.py:1135] TensorFlow's V1 checkpoint format has been deprecated.\n",
      "W1003 08:25:06.520690 21456 saver.py:1136] Consider switching to the more efficient V2 format:\n",
      "W1003 08:25:06.522692 21456 saver.py:1137]    `tf.train.Saver(write_version=tf.train.SaverDef.V2)`\n",
      "W1003 08:25:06.524686 21456 saver.py:1138] now on by default.\n",
      "W1003 08:25:06.526686 21456 saver.py:1139] *******************************************************\n"
     ]
    },
    {
     "name": "stdout",
     "output_type": "stream",
     "text": [
      "Epoch: 23, Step: 2610, Loss: 0.0146019\n",
      "Epoch: 23, Step: 2620, Loss: 0.452482\n",
      "Epoch: 23, Step: 2630, Loss: 0.615761\n",
      "Epoch: 23, Step: 2640, Loss: 0.208645\n",
      "Epoch: 23, Step: 2650, Loss: 0.0490759\n",
      "Epoch: 23, Step: 2660, Loss: 0.0400454\n",
      "Epoch: 23, Step: 2670, Loss: 0.014812\n",
      "Epoch: 23, Step: 2680, Loss: 0.141546\n",
      "Epoch: 23, Step: 2690, Loss: 1.14785\n",
      "Epoch: 23, Step: 2700, Loss: 1.16898\n"
     ]
    },
    {
     "name": "stderr",
     "output_type": "stream",
     "text": [
      "W1003 08:27:54.880909 21456 saver.py:1134] *******************************************************\n",
      "W1003 08:27:54.882908 21456 saver.py:1135] TensorFlow's V1 checkpoint format has been deprecated.\n",
      "W1003 08:27:54.884910 21456 saver.py:1136] Consider switching to the more efficient V2 format:\n",
      "W1003 08:27:54.886918 21456 saver.py:1137]    `tf.train.Saver(write_version=tf.train.SaverDef.V2)`\n",
      "W1003 08:27:54.889917 21456 saver.py:1138] now on by default.\n",
      "W1003 08:27:54.891918 21456 saver.py:1139] *******************************************************\n"
     ]
    },
    {
     "name": "stdout",
     "output_type": "stream",
     "text": [
      "Epoch: 23, Step: 2710, Loss: 0.0534117\n",
      "Epoch: 23, Step: 2720, Loss: 0.111269\n",
      "Epoch: 23, Step: 2730, Loss: 0.00246305\n",
      "Epoch: 23, Step: 2740, Loss: 0.00371432\n",
      "Epoch: 23, Step: 2750, Loss: 0.00977352\n",
      "Model saved in file: ./save\\model.ckpt\n"
     ]
    },
    {
     "name": "stderr",
     "output_type": "stream",
     "text": [
      "W1003 08:29:27.125886 21456 saver.py:1134] *******************************************************\n"
     ]
    },
    {
     "name": "stdout",
     "output_type": "stream",
     "text": [
      "Epoch: 24, Step: 2400, Loss: 0.0168129\n"
     ]
    },
    {
     "name": "stderr",
     "output_type": "stream",
     "text": [
      "W1003 08:29:27.127890 21456 saver.py:1135] TensorFlow's V1 checkpoint format has been deprecated.\n",
      "W1003 08:29:27.128889 21456 saver.py:1136] Consider switching to the more efficient V2 format:\n",
      "W1003 08:29:27.130889 21456 saver.py:1137]    `tf.train.Saver(write_version=tf.train.SaverDef.V2)`\n",
      "W1003 08:29:27.132891 21456 saver.py:1138] now on by default.\n",
      "W1003 08:29:27.134891 21456 saver.py:1139] *******************************************************\n"
     ]
    },
    {
     "name": "stdout",
     "output_type": "stream",
     "text": [
      "Epoch: 24, Step: 2410, Loss: 0.0470457\n",
      "Epoch: 24, Step: 2420, Loss: 0.0183664\n",
      "Epoch: 24, Step: 2430, Loss: 0.0110436\n",
      "Epoch: 24, Step: 2440, Loss: 0.118604\n",
      "Epoch: 24, Step: 2450, Loss: 0.407777\n",
      "Epoch: 24, Step: 2460, Loss: 0.189951\n",
      "Epoch: 24, Step: 2470, Loss: 0.0364221\n",
      "Epoch: 24, Step: 2480, Loss: 0.00768428\n",
      "Epoch: 24, Step: 2490, Loss: 0.00755621\n",
      "Epoch: 24, Step: 2500, Loss: 0.0074294\n"
     ]
    },
    {
     "name": "stderr",
     "output_type": "stream",
     "text": [
      "W1003 08:32:15.427600 21456 saver.py:1134] *******************************************************\n",
      "W1003 08:32:15.429605 21456 saver.py:1135] TensorFlow's V1 checkpoint format has been deprecated.\n",
      "W1003 08:32:15.430603 21456 saver.py:1136] Consider switching to the more efficient V2 format:\n",
      "W1003 08:32:15.432601 21456 saver.py:1137]    `tf.train.Saver(write_version=tf.train.SaverDef.V2)`\n",
      "W1003 08:32:15.434605 21456 saver.py:1138] now on by default.\n",
      "W1003 08:32:15.436606 21456 saver.py:1139] *******************************************************\n"
     ]
    },
    {
     "name": "stdout",
     "output_type": "stream",
     "text": [
      "Epoch: 24, Step: 2510, Loss: 0.00739942\n",
      "Epoch: 24, Step: 2520, Loss: 0.205774\n",
      "Epoch: 24, Step: 2530, Loss: 5.21873\n",
      "Epoch: 24, Step: 2540, Loss: 0.0954941\n",
      "Epoch: 24, Step: 2550, Loss: 0.0101648\n",
      "Epoch: 24, Step: 2560, Loss: 0.00474627\n",
      "Epoch: 24, Step: 2570, Loss: 0.01161\n",
      "Epoch: 24, Step: 2580, Loss: 0.0100331\n",
      "Epoch: 24, Step: 2590, Loss: 0.00692069\n"
     ]
    },
    {
     "name": "stderr",
     "output_type": "stream",
     "text": [
      "W1003 08:35:02.767963 21456 saver.py:1134] *******************************************************\n"
     ]
    },
    {
     "name": "stdout",
     "output_type": "stream",
     "text": [
      "Epoch: 24, Step: 2600, Loss: 0.00250267\n"
     ]
    },
    {
     "name": "stderr",
     "output_type": "stream",
     "text": [
      "W1003 08:35:02.768963 21456 saver.py:1135] TensorFlow's V1 checkpoint format has been deprecated.\n",
      "W1003 08:35:02.770974 21456 saver.py:1136] Consider switching to the more efficient V2 format:\n",
      "W1003 08:35:02.771966 21456 saver.py:1137]    `tf.train.Saver(write_version=tf.train.SaverDef.V2)`\n",
      "W1003 08:35:02.773979 21456 saver.py:1138] now on by default.\n",
      "W1003 08:35:02.775975 21456 saver.py:1139] *******************************************************\n"
     ]
    },
    {
     "name": "stdout",
     "output_type": "stream",
     "text": [
      "Epoch: 24, Step: 2610, Loss: 0.00224917\n",
      "Epoch: 24, Step: 2620, Loss: 0.00179609\n",
      "Epoch: 24, Step: 2630, Loss: 0.00200231\n",
      "Epoch: 24, Step: 2640, Loss: 0.00355088\n",
      "Epoch: 24, Step: 2650, Loss: 0.0297214\n",
      "Epoch: 24, Step: 2660, Loss: 0.0457229\n",
      "Epoch: 24, Step: 2670, Loss: 0.0220806\n",
      "Epoch: 24, Step: 2680, Loss: 0.000536942\n",
      "Epoch: 24, Step: 2690, Loss: 0.00125949\n",
      "Epoch: 24, Step: 2700, Loss: 0.000503566\n"
     ]
    },
    {
     "name": "stderr",
     "output_type": "stream",
     "text": [
      "W1003 08:37:52.508161 21456 saver.py:1134] *******************************************************\n",
      "W1003 08:37:52.510195 21456 saver.py:1135] TensorFlow's V1 checkpoint format has been deprecated.\n",
      "W1003 08:37:52.512158 21456 saver.py:1136] Consider switching to the more efficient V2 format:\n",
      "W1003 08:37:52.513174 21456 saver.py:1137]    `tf.train.Saver(write_version=tf.train.SaverDef.V2)`\n",
      "W1003 08:37:52.516160 21456 saver.py:1138] now on by default.\n",
      "W1003 08:37:52.518164 21456 saver.py:1139] *******************************************************\n"
     ]
    },
    {
     "name": "stdout",
     "output_type": "stream",
     "text": [
      "Epoch: 24, Step: 2710, Loss: 0.00126688\n",
      "Epoch: 24, Step: 2720, Loss: 0.000443892\n",
      "Epoch: 24, Step: 2730, Loss: 0.00115812\n",
      "Epoch: 24, Step: 2740, Loss: 0.000536978\n",
      "Epoch: 24, Step: 2750, Loss: 0.000994385\n",
      "Epoch: 24, Step: 2760, Loss: 0.000618615\n",
      "Epoch: 24, Step: 2770, Loss: 0.00105446\n",
      "Epoch: 24, Step: 2780, Loss: 0.00108219\n",
      "Epoch: 24, Step: 2790, Loss: 0.00133422\n"
     ]
    },
    {
     "name": "stderr",
     "output_type": "stream",
     "text": [
      "W1003 08:40:43.496976 21456 saver.py:1134] *******************************************************\n"
     ]
    },
    {
     "name": "stdout",
     "output_type": "stream",
     "text": [
      "Epoch: 24, Step: 2800, Loss: 0.000784815\n"
     ]
    },
    {
     "name": "stderr",
     "output_type": "stream",
     "text": [
      "W1003 08:40:43.497978 21456 saver.py:1135] TensorFlow's V1 checkpoint format has been deprecated.\n",
      "W1003 08:40:43.498974 21456 saver.py:1136] Consider switching to the more efficient V2 format:\n",
      "W1003 08:40:43.500976 21456 saver.py:1137]    `tf.train.Saver(write_version=tf.train.SaverDef.V2)`\n",
      "W1003 08:40:43.502978 21456 saver.py:1138] now on by default.\n",
      "W1003 08:40:43.503979 21456 saver.py:1139] *******************************************************\n"
     ]
    },
    {
     "name": "stdout",
     "output_type": "stream",
     "text": [
      "Epoch: 24, Step: 2810, Loss: 0.00202203\n",
      "Epoch: 24, Step: 2820, Loss: 0.00840984\n",
      "Epoch: 24, Step: 2830, Loss: 0.0610957\n",
      "Epoch: 24, Step: 2840, Loss: 2.11467\n",
      "Epoch: 24, Step: 2850, Loss: 3.45247\n",
      "Model saved in file: ./save\\model.ckpt\n",
      "Epoch: 25, Step: 2500, Loss: 0.00874679\n"
     ]
    },
    {
     "name": "stderr",
     "output_type": "stream",
     "text": [
      "W1003 08:42:17.390745 21456 saver.py:1134] *******************************************************\n",
      "W1003 08:42:17.391779 21456 saver.py:1135] TensorFlow's V1 checkpoint format has been deprecated.\n",
      "W1003 08:42:17.393747 21456 saver.py:1136] Consider switching to the more efficient V2 format:\n",
      "W1003 08:42:17.395752 21456 saver.py:1137]    `tf.train.Saver(write_version=tf.train.SaverDef.V2)`\n",
      "W1003 08:42:17.397748 21456 saver.py:1138] now on by default.\n",
      "W1003 08:42:17.399748 21456 saver.py:1139] *******************************************************\n"
     ]
    },
    {
     "name": "stdout",
     "output_type": "stream",
     "text": [
      "Epoch: 25, Step: 2510, Loss: 0.00310812\n",
      "Epoch: 25, Step: 2520, Loss: 0.0470661\n",
      "Epoch: 25, Step: 2530, Loss: 0.0587155\n",
      "Epoch: 25, Step: 2540, Loss: 0.0551234\n",
      "Epoch: 25, Step: 2550, Loss: 0.0404777\n",
      "Epoch: 25, Step: 2560, Loss: 0.131529\n",
      "Epoch: 25, Step: 2570, Loss: 0.00644073\n",
      "Epoch: 25, Step: 2580, Loss: 0.020269\n",
      "Epoch: 25, Step: 2590, Loss: 0.0298741\n",
      "Epoch: 25, Step: 2600, Loss: 0.0151087\n"
     ]
    },
    {
     "name": "stderr",
     "output_type": "stream",
     "text": [
      "W1003 08:45:07.446307 21456 saver.py:1134] *******************************************************\n",
      "W1003 08:45:07.448318 21456 saver.py:1135] TensorFlow's V1 checkpoint format has been deprecated.\n",
      "W1003 08:45:07.450308 21456 saver.py:1136] Consider switching to the more efficient V2 format:\n",
      "W1003 08:45:07.452314 21456 saver.py:1137]    `tf.train.Saver(write_version=tf.train.SaverDef.V2)`\n",
      "W1003 08:45:07.456316 21456 saver.py:1138] now on by default.\n",
      "W1003 08:45:07.463313 21456 saver.py:1139] *******************************************************\n"
     ]
    },
    {
     "name": "stdout",
     "output_type": "stream",
     "text": [
      "Epoch: 25, Step: 2610, Loss: 0.0119466\n",
      "Epoch: 25, Step: 2620, Loss: 0.0837053\n",
      "Epoch: 25, Step: 2630, Loss: 0.108514\n",
      "Epoch: 25, Step: 2640, Loss: 0.0780565\n",
      "Epoch: 25, Step: 2650, Loss: 0.127351\n",
      "Epoch: 25, Step: 2660, Loss: 0.0173196\n",
      "Epoch: 25, Step: 2670, Loss: 0.037321\n",
      "Epoch: 25, Step: 2680, Loss: 0.0256924\n",
      "Epoch: 25, Step: 2690, Loss: 0.0227584\n",
      "Epoch: 25, Step: 2700, Loss: 0.0221458\n"
     ]
    },
    {
     "name": "stderr",
     "output_type": "stream",
     "text": [
      "W1003 08:48:00.625650 21456 saver.py:1134] *******************************************************\n",
      "W1003 08:48:00.627655 21456 saver.py:1135] TensorFlow's V1 checkpoint format has been deprecated.\n",
      "W1003 08:48:00.629655 21456 saver.py:1136] Consider switching to the more efficient V2 format:\n",
      "W1003 08:48:00.631655 21456 saver.py:1137]    `tf.train.Saver(write_version=tf.train.SaverDef.V2)`\n",
      "W1003 08:48:00.633657 21456 saver.py:1138] now on by default.\n",
      "W1003 08:48:00.635656 21456 saver.py:1139] *******************************************************\n"
     ]
    },
    {
     "name": "stdout",
     "output_type": "stream",
     "text": [
      "Epoch: 25, Step: 2710, Loss: 0.0223402\n",
      "Epoch: 25, Step: 2720, Loss: 0.0223376\n",
      "Epoch: 25, Step: 2730, Loss: 0.0228855\n",
      "Epoch: 25, Step: 2740, Loss: 0.038487\n",
      "Epoch: 25, Step: 2750, Loss: 0.0307282\n",
      "Epoch: 25, Step: 2760, Loss: 0.0337004\n",
      "Epoch: 25, Step: 2770, Loss: 0.0035523\n",
      "Epoch: 25, Step: 2780, Loss: 0.0435985\n",
      "Epoch: 25, Step: 2790, Loss: 0.0914007\n"
     ]
    },
    {
     "name": "stderr",
     "output_type": "stream",
     "text": [
      "W1003 08:50:54.105138 21456 saver.py:1134] *******************************************************\n"
     ]
    },
    {
     "name": "stdout",
     "output_type": "stream",
     "text": [
      "Epoch: 25, Step: 2800, Loss: 0.018778\n"
     ]
    },
    {
     "name": "stderr",
     "output_type": "stream",
     "text": [
      "W1003 08:50:54.107146 21456 saver.py:1135] TensorFlow's V1 checkpoint format has been deprecated.\n",
      "W1003 08:50:54.108146 21456 saver.py:1136] Consider switching to the more efficient V2 format:\n",
      "W1003 08:50:54.109147 21456 saver.py:1137]    `tf.train.Saver(write_version=tf.train.SaverDef.V2)`\n",
      "W1003 08:50:54.112152 21456 saver.py:1138] now on by default.\n",
      "W1003 08:50:54.113142 21456 saver.py:1139] *******************************************************\n"
     ]
    },
    {
     "name": "stdout",
     "output_type": "stream",
     "text": [
      "Epoch: 25, Step: 2810, Loss: 0.538156\n",
      "Epoch: 25, Step: 2820, Loss: 0.536761\n",
      "Epoch: 25, Step: 2830, Loss: 0.14864\n",
      "Epoch: 25, Step: 2840, Loss: 0.0337273\n",
      "Epoch: 25, Step: 2850, Loss: 0.0213924\n",
      "Epoch: 25, Step: 2860, Loss: 0.0414288\n",
      "Epoch: 25, Step: 2870, Loss: 0.293552\n",
      "Epoch: 25, Step: 2880, Loss: 1.44688\n",
      "Epoch: 25, Step: 2890, Loss: 0.898855\n",
      "Epoch: 25, Step: 2900, Loss: 0.0659008\n"
     ]
    },
    {
     "name": "stderr",
     "output_type": "stream",
     "text": [
      "W1003 08:53:49.355956 21456 saver.py:1134] *******************************************************\n",
      "W1003 08:53:49.357950 21456 saver.py:1135] TensorFlow's V1 checkpoint format has been deprecated.\n",
      "W1003 08:53:49.358959 21456 saver.py:1136] Consider switching to the more efficient V2 format:\n",
      "W1003 08:53:49.360959 21456 saver.py:1137]    `tf.train.Saver(write_version=tf.train.SaverDef.V2)`\n",
      "W1003 08:53:49.367954 21456 saver.py:1138] now on by default.\n",
      "W1003 08:53:49.369954 21456 saver.py:1139] *******************************************************\n"
     ]
    },
    {
     "name": "stdout",
     "output_type": "stream",
     "text": [
      "Epoch: 25, Step: 2910, Loss: 0.0541608\n",
      "Epoch: 25, Step: 2920, Loss: 0.00434418\n",
      "Epoch: 25, Step: 2930, Loss: 0.00389085\n",
      "Epoch: 25, Step: 2940, Loss: 0.00947325\n",
      "Epoch: 25, Step: 2950, Loss: 0.0259114\n",
      "Model saved in file: ./save\\model.ckpt\n",
      "Epoch: 26, Step: 2600, Loss: 0.0606203\n"
     ]
    },
    {
     "name": "stderr",
     "output_type": "stream",
     "text": [
      "W1003 08:55:22.360008 21456 saver.py:1134] *******************************************************\n",
      "W1003 08:55:22.361046 21456 saver.py:1135] TensorFlow's V1 checkpoint format has been deprecated.\n",
      "W1003 08:55:22.363011 21456 saver.py:1136] Consider switching to the more efficient V2 format:\n",
      "W1003 08:55:22.365011 21456 saver.py:1137]    `tf.train.Saver(write_version=tf.train.SaverDef.V2)`\n",
      "W1003 08:55:22.367015 21456 saver.py:1138] now on by default.\n",
      "W1003 08:55:22.370011 21456 saver.py:1139] *******************************************************\n"
     ]
    },
    {
     "name": "stdout",
     "output_type": "stream",
     "text": [
      "Epoch: 26, Step: 2610, Loss: 0.00213087\n",
      "Epoch: 26, Step: 2620, Loss: 0.0365139\n",
      "Epoch: 26, Step: 2630, Loss: 0.138803\n",
      "Epoch: 26, Step: 2640, Loss: 0.383614\n",
      "Epoch: 26, Step: 2650, Loss: 0.22824\n",
      "Epoch: 26, Step: 2660, Loss: 0.0186055\n",
      "Epoch: 26, Step: 2670, Loss: 0.0132716\n",
      "Epoch: 26, Step: 2680, Loss: 0.0146124\n",
      "Epoch: 26, Step: 2690, Loss: 0.0156031\n",
      "Epoch: 26, Step: 2700, Loss: 0.017301\n"
     ]
    },
    {
     "name": "stderr",
     "output_type": "stream",
     "text": [
      "W1003 08:58:15.605634 21456 saver.py:1134] *******************************************************\n",
      "W1003 08:58:15.609632 21456 saver.py:1135] TensorFlow's V1 checkpoint format has been deprecated.\n",
      "W1003 08:58:15.610639 21456 saver.py:1136] Consider switching to the more efficient V2 format:\n",
      "W1003 08:58:15.613636 21456 saver.py:1137]    `tf.train.Saver(write_version=tf.train.SaverDef.V2)`\n",
      "W1003 08:58:15.615638 21456 saver.py:1138] now on by default.\n",
      "W1003 08:58:15.618636 21456 saver.py:1139] *******************************************************\n"
     ]
    },
    {
     "name": "stdout",
     "output_type": "stream",
     "text": [
      "Epoch: 26, Step: 2710, Loss: 0.887218\n",
      "Epoch: 26, Step: 2720, Loss: 4.48353\n",
      "Epoch: 26, Step: 2730, Loss: 0.0235901\n",
      "Epoch: 26, Step: 2740, Loss: 0.0089806\n",
      "Epoch: 26, Step: 2750, Loss: 0.00943377\n",
      "Epoch: 26, Step: 2760, Loss: 0.0163682\n",
      "Epoch: 26, Step: 2770, Loss: 0.00866659\n",
      "Epoch: 26, Step: 2780, Loss: 0.00767271\n",
      "Epoch: 26, Step: 2790, Loss: 0.00163132\n",
      "Epoch: 26, Step: 2800, Loss: 0.00234768\n"
     ]
    },
    {
     "name": "stderr",
     "output_type": "stream",
     "text": [
      "W1003 09:01:10.330998 21456 saver.py:1134] *******************************************************\n",
      "W1003 09:01:10.333000 21456 saver.py:1135] TensorFlow's V1 checkpoint format has been deprecated.\n",
      "W1003 09:01:10.334039 21456 saver.py:1136] Consider switching to the more efficient V2 format:\n",
      "W1003 09:01:10.336007 21456 saver.py:1137]    `tf.train.Saver(write_version=tf.train.SaverDef.V2)`\n",
      "W1003 09:01:10.338009 21456 saver.py:1138] now on by default.\n",
      "W1003 09:01:10.341004 21456 saver.py:1139] *******************************************************\n"
     ]
    },
    {
     "name": "stdout",
     "output_type": "stream",
     "text": [
      "Epoch: 26, Step: 2810, Loss: 0.0032644\n",
      "Epoch: 26, Step: 2820, Loss: 0.001466\n",
      "Epoch: 26, Step: 2830, Loss: 0.00559955\n",
      "Epoch: 26, Step: 2840, Loss: 0.0300069\n",
      "Epoch: 26, Step: 2850, Loss: 0.0337201\n",
      "Epoch: 26, Step: 2860, Loss: 0.011188\n",
      "Epoch: 26, Step: 2870, Loss: 0.00209288\n",
      "Epoch: 26, Step: 2880, Loss: 0.00200381\n",
      "Epoch: 26, Step: 2890, Loss: 0.00235982\n",
      "Epoch: 26, Step: 2900, Loss: 0.0015734\n"
     ]
    },
    {
     "name": "stderr",
     "output_type": "stream",
     "text": [
      "W1003 09:04:03.459280 21456 saver.py:1134] *******************************************************\n",
      "W1003 09:04:03.462319 21456 saver.py:1135] TensorFlow's V1 checkpoint format has been deprecated.\n",
      "W1003 09:04:03.464277 21456 saver.py:1136] Consider switching to the more efficient V2 format:\n",
      "W1003 09:04:03.466284 21456 saver.py:1137]    `tf.train.Saver(write_version=tf.train.SaverDef.V2)`\n",
      "W1003 09:04:03.472280 21456 saver.py:1138] now on by default.\n",
      "W1003 09:04:03.474285 21456 saver.py:1139] *******************************************************\n"
     ]
    },
    {
     "name": "stdout",
     "output_type": "stream",
     "text": [
      "Epoch: 26, Step: 2910, Loss: 0.00169046\n",
      "Epoch: 26, Step: 2920, Loss: 0.00176645\n",
      "Epoch: 26, Step: 2930, Loss: 0.000855429\n",
      "Epoch: 26, Step: 2940, Loss: 0.00208155\n",
      "Epoch: 26, Step: 2950, Loss: 0.00105248\n",
      "Epoch: 26, Step: 2960, Loss: 0.00113946\n",
      "Epoch: 26, Step: 2970, Loss: 0.00116646\n",
      "Epoch: 26, Step: 2980, Loss: 0.000874932\n",
      "Epoch: 26, Step: 2990, Loss: 0.000527259\n",
      "Epoch: 26, Step: 3000, Loss: 0.000947385\n"
     ]
    },
    {
     "name": "stderr",
     "output_type": "stream",
     "text": [
      "W1003 09:06:56.832553 21456 saver.py:1134] *******************************************************\n",
      "W1003 09:06:56.835544 21456 saver.py:1135] TensorFlow's V1 checkpoint format has been deprecated.\n",
      "W1003 09:06:56.839545 21456 saver.py:1136] Consider switching to the more efficient V2 format:\n",
      "W1003 09:06:56.842543 21456 saver.py:1137]    `tf.train.Saver(write_version=tf.train.SaverDef.V2)`\n",
      "W1003 09:06:56.844558 21456 saver.py:1138] now on by default.\n",
      "W1003 09:06:56.847545 21456 saver.py:1139] *******************************************************\n"
     ]
    },
    {
     "name": "stdout",
     "output_type": "stream",
     "text": [
      "Epoch: 26, Step: 3010, Loss: 0.0160463\n",
      "Epoch: 26, Step: 3020, Loss: 0.0517316\n",
      "Epoch: 26, Step: 3030, Loss: 3.11394\n",
      "Epoch: 26, Step: 3040, Loss: 2.31255\n",
      "Epoch: 26, Step: 3050, Loss: 0.00196632\n",
      "Model saved in file: ./save\\model.ckpt\n",
      "Epoch: 27, Step: 2700, Loss: 0.00308633\n"
     ]
    },
    {
     "name": "stderr",
     "output_type": "stream",
     "text": [
      "W1003 09:08:31.479692 21456 saver.py:1134] *******************************************************\n",
      "W1003 09:08:31.481702 21456 saver.py:1135] TensorFlow's V1 checkpoint format has been deprecated.\n",
      "W1003 09:08:31.483697 21456 saver.py:1136] Consider switching to the more efficient V2 format:\n",
      "W1003 09:08:31.485701 21456 saver.py:1137]    `tf.train.Saver(write_version=tf.train.SaverDef.V2)`\n",
      "W1003 09:08:31.491697 21456 saver.py:1138] now on by default.\n",
      "W1003 09:08:31.493698 21456 saver.py:1139] *******************************************************\n"
     ]
    },
    {
     "name": "stdout",
     "output_type": "stream",
     "text": [
      "Epoch: 27, Step: 2710, Loss: 0.072134\n",
      "Epoch: 27, Step: 2720, Loss: 0.0807353\n",
      "Epoch: 27, Step: 2730, Loss: 0.0451859\n",
      "Epoch: 27, Step: 2740, Loss: 0.0558635\n",
      "Epoch: 27, Step: 2750, Loss: 0.0939102\n",
      "Epoch: 27, Step: 2760, Loss: 0.00408921\n",
      "Epoch: 27, Step: 2770, Loss: 0.0295597\n",
      "Epoch: 27, Step: 2780, Loss: 0.0203333\n",
      "Epoch: 27, Step: 2790, Loss: 0.016433\n",
      "Epoch: 27, Step: 2800, Loss: 0.00691812\n"
     ]
    },
    {
     "name": "stderr",
     "output_type": "stream",
     "text": [
      "W1003 09:11:27.595101 21456 saver.py:1134] *******************************************************\n",
      "W1003 09:11:27.597107 21456 saver.py:1135] TensorFlow's V1 checkpoint format has been deprecated.\n",
      "W1003 09:11:27.598108 21456 saver.py:1136] Consider switching to the more efficient V2 format:\n",
      "W1003 09:11:27.600110 21456 saver.py:1137]    `tf.train.Saver(write_version=tf.train.SaverDef.V2)`\n",
      "W1003 09:11:27.602102 21456 saver.py:1138] now on by default.\n",
      "W1003 09:11:27.604104 21456 saver.py:1139] *******************************************************\n"
     ]
    },
    {
     "name": "stdout",
     "output_type": "stream",
     "text": [
      "Epoch: 27, Step: 2810, Loss: 0.112267\n",
      "Epoch: 27, Step: 2820, Loss: 0.0750493\n",
      "Epoch: 27, Step: 2830, Loss: 0.107345\n",
      "Epoch: 27, Step: 2840, Loss: 0.122843\n",
      "Epoch: 27, Step: 2850, Loss: 0.018343\n",
      "Epoch: 27, Step: 2860, Loss: 0.0198514\n",
      "Epoch: 27, Step: 2870, Loss: 0.0148689\n",
      "Epoch: 27, Step: 2880, Loss: 0.0128306\n",
      "Epoch: 27, Step: 2890, Loss: 0.0126741\n",
      "Epoch: 27, Step: 2900, Loss: 0.0132219\n"
     ]
    },
    {
     "name": "stderr",
     "output_type": "stream",
     "text": [
      "W1003 09:14:23.213963 21456 saver.py:1134] *******************************************************\n",
      "W1003 09:14:23.215969 21456 saver.py:1135] TensorFlow's V1 checkpoint format has been deprecated.\n",
      "W1003 09:14:23.217999 21456 saver.py:1136] Consider switching to the more efficient V2 format:\n",
      "W1003 09:14:23.218979 21456 saver.py:1137]    `tf.train.Saver(write_version=tf.train.SaverDef.V2)`\n",
      "W1003 09:14:23.221968 21456 saver.py:1138] now on by default.\n",
      "W1003 09:14:23.223968 21456 saver.py:1139] *******************************************************\n"
     ]
    },
    {
     "name": "stdout",
     "output_type": "stream",
     "text": [
      "Epoch: 27, Step: 2910, Loss: 0.0149158\n",
      "Epoch: 27, Step: 2920, Loss: 0.014824\n",
      "Epoch: 27, Step: 2930, Loss: 0.0271536\n",
      "Epoch: 27, Step: 2940, Loss: 0.0240752\n",
      "Epoch: 27, Step: 2950, Loss: 0.0224678\n",
      "Epoch: 27, Step: 2960, Loss: 0.00826888\n",
      "Epoch: 27, Step: 2970, Loss: 0.0489711\n",
      "Epoch: 27, Step: 2980, Loss: 0.0764554\n",
      "Epoch: 27, Step: 2990, Loss: 0.0901905\n",
      "Epoch: 27, Step: 3000, Loss: 0.602583\n"
     ]
    },
    {
     "name": "stderr",
     "output_type": "stream",
     "text": [
      "W1003 09:17:17.536485 21456 saver.py:1134] *******************************************************\n",
      "W1003 09:17:17.538487 21456 saver.py:1135] TensorFlow's V1 checkpoint format has been deprecated.\n",
      "W1003 09:17:17.543487 21456 saver.py:1136] Consider switching to the more efficient V2 format:\n",
      "W1003 09:17:17.544486 21456 saver.py:1137]    `tf.train.Saver(write_version=tf.train.SaverDef.V2)`\n",
      "W1003 09:17:17.546491 21456 saver.py:1138] now on by default.\n",
      "W1003 09:17:17.548492 21456 saver.py:1139] *******************************************************\n"
     ]
    },
    {
     "name": "stdout",
     "output_type": "stream",
     "text": [
      "Epoch: 27, Step: 3010, Loss: 0.473007\n",
      "Epoch: 27, Step: 3020, Loss: 0.134034\n",
      "Epoch: 27, Step: 3030, Loss: 0.0446606\n",
      "Epoch: 27, Step: 3040, Loss: 0.0192965\n",
      "Epoch: 27, Step: 3050, Loss: 0.0559812\n",
      "Epoch: 27, Step: 3060, Loss: 0.441134\n",
      "Epoch: 27, Step: 3070, Loss: 1.40245\n",
      "Epoch: 27, Step: 3080, Loss: 0.595769\n",
      "Epoch: 27, Step: 3090, Loss: 0.112392\n"
     ]
    },
    {
     "name": "stderr",
     "output_type": "stream",
     "text": [
      "W1003 09:20:12.701306 21456 saver.py:1134] *******************************************************\n"
     ]
    },
    {
     "name": "stdout",
     "output_type": "stream",
     "text": [
      "Epoch: 27, Step: 3100, Loss: 0.0238476\n"
     ]
    },
    {
     "name": "stderr",
     "output_type": "stream",
     "text": [
      "W1003 09:20:12.703306 21456 saver.py:1135] TensorFlow's V1 checkpoint format has been deprecated.\n",
      "W1003 09:20:12.704307 21456 saver.py:1136] Consider switching to the more efficient V2 format:\n",
      "W1003 09:20:12.706310 21456 saver.py:1137]    `tf.train.Saver(write_version=tf.train.SaverDef.V2)`\n",
      "W1003 09:20:12.708309 21456 saver.py:1138] now on by default.\n",
      "W1003 09:20:12.712311 21456 saver.py:1139] *******************************************************\n"
     ]
    },
    {
     "name": "stdout",
     "output_type": "stream",
     "text": [
      "Epoch: 27, Step: 3110, Loss: 0.00561612\n",
      "Epoch: 27, Step: 3120, Loss: 0.000740723\n",
      "Epoch: 27, Step: 3130, Loss: 0.0101181\n",
      "Epoch: 27, Step: 3140, Loss: 0.0272061\n",
      "Epoch: 27, Step: 3150, Loss: 0.0506142\n",
      "Model saved in file: ./save\\model.ckpt\n",
      "Epoch: 28, Step: 2800, Loss: 0.00208384\n"
     ]
    },
    {
     "name": "stderr",
     "output_type": "stream",
     "text": [
      "W1003 09:21:50.535910 21456 saver.py:1134] *******************************************************\n",
      "W1003 09:21:50.537916 21456 saver.py:1135] TensorFlow's V1 checkpoint format has been deprecated.\n",
      "W1003 09:21:50.539914 21456 saver.py:1136] Consider switching to the more efficient V2 format:\n",
      "W1003 09:21:50.544944 21456 saver.py:1137]    `tf.train.Saver(write_version=tf.train.SaverDef.V2)`\n",
      "W1003 09:21:50.546915 21456 saver.py:1138] now on by default.\n",
      "W1003 09:21:50.548919 21456 saver.py:1139] *******************************************************\n"
     ]
    },
    {
     "name": "stdout",
     "output_type": "stream",
     "text": [
      "Epoch: 28, Step: 2810, Loss: 0.0755339\n",
      "Epoch: 28, Step: 2820, Loss: 0.154008\n",
      "Epoch: 28, Step: 2830, Loss: 0.339997\n",
      "Epoch: 28, Step: 2840, Loss: 0.208142\n",
      "Epoch: 28, Step: 2850, Loss: 0.0114611\n",
      "Epoch: 28, Step: 2860, Loss: 0.00837039\n",
      "Epoch: 28, Step: 2870, Loss: 0.00849534\n",
      "Epoch: 28, Step: 2880, Loss: 0.00765883\n",
      "Epoch: 28, Step: 2890, Loss: 0.0134229\n",
      "Epoch: 28, Step: 2900, Loss: 2.16661\n"
     ]
    },
    {
     "name": "stderr",
     "output_type": "stream",
     "text": [
      "W1003 09:24:48.888922 21456 saver.py:1134] *******************************************************\n",
      "W1003 09:24:48.891906 21456 saver.py:1135] TensorFlow's V1 checkpoint format has been deprecated.\n",
      "W1003 09:24:48.894906 21456 saver.py:1136] Consider switching to the more efficient V2 format:\n",
      "W1003 09:24:48.895913 21456 saver.py:1137]    `tf.train.Saver(write_version=tf.train.SaverDef.V2)`\n",
      "W1003 09:24:48.898913 21456 saver.py:1138] now on by default.\n",
      "W1003 09:24:48.899908 21456 saver.py:1139] *******************************************************\n"
     ]
    },
    {
     "name": "stdout",
     "output_type": "stream",
     "text": [
      "Epoch: 28, Step: 2910, Loss: 3.3854\n",
      "Epoch: 28, Step: 2920, Loss: 0.0133397\n",
      "Epoch: 28, Step: 2930, Loss: 0.00433992\n",
      "Epoch: 28, Step: 2940, Loss: 0.00415972\n",
      "Epoch: 28, Step: 2950, Loss: 0.0111366\n",
      "Epoch: 28, Step: 2960, Loss: 0.00427192\n",
      "Epoch: 28, Step: 2970, Loss: 0.00673676\n",
      "Epoch: 28, Step: 2980, Loss: 0.00184847\n",
      "Epoch: 28, Step: 2990, Loss: 0.00215594\n"
     ]
    },
    {
     "name": "stderr",
     "output_type": "stream",
     "text": [
      "W1003 09:27:45.344853 21456 saver.py:1134] *******************************************************\n"
     ]
    },
    {
     "name": "stdout",
     "output_type": "stream",
     "text": [
      "Epoch: 28, Step: 3000, Loss: 0.00291346\n"
     ]
    },
    {
     "name": "stderr",
     "output_type": "stream",
     "text": [
      "W1003 09:27:45.345854 21456 saver.py:1135] TensorFlow's V1 checkpoint format has been deprecated.\n",
      "W1003 09:27:45.347855 21456 saver.py:1136] Consider switching to the more efficient V2 format:\n",
      "W1003 09:27:45.348856 21456 saver.py:1137]    `tf.train.Saver(write_version=tf.train.SaverDef.V2)`\n",
      "W1003 09:27:45.352857 21456 saver.py:1138] now on by default.\n",
      "W1003 09:27:45.357856 21456 saver.py:1139] *******************************************************\n"
     ]
    },
    {
     "name": "stdout",
     "output_type": "stream",
     "text": [
      "Epoch: 28, Step: 3010, Loss: 0.000693336\n",
      "Epoch: 28, Step: 3020, Loss: 0.00792671\n",
      "Epoch: 28, Step: 3030, Loss: 0.0436196\n",
      "Epoch: 28, Step: 3040, Loss: 0.0410878\n",
      "Epoch: 28, Step: 3050, Loss: 0.0043038\n",
      "Epoch: 28, Step: 3060, Loss: 0.000664206\n",
      "Epoch: 28, Step: 3070, Loss: 0.000805387\n",
      "Epoch: 28, Step: 3080, Loss: 0.00138976\n",
      "Epoch: 28, Step: 3090, Loss: 0.000348187\n",
      "Epoch: 28, Step: 3100, Loss: 0.00130732\n"
     ]
    },
    {
     "name": "stderr",
     "output_type": "stream",
     "text": [
      "W1003 09:30:43.893408 21456 saver.py:1134] *******************************************************\n",
      "W1003 09:30:43.895411 21456 saver.py:1135] TensorFlow's V1 checkpoint format has been deprecated.\n",
      "W1003 09:30:43.896446 21456 saver.py:1136] Consider switching to the more efficient V2 format:\n",
      "W1003 09:30:43.898410 21456 saver.py:1137]    `tf.train.Saver(write_version=tf.train.SaverDef.V2)`\n",
      "W1003 09:30:43.901407 21456 saver.py:1138] now on by default.\n",
      "W1003 09:30:43.908437 21456 saver.py:1139] *******************************************************\n"
     ]
    },
    {
     "name": "stdout",
     "output_type": "stream",
     "text": [
      "Epoch: 28, Step: 3110, Loss: 0.000662416\n",
      "Epoch: 28, Step: 3120, Loss: 0.000318749\n",
      "Epoch: 28, Step: 3130, Loss: 0.000994954\n",
      "Epoch: 28, Step: 3140, Loss: 0.000807559\n",
      "Epoch: 28, Step: 3150, Loss: 0.000725888\n",
      "Epoch: 28, Step: 3160, Loss: 0.000634464\n",
      "Epoch: 28, Step: 3170, Loss: 0.000368461\n",
      "Epoch: 28, Step: 3180, Loss: 0.000791656\n",
      "Epoch: 28, Step: 3190, Loss: 0.00140372\n"
     ]
    },
    {
     "name": "stderr",
     "output_type": "stream",
     "text": [
      "W1003 09:33:44.055005 21456 saver.py:1134] *******************************************************\n"
     ]
    },
    {
     "name": "stdout",
     "output_type": "stream",
     "text": [
      "Epoch: 28, Step: 3200, Loss: 0.0354378\n"
     ]
    },
    {
     "name": "stderr",
     "output_type": "stream",
     "text": [
      "W1003 09:33:44.056008 21456 saver.py:1135] TensorFlow's V1 checkpoint format has been deprecated.\n",
      "W1003 09:33:44.058008 21456 saver.py:1136] Consider switching to the more efficient V2 format:\n",
      "W1003 09:33:44.063014 21456 saver.py:1137]    `tf.train.Saver(write_version=tf.train.SaverDef.V2)`\n",
      "W1003 09:33:44.066017 21456 saver.py:1138] now on by default.\n",
      "W1003 09:33:44.070008 21456 saver.py:1139] *******************************************************\n"
     ]
    },
    {
     "name": "stdout",
     "output_type": "stream",
     "text": [
      "Epoch: 28, Step: 3210, Loss: 0.032849\n",
      "Epoch: 28, Step: 3220, Loss: 4.41842\n",
      "Epoch: 28, Step: 3230, Loss: 1.13068\n",
      "Epoch: 28, Step: 3240, Loss: 0.00291086\n",
      "Epoch: 28, Step: 3250, Loss: 0.0136012\n",
      "Model saved in file: ./save\\model.ckpt\n"
     ]
    },
    {
     "name": "stderr",
     "output_type": "stream",
     "text": [
      "W1003 09:35:20.566776 21456 saver.py:1134] *******************************************************\n"
     ]
    },
    {
     "name": "stdout",
     "output_type": "stream",
     "text": [
      "Epoch: 29, Step: 2900, Loss: 0.0555138\n"
     ]
    },
    {
     "name": "stderr",
     "output_type": "stream",
     "text": [
      "W1003 09:35:20.568775 21456 saver.py:1135] TensorFlow's V1 checkpoint format has been deprecated.\n",
      "W1003 09:35:20.569782 21456 saver.py:1136] Consider switching to the more efficient V2 format:\n",
      "W1003 09:35:20.572783 21456 saver.py:1137]    `tf.train.Saver(write_version=tf.train.SaverDef.V2)`\n",
      "W1003 09:35:20.574784 21456 saver.py:1138] now on by default.\n",
      "W1003 09:35:20.577786 21456 saver.py:1139] *******************************************************\n"
     ]
    },
    {
     "name": "stdout",
     "output_type": "stream",
     "text": [
      "Epoch: 29, Step: 2910, Loss: 0.0703741\n",
      "Epoch: 29, Step: 2920, Loss: 0.0139516\n",
      "Epoch: 29, Step: 2930, Loss: 0.0881149\n",
      "Epoch: 29, Step: 2940, Loss: 0.0893462\n",
      "Epoch: 29, Step: 2950, Loss: 0.00242683\n",
      "Epoch: 29, Step: 2960, Loss: 0.0482504\n",
      "Epoch: 29, Step: 2970, Loss: 0.0141436\n",
      "Epoch: 29, Step: 2980, Loss: 0.0150392\n",
      "Epoch: 29, Step: 2990, Loss: 0.00460783\n",
      "Epoch: 29, Step: 3000, Loss: 0.146524\n"
     ]
    },
    {
     "name": "stderr",
     "output_type": "stream",
     "text": [
      "W1003 09:38:20.541925 21456 saver.py:1134] *******************************************************\n",
      "W1003 09:38:20.543934 21456 saver.py:1135] TensorFlow's V1 checkpoint format has been deprecated.\n",
      "W1003 09:38:20.545929 21456 saver.py:1136] Consider switching to the more efficient V2 format:\n",
      "W1003 09:38:20.548928 21456 saver.py:1137]    `tf.train.Saver(write_version=tf.train.SaverDef.V2)`\n",
      "W1003 09:38:20.549930 21456 saver.py:1138] now on by default.\n",
      "W1003 09:38:20.552931 21456 saver.py:1139] *******************************************************\n"
     ]
    },
    {
     "name": "stdout",
     "output_type": "stream",
     "text": [
      "Epoch: 29, Step: 3010, Loss: 0.0474916\n",
      "Epoch: 29, Step: 3020, Loss: 0.12557\n",
      "Epoch: 29, Step: 3030, Loss: 0.0836227\n",
      "Epoch: 29, Step: 3040, Loss: 0.031847\n",
      "Epoch: 29, Step: 3050, Loss: 0.0205\n",
      "Epoch: 29, Step: 3060, Loss: 0.0220412\n",
      "Epoch: 29, Step: 3070, Loss: 0.0215804\n",
      "Epoch: 29, Step: 3080, Loss: 0.0229949\n",
      "Epoch: 29, Step: 3090, Loss: 0.0228842\n",
      "Epoch: 29, Step: 3100, Loss: 0.0217506\n"
     ]
    },
    {
     "name": "stderr",
     "output_type": "stream",
     "text": [
      "W1003 09:41:34.661342 21456 saver.py:1134] *******************************************************\n",
      "W1003 09:41:34.664343 21456 saver.py:1135] TensorFlow's V1 checkpoint format has been deprecated.\n",
      "W1003 09:41:34.667340 21456 saver.py:1136] Consider switching to the more efficient V2 format:\n",
      "W1003 09:41:34.669341 21456 saver.py:1137]    `tf.train.Saver(write_version=tf.train.SaverDef.V2)`\n",
      "W1003 09:41:34.679342 21456 saver.py:1138] now on by default.\n",
      "W1003 09:41:34.688337 21456 saver.py:1139] *******************************************************\n"
     ]
    },
    {
     "name": "stdout",
     "output_type": "stream",
     "text": [
      "Epoch: 29, Step: 3110, Loss: 0.0204789\n",
      "Epoch: 29, Step: 3120, Loss: 0.0385603\n",
      "Epoch: 29, Step: 3130, Loss: 0.0347054\n",
      "Epoch: 29, Step: 3140, Loss: 0.0227496\n",
      "Epoch: 29, Step: 3150, Loss: 0.0156126\n",
      "Epoch: 29, Step: 3160, Loss: 0.0770461\n",
      "Epoch: 29, Step: 3170, Loss: 0.0545484\n",
      "Epoch: 29, Step: 3180, Loss: 0.234808\n",
      "Epoch: 29, Step: 3190, Loss: 0.60416\n",
      "Epoch: 29, Step: 3200, Loss: 0.346127\n"
     ]
    },
    {
     "name": "stderr",
     "output_type": "stream",
     "text": [
      "W1003 09:44:43.516077 21456 saver.py:1134] *******************************************************\n",
      "W1003 09:44:43.518080 21456 saver.py:1135] TensorFlow's V1 checkpoint format has been deprecated.\n",
      "W1003 09:44:43.522098 21456 saver.py:1136] Consider switching to the more efficient V2 format:\n",
      "W1003 09:44:43.524085 21456 saver.py:1137]    `tf.train.Saver(write_version=tf.train.SaverDef.V2)`\n",
      "W1003 09:44:43.526081 21456 saver.py:1138] now on by default.\n",
      "W1003 09:44:43.528083 21456 saver.py:1139] *******************************************************\n"
     ]
    },
    {
     "name": "stdout",
     "output_type": "stream",
     "text": [
      "Epoch: 29, Step: 3210, Loss: 0.108027\n",
      "Epoch: 29, Step: 3220, Loss: 0.0439309\n",
      "Epoch: 29, Step: 3230, Loss: 0.0120531\n",
      "Epoch: 29, Step: 3240, Loss: 0.0958639\n",
      "Epoch: 29, Step: 3250, Loss: 0.702784\n",
      "Epoch: 29, Step: 3260, Loss: 1.51081\n",
      "Epoch: 29, Step: 3270, Loss: 0.379498\n",
      "Epoch: 29, Step: 3280, Loss: 0.107564\n",
      "Epoch: 29, Step: 3290, Loss: 0.00458248\n",
      "Epoch: 29, Step: 3300, Loss: 0.00731439\n"
     ]
    },
    {
     "name": "stderr",
     "output_type": "stream",
     "text": [
      "W1003 09:48:01.766767 21456 saver.py:1134] *******************************************************\n",
      "W1003 09:48:01.768767 21456 saver.py:1135] TensorFlow's V1 checkpoint format has been deprecated.\n",
      "W1003 09:48:01.770767 21456 saver.py:1136] Consider switching to the more efficient V2 format:\n",
      "W1003 09:48:01.772773 21456 saver.py:1137]    `tf.train.Saver(write_version=tf.train.SaverDef.V2)`\n",
      "W1003 09:48:01.785765 21456 saver.py:1138] now on by default.\n",
      "W1003 09:48:01.794770 21456 saver.py:1139] *******************************************************\n"
     ]
    },
    {
     "name": "stdout",
     "output_type": "stream",
     "text": [
      "Epoch: 29, Step: 3310, Loss: 0.0034618\n",
      "Epoch: 29, Step: 3320, Loss: 0.0123202\n",
      "Epoch: 29, Step: 3330, Loss: 0.040035\n",
      "Epoch: 29, Step: 3340, Loss: 0.0485\n",
      "Epoch: 29, Step: 3350, Loss: 0.00542531\n",
      "Model saved in file: ./save\\model.ckpt\n",
      "Run the command line:\n",
      "--> tensorboard --logdir=./logs \n",
      "Then open http://0.0.0.0:6006/ into your web browser\n"
     ]
    }
   ],
   "source": [
    "import os\n",
    "import tensorflow as tf\n",
    "from tensorflow.core.protobuf import saver_pb2\n",
    "# import driving_data\n",
    "# import model\n",
    "\n",
    "LOGDIR = './save'\n",
    "\n",
    "sess = tf.InteractiveSession()\n",
    "\n",
    "L2NormConst = 0.001\n",
    "\n",
    "train_vars = tf.trainable_variables()\n",
    "\n",
    "loss = tf.reduce_mean(tf.square(tf.subtract(y_, y))) + tf.add_n([tf.nn.l2_loss(v) for v in train_vars]) * L2NormConst\n",
    "# train_step = tf.train.AdamOptimizer(1e-4).minimize(loss)\n",
    "train_step = tf.train.AdamOptimizer(1e-3).minimize(loss) #task\n",
    "sess.run(tf.initialize_all_variables())\n",
    "\n",
    "# create a summary to monitor cost tensor\n",
    "tf.summary.scalar(\"loss\", loss)\n",
    "# merge all summaries into a single op\n",
    "merged_summary_op =  tf.summary.merge_all()\n",
    "\n",
    "saver = tf.train.Saver(write_version = saver_pb2.SaverDef.V1)\n",
    "\n",
    "# op to write logs to Tensorboard\n",
    "logs_path = './logs'\n",
    "summary_writer = tf.summary.FileWriter(logs_path, graph=tf.get_default_graph())\n",
    "\n",
    "epochs = 30\n",
    "batch_size = 100\n",
    "\n",
    "# train over the dataset about 30 times\n",
    "for epoch in range(epochs):\n",
    "    for i in range(int(num_images/batch_size)):\n",
    "        \n",
    "        xs, ys = LoadTrainBatch(batch_size)\n",
    "    #     train_step.run(feed_dict={x: xs, y_: ys, keep_prob: 0.8})\n",
    "        train_step.run(feed_dict={x: xs, y_: ys, keep_prob: 0.5}) #task3\n",
    "        if i % 10 == 0:\n",
    "            xs, ys = LoadValBatch(batch_size)\n",
    "            loss_value = loss.eval(feed_dict={x:xs, y_: ys, keep_prob: 1.0})\n",
    "            print(\"Epoch: %d, Step: %d, Loss: %g\" % (epoch, epoch * batch_size + i, loss_value))\n",
    "\n",
    "    # write logs at every iteration\n",
    "    summary = merged_summary_op.eval(feed_dict={x:xs, y_: ys, keep_prob: 1.0})\n",
    "    summary_writer.add_summary(summary, epoch * num_images/batch_size + i)\n",
    "\n",
    "    if i % batch_size == 0:\n",
    "        if not os.path.exists(LOGDIR):\n",
    "            os.makedirs(LOGDIR)\n",
    "        checkpoint_path = os.path.join(LOGDIR, \"ckpt\")\n",
    "        filename = saver.save(sess, checkpoint_path)\n",
    "    print(\"Model saved in file: %s\" % filename)\n",
    "\n",
    "print(\"Run the command line:\\n\" \\\n",
    "          \"--> tensorboard --logdir=./logs \" \\\n",
    "          \"\\nThen open http://0.0.0.0:6006/ into your web browser\")\n"
   ]
  },
  {
   "cell_type": "markdown",
   "metadata": {},
   "source": [
    "## Run Model"
   ]
  },
  {
   "cell_type": "code",
   "execution_count": null,
   "metadata": {},
   "outputs": [],
   "source": [
    "import tensorflow as tf\n",
    "import scipy.misc\n",
    "import model\n",
    "import cv2\n",
    "from subprocess import call\n",
    "\n",
    "sess = tf.InteractiveSession()\n",
    "saver = tf.train.Saver()\n",
    "saver.restore(sess, \"save/model.ckpt\")\n",
    "\n",
    "img = cv2.imread('steering_wheel_image.jpg',0)\n",
    "rows,cols = img.shape\n",
    "\n",
    "smoothed_angle = 0\n",
    "while(cv2.waitKey(10) != ord('q')):\n",
    "    \n",
    "\n"
   ]
  },
  {
   "cell_type": "code",
   "execution_count": 5,
   "metadata": {},
   "outputs": [
    {
     "name": "stderr",
     "output_type": "stream",
     "text": [
      "D:\\Installation\\Anaconda\\lib\\site-packages\\ipykernel_launcher.py:20: DeprecationWarning: `imresize` is deprecated!\n",
      "`imresize` is deprecated in SciPy 1.0.0, and will be removed in 1.3.0.\n",
      "Use Pillow instead: ``numpy.array(Image.fromarray(arr).resize())``.\n"
     ]
    },
    {
     "name": "stdout",
     "output_type": "stream",
     "text": [
      "Predicted steering angle: 5.247835829901312 degrees and actual degrees-0.49462631001519297\n",
      "Predicted steering angle: 3.9034573795305185 degrees and actual degrees-0.5033529562751646\n",
      "Predicted steering angle: 3.0433391278702175 degrees and actual degrees-0.519235452468313\n",
      "Predicted steering angle: 0.04794696414308417 degrees and actual degrees-0.5420992656694387\n",
      "Predicted steering angle: -1.5815633860452447 degrees and actual degrees-0.5632177496185702\n",
      "Predicted steering angle: -1.9680470789094775 degrees and actual degrees-0.5843362335677015\n",
      "Predicted steering angle: -6.726081292249301 degrees and actual degrees-0.6002187297608499\n",
      "Predicted steering angle: -10.152889224795425 degrees and actual degrees-0.6213372137099813\n",
      "Predicted steering angle: -10.062808421153067 degrees and actual degrees-0.6370451769779303\n",
      "Predicted steering angle: -19.94278463105594 degrees and actual degrees-0.6564183316750674\n",
      "Predicted steering angle: -24.766882355038828 degrees and actual degrees-0.67404615712021\n",
      "Predicted steering angle: -29.254888668080195 degrees and actual degrees-0.6916739825653528\n",
      "Predicted steering angle: -35.9815902268835 degrees and actual degrees-0.6969099703213358\n",
      "Predicted steering angle: -39.14812739780394 degrees and actual degrees-0.6986552995733302\n",
      "Predicted steering angle: -39.94610181363112 degrees and actual degrees-0.6986552995733302\n",
      "Predicted steering angle: -38.75703076592901 degrees and actual degrees-0.6986552995733302\n",
      "Predicted steering angle: -37.68042902819492 degrees and actual degrees-0.6986552995733302\n",
      "Predicted steering angle: -33.63749320939721 degrees and actual degrees-0.6986552995733302\n",
      "Predicted steering angle: -30.906776749036947 degrees and actual degrees-0.6986552995733302\n",
      "Predicted steering angle: -29.49362427013965 degrees and actual degrees-0.6986552995733302\n",
      "Predicted steering angle: -25.94222472250921 degrees and actual degrees-0.6986552995733302\n",
      "Predicted steering angle: -24.60596480574062 degrees and actual degrees-0.7023204910025183\n",
      "Predicted steering angle: -22.23675830531808 degrees and actual degrees-0.7145377957664784\n",
      "Predicted steering angle: -17.15816602531322 degrees and actual degrees-0.7180284542704672\n",
      "Predicted steering angle: -14.535142865143838 degrees and actual degrees-0.7180284542704672\n",
      "Predicted steering angle: -11.120963525486244 degrees and actual degrees-0.7180284542704672\n",
      "Predicted steering angle: -8.870591217564524 degrees and actual degrees-0.7215191127744559\n",
      "Predicted steering angle: -6.818103150276413 degrees and actual degrees-0.7234389749516497\n",
      "Predicted steering angle: -4.0397764294197485 degrees and actual degrees-0.7234389749516497\n",
      "Predicted steering angle: -2.229648660206255 degrees and actual degrees-0.7234389749516497\n",
      "Predicted steering angle: -0.22426662003515058 degrees and actual degrees-0.7234389749516497\n",
      "Predicted steering angle: 0.5803095738312382 degrees and actual degrees-0.7234389749516497\n",
      "Predicted steering angle: 1.1116721978011666 degrees and actual degrees-0.7234389749516497\n",
      "Predicted steering angle: 1.6570908708353054 degrees and actual degrees-0.7234389749516497\n",
      "Predicted steering angle: 3.0277003425484152 degrees and actual degrees-0.7234389749516497\n",
      "Predicted steering angle: 4.291750218751158 degrees and actual degrees-0.7234389749516497\n",
      "Predicted steering angle: 7.0754518715978 degrees and actual degrees-0.7145377957664784\n",
      "Predicted steering angle: 8.418605156786223 degrees and actual degrees-0.7110471372624899\n",
      "Predicted steering angle: 9.398124293205044 degrees and actual degrees-0.7110471372624899\n",
      "Predicted steering angle: 10.989626671709715 degrees and actual degrees-0.7110471372624899\n",
      "Predicted steering angle: 11.871328961477492 degrees and actual degrees-0.7075564787585011\n",
      "Predicted steering angle: 13.906353088831525 degrees and actual degrees-0.6829473363053812\n",
      "Predicted steering angle: 14.758029013234278 degrees and actual degrees-0.6864379948093697\n",
      "Predicted steering angle: 19.78142994965085 degrees and actual degrees-0.6775368156241987\n",
      "Predicted steering angle: 21.653139131308002 degrees and actual degrees-0.6635741816082441\n",
      "Predicted steering angle: 23.076390044893163 degrees and actual degrees-0.6564183316750674\n",
      "Predicted steering angle: 27.206204162386136 degrees and actual degrees0.0\n",
      "Predicted steering angle: 29.823064784376875 degrees and actual degrees-0.635299847725936\n",
      "Predicted steering angle: 36.363571971311046 degrees and actual degrees-0.6213372137099813\n",
      "Predicted steering angle: 39.452600155530185 degrees and actual degrees-0.6019640590128442\n",
      "Predicted steering angle: 44.07088720434766 degrees and actual degrees-0.5965535383316618\n",
      "Predicted steering angle: 45.37025897695631 degrees and actual degrees-0.5895722213236845\n",
      "Predicted steering angle: 47.70553139003493 degrees and actual degrees-0.5808455750637129\n",
      "Predicted steering angle: 53.05992158608303 degrees and actual degrees-0.5684537373745532\n",
      "Predicted steering angle: 57.13239455794645 degrees and actual degrees-0.5455899241734274\n",
      "Predicted steering angle: 56.199824434335 degrees and actual degrees-0.5262167694762903\n",
      "Predicted steering angle: 68.25684660255128 degrees and actual degrees-0.5016076270231703\n",
      "Predicted steering angle: 70.21435832810943 degrees and actual degrees-0.4822344723260332\n",
      "Predicted steering angle: 71.9361192442754 degrees and actual degrees-0.4735078260660616\n",
      "Predicted steering angle: 71.37187731694065 degrees and actual degrees-0.4576253298729132\n",
      "Predicted steering angle: 69.76386637121206 degrees and actual degrees-0.4399975044277705\n",
      "Predicted steering angle: 75.4015933045998 degrees and actual degrees-0.42586033748661634\n",
      "Predicted steering angle: 69.01398673242554 degrees and actual degrees-0.41015237421866746\n",
      "Predicted steering angle: 71.75810402393736 degrees and actual degrees-0.40299652428549065\n",
      "Predicted steering angle: 82.85466840616103 degrees and actual degrees-0.40299652428549065\n",
      "Predicted steering angle: 85.42187013779119 degrees and actual degrees-0.40299652428549065\n",
      "Predicted steering angle: 80.46701868743216 degrees and actual degrees-0.4012511950334963\n",
      "Predicted steering angle: 76.12415901689545 degrees and actual degrees-0.3925245487735247\n",
      "Predicted steering angle: 73.13641570787843 degrees and actual degrees-0.37838738183237064\n",
      "Predicted steering angle: 43.610757850531414 degrees and actual degrees-0.35377823937925057\n",
      "Predicted steering angle: 40.782793156768506 degrees and actual degrees-0.33789574318610216\n",
      "Predicted steering angle: 39.14055613310898 degrees and actual degrees-0.3220132469929538\n",
      "Predicted steering angle: 46.332366253633474 degrees and actual degrees-0.29391344603584507\n",
      "Predicted steering angle: 42.67408619832338 degrees and actual degrees-0.27454029133870805\n",
      "Predicted steering angle: 46.119199464731956 degrees and actual degrees-0.24993114888558798\n",
      "Predicted steering angle: 44.233189574500095 degrees and actual degrees-0.22706733568446225\n",
      "Predicted steering angle: 48.54704484672635 degrees and actual degrees-0.19355701404617112\n",
      "Predicted steering angle: 49.90129377422146 degrees and actual degrees-0.15847589608108512\n",
      "Predicted steering angle: 43.276761600117794 degrees and actual degrees-0.13735741213195374\n",
      "Predicted steering angle: 30.715128471115563 degrees and actual degrees-0.12845623294678266\n",
      "Predicted steering angle: 21.73929342995125 degrees and actual degrees-0.12671090369478832\n",
      "Predicted steering angle: 16.057463965092744 degrees and actual degrees-0.11257373675363426\n",
      "Predicted steering angle: 14.653200977400216 degrees and actual degrees-0.09686577348568529\n",
      "Predicted steering angle: 11.569863194533346 degrees and actual degrees-0.08098327729253689\n",
      "Predicted steering angle: 10.79483906809106 degrees and actual degrees-0.07033676885537149\n",
      "Predicted steering angle: 18.132384934936113 degrees and actual degrees-0.05462880558742251\n",
      "Predicted steering angle: 18.806603153191826 degrees and actual degrees-0.035255650890285456\n",
      "Predicted steering angle: 10.901437830467449 degrees and actual degrees-0.01937315469713706\n",
      "Predicted steering angle: 13.24911557462611 degrees and actual degrees-0.01064650843716541\n",
      "Predicted steering angle: 19.42411372586351 degrees and actual degrees-0.003490658503988659\n",
      "Predicted steering angle: 16.275242839231307 degrees and actual degrees0.0017453292519943296\n",
      "Predicted steering angle: 52.59384996768887 degrees and actual degrees0.008726646259971648\n",
      "Predicted steering angle: 54.35413656586831 degrees and actual degrees0.012391837689159739\n",
      "Predicted steering angle: 59.42412793016083 degrees and actual degrees0.012391837689159739\n",
      "Predicted steering angle: 55.96981439894024 degrees and actual degrees0.008726646259971648\n",
      "Predicted steering angle: 43.33175145312556 degrees and actual degrees0.0\n",
      "Predicted steering angle: 40.15889635722286 degrees and actual degrees-0.01937315469713706\n",
      "Predicted steering angle: 41.514569379159916 degrees and actual degrees-0.03874630939427412\n"
     ]
    },
    {
     "name": "stdout",
     "output_type": "stream",
     "text": [
      "Predicted steering angle: 30.69770124344827 degrees and actual degrees-0.05637413483941684\n",
      "Predicted steering angle: 33.761201595644486 degrees and actual degrees-0.08970992355250852\n",
      "Predicted steering angle: 35.91027963685398 degrees and actual degrees-0.10559241974565695\n",
      "Predicted steering angle: 27.019268714992055 degrees and actual degrees-0.12147491593880534\n",
      "Predicted steering angle: 19.78926246908156 degrees and actual degrees-0.12671090369478832\n",
      "Predicted steering angle: 25.991991188349214 degrees and actual degrees-0.12671090369478832\n",
      "Predicted steering angle: 28.457272837184444 degrees and actual degrees-0.12671090369478832\n",
      "Predicted steering angle: 30.30184055462726 degrees and actual degrees-0.12671090369478832\n",
      "Predicted steering angle: 34.00628585853747 degrees and actual degrees-0.130201562198777\n",
      "Predicted steering angle: 48.36984583399413 degrees and actual degrees-0.1319468914507713\n",
      "Predicted steering angle: 62.43152852360914 degrees and actual degrees-0.1319468914507713\n",
      "Predicted steering angle: 56.424732318419764 degrees and actual degrees-0.1319468914507713\n",
      "Predicted steering angle: 32.435345764529124 degrees and actual degrees-0.1319468914507713\n",
      "Predicted steering angle: 21.254730781926572 degrees and actual degrees-0.1319468914507713\n",
      "Predicted steering angle: 16.60670850455744 degrees and actual degrees-0.130201562198777\n",
      "Predicted steering angle: 13.712586598493788 degrees and actual degrees-0.12671090369478832\n",
      "Predicted steering angle: 14.133999878773466 degrees and actual degrees0.0\n",
      "Predicted steering angle: 13.348466652519468 degrees and actual degrees-0.12147491593880534\n",
      "Predicted steering angle: 11.517692502105495 degrees and actual degrees-0.12147491593880534\n",
      "Predicted steering angle: 10.590507128880958 degrees and actual degrees-0.11972958668681102\n",
      "Predicted steering angle: 8.30449318632282 degrees and actual degrees-0.11972958668681102\n",
      "Predicted steering angle: 14.273075336879618 degrees and actual degrees-0.11972958668681102\n",
      "Predicted steering angle: 18.11464693366159 degrees and actual degrees-0.11972958668681102\n",
      "Predicted steering angle: 23.548969126019053 degrees and actual degrees0.0\n",
      "Predicted steering angle: 33.57260982737668 degrees and actual degrees-0.12147491593880534\n",
      "Predicted steering angle: 34.602520391944566 degrees and actual degrees-0.12147491593880534\n",
      "Predicted steering angle: 25.547298062057195 degrees and actual degrees-0.12147491593880534\n",
      "Predicted steering angle: 19.281221045784964 degrees and actual degrees-0.12147491593880534\n",
      "Predicted steering angle: 10.519197392625086 degrees and actual degrees-0.12147491593880534\n",
      "Predicted steering angle: 9.688157177252235 degrees and actual degrees-0.12147491593880534\n",
      "Predicted steering angle: 7.126708172450514 degrees and actual degrees-0.10733774899765128\n",
      "Predicted steering angle: 7.268636088308795 degrees and actual degrees-0.0879645943005142\n",
      "Predicted steering angle: 4.69042665305751 degrees and actual degrees-0.06684611035138281\n",
      "Predicted steering angle: 3.5344335711755424 degrees and actual degrees-0.045727626402251434\n",
      "Predicted steering angle: 3.7451557926844252 degrees and actual degrees-0.03874630939427412\n",
      "Predicted steering angle: 5.48512001676214 degrees and actual degrees-0.0317649923862968\n",
      "Predicted steering angle: 7.732462282013313 degrees and actual degrees-0.01937315469713706\n",
      "Predicted steering angle: 3.9118772952298517 degrees and actual degrees-0.01064650843716541\n",
      "Predicted steering angle: 5.523443781308258 degrees and actual degrees-0.01064650843716541\n",
      "Predicted steering angle: 5.236748298444265 degrees and actual degrees-0.01064650843716541\n",
      "Predicted steering angle: 5.591013988993549 degrees and actual degrees-0.01064650843716541\n",
      "Predicted steering angle: 5.93827361300169 degrees and actual degrees-0.01064650843716541\n",
      "Predicted steering angle: 4.7376454583371 degrees and actual degrees-0.01064650843716541\n",
      "Predicted steering angle: 5.237512425857661 degrees and actual degrees-0.01064650843716541\n",
      "Predicted steering angle: 6.318403522390518 degrees and actual degrees-0.008726646259971648\n",
      "Predicted steering angle: 10.477377851884391 degrees and actual degrees-0.005235987755982988\n",
      "Predicted steering angle: 11.091136943154444 degrees and actual degrees0.003490658503988659\n",
      "Predicted steering angle: 11.777359218876455 degrees and actual degrees0.005235987755982988\n",
      "Predicted steering angle: 12.254147404078365 degrees and actual degrees0.006981317007977318\n",
      "Predicted steering angle: 13.116825909460363 degrees and actual degrees0.008726646259971648\n",
      "Predicted steering angle: 13.647710900436067 degrees and actual degrees0.017627825445142728\n",
      "Predicted steering angle: 15.02108008873898 degrees and actual degrees0.02809980095710871\n",
      "Predicted steering angle: 19.266519063596512 degrees and actual degrees0.03700098014227979\n",
      "Predicted steering angle: 25.086584727066906 degrees and actual degrees0.0439822971502571\n",
      "Predicted steering angle: 25.666141646068123 degrees and actual degrees0.05462880558742251\n",
      "Predicted steering angle: 24.097877278667127 degrees and actual degrees0.07208209810736581\n",
      "Predicted steering angle: 22.34819454917413 degrees and actual degrees0.08098327729253689\n",
      "Predicted steering angle: 21.020612387746045 degrees and actual degrees0.08621926504851989\n",
      "Predicted steering angle: 19.669008451007024 degrees and actual degrees0.08621926504851989\n",
      "Predicted steering angle: 18.03404557881356 degrees and actual degrees0.08621926504851989\n",
      "Predicted steering angle: 12.637467865583236 degrees and actual degrees0.08621926504851989\n",
      "Predicted steering angle: 20.19996345142172 degrees and actual degrees0.08447393579652554\n",
      "Predicted steering angle: 16.922997489547804 degrees and actual degrees0.0\n",
      "Predicted steering angle: 7.799018206606856 degrees and actual degrees0.08098327729253689\n",
      "Predicted steering angle: 4.2662023230475485 degrees and actual degrees0.08098327729253689\n",
      "Predicted steering angle: 3.584436745758971 degrees and actual degrees0.08098327729253689\n",
      "Predicted steering angle: 2.2049773765939342 degrees and actual degrees0.08098327729253689\n",
      "Predicted steering angle: 1.8960692647754138 degrees and actual degrees0.08098327729253689\n",
      "Predicted steering angle: 2.1687506935664214 degrees and actual degrees0.08098327729253689\n",
      "Predicted steering angle: 2.265260626208467 degrees and actual degrees0.08098327729253689\n",
      "Predicted steering angle: 2.8092288445393296 degrees and actual degrees0.08098327729253689\n",
      "Predicted steering angle: 3.0030937322897984 degrees and actual degrees0.0\n",
      "Predicted steering angle: 3.127782250682966 degrees and actual degrees0.08272860654453122\n",
      "Predicted steering angle: 3.1029212158777657 degrees and actual degrees0.08621926504851989\n",
      "Predicted steering angle: 3.057326288073346 degrees and actual degrees0.0879645943005142\n",
      "Predicted steering angle: 2.4966563362310974 degrees and actual degrees0.0879645943005142\n",
      "Predicted steering angle: 2.3007861476289957 degrees and actual degrees0.0879645943005142\n",
      "Predicted steering angle: 2.0150806153078316 degrees and actual degrees0.08970992355250852\n",
      "Predicted steering angle: 2.328832825351772 degrees and actual degrees0.09512044423369097\n",
      "Predicted steering angle: 6.470855905986142 degrees and actual degrees0.10035643198967394\n",
      "Predicted steering angle: 6.537618016915255 degrees and actual degrees0.10210176124166827\n",
      "Predicted steering angle: 7.052151535017948 degrees and actual degrees0.10210176124166827\n",
      "Predicted steering angle: 6.507026880283237 degrees and actual degrees0.1038470904936626\n",
      "Predicted steering angle: 5.891999508261677 degrees and actual degrees0.1090830782496456\n",
      "Predicted steering angle: 4.953252332319601 degrees and actual degrees0.1090830782496456\n",
      "Predicted steering angle: 4.113466913488193 degrees and actual degrees0.1038470904936626\n",
      "Predicted steering angle: 4.0260306737150975 degrees and actual degrees0.1038470904936626\n",
      "Predicted steering angle: 2.502459649148081 degrees and actual degrees0.11257373675363426\n",
      "Predicted steering angle: 2.492466228618706 degrees and actual degrees0.11623892818282235\n",
      "Predicted steering angle: 1.2239466339344247 degrees and actual degrees0.11623892818282235\n",
      "Predicted steering angle: 0.03130094269717015 degrees and actual degrees0.11623892818282235\n",
      "Predicted steering angle: -0.19144213160645768 degrees and actual degrees0.12147491593880534\n",
      "Predicted steering angle: -0.15178282495376377 degrees and actual degrees0.1319468914507713\n"
     ]
    },
    {
     "name": "stdout",
     "output_type": "stream",
     "text": [
      "Predicted steering angle: -0.10123767752773724 degrees and actual degrees0.13369222070276562\n",
      "Predicted steering angle: -0.24458645949636496 degrees and actual degrees0.13369222070276562\n",
      "Predicted steering angle: -0.3078692827344438 degrees and actual degrees0.13543754995475998\n",
      "Predicted steering angle: -0.38503820072027595 degrees and actual degrees0.13543754995475998\n",
      "Predicted steering angle: -0.5600113721958709 degrees and actual degrees0.13543754995475998\n",
      "Predicted steering angle: -0.5782423210293985 degrees and actual degrees0.13543754995475998\n",
      "Predicted steering angle: -0.8708922347457615 degrees and actual degrees0.13543754995475998\n",
      "Predicted steering angle: -0.8070517372341216 degrees and actual degrees0.13543754995475998\n",
      "Predicted steering angle: -0.8813671836116223 degrees and actual degrees0.13543754995475998\n",
      "Predicted steering angle: -0.7855088403442254 degrees and actual degrees0.13543754995475998\n",
      "Predicted steering angle: -0.6069384003318551 degrees and actual degrees0.13543754995475998\n",
      "Predicted steering angle: -0.5178890619758734 degrees and actual degrees0.13543754995475998\n",
      "Predicted steering angle: -0.2948073997204407 degrees and actual degrees0.1408480706359424\n",
      "Predicted steering angle: -0.08218188997043802 degrees and actual degrees0.154810704651897\n",
      "Predicted steering angle: -0.4059646730375785 degrees and actual degrees0.18308503853420516\n",
      "Predicted steering angle: -0.4229644802732113 degrees and actual degrees0.19879300180215415\n",
      "Predicted steering angle: -0.6481847387907985 degrees and actual degrees0.21467549799530256\n",
      "Predicted steering angle: -0.7004105529796846 degrees and actual degrees0.22706733568446225\n",
      "Predicted steering angle: -0.4024886937194238 degrees and actual degrees0.244695161129605\n",
      "Predicted steering angle: 0.6257396699610788 degrees and actual degrees0.26232298657474773\n",
      "Predicted steering angle: 2.534448199795601 degrees and actual degrees0.2851867997758734\n",
      "Predicted steering angle: 0.9905486112679224 degrees and actual degrees0.30089476304382234\n",
      "Predicted steering angle: 2.1993356403395037 degrees and actual degrees0.3202679177409595\n",
      "Predicted steering angle: -0.0932822213620715 degrees and actual degrees0.3361504139341079\n",
      "Predicted steering angle: -0.7029255566981302 degrees and actual degrees0.35552356863124496\n",
      "Predicted steering angle: 0.6185992941532122 degrees and actual degrees0.3572688978832392\n",
      "Predicted steering angle: 0.8645883436678099 degrees and actual degrees0.35552356863124496\n",
      "Predicted steering angle: 0.8593969196509242 degrees and actual degrees0.3590142271352336\n",
      "Predicted steering angle: -0.6992960582062089 degrees and actual degrees0.37838738183237064\n",
      "Predicted steering angle: -1.3465143785903035 degrees and actual degrees0.38903389026953605\n",
      "Predicted steering angle: -2.1216949590532646 degrees and actual degrees0.3907792195215304\n",
      "Predicted steering angle: -2.3058108189805977 degrees and actual degrees0.3907792195215304\n",
      "Predicted steering angle: -2.716713505344684 degrees and actual degrees0.3907792195215304\n",
      "Predicted steering angle: -1.6842201687751843 degrees and actual degrees0.3907792195215304\n",
      "Predicted steering angle: -1.589792376612935 degrees and actual degrees0.0\n",
      "Predicted steering angle: -1.5859125089992503 degrees and actual degrees0.3925245487735247\n",
      "Predicted steering angle: -1.0887669449761173 degrees and actual degrees0.3853686988403479\n",
      "Predicted steering angle: -0.5119285479862736 degrees and actual degrees0.374896723328382\n",
      "Predicted steering angle: -0.156753281678829 degrees and actual degrees0.3659955441432109\n",
      "Predicted steering angle: -0.9189248997536414 degrees and actual degrees0.36075955638722795\n",
      "Predicted steering angle: -1.1993706528053667 degrees and actual degrees0.35552356863124496\n",
      "Predicted steering angle: -1.2257210957364528 degrees and actual degrees0.35377823937925057\n",
      "Predicted steering angle: -1.6869644107176485 degrees and actual degrees0.3431317309420852\n",
      "Predicted steering angle: -1.1838946180848815 degrees and actual degrees0.3413864016900908\n",
      "Predicted steering angle: -1.194635837606667 degrees and actual degrees0.3413864016900908\n",
      "Predicted steering angle: -1.0366464117499847 degrees and actual degrees0.3413864016900908\n",
      "Predicted steering angle: -0.9836856585342347 degrees and actual degrees0.3413864016900908\n",
      "Predicted steering angle: -0.7763124175136263 degrees and actual degrees0.3413864016900908\n",
      "Predicted steering angle: -0.7102292167158423 degrees and actual degrees0.3413864016900908\n",
      "Predicted steering angle: -0.41248102035131445 degrees and actual degrees0.3413864016900908\n",
      "Predicted steering angle: -0.2872740479114604 degrees and actual degrees0.3413864016900908\n",
      "Predicted steering angle: -0.1753237789595135 degrees and actual degrees0.3361504139341079\n",
      "Predicted steering angle: 0.1131348398654813 degrees and actual degrees0.3309144261781249\n",
      "Predicted steering angle: 0.3610222150618797 degrees and actual degrees0.3274237676741363\n",
      "Predicted steering angle: 0.5365397472782395 degrees and actual degrees0.3256784384221419\n",
      "Predicted steering angle: 0.5092352122974673 degrees and actual degrees0.31852258848896514\n",
      "Predicted steering angle: 0.7332005836376232 degrees and actual degrees0.31852258848896514\n",
      "Predicted steering angle: 1.067577563736622 degrees and actual degrees0.3150319299849765\n",
      "Predicted steering angle: 1.286117256915702 degrees and actual degrees0.3097959422289935\n",
      "Predicted steering angle: 1.4729727697521509 degrees and actual degrees0.30264009229581673\n",
      "Predicted steering angle: 1.497722920705044 degrees and actual degrees0.30089476304382234\n",
      "Predicted steering angle: 1.540305094755254 degrees and actual degrees0.30089476304382234\n",
      "Predicted steering angle: 1.4762427228172943 degrees and actual degrees0.30264009229581673\n",
      "Predicted steering angle: 1.4048755702837121 degrees and actual degrees0.30089476304382234\n",
      "Predicted steering angle: 1.4484524973535107 degrees and actual degrees0.30089476304382234\n",
      "Predicted steering angle: 1.4325958930302087 degrees and actual degrees0.30089476304382234\n",
      "Predicted steering angle: 1.3217951769320868 degrees and actual degrees0.30089476304382234\n",
      "Predicted steering angle: 1.262017468037841 degrees and actual degrees0.30089476304382234\n",
      "Predicted steering angle: 1.0157046248679025 degrees and actual degrees0.30264009229581673\n",
      "Predicted steering angle: 0.910465497023169 degrees and actual degrees0.3063052837250048\n",
      "Predicted steering angle: 1.4218901051147428 degrees and actual degrees0.31328660073298215\n",
      "Predicted steering angle: 1.6891785659474963 degrees and actual degrees0.32375857624494814\n",
      "Predicted steering angle: 1.7656018727358862 degrees and actual degrees0.33789574318610216\n",
      "Predicted steering angle: 1.8556919611666487 degrees and actual degrees0.3467969223712733\n",
      "Predicted steering angle: 2.250739003702785 degrees and actual degrees0.3590142271352336\n",
      "Predicted steering angle: 2.6735330494118634 degrees and actual degrees0.37140606482439337\n",
      "Predicted steering angle: 1.9042223762102934 degrees and actual degrees0.38362336958835364\n",
      "Predicted steering angle: 1.1727420931090142 degrees and actual degrees0.3853686988403479\n",
      "Predicted steering angle: 0.78667370776283 degrees and actual degrees0.3853686988403479\n",
      "Predicted steering angle: -0.12833077012892996 degrees and actual degrees0.38711402809234224\n",
      "Predicted steering angle: -0.34296508920664365 degrees and actual degrees0.3925245487735247\n",
      "Predicted steering angle: -0.25043681000517176 degrees and actual degrees0.40299652428549065\n",
      "Predicted steering angle: -0.20286953167577826 degrees and actual degrees0.40299652428549065\n",
      "Predicted steering angle: -0.07486398260500404 degrees and actual degrees0.40299652428549065\n",
      "Predicted steering angle: -0.09243346363599163 degrees and actual degrees0.40299652428549065\n",
      "Predicted steering angle: -0.18382018744146558 degrees and actual degrees0.4064871827894793\n",
      "Predicted steering angle: -0.18646560508437615 degrees and actual degrees0.4082325120414737\n",
      "Predicted steering angle: -0.20421838731515 degrees and actual degrees0.4064871827894793\n",
      "Predicted steering angle: 0.06482675948551246 degrees and actual degrees0.39950586578150205\n",
      "Predicted steering angle: 0.4238514977308139 degrees and actual degrees0.39426987802551905\n",
      "Predicted steering angle: 0.34070653774719084 degrees and actual degrees0.39426987802551905\n",
      "Predicted steering angle: 0.036490925971027814 degrees and actual degrees0.3907792195215304\n",
      "Predicted steering angle: 0.12608988111178399 degrees and actual degrees0.3853686988403479\n",
      "Predicted steering angle: -0.18377376349945065 degrees and actual degrees0.3853686988403479\n",
      "Predicted steering angle: -0.2292221357214064 degrees and actual degrees0.3853686988403479\n",
      "Predicted steering angle: 0.01096576199074969 degrees and actual degrees0.38362336958835364\n"
     ]
    },
    {
     "name": "stdout",
     "output_type": "stream",
     "text": [
      "Predicted steering angle: 0.2992510514253422 degrees and actual degrees0.38013271108436497\n",
      "Predicted steering angle: 0.20401060015399353 degrees and actual degrees0.37838738183237064\n",
      "Predicted steering angle: 0.03251020634537975 degrees and actual degrees0.37838738183237064\n",
      "Predicted steering angle: 0.09112820381343162 degrees and actual degrees0.37838738183237064\n",
      "Predicted steering angle: 0.06128722739156491 degrees and actual degrees0.0\n",
      "Predicted steering angle: -0.3220710602878986 degrees and actual degrees0.3960152072775134\n",
      "Predicted steering angle: -0.44609993181763125 degrees and actual degrees0.404741853537485\n",
      "Predicted steering angle: -0.83596862374584 degrees and actual degrees0.4082325120414737\n",
      "Predicted steering angle: -1.1981991686410038 degrees and actual degrees0.4118977034706618\n",
      "Predicted steering angle: -0.7509649451734743 degrees and actual degrees0.4206243497306334\n",
      "Predicted steering angle: -0.07084511663964572 degrees and actual degrees0.4276056667386107\n",
      "Predicted steering angle: 0.7643482206044383 degrees and actual degrees0.43301618741979314\n",
      "Predicted steering angle: 1.4370493898124688 degrees and actual degrees0.4347615166717875\n",
      "Predicted steering angle: 1.523754585900961 degrees and actual degrees0.0\n",
      "Predicted steering angle: 1.6404764356792492 degrees and actual degrees0.4347615166717875\n",
      "Predicted steering angle: 1.4890407897746059 degrees and actual degrees0.4347615166717875\n",
      "Predicted steering angle: 1.231870827310403 degrees and actual degrees0.4382521751757761\n",
      "Predicted steering angle: 1.402312968684488 degrees and actual degrees0.44523349218375347\n",
      "Predicted steering angle: 1.4663443913277707 degrees and actual degrees0.44872415068774213\n",
      "Predicted steering angle: 1.532924648470232 degrees and actual degrees0.44872415068774213\n",
      "Predicted steering angle: 1.6766523191748102 degrees and actual degrees0.44872415068774213\n",
      "Predicted steering angle: 1.546875736736806 degrees and actual degrees0.44872415068774213\n",
      "Predicted steering angle: 1.6589906239199208 degrees and actual degrees0.44872415068774213\n",
      "Predicted steering angle: 1.2609640180800723 degrees and actual degrees0.44872415068774213\n",
      "Predicted steering angle: 0.9596426456038494 degrees and actual degrees0.0\n",
      "Predicted steering angle: 0.6219095346622884 degrees and actual degrees0.44872415068774213\n",
      "Predicted steering angle: 0.5045875887323908 degrees and actual degrees0.44872415068774213\n",
      "Predicted steering angle: 0.44290967318627994 degrees and actual degrees0.44348816293175913\n",
      "Predicted steering angle: -0.3905575538586016 degrees and actual degrees0.0\n",
      "Predicted steering angle: -0.4561343868428791 degrees and actual degrees0.43301618741979314\n",
      "Predicted steering angle: -0.5963263674349181 degrees and actual degrees0.4312708581677988\n",
      "Predicted steering angle: -0.6943245342640858 degrees and actual degrees0.4312708581677988\n",
      "Predicted steering angle: -0.6677653970373442 degrees and actual degrees0.4312708581677988\n",
      "Predicted steering angle: -0.5032084774894301 degrees and actual degrees0.4295255289158045\n",
      "Predicted steering angle: -0.5364546367178787 degrees and actual degrees0.4223696789826278\n",
      "Predicted steering angle: -0.6029368699735796 degrees and actual degrees0.4064871827894793\n",
      "Predicted steering angle: -0.7941678660253619 degrees and actual degrees0.39426987802551905\n",
      "Predicted steering angle: -0.8490202081152353 degrees and actual degrees0.3818780403363593\n",
      "Predicted steering angle: -0.4718978764778867 degrees and actual degrees0.3766420525803763\n",
      "Predicted steering angle: -0.4880600784056939 degrees and actual degrees0.36250488563922223\n",
      "Predicted steering angle: -0.319185652209112 degrees and actual degrees0.3572688978832392\n",
      "Predicted steering angle: 0.048215902841653425 degrees and actual degrees0.3590142271352336\n",
      "Predicted steering angle: -0.06880598500727958 degrees and actual degrees0.35377823937925057\n",
      "Predicted steering angle: 0.4224249486896332 degrees and actual degrees0.3431317309420852\n",
      "Predicted steering angle: 0.40521855491203396 degrees and actual degrees0.3361504139341079\n",
      "Predicted steering angle: 0.9137129318083929 degrees and actual degrees0.3361504139341079\n",
      "Predicted steering angle: 1.3095726601340547 degrees and actual degrees0.3361504139341079\n",
      "Predicted steering angle: 1.3019367220853921 degrees and actual degrees0.3361504139341079\n",
      "Predicted steering angle: 1.7062304533755503 degrees and actual degrees0.33789574318610216\n",
      "Predicted steering angle: 1.9458363709456539 degrees and actual degrees0.3413864016900908\n",
      "Predicted steering angle: 1.7295768937323004 degrees and actual degrees0.0\n",
      "Predicted steering angle: 1.342004532747391 degrees and actual degrees0.3431317309420852\n",
      "Predicted steering angle: 1.4079853340684778 degrees and actual degrees0.34487706019407954\n",
      "Predicted steering angle: 1.6974641190192505 degrees and actual degrees0.34487706019407954\n",
      "Predicted steering angle: 1.2723045867015264 degrees and actual degrees0.34487706019407954\n",
      "Predicted steering angle: 1.5077364049151059 degrees and actual degrees0.34487706019407954\n",
      "Predicted steering angle: 1.1128202031902577 degrees and actual degrees0.34487706019407954\n",
      "Predicted steering angle: 0.9245763476832981 degrees and actual degrees0.34487706019407954\n",
      "Predicted steering angle: 1.4475119589604588 degrees and actual degrees0.33964107243809655\n",
      "Predicted steering angle: 0.9703181245548734 degrees and actual degrees0.33440508468211355\n",
      "Predicted steering angle: 0.7149090702360646 degrees and actual degrees0.3309144261781249\n",
      "Predicted steering angle: 0.09636098249130763 degrees and actual degrees0.32375857624494814\n",
      "Predicted steering angle: 0.531318441183735 degrees and actual degrees0.31328660073298215\n",
      "Predicted steering angle: 0.1815031124666049 degrees and actual degrees0.2991494337918281\n",
      "Predicted steering angle: -0.11684870186582284 degrees and actual degrees0.2834414705238791\n",
      "Predicted steering angle: -0.7202942475097965 degrees and actual degrees0.27454029133870805\n",
      "Predicted steering angle: -0.9464424512591534 degrees and actual degrees0.27104963283471933\n",
      "Predicted steering angle: -0.7955952688401888 degrees and actual degrees0.27104963283471933\n",
      "Predicted steering angle: -1.511206247735178 degrees and actual degrees0.27104963283471933\n",
      "Predicted steering angle: -1.382604457834416 degrees and actual degrees0.27104963283471933\n",
      "Predicted steering angle: -2.635014837917811 degrees and actual degrees0.27104963283471933\n",
      "Predicted steering angle: -2.71705437447295 degrees and actual degrees0.27104963283471933\n",
      "Predicted steering angle: -2.698845517032519 degrees and actual degrees0.27104963283471933\n",
      "Predicted steering angle: -2.435194665541326 degrees and actual degrees0.27104963283471933\n",
      "Predicted steering angle: -2.3984629754020554 degrees and actual degrees0.27104963283471933\n",
      "Predicted steering angle: -1.8363102321796796 degrees and actual degrees0.27104963283471933\n",
      "Predicted steering angle: 3.5717883026331654 degrees and actual degrees0.2675589743307307\n",
      "Predicted steering angle: 4.767126689228991 degrees and actual degrees0.2658136450787364\n",
      "Predicted steering angle: 5.307506070037836 degrees and actual degrees0.2658136450787364\n",
      "Predicted steering angle: 4.896486630127625 degrees and actual degrees0.2658136450787364\n",
      "Predicted steering angle: 5.327150120977616 degrees and actual degrees0.2658136450787364\n",
      "Predicted steering angle: 3.0124536527736545 degrees and actual degrees0.2658136450787364\n",
      "Predicted steering angle: 3.099814547022468 degrees and actual degrees0.2658136450787364\n",
      "Predicted steering angle: 1.1902449864657008 degrees and actual degrees0.0\n",
      "Predicted steering angle: 1.4626138273804743 degrees and actual degrees0.2658136450787364\n",
      "Predicted steering angle: 0.7088401803542439 degrees and actual degrees0.2658136450787364\n",
      "Predicted steering angle: 0.7185776288723019 degrees and actual degrees0.2675589743307307\n",
      "Predicted steering angle: 0.8253903149079299 degrees and actual degrees0.26930430358272506\n",
      "Predicted steering angle: 1.0090757128349934 degrees and actual degrees0.26930430358272506\n",
      "Predicted steering angle: 0.518482061134048 degrees and actual degrees0.27104963283471933\n",
      "Predicted steering angle: 0.06373147461907744 degrees and actual degrees0.27454029133870805\n",
      "Predicted steering angle: -0.465225421989019 degrees and actual degrees0.2762856205907024\n",
      "Predicted steering angle: -3.21806305080196 degrees and actual degrees0.27803094984269666\n",
      "Predicted steering angle: -3.9715471084795526 degrees and actual degrees0.2834414705238791\n",
      "Predicted steering angle: -4.481340475298257 degrees and actual degrees0.2886774582798621\n"
     ]
    },
    {
     "name": "stdout",
     "output_type": "stream",
     "text": [
      "Predicted steering angle: -5.894103206526041 degrees and actual degrees0.29216811678385074\n",
      "Predicted steering angle: -5.510498865283791 degrees and actual degrees0.2991494337918281\n",
      "Predicted steering angle: -7.3381469234920145 degrees and actual degrees0.3097959422289935\n",
      "Predicted steering angle: -7.928992437643967 degrees and actual degrees0.3256784384221419\n",
      "Predicted steering angle: -9.01014222759164 degrees and actual degrees0.3413864016900908\n",
      "Predicted steering angle: -8.672233132557245 degrees and actual degrees0.35028758087526196\n",
      "Predicted steering angle: -7.27214936686312 degrees and actual degrees0.3659955441432109\n",
      "Predicted steering angle: -5.867713063120404 degrees and actual degrees0.38013271108436497\n",
      "Predicted steering angle: -4.778239407008602 degrees and actual degrees0.3960152072775134\n",
      "Predicted steering angle: -3.5237906423447813 degrees and actual degrees0.4153883619746504\n",
      "Predicted steering angle: -2.998343976052289 degrees and actual degrees0.4276056667386107\n",
      "Predicted steering angle: -2.8287000063157435 degrees and actual degrees0.44872415068774213\n",
      "Predicted steering angle: -21.48060855287348 degrees and actual degrees0.46460664688089054\n",
      "Predicted steering angle: -37.22324690100553 degrees and actual degrees0.4874704600820162\n",
      "Predicted steering angle: -39.666006001052644 degrees and actual degrees0.5068436147791533\n",
      "Predicted steering angle: -54.949677835074645 degrees and actual degrees0.519235452468313\n",
      "Predicted steering angle: -77.62689625694662 degrees and actual degrees0.5279620987282847\n",
      "Predicted steering angle: -81.21925474148235 degrees and actual degrees0.529707427980279\n",
      "Predicted steering angle: -84.80035707426588 degrees and actual degrees0.529707427980279\n",
      "Predicted steering angle: -86.72975574120025 degrees and actual degrees0.5314527572322733\n",
      "Predicted steering angle: -86.08196010974874 degrees and actual degrees0.5314527572322733\n",
      "Predicted steering angle: -90.4558083485498 degrees and actual degrees0.5351179486614615\n",
      "Predicted steering angle: -89.71796350308082 degrees and actual degrees0.5403539364174444\n",
      "Predicted steering angle: -92.93335701713437 degrees and actual degrees0.5455899241734274\n",
      "Predicted steering angle: -89.30548154891459 degrees and actual degrees0.5579817618625871\n",
      "Predicted steering angle: -87.00036783611615 degrees and actual degrees0.5632177496185702\n",
      "Predicted steering angle: -88.95741510881074 degrees and actual degrees0.5701990666265475\n",
      "Predicted steering angle: -83.62740868809959 degrees and actual degrees0.5808455750637129\n",
      "Predicted steering angle: -72.20793345248524 degrees and actual degrees0.5878268920716901\n",
      "Predicted steering angle: -59.271548334291914 degrees and actual degrees0.6002187297608499\n",
      "Predicted steering angle: -35.617175729001225 degrees and actual degrees0.610690705272816\n",
      "Predicted steering angle: -26.660205670324487 degrees and actual degrees0.6283185307179586\n",
      "Predicted steering angle: -19.353561286831862 degrees and actual degrees0.638965039155124\n",
      "Predicted steering angle: -15.015607399666507 degrees and actual degrees0.6476916854150956\n",
      "Predicted steering angle: -17.058925084220228 degrees and actual degrees0.654673002423073\n",
      "Predicted steering angle: -23.260019680728956 degrees and actual degrees0.6581636609270617\n",
      "Predicted steering angle: -29.955567039180536 degrees and actual degrees0.6635741816082441\n",
      "Predicted steering angle: -29.726581532161276 degrees and actual degrees0.6688101693642271\n",
      "Predicted steering angle: -26.290670238111993 degrees and actual degrees0.6757914863722043\n",
      "Predicted steering angle: -26.064840278489278 degrees and actual degrees0.6829473363053812\n",
      "Predicted steering angle: -32.388866327227184 degrees and actual degrees0.6881833240613641\n",
      "Predicted steering angle: -32.31892177503167 degrees and actual degrees0.6951646410693415\n",
      "Predicted steering angle: -33.470129669069806 degrees and actual degrees0.6969099703213358\n",
      "Predicted steering angle: -37.98166427625458 degrees and actual degrees0.6969099703213358\n",
      "Predicted steering angle: -40.91124169429977 degrees and actual degrees0.7004006288253245\n",
      "Predicted steering angle: -40.256738817083296 degrees and actual degrees0.7093018080104956\n",
      "Predicted steering angle: -38.78415344712313 degrees and actual degrees0.7197737835224615\n",
      "Predicted steering angle: -39.96850824920334 degrees and actual degrees0.7286749627076327\n",
      "Predicted steering angle: -35.40892326120753 degrees and actual degrees0.749793446656764\n",
      "Predicted steering angle: -35.301542442171176 degrees and actual degrees0.7674212721019067\n",
      "Predicted steering angle: -35.6718684687801 degrees and actual degrees0.7778932476138727\n",
      "Predicted steering angle: -27.901811118027744 degrees and actual degrees0.7885397560510381\n",
      "Predicted steering angle: -19.78801254446345 degrees and actual degrees0.8007570608149984\n",
      "Predicted steering angle: -16.61749337325689 degrees and actual degrees0.8096582400001695\n",
      "Predicted steering angle: -20.639648341504827 degrees and actual degrees0.8148942277561525\n",
      "Predicted steering angle: -23.160679701893 degrees and actual degrees0.8148942277561525\n",
      "Predicted steering angle: -26.751033525907314 degrees and actual degrees0.8148942277561525\n",
      "Predicted steering angle: -30.63893771092407 degrees and actual degrees0.8148942277561525\n",
      "Predicted steering angle: -33.96383281775125 degrees and actual degrees0.8131488985041582\n",
      "Predicted steering angle: -42.74373705238458 degrees and actual degrees0.8114035692521638\n",
      "Predicted steering angle: -49.171904702944964 degrees and actual degrees0.8114035692521638\n",
      "Predicted steering angle: -52.83373304152888 degrees and actual degrees0.8096582400001695\n",
      "Predicted steering angle: -57.499360131483726 degrees and actual degrees0.8096582400001695\n",
      "Predicted steering angle: -60.55005729408075 degrees and actual degrees0.0\n",
      "Predicted steering angle: -62.818492891036215 degrees and actual degrees0.8096582400001695\n",
      "Predicted steering angle: -65.50910248059017 degrees and actual degrees0.8079129107481751\n",
      "Predicted steering angle: -65.94722496490063 degrees and actual degrees0.8059930485709813\n",
      "Predicted steering angle: -69.95463355473052 degrees and actual degrees0.8059930485709813\n",
      "Predicted steering angle: -75.02854886270121 degrees and actual degrees0.8059930485709813\n",
      "Predicted steering angle: -74.86705586996543 degrees and actual degrees0.8042477193189871\n",
      "Predicted steering angle: -73.83905775836514 degrees and actual degrees0.8007570608149984\n",
      "Predicted steering angle: -72.94711018484236 degrees and actual degrees0.7972664023110098\n",
      "Predicted steering angle: -73.86213013738146 degrees and actual degrees0.7920304145550268\n",
      "Predicted steering angle: -72.91349882393672 degrees and actual degrees0.7902850853030323\n",
      "Predicted steering angle: -69.30748679125014 degrees and actual degrees0.0\n",
      "Predicted steering angle: -70.22945987636432 degrees and actual degrees0.7902850853030323\n",
      "Predicted steering angle: -69.62012504012914 degrees and actual degrees0.7902850853030323\n",
      "Predicted steering angle: -67.62815501020829 degrees and actual degrees0.7902850853030323\n",
      "Predicted steering angle: -64.7828074850077 degrees and actual degrees0.7902850853030323\n",
      "Predicted steering angle: -66.77388276014727 degrees and actual degrees0.7902850853030323\n",
      "Predicted steering angle: -65.54987187974598 degrees and actual degrees0.7902850853030323\n",
      "Predicted steering angle: -64.7665652951614 degrees and actual degrees0.7902850853030323\n",
      "Predicted steering angle: -66.50792202405616 degrees and actual degrees0.7955210730590153\n",
      "Predicted steering angle: -70.40731117216228 degrees and actual degrees0.8131488985041582\n",
      "Predicted steering angle: -72.56464691207832 degrees and actual degrees0.8148942277561525\n",
      "Predicted steering angle: -79.40108570518163 degrees and actual degrees0.7955210730590153\n",
      "Predicted steering angle: -80.0285546936632 degrees and actual degrees0.0\n",
      "Predicted steering angle: -77.90486446559864 degrees and actual degrees0.7408922674715929\n",
      "Predicted steering angle: -78.98404801483899 degrees and actual degrees0.7304202919596269\n",
      "Predicted steering angle: -78.80810234181946 degrees and actual degrees0.7286749627076327\n",
      "Predicted steering angle: -71.4859551364582 degrees and actual degrees0.7286749627076327\n",
      "Predicted steering angle: -65.1948181561212 degrees and actual degrees0.7286749627076327\n",
      "Predicted steering angle: -72.69702280838233 degrees and actual degrees0.7251843042036438\n",
      "Predicted steering angle: -75.54871557932186 degrees and actual degrees0.7004006288253245\n",
      "Predicted steering angle: -84.45509101172173 degrees and actual degrees0.6723008278682158\n"
     ]
    },
    {
     "name": "stdout",
     "output_type": "stream",
     "text": [
      "Predicted steering angle: -88.43907888288764 degrees and actual degrees0.6442010269111069\n",
      "Predicted steering angle: -90.75406904922592 degrees and actual degrees0.635299847725936\n",
      "Predicted steering angle: -93.64581404945841 degrees and actual degrees0.6265732014659643\n",
      "Predicted steering angle: -96.16176204155678 degrees and actual degrees0.619591884457987\n",
      "Predicted steering angle: -99.71773610838385 degrees and actual degrees0.6141813637768045\n",
      "Predicted steering angle: -100.98823325627626 degrees and actual degrees0.610690705272816\n",
      "Predicted steering angle: -101.22270682029362 degrees and actual degrees0.6054547175168329\n",
      "Predicted steering angle: -104.28028198338485 degrees and actual degrees0.5754350543825304\n",
      "Predicted steering angle: -102.76691013879596 degrees and actual degrees0.5279620987282847\n",
      "Predicted steering angle: -105.31202986883947 degrees and actual degrees0.47699848457005023\n",
      "Predicted steering angle: -105.30147039638263 degrees and actual degrees0.4698426346368736\n",
      "Predicted steering angle: -105.41519987625252 degrees and actual degrees0.4698426346368736\n",
      "Predicted steering angle: -106.15212264618353 degrees and actual degrees0.4698426346368736\n",
      "Predicted steering angle: -104.41660572902914 degrees and actual degrees0.46809730538487915\n",
      "Predicted steering angle: -103.7469739828011 degrees and actual degrees0.45937065912490754\n",
      "Predicted steering angle: -103.80807002492685 degrees and actual degrees0.44872415068774213\n",
      "Predicted steering angle: -101.42426570270071 degrees and actual degrees0.0\n",
      "Predicted steering angle: -95.92258930739045 degrees and actual degrees0.4118977034706618\n",
      "Predicted steering angle: -94.17858929528691 degrees and actual degrees0.3960152072775134\n",
      "Predicted steering angle: -92.6064095219442 degrees and actual degrees0.38711402809234224\n",
      "Predicted steering angle: -94.73558439191228 degrees and actual degrees0.37838738183237064\n",
      "Predicted steering angle: -94.17067310603886 degrees and actual degrees0.374896723328382\n",
      "Predicted steering angle: -91.56863740964164 degrees and actual degrees0.36966073557239904\n",
      "Predicted steering angle: -92.01895861180975 degrees and actual degrees0.36425021489121656\n",
      "Predicted steering angle: -94.10906479972535 degrees and actual degrees0.36425021489121656\n",
      "Predicted steering angle: -92.45078366170546 degrees and actual degrees0.36425021489121656\n",
      "Predicted steering angle: -91.28698772902699 degrees and actual degrees0.36425021489121656\n",
      "Predicted steering angle: -93.396956107049 degrees and actual degrees0.36250488563922223\n",
      "Predicted steering angle: -92.92848709225615 degrees and actual degrees0.36250488563922223\n",
      "Predicted steering angle: -89.72195233355612 degrees and actual degrees0.36250488563922223\n",
      "Predicted steering angle: -84.71723367206683 degrees and actual degrees0.36250488563922223\n",
      "Predicted steering angle: -85.35418979330554 degrees and actual degrees0.36250488563922223\n",
      "Predicted steering angle: -83.44081475016401 degrees and actual degrees0.36250488563922223\n",
      "Predicted steering angle: -79.64077753372489 degrees and actual degrees0.3659955441432109\n",
      "Predicted steering angle: -80.81042010833289 degrees and actual degrees0.3659955441432109\n",
      "Predicted steering angle: -80.1067466992815 degrees and actual degrees0.3659955441432109\n",
      "Predicted steering angle: -82.4268526773081 degrees and actual degrees0.3659955441432109\n",
      "Predicted steering angle: -86.69184136111751 degrees and actual degrees0.3659955441432109\n",
      "Predicted steering angle: -88.33738419633532 degrees and actual degrees0.36966073557239904\n",
      "Predicted steering angle: -84.41431478237676 degrees and actual degrees0.3853686988403479\n",
      "Predicted steering angle: -84.36179062765936 degrees and actual degrees0.39426987802551905\n",
      "Predicted steering angle: -84.92420889448572 degrees and actual degrees0.4012511950334963\n",
      "Predicted steering angle: -75.05140950585324 degrees and actual degrees0.4118977034706618\n",
      "Predicted steering angle: -68.02755715211394 degrees and actual degrees0.4153883619746504\n",
      "Predicted steering angle: -66.94067597967899 degrees and actual degrees0.4153883619746504\n",
      "Predicted steering angle: -54.95514540150524 degrees and actual degrees0.4153883619746504\n",
      "Predicted steering angle: -57.66236942621525 degrees and actual degrees0.4153883619746504\n",
      "Predicted steering angle: -42.91052685682171 degrees and actual degrees0.4153883619746504\n",
      "Predicted steering angle: -59.64457911581216 degrees and actual degrees0.4153883619746504\n",
      "Predicted steering angle: -64.42205055342596 degrees and actual degrees0.4153883619746504\n",
      "Predicted steering angle: -58.122669534760746 degrees and actual degrees0.41364303272265607\n",
      "Predicted steering angle: -61.642429938608394 degrees and actual degrees0.41364303272265607\n",
      "Predicted steering angle: -55.340033391424626 degrees and actual degrees0.404741853537485\n",
      "Predicted steering angle: -58.18894286027738 degrees and actual degrees0.38711402809234224\n",
      "Predicted steering angle: -67.6138252733296 degrees and actual degrees0.38362336958835364\n",
      "Predicted steering angle: -58.239964373377376 degrees and actual degrees0.3853686988403479\n",
      "Predicted steering angle: -57.311543589686714 degrees and actual degrees0.3853686988403479\n",
      "Predicted steering angle: -55.270747952484015 degrees and actual degrees0.3853686988403479\n",
      "Predicted steering angle: -47.001851150794366 degrees and actual degrees0.38013271108436497\n",
      "Predicted steering angle: -46.22810341595323 degrees and actual degrees0.37140606482439337\n",
      "Predicted steering angle: -45.48306979638282 degrees and actual degrees0.3679154063204046\n",
      "Predicted steering angle: -40.794944063301955 degrees and actual degrees0.35552356863124496\n",
      "Predicted steering angle: -38.33361367890158 degrees and actual degrees0.3274237676741363\n",
      "Predicted steering angle: -30.339030934657977 degrees and actual degrees0.2851867997758734\n",
      "Predicted steering angle: -27.208514473872892 degrees and actual degrees0.2392846404484226\n",
      "Predicted steering angle: -20.268779314856893 degrees and actual degrees0.2076941809873252\n",
      "Predicted steering angle: -19.109030269261652 degrees and actual degrees0.17418385934903408\n",
      "Predicted steering angle: -12.498999440539567 degrees and actual degrees0.16022122533307945\n",
      "Predicted steering angle: -10.285005573910983 degrees and actual degrees0.1478293876439197\n",
      "Predicted steering angle: -6.7281154079614955 degrees and actual degrees0.13910274138394804\n",
      "Predicted steering angle: 0.468143566951054 degrees and actual degrees0.13910274138394804\n",
      "Predicted steering angle: 3.6441560778801545 degrees and actual degrees0.13910274138394804\n",
      "Predicted steering angle: 4.329127575210407 degrees and actual degrees0.13543754995475998\n",
      "Predicted steering angle: 3.172628632443035 degrees and actual degrees0.1319468914507713\n",
      "Predicted steering angle: 4.410587826346564 degrees and actual degrees0.1319468914507713\n",
      "Predicted steering angle: 5.812984891735208 degrees and actual degrees0.130201562198777\n",
      "Predicted steering angle: 7.438128086336307 degrees and actual degrees0.12322024519079966\n",
      "Predicted steering angle: 7.815260396453146 degrees and actual degrees0.11082840750163991\n",
      "Predicted steering angle: 10.058969001065872 degrees and actual degrees0.09512044423369097\n",
      "Predicted steering angle: 9.316534268474657 degrees and actual degrees0.08098327729253689\n",
      "Predicted steering angle: 9.9594275316494 degrees and actual degrees0.06684611035138281\n",
      "Predicted steering angle: 7.912524851555067 degrees and actual degrees0.06161012259539983\n",
      "Predicted steering angle: 6.9074317793364255 degrees and actual degrees0.05986479334340551\n",
      "Predicted steering angle: 8.241815955404197 degrees and actual degrees0.05986479334340551\n",
      "Predicted steering angle: 9.359571290434907 degrees and actual degrees0.0\n",
      "Predicted steering angle: 10.791508497097032 degrees and actual degrees0.05462880558742251\n",
      "Predicted steering angle: 9.415675318051038 degrees and actual degrees0.05096361415823442\n",
      "Predicted steering angle: 5.947407710356113 degrees and actual degrees0.045727626402251434\n",
      "Predicted steering angle: 3.060226770593074 degrees and actual degrees0.033510321638291124\n",
      "Predicted steering angle: 0.4581300293801393 degrees and actual degrees0.021118483949131385\n",
      "Predicted steering angle: -5.91721870111148 degrees and actual degrees0.017627825445142728\n",
      "Predicted steering angle: -9.205253411422223 degrees and actual degrees0.017627825445142728\n",
      "Predicted steering angle: -12.063328140367489 degrees and actual degrees0.017627825445142728\n",
      "Predicted steering angle: -13.67893511022678 degrees and actual degrees0.017627825445142728\n",
      "Predicted steering angle: -14.803531733484904 degrees and actual degrees0.021118483949131385\n",
      "Predicted steering angle: -19.89483158044057 degrees and actual degrees0.024609142453120045\n",
      "Predicted steering angle: -24.714477728631906 degrees and actual degrees0.02809980095710871\n",
      "Predicted steering angle: -35.76212600356723 degrees and actual degrees0.029845130209103034\n",
      "Predicted steering angle: -42.070075494546224 degrees and actual degrees0.033510321638291124\n",
      "Predicted steering angle: -44.05588127874115 degrees and actual degrees0.033510321638291124\n"
     ]
    },
    {
     "name": "stdout",
     "output_type": "stream",
     "text": [
      "Predicted steering angle: -50.85605859754086 degrees and actual degrees0.033510321638291124\n",
      "Predicted steering angle: -51.2619596644418 degrees and actual degrees0.033510321638291124\n",
      "Predicted steering angle: -54.066711960310414 degrees and actual degrees0.035255650890285456\n",
      "Predicted steering angle: -53.46909772869098 degrees and actual degrees0.03700098014227979\n",
      "Predicted steering angle: -57.83525517448661 degrees and actual degrees0.0439822971502571\n",
      "Predicted steering angle: -60.399895585178015 degrees and actual degrees0.052883476335428184\n",
      "Predicted steering angle: -59.22701550090343 degrees and actual degrees0.0\n",
      "Predicted steering angle: -66.90291186375799 degrees and actual degrees0.05986479334340551\n",
      "Predicted steering angle: -69.26564505239465 degrees and actual degrees0.06335545184739416\n",
      "Predicted steering angle: -73.81513843589177 degrees and actual degrees0.06859143960337716\n",
      "Predicted steering angle: -74.03680539521535 degrees and actual degrees0.08098327729253689\n",
      "Predicted steering angle: -70.67836039918507 degrees and actual degrees0.08970992355250852\n",
      "Predicted steering angle: -68.85672162678598 degrees and actual degrees0.0932005820564972\n",
      "Predicted steering angle: -71.02218529181434 degrees and actual degrees0.0932005820564972\n",
      "Predicted steering angle: -73.14687955768689 degrees and actual degrees0.09861110273767962\n",
      "Predicted steering angle: -77.73088588706007 degrees and actual degrees0.10733774899765128\n",
      "Predicted steering angle: -78.7987996241699 degrees and actual degrees0.12147491593880534\n",
      "Predicted steering angle: -85.73716533025731 degrees and actual degrees0.1319468914507713\n",
      "Predicted steering angle: -86.96026096530984 degrees and actual degrees0.13910274138394804\n",
      "Predicted steering angle: -85.77194465351103 degrees and actual degrees0.1408480706359424\n",
      "Predicted steering angle: -84.76698476998119 degrees and actual degrees0.14608405839192537\n",
      "Predicted steering angle: -80.75836040647906 degrees and actual degrees0.15132004614790837\n",
      "Predicted steering angle: -84.15594238645352 degrees and actual degrees0.1530653753999027\n",
      "Predicted steering angle: -81.08083412776287 degrees and actual degrees0.15132004614790837\n",
      "Predicted steering angle: -83.91392829359245 degrees and actual degrees0.15132004614790837\n",
      "Predicted steering angle: -78.44534416481092 degrees and actual degrees0.15132004614790837\n",
      "Predicted steering angle: -75.61306962168173 degrees and actual degrees0.15132004614790837\n",
      "Predicted steering angle: -59.88216724609105 degrees and actual degrees0.14433872913993104\n",
      "Predicted steering angle: -58.225313617607696 degrees and actual degrees0.14608405839192537\n",
      "Predicted steering angle: -52.69633695618491 degrees and actual degrees0.1425933998879367\n",
      "Predicted steering angle: -54.21058989517673 degrees and actual degrees0.13910274138394804\n",
      "Predicted steering angle: -61.872928332528815 degrees and actual degrees0.13910274138394804\n",
      "Predicted steering angle: -66.58944716198943 degrees and actual degrees0.13910274138394804\n",
      "Predicted steering angle: -66.86955321985164 degrees and actual degrees0.13910274138394804\n",
      "Predicted steering angle: -62.31124889232522 degrees and actual degrees0.13910274138394804\n",
      "Predicted steering angle: -55.06864607003793 degrees and actual degrees0.13910274138394804\n",
      "Predicted steering angle: -54.972821931077235 degrees and actual degrees0.13369222070276562\n",
      "Predicted steering angle: -53.29293348961801 degrees and actual degrees0.12496557444279399\n",
      "Predicted steering angle: -56.599619312117945 degrees and actual degrees0.12147491593880534\n",
      "Predicted steering angle: -67.03684504319277 degrees and actual degrees0.11972958668681102\n",
      "Predicted steering angle: -73.80002322725852 degrees and actual degrees0.11431906600562858\n",
      "Predicted steering angle: -85.61716573672936 degrees and actual degrees0.11431906600562858\n",
      "Predicted steering angle: -92.84581448254232 degrees and actual degrees0.1090830782496456\n",
      "Predicted steering angle: -99.3519726481405 degrees and actual degrees0.10210176124166827\n",
      "Predicted steering angle: -101.53688186173588 degrees and actual degrees0.09145525280450287\n",
      "Predicted steering angle: -100.02254013028484 degrees and actual degrees0.07400196028455958\n",
      "Predicted steering angle: -100.51119235407506 degrees and actual degrees0.05986479334340551\n",
      "Predicted steering angle: -101.04984839277894 degrees and actual degrees0.04223696789826277\n",
      "Predicted steering angle: -107.39623477331219 degrees and actual degrees0.024609142453120045\n",
      "Predicted steering angle: -107.91412703693923 degrees and actual degrees0.017627825445142728\n",
      "Predicted steering angle: -111.62649194519207 degrees and actual degrees0.017627825445142728\n",
      "Predicted steering angle: -113.50655615575144 degrees and actual degrees0.017627825445142728\n",
      "Predicted steering angle: -115.10103649673424 degrees and actual degrees0.01064650843716541\n",
      "Predicted steering angle: -118.96867209538898 degrees and actual degrees-0.0017453292519943296\n",
      "Predicted steering angle: -117.8928626595986 degrees and actual degrees-0.026354471705114374\n",
      "Predicted steering angle: -115.3375386269351 degrees and actual degrees-0.052883476335428184\n",
      "Predicted steering angle: -113.58067053843524 degrees and actual degrees-0.08272860654453122\n",
      "Predicted steering angle: -109.476225451067 degrees and actual degrees-0.11431906600562858\n",
      "Predicted steering angle: -108.94764394138888 degrees and actual degrees-0.1478293876439197\n",
      "Predicted steering angle: -115.5350813581102 degrees and actual degrees-0.1706932008450454\n",
      "Predicted steering angle: -117.6527268687593 degrees and actual degrees-0.20420352248333654\n",
      "Predicted steering angle: -119.24100539797573 degrees and actual degrees-0.23404865269243957\n",
      "Predicted steering angle: -117.91734205758394 degrees and actual degrees-0.2569124658935653\n",
      "Predicted steering angle: -115.82417594492017 degrees and actual degrees-0.26406831582674206\n",
      "Predicted steering angle: -111.84050226245608 degrees and actual degrees-0.2727949620867137\n",
      "Predicted steering angle: -116.15834978025221 degrees and actual degrees-0.2869321290278678\n",
      "Predicted steering angle: -114.13514529525689 degrees and actual degrees-0.29042278753185646\n",
      "Predicted steering angle: -110.98568359726147 degrees and actual degrees-0.29391344603584507\n",
      "Predicted steering angle: -101.44825332706579 degrees and actual degrees-0.29391344603584507\n",
      "Predicted steering angle: -98.55767628918137 degrees and actual degrees-0.29391344603584507\n",
      "Predicted steering angle: -97.57822716220154 degrees and actual degrees-0.30089476304382234\n",
      "Predicted steering angle: -99.08636025169704 degrees and actual degrees-0.30089476304382234\n",
      "Predicted steering angle: -103.37959176772445 degrees and actual degrees-0.3045599544730105\n",
      "Predicted steering angle: -104.71975001496182 degrees and actual degrees-0.3045599544730105\n",
      "Predicted steering angle: -112.55508348361198 degrees and actual degrees-0.3097959422289935\n",
      "Predicted steering angle: -115.99043640969661 degrees and actual degrees-0.3220132469929538\n",
      "Predicted steering angle: -117.2646765012542 degrees and actual degrees-0.3431317309420852\n",
      "Predicted steering angle: -119.9517002414939 degrees and actual degrees-0.3572688978832392\n",
      "Predicted steering angle: -118.3897452613387 degrees and actual degrees-0.36425021489121656\n",
      "Predicted steering angle: -119.53817326838464 degrees and actual degrees-0.36425021489121656\n",
      "Predicted steering angle: -117.19787725117148 degrees and actual degrees-0.36425021489121656\n",
      "Predicted steering angle: -116.70420483834128 degrees and actual degrees-0.3659955441432109\n",
      "Predicted steering angle: -114.0361075522917 degrees and actual degrees-0.3679154063204046\n",
      "Predicted steering angle: -111.09891447332194 degrees and actual degrees-0.36966073557239904\n",
      "Predicted steering angle: -108.9487572622236 degrees and actual degrees-0.374896723328382\n",
      "Predicted steering angle: -100.59256722784659 degrees and actual degrees-0.3853686988403479\n",
      "Predicted steering angle: -95.04217109318664 degrees and actual degrees-0.39426987802551905\n",
      "Predicted steering angle: -92.86340904984428 degrees and actual degrees-0.4064871827894793\n",
      "Predicted steering angle: -101.83095565645077 degrees and actual degrees-0.4206243497306334\n",
      "Predicted steering angle: -100.23159856040058 degrees and actual degrees-0.4312708581677988\n",
      "Predicted steering angle: -93.10640668994581 degrees and actual degrees-0.44523349218375347\n",
      "Predicted steering angle: -105.11162528840212 degrees and actual degrees-0.44872415068774213\n"
     ]
    },
    {
     "name": "stdout",
     "output_type": "stream",
     "text": [
      "Predicted steering angle: -106.56149003408825 degrees and actual degrees-0.4541346713689245\n",
      "Predicted steering angle: -108.99560552974071 degrees and actual degrees-0.4558800006209189\n",
      "Predicted steering angle: -108.38148273089735 degrees and actual degrees-0.4576253298729132\n",
      "Predicted steering angle: -115.55768928426295 degrees and actual degrees-0.46460664688089054\n",
      "Predicted steering angle: -114.44883539326806 degrees and actual degrees-0.4698426346368736\n",
      "Predicted steering angle: -116.05265943303543 degrees and actual degrees-0.4735078260660616\n",
      "Predicted steering angle: -114.9882290924023 degrees and actual degrees-0.47699848457005023\n",
      "Predicted steering angle: -115.35748277931154 degrees and actual degrees-0.47874381382204456\n",
      "Predicted steering angle: -115.71890906943193 degrees and actual degrees-0.48048914307403895\n",
      "Predicted steering angle: -116.41027447759896 degrees and actual degrees-0.4822344723260332\n",
      "Predicted steering angle: -116.55302543125222 degrees and actual degrees-0.4874704600820162\n",
      "Predicted steering angle: -115.62336838332179 degrees and actual degrees-0.4892157893340106\n",
      "Predicted steering angle: -115.02953807650255 degrees and actual degrees-0.49096111858600483\n",
      "Predicted steering angle: -113.51739566596424 degrees and actual degrees-0.49096111858600483\n",
      "Predicted steering angle: -113.45907951083068 degrees and actual degrees-0.49288098076319864\n",
      "Predicted steering angle: -112.92855822742828 degrees and actual degrees-0.5016076270231703\n",
      "Predicted steering angle: -108.66645188344863 degrees and actual degrees-0.505098285527159\n",
      "Predicted steering angle: -105.68947978275271 degrees and actual degrees-0.505098285527159\n",
      "Predicted steering angle: -102.2034673435941 degrees and actual degrees-0.5068436147791533\n",
      "Predicted steering angle: -95.66552830778785 degrees and actual degrees-0.5068436147791533\n",
      "Predicted steering angle: -92.72445568136953 degrees and actual degrees-0.5068436147791533\n",
      "Predicted steering angle: -87.52642900599054 degrees and actual degrees-0.5068436147791533\n",
      "Predicted steering angle: -84.81354616955318 degrees and actual degrees-0.5068436147791533\n",
      "Predicted steering angle: -81.09563514769428 degrees and actual degrees-0.5068436147791533\n",
      "Predicted steering angle: -79.50547148626694 degrees and actual degrees-0.5033529562751646\n",
      "Predicted steering angle: -76.75944857197666 degrees and actual degrees-0.49462631001519297\n",
      "Predicted steering angle: -73.99005958053579 degrees and actual degrees-0.4857251308300219\n",
      "Predicted steering angle: -74.05110781133736 degrees and actual degrees-0.4857251308300219\n",
      "Predicted steering angle: -70.84692263771181 degrees and actual degrees-0.49096111858600483\n",
      "Predicted steering angle: -69.06918149110841 degrees and actual degrees-0.49288098076319864\n",
      "Predicted steering angle: -63.923760932716846 degrees and actual degrees-0.49288098076319864\n",
      "Predicted steering angle: -61.95678256496907 degrees and actual degrees-0.49288098076319864\n",
      "Predicted steering angle: -61.178981112855524 degrees and actual degrees-0.49462631001519297\n",
      "Predicted steering angle: -57.26797722806579 degrees and actual degrees-0.49462631001519297\n",
      "Predicted steering angle: -53.117807439298886 degrees and actual degrees-0.4892157893340106\n",
      "Predicted steering angle: -45.572241331091924 degrees and actual degrees-0.4874704600820162\n",
      "Predicted steering angle: -41.52498541764419 degrees and actual degrees-0.4874704600820162\n",
      "Predicted steering angle: -40.652664392701425 degrees and actual degrees-0.4857251308300219\n",
      "Predicted steering angle: -38.31524388512883 degrees and actual degrees-0.47874381382204456\n",
      "Predicted steering angle: -36.50820464208065 degrees and actual degrees-0.4735078260660616\n",
      "Predicted steering angle: -35.15967941311001 degrees and actual degrees-0.4698426346368736\n",
      "Predicted steering angle: -33.429749590696694 degrees and actual degrees-0.4698426346368736\n",
      "Predicted steering angle: -31.52270271782119 degrees and actual degrees-0.46460664688089054\n",
      "Predicted steering angle: -32.135698535451496 degrees and actual degrees-0.45937065912490754\n",
      "Predicted steering angle: -30.468749887374862 degrees and actual degrees-0.4558800006209189\n",
      "Predicted steering angle: -27.72541806761758 degrees and actual degrees-0.4558800006209189\n",
      "Predicted steering angle: -27.619382795847716 degrees and actual degrees-0.4558800006209189\n",
      "Predicted steering angle: -26.045835277123718 degrees and actual degrees-0.4558800006209189\n",
      "Predicted steering angle: -24.218276438261526 degrees and actual degrees-0.4558800006209189\n",
      "Predicted steering angle: -25.77302556884236 degrees and actual degrees-0.45238934211693027\n",
      "Predicted steering angle: -27.021213611358217 degrees and actual degrees-0.44872415068774213\n",
      "Predicted steering angle: -26.07406615651067 degrees and actual degrees-0.44872415068774213\n",
      "Predicted steering angle: -23.889911678818578 degrees and actual degrees-0.44872415068774213\n",
      "Predicted steering angle: -19.112078241178768 degrees and actual degrees-0.45064401286493594\n",
      "Predicted steering angle: -18.69703838116836 degrees and actual degrees-0.4541346713689245\n",
      "Predicted steering angle: -19.180853123478922 degrees and actual degrees-0.4628613176288962\n",
      "Predicted steering angle: -18.04349173043569 degrees and actual degrees-0.4717624968140673\n",
      "Predicted steering angle: -16.663416150141472 degrees and actual degrees-0.4735078260660616\n",
      "Predicted steering angle: -17.707381536473946 degrees and actual degrees-0.4735078260660616\n",
      "Predicted steering angle: -22.06808336867003 degrees and actual degrees-0.4735078260660616\n",
      "Predicted steering angle: -26.181668956695052 degrees and actual degrees-0.4735078260660616\n",
      "Predicted steering angle: -26.01705115241399 degrees and actual degrees-0.47525315531805595\n",
      "Predicted steering angle: -33.610145131960486 degrees and actual degrees-0.47874381382204456\n",
      "Predicted steering angle: -38.88650383183577 degrees and actual degrees-0.4874704600820162\n",
      "Predicted steering angle: -50.86610580580995 degrees and actual degrees-0.4892157893340106\n",
      "Predicted steering angle: -63.04817166225623 degrees and actual degrees-0.49096111858600483\n",
      "Predicted steering angle: -80.07689877260854 degrees and actual degrees-0.49096111858600483\n",
      "Predicted steering angle: -88.03872051449818 degrees and actual degrees-0.49288098076319864\n",
      "Predicted steering angle: -98.01513387283975 degrees and actual degrees-0.49462631001519297\n",
      "Predicted steering angle: -100.86303588878992 degrees and actual degrees-0.505098285527159\n",
      "Predicted steering angle: -103.66318122206337 degrees and actual degrees-0.510334273283142\n",
      "Predicted steering angle: -105.6911463489102 degrees and actual degrees-0.510334273283142\n",
      "Predicted steering angle: -107.16792887011533 degrees and actual degrees-0.510334273283142\n",
      "Predicted steering angle: -108.53422625130635 degrees and actual degrees-0.510334273283142\n",
      "Predicted steering angle: -110.50580133636555 degrees and actual degrees-0.510334273283142\n",
      "Predicted steering angle: -114.07647397028647 degrees and actual degrees-0.49986229777117597\n",
      "Predicted steering angle: -114.80673730577672 degrees and actual degrees-0.4874704600820162\n",
      "Predicted steering angle: -114.64122816180898 degrees and actual degrees-0.4735078260660616\n",
      "Predicted steering angle: -113.33248878475366 degrees and actual degrees-0.4717624968140673\n",
      "Predicted steering angle: -113.46840954923692 degrees and actual degrees-0.4717624968140673\n",
      "Predicted steering angle: -115.03004351050113 degrees and actual degrees-0.4717624968140673\n",
      "Predicted steering angle: -116.65034196654656 degrees and actual degrees-0.4717624968140673\n",
      "Predicted steering angle: -118.13374977124661 degrees and actual degrees-0.47525315531805595\n",
      "Predicted steering angle: -112.89288414939331 degrees and actual degrees-0.47699848457005023\n",
      "Predicted steering angle: -111.09016500099516 degrees and actual degrees-0.47699848457005023\n",
      "Predicted steering angle: -106.11864105887213 degrees and actual degrees-0.47699848457005023\n",
      "Predicted steering angle: -104.17101944723217 degrees and actual degrees-0.47699848457005023\n",
      "Predicted steering angle: -100.4835778992607 degrees and actual degrees-0.47874381382204456\n",
      "Predicted steering angle: -99.39734559479689 degrees and actual degrees-0.47874381382204456\n",
      "Predicted steering angle: -103.1387114862656 degrees and actual degrees-0.47874381382204456\n",
      "Predicted steering angle: -113.29965606541342 degrees and actual degrees-0.47874381382204456\n",
      "Predicted steering angle: -113.58438616134373 degrees and actual degrees-0.47874381382204456\n"
     ]
    },
    {
     "name": "stdout",
     "output_type": "stream",
     "text": [
      "Predicted steering angle: -113.41900679097022 degrees and actual degrees-0.47874381382204456\n",
      "Predicted steering angle: -114.32326919556654 degrees and actual degrees-0.47874381382204456\n",
      "Predicted steering angle: -113.73622126659312 degrees and actual degrees-0.47699848457005023\n",
      "Predicted steering angle: -113.54952487582 degrees and actual degrees-0.4735078260660616\n",
      "Predicted steering angle: -112.61728601638329 degrees and actual degrees-0.4735078260660616\n",
      "Predicted steering angle: -113.81142847954413 degrees and actual degrees-0.4735078260660616\n",
      "Predicted steering angle: -114.72655088492078 degrees and actual degrees-0.4735078260660616\n",
      "Predicted steering angle: -115.45031871051034 degrees and actual degrees-0.4735078260660616\n",
      "Predicted steering angle: -113.61929525819167 degrees and actual degrees-0.4735078260660616\n",
      "Predicted steering angle: -111.23521772839872 degrees and actual degrees-0.48048914307403895\n",
      "Predicted steering angle: -104.1552963517628 degrees and actual degrees-0.49462631001519297\n",
      "Predicted steering angle: -103.72573892467152 degrees and actual degrees-0.5085889440311476\n",
      "Predicted steering angle: -99.40851978427904 degrees and actual degrees-0.519235452468313\n",
      "Predicted steering angle: -100.56743213170094 degrees and actual degrees-0.529707427980279\n",
      "Predicted steering angle: -93.6499599742846 degrees and actual degrees-0.5368632779134558\n",
      "Predicted steering angle: -89.4436221248781 degrees and actual degrees-0.5368632779134558\n",
      "Predicted steering angle: -84.69058910411461 degrees and actual degrees-0.5368632779134558\n",
      "Predicted steering angle: -82.40700414758005 degrees and actual degrees-0.5368632779134558\n",
      "Predicted steering angle: -73.77899990499323 degrees and actual degrees-0.5368632779134558\n",
      "Predicted steering angle: -71.84808493606312 degrees and actual degrees-0.5368632779134558\n",
      "Predicted steering angle: -64.31673586661353 degrees and actual degrees-0.5368632779134558\n",
      "Predicted steering angle: -62.71033001533989 degrees and actual degrees-0.5368632779134558\n",
      "Predicted steering angle: -40.30636697159261 degrees and actual degrees-0.5368632779134558\n",
      "Predicted steering angle: -37.16980750093935 degrees and actual degrees-0.5386086071654501\n",
      "Predicted steering angle: -34.938336887771996 degrees and actual degrees-0.5386086071654501\n",
      "Predicted steering angle: -32.665991007516695 degrees and actual degrees-0.5386086071654501\n",
      "Predicted steering angle: -25.18159607351637 degrees and actual degrees-0.5403539364174444\n",
      "Predicted steering angle: -23.94689936215858 degrees and actual degrees-0.5490805826774161\n",
      "Predicted steering angle: -25.644037446366667 degrees and actual degrees-0.5649630788705644\n",
      "Predicted steering angle: -13.777368381450419 degrees and actual degrees-0.5808455750637129\n",
      "Predicted steering angle: 13.346847897686175 degrees and actual degrees-0.5965535383316618\n",
      "Predicted steering angle: 25.713879545724634 degrees and actual degrees-0.6054547175168329\n",
      "Predicted steering angle: 33.98201478132183 degrees and actual degrees-0.6124360345248103\n",
      "Predicted steering angle: 38.23563120016316 degrees and actual degrees-0.6213372137099813\n",
      "Predicted steering angle: 39.87347982728095 degrees and actual degrees-0.6318091892219473\n",
      "Predicted steering angle: 48.46262029349041 degrees and actual degrees-0.6476916854150956\n",
      "Predicted steering angle: 49.77428299151049 degrees and actual degrees-0.64943701466709\n",
      "Predicted steering angle: 48.74315665327034 degrees and actual degrees-0.64943701466709\n",
      "Predicted steering angle: 52.66775602960299 degrees and actual degrees-0.6511823439190844\n",
      "Predicted steering angle: 48.63509623041157 degrees and actual degrees-0.6511823439190844\n",
      "Predicted steering angle: 51.70655033789626 degrees and actual degrees-0.6511823439190844\n",
      "Predicted steering angle: 40.352453673017266 degrees and actual degrees-0.6529276731710786\n",
      "Predicted steering angle: 35.20042832169831 degrees and actual degrees-0.6635741816082441\n",
      "Predicted steering angle: 21.405869207880613 degrees and actual degrees-0.6723008278682158\n",
      "Predicted steering angle: 18.096854290873708 degrees and actual degrees-0.67404615712021\n",
      "Predicted steering angle: 8.209784929517777 degrees and actual degrees-0.67404615712021\n",
      "Predicted steering angle: 2.609372386782879 degrees and actual degrees-0.6757914863722043\n",
      "Predicted steering angle: 1.90637559334614 degrees and actual degrees-0.6775368156241987\n",
      "Predicted steering angle: 2.315313746550201 degrees and actual degrees-0.6775368156241987\n",
      "Predicted steering angle: 1.5568678766057116 degrees and actual degrees-0.6775368156241987\n",
      "Predicted steering angle: -0.8264242347935405 degrees and actual degrees-0.6775368156241987\n",
      "Predicted steering angle: -0.9312547785876896 degrees and actual degrees-0.6775368156241987\n",
      "Predicted steering angle: -4.543437140137428 degrees and actual degrees-0.6775368156241987\n",
      "Predicted steering angle: -5.377197905234061 degrees and actual degrees-0.6705554986162214\n",
      "Predicted steering angle: -7.304819015436937 degrees and actual degrees-0.6688101693642271\n",
      "Predicted steering angle: -7.385819936351411 degrees and actual degrees-0.6688101693642271\n",
      "Predicted steering angle: -8.220288052913963 degrees and actual degrees-0.6688101693642271\n",
      "Predicted steering angle: -9.375441234971431 degrees and actual degrees-0.6635741816082441\n",
      "Predicted steering angle: -8.771468097234713 degrees and actual degrees-0.6564183316750674\n",
      "Predicted steering angle: -9.195908005090354 degrees and actual degrees-0.6442010269111069\n",
      "Predicted steering angle: -9.225938639323607 degrees and actual degrees-0.6407103684071184\n",
      "Predicted steering angle: -8.709394484283992 degrees and actual degrees-0.6407103684071184\n",
      "Predicted steering angle: -7.831685293859734 degrees and actual degrees-0.635299847725936\n",
      "Predicted steering angle: -9.580726839344395 degrees and actual degrees-0.6176720222807932\n",
      "Predicted steering angle: -7.930917697216264 degrees and actual degrees-0.5860815628196958\n",
      "Predicted steering angle: -8.613110161327969 degrees and actual degrees-0.5579817618625871\n",
      "Predicted steering angle: -11.331570700996295 degrees and actual degrees-0.5473352534254217\n",
      "Predicted steering angle: -7.268110163742704 degrees and actual degrees-0.5420992656694387\n",
      "Predicted steering angle: -12.568256704949851 degrees and actual degrees-0.5314527572322733\n",
      "Predicted steering angle: -17.390144862736243 degrees and actual degrees-0.5120796025351363\n",
      "Predicted steering angle: -18.192483769443054 degrees and actual degrees-0.4892157893340106\n",
      "Predicted steering angle: -13.482687553673035 degrees and actual degrees-0.4735078260660616\n",
      "Predicted steering angle: 0.09532626219290359 degrees and actual degrees-0.4541346713689245\n",
      "Predicted steering angle: -5.969236141169827 degrees and actual degrees-0.44872415068774213\n",
      "Predicted steering angle: -4.009713351787937 degrees and actual degrees-0.4223696789826278\n",
      "Predicted steering angle: -4.834091571399089 degrees and actual degrees-0.3925245487735247\n",
      "Predicted steering angle: 4.042140528646219 degrees and actual degrees-0.36966073557239904\n",
      "Predicted steering angle: 13.26458083045431 degrees and actual degrees-0.3590142271352336\n",
      "Predicted steering angle: 13.122290060796374 degrees and actual degrees-0.35552356863124496\n",
      "Predicted steering angle: 13.305042017323819 degrees and actual degrees-0.35028758087526196\n",
      "Predicted steering angle: 12.293419284258647 degrees and actual degrees-0.3413864016900908\n",
      "Predicted steering angle: 8.898877592238485 degrees and actual degrees-0.3202679177409595\n",
      "Predicted steering angle: 0.13903024812354173 degrees and actual degrees-0.30264009229581673\n",
      "Predicted steering angle: -2.8304216408734097 degrees and actual degrees-0.2851867997758734\n",
      "Predicted steering angle: -7.490889590127363 degrees and actual degrees-0.26406831582674206\n",
      "Predicted steering angle: -14.753985541245632 degrees and actual degrees-0.255167136641571\n",
      "Predicted steering angle: -21.088431043562395 degrees and actual degrees-0.24644049038159932\n",
      "Predicted steering angle: -21.472270599444187 degrees and actual degrees-0.244695161129605\n",
      "Predicted steering angle: -22.61022109630333 degrees and actual degrees-0.244695161129605\n",
      "Predicted steering angle: -30.91869542913862 degrees and actual degrees-0.244695161129605\n",
      "Predicted steering angle: -36.2938152493177 degrees and actual degrees-0.24120450262561632\n"
     ]
    },
    {
     "name": "stdout",
     "output_type": "stream",
     "text": [
      "Predicted steering angle: -40.253590099875915 degrees and actual degrees-0.2357939819444339\n",
      "Predicted steering angle: -45.39493986552215 degrees and actual degrees-0.23230332344044527\n",
      "Predicted steering angle: -44.795590765853525 degrees and actual degrees-0.22706733568446225\n",
      "Predicted steering angle: -45.7312754557265 degrees and actual degrees-0.22008601867648495\n",
      "Predicted steering angle: -49.05242420379393 degrees and actual degrees-0.2111848394913139\n",
      "Predicted steering angle: -48.58984622716024 degrees and actual degrees-0.2059488517353309\n",
      "Predicted steering angle: -53.2979468484688 degrees and actual degrees-0.2059488517353309\n",
      "Predicted steering angle: -52.42549263483722 degrees and actual degrees-0.2059488517353309\n",
      "Predicted steering angle: -56.06010608467322 degrees and actual degrees-0.2059488517353309\n",
      "Predicted steering angle: -60.8063328219288 degrees and actual degrees-0.20071286397934787\n",
      "Predicted steering angle: -62.862356365886036 degrees and actual degrees-0.1970476725501598\n",
      "Predicted steering angle: -61.947042715212625 degrees and actual degrees-0.1970476725501598\n",
      "Predicted steering angle: -59.01185088166969 degrees and actual degrees-0.19879300180215415\n",
      "Predicted steering angle: -53.42926748054605 degrees and actual degrees-0.1970476725501598\n",
      "Predicted steering angle: -43.22531320019467 degrees and actual degrees-0.1795943800302165\n",
      "Predicted steering angle: -42.588568814820235 degrees and actual degrees-0.17418385934903408\n",
      "Predicted steering angle: -42.21446910869488 degrees and actual degrees-0.17418385934903408\n",
      "Predicted steering angle: -42.98734599441684 degrees and actual degrees-0.17243853009703977\n",
      "Predicted steering angle: -45.77498525132 degrees and actual degrees-0.16545721308906244\n",
      "Predicted steering angle: -44.697748305993095 degrees and actual degrees-0.15655603390389136\n",
      "Predicted steering angle: -45.91558128029012 degrees and actual degrees-0.1530653753999027\n",
      "Predicted steering angle: -42.08298796717213 degrees and actual degrees-0.1530653753999027\n",
      "Predicted steering angle: -41.904928350604486 degrees and actual degrees-0.14957471689591406\n",
      "Predicted steering angle: -39.34737767627155 degrees and actual degrees-0.1408480706359424\n",
      "Predicted steering angle: -32.87935587190414 degrees and actual degrees-0.130201562198777\n",
      "Predicted steering angle: -31.735326506683684 degrees and actual degrees-0.12147491593880534\n",
      "Predicted steering angle: -26.815872511698245 degrees and actual degrees-0.11798425743481668\n",
      "Predicted steering angle: -24.765142364347767 degrees and actual degrees-0.11623892818282235\n",
      "Predicted steering angle: -19.3461727296972 degrees and actual degrees-0.11257373675363426\n",
      "Predicted steering angle: -22.72375933087645 degrees and actual degrees-0.1090830782496456\n",
      "Predicted steering angle: -20.432526270018776 degrees and actual degrees-0.1038470904936626\n",
      "Predicted steering angle: -10.471619148640425 degrees and actual degrees-0.09512044423369097\n",
      "Predicted steering angle: -16.70258386993691 degrees and actual degrees-0.0879645943005142\n",
      "Predicted steering angle: -24.244335317492418 degrees and actual degrees-0.08447393579652554\n",
      "Predicted steering angle: -37.91990570577932 degrees and actual degrees-0.07923794804054256\n",
      "Predicted steering angle: -36.819948136178375 degrees and actual degrees-0.07208209810736581\n",
      "Predicted steering angle: -34.354437676005944 degrees and actual degrees-0.0439822971502571\n",
      "Predicted steering angle: -23.118802104544358 degrees and actual degrees-0.03874630939427412\n",
      "Predicted steering angle: -20.295686845092156 degrees and actual degrees-0.03874630939427412\n",
      "Predicted steering angle: -17.928915307108724 degrees and actual degrees-0.03874630939427412\n",
      "Predicted steering angle: -24.92443262107622 degrees and actual degrees-0.03874630939427412\n",
      "Predicted steering angle: -38.10185853017388 degrees and actual degrees-0.03874630939427412\n",
      "Predicted steering angle: -41.98009116732589 degrees and actual degrees-0.03874630939427412\n",
      "Predicted steering angle: -48.40087538339349 degrees and actual degrees-0.03874630939427412\n",
      "Predicted steering angle: -52.31004877748567 degrees and actual degrees-0.03874630939427412\n",
      "Predicted steering angle: -48.13933719478995 degrees and actual degrees-0.03874630939427412\n",
      "Predicted steering angle: -43.42262712003259 degrees and actual degrees-0.0317649923862968\n",
      "Predicted steering angle: -40.84223970820971 degrees and actual degrees-0.02809980095710871\n",
      "Predicted steering angle: -34.87573820402883 degrees and actual degrees-0.02809980095710871\n",
      "Predicted steering angle: -33.13366089017664 degrees and actual degrees-0.02809980095710871\n",
      "Predicted steering angle: -25.305046620122475 degrees and actual degrees-0.02809980095710871\n",
      "Predicted steering angle: -17.306504073707558 degrees and actual degrees-0.026354471705114374\n",
      "Predicted steering angle: -11.820198165350776 degrees and actual degrees-0.024609142453120045\n",
      "Predicted steering angle: 6.96538550755716 degrees and actual degrees-0.022863813201125717\n",
      "Predicted steering angle: 13.676124487383321 degrees and actual degrees-0.021118483949131385\n",
      "Predicted steering angle: 26.15961256831779 degrees and actual degrees-0.0158824961931484\n",
      "Predicted steering angle: 34.321574220814426 degrees and actual degrees-0.008726646259971648\n",
      "Predicted steering angle: 34.93462809505268 degrees and actual degrees-0.0017453292519943296\n",
      "Predicted steering angle: 22.88578678591479 degrees and actual degrees0.014137166941154071\n",
      "Predicted steering angle: 10.15812456479424 degrees and actual degrees0.026354471705114374\n",
      "Predicted steering angle: 17.10692936125437 degrees and actual degrees0.04223696789826277\n",
      "Predicted steering angle: 18.377037188364092 degrees and actual degrees0.05462880558742251\n",
      "Predicted steering angle: 17.327863782789482 degrees and actual degrees0.0651007810993885\n",
      "Predicted steering angle: 16.407388216650837 degrees and actual degrees0.07749261878854824\n",
      "Predicted steering angle: 19.1842972463679 degrees and actual degrees0.07749261878854824\n",
      "Predicted steering angle: 18.291103163321576 degrees and actual degrees0.07923794804054256\n",
      "Predicted steering angle: 14.264821053267658 degrees and actual degrees0.07749261878854824\n",
      "Predicted steering angle: 14.541086837269042 degrees and actual degrees0.07749261878854824\n",
      "Predicted steering angle: 8.003449183559923 degrees and actual degrees0.07749261878854824\n",
      "Predicted steering angle: -1.0117620048912184 degrees and actual degrees0.07749261878854824\n",
      "Predicted steering angle: -0.8586658226054684 degrees and actual degrees0.07749261878854824\n",
      "Predicted steering angle: -2.646104930695796 degrees and actual degrees0.07923794804054256\n",
      "Predicted steering angle: -8.13438561749636 degrees and actual degrees0.0\n",
      "Predicted steering angle: -8.868229679658992 degrees and actual degrees0.07923794804054256\n",
      "Predicted steering angle: -10.143474662798209 degrees and actual degrees0.07923794804054256\n",
      "Predicted steering angle: -11.21152329614415 degrees and actual degrees0.08272860654453122\n",
      "Predicted steering angle: -6.855839091667088 degrees and actual degrees0.08621926504851989\n",
      "Predicted steering angle: -4.042809033411234 degrees and actual degrees0.09145525280450287\n",
      "Predicted steering angle: -5.720206163370693 degrees and actual degrees0.10733774899765128\n",
      "Predicted steering angle: -4.689319308638321 degrees and actual degrees0.12845623294678266\n",
      "Predicted steering angle: -6.437003354025443 degrees and actual degrees0.1530653753999027\n",
      "Predicted steering angle: -5.961315256166729 degrees and actual degrees0.16022122533307945\n",
      "Predicted steering angle: -4.6149517820684 degrees and actual degrees0.16545721308906244\n",
      "Predicted steering angle: -0.83983216293854 degrees and actual degrees0.1706932008450454\n",
      "Predicted steering angle: -0.8664861757617215 degrees and actual degrees0.18832102629018815\n",
      "Predicted steering angle: 0.10005210609821112 degrees and actual degrees0.2059488517353309\n",
      "Predicted steering angle: 1.2134763808236182 degrees and actual degrees0.23055799418845094\n",
      "Predicted steering angle: 4.312583149493343 degrees and actual degrees0.23753931119642827\n",
      "Predicted steering angle: 4.038766415196233 degrees and actual degrees0.23753931119642827\n",
      "Predicted steering angle: 3.209184018324355 degrees and actual degrees0.24294983187761068\n",
      "Predicted steering angle: 2.735431211878281 degrees and actual degrees0.244695161129605\n",
      "Predicted steering angle: 2.3681738611973993 degrees and actual degrees0.244695161129605\n"
     ]
    },
    {
     "name": "stdout",
     "output_type": "stream",
     "text": [
      "Predicted steering angle: 2.6779863327507116 degrees and actual degrees0.2392846404484226\n",
      "Predicted steering angle: 2.3388757647526295 degrees and actual degrees0.23753931119642827\n",
      "Predicted steering angle: 1.802423956159954 degrees and actual degrees0.23753931119642827\n",
      "Predicted steering angle: 1.4051859170041245 degrees and actual degrees0.23230332344044527\n",
      "Predicted steering angle: 1.4838281814991225 degrees and actual degrees0.22008601867648495\n",
      "Predicted steering angle: 1.505571555113329 degrees and actual degrees0.1865756970381938\n",
      "Predicted steering angle: 1.230720367322079 degrees and actual degrees0.14433872913993104\n",
      "Predicted steering angle: 1.2271440162396368 degrees and actual degrees0.11623892818282235\n",
      "Predicted steering angle: 1.2022338894497773 degrees and actual degrees0.11431906600562858\n",
      "Predicted steering angle: 1.1816355330168997 degrees and actual degrees0.11431906600562858\n",
      "Predicted steering angle: 1.3937287015582513 degrees and actual degrees0.11431906600562858\n",
      "Predicted steering angle: 1.48178819609311 degrees and actual degrees0.11082840750163991\n",
      "Predicted steering angle: 1.7736986351101134 degrees and actual degrees0.10559241974565695\n",
      "Predicted steering angle: 1.1864875286485475 degrees and actual degrees0.1038470904936626\n",
      "Predicted steering angle: 1.0720898641787675 degrees and actual degrees0.10210176124166827\n",
      "Predicted steering angle: 1.352835398502033 degrees and actual degrees0.08970992355250852\n",
      "Predicted steering angle: 1.7151520678137622 degrees and actual degrees0.06684611035138281\n",
      "Predicted steering angle: 3.0614096739799557 degrees and actual degrees0.035255650890285456\n",
      "Predicted steering angle: 4.112146979431088 degrees and actual degrees0.02809980095710871\n",
      "Predicted steering angle: 3.9383084197705087 degrees and actual degrees0.024609142453120045\n",
      "Predicted steering angle: 3.637557688255099 degrees and actual degrees0.0158824961931484\n",
      "Predicted steering angle: 3.4951934940635843 degrees and actual degrees0.0017453292519943296\n",
      "Predicted steering angle: 3.0100434497702864 degrees and actual degrees-0.008726646259971648\n",
      "Predicted steering angle: 5.737729440573184 degrees and actual degrees-0.0158824961931484\n",
      "Predicted steering angle: 6.4591903697705835 degrees and actual degrees-0.021118483949131385\n",
      "Predicted steering angle: 7.208547499085608 degrees and actual degrees-0.02809980095710871\n",
      "Predicted steering angle: 6.785661459266145 degrees and actual degrees-0.03874630939427412\n",
      "Predicted steering angle: 8.152864694295829 degrees and actual degrees-0.05811946409141117\n",
      "Predicted steering angle: 9.61353138415432 degrees and actual degrees-0.07033676885537149\n",
      "Predicted steering angle: 8.726493862871118 degrees and actual degrees-0.0932005820564972\n",
      "Predicted steering angle: 10.112139462433483 degrees and actual degrees-0.11798425743481668\n",
      "Predicted steering angle: 11.922098611351842 degrees and actual degrees-0.1478293876439197\n",
      "Predicted steering angle: 11.949749778432992 degrees and actual degrees-0.16371188383706814\n",
      "Predicted steering angle: 11.937105390732006 degrees and actual degrees-0.1759291886010284\n",
      "Predicted steering angle: 10.622101022660498 degrees and actual degrees-0.20071286397934787\n",
      "Predicted steering angle: 12.190164753254624 degrees and actual degrees-0.23753931119642827\n",
      "Predicted steering angle: 12.611962231675117 degrees and actual degrees-0.25865779514555964\n",
      "Predicted steering angle: 12.070292371999962 degrees and actual degrees-0.27977627909469105\n",
      "Predicted steering angle: 11.923194002939983 degrees and actual degrees-0.30805061297699915\n",
      "Predicted steering angle: 11.808963357939751 degrees and actual degrees-0.3291690969261305\n",
      "Predicted steering angle: 13.72769412316421 degrees and actual degrees-0.33789574318610216\n",
      "Predicted steering angle: 14.80288798815563 degrees and actual degrees-0.3413864016900908\n",
      "Predicted steering angle: 14.71449509501191 degrees and actual degrees-0.34487706019407954\n",
      "Predicted steering angle: 14.670327676744023 degrees and actual degrees-0.35028758087526196\n",
      "Predicted steering angle: 14.296835003681155 degrees and actual degrees-0.35377823937925057\n",
      "Predicted steering angle: 15.071377601786955 degrees and actual degrees-0.35377823937925057\n",
      "Predicted steering angle: 15.669036229635994 degrees and actual degrees-0.35552356863124496\n",
      "Predicted steering angle: 15.351845659675186 degrees and actual degrees-0.3572688978832392\n",
      "Predicted steering angle: 16.572489256815675 degrees and actual degrees-0.3572688978832392\n",
      "Predicted steering angle: 16.879292816596188 degrees and actual degrees-0.35552356863124496\n",
      "Predicted steering angle: 19.536676950932613 degrees and actual degrees-0.35377823937925057\n",
      "Predicted steering angle: 19.198126671889884 degrees and actual degrees-0.35377823937925057\n",
      "Predicted steering angle: 18.177353192884183 degrees and actual degrees-0.35377823937925057\n",
      "Predicted steering angle: 19.67224596067361 degrees and actual degrees-0.35028758087526196\n",
      "Predicted steering angle: 20.794949767757995 degrees and actual degrees0.0\n",
      "Predicted steering angle: 22.914763863468565 degrees and actual degrees-0.3413864016900908\n",
      "Predicted steering angle: 24.33558152216191 degrees and actual degrees-0.33440508468211355\n",
      "Predicted steering angle: 27.583261340422105 degrees and actual degrees-0.32375857624494814\n",
      "Predicted steering angle: 28.72385853558463 degrees and actual degrees-0.31677725923697075\n",
      "Predicted steering angle: 29.700701945396098 degrees and actual degrees-0.3063052837250048\n",
      "Predicted steering angle: 29.936227358545647 degrees and actual degrees-0.2834414705238791\n",
      "Predicted steering angle: 30.475416152004794 degrees and actual degrees-0.260403124397554\n",
      "Predicted steering angle: 31.198169694502617 degrees and actual degrees-0.24294983187761068\n",
      "Predicted steering angle: 30.924702580513646 degrees and actual degrees-0.23055799418845094\n",
      "Predicted steering angle: 30.434540884916853 degrees and actual degrees-0.22008601867648495\n",
      "Predicted steering angle: 29.99534264581211 degrees and actual degrees-0.2059488517353309\n",
      "Predicted steering angle: 22.71700427378731 degrees and actual degrees-0.19006635554218249\n",
      "Predicted steering angle: 21.345669628083414 degrees and actual degrees-0.1706932008450454\n",
      "Predicted steering angle: 20.939336551717478 degrees and actual degrees-0.13543754995475998\n",
      "Predicted steering angle: 18.511740471627792 degrees and actual degrees-0.10210176124166827\n",
      "Predicted steering angle: 14.449756962782216 degrees and actual degrees-0.0879645943005142\n",
      "Predicted steering angle: 14.05825137333073 degrees and actual degrees-0.08621926504851989\n",
      "Predicted steering angle: 10.492584414297777 degrees and actual degrees-0.08621926504851989\n",
      "Predicted steering angle: 9.75902636630664 degrees and actual degrees-0.08621926504851989\n",
      "Predicted steering angle: 9.721275056990333 degrees and actual degrees-0.08621926504851989\n",
      "Predicted steering angle: 10.601760719312201 degrees and actual degrees-0.08447393579652554\n",
      "Predicted steering angle: 11.764408326436465 degrees and actual degrees-0.0757472895365539\n",
      "Predicted steering angle: 16.11163078030553 degrees and actual degrees-0.06161012259539983\n",
      "Predicted steering angle: 17.0003493818982 degrees and actual degrees-0.05096361415823442\n",
      "Predicted steering angle: 19.94024038559011 degrees and actual degrees-0.04747295565424577\n",
      "Predicted steering angle: 20.926961956488707 degrees and actual degrees-0.045727626402251434\n",
      "Predicted steering angle: 22.31526108454362 degrees and actual degrees-0.045727626402251434\n",
      "Predicted steering angle: 22.478794596293945 degrees and actual degrees-0.052883476335428184\n",
      "Predicted steering angle: 25.051996649109963 degrees and actual degrees-0.05462880558742251\n",
      "Predicted steering angle: 26.411731926055886 degrees and actual degrees-0.05986479334340551\n",
      "Predicted steering angle: 23.2825353993279 degrees and actual degrees-0.07033676885537149\n",
      "Predicted steering angle: 23.063035317518494 degrees and actual degrees-0.08098327729253689\n",
      "Predicted steering angle: 17.739425368965062 degrees and actual degrees-0.08447393579652554\n",
      "Predicted steering angle: 26.78252582062295 degrees and actual degrees-0.08621926504851989\n",
      "Predicted steering angle: 18.7941961145645 degrees and actual degrees0.0\n",
      "Predicted steering angle: 23.88846026361995 degrees and actual degrees-0.08621926504851989\n",
      "Predicted steering angle: 20.557455552580187 degrees and actual degrees-0.08621926504851989\n",
      "Predicted steering angle: 20.79617578671401 degrees and actual degrees-0.08621926504851989\n",
      "Predicted steering angle: 20.888009387652126 degrees and actual degrees-0.08098327729253689\n",
      "Predicted steering angle: 21.014453264661984 degrees and actual degrees-0.07033676885537149\n",
      "Predicted steering angle: 18.43554288124713 degrees and actual degrees-0.06859143960337716\n",
      "Predicted steering angle: 15.907520822243452 degrees and actual degrees-0.06859143960337716\n",
      "Predicted steering angle: 15.169392523923928 degrees and actual degrees-0.0651007810993885\n"
     ]
    },
    {
     "name": "stdout",
     "output_type": "stream",
     "text": [
      "Predicted steering angle: 15.119994888299104 degrees and actual degrees-0.06335545184739416\n",
      "Predicted steering angle: 14.426126215801265 degrees and actual degrees-0.06335545184739416\n",
      "Predicted steering angle: 14.961906744864574 degrees and actual degrees-0.06335545184739416\n",
      "Predicted steering angle: 16.627419345668212 degrees and actual degrees-0.06335545184739416\n",
      "Predicted steering angle: 17.463178367983897 degrees and actual degrees-0.06335545184739416\n",
      "Predicted steering angle: 18.291789597333164 degrees and actual degrees-0.06859143960337716\n",
      "Predicted steering angle: 17.46988561374885 degrees and actual degrees-0.06859143960337716\n",
      "Predicted steering angle: 22.799833977852053 degrees and actual degrees-0.06859143960337716\n",
      "Predicted steering angle: 20.681636929427484 degrees and actual degrees-0.07033676885537149\n",
      "Predicted steering angle: 22.562017036235964 degrees and actual degrees-0.07923794804054256\n",
      "Predicted steering angle: 22.906461768532417 degrees and actual degrees-0.08272860654453122\n",
      "Predicted steering angle: 26.134839472198152 degrees and actual degrees-0.07749261878854824\n",
      "Predicted steering angle: 27.983452369176906 degrees and actual degrees-0.05811946409141117\n",
      "Predicted steering angle: 28.49113862263666 degrees and actual degrees-0.04747295565424577\n",
      "Predicted steering angle: 28.403486805017888 degrees and actual degrees-0.045727626402251434\n",
      "Predicted steering angle: 28.235517085401643 degrees and actual degrees-0.045727626402251434\n",
      "Predicted steering angle: 26.712174872171822 degrees and actual degrees-0.0439822971502571\n",
      "Predicted steering angle: 20.13200819182197 degrees and actual degrees-0.0439822971502571\n",
      "Predicted steering angle: 21.212907826091293 degrees and actual degrees-0.0439822971502571\n",
      "Predicted steering angle: 21.626865101118256 degrees and actual degrees-0.0439822971502571\n",
      "Predicted steering angle: 18.35879375309099 degrees and actual degrees-0.045727626402251434\n",
      "Predicted steering angle: 17.436190583025883 degrees and actual degrees-0.04223696789826277\n",
      "Predicted steering angle: 16.166588189914744 degrees and actual degrees-0.04223696789826277\n",
      "Predicted steering angle: 14.254154859105038 degrees and actual degrees-0.040491638646268445\n",
      "Predicted steering angle: 12.116085375290313 degrees and actual degrees-0.04747295565424577\n",
      "Predicted steering angle: 8.845521008215993 degrees and actual degrees-0.03874630939427412\n",
      "Predicted steering angle: 6.762040103795303 degrees and actual degrees-0.02809980095710871\n",
      "Predicted steering angle: 4.863387960296566 degrees and actual degrees-0.021118483949131385\n",
      "Predicted steering angle: 4.171692568615259 degrees and actual degrees-0.014137166941154071\n",
      "Predicted steering angle: 3.206433586522955 degrees and actual degrees0.0\n",
      "Predicted steering angle: 1.6585230761268923 degrees and actual degrees0.008726646259971648\n",
      "Predicted steering angle: 0.24438422186390912 degrees and actual degrees0.01937315469713706\n",
      "Predicted steering angle: -1.1138885941868357 degrees and actual degrees0.026354471705114374\n",
      "Predicted steering angle: -0.8145537929028815 degrees and actual degrees0.029845130209103034\n",
      "Predicted steering angle: -0.41404500026911517 degrees and actual degrees0.0317649923862968\n",
      "Predicted steering angle: -0.14667887271497917 degrees and actual degrees0.0317649923862968\n",
      "Predicted steering angle: 0.24040118104116032 degrees and actual degrees0.0317649923862968\n",
      "Predicted steering angle: 0.13558906008147179 degrees and actual degrees0.0317649923862968\n",
      "Predicted steering angle: 0.05113089951336793 degrees and actual degrees0.0317649923862968\n",
      "Predicted steering angle: -0.14629947705092614 degrees and actual degrees0.0317649923862968\n",
      "Predicted steering angle: 0.06064060057623511 degrees and actual degrees0.029845130209103034\n",
      "Predicted steering angle: -0.0010057453552843776 degrees and actual degrees0.029845130209103034\n",
      "Predicted steering angle: 0.11614257769951988 degrees and actual degrees0.02809980095710871\n",
      "Predicted steering angle: 0.0004950286322672522 degrees and actual degrees0.02809980095710871\n",
      "Predicted steering angle: -0.006798386101689879 degrees and actual degrees0.0\n",
      "Predicted steering angle: 0.15901923695662037 degrees and actual degrees0.026354471705114374\n",
      "Predicted steering angle: -0.04711853690195567 degrees and actual degrees0.026354471705114374\n",
      "Predicted steering angle: 0.1080148727007229 degrees and actual degrees0.026354471705114374\n",
      "Predicted steering angle: 0.10752133817233658 degrees and actual degrees0.024609142453120045\n",
      "Predicted steering angle: 0.044580107769091014 degrees and actual degrees0.022863813201125717\n",
      "Predicted steering angle: 0.12291053477484883 degrees and actual degrees0.022863813201125717\n",
      "Predicted steering angle: 0.21843579959850176 degrees and actual degrees0.024609142453120045\n",
      "Predicted steering angle: 0.2699635204294449 degrees and actual degrees0.024609142453120045\n",
      "Predicted steering angle: 0.4612381389784654 degrees and actual degrees0.024609142453120045\n",
      "Predicted steering angle: 0.6070602765198575 degrees and actual degrees0.026354471705114374\n",
      "Predicted steering angle: 0.9284378591635882 degrees and actual degrees0.03874630939427412\n",
      "Predicted steering angle: 1.2634806226241047 degrees and actual degrees0.040491638646268445\n",
      "Predicted steering angle: 1.673259102539489 degrees and actual degrees0.04223696789826277\n",
      "Predicted steering angle: 2.1321135588584728 degrees and actual degrees0.045727626402251434\n",
      "Predicted steering angle: 3.545251737047196 degrees and actual degrees0.05096361415823442\n",
      "Predicted steering angle: 4.511033868941241 degrees and actual degrees0.05986479334340551\n",
      "Predicted steering angle: 5.597842470616269 degrees and actual degrees0.07208209810736581\n",
      "Predicted steering angle: 5.478821301686919 degrees and actual degrees0.07923794804054256\n",
      "Predicted steering angle: 7.305145156969806 degrees and actual degrees0.07923794804054256\n",
      "Predicted steering angle: 8.057776508218204 degrees and actual degrees0.07923794804054256\n",
      "Predicted steering angle: 7.801358400171232 degrees and actual degrees0.08098327729253689\n",
      "Predicted steering angle: 7.9654118600721215 degrees and actual degrees0.08098327729253689\n",
      "Predicted steering angle: 7.0751620154448975 degrees and actual degrees0.08098327729253689\n",
      "Predicted steering angle: 5.7122285024201185 degrees and actual degrees0.08098327729253689\n",
      "Predicted steering angle: 5.936712487889519 degrees and actual degrees0.08098327729253689\n",
      "Predicted steering angle: 5.665132640545588 degrees and actual degrees0.08098327729253689\n",
      "Predicted steering angle: 5.162393151592214 degrees and actual degrees0.08098327729253689\n",
      "Predicted steering angle: 5.130083795497115 degrees and actual degrees0.08098327729253689\n",
      "Predicted steering angle: 5.107109600450131 degrees and actual degrees0.07923794804054256\n",
      "Predicted steering angle: 5.272125263250347 degrees and actual degrees0.07749261878854824\n",
      "Predicted steering angle: 5.1914726819835435 degrees and actual degrees0.07749261878854824\n",
      "Predicted steering angle: 5.5279538405945825 degrees and actual degrees0.07749261878854824\n",
      "Predicted steering angle: 4.850740584387818 degrees and actual degrees0.07400196028455958\n",
      "Predicted steering angle: 4.948279954603832 degrees and actual degrees0.07208209810736581\n",
      "Predicted steering angle: 5.344221751921239 degrees and actual degrees0.07208209810736581\n",
      "Predicted steering angle: 4.996696604309113 degrees and actual degrees0.07208209810736581\n",
      "Predicted steering angle: 5.208658718595765 degrees and actual degrees0.07033676885537149\n",
      "Predicted steering angle: 4.888905973922557 degrees and actual degrees0.07208209810736581\n",
      "Predicted steering angle: 4.575190689588817 degrees and actual degrees0.07400196028455958\n",
      "Predicted steering angle: 5.483200733605367 degrees and actual degrees0.07400196028455958\n",
      "Predicted steering angle: 4.605209797877846 degrees and actual degrees0.07400196028455958\n",
      "Predicted steering angle: 5.367521661614268 degrees and actual degrees0.07400196028455958\n",
      "Predicted steering angle: 5.525802757892851 degrees and actual degrees0.0757472895365539\n",
      "Predicted steering angle: 8.097141449725926 degrees and actual degrees0.0757472895365539\n",
      "Predicted steering angle: 8.254699399726134 degrees and actual degrees0.0757472895365539\n",
      "Predicted steering angle: 7.212521815408908 degrees and actual degrees0.0757472895365539\n"
     ]
    },
    {
     "name": "stdout",
     "output_type": "stream",
     "text": [
      "Predicted steering angle: 7.093810566313148 degrees and actual degrees0.07749261878854824\n",
      "Predicted steering angle: 7.113107558265726 degrees and actual degrees0.07923794804054256\n",
      "Predicted steering angle: 7.881159769112722 degrees and actual degrees0.08621926504851989\n",
      "Predicted steering angle: 12.56252617623621 degrees and actual degrees0.09145525280450287\n",
      "Predicted steering angle: 16.931284216558325 degrees and actual degrees0.10733774899765128\n",
      "Predicted steering angle: 15.648499558349059 degrees and actual degrees0.11798425743481668\n",
      "Predicted steering angle: 15.697782788305286 degrees and actual degrees0.12322024519079966\n",
      "Predicted steering angle: 15.003313059160485 degrees and actual degrees0.12322024519079966\n",
      "Predicted steering angle: 13.19310887720565 degrees and actual degrees0.12496557444279399\n",
      "Predicted steering angle: 10.425968725548998 degrees and actual degrees0.12671090369478832\n",
      "Predicted steering angle: 8.226232025039167 degrees and actual degrees0.12671090369478832\n",
      "Predicted steering angle: 6.395620091617983 degrees and actual degrees0.12845623294678266\n",
      "Predicted steering angle: 4.272950976834345 degrees and actual degrees0.13543754995475998\n",
      "Predicted steering angle: 2.3269368075268586 degrees and actual degrees0.14433872913993104\n",
      "Predicted steering angle: 1.793175666580345 degrees and actual degrees0.15847589608108512\n",
      "Predicted steering angle: 1.6893355535767007 degrees and actual degrees0.17767451785302274\n",
      "Predicted steering angle: 1.5410642062484772 degrees and actual degrees0.18483036778619952\n",
      "Predicted steering angle: 1.7745271157120948 degrees and actual degrees0.18832102629018815\n",
      "Predicted steering angle: 1.9553954341324982 degrees and actual degrees0.19355701404617112\n",
      "Predicted steering angle: 1.9570912420373654 degrees and actual degrees0.2076941809873252\n",
      "Predicted steering angle: 1.8474487766120895 degrees and actual degrees0.20943951023931953\n",
      "Predicted steering angle: 1.3496303322340044 degrees and actual degrees0.2059488517353309\n",
      "Predicted steering angle: 1.4482739519397385 degrees and actual degrees0.20245819323134223\n",
      "Predicted steering angle: 1.2303619958340648 degrees and actual degrees0.20245819323134223\n",
      "Predicted steering angle: 1.179229492160057 degrees and actual degrees0.20245819323134223\n",
      "Predicted steering angle: 0.6903332491895654 degrees and actual degrees0.19879300180215415\n",
      "Predicted steering angle: 0.5991763705878116 degrees and actual degrees0.19530234329816545\n",
      "Predicted steering angle: 0.2189654594242951 degrees and actual degrees0.19355701404617112\n",
      "Predicted steering angle: 0.16221971419130027 degrees and actual degrees0.19006635554218249\n",
      "Predicted steering angle: 0.0648317220448313 degrees and actual degrees0.18308503853420516\n",
      "Predicted steering angle: 0.25637963487203824 degrees and actual degrees0.15707963267948966\n",
      "Predicted steering angle: 0.6144585453297449 degrees and actual degrees0.1706932008450454\n",
      "Predicted steering angle: 0.6920465060933279 degrees and actual degrees0.16894787159305108\n",
      "Predicted steering angle: 0.8968272100762403 degrees and actual degrees0.16894787159305108\n",
      "Predicted steering angle: 0.870260122082418 degrees and actual degrees0.16894787159305108\n",
      "Predicted steering angle: 1.0835669298619162 degrees and actual degrees0.16894787159305108\n",
      "Predicted steering angle: 1.2016327260811104 degrees and actual degrees0.16545721308906244\n",
      "Predicted steering angle: 1.576075115603728 degrees and actual degrees0.16196655458507378\n",
      "Predicted steering angle: 1.8727475838544052 degrees and actual degrees0.15847589608108512\n",
      "Predicted steering angle: 2.402310506338888 degrees and actual degrees0.15847589608108512\n",
      "Predicted steering angle: 3.4931365399063528 degrees and actual degrees0.15847589608108512\n",
      "Predicted steering angle: 3.8558304704480197 degrees and actual degrees0.15847589608108512\n",
      "Predicted steering angle: 4.295048773233451 degrees and actual degrees0.15847589608108512\n",
      "Predicted steering angle: 4.759551582552624 degrees and actual degrees0.15847589608108512\n",
      "Predicted steering angle: 5.504892560635681 degrees and actual degrees0.16022122533307945\n",
      "Predicted steering angle: 6.443223095038386 degrees and actual degrees0.16196655458507378\n",
      "Predicted steering angle: 8.666050103811092 degrees and actual degrees0.16196655458507378\n",
      "Predicted steering angle: 9.713452782843376 degrees and actual degrees0.16371188383706814\n",
      "Predicted steering angle: 8.444488158645987 degrees and actual degrees0.16545721308906244\n",
      "Predicted steering angle: 3.684462304832869 degrees and actual degrees0.16894787159305108\n",
      "Predicted steering angle: 3.4180023246020967 degrees and actual degrees0.17418385934903408\n",
      "Predicted steering angle: 3.2693202054283206 degrees and actual degrees0.1795943800302165\n",
      "Predicted steering angle: 3.110374232922719 degrees and actual degrees0.18308503853420516\n",
      "Predicted steering angle: 2.8546875954471727 degrees and actual degrees0.1865756970381938\n",
      "Predicted steering angle: 3.1356903290813714 degrees and actual degrees0.19530234329816545\n",
      "Predicted steering angle: 2.460070427941924 degrees and actual degrees0.2076941809873252\n",
      "Predicted steering angle: 1.2266369814154692 degrees and actual degrees0.2111848394913139\n",
      "Predicted steering angle: 0.6449862892685285 degrees and actual degrees0.2235766771804736\n",
      "Predicted steering angle: -0.004568969667915404 degrees and actual degrees0.24120450262561632\n",
      "Predicted steering angle: -0.13594588410475206 degrees and actual degrees0.24644049038159932\n",
      "Predicted steering angle: -0.2985880961890279 degrees and actual degrees0.24644049038159932\n",
      "Predicted steering angle: -0.07532203216621802 degrees and actual degrees0.24993114888558798\n",
      "Predicted steering angle: -0.18075707438233965 degrees and actual degrees0.255167136641571\n",
      "Predicted steering angle: -0.30161032149462624 degrees and actual degrees0.25865779514555964\n",
      "Predicted steering angle: -0.3997215332906431 degrees and actual degrees0.25865779514555964\n",
      "Predicted steering angle: -0.47719415457070274 degrees and actual degrees0.25865779514555964\n",
      "Predicted steering angle: -0.5156036700074166 degrees and actual degrees0.25865779514555964\n",
      "Predicted steering angle: -0.5369514796191442 degrees and actual degrees0.26232298657474773\n",
      "Predicted steering angle: -0.6746777619208086 degrees and actual degrees0.26232298657474773\n",
      "Predicted steering angle: -0.752698639283894 degrees and actual degrees0.26232298657474773\n",
      "Predicted steering angle: -0.8510969057880364 degrees and actual degrees0.26232298657474773\n",
      "Predicted steering angle: -0.6487419328166835 degrees and actual degrees0.26930430358272506\n",
      "Predicted steering angle: -0.49575828856968 degrees and actual degrees0.2762856205907024\n",
      "Predicted steering angle: -0.4278210916186342 degrees and actual degrees0.27803094984269666\n",
      "Predicted steering angle: -0.37881040221854656 degrees and actual degrees0.27803094984269666\n",
      "Predicted steering angle: -0.3384333920944724 degrees and actual degrees0.27803094984269666\n",
      "Predicted steering angle: -0.33799636670929734 degrees and actual degrees0.2815216083466853\n",
      "Predicted steering angle: -0.31561562438773744 degrees and actual degrees0.2815216083466853\n",
      "Predicted steering angle: -0.07702541731219573 degrees and actual degrees0.2815216083466853\n",
      "Predicted steering angle: 0.25324289717613635 degrees and actual degrees0.2815216083466853\n",
      "Predicted steering angle: 0.5966700646883871 degrees and actual degrees0.0\n",
      "Predicted steering angle: 1.7537029361497836 degrees and actual degrees0.2815216083466853\n",
      "Predicted steering angle: 2.0076489426040345 degrees and actual degrees0.2815216083466853\n",
      "Predicted steering angle: 8.190537456436681 degrees and actual degrees0.2851867997758734\n",
      "Predicted steering angle: 13.010161406513213 degrees and actual degrees0.2851867997758734\n",
      "Predicted steering angle: 23.63279603770262 degrees and actual degrees0.2869321290278678\n",
      "Predicted steering angle: 27.228134192263752 degrees and actual degrees0.2886774582798621\n",
      "Predicted steering angle: 30.399300523894173 degrees and actual degrees0.29391344603584507\n",
      "Predicted steering angle: 11.92052083765357 degrees and actual degrees0.29740410453983374\n",
      "Predicted steering angle: 9.31866784881664 degrees and actual degrees0.31328660073298215\n",
      "Predicted steering angle: 7.722796710564099 degrees and actual degrees0.3220132469929538\n",
      "Predicted steering angle: 6.53531624316496 degrees and actual degrees0.3274237676741363\n",
      "Predicted steering angle: 5.492342514922606 degrees and actual degrees0.3309144261781249\n"
     ]
    },
    {
     "name": "stdout",
     "output_type": "stream",
     "text": [
      "Predicted steering angle: 4.440656453507076 degrees and actual degrees0.33440508468211355\n",
      "Predicted steering angle: 2.8049851626306364 degrees and actual degrees0.3361504139341079\n",
      "Predicted steering angle: 1.6435208857800767 degrees and actual degrees0.3361504139341079\n",
      "Predicted steering angle: 0.6344458666361708 degrees and actual degrees0.33789574318610216\n",
      "Predicted steering angle: 0.07027271477068692 degrees and actual degrees0.33789574318610216\n",
      "Predicted steering angle: -0.36182454884594467 degrees and actual degrees0.33789574318610216\n",
      "Predicted steering angle: -0.48588487659845636 degrees and actual degrees0.3413864016900908\n",
      "Predicted steering angle: -0.7046448967391222 degrees and actual degrees0.3431317309420852\n",
      "Predicted steering angle: -0.8707552040755381 degrees and actual degrees0.34487706019407954\n",
      "Predicted steering angle: -1.2302233643382547 degrees and actual degrees0.34487706019407954\n",
      "Predicted steering angle: -1.3929684161262643 degrees and actual degrees0.3431317309420852\n",
      "Predicted steering angle: -1.8552326309449654 degrees and actual degrees0.33789574318610216\n",
      "Predicted steering angle: -2.220678700835324 degrees and actual degrees0.3326597554301192\n",
      "Predicted steering angle: -4.00451728537685 degrees and actual degrees0.3256784384221419\n",
      "Predicted steering angle: -2.2209373942501385 degrees and actual degrees0.3063052837250048\n",
      "Predicted steering angle: 12.929853749799495 degrees and actual degrees0.2869321290278678\n",
      "Predicted steering angle: 23.05335693946459 degrees and actual degrees0.2727949620867137\n",
      "Predicted steering angle: 37.333930116505584 degrees and actual degrees0.25865779514555964\n",
      "Predicted steering angle: 40.58336529338247 degrees and actual degrees0.2357939819444339\n",
      "Predicted steering angle: 49.157936966092294 degrees and actual degrees0.20420352248333654\n",
      "Predicted steering angle: 50.170010491642685 degrees and actual degrees0.18832102629018815\n",
      "Predicted steering angle: 62.97255463795502 degrees and actual degrees0.18483036778619952\n",
      "Predicted steering angle: 69.85591683065633 degrees and actual degrees0.18483036778619952\n",
      "Predicted steering angle: 78.81147645526946 degrees and actual degrees0.18483036778619952\n",
      "Predicted steering angle: 78.08634942203504 degrees and actual degrees0.18832102629018815\n",
      "Predicted steering angle: 88.6103048951907 degrees and actual degrees0.19355701404617112\n",
      "Predicted steering angle: 98.79359785330278 degrees and actual degrees0.19530234329816545\n",
      "Predicted steering angle: 107.83271118203268 degrees and actual degrees0.19530234329816545\n",
      "Predicted steering angle: 115.32376896556835 degrees and actual degrees0.20071286397934787\n",
      "Predicted steering angle: 112.79148316097529 degrees and actual degrees0.2076941809873252\n",
      "Predicted steering angle: 119.10477044479065 degrees and actual degrees0.2076941809873252\n",
      "Predicted steering angle: 119.72124965889766 degrees and actual degrees0.2076941809873252\n",
      "Predicted steering angle: 119.08530440565612 degrees and actual degrees0.2076941809873252\n",
      "Predicted steering angle: 123.8671061832037 degrees and actual degrees0.2076941809873252\n",
      "Predicted steering angle: 117.93061994533043 degrees and actual degrees0.2076941809873252\n",
      "Predicted steering angle: 110.75999365651674 degrees and actual degrees0.21293016874330817\n",
      "Predicted steering angle: 108.20370656718026 degrees and actual degrees0.22008601867648495\n",
      "Predicted steering angle: 92.88116754168631 degrees and actual degrees0.22183134792847928\n",
      "Predicted steering angle: 98.59252391432678 degrees and actual degrees0.2235766771804736\n",
      "Predicted steering angle: 102.40644690534855 degrees and actual degrees0.23055799418845094\n",
      "Predicted steering angle: 92.0994865421242 degrees and actual degrees0.24120450262561632\n",
      "Predicted steering angle: 88.38448518085173 degrees and actual degrees0.25342180738957665\n",
      "Predicted steering angle: 110.72716093717649 degrees and actual degrees0.255167136641571\n",
      "Predicted steering angle: 110.52830680968074 degrees and actual degrees0.255167136641571\n",
      "Predicted steering angle: 84.11628630813242 degrees and actual degrees0.255167136641571\n",
      "Predicted steering angle: 104.24955979249813 degrees and actual degrees0.255167136641571\n",
      "Predicted steering angle: 107.41654092571463 degrees and actual degrees0.255167136641571\n",
      "Predicted steering angle: 106.73044842358685 degrees and actual degrees0.255167136641571\n",
      "Predicted steering angle: 82.03950581928751 degrees and actual degrees0.255167136641571\n",
      "Predicted steering angle: 68.0271131898179 degrees and actual degrees0.2516764781375823\n",
      "Predicted steering angle: 60.65983892461036 degrees and actual degrees0.24644049038159932\n",
      "Predicted steering angle: 69.75216625716382 degrees and actual degrees0.23753931119642827\n",
      "Predicted steering angle: 55.429471303511356 degrees and actual degrees0.23404865269243957\n",
      "Predicted steering angle: 59.26939682470336 degrees and actual degrees0.23404865269243957\n",
      "Predicted steering angle: 27.174462565765793 degrees and actual degrees0.23404865269243957\n",
      "Predicted steering angle: 19.189541124103176 degrees and actual degrees0.22706733568446225\n",
      "Predicted steering angle: -40.29134738560775 degrees and actual degrees0.22706733568446225\n",
      "Predicted steering angle: -47.45827854208047 degrees and actual degrees0.22532200643246797\n",
      "Predicted steering angle: -50.206207079149166 degrees and actual degrees0.21642082724729686\n",
      "Predicted steering angle: -54.711642327405116 degrees and actual degrees0.20420352248333654\n",
      "Predicted steering angle: -51.38913778678743 degrees and actual degrees0.19530234329816545\n",
      "Predicted steering angle: -32.56305322653544 degrees and actual degrees0.1865756970381938\n",
      "Predicted steering angle: -12.615306463047483 degrees and actual degrees0.1706932008450454\n",
      "Predicted steering angle: 18.5393668792732 degrees and actual degrees0.154810704651897\n",
      "Predicted steering angle: 25.536615646195294 degrees and actual degrees0.14608405839192537\n",
      "Predicted steering angle: 20.67970398589237 degrees and actual degrees0.13735741213195374\n",
      "Predicted steering angle: -1.358401148901947 degrees and actual degrees0.13543754995475998\n",
      "Predicted steering angle: -19.6199523248407 degrees and actual degrees0.13543754995475998\n",
      "Predicted steering angle: -25.460508555821132 degrees and actual degrees0.13543754995475998\n",
      "Predicted steering angle: -20.83162617605367 degrees and actual degrees0.11972958668681102\n",
      "Predicted steering angle: -39.68915351214982 degrees and actual degrees0.11431906600562858\n",
      "Predicted steering angle: -56.37467386199275 degrees and actual degrees0.10210176124166827\n",
      "Predicted steering angle: -68.09221172279729 degrees and actual degrees0.11082840750163991\n",
      "Predicted steering angle: -72.83700753542175 degrees and actual degrees0.0\n",
      "Predicted steering angle: -59.030777335859796 degrees and actual degrees0.09686577348568529\n",
      "Predicted steering angle: -38.24065821939229 degrees and actual degrees0.1038470904936626\n",
      "Predicted steering angle: -33.06070422455715 degrees and actual degrees0.1038470904936626\n",
      "Predicted steering angle: -39.44147719246682 degrees and actual degrees0.09512044423369097\n",
      "Predicted steering angle: -27.672229677003397 degrees and actual degrees0.08970992355250852\n",
      "Predicted steering angle: -35.30579423492951 degrees and actual degrees0.08970992355250852\n",
      "Predicted steering angle: -22.58046537718417 degrees and actual degrees0.0879645943005142\n",
      "Predicted steering angle: -9.586049264255129 degrees and actual degrees0.08970992355250852\n",
      "Predicted steering angle: 54.46737427211795 degrees and actual degrees0.08970992355250852\n",
      "Predicted steering angle: 71.634552732041 degrees and actual degrees0.0879645943005142\n",
      "Predicted steering angle: 52.07529859080691 degrees and actual degrees0.0879645943005142\n",
      "Predicted steering angle: -42.3171439273931 degrees and actual degrees0.08621926504851989\n",
      "Predicted steering angle: -61.64804435410615 degrees and actual degrees0.08098327729253689\n",
      "Predicted steering angle: -100.38985404346978 degrees and actual degrees0.0757472895365539\n",
      "Predicted steering angle: -100.59566130354061 degrees and actual degrees0.0757472895365539\n",
      "Predicted steering angle: -101.20587723417871 degrees and actual degrees0.0757472895365539\n",
      "Predicted steering angle: -97.71543200224876 degrees and actual degrees0.0757472895365539\n",
      "Predicted steering angle: -95.13380491109153 degrees and actual degrees0.06684611035138281\n",
      "Predicted steering angle: -98.0089935327759 degrees and actual degrees0.05811946409141117\n",
      "Predicted steering angle: -96.39951409637577 degrees and actual degrees0.05096361415823442\n",
      "Predicted steering angle: -97.17835373724314 degrees and actual degrees0.03874630939427412\n",
      "Predicted steering angle: -95.18960072642136 degrees and actual degrees0.01937315469713706\n"
     ]
    },
    {
     "name": "stdout",
     "output_type": "stream",
     "text": [
      "Predicted steering angle: -97.63665260036183 degrees and actual degrees0.006981317007977318\n",
      "Predicted steering angle: -98.35736050120325 degrees and actual degrees0.0\n",
      "Predicted steering angle: -94.78933798068027 degrees and actual degrees0.0\n",
      "Predicted steering angle: -82.93941739338254 degrees and actual degrees-0.0017453292519943296\n",
      "Predicted steering angle: -73.2785929256414 degrees and actual degrees-0.003490658503988659\n",
      "Predicted steering angle: -52.66314565191323 degrees and actual degrees-0.005235987755982988\n",
      "Predicted steering angle: -50.37472492144631 degrees and actual degrees-0.006981317007977318\n",
      "Predicted steering angle: -43.925373439175125 degrees and actual degrees-0.026354471705114374\n",
      "Predicted steering angle: -32.51719533644797 degrees and actual degrees-0.03874630939427412\n",
      "Predicted steering angle: -16.15299782101371 degrees and actual degrees-0.04223696789826277\n",
      "Predicted steering angle: 12.012732660316972 degrees and actual degrees-0.0439822971502571\n",
      "Predicted steering angle: 31.803484964411243 degrees and actual degrees-0.045727626402251434\n",
      "Predicted steering angle: 37.71107950209535 degrees and actual degrees-0.045727626402251434\n",
      "Predicted steering angle: 49.122471208827 degrees and actual degrees-0.04747295565424577\n",
      "Predicted steering angle: 50.15470403771268 degrees and actual degrees-0.04921828490624009\n",
      "Predicted steering angle: 41.18774482737481 degrees and actual degrees-0.04921828490624009\n",
      "Predicted steering angle: 36.38614916161252 degrees and actual degrees-0.04921828490624009\n",
      "Predicted steering angle: 37.470776371621376 degrees and actual degrees-0.052883476335428184\n",
      "Predicted steering angle: 41.331622762241125 degrees and actual degrees-0.05811946409141117\n",
      "Predicted steering angle: 40.48389383340499 degrees and actual degrees-0.07208209810736581\n",
      "Predicted steering angle: 42.58471317303376 degrees and actual degrees-0.08621926504851989\n",
      "Predicted steering angle: 48.30665975398234 degrees and actual degrees-0.0932005820564972\n",
      "Predicted steering angle: 50.333344220359784 degrees and actual degrees-0.0932005820564972\n",
      "Predicted steering angle: 56.0869658035843 degrees and actual degrees0.0\n",
      "Predicted steering angle: 59.43930461049659 degrees and actual degrees-0.1038470904936626\n",
      "Predicted steering angle: 58.03540020773549 degrees and actual degrees-0.12322024519079966\n",
      "Predicted steering angle: 55.445908153748995 degrees and actual degrees-0.1425933998879367\n",
      "Predicted steering angle: 57.57978560896062 degrees and actual degrees-0.16545721308906244\n",
      "Predicted steering angle: 58.195650106042336 degrees and actual degrees-0.1759291886010284\n",
      "Predicted steering angle: 56.3997372411521 degrees and actual degrees-0.18308503853420516\n",
      "Predicted steering angle: 55.74813719433289 degrees and actual degrees-0.19530234329816545\n",
      "Predicted steering angle: 52.91721161356478 degrees and actual degrees-0.22008601867648495\n",
      "Predicted steering angle: 49.27179621955641 degrees and actual degrees-0.24993114888558798\n",
      "Predicted steering angle: 37.98618927657971 degrees and actual degrees-0.2869321290278678\n",
      "Predicted steering angle: 32.09528772122711 degrees and actual degrees-0.3202679177409595\n",
      "Predicted steering angle: 30.249306154626105 degrees and actual degrees-0.33789574318610216\n",
      "Predicted steering angle: 17.5668128282605 degrees and actual degrees-0.36075955638722795\n",
      "Predicted steering angle: 15.765879774330312 degrees and actual degrees-0.3818780403363593\n",
      "Predicted steering angle: 13.824389111244079 degrees and actual degrees-0.4118977034706618\n",
      "Predicted steering angle: 17.541119364150205 degrees and actual degrees-0.4382521751757761\n",
      "Predicted steering angle: 23.926752011654337 degrees and actual degrees-0.4558800006209189\n",
      "Predicted steering angle: 23.82600672139665 degrees and actual degrees-0.46809730538487915\n",
      "Predicted steering angle: 29.226621930200096 degrees and actual degrees-0.46809730538487915\n",
      "Predicted steering angle: 22.246127617312045 degrees and actual degrees-0.46809730538487915\n",
      "Predicted steering angle: 12.41893340176774 degrees and actual degrees-0.46809730538487915\n",
      "Predicted steering angle: 13.282007204347952 degrees and actual degrees-0.46809730538487915\n",
      "Predicted steering angle: 3.5682799332773056 degrees and actual degrees-0.46809730538487915\n",
      "Predicted steering angle: 2.6235862238890872 degrees and actual degrees-0.47525315531805595\n",
      "Predicted steering angle: 1.2720732140433924 degrees and actual degrees-0.4892157893340106\n",
      "Predicted steering angle: 1.0018204511108533 degrees and actual degrees-0.5157447939643244\n",
      "Predicted steering angle: 1.1895570583502335 degrees and actual degrees-0.5331980864842676\n",
      "Predicted steering angle: -0.4378056275660028 degrees and actual degrees-0.5508259119294104\n",
      "Predicted steering angle: -1.8555664564406498 degrees and actual degrees-0.5719443958785418\n",
      "Predicted steering angle: -2.389240725918657 degrees and actual degrees-0.5984734005088556\n",
      "Predicted steering angle: -3.026585314166411 degrees and actual degrees-0.64943701466709\n",
      "Predicted steering angle: -4.239004509772558 degrees and actual degrees-0.6757914863722043\n",
      "Predicted steering angle: -5.231364401831003 degrees and actual degrees-0.6899286533133585\n",
      "Predicted steering angle: -8.956824063383227 degrees and actual degrees-0.7093018080104956\n",
      "Predicted steering angle: -13.497907776464762 degrees and actual degrees-0.7426375967235872\n",
      "Predicted steering angle: -10.911547364212714 degrees and actual degrees-0.7585200929167357\n",
      "Predicted steering angle: -8.631067582429578 degrees and actual degrees-0.7778932476138727\n",
      "Predicted steering angle: -6.107601686489122 degrees and actual degrees-0.8007570608149984\n",
      "Predicted steering angle: -2.562175779618091 degrees and actual degrees-0.8166395570081467\n",
      "Predicted steering angle: 0.017774019850224355 degrees and actual degrees-0.8201302155121354\n",
      "Predicted steering angle: 3.877692198433938 degrees and actual degrees-0.8201302155121354\n",
      "Predicted steering angle: 14.268318110122705 degrees and actual degrees-0.8290313946973066\n",
      "Predicted steering angle: 33.10839943553135 degrees and actual degrees-0.8464846872172498\n",
      "Predicted steering angle: 41.49408564183905 degrees and actual degrees-0.8765043503515522\n",
      "Predicted steering angle: 44.17457972123221 degrees and actual degrees-0.9222319767538038\n",
      "Predicted steering angle: 56.04576268741619 degrees and actual degrees-0.962723615400072\n",
      "Predicted steering angle: 79.05867466171055 degrees and actual degrees-1.0032152540463406\n",
      "Predicted steering angle: 88.86969498930027 degrees and actual degrees-1.0595893888857575\n",
      "Predicted steering angle: 107.34410676956665 degrees and actual degrees-1.0946705068508433\n",
      "Predicted steering angle: 114.68384854222985 degrees and actual degrees-1.1140436615479805\n",
      "Predicted steering angle: 111.11060775718101 degrees and actual degrees-1.1264354992371404\n",
      "Predicted steering angle: 121.34621996433539 degrees and actual degrees-1.1334168162451175\n",
      "Predicted steering angle: 117.48169893194218 degrees and actual degrees-1.154535300194249\n",
      "Predicted steering angle: 121.27937973311765 degrees and actual degrees-1.1863002925805457\n",
      "Predicted steering angle: 123.90239094045599 degrees and actual degrees-1.2056734472776827\n",
      "Predicted steering angle: 118.83624838776078 degrees and actual degrees-1.2144000935376544\n",
      "Predicted steering angle: 105.87011096554288 degrees and actual degrees-1.2144000935376544\n",
      "Predicted steering angle: 83.0068723416256 degrees and actual degrees-1.2196360812936373\n",
      "Predicted steering angle: 47.340280193979325 degrees and actual degrees-1.221381410545632\n",
      "Predicted steering angle: 36.499205867849156 degrees and actual degrees-1.221381410545632\n",
      "Predicted steering angle: -7.830726506054994 degrees and actual degrees-1.221381410545632\n",
      "Predicted steering angle: -34.75959425228734 degrees and actual degrees-1.221381410545632\n",
      "Predicted steering angle: -42.25071350752555 degrees and actual degrees-1.221381410545632\n",
      "Predicted steering angle: -48.829906885918675 degrees and actual degrees-1.221381410545632\n",
      "Predicted steering angle: -54.03162186344947 degrees and actual degrees-1.2161454227896489\n",
      "Predicted steering angle: -45.90022359994135 degrees and actual degrees-1.2109094350336658\n",
      "Predicted steering angle: -48.98220644403162 degrees and actual degrees-1.2020082558484948\n",
      "Predicted steering angle: -48.230967597600255 degrees and actual degrees-1.1773991133953745\n",
      "Predicted steering angle: -43.17083219628007 degrees and actual degrees-1.1475539831862718\n"
     ]
    },
    {
     "name": "stdout",
     "output_type": "stream",
     "text": [
      "Predicted steering angle: -38.98907961279102 degrees and actual degrees-1.1000810275320259\n",
      "Predicted steering angle: -30.577592366893597 degrees and actual degrees-1.068316035145729\n",
      "Predicted steering angle: -31.06540447741591 degrees and actual degrees-1.0454522219446034\n",
      "Predicted steering angle: -32.56283124538741 degrees and actual degrees-1.0225884087434776\n",
      "Predicted steering angle: -33.980088667975885 degrees and actual degrees-1.0136872295583066\n",
      "Predicted steering angle: -34.25791344265532 degrees and actual degrees-1.0084512418023235\n",
      "Predicted steering angle: -24.752952184226586 degrees and actual degrees-1.0084512418023235\n",
      "Predicted steering angle: -24.757142505282392 degrees and actual degrees-0.9997245955423519\n",
      "Predicted steering angle: -26.391007424566773 degrees and actual degrees-0.9855874286011979\n",
      "Predicted steering angle: -24.69967841624778 degrees and actual degrees-0.9679596031560551\n",
      "Predicted steering angle: -22.26433860918659 degrees and actual degrees-0.9574876276440891\n",
      "Predicted steering angle: -18.94871719170499 degrees and actual degrees-0.9539969691401005\n",
      "Predicted steering angle: -9.548666785154003 degrees and actual degrees-0.9503317777109126\n",
      "Predicted steering angle: -6.947599694958447 degrees and actual degrees-0.938114472946952\n",
      "Predicted steering angle: -1.3346285687740118 degrees and actual degrees-0.9169959889978206\n",
      "Predicted steering angle: 3.0672704031746494 degrees and actual degrees-0.9011134928046723\n",
      "Predicted steering angle: 6.18599731712206 degrees and actual degrees-0.8923868465447007\n",
      "Predicted steering angle: 4.038096202883925 degrees and actual degrees-0.879995008855541\n",
      "Predicted steering angle: 2.6643970310667364 degrees and actual degrees-0.8658578419143867\n",
      "Predicted steering angle: 3.84935715866214 degrees and actual degrees-0.850149878646438\n",
      "Predicted steering angle: 2.419859610194178 degrees and actual degrees-0.8429940287132611\n",
      "Predicted steering angle: 0.3299306336710263 degrees and actual degrees-0.8447393579652556\n",
      "Predicted steering angle: -12.56122587897297 degrees and actual degrees-0.8395033702092726\n",
      "Predicted steering angle: -18.591593920761703 degrees and actual degrees-0.8218755447641298\n",
      "Predicted steering angle: -22.67586262932174 degrees and actual degrees-0.7955210730590153\n",
      "Predicted steering angle: -31.256591717568323 degrees and actual degrees-0.7532841051607526\n",
      "Predicted steering angle: -33.01330954190643 degrees and actual degrees-0.7197737835224615\n",
      "Predicted steering angle: -31.390398538503458 degrees and actual degrees-0.6864379948093697\n",
      "Predicted steering angle: -32.039911962531235 degrees and actual degrees-0.6476916854150956\n",
      "Predicted steering angle: -31.50549405620734 degrees and actual degrees-0.6335545184739415\n",
      "Predicted steering angle: -32.77323180767507 degrees and actual degrees-0.6335545184739415\n",
      "Predicted steering angle: -34.80169212323672 degrees and actual degrees-0.6335545184739415\n",
      "Predicted steering angle: -33.831122242177905 degrees and actual degrees-0.6335545184739415\n",
      "Predicted steering angle: -22.819802035890586 degrees and actual degrees-0.6335545184739415\n",
      "Predicted steering angle: -19.91197364771001 degrees and actual degrees-0.638965039155124\n",
      "Predicted steering angle: -17.91146929642122 degrees and actual degrees-0.6600835231042554\n",
      "Predicted steering angle: -16.232798336181553 degrees and actual degrees-0.6812020070533868\n",
      "Predicted steering angle: -15.429288052032085 degrees and actual degrees-0.7004006288253245\n",
      "Predicted steering angle: -16.548858509834723 degrees and actual degrees-0.7004006288253245\n",
      "Predicted steering angle: -17.041620799958 degrees and actual degrees-0.6934193118173471\n",
      "Predicted steering angle: -13.424791455173422 degrees and actual degrees-0.6934193118173471\n",
      "Predicted steering angle: -10.181749335359667 degrees and actual degrees-0.6916739825653528\n",
      "Predicted steering angle: -11.15018734362379 degrees and actual degrees-0.6916739825653528\n",
      "Predicted steering angle: -11.278450612273813 degrees and actual degrees-0.6899286533133585\n",
      "Predicted steering angle: -7.319007025890346 degrees and actual degrees-0.6899286533133585\n",
      "Predicted steering angle: -3.9449191891134348 degrees and actual degrees-0.6899286533133585\n",
      "Predicted steering angle: -2.709876059098678 degrees and actual degrees-0.6899286533133585\n",
      "Predicted steering angle: -4.007197707739257 degrees and actual degrees-0.6775368156241987\n",
      "Predicted steering angle: -1.5054339908345769 degrees and actual degrees-0.6618288523562498\n",
      "Predicted steering angle: -1.341299849324116 degrees and actual degrees-0.6600835231042554\n",
      "Predicted steering angle: 5.39568509288317 degrees and actual degrees-0.6581636609270617\n",
      "Predicted steering angle: 6.048718625654443 degrees and actual degrees-0.6511823439190844\n",
      "Predicted steering angle: 4.630072113343515 degrees and actual degrees-0.6424556976591127\n",
      "Predicted steering angle: 8.052237224801324 degrees and actual degrees-0.6442010269111069\n",
      "Predicted steering angle: 8.282931986660381 degrees and actual degrees-0.64943701466709\n",
      "Predicted steering angle: -9.14241054841623 degrees and actual degrees-0.64943701466709\n",
      "Predicted steering angle: -6.985891869879654 degrees and actual degrees-0.64943701466709\n",
      "Predicted steering angle: -16.394544045916625 degrees and actual degrees-0.6511823439190844\n",
      "Predicted steering angle: -14.408075733372213 degrees and actual degrees-0.6529276731710786\n",
      "Predicted steering angle: -8.400123518665815 degrees and actual degrees-0.6529276731710786\n",
      "Predicted steering angle: -9.440582456633136 degrees and actual degrees-0.6424556976591127\n",
      "Predicted steering angle: -2.9479309901186594 degrees and actual degrees-0.62482787221397\n",
      "Predicted steering angle: 5.877274901071599 degrees and actual degrees-0.5860815628196958\n",
      "Predicted steering angle: 7.885182750533859 degrees and actual degrees-0.5490805826774161\n",
      "Predicted steering angle: 8.79921574073789 degrees and actual degrees-0.5279620987282847\n",
      "Predicted steering angle: 9.511243324917857 degrees and actual degrees-0.5120796025351363\n",
      "Predicted steering angle: 7.8568451494411224 degrees and actual degrees-0.49986229777117597\n",
      "Predicted steering angle: 18.711900872802307 degrees and actual degrees-0.4874704600820162\n",
      "Predicted steering angle: 16.432965567545242 degrees and actual degrees-0.4576253298729132\n",
      "Predicted steering angle: 20.014042287119388 degrees and actual degrees-0.43301618741979314\n",
      "Predicted steering angle: 22.644156891194537 degrees and actual degrees-0.40299652428549065\n",
      "Predicted steering angle: 19.7075068122638 degrees and actual degrees-0.36966073557239904\n",
      "Predicted steering angle: 11.532835031495415 degrees and actual degrees-0.3572688978832392\n",
      "Predicted steering angle: 5.875303537722404 degrees and actual degrees-0.35377823937925057\n",
      "Predicted steering angle: 13.289853384157004 degrees and actual degrees-0.35377823937925057\n",
      "Predicted steering angle: 11.134918455734226 degrees and actual degrees-0.3485422516232676\n",
      "Predicted steering angle: 11.972956199911756 degrees and actual degrees-0.3361504139341079\n",
      "Predicted steering angle: 7.238333954056033 degrees and actual degrees-0.3150319299849765\n",
      "Predicted steering angle: 8.559899572598983 degrees and actual degrees-0.2956587752878394\n",
      "Predicted steering angle: -7.560754741373778 degrees and actual degrees-0.2727949620867137\n",
      "Predicted steering angle: -14.020879993287005 degrees and actual degrees-0.24993114888558798\n",
      "Predicted steering angle: -17.409976316991376 degrees and actual degrees-0.22183134792847928\n",
      "Predicted steering angle: -19.279926724937248 degrees and actual degrees0.0\n",
      "Predicted steering angle: -21.667923075766492 degrees and actual degrees-0.20071286397934787\n",
      "Predicted steering angle: -26.23205696974953 degrees and actual degrees-0.1759291886010284\n",
      "Predicted steering angle: -21.539693104288673 degrees and actual degrees-0.11798425743481668\n",
      "Predicted steering angle: -19.302490254860384 degrees and actual degrees-0.052883476335428184\n",
      "Predicted steering angle: -19.32690818114318 degrees and actual degrees0.0\n",
      "Predicted steering angle: -17.9301054675716 degrees and actual degrees0.06684611035138281\n",
      "Predicted steering angle: -18.25887491572287 degrees and actual degrees0.1319468914507713\n",
      "Predicted steering angle: -17.525095740357354 degrees and actual degrees0.18832102629018815\n",
      "Predicted steering angle: -16.81172858532642 degrees and actual degrees0.22706733568446225\n",
      "Predicted steering angle: -16.616555929793307 degrees and actual degrees0.2675589743307307\n",
      "Predicted steering angle: -15.834012618848483 degrees and actual degrees0.29740410453983374\n",
      "Predicted steering angle: -14.399749732773968 degrees and actual degrees0.31328660073298215\n",
      "Predicted steering angle: -15.13626098380749 degrees and actual degrees0.3309144261781249\n",
      "Predicted steering angle: -15.558236900920047 degrees and actual degrees0.3467969223712733\n",
      "Predicted steering angle: -13.69391798394485 degrees and actual degrees0.35552356863124496\n"
     ]
    },
    {
     "name": "stdout",
     "output_type": "stream",
     "text": [
      "Predicted steering angle: -10.987093525301287 degrees and actual degrees0.35552356863124496\n",
      "Predicted steering angle: -7.23382944429841 degrees and actual degrees0.35552356863124496\n",
      "Predicted steering angle: -4.880501426148856 degrees and actual degrees0.36250488563922223\n",
      "Predicted steering angle: -3.979310472244918 degrees and actual degrees0.37140606482439337\n",
      "Predicted steering angle: -4.93403559508977 degrees and actual degrees0.38013271108436497\n",
      "Predicted steering angle: -4.546910291330379 degrees and actual degrees0.38362336958835364\n",
      "Predicted steering angle: -4.929033762183205 degrees and actual degrees0.3853686988403479\n",
      "Predicted steering angle: -2.7326739498877113 degrees and actual degrees0.38711402809234224\n",
      "Predicted steering angle: 4.3125080174124735 degrees and actual degrees0.38903389026953605\n",
      "Predicted steering angle: 4.906702031805025 degrees and actual degrees0.39426987802551905\n",
      "Predicted steering angle: -3.6215088781396845 degrees and actual degrees0.40299652428549065\n",
      "Predicted steering angle: -5.179019966466141 degrees and actual degrees0.41713369122664473\n",
      "Predicted steering angle: -9.221233492759115 degrees and actual degrees0.42586033748661634\n",
      "Predicted steering angle: -12.950269185228663 degrees and actual degrees0.42586033748661634\n",
      "Predicted steering angle: -13.567066856905727 degrees and actual degrees0.42586033748661634\n",
      "Predicted steering angle: -17.34152757622409 degrees and actual degrees0.42586033748661634\n",
      "Predicted steering angle: -16.003192989495112 degrees and actual degrees0.42586033748661634\n",
      "Predicted steering angle: -15.308547382979183 degrees and actual degrees0.42586033748661634\n",
      "Predicted steering angle: -14.696987612621875 degrees and actual degrees0.42586033748661634\n",
      "Predicted steering angle: -17.749843114996622 degrees and actual degrees0.42586033748661634\n",
      "Predicted steering angle: -21.260428867241654 degrees and actual degrees0.42586033748661634\n",
      "Predicted steering angle: -28.46679924352932 degrees and actual degrees0.42586033748661634\n",
      "Predicted steering angle: -28.178039335988693 degrees and actual degrees0.4295255289158045\n",
      "Predicted steering angle: -27.234062796463324 degrees and actual degrees0.4399975044277705\n",
      "Predicted steering angle: -28.960968552621623 degrees and actual degrees0.44872415068774213\n",
      "Predicted steering angle: -27.73239852094933 degrees and actual degrees0.4417428336797648\n",
      "Predicted steering angle: -18.476100544538664 degrees and actual degrees0.4118977034706618\n",
      "Predicted steering angle: -14.001006704123208 degrees and actual degrees0.38362336958835364\n",
      "Predicted steering angle: -8.104790407822694 degrees and actual degrees0.374896723328382\n",
      "Predicted steering angle: -8.664122282917855 degrees and actual degrees0.36425021489121656\n",
      "Predicted steering angle: -7.861528097890813 degrees and actual degrees0.33964107243809655\n",
      "Predicted steering angle: -4.651885176231597 degrees and actual degrees0.3220132469929538\n",
      "Predicted steering angle: -2.849740404053968 degrees and actual degrees0.3063052837250048\n",
      "Predicted steering angle: -1.426503150847146 degrees and actual degrees0.30264009229581673\n",
      "Predicted steering angle: -0.9977936277083076 degrees and actual degrees0.30264009229581673\n",
      "Predicted steering angle: -0.8654685309362424 degrees and actual degrees0.30264009229581673\n",
      "Predicted steering angle: -0.7362813724792692 degrees and actual degrees0.30264009229581673\n",
      "Predicted steering angle: -0.9507226319912242 degrees and actual degrees0.31154127148098787\n",
      "Predicted steering angle: -1.358112573409514 degrees and actual degrees0.3256784384221419\n",
      "Predicted steering angle: -1.4645050427286275 degrees and actual degrees0.3413864016900908\n",
      "Predicted steering angle: -0.5440454314849958 degrees and actual degrees0.3572688978832392\n",
      "Predicted steering angle: -0.9980006678175236 degrees and actual degrees0.37838738183237064\n",
      "Predicted steering angle: -1.4574657857369888 degrees and actual degrees0.39426987802551905\n",
      "Predicted steering angle: -1.2779598766125913 degrees and actual degrees0.41015237421866746\n",
      "Predicted steering angle: -1.4040402594925607 degrees and actual degrees0.4241150082346221\n",
      "Predicted steering angle: -0.5809519317783367 degrees and actual degrees0.4399975044277705\n",
      "Predicted steering angle: -0.6070440548205788 degrees and actual degrees0.45238934211693027\n",
      "Predicted steering angle: 0.9857953332141224 degrees and actual degrees0.4892157893340106\n",
      "Predicted steering angle: 1.7584537596043506 degrees and actual degrees0.510334273283142\n",
      "Predicted steering angle: 2.4280201921484625 degrees and actual degrees0.524471440224296\n",
      "Predicted steering angle: 2.8796083944076103 degrees and actual degrees0.529707427980279\n",
      "Predicted steering angle: 3.4195924780182403 degrees and actual degrees0.5508259119294104\n",
      "Predicted steering angle: 3.575811070610891 degrees and actual degrees0.5719443958785418\n",
      "Predicted steering angle: 4.0580873128109065 degrees and actual degrees0.5948082090796675\n",
      "Predicted steering angle: 3.803260638840547 degrees and actual degrees0.6037093882648387\n",
      "Predicted steering angle: 3.6879192343265417 degrees and actual degrees0.619591884457987\n",
      "Predicted steering angle: 2.9656965255932746 degrees and actual degrees0.64943701466709\n",
      "Predicted steering angle: 1.7123061200856884 degrees and actual degrees0.7023204910025183\n",
      "Predicted steering angle: 1.5878202662117995 degrees and actual degrees0.7532841051607526\n",
      "Predicted steering angle: 1.4838732180589622 degrees and actual degrees0.7813839061178613\n",
      "Predicted steering angle: 1.3120876638525005 degrees and actual degrees0.8148942277561525\n",
      "Predicted steering angle: 1.5520277270834055 degrees and actual degrees0.8325220532012952\n",
      "Predicted steering angle: 1.5032646587211573 degrees and actual degrees0.8518952078984322\n",
      "Predicted steering angle: 1.6198097773546716 degrees and actual degrees0.8571311956544152\n",
      "Predicted steering angle: 1.852594470378048 degrees and actual degrees0.8623671834103981\n",
      "Predicted steering angle: 1.7823615561335109 degrees and actual degrees0.8765043503515522\n",
      "Predicted steering angle: 1.244149479725676 degrees and actual degrees0.9117600012418378\n",
      "Predicted steering angle: 0.4551605512776234 degrees and actual degrees0.9485864484589182\n",
      "Predicted steering angle: 0.3806188015230132 degrees and actual degrees0.9838420993492035\n",
      "Predicted steering angle: -4.043129625415402 degrees and actual degrees1.0014699247943464\n",
      "Predicted steering angle: -6.071986945722561 degrees and actual degrees1.010196571054318\n",
      "Predicted steering angle: -6.396603211971641 degrees and actual degrees1.0313150550034493\n",
      "Predicted steering angle: -5.988443913776373 degrees and actual degrees1.0559241974565694\n",
      "Predicted steering angle: -9.06114666521871 degrees and actual degrees1.0718066936497177\n",
      "Predicted steering angle: -16.974333191349622 degrees and actual degrees1.073552022901712\n",
      "Predicted steering angle: -24.755277863638977 degrees and actual degrees1.080707872834889\n",
      "Predicted steering angle: -30.72590650962584 degrees and actual degrees1.0946705068508433\n",
      "Predicted steering angle: -31.474792355888134 degrees and actual degrees1.1192796493039634\n",
      "Predicted steering angle: -33.23402027474622 degrees and actual degrees1.1423179954302887\n",
      "Predicted steering angle: -35.206421812695 degrees and actual degrees1.1510446416902604\n",
      "Predicted steering angle: -35.79847285523545 degrees and actual degrees1.1510446416902604\n",
      "Predicted steering angle: -37.297924774295865 degrees and actual degrees1.1510446416902604\n",
      "Predicted steering angle: -37.63326657197598 degrees and actual degrees0.0\n",
      "Predicted steering angle: -46.92158618276296 degrees and actual degrees1.1510446416902604\n",
      "Predicted steering angle: -57.37100038641167 degrees and actual degrees1.1510446416902604\n",
      "Predicted steering angle: -59.34023271658556 degrees and actual degrees1.1510446416902604\n",
      "Predicted steering angle: -50.02622134923558 degrees and actual degrees1.1492993124382658\n",
      "Predicted steering angle: -44.3155719011742 degrees and actual degrees1.1492993124382658\n",
      "Predicted steering angle: -32.04975426512522 degrees and actual degrees1.1492993124382658\n",
      "Predicted steering angle: -22.631766928040136 degrees and actual degrees1.1492993124382658\n",
      "Predicted steering angle: -12.998110391496372 degrees and actual degrees1.1492993124382658\n",
      "Predicted steering angle: -9.161274677130157 degrees and actual degrees1.1492993124382658\n"
     ]
    },
    {
     "name": "stdout",
     "output_type": "stream",
     "text": [
      "Predicted steering angle: -11.017101961419737 degrees and actual degrees1.1562806294462433\n",
      "Predicted steering angle: -13.461482377621085 degrees and actual degrees0.0\n",
      "Predicted steering angle: -15.641952822029602 degrees and actual degrees1.1580259586982375\n",
      "Predicted steering angle: -23.24900087805043 degrees and actual degrees1.1580259586982375\n",
      "Predicted steering angle: -28.554785740417426 degrees and actual degrees1.1580259586982375\n",
      "Predicted steering angle: -33.65408715398576 degrees and actual degrees1.1580259586982375\n",
      "Predicted steering angle: -38.12709266406249 degrees and actual degrees1.1580259586982375\n",
      "Predicted steering angle: -39.36382135669836 degrees and actual degrees1.1580259586982375\n",
      "Predicted steering angle: -33.01134244742547 degrees and actual degrees1.1580259586982375\n",
      "Predicted steering angle: -20.79464070169805 degrees and actual degrees1.1580259586982375\n",
      "Predicted steering angle: -6.455860652550202 degrees and actual degrees0.0\n",
      "Predicted steering angle: 26.626158884859265 degrees and actual degrees1.1492993124382658\n",
      "Predicted steering angle: 40.85583519975262 degrees and actual degrees1.1369074747491064\n",
      "Predicted steering angle: 33.73541080133852 degrees and actual degrees1.1175343200519692\n",
      "Predicted steering angle: 28.88743132092268 degrees and actual degrees1.115788990799975\n",
      "Predicted steering angle: 14.784332071727997 degrees and actual degrees1.115788990799975\n",
      "Predicted steering angle: 3.4861552328009533 degrees and actual degrees1.1088076737919974\n",
      "Predicted steering angle: -2.9298805076896084 degrees and actual degrees1.092925177598849\n",
      "Predicted steering angle: -9.266012212957719 degrees and actual degrees1.0752973521537064\n",
      "Predicted steering angle: -6.686780383765048 degrees and actual degrees1.073552022901712\n",
      "Predicted steering angle: -4.5066864535345275 degrees and actual degrees1.073552022901712\n",
      "Predicted steering angle: 0.05788568646319278 degrees and actual degrees1.0630800473897462\n",
      "Predicted steering angle: -0.14409610071336232 degrees and actual degrees1.0365510427594322\n",
      "Predicted steering angle: -0.4262534831628369 degrees and actual degrees1.0067059125503293\n",
      "Predicted steering angle: 0.35039614826063237 degrees and actual degrees0.9820967700972092\n",
      "Predicted steering angle: 0.33406479242916165 degrees and actual degrees0.9644689446520665\n",
      "Predicted steering angle: -0.5112724229391293 degrees and actual degrees0.9503317777109126\n",
      "Predicted steering angle: -0.8433085691435178 degrees and actual degrees0.9328784851909692\n",
      "Predicted steering angle: -0.993749195224308 degrees and actual degrees0.9222319767538038\n",
      "Predicted steering angle: -0.7700637549184167 degrees and actual degrees0.0\n",
      "Predicted steering angle: -0.9686312812732919 degrees and actual degrees0.9204866475018095\n",
      "Predicted steering angle: -1.2990667619735174 degrees and actual degrees0.9187413182498151\n",
      "Predicted steering angle: 8.648816682761503 degrees and actual degrees0.9135053304938321\n",
      "Predicted steering angle: 10.286515045717556 degrees and actual degrees0.9011134928046723\n",
      "Predicted steering angle: 23.023493644866 degrees and actual degrees0.899368163552678\n",
      "Predicted steering angle: 26.780823395972327 degrees and actual degrees0.899368163552678\n",
      "Predicted steering angle: 33.59971201800329 degrees and actual degrees0.899368163552678\n",
      "Predicted steering angle: 42.27560271686108 degrees and actual degrees0.899368163552678\n",
      "Predicted steering angle: 48.36575796577587 degrees and actual degrees0.899368163552678\n",
      "Predicted steering angle: 57.41816967281978 degrees and actual degrees0.9028588220566666\n",
      "Predicted steering angle: 59.512852087479295 degrees and actual degrees0.9063494805606552\n",
      "Predicted steering angle: 58.491568051833134 degrees and actual degrees0.9080948098126497\n",
      "Predicted steering angle: 51.549356949243005 degrees and actual degrees0.9080948098126497\n",
      "Predicted steering angle: 47.0364631344134 degrees and actual degrees0.9063494805606552\n",
      "Predicted steering angle: 41.13743023885391 degrees and actual degrees0.9063494805606552\n",
      "Predicted steering angle: 34.6849880959833 degrees and actual degrees0.9098401390646441\n",
      "Predicted steering angle: 29.66214894262596 degrees and actual degrees0.0\n",
      "Predicted steering angle: 25.061797970568932 degrees and actual degrees0.9098401390646441\n",
      "Predicted steering angle: 22.027964545032667 degrees and actual degrees0.9098401390646441\n",
      "Predicted steering angle: 17.25155861692939 degrees and actual degrees0.9080948098126497\n",
      "Predicted steering angle: 17.548989449621352 degrees and actual degrees0.9080948098126497\n",
      "Predicted steering angle: 19.905191269864186 degrees and actual degrees0.9098401390646441\n",
      "Predicted steering angle: 23.153508003264484 degrees and actual degrees0.9117600012418378\n",
      "Predicted steering angle: 27.898126230970522 degrees and actual degrees0.9117600012418378\n",
      "Predicted steering angle: 27.569273113001916 degrees and actual degrees0.9098401390646441\n",
      "Predicted steering angle: 33.946019684395864 degrees and actual degrees0.9098401390646441\n",
      "Predicted steering angle: 32.27454945108868 degrees and actual degrees0.9169959889978206\n",
      "Predicted steering angle: 36.714339751231634 degrees and actual degrees0.9204866475018095\n",
      "Predicted steering angle: 36.658697615158125 degrees and actual degrees0.9222319767538038\n",
      "Predicted steering angle: 41.53942443754959 degrees and actual degrees0.9222319767538038\n",
      "Predicted steering angle: 40.43249665990065 degrees and actual degrees0.923977306005798\n",
      "Predicted steering angle: 34.575339654142496 degrees and actual degrees0.923977306005798\n",
      "Predicted steering angle: 30.3904110326894 degrees and actual degrees0.9292132937617811\n",
      "Predicted steering angle: 17.195733773295583 degrees and actual degrees0.9450957899549295\n",
      "Predicted steering angle: 16.01169657501178 degrees and actual degrees0.9697049324080496\n",
      "Predicted steering angle: 6.64582101997295 degrees and actual degrees0.9943140748611695\n",
      "Predicted steering angle: 0.8156940609683034 degrees and actual degrees1.019097750239489\n",
      "Predicted steering angle: -8.67263269862369 degrees and actual degrees1.0330603842554436\n",
      "Predicted steering angle: -10.014880983747087 degrees and actual degrees1.0454522219446034\n",
      "Predicted steering angle: -6.845222416375949 degrees and actual degrees1.054178868204575\n",
      "Predicted steering angle: -8.744966963255065 degrees and actual degrees1.0718066936497177\n",
      "Predicted steering angle: 0.5782799937915394 degrees and actual degrees1.0981611653548322\n",
      "Predicted steering angle: 5.038429913911537 degrees and actual degrees1.124690169985146\n",
      "Predicted steering angle: 26.357486563667642 degrees and actual degrees1.1458086539342776\n",
      "Predicted steering angle: 34.04104469122367 degrees and actual degrees1.16343647937942\n",
      "Predicted steering angle: 45.66482113019686 degrees and actual degrees1.1669271378834087\n",
      "Predicted steering angle: 50.77222144057354 degrees and actual degrees0.0\n",
      "Predicted steering angle: 49.21628385707712 degrees and actual degrees1.173908454891386\n",
      "Predicted steering angle: 45.388096015973794 degrees and actual degrees1.1863002925805457\n",
      "Predicted steering angle: 44.97205211815539 degrees and actual degrees1.203753585100489\n",
      "Predicted steering angle: 48.0406785273237 degrees and actual degrees1.2074187765296773\n",
      "Predicted steering angle: 50.03678765188159 degrees and actual degrees1.2056734472776827\n",
      "Predicted steering angle: 42.84016566308682 degrees and actual degrees1.2056734472776827\n",
      "Predicted steering angle: 41.73830588580203 degrees and actual degrees0.0\n",
      "Predicted steering angle: 28.702104383078137 degrees and actual degrees1.2056734472776827\n",
      "Predicted steering angle: 24.005697045628636 degrees and actual degrees1.203753585100489\n",
      "Predicted steering angle: 13.379987121765431 degrees and actual degrees1.203753585100489\n",
      "Predicted steering angle: 9.52354876448128 degrees and actual degrees1.203753585100489\n",
      "Predicted steering angle: 12.335800608058575 degrees and actual degrees1.2002629265965004\n",
      "Predicted steering angle: 12.867722080240828 degrees and actual degrees1.18804562183254\n",
      "Predicted steering angle: 12.500981902946164 degrees and actual degrees1.1863002925805457\n",
      "Predicted steering angle: 10.303347193153405 degrees and actual degrees1.18804562183254\n",
      "Predicted steering angle: 9.278303138369155 degrees and actual degrees1.1845549633285515\n",
      "Predicted steering angle: 5.236020456410836 degrees and actual degrees1.1704177963873974\n",
      "Predicted steering angle: 3.2835575213098007 degrees and actual degrees1.159771287950232\n"
     ]
    },
    {
     "name": "stdout",
     "output_type": "stream",
     "text": [
      "Predicted steering angle: 2.779986883711801 degrees and actual degrees0.0\n",
      "Predicted steering angle: 2.6313771218545448 degrees and actual degrees1.1527899709422547\n",
      "Predicted steering angle: 1.5013188018596442 degrees and actual degrees1.1423179954302887\n",
      "Predicted steering angle: 0.7231465985402173 degrees and actual degrees1.1211995114811573\n",
      "Predicted steering angle: -0.8960184729898285 degrees and actual degrees1.0981611653548322\n",
      "Predicted steering angle: -0.29774243339241563 degrees and actual degrees1.0911798483468549\n",
      "Predicted steering angle: -0.37257217167007706 degrees and actual degrees0.0\n",
      "Predicted steering angle: -0.3878847354177316 degrees and actual degrees1.0578440596337633\n",
      "Predicted steering angle: 0.03340442751812252 degrees and actual degrees1.0119419003063124\n",
      "Predicted steering angle: 0.7022218871310602 degrees and actual degrees0.9890780871051865\n",
      "Predicted steering angle: 0.996918829886017 degrees and actual degrees0.9786061115932205\n",
      "Predicted steering angle: 1.3708867347047304 degrees and actual degrees0.9786061115932205\n",
      "Predicted steering angle: 1.0874779602136888 degrees and actual degrees0.9890780871051865\n",
      "Predicted steering angle: 0.35722004085000403 degrees and actual degrees1.010196571054318\n",
      "Predicted steering angle: 0.3004739487714654 degrees and actual degrees1.0225884087434776\n",
      "Predicted steering angle: 0.2967934106237541 degrees and actual degrees1.0225884087434776\n",
      "Predicted steering angle: 0.3162575020871599 degrees and actual degrees0.9997245955423519\n",
      "Predicted steering angle: 0.036226683027512946 degrees and actual degrees0.9820967700972092\n",
      "Predicted steering angle: -0.07440924141666928 degrees and actual degrees0.9838420993492035\n",
      "Predicted steering angle: 0.7997006394181897 degrees and actual degrees0.9838420993492035\n",
      "Predicted steering angle: 0.2705122834405731 degrees and actual degrees0.9820967700972092\n",
      "Predicted steering angle: -0.2682286256998352 degrees and actual degrees0.9768607823412263\n",
      "Predicted steering angle: -0.5617418646551171 degrees and actual degrees0.0\n",
      "Predicted steering angle: -1.305977099144572 degrees and actual degrees0.962723615400072\n",
      "Predicted steering angle: 5.15572389875452 degrees and actual degrees0.9398598021989465\n",
      "Predicted steering angle: 12.82194700619705 degrees and actual degrees0.9187413182498151\n",
      "Predicted steering angle: 23.302542730954162 degrees and actual degrees0.8869763258635183\n",
      "Predicted steering angle: 29.06957197551941 degrees and actual degrees0.8571311956544152\n",
      "Predicted steering angle: 40.01317768637522 degrees and actual degrees0.8290313946973066\n",
      "Predicted steering angle: 43.874000171332874 degrees and actual degrees0.793775743807021\n",
      "Predicted steering angle: 23.176576967186204 degrees and actual degrees0.7637560806727186\n",
      "Predicted steering angle: 12.032166256052951 degrees and actual degrees0.7215191127744559\n",
      "Predicted steering angle: -0.13798074686888695 degrees and actual degrees0.6951646410693415\n",
      "Predicted steering angle: -7.769613388456305 degrees and actual degrees0.6635741816082441\n",
      "Predicted steering angle: -13.289179756750112 degrees and actual degrees0.6318091892219473\n",
      "Predicted steering angle: -23.032207258699643 degrees and actual degrees0.5878268920716901\n",
      "Predicted steering angle: -23.46828922399557 degrees and actual degrees0.5455899241734274\n",
      "Predicted steering angle: -31.001948604931908 degrees and actual degrees0.5174901232163187\n",
      "Predicted steering angle: -27.151361158445518 degrees and actual degrees0.49811696851918164\n",
      "Predicted steering angle: -34.526025688335004 degrees and actual degrees0.49288098076319864\n",
      "Predicted steering angle: -37.10775523232979 degrees and actual degrees0.49288098076319864\n",
      "Predicted steering angle: -46.790951984697294 degrees and actual degrees0.46809730538487915\n",
      "Predicted steering angle: -46.06015930954637 degrees and actual degrees0.4347615166717875\n",
      "Predicted steering angle: -36.576065986579316 degrees and actual degrees0.4295255289158045\n",
      "Predicted steering angle: -29.393637130879835 degrees and actual degrees0.4295255289158045\n",
      "Predicted steering angle: -33.01500342882059 degrees and actual degrees0.4206243497306334\n",
      "Predicted steering angle: -31.918051142454452 degrees and actual degrees0.4012511950334963\n",
      "Predicted steering angle: -25.029948798469164 degrees and actual degrees0.39950586578150205\n",
      "Predicted steering angle: -34.574226333307784 degrees and actual degrees0.39950586578150205\n",
      "Predicted steering angle: -37.107594722884286 degrees and actual degrees0.38362336958835364\n",
      "Predicted steering angle: -40.86719038924777 degrees and actual degrees0.36075955638722795\n",
      "Predicted steering angle: -39.40197820849663 degrees and actual degrees0.3309144261781249\n",
      "Predicted steering angle: -35.25719743898487 degrees and actual degrees0.2851867997758734\n",
      "Predicted steering angle: -32.1938473509504 degrees and actual degrees0.255167136641571\n",
      "Predicted steering angle: -6.760318896124459 degrees and actual degrees0.22183134792847928\n",
      "Predicted steering angle: 3.190700672656654 degrees and actual degrees0.1970476725501598\n",
      "Predicted steering angle: 12.879122519739227 degrees and actual degrees0.17243853009703977\n",
      "Predicted steering angle: -1.0634383623778885 degrees and actual degrees0.1530653753999027\n",
      "Predicted steering angle: -34.2189711191025 degrees and actual degrees0.1425933998879367\n",
      "Predicted steering angle: -47.69627306861498 degrees and actual degrees0.13369222070276562\n",
      "Predicted steering angle: -74.76359899460725 degrees and actual degrees0.12671090369478832\n",
      "Predicted steering angle: -79.49914673109551 degrees and actual degrees0.10035643198967394\n",
      "Predicted steering angle: -80.82923727949628 degrees and actual degrees0.08098327729253689\n",
      "Predicted steering angle: -81.89270456345643 degrees and actual degrees0.05811946409141117\n",
      "Predicted steering angle: -87.46868658674725 degrees and actual degrees0.0439822971502571\n",
      "Predicted steering angle: -91.7651419520629 degrees and actual degrees0.035255650890285456\n",
      "Predicted steering angle: -90.50955510712863 degrees and actual degrees0.029845130209103034\n",
      "Predicted steering angle: -86.52181063191921 degrees and actual degrees0.029845130209103034\n",
      "Predicted steering angle: -83.70731507119957 degrees and actual degrees0.029845130209103034\n",
      "Predicted steering angle: -79.35285773945218 degrees and actual degrees0.029845130209103034\n",
      "Predicted steering angle: -79.04667401933884 degrees and actual degrees0.02809980095710871\n",
      "Predicted steering angle: -79.05032134035562 degrees and actual degrees0.026354471705114374\n",
      "Predicted steering angle: -75.14238079540864 degrees and actual degrees0.021118483949131385\n",
      "Predicted steering angle: -75.42323817407956 degrees and actual degrees0.012391837689159739\n",
      "Predicted steering angle: -68.53846896240924 degrees and actual degrees0.0\n",
      "Predicted steering angle: -65.68142132316042 degrees and actual degrees-0.014137166941154071\n",
      "Predicted steering angle: -64.06046033876548 degrees and actual degrees-0.029845130209103034\n",
      "Predicted steering angle: -65.89376507426694 degrees and actual degrees-0.04747295565424577\n",
      "Predicted steering angle: -66.29046246126128 degrees and actual degrees-0.05811946409141117\n",
      "Predicted steering angle: -69.49930582390078 degrees and actual degrees-0.06161012259539983\n",
      "Predicted steering angle: -68.37299396938734 degrees and actual degrees-0.0651007810993885\n",
      "Predicted steering angle: -67.29198675963859 degrees and actual degrees-0.06684611035138281\n",
      "Predicted steering angle: -64.74841748253668 degrees and actual degrees-0.06859143960337716\n",
      "Predicted steering angle: -61.08480646457939 degrees and actual degrees-0.06859143960337716\n",
      "Predicted steering angle: -58.972051369376025 degrees and actual degrees-0.0651007810993885\n",
      "Predicted steering angle: -60.612908694823204 degrees and actual degrees-0.03874630939427412\n",
      "Predicted steering angle: -60.61566809124789 degrees and actual degrees-0.008726646259971648\n",
      "Predicted steering angle: -67.97840028065737 degrees and actual degrees0.012391837689159739\n",
      "Predicted steering angle: -67.82556113759999 degrees and actual degrees0.03874630939427412\n",
      "Predicted steering angle: -70.8480427887357 degrees and actual degrees0.045727626402251434\n",
      "Predicted steering angle: -73.43986052213458 degrees and actual degrees0.045727626402251434\n",
      "Predicted steering angle: -73.27853145393888 degrees and actual degrees0.045727626402251434\n",
      "Predicted steering angle: -71.5990903898703 degrees and actual degrees0.045727626402251434\n",
      "Predicted steering angle: -66.80204363009524 degrees and actual degrees0.03874630939427412\n",
      "Predicted steering angle: -63.043390529837225 degrees and actual degrees0.0317649923862968\n",
      "Predicted steering angle: -59.02853703381203 degrees and actual degrees0.021118483949131385\n"
     ]
    },
    {
     "name": "stdout",
     "output_type": "stream",
     "text": [
      "Predicted steering angle: -59.33883935799488 degrees and actual degrees0.0158824961931484\n",
      "Predicted steering angle: -58.51769352540843 degrees and actual degrees0.01064650843716541\n",
      "Predicted steering angle: -57.166487447188565 degrees and actual degrees0.003490658503988659\n",
      "Predicted steering angle: -49.403051964836536 degrees and actual degrees-0.0017453292519943296\n",
      "Predicted steering angle: -43.49232578541798 degrees and actual degrees-0.008726646259971648\n",
      "Predicted steering angle: -39.41456283204238 degrees and actual degrees-0.026354471705114374\n",
      "Predicted steering angle: -29.760339742134065 degrees and actual degrees-0.04223696789826277\n",
      "Predicted steering angle: -23.070162619917404 degrees and actual degrees-0.05811946409141117\n",
      "Predicted steering angle: -4.817235091414321 degrees and actual degrees-0.07400196028455958\n",
      "Predicted steering angle: -1.8279063247362137 degrees and actual degrees-0.09512044423369097\n",
      "Predicted steering angle: 6.989039733313384 degrees and actual degrees-0.11431906600562858\n",
      "Predicted steering angle: 9.476482784684368 degrees and actual degrees-0.1425933998879367\n",
      "Predicted steering angle: 12.85854486731727 degrees and actual degrees-0.16196655458507378\n",
      "Predicted steering angle: 6.921050749654608 degrees and actual degrees-0.19530234329816545\n",
      "Predicted steering angle: 11.606682183027946 degrees and actual degrees-0.2181661564992912\n",
      "Predicted steering angle: 8.510524988862608 degrees and actual degrees-0.244695161129605\n",
      "Predicted steering angle: -8.778377687353828 degrees and actual degrees-0.2658136450787364\n",
      "Predicted steering angle: -3.5039956869130267 degrees and actual degrees-0.30805061297699915\n",
      "Predicted steering angle: -2.9668666223754623 degrees and actual degrees-0.36075955638722795\n",
      "Predicted steering angle: -12.789725588787514 degrees and actual degrees-0.41713369122664473\n",
      "Predicted steering angle: -12.299201039391063 degrees and actual degrees-0.45238934211693027\n",
      "Predicted steering angle: -11.126400356065574 degrees and actual degrees-0.47874381382204456\n",
      "Predicted steering angle: -9.726997047967512 degrees and actual degrees-0.5157447939643244\n",
      "Predicted steering angle: -7.593023970107502 degrees and actual degrees-0.5403539364174444\n",
      "Predicted steering angle: -6.520119072261682 degrees and actual degrees-0.5773549165597242\n",
      "Predicted steering angle: -6.018034000808161 degrees and actual degrees-0.6002187297608499\n",
      "Predicted steering angle: -5.086612629637746 degrees and actual degrees-0.6265732014659643\n",
      "Predicted steering angle: -3.038912311514403 degrees and actual degrees-0.654673002423073\n",
      "Predicted steering angle: -1.6280053640284522 degrees and actual degrees-0.6775368156241987\n",
      "Predicted steering angle: -0.2696550413388836 degrees and actual degrees-0.6899286533133585\n",
      "Predicted steering angle: -0.14227138632812433 degrees and actual degrees-0.7004006288253245\n",
      "Predicted steering angle: 0.45937781956413604 degrees and actual degrees-0.7075564787585011\n",
      "Predicted steering angle: 1.2475101462407339 degrees and actual degrees-0.7162831250184728\n",
      "Predicted steering angle: 1.5270964693958011 degrees and actual degrees-0.7251843042036438\n",
      "Predicted steering angle: 1.8398839152194773 degrees and actual degrees-0.7408922674715929\n",
      "Predicted steering angle: 2.416299800976132 degrees and actual degrees-0.7585200929167357\n",
      "Predicted steering angle: 4.648450017965904 degrees and actual degrees-0.7726572598578898\n",
      "Predicted steering angle: 5.707848643614848 degrees and actual degrees-0.7831292353698557\n",
      "Predicted steering angle: 7.728655305324677 degrees and actual degrees-0.7972664023110098\n",
      "Predicted steering angle: 9.082870081873935 degrees and actual degrees-0.8218755447641298\n",
      "Predicted steering angle: 11.63309367077474 degrees and actual degrees-0.8429940287132611\n",
      "Predicted steering angle: 25.12350531462541 degrees and actual degrees-0.8571311956544152\n",
      "Predicted steering angle: 69.27897075146534 degrees and actual degrees-0.869523033343575\n",
      "Predicted steering angle: 76.06946969221116 degrees and actual degrees-0.8730136918475637\n",
      "Predicted steering angle: 87.64120350480343 degrees and actual degrees-0.8730136918475637\n",
      "Predicted steering angle: 91.26000848180544 degrees and actual degrees-0.8730136918475637\n",
      "Predicted steering angle: 89.5970486642041 degrees and actual degrees-0.8730136918475637\n",
      "Predicted steering angle: 78.7142965237585 degrees and actual degrees-0.8676031711663812\n",
      "Predicted steering angle: 78.20197769449419 degrees and actual degrees-0.8571311956544152\n",
      "Predicted steering angle: 76.72346713542905 degrees and actual degrees-0.8447393579652556\n",
      "Predicted steering angle: 76.56721289778666 degrees and actual degrees-0.8412486994612668\n",
      "Predicted steering angle: 58.02280533890599 degrees and actual degrees-0.8360127117052838\n",
      "Predicted steering angle: 58.950993896164874 degrees and actual degrees-0.8253662032681184\n",
      "Predicted steering angle: 71.92748588516451 degrees and actual degrees-0.8166395570081467\n",
      "Predicted steering angle: 87.12731373203002 degrees and actual degrees-0.8131488985041582\n",
      "Predicted steering angle: 92.84040497271967 degrees and actual degrees-0.8131488985041582\n",
      "Predicted steering angle: 97.3367799750416 degrees and actual degrees-0.8131488985041582\n",
      "Predicted steering angle: 78.27024543524847 degrees and actual degrees-0.8131488985041582\n",
      "Predicted steering angle: 58.91672000690975 degrees and actual degrees-0.8131488985041582\n",
      "Predicted steering angle: 38.711924196650244 degrees and actual degrees-0.8131488985041582\n",
      "Predicted steering angle: 35.08948897410438 degrees and actual degrees0.0\n",
      "Predicted steering angle: 30.35499991693747 degrees and actual degrees-0.8131488985041582\n",
      "Predicted steering angle: 23.39043702028847 degrees and actual degrees-0.8131488985041582\n",
      "Predicted steering angle: 21.949139039368845 degrees and actual degrees-0.8131488985041582\n",
      "Predicted steering angle: 24.324337323240776 degrees and actual degrees-0.8131488985041582\n",
      "Predicted steering angle: 30.130727240445516 degrees and actual degrees-0.8131488985041582\n",
      "Predicted steering angle: 49.9876990823167 degrees and actual degrees-0.8131488985041582\n",
      "Predicted steering angle: 63.64633913919844 degrees and actual degrees-0.8131488985041582\n",
      "Predicted steering angle: 104.10008793270158 degrees and actual degrees-0.8131488985041582\n",
      "Predicted steering angle: 110.2615059603217 degrees and actual degrees-0.8131488985041582\n",
      "Predicted steering angle: 129.0163448173413 degrees and actual degrees-0.8131488985041582\n",
      "Predicted steering angle: 134.8236311968746 degrees and actual degrees-0.8131488985041582\n",
      "Predicted steering angle: 128.7501450246292 degrees and actual degrees-0.8131488985041582\n",
      "Predicted steering angle: 125.77832971675667 degrees and actual degrees-0.8131488985041582\n",
      "Predicted steering angle: 121.06026726454364 degrees and actual degrees-0.8131488985041582\n",
      "Predicted steering angle: 117.12249928349121 degrees and actual degrees-0.8131488985041582\n",
      "Predicted steering angle: 141.35565528885962 degrees and actual degrees-0.8131488985041582\n",
      "Predicted steering angle: 147.14006053467338 degrees and actual degrees-0.8131488985041582\n",
      "Predicted steering angle: 147.9913206713104 degrees and actual degrees-0.8114035692521638\n",
      "Predicted steering angle: 143.6414873776311 degrees and actual degrees-0.8114035692521638\n",
      "Predicted steering angle: 134.24571523082147 degrees and actual degrees-0.8096582400001695\n",
      "Predicted steering angle: 106.84709439423233 degrees and actual degrees-0.8025023900669926\n",
      "Predicted steering angle: 84.61867404234354 degrees and actual degrees-0.7902850853030323\n",
      "Predicted steering angle: 36.918955143292294 degrees and actual degrees-0.7778932476138727\n",
      "Predicted steering angle: 46.174599129089934 degrees and actual degrees-0.7637560806727186\n",
      "Predicted steering angle: 39.6899321537152 degrees and actual degrees-0.7567747636647413\n",
      "Predicted steering angle: 51.11416120099189 degrees and actual degrees-0.7532841051607526\n",
      "Predicted steering angle: 67.75359826450473 degrees and actual degrees-0.7532841051607526\n",
      "Predicted steering angle: 55.20534547608656 degrees and actual degrees-0.7532841051607526\n",
      "Predicted steering angle: 53.31200679287527 degrees and actual degrees-0.7532841051607526\n",
      "Predicted steering angle: 54.19009249747752 degrees and actual degrees-0.7532841051607526\n",
      "Predicted steering angle: 44.67775292719788 degrees and actual degrees-0.7532841051607526\n",
      "Predicted steering angle: 44.91129758548813 degrees and actual degrees-0.7532841051607526\n",
      "Predicted steering angle: 4.946194612472862 degrees and actual degrees-0.7515387759087583\n"
     ]
    },
    {
     "name": "stdout",
     "output_type": "stream",
     "text": [
      "Predicted steering angle: -8.540719547635941 degrees and actual degrees-0.7515387759087583\n",
      "Predicted steering angle: -11.210372409269004 degrees and actual degrees-0.7515387759087583\n",
      "Predicted steering angle: -13.100854365859934 degrees and actual degrees-0.7515387759087583\n",
      "Predicted steering angle: -17.70139316811914 degrees and actual degrees-0.7515387759087583\n",
      "Predicted steering angle: -23.634508707637 degrees and actual degrees-0.7515387759087583\n",
      "Predicted steering angle: -31.677522615737868 degrees and actual degrees-0.7515387759087583\n",
      "Predicted steering angle: -33.43916159137297 degrees and actual degrees-0.7515387759087583\n",
      "Predicted steering angle: -40.323343406774676 degrees and actual degrees-0.7515387759087583\n",
      "Predicted steering angle: -42.3003792280753 degrees and actual degrees-0.7515387759087583\n",
      "Predicted steering angle: -43.70440315914688 degrees and actual degrees-0.7515387759087583\n",
      "Predicted steering angle: -44.87011154479295 degrees and actual degrees-0.7515387759087583\n",
      "Predicted steering angle: -48.791681732228696 degrees and actual degrees-0.7515387759087583\n",
      "Predicted steering angle: -49.94564560759694 degrees and actual degrees-0.7515387759087583\n",
      "Predicted steering angle: -49.39234905840713 degrees and actual degrees-0.7515387759087583\n",
      "Predicted steering angle: -52.40182602936313 degrees and actual degrees-0.7515387759087583\n",
      "Predicted steering angle: -53.59721158695291 degrees and actual degrees-0.7515387759087583\n",
      "Predicted steering angle: -55.59044520187022 degrees and actual degrees-0.7515387759087583\n",
      "Predicted steering angle: -55.93211516981635 degrees and actual degrees-0.7515387759087583\n",
      "Predicted steering angle: -56.833905045933136 degrees and actual degrees-0.7480481174047696\n",
      "Predicted steering angle: -56.439051810014696 degrees and actual degrees-0.7408922674715929\n",
      "Predicted steering angle: -56.100404200776296 degrees and actual degrees-0.7234389749516497\n",
      "Predicted steering angle: -56.78548241981233 degrees and actual degrees-0.7093018080104956\n",
      "Predicted steering angle: -55.99407864596671 degrees and actual degrees-0.6986552995733302\n",
      "Predicted steering angle: -54.0197714852395 degrees and actual degrees-0.6951646410693415\n",
      "Predicted steering angle: -48.26957182678917 degrees and actual degrees0.0\n",
      "Predicted steering angle: -45.56532917965187 degrees and actual degrees-0.6951646410693415\n",
      "Predicted steering angle: -41.28073785292453 degrees and actual degrees-0.6916739825653528\n",
      "Predicted steering angle: -39.13006154744926 degrees and actual degrees-0.6864379948093697\n",
      "Predicted steering angle: -35.97134494312848 degrees and actual degrees-0.6792821448761931\n",
      "Predicted steering angle: -33.8333557140365 degrees and actual degrees-0.6705554986162214\n",
      "Predicted steering angle: -28.11430342574872 degrees and actual degrees-0.6600835231042554\n",
      "Predicted steering angle: -26.36982359285598 degrees and actual degrees-0.6511823439190844\n",
      "Predicted steering angle: -22.657757505379326 degrees and actual degrees-0.6407103684071184\n",
      "Predicted steering angle: -19.883406381506433 degrees and actual degrees-0.638965039155124\n",
      "Predicted steering angle: -14.598527020641557 degrees and actual degrees-0.6370451769779303\n",
      "Predicted steering angle: -13.551002251977856 degrees and actual degrees0.0\n",
      "Predicted steering angle: -12.590635819765398 degrees and actual degrees-0.6370451769779303\n",
      "Predicted steering angle: -9.642056815449234 degrees and actual degrees-0.635299847725936\n",
      "Predicted steering angle: -7.727075824079112 degrees and actual degrees-0.635299847725936\n",
      "Predicted steering angle: -3.7208834348083157 degrees and actual degrees-0.635299847725936\n",
      "Predicted steering angle: -2.0844650919914063 degrees and actual degrees-0.635299847725936\n",
      "Predicted steering angle: -1.1901478697134396 degrees and actual degrees-0.630063859969953\n",
      "Predicted steering angle: -0.044977059153745114 degrees and actual degrees-0.6265732014659643\n",
      "Predicted steering angle: 0.06711172456714617 degrees and actual degrees-0.6265732014659643\n",
      "Predicted steering angle: 0.5851600219981521 degrees and actual degrees-0.6265732014659643\n",
      "Predicted steering angle: 1.318687440859731 degrees and actual degrees-0.6265732014659643\n",
      "Predicted steering angle: 1.9638166304923008 degrees and actual degrees-0.6265732014659643\n",
      "Predicted steering angle: 3.6353037258289946 degrees and actual degrees-0.6265732014659643\n",
      "Predicted steering angle: 4.791491254658896 degrees and actual degrees-0.6265732014659643\n",
      "Predicted steering angle: 6.555052074771712 degrees and actual degrees-0.62482787221397\n",
      "Predicted steering angle: 7.693864883013571 degrees and actual degrees-0.62482787221397\n",
      "Predicted steering angle: 12.512936441540978 degrees and actual degrees-0.62482787221397\n",
      "Predicted steering angle: 14.692546282114074 degrees and actual degrees-0.62482787221397\n",
      "Predicted steering angle: 15.843067742140628 degrees and actual degrees-0.6230825429619757\n",
      "Predicted steering angle: 20.803198928728076 degrees and actual degrees-0.6124360345248103\n",
      "Predicted steering angle: 20.941455617907476 degrees and actual degrees-0.5895722213236845\n",
      "Predicted steering angle: 20.015737881580844 degrees and actual degrees-0.5632177496185702\n",
      "Predicted steering angle: 19.431498867903585 degrees and actual degrees-0.5227261109723017\n",
      "Predicted steering angle: 20.367060614371496 degrees and actual degrees-0.4892157893340106\n",
      "Predicted steering angle: 23.653259284455977 degrees and actual degrees-0.45238934211693027\n",
      "Predicted steering angle: 25.574456601744455 degrees and actual degrees-0.4347615166717875\n",
      "Predicted steering angle: 28.512479548698366 degrees and actual degrees-0.4295255289158045\n",
      "Predicted steering angle: 35.09038372888565 degrees and actual degrees-0.43301618741979314\n",
      "Predicted steering angle: 37.526268243533146 degrees and actual degrees-0.44348816293175913\n",
      "Predicted steering angle: 51.49839690784554 degrees and actual degrees-0.4469788214357478\n",
      "Predicted steering angle: 57.64346346259265 degrees and actual degrees-0.44872415068774213\n",
      "Predicted steering angle: 53.61497007879494 degrees and actual degrees-0.44872415068774213\n",
      "Predicted steering angle: 51.29862070481184 degrees and actual degrees-0.44872415068774213\n",
      "Predicted steering angle: 47.29346266231347 degrees and actual degrees0.0\n",
      "Predicted steering angle: 44.46046753422685 degrees and actual degrees-0.44872415068774213\n",
      "Predicted steering angle: 54.55767620313468 degrees and actual degrees0.0\n",
      "Predicted steering angle: 75.86280182830491 degrees and actual degrees-0.44872415068774213\n",
      "Predicted steering angle: 80.39281551228915 degrees and actual degrees-0.4541346713689245\n",
      "Predicted steering angle: 91.43670547563367 degrees and actual degrees-0.4541346713689245\n",
      "Predicted steering angle: 103.2614363252724 degrees and actual degrees-0.4541346713689245\n",
      "Predicted steering angle: 112.30550837133971 degrees and actual degrees-0.45238934211693027\n",
      "Predicted steering angle: 117.26279136904327 degrees and actual degrees-0.45238934211693027\n",
      "Predicted steering angle: 119.91435276711226 degrees and actual degrees-0.4558800006209189\n",
      "Predicted steering angle: 131.16263614136943 degrees and actual degrees-0.4558800006209189\n",
      "Predicted steering angle: 131.21170422036678 degrees and actual degrees-0.45238934211693027\n",
      "Predicted steering angle: 128.5949904474432 degrees and actual degrees-0.44872415068774213\n",
      "Predicted steering angle: 120.40612638735318 degrees and actual degrees-0.44872415068774213\n",
      "Predicted steering angle: 103.36948308775283 degrees and actual degrees0.0\n",
      "Predicted steering angle: 62.49666803772355 degrees and actual degrees-0.4399975044277705\n",
      "Predicted steering angle: 42.235014317718274 degrees and actual degrees-0.4153883619746504\n",
      "Predicted steering angle: 31.793861227870696 degrees and actual degrees-0.39426987802551905\n",
      "Predicted steering angle: 16.78979684790151 degrees and actual degrees-0.38013271108436497\n",
      "Predicted steering angle: 30.6572426178997 degrees and actual degrees-0.37140606482439337\n",
      "Predicted steering angle: 30.450161527548673 degrees and actual degrees-0.36250488563922223\n",
      "Predicted steering angle: 28.72711312072414 degrees and actual degrees-0.35028758087526196\n",
      "Predicted steering angle: 26.371095715588893 degrees and actual degrees-0.3361504139341079\n",
      "Predicted steering angle: 14.162906946888251 degrees and actual degrees-0.31852258848896514\n",
      "Predicted steering angle: 16.623423685003754 degrees and actual degrees-0.2886774582798621\n",
      "Predicted steering angle: 18.23578887632823 degrees and actual degrees-0.24993114888558798\n"
     ]
    },
    {
     "name": "stdout",
     "output_type": "stream",
     "text": [
      "Predicted steering angle: 18.35128566764585 degrees and actual degrees-0.21642082724729686\n",
      "Predicted steering angle: 17.61922769995118 degrees and actual degrees-0.18133970928221083\n",
      "Predicted steering angle: 18.42788965428213 degrees and actual degrees-0.16196655458507378\n",
      "Predicted steering angle: 18.71200332563986 degrees and actual degrees-0.15132004614790837\n",
      "Predicted steering angle: 20.891105170893432 degrees and actual degrees-0.15132004614790837\n",
      "Predicted steering angle: 22.203343312351084 degrees and actual degrees0.0\n",
      "Predicted steering angle: 24.760496128164867 degrees and actual degrees-0.14608405839192537\n",
      "Predicted steering angle: 26.03220221954037 degrees and actual degrees-0.14433872913993104\n",
      "Predicted steering angle: 26.840047966265505 degrees and actual degrees-0.14433872913993104\n",
      "Predicted steering angle: 28.08096868750447 degrees and actual degrees-0.14433872913993104\n",
      "Predicted steering angle: 28.505704001041714 degrees and actual degrees-0.14433872913993104\n",
      "Predicted steering angle: 34.65712092416965 degrees and actual degrees-0.14433872913993104\n",
      "Predicted steering angle: 38.43582062964165 degrees and actual degrees-0.14433872913993104\n",
      "Predicted steering angle: 80.73032931012533 degrees and actual degrees-0.14433872913993104\n",
      "Predicted steering angle: 84.39905613977095 degrees and actual degrees-0.1425933998879367\n",
      "Predicted steering angle: 72.82993828963079 degrees and actual degrees-0.13910274138394804\n",
      "Predicted steering angle: 41.08235500848151 degrees and actual degrees-0.13910274138394804\n",
      "Predicted steering angle: 30.01724023229117 degrees and actual degrees-0.13910274138394804\n",
      "Predicted steering angle: 28.702565420847115 degrees and actual degrees-0.13910274138394804\n",
      "Predicted steering angle: 30.037327818640176 degrees and actual degrees-0.13910274138394804\n",
      "Predicted steering angle: 27.910548637523483 degrees and actual degrees-0.16196655458507378\n",
      "Predicted steering angle: 29.990042419016177 degrees and actual degrees-0.1706932008450454\n",
      "Predicted steering angle: 34.18322190898665 degrees and actual degrees-0.17243853009703977\n",
      "Predicted steering angle: 34.48763319501036 degrees and actual degrees-0.1759291886010284\n",
      "Predicted steering angle: 34.01415423646132 degrees and actual degrees-0.18308503853420516\n",
      "Predicted steering angle: 34.076271391868005 degrees and actual degrees-0.19006635554218249\n",
      "Predicted steering angle: 36.431679202619826 degrees and actual degrees-0.19006635554218249\n",
      "Predicted steering angle: 38.00193286261659 degrees and actual degrees-0.19006635554218249\n",
      "Predicted steering angle: 41.87810961282843 degrees and actual degrees-0.19006635554218249\n",
      "Predicted steering angle: 53.59234507716928 degrees and actual degrees-0.19181168479417682\n",
      "Predicted steering angle: 63.94903946283507 degrees and actual degrees-0.19181168479417682\n",
      "Predicted steering angle: 68.68277719919327 degrees and actual degrees0.0\n",
      "Predicted steering angle: 89.7237350129295 degrees and actual degrees-0.18133970928221083\n",
      "Predicted steering angle: 83.13236340724623 degrees and actual degrees-0.1795943800302165\n",
      "Predicted steering angle: 65.16030521024513 degrees and actual degrees-0.17767451785302274\n",
      "Predicted steering angle: 61.1998268502024 degrees and actual degrees-0.1759291886010284\n",
      "Predicted steering angle: 60.450719022792086 degrees and actual degrees-0.16720254234105678\n",
      "Predicted steering angle: 57.73933882797212 degrees and actual degrees-0.15847589608108512\n",
      "Predicted steering angle: 56.85829565145925 degrees and actual degrees-0.1478293876439197\n",
      "Predicted steering angle: 53.503392108513616 degrees and actual degrees-0.1425933998879367\n",
      "Predicted steering angle: 52.18680825919654 degrees and actual degrees-0.13910274138394804\n",
      "Predicted steering angle: 51.86214204718915 degrees and actual degrees-0.12845623294678266\n",
      "Predicted steering angle: 50.97505756835541 degrees and actual degrees-0.11082840750163991\n",
      "Predicted steering angle: 53.80477762073501 degrees and actual degrees-0.0757472895365539\n",
      "Predicted steering angle: 57.98089529815879 degrees and actual degrees-0.045727626402251434\n",
      "Predicted steering angle: 61.98176739695297 degrees and actual degrees-0.035255650890285456\n",
      "Predicted steering angle: 61.20908858671694 degrees and actual degrees-0.029845130209103034\n",
      "Predicted steering angle: 51.19256835756905 degrees and actual degrees-0.02809980095710871\n",
      "Predicted steering angle: 51.402330297169314 degrees and actual degrees-0.024609142453120045\n",
      "Predicted steering angle: 50.4611199842578 degrees and actual degrees-0.022863813201125717\n",
      "Predicted steering angle: 49.472094932061616 degrees and actual degrees-0.022863813201125717\n",
      "Predicted steering angle: 50.78265113943615 degrees and actual degrees-0.021118483949131385\n",
      "Predicted steering angle: 47.54116288765857 degrees and actual degrees-0.021118483949131385\n",
      "Predicted steering angle: 47.380383649691055 degrees and actual degrees-0.021118483949131385\n",
      "Predicted steering angle: 46.922877088516096 degrees and actual degrees-0.0158824961931484\n",
      "Predicted steering angle: 45.53252036597371 degrees and actual degrees-0.01064650843716541\n",
      "Predicted steering angle: 46.39929186221584 degrees and actual degrees-0.01064650843716541\n",
      "Predicted steering angle: 44.950219418473445 degrees and actual degrees-0.006981317007977318\n",
      "Predicted steering angle: 44.92114671827129 degrees and actual degrees-0.003490658503988659\n",
      "Predicted steering angle: 44.515853538206485 degrees and actual degrees-0.0017453292519943296\n",
      "Predicted steering angle: 44.77290087743074 degrees and actual degrees0.0017453292519943296\n",
      "Predicted steering angle: 43.379098324452094 degrees and actual degrees0.006981317007977318\n",
      "Predicted steering angle: 42.760184147905974 degrees and actual degrees0.017627825445142728\n",
      "Predicted steering angle: 42.088247212833046 degrees and actual degrees0.029845130209103034\n",
      "Predicted steering angle: 44.249585443602705 degrees and actual degrees0.04223696789826277\n",
      "Predicted steering angle: 43.61680598304146 degrees and actual degrees0.052883476335428184\n",
      "Predicted steering angle: 45.102351636951724 degrees and actual degrees0.05462880558742251\n",
      "Predicted steering angle: 45.426167490407444 degrees and actual degrees0.05637413483941684\n",
      "Predicted steering angle: 46.17434641209064 degrees and actual degrees0.05986479334340551\n",
      "Predicted steering angle: 48.077353228072084 degrees and actual degrees0.0651007810993885\n",
      "Predicted steering angle: 47.95514406834763 degrees and actual degrees0.06684611035138281\n",
      "Predicted steering angle: 48.83563399953773 degrees and actual degrees0.06684611035138281\n",
      "Predicted steering angle: 48.26766620401074 degrees and actual degrees0.06684611035138281\n",
      "Predicted steering angle: 44.4940754800379 degrees and actual degrees0.06684611035138281\n",
      "Predicted steering angle: 44.313119863262166 degrees and actual degrees0.0651007810993885\n",
      "Predicted steering angle: 44.22537925318418 degrees and actual degrees0.06335545184739416\n",
      "Predicted steering angle: 43.08882211491572 degrees and actual degrees0.05811946409141117\n",
      "Predicted steering angle: 41.80814115497082 degrees and actual degrees0.05637413483941684\n",
      "Predicted steering angle: 38.95144868555884 degrees and actual degrees0.05637413483941684\n",
      "Predicted steering angle: 38.239667841962635 degrees and actual degrees0.052883476335428184\n",
      "Predicted steering angle: 44.139783322505586 degrees and actual degrees0.0439822971502571\n",
      "Predicted steering angle: 45.19387617182989 degrees and actual degrees0.04223696789826277\n",
      "Predicted steering angle: 43.0517922443305 degrees and actual degrees0.040491638646268445\n",
      "Predicted steering angle: 34.63639471513324 degrees and actual degrees0.03874630939427412\n",
      "Predicted steering angle: 6.410227731818524 degrees and actual degrees0.03874630939427412\n",
      "Predicted steering angle: -10.627157923967246 degrees and actual degrees0.0439822971502571\n",
      "Predicted steering angle: -24.346444938036818 degrees and actual degrees0.04747295565424577\n",
      "Predicted steering angle: -10.870205082940274 degrees and actual degrees0.04747295565424577\n",
      "Predicted steering angle: -4.435685356451776 degrees and actual degrees0.04747295565424577\n",
      "Predicted steering angle: -1.322716612139804 degrees and actual degrees0.04747295565424577\n",
      "Predicted steering angle: -2.6566281177726703 degrees and actual degrees0.04747295565424577\n",
      "Predicted steering angle: -5.821574708390145 degrees and actual degrees0.05096361415823442\n",
      "Predicted steering angle: 16.572217756796167 degrees and actual degrees0.052883476335428184\n"
     ]
    },
    {
     "name": "stdout",
     "output_type": "stream",
     "text": [
      "Predicted steering angle: 36.8256820799866 degrees and actual degrees0.052883476335428184\n",
      "Predicted steering angle: 43.331638755004256 degrees and actual degrees0.052883476335428184\n",
      "Predicted steering angle: 49.01458495579206 degrees and actual degrees0.052883476335428184\n",
      "Predicted steering angle: 52.02454345508455 degrees and actual degrees0.052883476335428184\n",
      "Predicted steering angle: 57.28107753089387 degrees and actual degrees0.052883476335428184\n",
      "Predicted steering angle: 57.63461153742831 degrees and actual degrees0.052883476335428184\n",
      "Predicted steering angle: 56.66485444888073 degrees and actual degrees0.052883476335428184\n",
      "Predicted steering angle: 58.17173761375812 degrees and actual degrees0.052883476335428184\n",
      "Predicted steering angle: 59.267887352896786 degrees and actual degrees0.052883476335428184\n",
      "Predicted steering angle: 55.408789490704564 degrees and actual degrees0.052883476335428184\n",
      "Predicted steering angle: 55.08622356186695 degrees and actual degrees0.05462880558742251\n",
      "Predicted steering angle: 56.65768275025222 degrees and actual degrees0.05811946409141117\n",
      "Predicted steering angle: 58.82678690610819 degrees and actual degrees0.0\n",
      "Predicted steering angle: 59.6080580943201 degrees and actual degrees0.08272860654453122\n",
      "Predicted steering angle: 59.292230147098714 degrees and actual degrees0.09512044423369097\n",
      "Predicted steering angle: 59.39540698470092 degrees and actual degrees0.11972958668681102\n",
      "Predicted steering angle: 60.23958421516865 degrees and actual degrees0.13910274138394804\n",
      "Predicted steering angle: 58.04115805720581 degrees and actual degrees0.1478293876439197\n",
      "Predicted steering angle: 56.098314162890276 degrees and actual degrees0.14957471689591406\n",
      "Predicted steering angle: 50.15904462293023 degrees and actual degrees0.14957471689591406\n",
      "Predicted steering angle: 58.47317435239829 degrees and actual degrees0.1530653753999027\n",
      "Predicted steering angle: 57.27517966254556 degrees and actual degrees0.154810704651897\n",
      "Predicted steering angle: 38.426172987439 degrees and actual degrees0.15655603390389136\n",
      "Predicted steering angle: 31.235605961343456 degrees and actual degrees0.16196655458507378\n",
      "Predicted steering angle: 15.685249391178312 degrees and actual degrees0.16894787159305108\n",
      "Predicted steering angle: 11.443018897683393 degrees and actual degrees0.1706932008450454\n",
      "Predicted steering angle: 5.050761820457995 degrees and actual degrees0.1706932008450454\n",
      "Predicted steering angle: 3.8858414678874094 degrees and actual degrees0.1706932008450454\n",
      "Predicted steering angle: 8.095083001464813 degrees and actual degrees0.0\n",
      "Predicted steering angle: 17.221184765690346 degrees and actual degrees0.1706932008450454\n",
      "Predicted steering angle: 25.674156873059133 degrees and actual degrees0.1706932008450454\n",
      "Predicted steering angle: 34.930267019267625 degrees and actual degrees0.17243853009703977\n",
      "Predicted steering angle: 39.86482256250796 degrees and actual degrees0.16545721308906244\n",
      "Predicted steering angle: 45.53817917770107 degrees and actual degrees0.16196655458507378\n",
      "Predicted steering angle: 48.29168456422708 degrees and actual degrees0.15847589608108512\n",
      "Predicted steering angle: 49.10927186825595 degrees and actual degrees0.15847589608108512\n",
      "Predicted steering angle: 55.132624451993436 degrees and actual degrees0.15847589608108512\n",
      "Predicted steering angle: 57.480529299942 degrees and actual degrees0.154810704651897\n",
      "Predicted steering angle: 61.99200585051882 degrees and actual degrees0.1530653753999027\n",
      "Predicted steering angle: 62.70204499587667 degrees and actual degrees0.1530653753999027\n",
      "Predicted steering angle: 62.90289353861006 degrees and actual degrees0.15655603390389136\n",
      "Predicted steering angle: 62.45645871407969 degrees and actual degrees0.16545721308906244\n",
      "Predicted steering angle: 62.42719135348618 degrees and actual degrees0.18308503853420516\n",
      "Predicted steering angle: 63.3323211921071 degrees and actual degrees0.19530234329816545\n",
      "Predicted steering angle: 61.95321720622232 degrees and actual degrees0.20245819323134223\n",
      "Predicted steering angle: 51.71686392354298 degrees and actual degrees0.20420352248333654\n",
      "Predicted steering angle: 48.7965789778636 degrees and actual degrees0.2059488517353309\n",
      "Predicted steering angle: 42.50658605421257 degrees and actual degrees0.2111848394913139\n",
      "Predicted steering angle: 42.0649562677633 degrees and actual degrees0.2111848394913139\n",
      "Predicted steering angle: 53.21405504998812 degrees and actual degrees0.21293016874330817\n",
      "Predicted steering angle: 56.42640912986101 degrees and actual degrees0.21467549799530256\n",
      "Predicted steering angle: 56.744555926305615 degrees and actual degrees0.21642082724729686\n",
      "Predicted steering angle: 52.639233159629015 degrees and actual degrees0.22706733568446225\n",
      "Predicted steering angle: 54.16134081616636 degrees and actual degrees0.23404865269243957\n",
      "Predicted steering angle: 44.354756696442564 degrees and actual degrees0.23404865269243957\n",
      "Predicted steering angle: 45.664452299981676 degrees and actual degrees0.23753931119642827\n",
      "Predicted steering angle: 34.503383611236416 degrees and actual degrees0.23753931119642827\n",
      "Predicted steering angle: 26.008702953700944 degrees and actual degrees0.23753931119642827\n",
      "Predicted steering angle: 21.700270851675675 degrees and actual degrees0.23753931119642827\n",
      "Predicted steering angle: 13.090357218879271 degrees and actual degrees0.23753931119642827\n",
      "Predicted steering angle: -19.7406246920019 degrees and actual degrees0.23753931119642827\n",
      "Predicted steering angle: -30.647939900250144 degrees and actual degrees0.23753931119642827\n",
      "Predicted steering angle: -38.823993940551816 degrees and actual degrees0.23753931119642827\n",
      "Predicted steering angle: -48.19238727407344 degrees and actual degrees0.23753931119642827\n",
      "Predicted steering angle: -62.900946934696606 degrees and actual degrees0.2288126649364566\n",
      "Predicted steering angle: -62.69516016519329 degrees and actual degrees0.2235766771804736\n",
      "Predicted steering angle: -64.00058007031198 degrees and actual degrees0.2235766771804736\n",
      "Predicted steering angle: -64.11502672004471 degrees and actual degrees0.22183134792847928\n",
      "Predicted steering angle: -64.94055753407831 degrees and actual degrees0.22706733568446225\n",
      "Predicted steering angle: -67.56849330780823 degrees and actual degrees0.22706733568446225\n",
      "Predicted steering angle: -65.96054383378215 degrees and actual degrees0.2288126649364566\n",
      "Predicted steering angle: -64.62957219097845 degrees and actual degrees0.2235766771804736\n",
      "Predicted steering angle: -64.0653780749679 degrees and actual degrees0.20245819323134223\n",
      "Predicted steering angle: -62.777648359799535 degrees and actual degrees0.1759291886010284\n",
      "Predicted steering angle: -59.66175021138557 degrees and actual degrees0.16371188383706814\n",
      "Predicted steering angle: -56.0874883130558 degrees and actual degrees0.16022122533307945\n",
      "Predicted steering angle: -49.22367412175908 degrees and actual degrees0.16022122533307945\n",
      "Predicted steering angle: -45.641031581317705 degrees and actual degrees0.15655603390389136\n",
      "Predicted steering angle: -37.55428909460312 degrees and actual degrees0.1530653753999027\n",
      "Predicted steering angle: -34.55594191689966 degrees and actual degrees0.0\n",
      "Predicted steering angle: -31.468710072432238 degrees and actual degrees0.1530653753999027\n",
      "Predicted steering angle: -37.671573687936 degrees and actual degrees0.15132004614790837\n",
      "Predicted steering angle: -46.164722675550095 degrees and actual degrees0.14608405839192537\n",
      "Predicted steering angle: -46.75873056728776 degrees and actual degrees0.13735741213195374\n",
      "Predicted steering angle: -48.41970621493522 degrees and actual degrees0.13543754995475998\n",
      "Predicted steering angle: -33.79522959808949 degrees and actual degrees0.1319468914507713\n",
      "Predicted steering angle: -18.515739547386833 degrees and actual degrees0.0\n",
      "Predicted steering angle: -13.624981738425557 degrees and actual degrees0.11431906600562858\n",
      "Predicted steering angle: -12.617641533969982 degrees and actual degrees0.1038470904936626\n",
      "Predicted steering angle: -11.627101887325345 degrees and actual degrees0.10035643198967394\n",
      "Predicted steering angle: 2.99897235345593 degrees and actual degrees0.10035643198967394\n",
      "Predicted steering angle: 11.47233150828015 degrees and actual degrees0.11431906600562858\n",
      "Predicted steering angle: 22.385096353712417 degrees and actual degrees0.12496557444279399\n"
     ]
    },
    {
     "name": "stdout",
     "output_type": "stream",
     "text": [
      "Predicted steering angle: 35.14866231797878 degrees and actual degrees0.12671090369478832\n",
      "Predicted steering angle: 38.975169932546294 degrees and actual degrees0.12845623294678266\n",
      "Predicted steering angle: 44.31503914641894 degrees and actual degrees0.1319468914507713\n",
      "Predicted steering angle: 47.76949269651752 degrees and actual degrees0.1408480706359424\n",
      "Predicted steering angle: 48.87115781341097 degrees and actual degrees0.1530653753999027\n",
      "Predicted steering angle: 51.23338215295446 degrees and actual degrees0.1706932008450454\n",
      "Predicted steering angle: 49.38899885061924 degrees and actual degrees0.1865756970381938\n",
      "Predicted steering angle: 45.01770168747317 degrees and actual degrees0.19879300180215415\n",
      "Predicted steering angle: 46.23281283138595 degrees and actual degrees0.19879300180215415\n",
      "Predicted steering angle: 51.62095440721767 degrees and actual degrees0.19355701404617112\n",
      "Predicted steering angle: 56.69916248908171 degrees and actual degrees0.18832102629018815\n",
      "Predicted steering angle: 52.77390399949416 degrees and actual degrees0.18832102629018815\n",
      "Predicted steering angle: 49.0373533913903 degrees and actual degrees0.18832102629018815\n",
      "Predicted steering angle: 46.733895999465595 degrees and actual degrees0.18832102629018815\n",
      "Predicted steering angle: 45.703111170683954 degrees and actual degrees0.1795943800302165\n",
      "Predicted steering angle: 44.57110976859189 degrees and actual degrees0.15655603390389136\n",
      "Predicted steering angle: 44.957456003899075 degrees and actual degrees0.10733774899765128\n",
      "Predicted steering angle: 44.847302128059695 degrees and actual degrees0.06859143960337716\n",
      "Predicted steering angle: 44.7290886289997 degrees and actual degrees0.05637413483941684\n",
      "Predicted steering angle: 45.960599057109675 degrees and actual degrees0.07033676885537149\n",
      "Predicted steering angle: 46.92514129622595 degrees and actual degrees0.0757472895365539\n",
      "Predicted steering angle: 50.546213896032405 degrees and actual degrees0.07749261878854824\n",
      "Predicted steering angle: 51.15745093995143 degrees and actual degrees0.08098327729253689\n"
     ]
    }
   ],
   "source": [
    "import tensorflow as tf\n",
    "import scipy.misc\n",
    "import model\n",
    "import cv2\n",
    "from subprocess import call\n",
    "\n",
    "sess = tf.InteractiveSession()\n",
    "saver = tf.train.Saver()\n",
    "saver.restore(sess, \"save/model.ckpt\")\n",
    "\n",
    "img = cv2.imread('steering_wheel_image.jpg',0)\n",
    "rows,cols = img.shape\n",
    "\n",
    "smoothed_angle = 0\n",
    "\n",
    "cap = cv2.VideoCapture(0)\n",
    "i = 0;\n",
    "while(cv2.waitKey(10) != ord('q')):\n",
    "    frame = cv2.imread(val_xs[i])\n",
    "    image = scipy.misc.imresize(frame, [66, 200]) / 255.0\n",
    "    degrees = model.y.eval(feed_dict={model.x: [image], model.keep_prob: 1.0})[0][0] * 180 / scipy.pi\n",
    "#     call(\"clear\")\n",
    "    print(\"Predicted steering angle: \" + str(degrees) + \" degrees and actual degrees\"+str(val_ys[i]))\n",
    "    cv2.imshow('frame', frame)\n",
    "    #make smooth angle transitions by turning the steering wheel based on the difference of the current angle\n",
    "    #and the predicted angle\n",
    "    smoothed_angle += 0.2 * pow(abs((degrees - smoothed_angle)), 2.0 / 3.0) * (degrees - smoothed_angle) / abs(degrees - smoothed_angle)\n",
    "    M = cv2.getRotationMatrix2D((cols/2,rows/2),-smoothed_angle,1)\n",
    "    dst = cv2.warpAffine(img,M,(cols,rows))\n",
    "    cv2.imshow(\"steering wheel\", dst)\n",
    "    i+=1\n",
    "\n",
    "cap.release()\n",
    "cv2.destroyAllWindows()\n",
    "\n"
   ]
  },
  {
   "cell_type": "code",
   "execution_count": 14,
   "metadata": {},
   "outputs": [
    {
     "data": {
      "text/plain": [
       "'driving_dataset/31785.jpg'"
      ]
     },
     "execution_count": 14,
     "metadata": {},
     "output_type": "execute_result"
    }
   ],
   "source": [
    "# len(val_xs)\n",
    "val_xs[0]"
   ]
  },
  {
   "cell_type": "code",
   "execution_count": 4,
   "metadata": {},
   "outputs": [],
   "source": [
    "import tensorflow as tf\n",
    "import scipy.misc\n",
    "import model\n",
    "import cv2\n",
    "from subprocess import call\n",
    "cap = cv2.VideoCapture(0)\n",
    "i = 0;\n",
    "while(cv2.waitKey(10) != ord('q')):\n",
    "#     ret, frame = cap.read(val_xs[i], )\n",
    "    frame = cv2.imread(val_xs[i])\n",
    "    cv2.imshow('image',frame)\n",
    "#     cv2.waitKey()\n",
    "    i+=1\n",
    "    \n",
    "# ret, frame = cap.read()\n",
    "# image = scipy.misc.imresize(frame, [66, 200]) / 255.0\n",
    "\n",
    "cap.release()\n",
    "cv2.destroyAllWindows()"
   ]
  },
  {
   "cell_type": "code",
   "execution_count": 5,
   "metadata": {},
   "outputs": [
    {
     "name": "stdout",
     "output_type": "stream",
     "text": [
      "Help on built-in function ord in module builtins:\n",
      "\n",
      "ord(c, /)\n",
      "    Return the Unicode code point for a one-character string.\n",
      "\n"
     ]
    }
   ],
   "source": [
    "help(ord)"
   ]
  },
  {
   "cell_type": "code",
   "execution_count": null,
   "metadata": {},
   "outputs": [],
   "source": [
    "#sigmoid will stuck 2.6085273643165015\n"
   ]
  },
  {
   "cell_type": "code",
   "execution_count": 5,
   "metadata": {},
   "outputs": [],
   "source": [
    "import numpy as np\n",
    "import cv2\n",
    "\n",
    "cap = cv2.VideoCapture(0)\n",
    "\n",
    "while(True):\n",
    "    # Capture frame-by-frame\n",
    "    ret, frame = cap.read()\n",
    "\n",
    "    # Our operations on the frame come here\n",
    "    gray = cv2.cvtColor(frame, cv2.COLOR_BGR2GRAY)\n",
    "\n",
    "    # Display the resulting frame\n",
    "    cv2.imshow('frame',gray)\n",
    "    if cv2.waitKey(1) & 0xFF == ord('q'):\n",
    "        break\n",
    "\n",
    "# When everything done, release the capture\n",
    "cap.release()\n",
    "cv2.destroyAllWindows()"
   ]
  },
  {
   "cell_type": "code",
   "execution_count": null,
   "metadata": {},
   "outputs": [],
   "source": [
    "# cap.release()\n",
    "cv2.destroyAllWindows()"
   ]
  },
  {
   "cell_type": "code",
   "execution_count": null,
   "metadata": {},
   "outputs": [],
   "source": []
  }
 ],
 "metadata": {
  "kernelspec": {
   "display_name": "Python 3",
   "language": "python",
   "name": "python3"
  },
  "language_info": {
   "codemirror_mode": {
    "name": "ipython",
    "version": 3
   },
   "file_extension": ".py",
   "mimetype": "text/x-python",
   "name": "python",
   "nbconvert_exporter": "python",
   "pygments_lexer": "ipython3",
   "version": "3.7.3"
  }
 },
 "nbformat": 4,
 "nbformat_minor": 2
}
